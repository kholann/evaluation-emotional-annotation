{
 "cells": [
  {
   "cell_type": "markdown",
   "id": "809bc569",
   "metadata": {},
   "source": [
    "Классические алгоритмы машинного обучения \n",
    "\n",
    "Используем мешок слов."
   ]
  },
  {
   "cell_type": "code",
   "execution_count": 600,
   "id": "c660ef39",
   "metadata": {},
   "outputs": [],
   "source": [
    "import pandas as pd\n",
    "from sklearn.linear_model import LogisticRegression\n",
    "from sklearn.svm import SVC\n",
    "from sklearn.svm import LinearSVC\n",
    "from sklearn.ensemble import RandomForestClassifier\n",
    "from sklearn.tree import DecisionTreeClassifier\n",
    "from sklearn.model_selection import train_test_split\n",
    "from collections import Counter\n",
    "from sklearn.metrics import f1_score, accuracy_score\n",
    "import sklearn\n",
    "from sklearn.model_selection import cross_val_score\n",
    "from sklearn import metrics\n",
    "from sklearn.naive_bayes import GaussianNB\n",
    "from sklearn.ensemble import GradientBoostingClassifier"
   ]
  },
  {
   "cell_type": "markdown",
   "id": "e97d9b76",
   "metadata": {},
   "source": [
    "Константы"
   ]
  },
  {
   "cell_type": "code",
   "execution_count": 11,
   "id": "01199647",
   "metadata": {},
   "outputs": [],
   "source": [
    "max_words = 10000\n",
    "random_state = 42"
   ]
  },
  {
   "cell_type": "code",
   "execution_count": 602,
   "id": "6be3f535",
   "metadata": {},
   "outputs": [],
   "source": [
    "emoji_dict = {\"0\":\"smile positive/negative\", \"1\":\"no_emotion neutral/skeptical\", \"2\":\"joy positive\",\n",
    "              \"3\":\"no_emotion positive/negative\", \"4\":\"sadness negative\", \"5\":\"fear negative\",\n",
    "              \"6\":\"shame negative\",\"7\":\"anger negative\", \"8\":\"disgust negative\",\n",
    "              \"9\":\"surprise positive/negative\",\"10\":\"disgust neutral/skeptical\", \"11\":\"surprise negative\",\n",
    "              \"12\":\"no_emotion negative\",\"13\":\"sadness positive/negative\", \"14\":\"fear positive/negative\"}"
   ]
  },
  {
   "cell_type": "code",
   "execution_count": 603,
   "id": "b9a6d2f6",
   "metadata": {},
   "outputs": [
    {
     "data": {
      "text/plain": [
       "'smile positive/negative'"
      ]
     },
     "execution_count": 603,
     "metadata": {},
     "output_type": "execute_result"
    }
   ],
   "source": [
    "emoji_dict[\"0\"]"
   ]
  },
  {
   "cell_type": "markdown",
   "id": "bbafbee5",
   "metadata": {},
   "source": [
    "## Загружаем и готовим набор данных"
   ]
  },
  {
   "cell_type": "code",
   "execution_count": 2,
   "id": "dddf6514",
   "metadata": {},
   "outputs": [],
   "source": [
    "df_em_1_token_10 = pd.read_csv('df_em_1_token_10.csv', sep=\";\")"
   ]
  },
  {
   "cell_type": "code",
   "execution_count": 3,
   "id": "63212910",
   "metadata": {},
   "outputs": [
    {
     "data": {
      "text/html": [
       "<div>\n",
       "<style scoped>\n",
       "    .dataframe tbody tr th:only-of-type {\n",
       "        vertical-align: middle;\n",
       "    }\n",
       "\n",
       "    .dataframe tbody tr th {\n",
       "        vertical-align: top;\n",
       "    }\n",
       "\n",
       "    .dataframe thead th {\n",
       "        text-align: right;\n",
       "    }\n",
       "</style>\n",
       "<table border=\"1\" class=\"dataframe\">\n",
       "  <thead>\n",
       "    <tr style=\"text-align: right;\">\n",
       "      <th></th>\n",
       "      <th>img_emoji</th>\n",
       "      <th>word_count</th>\n",
       "      <th>count_emoji</th>\n",
       "      <th>emotion</th>\n",
       "      <th>tonality</th>\n",
       "      <th>class</th>\n",
       "      <th>clean_text</th>\n",
       "    </tr>\n",
       "  </thead>\n",
       "  <tbody>\n",
       "    <tr>\n",
       "      <th>0</th>\n",
       "      <td>😂</td>\n",
       "      <td>5</td>\n",
       "      <td>1</td>\n",
       "      <td>smile</td>\n",
       "      <td>positive/negative</td>\n",
       "      <td>0</td>\n",
       "      <td>почему бы и нет 😂</td>\n",
       "    </tr>\n",
       "    <tr>\n",
       "      <th>1</th>\n",
       "      <td>😁</td>\n",
       "      <td>5</td>\n",
       "      <td>1</td>\n",
       "      <td>smile</td>\n",
       "      <td>positive/negative</td>\n",
       "      <td>0</td>\n",
       "      <td>как сесть на диету 😁</td>\n",
       "    </tr>\n",
       "    <tr>\n",
       "      <th>2</th>\n",
       "      <td>😁</td>\n",
       "      <td>6</td>\n",
       "      <td>1</td>\n",
       "      <td>smile</td>\n",
       "      <td>positive/negative</td>\n",
       "      <td>0</td>\n",
       "      <td>когда в душе ещё щенок 😁</td>\n",
       "    </tr>\n",
       "    <tr>\n",
       "      <th>3</th>\n",
       "      <td>😻</td>\n",
       "      <td>6</td>\n",
       "      <td>1</td>\n",
       "      <td>joy</td>\n",
       "      <td>positive</td>\n",
       "      <td>2</td>\n",
       "      <td>новые фотографии нюши просто огненные😻</td>\n",
       "    </tr>\n",
       "    <tr>\n",
       "      <th>4</th>\n",
       "      <td>😍</td>\n",
       "      <td>7</td>\n",
       "      <td>1</td>\n",
       "      <td>joy</td>\n",
       "      <td>positive</td>\n",
       "      <td>2</td>\n",
       "      <td>безумно красивая актриса - алина ланина 😍</td>\n",
       "    </tr>\n",
       "    <tr>\n",
       "      <th>...</th>\n",
       "      <td>...</td>\n",
       "      <td>...</td>\n",
       "      <td>...</td>\n",
       "      <td>...</td>\n",
       "      <td>...</td>\n",
       "      <td>...</td>\n",
       "      <td>...</td>\n",
       "    </tr>\n",
       "    <tr>\n",
       "      <th>9215</th>\n",
       "      <td>😄</td>\n",
       "      <td>5</td>\n",
       "      <td>1</td>\n",
       "      <td>smile</td>\n",
       "      <td>positive/negative</td>\n",
       "      <td>0</td>\n",
       "      <td>ряды эскортниц скоро пополнится 😄</td>\n",
       "    </tr>\n",
       "    <tr>\n",
       "      <th>9216</th>\n",
       "      <td>😂</td>\n",
       "      <td>7</td>\n",
       "      <td>1</td>\n",
       "      <td>smile</td>\n",
       "      <td>positive/negative</td>\n",
       "      <td>0</td>\n",
       "      <td>так он прав ты реально даун 😂</td>\n",
       "    </tr>\n",
       "    <tr>\n",
       "      <th>9217</th>\n",
       "      <td>🤔</td>\n",
       "      <td>7</td>\n",
       "      <td>1</td>\n",
       "      <td>no_emotion</td>\n",
       "      <td>neutral/skeptical</td>\n",
       "      <td>1</td>\n",
       "      <td>вы же не про меня?🤔</td>\n",
       "    </tr>\n",
       "    <tr>\n",
       "      <th>9218</th>\n",
       "      <td>🤔</td>\n",
       "      <td>9</td>\n",
       "      <td>1</td>\n",
       "      <td>no_emotion</td>\n",
       "      <td>neutral/skeptical</td>\n",
       "      <td>1</td>\n",
       "      <td>про кого пошутил то это не до комик🤔</td>\n",
       "    </tr>\n",
       "    <tr>\n",
       "      <th>9219</th>\n",
       "      <td>🤣</td>\n",
       "      <td>10</td>\n",
       "      <td>1</td>\n",
       "      <td>smile</td>\n",
       "      <td>positive/negative</td>\n",
       "      <td>0</td>\n",
       "      <td>тебе это лучше знать что во всём мире слушают 🤣</td>\n",
       "    </tr>\n",
       "  </tbody>\n",
       "</table>\n",
       "<p>9220 rows × 7 columns</p>\n",
       "</div>"
      ],
      "text/plain": [
       "     img_emoji  word_count  count_emoji     emotion           tonality  class  \\\n",
       "0            😂           5            1       smile  positive/negative      0   \n",
       "1            😁           5            1       smile  positive/negative      0   \n",
       "2            😁           6            1       smile  positive/negative      0   \n",
       "3            😻           6            1         joy           positive      2   \n",
       "4            😍           7            1         joy           positive      2   \n",
       "...        ...         ...          ...         ...                ...    ...   \n",
       "9215         😄           5            1       smile  positive/negative      0   \n",
       "9216         😂           7            1       smile  positive/negative      0   \n",
       "9217         🤔           7            1  no_emotion  neutral/skeptical      1   \n",
       "9218         🤔           9            1  no_emotion  neutral/skeptical      1   \n",
       "9219         🤣          10            1       smile  positive/negative      0   \n",
       "\n",
       "                                           clean_text  \n",
       "0                                   почему бы и нет 😂  \n",
       "1                                как сесть на диету 😁  \n",
       "2                            когда в душе ещё щенок 😁  \n",
       "3              новые фотографии нюши просто огненные😻  \n",
       "4           безумно красивая актриса - алина ланина 😍  \n",
       "...                                               ...  \n",
       "9215                ряды эскортниц скоро пополнится 😄  \n",
       "9216                    так он прав ты реально даун 😂  \n",
       "9217                              вы же не про меня?🤔  \n",
       "9218             про кого пошутил то это не до комик🤔  \n",
       "9219  тебе это лучше знать что во всём мире слушают 🤣  \n",
       "\n",
       "[9220 rows x 7 columns]"
      ]
     },
     "execution_count": 3,
     "metadata": {},
     "output_type": "execute_result"
    }
   ],
   "source": [
    "df_em_1_token_10"
   ]
  },
  {
   "cell_type": "code",
   "execution_count": 5,
   "id": "bbb2eff4",
   "metadata": {},
   "outputs": [
    {
     "data": {
      "text/html": [
       "<div>\n",
       "<style scoped>\n",
       "    .dataframe tbody tr th:only-of-type {\n",
       "        vertical-align: middle;\n",
       "    }\n",
       "\n",
       "    .dataframe tbody tr th {\n",
       "        vertical-align: top;\n",
       "    }\n",
       "\n",
       "    .dataframe thead th {\n",
       "        text-align: right;\n",
       "    }\n",
       "</style>\n",
       "<table border=\"1\" class=\"dataframe\">\n",
       "  <thead>\n",
       "    <tr style=\"text-align: right;\">\n",
       "      <th></th>\n",
       "      <th>img_emoji</th>\n",
       "      <th>count_emoji</th>\n",
       "      <th>emotion</th>\n",
       "      <th>tonality</th>\n",
       "      <th>class</th>\n",
       "      <th>clean_text</th>\n",
       "    </tr>\n",
       "    <tr>\n",
       "      <th>word_count</th>\n",
       "      <th></th>\n",
       "      <th></th>\n",
       "      <th></th>\n",
       "      <th></th>\n",
       "      <th></th>\n",
       "      <th></th>\n",
       "    </tr>\n",
       "  </thead>\n",
       "  <tbody>\n",
       "    <tr>\n",
       "      <th>2</th>\n",
       "      <td>551</td>\n",
       "      <td>551</td>\n",
       "      <td>551</td>\n",
       "      <td>551</td>\n",
       "      <td>551</td>\n",
       "      <td>551</td>\n",
       "    </tr>\n",
       "    <tr>\n",
       "      <th>3</th>\n",
       "      <td>942</td>\n",
       "      <td>942</td>\n",
       "      <td>942</td>\n",
       "      <td>942</td>\n",
       "      <td>942</td>\n",
       "      <td>942</td>\n",
       "    </tr>\n",
       "    <tr>\n",
       "      <th>4</th>\n",
       "      <td>1076</td>\n",
       "      <td>1076</td>\n",
       "      <td>1076</td>\n",
       "      <td>1076</td>\n",
       "      <td>1076</td>\n",
       "      <td>1076</td>\n",
       "    </tr>\n",
       "    <tr>\n",
       "      <th>5</th>\n",
       "      <td>1127</td>\n",
       "      <td>1127</td>\n",
       "      <td>1127</td>\n",
       "      <td>1127</td>\n",
       "      <td>1127</td>\n",
       "      <td>1127</td>\n",
       "    </tr>\n",
       "    <tr>\n",
       "      <th>6</th>\n",
       "      <td>1216</td>\n",
       "      <td>1216</td>\n",
       "      <td>1216</td>\n",
       "      <td>1216</td>\n",
       "      <td>1216</td>\n",
       "      <td>1216</td>\n",
       "    </tr>\n",
       "    <tr>\n",
       "      <th>7</th>\n",
       "      <td>1089</td>\n",
       "      <td>1089</td>\n",
       "      <td>1089</td>\n",
       "      <td>1089</td>\n",
       "      <td>1089</td>\n",
       "      <td>1089</td>\n",
       "    </tr>\n",
       "    <tr>\n",
       "      <th>8</th>\n",
       "      <td>986</td>\n",
       "      <td>986</td>\n",
       "      <td>986</td>\n",
       "      <td>986</td>\n",
       "      <td>986</td>\n",
       "      <td>986</td>\n",
       "    </tr>\n",
       "    <tr>\n",
       "      <th>9</th>\n",
       "      <td>879</td>\n",
       "      <td>879</td>\n",
       "      <td>879</td>\n",
       "      <td>879</td>\n",
       "      <td>879</td>\n",
       "      <td>879</td>\n",
       "    </tr>\n",
       "    <tr>\n",
       "      <th>10</th>\n",
       "      <td>749</td>\n",
       "      <td>749</td>\n",
       "      <td>749</td>\n",
       "      <td>749</td>\n",
       "      <td>749</td>\n",
       "      <td>749</td>\n",
       "    </tr>\n",
       "    <tr>\n",
       "      <th>11</th>\n",
       "      <td>605</td>\n",
       "      <td>605</td>\n",
       "      <td>605</td>\n",
       "      <td>605</td>\n",
       "      <td>605</td>\n",
       "      <td>605</td>\n",
       "    </tr>\n",
       "  </tbody>\n",
       "</table>\n",
       "</div>"
      ],
      "text/plain": [
       "            img_emoji  count_emoji  emotion  tonality  class  clean_text\n",
       "word_count                                                              \n",
       "2                 551          551      551       551    551         551\n",
       "3                 942          942      942       942    942         942\n",
       "4                1076         1076     1076      1076   1076        1076\n",
       "5                1127         1127     1127      1127   1127        1127\n",
       "6                1216         1216     1216      1216   1216        1216\n",
       "7                1089         1089     1089      1089   1089        1089\n",
       "8                 986          986      986       986    986         986\n",
       "9                 879          879      879       879    879         879\n",
       "10                749          749      749       749    749         749\n",
       "11                605          605      605       605    605         605"
      ]
     },
     "execution_count": 5,
     "metadata": {},
     "output_type": "execute_result"
    }
   ],
   "source": [
    "df_em_1_token_10.groupby('word_count').count()"
   ]
  },
  {
   "cell_type": "code",
   "execution_count": 451,
   "id": "f7cbc0e3",
   "metadata": {},
   "outputs": [],
   "source": [
    "#берём текст как есть с пунктуацией и с эмодзи\n",
    "def preprocess(text):\n",
    "    tokens = text.lower().split()\n",
    "    preprocessed_text = []\n",
    "    for token in tokens:\n",
    "        preprocessed_text.append(token)\n",
    "    return preprocessed_text"
   ]
  },
  {
   "cell_type": "code",
   "execution_count": 497,
   "id": "03fd78bb",
   "metadata": {},
   "outputs": [],
   "source": [
    "import re"
   ]
  },
  {
   "cell_type": "code",
   "execution_count": 498,
   "id": "1b29f29f",
   "metadata": {},
   "outputs": [],
   "source": [
    "#без пунктуации и эмодзи\n",
    "def preprocess_no_punct(text):\n",
    "    no_punct_text = re.sub(r'[^\\w\\s]', ' ', text)\n",
    "    tokens = no_punct_text.lower().split()\n",
    "    preprocessed_text = []\n",
    "    for token in tokens:\n",
    "        preprocessed_text.append(token)\n",
    "    return preprocessed_text"
   ]
  },
  {
   "cell_type": "code",
   "execution_count": 607,
   "id": "1258c90d",
   "metadata": {},
   "outputs": [],
   "source": [
    "import pymorphy2"
   ]
  },
  {
   "cell_type": "code",
   "execution_count": 608,
   "id": "4cd98ed7",
   "metadata": {},
   "outputs": [],
   "source": [
    "morph = pymorphy2.MorphAnalyzer()"
   ]
  },
  {
   "cell_type": "code",
   "execution_count": 609,
   "id": "ff7b480a",
   "metadata": {},
   "outputs": [],
   "source": [
    "#леммы без пунктуации и эмодзи\n",
    "def preprocess_lemma(text):\n",
    "    no_punct_text = re.sub(r'[^\\w\\s]', ' ', text)\n",
    "    tokens = no_punct_text.lower().split()\n",
    "    preprocessed_text = []\n",
    "    for token in tokens:\n",
    "        lemma = morph.parse(token)[0].normal_form\n",
    "        preprocessed_text.append(lemma)\n",
    "    return preprocessed_text"
   ]
  },
  {
   "cell_type": "code",
   "execution_count": 610,
   "id": "1b20b651",
   "metadata": {},
   "outputs": [],
   "source": [
    "#леммы c пунктуацией и эмодзи\n",
    "def preprocess_lemma_em(text):\n",
    "    #no_punct_text = re.sub(r'[^\\w\\s]', ' ', text)\n",
    "    #tokens = no_punct_text.lower().split()\n",
    "    tokens = text.lower().split()\n",
    "    preprocessed_text = []\n",
    "    for token in tokens:\n",
    "        lemma = morph.parse(token)[0].normal_form\n",
    "        preprocessed_text.append(lemma)\n",
    "    return preprocessed_text"
   ]
  },
  {
   "cell_type": "code",
   "execution_count": 499,
   "id": "d38c487f",
   "metadata": {},
   "outputs": [
    {
     "data": {
      "text/plain": [
       "['почему', 'бы', 'и', 'нет']"
      ]
     },
     "execution_count": 499,
     "metadata": {},
     "output_type": "execute_result"
    }
   ],
   "source": [
    "preprocess_no_punct('почему бы и нет 😂')"
   ]
  },
  {
   "cell_type": "code",
   "execution_count": 21,
   "id": "44a5d67c",
   "metadata": {},
   "outputs": [
    {
     "data": {
      "text/plain": [
       "['почему', 'бы', 'и', 'нет']"
      ]
     },
     "execution_count": 21,
     "metadata": {},
     "output_type": "execute_result"
    }
   ],
   "source": [
    "preprocess_lemma('почему бы и нет 😂')"
   ]
  },
  {
   "cell_type": "code",
   "execution_count": 611,
   "id": "978b2e2c",
   "metadata": {},
   "outputs": [
    {
     "data": {
      "text/plain": [
       "['почему', 'бы', 'и', 'нет', '😂']"
      ]
     },
     "execution_count": 611,
     "metadata": {},
     "output_type": "execute_result"
    }
   ],
   "source": [
    "preprocess_lemma_em('почему бы и нет 😂')"
   ]
  },
  {
   "cell_type": "code",
   "execution_count": 500,
   "id": "3f3a419c",
   "metadata": {},
   "outputs": [
    {
     "data": {
      "text/plain": [
       "['бежать', 'за', 'любовью', 'песня', 'о', 'том', 'что']"
      ]
     },
     "execution_count": 500,
     "metadata": {},
     "output_type": "execute_result"
    }
   ],
   "source": [
    "preprocess_no_punct('«бежать за любовью» - песня о том, что 😂')"
   ]
  },
  {
   "cell_type": "code",
   "execution_count": 24,
   "id": "9b0478f8",
   "metadata": {},
   "outputs": [
    {
     "data": {
      "text/plain": [
       "['бежать', 'за', 'любовь', 'песня', 'о', 'тот', 'что']"
      ]
     },
     "execution_count": 24,
     "metadata": {},
     "output_type": "execute_result"
    }
   ],
   "source": [
    "preprocess_lemma('«бежать за любовью» - песня о том, что 😂')"
   ]
  },
  {
   "cell_type": "code",
   "execution_count": 612,
   "id": "96b4d8ef",
   "metadata": {},
   "outputs": [
    {
     "data": {
      "text/plain": [
       "['«бежать', 'за', 'любовью»', '-', 'песня', 'о', 'том,', 'что', '😂']"
      ]
     },
     "execution_count": 612,
     "metadata": {},
     "output_type": "execute_result"
    }
   ],
   "source": [
    "preprocess_lemma_em('«бежать за любовью» - песня о том, что 😂')"
   ]
  },
  {
   "cell_type": "code",
   "execution_count": 26,
   "id": "92371c03",
   "metadata": {},
   "outputs": [
    {
     "data": {
      "text/plain": [
       "['хороший', 'парень']"
      ]
     },
     "execution_count": 26,
     "metadata": {},
     "output_type": "execute_result"
    }
   ],
   "source": [
    "preprocess_lemma('хорошего парня 😂')"
   ]
  },
  {
   "cell_type": "code",
   "execution_count": 613,
   "id": "9f0ecf0e",
   "metadata": {},
   "outputs": [
    {
     "data": {
      "text/plain": [
       "['хороший', 'парень', '😂']"
      ]
     },
     "execution_count": 613,
     "metadata": {},
     "output_type": "execute_result"
    }
   ],
   "source": [
    "preprocess_lemma_em('хорошего парня 😂')"
   ]
  },
  {
   "cell_type": "code",
   "execution_count": 501,
   "id": "2c328677",
   "metadata": {},
   "outputs": [],
   "source": [
    "#df_em_1_token_10['Preprocessed_texts'] = df_em_1_token_10.apply(lambda row: preprocess(row['clean_text']), axis=1)"
   ]
  },
  {
   "cell_type": "code",
   "execution_count": 614,
   "id": "3e0d4405",
   "metadata": {},
   "outputs": [],
   "source": [
    "#df_em_1_token_10['Preprocessed_texts_no_punct'] = df_em_1_token_10.apply(lambda row: preprocess_no_punct(row['clean_text']), axis=1)"
   ]
  },
  {
   "cell_type": "code",
   "execution_count": 615,
   "id": "dbf342f4",
   "metadata": {},
   "outputs": [],
   "source": [
    "df_em_1_token_10['Preprocessed_texts_lemma'] = df_em_1_token_10.apply(lambda row: preprocess_lemma_em(row['clean_text']), axis=1)"
   ]
  },
  {
   "cell_type": "markdown",
   "id": "735e97f9",
   "metadata": {},
   "source": [
    "Считаем частоту слов во всех постах"
   ]
  },
  {
   "cell_type": "code",
   "execution_count": 617,
   "id": "9a7c02d7",
   "metadata": {},
   "outputs": [],
   "source": [
    "words = Counter()"
   ]
  },
  {
   "cell_type": "code",
   "execution_count": 618,
   "id": "0761f6e4",
   "metadata": {},
   "outputs": [],
   "source": [
    "#for txt in df_em_1_token_10['Preprocessed_texts']:\n",
    "#for txt in df_em_1_token_10['Preprocessed_texts_no_punct']:\n",
    "for txt in df_em_1_token_10['Preprocessed_texts_lemma']:\n",
    "    words.update(txt)"
   ]
  },
  {
   "cell_type": "markdown",
   "id": "f90d6e6a",
   "metadata": {},
   "source": [
    "Создаем словарь, упорядоченный по частоте\n",
    "\n",
    "В словаре будем использовать 2 специальных кода:\n",
    "\n",
    "Код заполнитель: 0\n",
    "Неизвестное слово: 1\n",
    "Нумерация слов в словаре начинается с 2."
   ]
  },
  {
   "cell_type": "code",
   "execution_count": 619,
   "id": "b7c268e9",
   "metadata": {},
   "outputs": [],
   "source": [
    "# Словарь, отображающий слова в коды\n",
    "word_to_index = dict()\n",
    "# Словарь, отображающий коды в слова\n",
    "index_to_word = dict()"
   ]
  },
  {
   "cell_type": "markdown",
   "id": "aa5bef73",
   "metadata": {},
   "source": [
    "Создаем словари"
   ]
  },
  {
   "cell_type": "code",
   "execution_count": 620,
   "id": "da2ab10d",
   "metadata": {},
   "outputs": [],
   "source": [
    "for i, word in enumerate(words.most_common(max_words - 2)):\n",
    "    word_to_index[word[0]] = i + 2\n",
    "    index_to_word[i + 2] = word[0]"
   ]
  },
  {
   "cell_type": "markdown",
   "id": "261a0608",
   "metadata": {},
   "source": [
    "Функция для преобразования списка слов в список кодов"
   ]
  },
  {
   "cell_type": "code",
   "execution_count": 621,
   "id": "ae7095d6",
   "metadata": {},
   "outputs": [],
   "source": [
    "def text_to_sequence(txt, word_to_index):\n",
    "    seq = []\n",
    "    for word in txt:\n",
    "        index = word_to_index.get(word, 1) # 1 означает неизвестное слово\n",
    "        # Неизвестные слова не добавляем в выходную последовательность\n",
    "        if index != 1:\n",
    "            seq.append(index)\n",
    "    return seq"
   ]
  },
  {
   "cell_type": "markdown",
   "id": "4e4b4b71",
   "metadata": {},
   "source": [
    "Преобразуем все тексты в последовательность кодов слов"
   ]
  },
  {
   "cell_type": "code",
   "execution_count": 509,
   "id": "6ac68634",
   "metadata": {},
   "outputs": [],
   "source": [
    "#df_em_1_token_10['Sequences'] = df_em_1_token_10.apply(lambda row: text_to_sequence(row['Preprocessed_texts'], word_to_index), axis=1)"
   ]
  },
  {
   "cell_type": "code",
   "execution_count": 622,
   "id": "27532a26",
   "metadata": {},
   "outputs": [],
   "source": [
    "#df_em_1_token_10['Sequences'] = df_em_1_token_10.apply(lambda row: text_to_sequence(row['Preprocessed_texts_no_punct'], word_to_index), axis=1)"
   ]
  },
  {
   "cell_type": "code",
   "execution_count": 623,
   "id": "1905f31b",
   "metadata": {},
   "outputs": [],
   "source": [
    "df_em_1_token_10['Sequences'] = df_em_1_token_10.apply(lambda row: text_to_sequence(row['Preprocessed_texts_lemma'], word_to_index), axis=1)"
   ]
  },
  {
   "cell_type": "markdown",
   "id": "15f8c389",
   "metadata": {},
   "source": [
    "## Готовим данные для обучения"
   ]
  },
  {
   "cell_type": "markdown",
   "id": "002aba29",
   "metadata": {},
   "source": [
    "### Выделяем данные для обучения и тестирования"
   ]
  },
  {
   "cell_type": "code",
   "execution_count": 12,
   "id": "6727b1b2",
   "metadata": {},
   "outputs": [],
   "source": [
    "train, test = train_test_split(df_em_1_token_10, test_size=0.2, random_state = random_state)"
   ]
  },
  {
   "cell_type": "code",
   "execution_count": 15,
   "id": "c17b78fa",
   "metadata": {},
   "outputs": [
    {
     "data": {
      "text/plain": [
       "9220"
      ]
     },
     "execution_count": 15,
     "metadata": {},
     "output_type": "execute_result"
    }
   ],
   "source": [
    "len(train) + len(test)"
   ]
  },
  {
   "cell_type": "markdown",
   "id": "fb2d8d3c",
   "metadata": {},
   "source": [
    "### Разделяем метки классов и данные для обучения"
   ]
  },
  {
   "cell_type": "markdown",
   "id": "d256b668",
   "metadata": {},
   "source": [
    "Данные для обучения"
   ]
  },
  {
   "cell_type": "code",
   "execution_count": 629,
   "id": "619affe2",
   "metadata": {},
   "outputs": [],
   "source": [
    "x_train_seq = train['Sequences']\n",
    "y_train = train['class']"
   ]
  },
  {
   "cell_type": "code",
   "execution_count": 630,
   "id": "d596bcc5",
   "metadata": {},
   "outputs": [
    {
     "data": {
      "text/plain": [
       "5559                         [519, 51, 42, 2, 9487]\n",
       "8376                          [5, 17, 1021, 3, 395]\n",
       "5562                   [361, 134, 50, 375, 113, 10]\n",
       "1491                               [27, 241, 8, 11]\n",
       "6375                                      [63, 143]\n",
       "                           ...                     \n",
       "5734                                         [9703]\n",
       "5191                                 [2, 680, 9007]\n",
       "5390    [14, 5, 50, 9256, 1324, 9257, 9, 541, 9258]\n",
       "860                               [4024, 4025, 302]\n",
       "7270                                      [54, 755]\n",
       "Name: Sequences, Length: 7376, dtype: object"
      ]
     },
     "execution_count": 630,
     "metadata": {},
     "output_type": "execute_result"
    }
   ],
   "source": [
    "x_train_seq"
   ]
  },
  {
   "cell_type": "code",
   "execution_count": 631,
   "id": "d7554f38",
   "metadata": {},
   "outputs": [
    {
     "data": {
      "text/plain": [
       "5559    0\n",
       "8376    0\n",
       "5562    0\n",
       "1491    0\n",
       "6375    1\n",
       "       ..\n",
       "5734    0\n",
       "5191    0\n",
       "5390    4\n",
       "860     9\n",
       "7270    0\n",
       "Name: class, Length: 7376, dtype: int64"
      ]
     },
     "execution_count": 631,
     "metadata": {},
     "output_type": "execute_result"
    }
   ],
   "source": [
    "y_train"
   ]
  },
  {
   "cell_type": "markdown",
   "id": "7537323f",
   "metadata": {},
   "source": [
    "Данные для тестирования"
   ]
  },
  {
   "cell_type": "code",
   "execution_count": 632,
   "id": "bafa34d6",
   "metadata": {},
   "outputs": [],
   "source": [
    "x_test_seq = test['Sequences']\n",
    "y_test = test['class']"
   ]
  },
  {
   "cell_type": "code",
   "execution_count": 633,
   "id": "f67efbcc",
   "metadata": {},
   "outputs": [
    {
     "data": {
      "text/plain": [
       "7810                                [97, 5, 248, 3096, 3]\n",
       "1180                                   [2, 1946, 7, 1947]\n",
       "5865                           [67, 58, 19, 34, 50, 9885]\n",
       "623                   [4, 50, 2095, 1113, 3803, 1466, 11]\n",
       "711                               [3926, 152, 1115, 3927]\n",
       "                              ...                        \n",
       "4401                                    [5, 17, 8081, 15]\n",
       "7481                                            [179, 11]\n",
       "4467                                           [78, 8153]\n",
       "4539    [4, 8238, 645, 278, 154, 8, 31, 185, 197, 17, ...\n",
       "1323              [16, 594, 2265, 2257, 14, 12, 24, 4485]\n",
       "Name: Sequences, Length: 1844, dtype: object"
      ]
     },
     "execution_count": 633,
     "metadata": {},
     "output_type": "execute_result"
    }
   ],
   "source": [
    "x_test_seq"
   ]
  },
  {
   "cell_type": "code",
   "execution_count": 634,
   "id": "1a4ec1a4",
   "metadata": {},
   "outputs": [
    {
     "data": {
      "text/plain": [
       "7810    0\n",
       "1180    0\n",
       "5865    2\n",
       "623     0\n",
       "711     5\n",
       "       ..\n",
       "4401    0\n",
       "7481    0\n",
       "4467    4\n",
       "4539    0\n",
       "1323    2\n",
       "Name: class, Length: 1844, dtype: int64"
      ]
     },
     "execution_count": 634,
     "metadata": {},
     "output_type": "execute_result"
    }
   ],
   "source": [
    "y_test"
   ]
  },
  {
   "cell_type": "markdown",
   "id": "eef18dca",
   "metadata": {},
   "source": [
    "## Создаем мешок слов"
   ]
  },
  {
   "cell_type": "code",
   "execution_count": 635,
   "id": "b8621b9b",
   "metadata": {},
   "outputs": [],
   "source": [
    "def vectorize_sequences(sequences, dimension=10000):\n",
    "    results = np.zeros((len(sequences), dimension))\n",
    "    for i, sequence in enumerate(sequences):\n",
    "        for index in sequence:\n",
    "            results[i, index] += 1.\n",
    "    return results"
   ]
  },
  {
   "cell_type": "code",
   "execution_count": 636,
   "id": "f3aa5ecb",
   "metadata": {},
   "outputs": [],
   "source": [
    "import numpy as np"
   ]
  },
  {
   "cell_type": "code",
   "execution_count": 637,
   "id": "ebfe0ac9",
   "metadata": {},
   "outputs": [],
   "source": [
    "x_train = vectorize_sequences(x_train_seq, max_words)"
   ]
  },
  {
   "cell_type": "code",
   "execution_count": 638,
   "id": "ba24cde7",
   "metadata": {},
   "outputs": [],
   "source": [
    "x_test = vectorize_sequences(x_test_seq, max_words)"
   ]
  },
  {
   "cell_type": "code",
   "execution_count": 639,
   "id": "5319cf66",
   "metadata": {},
   "outputs": [
    {
     "data": {
      "text/plain": [
       "array([0., 0., 1., 0., 0., 0., 0., 0., 0., 0., 0., 0., 0., 0., 0., 0., 0.,\n",
       "       0., 0., 0., 0., 0., 0., 0., 0., 0., 0., 0., 0., 0., 0., 0., 0., 0.,\n",
       "       0., 0., 0., 0., 0., 0., 0., 0., 1., 0., 0., 0., 0., 0., 0., 0., 0.,\n",
       "       1., 0., 0., 0., 0., 0., 0., 0., 0., 0., 0., 0., 0., 0., 0., 0., 0.,\n",
       "       0., 0., 0., 0., 0., 0., 0., 0., 0., 0., 0., 0., 0., 0., 0., 0., 0.,\n",
       "       0., 0., 0., 0., 0., 0., 0., 0., 0., 0., 0., 0., 0., 0., 0.])"
      ]
     },
     "execution_count": 639,
     "metadata": {},
     "output_type": "execute_result"
    }
   ],
   "source": [
    "x_train[0][:100]"
   ]
  },
  {
   "cell_type": "code",
   "execution_count": 640,
   "id": "f33af1a9",
   "metadata": {},
   "outputs": [
    {
     "data": {
      "text/plain": [
       "10000"
      ]
     },
     "execution_count": 640,
     "metadata": {},
     "output_type": "execute_result"
    }
   ],
   "source": [
    "len(x_train[0])"
   ]
  },
  {
   "cell_type": "markdown",
   "id": "7bef1e2e",
   "metadata": {},
   "source": [
    "## Создаем модели машинного обучения"
   ]
  },
  {
   "cell_type": "code",
   "execution_count": 641,
   "id": "89554d56",
   "metadata": {},
   "outputs": [],
   "source": [
    "def train_test(clf, X_train, X_test, y_train, y_test):\n",
    "    clf.fit(X_train, y_train)\n",
    "    train_acc = accuracy_score(y_train, clf.predict(X_train))\n",
    "    test_acc = accuracy_score(y_test, clf.predict(X_test))\n",
    "    f1_macro = f1_score(y_test, clf.predict(X_test), average='macro')\n",
    "    f1_micro = f1_score(y_test, clf.predict(X_test), average='micro')\n",
    "    f1_weighted = f1_score(y_test, clf.predict(X_test), average='weighted')\n",
    "    return train_acc, test_acc, f1_macro, f1_micro, f1_weighted"
   ]
  },
  {
   "cell_type": "code",
   "execution_count": 642,
   "id": "e2e325e0",
   "metadata": {},
   "outputs": [],
   "source": [
    "lr = LogisticRegression(random_state=random_state, max_iter=500)\n",
    "svc = SVC(probability=True)\n",
    "rforest = RandomForestClassifier(random_state=random_state)\n",
    "dtree = DecisionTreeClassifier()\n",
    "nb = GaussianNB()\n",
    "gb = GradientBoostingClassifier(random_state=random_state)"
   ]
  },
  {
   "cell_type": "code",
   "execution_count": 643,
   "id": "cdf442d3",
   "metadata": {},
   "outputs": [],
   "source": [
    "clifs = [lr, svc, rforest, dtree, nb, gb]"
   ]
  },
  {
   "cell_type": "markdown",
   "id": "f9e40ec1",
   "metadata": {},
   "source": [
    "# Ансамблевые методы"
   ]
  },
  {
   "cell_type": "markdown",
   "id": "24533a48",
   "metadata": {},
   "source": [
    "## Мажоритарное голосование"
   ]
  },
  {
   "cell_type": "code",
   "execution_count": 644,
   "id": "9430497b",
   "metadata": {},
   "outputs": [],
   "source": [
    "from sklearn.ensemble import VotingClassifier"
   ]
  },
  {
   "cell_type": "code",
   "execution_count": 645,
   "id": "818ae0c8",
   "metadata": {},
   "outputs": [],
   "source": [
    "eclf_hard = VotingClassifier(estimators=[('lr', lr), ('svc', svc), ('rforest', rforest), ('dtree', dtree), ('nb', nb), ('gb', gb)], voting='hard')"
   ]
  },
  {
   "cell_type": "code",
   "execution_count": 646,
   "id": "1b51f7b9",
   "metadata": {},
   "outputs": [
    {
     "data": {
      "text/plain": [
       "VotingClassifier(estimators=[('lr',\n",
       "                              LogisticRegression(max_iter=500,\n",
       "                                                 random_state=42)),\n",
       "                             ('svc', SVC(probability=True)),\n",
       "                             ('rforest',\n",
       "                              RandomForestClassifier(random_state=42)),\n",
       "                             ('dtree', DecisionTreeClassifier()),\n",
       "                             ('nb', GaussianNB()),\n",
       "                             ('gb',\n",
       "                              GradientBoostingClassifier(random_state=42))])"
      ]
     },
     "execution_count": 646,
     "metadata": {},
     "output_type": "execute_result"
    }
   ],
   "source": [
    "eclf_hard.fit(x_train, y_train)"
   ]
  },
  {
   "cell_type": "code",
   "execution_count": 647,
   "id": "90981ed9",
   "metadata": {},
   "outputs": [],
   "source": [
    "predicted = eclf_hard.predict(x_test)"
   ]
  },
  {
   "cell_type": "code",
   "execution_count": 263,
   "id": "c0f29dc4",
   "metadata": {},
   "outputs": [],
   "source": [
    "#Preprocessed_texts"
   ]
  },
  {
   "cell_type": "code",
   "execution_count": 264,
   "id": "66c67eea",
   "metadata": {},
   "outputs": [
    {
     "name": "stdout",
     "output_type": "stream",
     "text": [
      "              precision    recall  f1-score   support\n",
      "\n",
      "           0       0.79      1.00      0.88      1166\n",
      "           1       0.98      0.53      0.69       203\n",
      "           2       0.99      0.56      0.71       152\n",
      "           3       1.00      0.56      0.72       101\n",
      "           4       1.00      0.60      0.75        86\n",
      "           5       1.00      0.42      0.59        26\n",
      "           6       1.00      0.62      0.77        24\n",
      "           7       1.00      0.47      0.64        15\n",
      "           8       1.00      0.50      0.67        14\n",
      "           9       1.00      0.67      0.80        18\n",
      "          10       0.80      0.50      0.62         8\n",
      "          11       1.00      0.40      0.57        15\n",
      "          12       0.67      0.18      0.29        11\n",
      "          13       1.00      1.00      1.00         3\n",
      "          14       0.00      0.00      0.00         2\n",
      "\n",
      "    accuracy                           0.83      1844\n",
      "   macro avg       0.88      0.53      0.65      1844\n",
      "weighted avg       0.86      0.83      0.81      1844\n",
      "\n"
     ]
    },
    {
     "name": "stderr",
     "output_type": "stream",
     "text": [
      "/Users/kholann/opt/anaconda3/lib/python3.9/site-packages/sklearn/metrics/_classification.py:1318: UndefinedMetricWarning: Precision and F-score are ill-defined and being set to 0.0 in labels with no predicted samples. Use `zero_division` parameter to control this behavior.\n",
      "  _warn_prf(average, modifier, msg_start, len(result))\n",
      "/Users/kholann/opt/anaconda3/lib/python3.9/site-packages/sklearn/metrics/_classification.py:1318: UndefinedMetricWarning: Precision and F-score are ill-defined and being set to 0.0 in labels with no predicted samples. Use `zero_division` parameter to control this behavior.\n",
      "  _warn_prf(average, modifier, msg_start, len(result))\n",
      "/Users/kholann/opt/anaconda3/lib/python3.9/site-packages/sklearn/metrics/_classification.py:1318: UndefinedMetricWarning: Precision and F-score are ill-defined and being set to 0.0 in labels with no predicted samples. Use `zero_division` parameter to control this behavior.\n",
      "  _warn_prf(average, modifier, msg_start, len(result))\n"
     ]
    }
   ],
   "source": [
    "print(metrics.classification_report(y_test, predicted))"
   ]
  },
  {
   "cell_type": "code",
   "execution_count": 265,
   "id": "892b6df8",
   "metadata": {},
   "outputs": [],
   "source": [
    "import matplotlib.pyplot as plt"
   ]
  },
  {
   "cell_type": "code",
   "execution_count": 266,
   "id": "c640ed03",
   "metadata": {},
   "outputs": [
    {
     "data": {
      "image/png": "[encoded data removed]",
      "text/plain": [
       "<Figure size 640x480 with 2 Axes>"
      ]
     },
     "metadata": {},
     "output_type": "display_data"
    }
   ],
   "source": [
    "confusion_matrix = metrics.confusion_matrix(y_test, predicted)\n",
    "cm_display = metrics.ConfusionMatrixDisplay(confusion_matrix = confusion_matrix, display_labels = [\"0\", \"1\", \"2\", \"3\", \"4\",\"5\",\"6\",\"7\",\"8\",\"9\",\"10\",\"11\",\"12\",\"13\",\"14\"])\n",
    "\n",
    "cm_display.plot()\n",
    "plt.show()"
   ]
  },
  {
   "cell_type": "code",
   "execution_count": 267,
   "id": "9fc0bec8",
   "metadata": {},
   "outputs": [],
   "source": [
    "def scores(clf, X_train, X_test, y_train, y_test):\n",
    "    train_acc = accuracy_score(y_train, clf.predict(X_train))\n",
    "    test_acc = accuracy_score(y_test, clf.predict(X_test))\n",
    "    f1_macro = f1_score(y_test, clf.predict(X_test), average='macro')\n",
    "    f1_micro = f1_score(y_test, clf.predict(X_test), average='micro')\n",
    "    f1_weighted = f1_score(y_test, clf.predict(X_test), average='weighted')\n",
    "    return train_acc, test_acc, f1_macro, f1_micro, f1_weighted"
   ]
  },
  {
   "cell_type": "code",
   "execution_count": 268,
   "id": "978a139b",
   "metadata": {},
   "outputs": [
    {
     "name": "stdout",
     "output_type": "stream",
     "text": [
      "| Classifier                | Training Accuracy | Test Accuracy | F1_macro | F1_micro | F1_weighted |\n",
      "| ------------------------- | ----------------- | ------------- | -------- | -------- | ----------- |\n",
      "| VotingClassifier          |         0.9224512 |     0.8297180 | 0.6464009 | 0.8297180 |   0.8134121 |\n"
     ]
    }
   ],
   "source": [
    "print(\"| {:25} | {} | {} | {} | {} | {} |\".format(\"Classifier\", \"Training Accuracy\", \"Test Accuracy\", \"F1_macro\", \"F1_micro\", \"F1_weighted\"))\n",
    "print(\"| {} | {} | {} | {} | {} | {} |\".format(\"-\"*25, \"-\"*17, \"-\"*13, \"-\"*8, \"-\"*8, \"-\"*11))\n",
    "clf_name = eclf_hard.__class__.__name__\n",
    "train_acc, test_acc, f1_macro, f1_micro, f1_weighted  = scores(eclf_hard, x_train, x_test, y_train, y_test)\n",
    "print(\"| {:25} | {:17.7f} | {:13.7f} | {:8.7f} | {:8.7f} | {:11.7f} |\".format(clf_name, train_acc, test_acc, f1_macro, f1_micro, f1_weighted))"
   ]
  },
  {
   "cell_type": "code",
   "execution_count": 433,
   "id": "73b6c649",
   "metadata": {},
   "outputs": [],
   "source": [
    "#Preprocessed_texts_no_punct"
   ]
  },
  {
   "cell_type": "code",
   "execution_count": 434,
   "id": "07b9d174",
   "metadata": {},
   "outputs": [
    {
     "name": "stdout",
     "output_type": "stream",
     "text": [
      "              precision    recall  f1-score   support\n",
      "\n",
      "           0       0.64      0.99      0.78      1166\n",
      "           1       0.60      0.01      0.03       203\n",
      "           2       0.70      0.09      0.16       152\n",
      "           3       0.33      0.01      0.02       101\n",
      "           4       0.67      0.05      0.09        86\n",
      "           5       0.75      0.12      0.20        26\n",
      "           6       0.40      0.08      0.14        24\n",
      "           7       0.00      0.00      0.00        15\n",
      "           8       0.00      0.00      0.00        14\n",
      "           9       0.43      0.17      0.24        18\n",
      "          10       0.00      0.00      0.00         8\n",
      "          11       0.00      0.00      0.00        15\n",
      "          12       0.00      0.00      0.00        11\n",
      "          13       1.00      0.33      0.50         3\n",
      "          14       0.00      0.00      0.00         2\n",
      "\n",
      "    accuracy                           0.64      1844\n",
      "   macro avg       0.37      0.12      0.14      1844\n",
      "weighted avg       0.60      0.64      0.52      1844\n",
      "\n"
     ]
    },
    {
     "name": "stderr",
     "output_type": "stream",
     "text": [
      "/Users/kholann/opt/anaconda3/lib/python3.9/site-packages/sklearn/metrics/_classification.py:1318: UndefinedMetricWarning: Precision and F-score are ill-defined and being set to 0.0 in labels with no predicted samples. Use `zero_division` parameter to control this behavior.\n",
      "  _warn_prf(average, modifier, msg_start, len(result))\n",
      "/Users/kholann/opt/anaconda3/lib/python3.9/site-packages/sklearn/metrics/_classification.py:1318: UndefinedMetricWarning: Precision and F-score are ill-defined and being set to 0.0 in labels with no predicted samples. Use `zero_division` parameter to control this behavior.\n",
      "  _warn_prf(average, modifier, msg_start, len(result))\n",
      "/Users/kholann/opt/anaconda3/lib/python3.9/site-packages/sklearn/metrics/_classification.py:1318: UndefinedMetricWarning: Precision and F-score are ill-defined and being set to 0.0 in labels with no predicted samples. Use `zero_division` parameter to control this behavior.\n",
      "  _warn_prf(average, modifier, msg_start, len(result))\n"
     ]
    }
   ],
   "source": [
    "print(metrics.classification_report(y_test, predicted))"
   ]
  },
  {
   "cell_type": "code",
   "execution_count": 435,
   "id": "42cfbe16",
   "metadata": {},
   "outputs": [
    {
     "data": {
      "image/png": "[encoded data removed]",
      "text/plain": [
       "<Figure size 640x480 with 2 Axes>"
      ]
     },
     "metadata": {},
     "output_type": "display_data"
    }
   ],
   "source": [
    "confusion_matrix = metrics.confusion_matrix(y_test, predicted)\n",
    "cm_display = metrics.ConfusionMatrixDisplay(confusion_matrix = confusion_matrix, display_labels = [\"0\", \"1\", \"2\", \"3\", \"4\",\"5\",\"6\",\"7\",\"8\",\"9\",\"10\",\"11\",\"12\",\"13\",\"14\"])\n",
    "\n",
    "cm_display.plot()\n",
    "plt.show()"
   ]
  },
  {
   "cell_type": "code",
   "execution_count": 436,
   "id": "ae1fe02e",
   "metadata": {},
   "outputs": [
    {
     "name": "stdout",
     "output_type": "stream",
     "text": [
      "| Classifier                | Training Accuracy | Test Accuracy | F1_macro | F1_micro | F1_weighted |\n",
      "| ------------------------- | ----------------- | ------------- | -------- | -------- | ----------- |\n",
      "| VotingClassifier          |         0.8493764 |     0.6431670 | 0.1437968 | 0.6431670 |   0.5234418 |\n"
     ]
    }
   ],
   "source": [
    "print(\"| {:25} | {} | {} | {} | {} | {} |\".format(\"Classifier\", \"Training Accuracy\", \"Test Accuracy\", \"F1_macro\", \"F1_micro\", \"F1_weighted\"))\n",
    "print(\"| {} | {} | {} | {} | {} | {} |\".format(\"-\"*25, \"-\"*17, \"-\"*13, \"-\"*8, \"-\"*8, \"-\"*11))\n",
    "clf_name = eclf_hard.__class__.__name__\n",
    "train_acc, test_acc, f1_macro, f1_micro, f1_weighted  = scores(eclf_hard, x_train, x_test, y_train, y_test)\n",
    "print(\"| {:25} | {:17.7f} | {:13.7f} | {:8.7f} | {:8.7f} | {:11.7f} |\".format(clf_name, train_acc, test_acc, f1_macro, f1_micro, f1_weighted))"
   ]
  },
  {
   "cell_type": "code",
   "execution_count": 648,
   "id": "b5e7cfda",
   "metadata": {},
   "outputs": [],
   "source": [
    "#Preprocessed_texts_lemma_em"
   ]
  },
  {
   "cell_type": "code",
   "execution_count": 649,
   "id": "00ef1f05",
   "metadata": {},
   "outputs": [
    {
     "name": "stdout",
     "output_type": "stream",
     "text": [
      "              precision    recall  f1-score   support\n",
      "\n",
      "           0       0.79      1.00      0.88      1166\n",
      "           1       1.00      0.53      0.69       203\n",
      "           2       0.99      0.55      0.70       152\n",
      "           3       1.00      0.58      0.74       101\n",
      "           4       1.00      0.60      0.75        86\n",
      "           5       1.00      0.38      0.56        26\n",
      "           6       1.00      0.62      0.77        24\n",
      "           7       1.00      0.47      0.64        15\n",
      "           8       1.00      0.50      0.67        14\n",
      "           9       1.00      0.67      0.80        18\n",
      "          10       1.00      0.50      0.67         8\n",
      "          11       1.00      0.47      0.64        15\n",
      "          12       0.00      0.00      0.00        11\n",
      "          13       1.00      1.00      1.00         3\n",
      "          14       0.00      0.00      0.00         2\n",
      "\n",
      "    accuracy                           0.83      1844\n",
      "   macro avg       0.85      0.53      0.63      1844\n",
      "weighted avg       0.86      0.83      0.81      1844\n",
      "\n"
     ]
    },
    {
     "name": "stderr",
     "output_type": "stream",
     "text": [
      "/Users/kholann/opt/anaconda3/lib/python3.9/site-packages/sklearn/metrics/_classification.py:1318: UndefinedMetricWarning: Precision and F-score are ill-defined and being set to 0.0 in labels with no predicted samples. Use `zero_division` parameter to control this behavior.\n",
      "  _warn_prf(average, modifier, msg_start, len(result))\n",
      "/Users/kholann/opt/anaconda3/lib/python3.9/site-packages/sklearn/metrics/_classification.py:1318: UndefinedMetricWarning: Precision and F-score are ill-defined and being set to 0.0 in labels with no predicted samples. Use `zero_division` parameter to control this behavior.\n",
      "  _warn_prf(average, modifier, msg_start, len(result))\n",
      "/Users/kholann/opt/anaconda3/lib/python3.9/site-packages/sklearn/metrics/_classification.py:1318: UndefinedMetricWarning: Precision and F-score are ill-defined and being set to 0.0 in labels with no predicted samples. Use `zero_division` parameter to control this behavior.\n",
      "  _warn_prf(average, modifier, msg_start, len(result))\n"
     ]
    }
   ],
   "source": [
    "print(metrics.classification_report(y_test, predicted))"
   ]
  },
  {
   "cell_type": "code",
   "execution_count": 650,
   "id": "6a1ec4c5",
   "metadata": {},
   "outputs": [
    {
     "data": {
      "image/png": "[encoded data removed]",
      "text/plain": [
       "<Figure size 640x480 with 2 Axes>"
      ]
     },
     "metadata": {},
     "output_type": "display_data"
    }
   ],
   "source": [
    "confusion_matrix = metrics.confusion_matrix(y_test, predicted)\n",
    "cm_display = metrics.ConfusionMatrixDisplay(confusion_matrix = confusion_matrix, display_labels = [\"0\", \"1\", \"2\", \"3\", \"4\",\"5\",\"6\",\"7\",\"8\",\"9\",\"10\",\"11\",\"12\",\"13\",\"14\"])\n",
    "\n",
    "cm_display.plot()\n",
    "plt.show()"
   ]
  },
  {
   "cell_type": "code",
   "execution_count": 651,
   "id": "29d96f8a",
   "metadata": {},
   "outputs": [
    {
     "name": "stdout",
     "output_type": "stream",
     "text": [
      "| Classifier                | Training Accuracy | Test Accuracy | F1_macro | F1_micro | F1_weighted |\n",
      "| ------------------------- | ----------------- | ------------- | -------- | -------- | ----------- |\n",
      "| VotingClassifier          |         0.9296367 |     0.8308026 | 0.6334534 | 0.8308026 |   0.8132172 |\n"
     ]
    }
   ],
   "source": [
    "print(\"| {:25} | {} | {} | {} | {} | {} |\".format(\"Classifier\", \"Training Accuracy\", \"Test Accuracy\", \"F1_macro\", \"F1_micro\", \"F1_weighted\"))\n",
    "print(\"| {} | {} | {} | {} | {} | {} |\".format(\"-\"*25, \"-\"*17, \"-\"*13, \"-\"*8, \"-\"*8, \"-\"*11))\n",
    "clf_name = eclf_hard.__class__.__name__\n",
    "train_acc, test_acc, f1_macro, f1_micro, f1_weighted  = scores(eclf_hard, x_train, x_test, y_train, y_test)\n",
    "print(\"| {:25} | {:17.7f} | {:13.7f} | {:8.7f} | {:8.7f} | {:11.7f} |\".format(clf_name, train_acc, test_acc, f1_macro, f1_micro, f1_weighted))"
   ]
  },
  {
   "cell_type": "markdown",
   "id": "21c37e27",
   "metadata": {},
   "source": [
    "## Мягкое голосование"
   ]
  },
  {
   "cell_type": "code",
   "execution_count": 652,
   "id": "907528a8",
   "metadata": {},
   "outputs": [],
   "source": [
    "eclf_soft = VotingClassifier(estimators=[('lr', lr), ('svc', svc), ('rforest', rforest), ('dtree', dtree), ('nb', nb), ('gb', gb)], voting='soft')"
   ]
  },
  {
   "cell_type": "code",
   "execution_count": 653,
   "id": "a8e4460a",
   "metadata": {},
   "outputs": [
    {
     "data": {
      "text/plain": [
       "VotingClassifier(estimators=[('lr',\n",
       "                              LogisticRegression(max_iter=500,\n",
       "                                                 random_state=42)),\n",
       "                             ('svc', SVC(probability=True)),\n",
       "                             ('rforest',\n",
       "                              RandomForestClassifier(random_state=42)),\n",
       "                             ('dtree', DecisionTreeClassifier()),\n",
       "                             ('nb', GaussianNB()),\n",
       "                             ('gb',\n",
       "                              GradientBoostingClassifier(random_state=42))],\n",
       "                 voting='soft')"
      ]
     },
     "execution_count": 653,
     "metadata": {},
     "output_type": "execute_result"
    }
   ],
   "source": [
    "eclf_soft.fit(x_train, y_train)"
   ]
  },
  {
   "cell_type": "code",
   "execution_count": 654,
   "id": "47b7b20c",
   "metadata": {},
   "outputs": [],
   "source": [
    "predicted = eclf_soft.predict(x_test)"
   ]
  },
  {
   "cell_type": "code",
   "execution_count": 486,
   "id": "af75ec2e",
   "metadata": {},
   "outputs": [],
   "source": [
    "#Preprocessed_texts"
   ]
  },
  {
   "cell_type": "code",
   "execution_count": 487,
   "id": "f7b0ee8c",
   "metadata": {},
   "outputs": [
    {
     "name": "stdout",
     "output_type": "stream",
     "text": [
      "              precision    recall  f1-score   support\n",
      "\n",
      "           0       0.80      0.98      0.88      1166\n",
      "           1       0.87      0.55      0.67       203\n",
      "           2       0.95      0.57      0.71       152\n",
      "           3       0.95      0.60      0.74       101\n",
      "           4       1.00      0.63      0.77        86\n",
      "           5       1.00      0.50      0.67        26\n",
      "           6       1.00      0.62      0.77        24\n",
      "           7       0.90      0.60      0.72        15\n",
      "           8       1.00      0.50      0.67        14\n",
      "           9       1.00      0.78      0.88        18\n",
      "          10       0.80      0.50      0.62         8\n",
      "          11       1.00      0.60      0.75        15\n",
      "          12       0.80      0.36      0.50        11\n",
      "          13       0.75      1.00      0.86         3\n",
      "          14       0.00      0.00      0.00         2\n",
      "\n",
      "    accuracy                           0.83      1844\n",
      "   macro avg       0.85      0.59      0.68      1844\n",
      "weighted avg       0.85      0.83      0.82      1844\n",
      "\n"
     ]
    },
    {
     "name": "stderr",
     "output_type": "stream",
     "text": [
      "/Users/kholann/opt/anaconda3/lib/python3.9/site-packages/sklearn/metrics/_classification.py:1318: UndefinedMetricWarning: Precision and F-score are ill-defined and being set to 0.0 in labels with no predicted samples. Use `zero_division` parameter to control this behavior.\n",
      "  _warn_prf(average, modifier, msg_start, len(result))\n",
      "/Users/kholann/opt/anaconda3/lib/python3.9/site-packages/sklearn/metrics/_classification.py:1318: UndefinedMetricWarning: Precision and F-score are ill-defined and being set to 0.0 in labels with no predicted samples. Use `zero_division` parameter to control this behavior.\n",
      "  _warn_prf(average, modifier, msg_start, len(result))\n",
      "/Users/kholann/opt/anaconda3/lib/python3.9/site-packages/sklearn/metrics/_classification.py:1318: UndefinedMetricWarning: Precision and F-score are ill-defined and being set to 0.0 in labels with no predicted samples. Use `zero_division` parameter to control this behavior.\n",
      "  _warn_prf(average, modifier, msg_start, len(result))\n"
     ]
    }
   ],
   "source": [
    "print(metrics.classification_report(y_test, predicted))"
   ]
  },
  {
   "cell_type": "code",
   "execution_count": 488,
   "id": "75a7c26d",
   "metadata": {},
   "outputs": [
    {
     "data": {
      "image/png": "[encoded data removed]",
      "text/plain": [
       "<Figure size 640x480 with 2 Axes>"
      ]
     },
     "metadata": {},
     "output_type": "display_data"
    }
   ],
   "source": [
    "confusion_matrix = metrics.confusion_matrix(y_test, predicted)\n",
    "cm_display = metrics.ConfusionMatrixDisplay(confusion_matrix = confusion_matrix, display_labels = [\"0\", \"1\", \"2\", \"3\", \"4\",\"5\",\"6\",\"7\",\"8\",\"9\",\"10\",\"11\",\"12\",\"13\",\"14\"])\n",
    "\n",
    "cm_display.plot()\n",
    "plt.show()"
   ]
  },
  {
   "cell_type": "code",
   "execution_count": 489,
   "id": "77016487",
   "metadata": {},
   "outputs": [
    {
     "name": "stdout",
     "output_type": "stream",
     "text": [
      "| Classifier                | Training Accuracy | Test Accuracy | F1_macro | F1_micro | F1_weighted |\n",
      "| ------------------------- | ----------------- | ------------- | -------- | -------- | ----------- |\n",
      "| VotingClassifier          |         0.9741052 |     0.8329718 | 0.6799262 | 0.8329718 |   0.8201903 |\n"
     ]
    }
   ],
   "source": [
    "print(\"| {:25} | {} | {} | {} | {} | {} |\".format(\"Classifier\", \"Training Accuracy\", \"Test Accuracy\", \"F1_macro\", \"F1_micro\", \"F1_weighted\"))\n",
    "print(\"| {} | {} | {} | {} | {} | {} |\".format(\"-\"*25, \"-\"*17, \"-\"*13, \"-\"*8, \"-\"*8, \"-\"*11))\n",
    "clf_name = eclf_soft.__class__.__name__\n",
    "train_acc, test_acc, f1_macro, f1_micro, f1_weighted  = scores(eclf_soft, x_train, x_test, y_train, y_test)\n",
    "print(\"| {:25} | {:17.7f} | {:13.7f} | {:8.7f} | {:8.7f} | {:11.7f} |\".format(clf_name, train_acc, test_acc, f1_macro, f1_micro, f1_weighted))"
   ]
  },
  {
   "cell_type": "code",
   "execution_count": 536,
   "id": "d18b2d9a",
   "metadata": {},
   "outputs": [],
   "source": [
    "#Preprocessed_texts_no_punct"
   ]
  },
  {
   "cell_type": "code",
   "execution_count": 537,
   "id": "ce085d22",
   "metadata": {},
   "outputs": [
    {
     "name": "stdout",
     "output_type": "stream",
     "text": [
      "              precision    recall  f1-score   support\n",
      "\n",
      "           0       0.66      0.94      0.78      1166\n",
      "           1       0.19      0.05      0.08       203\n",
      "           2       0.50      0.16      0.25       152\n",
      "           3       0.15      0.02      0.04       101\n",
      "           4       0.40      0.09      0.15        86\n",
      "           5       0.38      0.12      0.18        26\n",
      "           6       0.20      0.08      0.12        24\n",
      "           7       0.00      0.00      0.00        15\n",
      "           8       0.00      0.00      0.00        14\n",
      "           9       0.33      0.28      0.30        18\n",
      "          10       0.00      0.00      0.00         8\n",
      "          11       0.00      0.00      0.00        15\n",
      "          12       0.00      0.00      0.00        11\n",
      "          13       0.33      0.33      0.33         3\n",
      "          14       0.00      0.00      0.00         2\n",
      "\n",
      "    accuracy                           0.63      1844\n",
      "   macro avg       0.21      0.14      0.15      1844\n",
      "weighted avg       0.52      0.63      0.54      1844\n",
      "\n"
     ]
    },
    {
     "name": "stderr",
     "output_type": "stream",
     "text": [
      "/Users/kholann/opt/anaconda3/lib/python3.9/site-packages/sklearn/metrics/_classification.py:1318: UndefinedMetricWarning: Precision and F-score are ill-defined and being set to 0.0 in labels with no predicted samples. Use `zero_division` parameter to control this behavior.\n",
      "  _warn_prf(average, modifier, msg_start, len(result))\n",
      "/Users/kholann/opt/anaconda3/lib/python3.9/site-packages/sklearn/metrics/_classification.py:1318: UndefinedMetricWarning: Precision and F-score are ill-defined and being set to 0.0 in labels with no predicted samples. Use `zero_division` parameter to control this behavior.\n",
      "  _warn_prf(average, modifier, msg_start, len(result))\n",
      "/Users/kholann/opt/anaconda3/lib/python3.9/site-packages/sklearn/metrics/_classification.py:1318: UndefinedMetricWarning: Precision and F-score are ill-defined and being set to 0.0 in labels with no predicted samples. Use `zero_division` parameter to control this behavior.\n",
      "  _warn_prf(average, modifier, msg_start, len(result))\n"
     ]
    }
   ],
   "source": [
    "print(metrics.classification_report(y_test, predicted))"
   ]
  },
  {
   "cell_type": "code",
   "execution_count": 538,
   "id": "e532706c",
   "metadata": {},
   "outputs": [
    {
     "data": {
      "image/png": "[encoded data removed]",
      "text/plain": [
       "<Figure size 640x480 with 2 Axes>"
      ]
     },
     "metadata": {},
     "output_type": "display_data"
    }
   ],
   "source": [
    "confusion_matrix = metrics.confusion_matrix(y_test, predicted)\n",
    "cm_display = metrics.ConfusionMatrixDisplay(confusion_matrix = confusion_matrix, display_labels = [\"0\", \"1\", \"2\", \"3\", \"4\",\"5\",\"6\",\"7\",\"8\",\"9\",\"10\",\"11\",\"12\",\"13\",\"14\"])\n",
    "\n",
    "cm_display.plot()\n",
    "plt.show()"
   ]
  },
  {
   "cell_type": "code",
   "execution_count": 539,
   "id": "32d4c1ea",
   "metadata": {},
   "outputs": [
    {
     "name": "stdout",
     "output_type": "stream",
     "text": [
      "| Classifier                | Training Accuracy | Test Accuracy | F1_macro | F1_micro | F1_weighted |\n",
      "| ------------------------- | ----------------- | ------------- | -------- | -------- | ----------- |\n",
      "| VotingClassifier          |         0.9654284 |     0.6274403 | 0.1480374 | 0.6274403 |   0.5375226 |\n"
     ]
    }
   ],
   "source": [
    "print(\"| {:25} | {} | {} | {} | {} | {} |\".format(\"Classifier\", \"Training Accuracy\", \"Test Accuracy\", \"F1_macro\", \"F1_micro\", \"F1_weighted\"))\n",
    "print(\"| {} | {} | {} | {} | {} | {} |\".format(\"-\"*25, \"-\"*17, \"-\"*13, \"-\"*8, \"-\"*8, \"-\"*11))\n",
    "clf_name = eclf_soft.__class__.__name__\n",
    "train_acc, test_acc, f1_macro, f1_micro, f1_weighted  = scores(eclf_soft, x_train, x_test, y_train, y_test)\n",
    "print(\"| {:25} | {:17.7f} | {:13.7f} | {:8.7f} | {:8.7f} | {:11.7f} |\".format(clf_name, train_acc, test_acc, f1_macro, f1_micro, f1_weighted))"
   ]
  },
  {
   "cell_type": "code",
   "execution_count": 655,
   "id": "349fff2c",
   "metadata": {},
   "outputs": [],
   "source": [
    "#Preprocessed_texts_lemma_em"
   ]
  },
  {
   "cell_type": "code",
   "execution_count": 656,
   "id": "c8982aa9",
   "metadata": {},
   "outputs": [
    {
     "name": "stdout",
     "output_type": "stream",
     "text": [
      "              precision    recall  f1-score   support\n",
      "\n",
      "           0       0.80      0.99      0.88      1166\n",
      "           1       0.93      0.54      0.68       203\n",
      "           2       0.95      0.57      0.71       152\n",
      "           3       0.95      0.59      0.73       101\n",
      "           4       1.00      0.62      0.76        86\n",
      "           5       1.00      0.50      0.67        26\n",
      "           6       1.00      0.62      0.77        24\n",
      "           7       1.00      0.53      0.70        15\n",
      "           8       1.00      0.50      0.67        14\n",
      "           9       0.93      0.78      0.85        18\n",
      "          10       1.00      0.50      0.67         8\n",
      "          11       1.00      0.60      0.75        15\n",
      "          12       1.00      0.45      0.62        11\n",
      "          13       1.00      1.00      1.00         3\n",
      "          14       0.00      0.00      0.00         2\n",
      "\n",
      "    accuracy                           0.83      1844\n",
      "   macro avg       0.90      0.59      0.70      1844\n",
      "weighted avg       0.86      0.83      0.82      1844\n",
      "\n"
     ]
    },
    {
     "name": "stderr",
     "output_type": "stream",
     "text": [
      "/Users/kholann/opt/anaconda3/lib/python3.9/site-packages/sklearn/metrics/_classification.py:1318: UndefinedMetricWarning: Precision and F-score are ill-defined and being set to 0.0 in labels with no predicted samples. Use `zero_division` parameter to control this behavior.\n",
      "  _warn_prf(average, modifier, msg_start, len(result))\n",
      "/Users/kholann/opt/anaconda3/lib/python3.9/site-packages/sklearn/metrics/_classification.py:1318: UndefinedMetricWarning: Precision and F-score are ill-defined and being set to 0.0 in labels with no predicted samples. Use `zero_division` parameter to control this behavior.\n",
      "  _warn_prf(average, modifier, msg_start, len(result))\n",
      "/Users/kholann/opt/anaconda3/lib/python3.9/site-packages/sklearn/metrics/_classification.py:1318: UndefinedMetricWarning: Precision and F-score are ill-defined and being set to 0.0 in labels with no predicted samples. Use `zero_division` parameter to control this behavior.\n",
      "  _warn_prf(average, modifier, msg_start, len(result))\n"
     ]
    }
   ],
   "source": [
    "print(metrics.classification_report(y_test, predicted))"
   ]
  },
  {
   "cell_type": "code",
   "execution_count": 657,
   "id": "5716736f",
   "metadata": {},
   "outputs": [
    {
     "data": {
      "image/png": "[encoded data removed]",
      "text/plain": [
       "<Figure size 640x480 with 2 Axes>"
      ]
     },
     "metadata": {},
     "output_type": "display_data"
    }
   ],
   "source": [
    "confusion_matrix = metrics.confusion_matrix(y_test, predicted)\n",
    "cm_display = metrics.ConfusionMatrixDisplay(confusion_matrix = confusion_matrix, display_labels = [\"0\", \"1\", \"2\", \"3\", \"4\",\"5\",\"6\",\"7\",\"8\",\"9\",\"10\",\"11\",\"12\",\"13\",\"14\"])\n",
    "\n",
    "cm_display.plot()\n",
    "plt.show()"
   ]
  },
  {
   "cell_type": "code",
   "execution_count": 658,
   "id": "d7a52fef",
   "metadata": {},
   "outputs": [
    {
     "name": "stdout",
     "output_type": "stream",
     "text": [
      "| Classifier                | Training Accuracy | Test Accuracy | F1_macro | F1_micro | F1_weighted |\n",
      "| ------------------------- | ----------------- | ------------- | -------- | -------- | ----------- |\n",
      "| VotingClassifier          |         0.9842733 |     0.8340564 | 0.6970339 | 0.8340564 |   0.8205762 |\n"
     ]
    }
   ],
   "source": [
    "print(\"| {:25} | {} | {} | {} | {} | {} |\".format(\"Classifier\", \"Training Accuracy\", \"Test Accuracy\", \"F1_macro\", \"F1_micro\", \"F1_weighted\"))\n",
    "print(\"| {} | {} | {} | {} | {} | {} |\".format(\"-\"*25, \"-\"*17, \"-\"*13, \"-\"*8, \"-\"*8, \"-\"*11))\n",
    "clf_name = eclf_soft.__class__.__name__\n",
    "train_acc, test_acc, f1_macro, f1_micro, f1_weighted  = scores(eclf_soft, x_train, x_test, y_train, y_test)\n",
    "print(\"| {:25} | {:17.7f} | {:13.7f} | {:8.7f} | {:8.7f} | {:11.7f} |\".format(clf_name, train_acc, test_acc, f1_macro, f1_micro, f1_weighted))"
   ]
  },
  {
   "cell_type": "markdown",
   "id": "e94ae665",
   "metadata": {},
   "source": [
    "## Обучаем модели машинного обучения"
   ]
  },
  {
   "cell_type": "code",
   "execution_count": 275,
   "id": "8b2b7763",
   "metadata": {},
   "outputs": [],
   "source": [
    "#Preprocessed_texts"
   ]
  },
  {
   "cell_type": "code",
   "execution_count": 276,
   "id": "d3ce1caf",
   "metadata": {},
   "outputs": [
    {
     "name": "stdout",
     "output_type": "stream",
     "text": [
      "| Classifier                | Training Accuracy | Test Accuracy | F1_macro | F1_micro | F1_weighted |\n",
      "| ------------------------- | ----------------- | ------------- | -------- | -------- | ----------- |\n",
      "| LogisticRegression        |         0.8966920 |     0.8134490 | 0.5174497 | 0.8134490 |   0.7897178 |\n",
      "| SVC                       |         0.8695770 |     0.7635575 | 0.4026080 | 0.7635575 |   0.7221122 |\n",
      "| RandomForestClassifier    |         0.9840022 |     0.8172451 | 0.6509571 | 0.8172451 |   0.8054491 |\n",
      "| DecisionTreeClassifier    |         0.9840022 |     0.8015184 | 0.6378899 | 0.8015184 |   0.7945385 |\n",
      "| GaussianNB                |         0.8442245 |     0.5764642 | 0.2849338 | 0.5764642 |   0.6217466 |\n",
      "| GradientBoostingClassifier |         0.8731020 |     0.8286334 | 0.6526506 | 0.8286334 |   0.8148045 |\n"
     ]
    }
   ],
   "source": [
    "# train and test them \n",
    "print(\"| {:25} | {} | {} | {} | {} | {} |\".format(\"Classifier\", \"Training Accuracy\", \"Test Accuracy\", \"F1_macro\", \"F1_micro\", \"F1_weighted\"))\n",
    "print(\"| {} | {} | {} | {} | {} | {} |\".format(\"-\"*25, \"-\"*17, \"-\"*13, \"-\"*8, \"-\"*8, \"-\"*11))\n",
    "for clf in clifs: \n",
    "    clf_name = clf.__class__.__name__\n",
    "    train_acc, test_acc, f1_macro, f1_micro, f1_weighted  = train_test(clf, x_train, x_test, y_train, y_test)\n",
    "    print(\"| {:25} | {:17.7f} | {:13.7f} | {:8.7f} | {:8.7f} | {:11.7f} |\".format(clf_name, train_acc, test_acc, f1_macro, f1_micro, f1_weighted))"
   ]
  },
  {
   "cell_type": "code",
   "execution_count": 541,
   "id": "11c8e78d",
   "metadata": {},
   "outputs": [],
   "source": [
    "#Preprocessed_texts_no_punct"
   ]
  },
  {
   "cell_type": "code",
   "execution_count": 542,
   "id": "40b25086",
   "metadata": {},
   "outputs": [
    {
     "name": "stdout",
     "output_type": "stream",
     "text": [
      "| Classifier                | Training Accuracy | Test Accuracy | F1_macro | F1_micro | F1_weighted |\n",
      "| ------------------------- | ----------------- | ------------- | -------- | -------- | ----------- |\n",
      "| LogisticRegression        |         0.7962310 |     0.6372017 | 0.0832547 | 0.6372017 |   0.5218666 |\n",
      "| SVC                       |         0.7177332 |     0.6393709 | 0.0699764 | 0.6393709 |   0.5059810 |\n",
      "| RandomForestClassifier    |         0.9819685 |     0.6127983 | 0.1536240 | 0.6127983 |   0.5305974 |\n",
      "| DecisionTreeClassifier    |         0.9819685 |     0.5455531 | 0.1341763 | 0.5455531 |   0.5056686 |\n",
      "| GaussianNB                |         0.7754881 |     0.3416486 | 0.1086380 | 0.3416486 |   0.3911087 |\n",
      "| GradientBoostingClassifier |         0.7341377 |     0.6252711 | 0.1258174 | 0.6252711 |   0.5135137 |\n"
     ]
    }
   ],
   "source": [
    "print(\"| {:25} | {} | {} | {} | {} | {} |\".format(\"Classifier\", \"Training Accuracy\", \"Test Accuracy\", \"F1_macro\", \"F1_micro\", \"F1_weighted\"))\n",
    "print(\"| {} | {} | {} | {} | {} | {} |\".format(\"-\"*25, \"-\"*17, \"-\"*13, \"-\"*8, \"-\"*8, \"-\"*11))\n",
    "for clf in clifs: \n",
    "    clf_name = clf.__class__.__name__\n",
    "    train_acc, test_acc, f1_macro, f1_micro, f1_weighted  = train_test(clf, x_train, x_test, y_train, y_test)\n",
    "    print(\"| {:25} | {:17.7f} | {:13.7f} | {:8.7f} | {:8.7f} | {:11.7f} |\".format(clf_name, train_acc, test_acc, f1_macro, f1_micro, f1_weighted))"
   ]
  },
  {
   "cell_type": "code",
   "execution_count": 660,
   "id": "5aea004e",
   "metadata": {},
   "outputs": [],
   "source": [
    "#Preprocessed_texts_lemma_em"
   ]
  },
  {
   "cell_type": "code",
   "execution_count": 661,
   "id": "60cfb6a3",
   "metadata": {},
   "outputs": [
    {
     "name": "stdout",
     "output_type": "stream",
     "text": [
      "| Classifier                | Training Accuracy | Test Accuracy | F1_macro | F1_micro | F1_weighted |\n",
      "| ------------------------- | ----------------- | ------------- | -------- | -------- | ----------- |\n",
      "| LogisticRegression        |         0.9034707 |     0.8101952 | 0.5148780 | 0.8101952 |   0.7863667 |\n",
      "| SVC                       |         0.8661876 |     0.7630152 | 0.4015703 | 0.7630152 |   0.7211327 |\n",
      "| RandomForestClassifier    |         0.9921367 |     0.8275488 | 0.6676540 | 0.8275488 |   0.8142656 |\n",
      "| DecisionTreeClassifier    |         0.9921367 |     0.8009761 | 0.6629572 | 0.8009761 |   0.7928059 |\n",
      "| GaussianNB                |         0.8888286 |     0.5596529 | 0.2725690 | 0.5596529 |   0.6074356 |\n",
      "| GradientBoostingClassifier |         0.8751356 |     0.8313449 | 0.6700886 | 0.8313449 |   0.8174398 |\n"
     ]
    }
   ],
   "source": [
    "print(\"| {:25} | {} | {} | {} | {} | {} |\".format(\"Classifier\", \"Training Accuracy\", \"Test Accuracy\", \"F1_macro\", \"F1_micro\", \"F1_weighted\"))\n",
    "print(\"| {} | {} | {} | {} | {} | {} |\".format(\"-\"*25, \"-\"*17, \"-\"*13, \"-\"*8, \"-\"*8, \"-\"*11))\n",
    "for clf in clifs: \n",
    "    clf_name = clf.__class__.__name__\n",
    "    train_acc, test_acc, f1_macro, f1_micro, f1_weighted  = train_test(clf, x_train, x_test, y_train, y_test)\n",
    "    print(\"| {:25} | {:17.7f} | {:13.7f} | {:8.7f} | {:8.7f} | {:11.7f} |\".format(clf_name, train_acc, test_acc, f1_macro, f1_micro, f1_weighted))"
   ]
  },
  {
   "cell_type": "markdown",
   "id": "899d804b",
   "metadata": {},
   "source": [
    "## Оцениваем качество обучения на тестовом наборе данных"
   ]
  },
  {
   "cell_type": "markdown",
   "id": "128cb47b",
   "metadata": {},
   "source": [
    "Определяем долю правильных ответов (accuracy) на тестовом наборе данных"
   ]
  },
  {
   "cell_type": "code",
   "execution_count": 662,
   "id": "953ed3f0",
   "metadata": {},
   "outputs": [],
   "source": [
    "#Preprocessed_texts_lemma_em"
   ]
  },
  {
   "cell_type": "code",
   "execution_count": 663,
   "id": "09486c06",
   "metadata": {},
   "outputs": [],
   "source": [
    "# Мажоритарное голосование"
   ]
  },
  {
   "cell_type": "code",
   "execution_count": 664,
   "id": "55d0a3bd",
   "metadata": {},
   "outputs": [
    {
     "data": {
      "text/plain": [
       "0.8308026030368764"
      ]
     },
     "execution_count": 664,
     "metadata": {},
     "output_type": "execute_result"
    }
   ],
   "source": [
    "eclf_hard.score(x_test, y_test)"
   ]
  },
  {
   "cell_type": "code",
   "execution_count": 665,
   "id": "f49ce9d1",
   "metadata": {},
   "outputs": [],
   "source": [
    "# Мягкое голосование"
   ]
  },
  {
   "cell_type": "code",
   "execution_count": 666,
   "id": "dd1f430f",
   "metadata": {},
   "outputs": [
    {
     "data": {
      "text/plain": [
       "0.834056399132321"
      ]
     },
     "execution_count": 666,
     "metadata": {},
     "output_type": "execute_result"
    }
   ],
   "source": [
    "eclf_soft.score(x_test, y_test)"
   ]
  },
  {
   "cell_type": "code",
   "execution_count": 667,
   "id": "1e1d2e96",
   "metadata": {},
   "outputs": [
    {
     "data": {
      "text/plain": [
       "0.8101952277657267"
      ]
     },
     "execution_count": 667,
     "metadata": {},
     "output_type": "execute_result"
    }
   ],
   "source": [
    "# LogisticRegression\n",
    "lr.score(x_test, y_test)"
   ]
  },
  {
   "cell_type": "code",
   "execution_count": 668,
   "id": "53f5fdc7",
   "metadata": {},
   "outputs": [
    {
     "data": {
      "text/plain": [
       "0.7630151843817787"
      ]
     },
     "execution_count": 668,
     "metadata": {},
     "output_type": "execute_result"
    }
   ],
   "source": [
    "# SVC\n",
    "svc.score(x_test, y_test)"
   ]
  },
  {
   "cell_type": "code",
   "execution_count": 670,
   "id": "1f4e8abc",
   "metadata": {},
   "outputs": [
    {
     "data": {
      "text/plain": [
       "0.8275488069414316"
      ]
     },
     "execution_count": 670,
     "metadata": {},
     "output_type": "execute_result"
    }
   ],
   "source": [
    "# RandomForestClassifier\n",
    "rforest.score(x_test, y_test)"
   ]
  },
  {
   "cell_type": "code",
   "execution_count": 671,
   "id": "cac2b5cf",
   "metadata": {},
   "outputs": [
    {
     "data": {
      "text/plain": [
       "0.8009761388286334"
      ]
     },
     "execution_count": 671,
     "metadata": {},
     "output_type": "execute_result"
    }
   ],
   "source": [
    "# DecisionTreeClassifier\n",
    "dtree.score(x_test, y_test)"
   ]
  },
  {
   "cell_type": "code",
   "execution_count": 672,
   "id": "914d8ec2",
   "metadata": {},
   "outputs": [
    {
     "data": {
      "text/plain": [
       "0.559652928416486"
      ]
     },
     "execution_count": 672,
     "metadata": {},
     "output_type": "execute_result"
    }
   ],
   "source": [
    "# GaussianNB\n",
    "nb.score(x_test, y_test)"
   ]
  },
  {
   "cell_type": "code",
   "execution_count": 673,
   "id": "ea581047",
   "metadata": {},
   "outputs": [
    {
     "data": {
      "text/plain": [
       "0.8313449023861171"
      ]
     },
     "execution_count": 673,
     "metadata": {},
     "output_type": "execute_result"
    }
   ],
   "source": [
    "# GradientBoostingClassifier\n",
    "gb.score(x_test, y_test)"
   ]
  },
  {
   "cell_type": "code",
   "execution_count": 676,
   "id": "413868ed",
   "metadata": {},
   "outputs": [],
   "source": [
    "# df_em_1_token_10 9220 записей c clean_text\n",
    "# 0.8210412147505423 на тексте как есть с пунктуацией и с эмодзи\n",
    "# 0.6518438177874186 на тексте без пунктуации и без эмодзи\n",
    "# 0.8167028199566161 лемматизированный текст c пунктуацией и с эмодзи"
   ]
  },
  {
   "cell_type": "code",
   "execution_count": 678,
   "id": "979f09e0",
   "metadata": {},
   "outputs": [],
   "source": [
    "# df_em_1_token_10 9220 записей c clean_text\n",
    "# на тексте как есть с пунктуацией и с эмодзи\n",
    "\n",
    "# f1_score macro  = 0.5276053318409015\n",
    "# f1_score micro = 0.8210412147505423\n",
    "# f1_score weighted = 0.7997645366449052\n",
    "# f1_score average=None array([0.87779434, 0.66049383, 0.70292887, 0.68531469, 0.69565217,\n",
    " #      0.52173913, 0.78947368, 0.74074074, 0.75862069, 0.68965517,\n",
    "  #     0.66666667, 0.125     , 0.        , 0.        , 0.        ])\n",
    "\n",
    "\n",
    "# на тексте без пунктуации и без эмодзи\n",
    "# f1_score macro  = 0.10245011355819066\n",
    "# f1_score micro = 0.6518438177874186\n",
    "# f1_score weighted = 0.5475694579186766\n",
    "# f1_score average = None \n",
    "# array([0.78886626, 0.05106383, 0.27979275, 0.06      , 0.02380952,\n",
    "#       0.07692308, 0.        , 0.        , 0.        , 0.15384615,\n",
    "#       0.        , 0.        , 0.        , 0.        ])\n",
    "\n",
    "# лемматизированный текст c пунктуацией и с эмодзи\n",
    "# f1_score macro  = 0.4759290806236384\n",
    "# f1_score micro = 0.8167028199566161\n",
    "# f1_score weighted = 0.7936116041387886\n",
    "# f1_score average = None \n",
    "# array([0.87647929, 0.71005917, 0.64356436, 0.68789809, 0.61946903,\n",
    "#       0.45454545, 0.77419355, 0.66666667, 0.6       , 0.60606061,\n",
    "#       0.5       , 0.        , 0.        , 0.        , 0.        ])"
   ]
  },
  {
   "cell_type": "markdown",
   "id": "38dc8bdc",
   "metadata": {},
   "source": [
    "Применяем модель"
   ]
  },
  {
   "cell_type": "code",
   "execution_count": 679,
   "id": "f91df0d2",
   "metadata": {},
   "outputs": [
    {
     "data": {
      "text/plain": [
       "1844"
      ]
     },
     "execution_count": 679,
     "metadata": {},
     "output_type": "execute_result"
    }
   ],
   "source": [
    "len(test)"
   ]
  },
  {
   "cell_type": "code",
   "execution_count": 681,
   "id": "bf1b33dc",
   "metadata": {},
   "outputs": [],
   "source": [
    "#test['clean_text'][12737]\n",
    "#test['clean_text'][5080]"
   ]
  },
  {
   "cell_type": "code",
   "execution_count": 682,
   "id": "2feb9bd7",
   "metadata": {},
   "outputs": [],
   "source": [
    "#test['class'][12737], test['emotion'][12737], test['tonality'][12737]\n",
    "#test['class'][5080], test['emotion'][5080], test['tonality'][5080]"
   ]
  },
  {
   "cell_type": "code",
   "execution_count": 683,
   "id": "3031d64f",
   "metadata": {},
   "outputs": [],
   "source": [
    "#text = \"возможно его уже нет в живых 😭\"\n",
    "#text = \"Хех и сразу музыка в голове\"\n",
    "#text = \"я даже неделю не могу продержаться 😭\"\n",
    "#text = test['clean_text'][12737]\n",
    "#text = test['clean_text'][5080]\n",
    "text = \"жизнь прекрасна!\""
   ]
  },
  {
   "cell_type": "markdown",
   "id": "87df30e6",
   "metadata": {},
   "source": [
    "Подготовка текста к обработке"
   ]
  },
  {
   "cell_type": "code",
   "execution_count": 684,
   "id": "b33f4b63",
   "metadata": {},
   "outputs": [],
   "source": [
    "preprocessed_text = preprocess_lemma_em(text)"
   ]
  },
  {
   "cell_type": "code",
   "execution_count": 685,
   "id": "13caf503",
   "metadata": {},
   "outputs": [
    {
     "data": {
      "text/plain": [
       "['жизнь', 'прекрасна!']"
      ]
     },
     "execution_count": 685,
     "metadata": {},
     "output_type": "execute_result"
    }
   ],
   "source": [
    "preprocessed_text"
   ]
  },
  {
   "cell_type": "code",
   "execution_count": 686,
   "id": "19e474c4",
   "metadata": {},
   "outputs": [],
   "source": [
    "text_seq = text_to_sequence(preprocessed_text, word_to_index)"
   ]
  },
  {
   "cell_type": "code",
   "execution_count": 687,
   "id": "b6f2db86",
   "metadata": {},
   "outputs": [
    {
     "data": {
      "text/plain": [
       "[113]"
      ]
     },
     "execution_count": 687,
     "metadata": {},
     "output_type": "execute_result"
    }
   ],
   "source": [
    "text_seq"
   ]
  },
  {
   "cell_type": "code",
   "execution_count": 688,
   "id": "edc06f27",
   "metadata": {},
   "outputs": [],
   "source": [
    "text_bow = vectorize_sequences([text_seq], max_words)"
   ]
  },
  {
   "cell_type": "code",
   "execution_count": 689,
   "id": "7ccaa4cf",
   "metadata": {},
   "outputs": [
    {
     "data": {
      "text/plain": [
       "array([0., 0., 0., 0., 0., 0., 0., 0., 0., 0., 0., 0., 0., 0., 0., 0., 0.,\n",
       "       0., 0., 0., 0., 0., 0., 0., 0., 0., 0., 0., 0., 0., 0., 0., 0., 0.,\n",
       "       0., 0., 0., 0., 0., 0., 0., 0., 0., 0., 0., 0., 0., 0., 0., 0., 0.,\n",
       "       0., 0., 0., 0., 0., 0., 0., 0., 0., 0., 0., 0., 0., 0., 0., 0., 0.,\n",
       "       0., 0., 0., 0., 0., 0., 0., 0., 0., 0., 0., 0., 0., 0., 0., 0., 0.,\n",
       "       0., 0., 0., 0., 0., 0., 0., 0., 0., 0., 0., 0., 0., 0., 0.])"
      ]
     },
     "execution_count": 689,
     "metadata": {},
     "output_type": "execute_result"
    }
   ],
   "source": [
    "text_bow[0][0:100]"
   ]
  },
  {
   "cell_type": "markdown",
   "id": "49f73d8f",
   "metadata": {},
   "source": [
    "Выполняем распознавание"
   ]
  },
  {
   "cell_type": "code",
   "execution_count": 690,
   "id": "6ad51c82",
   "metadata": {},
   "outputs": [],
   "source": [
    "# Мажоритарное голосование"
   ]
  },
  {
   "cell_type": "code",
   "execution_count": 691,
   "id": "4a05f314",
   "metadata": {},
   "outputs": [],
   "source": [
    "result = eclf_hard.predict(text_bow)"
   ]
  },
  {
   "cell_type": "code",
   "execution_count": 692,
   "id": "3b8778dd",
   "metadata": {},
   "outputs": [
    {
     "data": {
      "text/plain": [
       "(array([0]), 'smile positive/negative')"
      ]
     },
     "execution_count": 692,
     "metadata": {},
     "output_type": "execute_result"
    }
   ],
   "source": [
    "result, emoji_dict[str(result[0])]"
   ]
  },
  {
   "cell_type": "code",
   "execution_count": 693,
   "id": "9fb55fa3",
   "metadata": {},
   "outputs": [],
   "source": [
    "# Мягкое голосование"
   ]
  },
  {
   "cell_type": "code",
   "execution_count": 694,
   "id": "6f61d20d",
   "metadata": {},
   "outputs": [],
   "source": [
    "result = eclf_soft.predict(text_bow)"
   ]
  },
  {
   "cell_type": "code",
   "execution_count": 695,
   "id": "c3509b56",
   "metadata": {},
   "outputs": [
    {
     "data": {
      "text/plain": [
       "(array([0]), 'smile positive/negative')"
      ]
     },
     "execution_count": 695,
     "metadata": {},
     "output_type": "execute_result"
    }
   ],
   "source": [
    "result, emoji_dict[str(result[0])]"
   ]
  },
  {
   "cell_type": "code",
   "execution_count": 696,
   "id": "720758dd",
   "metadata": {},
   "outputs": [],
   "source": [
    "result_clf = []\n",
    "for clf in clifs:\n",
    "    result_clf.append(clf.predict(text_bow))"
   ]
  },
  {
   "cell_type": "code",
   "execution_count": 697,
   "id": "e2dce196",
   "metadata": {},
   "outputs": [
    {
     "data": {
      "text/plain": [
       "[array([0]), array([0]), array([0]), array([0]), array([10]), array([0])]"
      ]
     },
     "execution_count": 697,
     "metadata": {},
     "output_type": "execute_result"
    }
   ],
   "source": [
    "result_clf"
   ]
  },
  {
   "cell_type": "code",
   "execution_count": 698,
   "id": "6ab5cfe3",
   "metadata": {},
   "outputs": [
    {
     "name": "stdout",
     "output_type": "stream",
     "text": [
      "0 smile positive/negative\n",
      "0 smile positive/negative\n",
      "0 smile positive/negative\n",
      "0 smile positive/negative\n",
      "10 disgust neutral/skeptical\n",
      "0 smile positive/negative\n"
     ]
    }
   ],
   "source": [
    "for i in range(0, len(result_clf)):\n",
    "    res = result_clf[i][0]\n",
    "    print(res, emoji_dict[str(res)])"
   ]
  },
  {
   "cell_type": "code",
   "execution_count": 699,
   "id": "55aa4aa5",
   "metadata": {},
   "outputs": [],
   "source": [
    "#i = 0\n",
    "#while i < len(result_clf):\n",
    " #   print(emoji_dict[str(result_clf[i][0])])\n",
    "  #  i += 1"
   ]
  },
  {
   "cell_type": "code",
   "execution_count": 700,
   "id": "3a97f247",
   "metadata": {},
   "outputs": [],
   "source": [
    "# Мажоритарное голосование"
   ]
  },
  {
   "cell_type": "code",
   "execution_count": 701,
   "id": "79450344",
   "metadata": {},
   "outputs": [
    {
     "ename": "AttributeError",
     "evalue": "predict_proba is not available when voting='hard'",
     "output_type": "error",
     "traceback": [
      "\u001b[0;31m---------------------------------------------------------------------------\u001b[0m",
      "\u001b[0;31mAttributeError\u001b[0m                            Traceback (most recent call last)",
      "\u001b[0;32m/var/folders/hm/7gxpj72d2cv2fg7n4jvg1tkm0000gn/T/ipykernel_25927/1007412134.py\u001b[0m in \u001b[0;36m<module>\u001b[0;34m\u001b[0m\n\u001b[0;32m----> 1\u001b[0;31m \u001b[0mresult\u001b[0m \u001b[0;34m=\u001b[0m \u001b[0meclf_hard\u001b[0m\u001b[0;34m.\u001b[0m\u001b[0mpredict_proba\u001b[0m\u001b[0;34m(\u001b[0m\u001b[0mtext_bow\u001b[0m\u001b[0;34m)\u001b[0m\u001b[0;34m\u001b[0m\u001b[0;34m\u001b[0m\u001b[0m\n\u001b[0m",
      "\u001b[0;32m~/opt/anaconda3/lib/python3.9/site-packages/sklearn/utils/metaestimators.py\u001b[0m in \u001b[0;36m__get__\u001b[0;34m(self, obj, owner)\u001b[0m\n\u001b[1;32m    107\u001b[0m             \u001b[0;31m# delegate only on instances, not the classes.\u001b[0m\u001b[0;34m\u001b[0m\u001b[0;34m\u001b[0m\u001b[0m\n\u001b[1;32m    108\u001b[0m             \u001b[0;31m# this is to allow access to the docstrings.\u001b[0m\u001b[0;34m\u001b[0m\u001b[0;34m\u001b[0m\u001b[0m\n\u001b[0;32m--> 109\u001b[0;31m             \u001b[0;32mif\u001b[0m \u001b[0;32mnot\u001b[0m \u001b[0mself\u001b[0m\u001b[0;34m.\u001b[0m\u001b[0mcheck\u001b[0m\u001b[0;34m(\u001b[0m\u001b[0mobj\u001b[0m\u001b[0;34m)\u001b[0m\u001b[0;34m:\u001b[0m\u001b[0;34m\u001b[0m\u001b[0;34m\u001b[0m\u001b[0m\n\u001b[0m\u001b[1;32m    110\u001b[0m                 \u001b[0;32mraise\u001b[0m \u001b[0mattr_err\u001b[0m\u001b[0;34m\u001b[0m\u001b[0;34m\u001b[0m\u001b[0m\n\u001b[1;32m    111\u001b[0m \u001b[0;34m\u001b[0m\u001b[0m\n",
      "\u001b[0;32m~/opt/anaconda3/lib/python3.9/site-packages/sklearn/ensemble/_voting.py\u001b[0m in \u001b[0;36m_check_voting\u001b[0;34m(self)\u001b[0m\n\u001b[1;32m    359\u001b[0m     \u001b[0;32mdef\u001b[0m \u001b[0m_check_voting\u001b[0m\u001b[0;34m(\u001b[0m\u001b[0mself\u001b[0m\u001b[0;34m)\u001b[0m\u001b[0;34m:\u001b[0m\u001b[0;34m\u001b[0m\u001b[0;34m\u001b[0m\u001b[0m\n\u001b[1;32m    360\u001b[0m         \u001b[0;32mif\u001b[0m \u001b[0mself\u001b[0m\u001b[0;34m.\u001b[0m\u001b[0mvoting\u001b[0m \u001b[0;34m==\u001b[0m \u001b[0;34m\"hard\"\u001b[0m\u001b[0;34m:\u001b[0m\u001b[0;34m\u001b[0m\u001b[0;34m\u001b[0m\u001b[0m\n\u001b[0;32m--> 361\u001b[0;31m             raise AttributeError(\n\u001b[0m\u001b[1;32m    362\u001b[0m                 \u001b[0;34mf\"predict_proba is not available when voting={repr(self.voting)}\"\u001b[0m\u001b[0;34m\u001b[0m\u001b[0;34m\u001b[0m\u001b[0m\n\u001b[1;32m    363\u001b[0m             )\n",
      "\u001b[0;31mAttributeError\u001b[0m: predict_proba is not available when voting='hard'"
     ]
    }
   ],
   "source": [
    "result = eclf_hard.predict_proba(text_bow)"
   ]
  },
  {
   "cell_type": "code",
   "execution_count": 702,
   "id": "431979d0",
   "metadata": {},
   "outputs": [],
   "source": [
    "# Мягкое голосование"
   ]
  },
  {
   "cell_type": "code",
   "execution_count": 703,
   "id": "3ab50002",
   "metadata": {},
   "outputs": [],
   "source": [
    "result = eclf_soft.predict_proba(text_bow)"
   ]
  },
  {
   "cell_type": "code",
   "execution_count": 704,
   "id": "73faa5d0",
   "metadata": {},
   "outputs": [
    {
     "data": {
      "text/plain": [
       "array([[6.15838924e-01, 7.68408451e-02, 5.10613819e-02, 2.10806196e-02,\n",
       "        3.14302450e-02, 9.47661428e-03, 4.58606832e-03, 6.60410633e-03,\n",
       "        6.76237926e-03, 6.53106040e-03, 1.67558090e-01, 8.64559804e-04,\n",
       "        6.29838909e-04, 5.16583664e-04, 2.18682970e-04]])"
      ]
     },
     "execution_count": 704,
     "metadata": {},
     "output_type": "execute_result"
    }
   ],
   "source": [
    "result"
   ]
  },
  {
   "cell_type": "code",
   "execution_count": 705,
   "id": "5d77e46d",
   "metadata": {},
   "outputs": [
    {
     "name": "stdout",
     "output_type": "stream",
     "text": [
      "0: smile positive/negative 0.616\n",
      "1: no_emotion neutral/skeptical 0.077\n",
      "2: joy positive 0.051\n",
      "3: no_emotion positive/negative 0.021\n",
      "4: sadness negative 0.031\n",
      "5: fear negative 0.009\n",
      "6: shame negative 0.005\n",
      "7: anger negative 0.007\n",
      "8: disgust negative 0.007\n",
      "9: surprise positive/negative 0.007\n",
      "10: disgust neutral/skeptical 0.168\n",
      "11: surprise negative 0.001\n",
      "12: no_emotion negative 0.001\n",
      "13: sadness positive/negative 0.001\n",
      "14: fear positive/negative 0.0\n"
     ]
    }
   ],
   "source": [
    "i = 0\n",
    "while i < len(result[0]):\n",
    "    print(str(i) +\": \"+ emoji_dict[str(i)], round(result[0][i], 3))\n",
    "    i += 1"
   ]
  },
  {
   "cell_type": "code",
   "execution_count": 706,
   "id": "8c613a32",
   "metadata": {},
   "outputs": [],
   "source": [
    "# LogisticRegression       \n",
    "# SVC                       \n",
    "# RandomForestClassifier    \n",
    "# DecisionTreeClassifier    \n",
    "# GaussianNB               \n",
    "# GradientBoostingClassifier"
   ]
  },
  {
   "cell_type": "code",
   "execution_count": 707,
   "id": "90035cde",
   "metadata": {},
   "outputs": [
    {
     "name": "stdout",
     "output_type": "stream",
     "text": [
      "LogisticRegression:\n",
      "0: smile positive/negative 0.627\n",
      "1: no_emotion neutral/skeptical 0.114\n",
      "2: joy positive 0.103\n",
      "3: no_emotion positive/negative 0.046\n",
      "4: sadness negative 0.048\n",
      "5: fear negative 0.011\n",
      "6: shame negative 0.009\n",
      "7: anger negative 0.009\n",
      "8: disgust negative 0.009\n",
      "9: surprise positive/negative 0.01\n",
      "10: disgust neutral/skeptical 0.004\n",
      "11: surprise negative 0.005\n",
      "12: no_emotion negative 0.003\n",
      "13: sadness positive/negative 0.003\n",
      "14: fear positive/negative 0.001\n",
      "SVC:\n",
      "0: smile positive/negative 0.837\n",
      "1: no_emotion neutral/skeptical 0.074\n",
      "2: joy positive 0.042\n",
      "3: no_emotion positive/negative 0.012\n",
      "4: sadness negative 0.018\n",
      "5: fear negative 0.004\n",
      "6: shame negative 0.003\n",
      "7: anger negative 0.002\n",
      "8: disgust negative 0.002\n",
      "9: surprise positive/negative 0.002\n",
      "10: disgust neutral/skeptical 0.002\n",
      "11: surprise negative 0.001\n",
      "12: no_emotion negative 0.001\n",
      "13: sadness positive/negative 0.001\n",
      "14: fear positive/negative 0.0\n",
      "RandomForestClassifier:\n",
      "0: smile positive/negative 0.752\n",
      "1: no_emotion neutral/skeptical 0.085\n",
      "2: joy positive 0.042\n",
      "3: no_emotion positive/negative 0.011\n",
      "4: sadness negative 0.047\n",
      "5: fear negative 0.019\n",
      "6: shame negative 0.007\n",
      "7: anger negative 0.012\n",
      "8: disgust negative 0.013\n",
      "9: surprise positive/negative 0.011\n",
      "10: disgust neutral/skeptical 0.0\n",
      "11: surprise negative 0.0\n",
      "12: no_emotion negative 0.0\n",
      "13: sadness positive/negative 0.0\n",
      "14: fear positive/negative 0.0\n",
      "DecisionTreeClassifier:\n",
      "0: smile positive/negative 0.733\n",
      "1: no_emotion neutral/skeptical 0.081\n",
      "2: joy positive 0.052\n",
      "3: no_emotion positive/negative 0.015\n",
      "4: sadness negative 0.044\n",
      "5: fear negative 0.022\n",
      "6: shame negative 0.007\n",
      "7: anger negative 0.015\n",
      "8: disgust negative 0.015\n",
      "9: surprise positive/negative 0.015\n",
      "10: disgust neutral/skeptical 0.0\n",
      "11: surprise negative 0.0\n",
      "12: no_emotion negative 0.0\n",
      "13: sadness positive/negative 0.0\n",
      "14: fear positive/negative 0.0\n",
      "GaussianNB:\n",
      "0: smile positive/negative 0.0\n",
      "1: no_emotion neutral/skeptical 0.0\n",
      "2: joy positive 0.0\n",
      "3: no_emotion positive/negative 0.0\n",
      "4: sadness negative 0.0\n",
      "5: fear negative 0.0\n",
      "6: shame negative 0.0\n",
      "7: anger negative 0.0\n",
      "8: disgust negative 0.0\n",
      "9: surprise positive/negative 0.0\n",
      "10: disgust neutral/skeptical 1.0\n",
      "11: surprise negative 0.0\n",
      "12: no_emotion negative 0.0\n",
      "13: sadness positive/negative 0.0\n",
      "14: fear positive/negative 0.0\n",
      "GradientBoostingClassifier:\n",
      "0: smile positive/negative 0.743\n",
      "1: no_emotion neutral/skeptical 0.108\n",
      "2: joy positive 0.068\n",
      "3: no_emotion positive/negative 0.043\n",
      "4: sadness negative 0.032\n",
      "5: fear negative 0.002\n",
      "6: shame negative 0.002\n",
      "7: anger negative 0.001\n",
      "8: disgust negative 0.001\n",
      "9: surprise positive/negative 0.001\n",
      "10: disgust neutral/skeptical 0.0\n",
      "11: surprise negative 0.0\n",
      "12: no_emotion negative 0.0\n",
      "13: sadness positive/negative 0.0\n",
      "14: fear positive/negative 0.0\n"
     ]
    }
   ],
   "source": [
    "#result = []\n",
    "for clf in clifs:\n",
    "    try:\n",
    "        result = clf.predict_proba(text_bow)\n",
    "        #result.append(clf.predict_proba(text_bow))\n",
    "        #print(\"\\n\")\n",
    "        print(clf.__class__.__name__ + \":\")\n",
    "        #print(result)\n",
    "        i = 0\n",
    "        while i < len(result[0]):\n",
    "            print(str(i) +\": \"+ emoji_dict[str(i)], round(result[0][i], 3))\n",
    "            i += 1\n",
    "    except:\n",
    "        print(clf.__class__.__name__)\n",
    "        print(\"No predict_proba\")"
   ]
  },
  {
   "cell_type": "code",
   "execution_count": null,
   "id": "576c4b66",
   "metadata": {},
   "outputs": [],
   "source": []
  }
 ],
 "metadata": {
  "kernelspec": {
   "display_name": "Python 3 (ipykernel)",
   "language": "python",
   "name": "python3"
  },
  "language_info": {
   "codemirror_mode": {
    "name": "ipython",
    "version": 3
   },
   "file_extension": ".py",
   "mimetype": "text/x-python",
   "name": "python",
   "nbconvert_exporter": "python",
   "pygments_lexer": "ipython3",
   "version": "3.9.13"
  }
 },
 "nbformat": 4,
 "nbformat_minor": 5
}
