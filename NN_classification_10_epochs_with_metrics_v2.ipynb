{
  "cells": [
    {
      "cell_type": "markdown",
      "metadata": {
        "id": "kAc2Bg2BJECO"
      },
      "source": [
        "## Классификация постов\n",
        "Используется три архитектуры нейронных сетей:\n",
        "- Одномерная сверточная нейросеть\n",
        "- Рекуррентная нейросеть LSTM\n",
        "- Рекуррентная нейросеть GRU"
      ]
    },
    {
      "cell_type": "code",
      "source": [
        "!pip show tensorflow"
      ],
      "metadata": {
        "colab": {
          "base_uri": "https://localhost:8080/"
        },
        "id": "s6xpehkaeIct",
        "outputId": "d8018ae7-7c3b-4bf5-edaf-13486a7d83b6"
      },
      "execution_count": 1,
      "outputs": [
        {
          "output_type": "stream",
          "name": "stdout",
          "text": [
            "Name: tensorflow\n",
            "Version: 2.12.0\n",
            "Summary: TensorFlow is an open source machine learning framework for everyone.\n",
            "Home-page: https://www.tensorflow.org/\n",
            "Author: Google Inc.\n",
            "Author-email: packages@tensorflow.org\n",
            "License: Apache 2.0\n",
            "Location: /usr/local/lib/python3.10/dist-packages\n",
            "Requires: absl-py, astunparse, flatbuffers, gast, google-pasta, grpcio, h5py, jax, keras, libclang, numpy, opt-einsum, packaging, protobuf, setuptools, six, tensorboard, tensorflow-estimator, tensorflow-io-gcs-filesystem, termcolor, typing-extensions, wrapt\n",
            "Required-by: dopamine-rl\n"
          ]
        }
      ]
    },
    {
      "cell_type": "markdown",
      "source": [
        "tf-nightly нужен, т.к. f.keras.metrics.F1Score работает только для tf-nightly. См. https://www.tensorflow.org/api_docs/python/tf/keras/metrics/F1Score"
      ],
      "metadata": {
        "id": "5zQQr-OIeS2Z"
      }
    },
    {
      "cell_type": "code",
      "source": [
        "!pip install tf-nightly"
      ],
      "metadata": {
        "colab": {
          "base_uri": "https://localhost:8080/"
        },
        "id": "05MqPzPseT39",
        "outputId": "afb475a7-3824-4170-a2e8-d0523f15a419"
      },
      "execution_count": 2,
      "outputs": [
        {
          "output_type": "stream",
          "name": "stdout",
          "text": [
            "Looking in indexes: https://pypi.org/simple, https://us-python.pkg.dev/colab-wheels/public/simple/\n",
            "Collecting tf-nightly\n",
            "  Downloading tf_nightly-2.14.0.dev20230528-cp310-cp310-manylinux_2_17_x86_64.manylinux2014_x86_64.whl (488.2 MB)\n",
            "\u001b[2K     \u001b[90m━━━━━━━━━━━━━━━━━━━━━━━━━━━━━━━━━━━━━━━\u001b[0m \u001b[32m488.2/488.2 MB\u001b[0m \u001b[31m3.4 MB/s\u001b[0m eta \u001b[36m0:00:00\u001b[0m\n",
            "\u001b[?25hRequirement already satisfied: absl-py>=1.0.0 in /usr/local/lib/python3.10/dist-packages (from tf-nightly) (1.4.0)\n",
            "Requirement already satisfied: astunparse>=1.6.0 in /usr/local/lib/python3.10/dist-packages (from tf-nightly) (1.6.3)\n",
            "Collecting flatbuffers>=23.5.8 (from tf-nightly)\n",
            "  Downloading flatbuffers-23.5.26-py2.py3-none-any.whl (26 kB)\n",
            "Requirement already satisfied: gast<=0.4.0,>=0.2.1 in /usr/local/lib/python3.10/dist-packages (from tf-nightly) (0.4.0)\n",
            "Requirement already satisfied: google-pasta>=0.1.1 in /usr/local/lib/python3.10/dist-packages (from tf-nightly) (0.2.0)\n",
            "Requirement already satisfied: grpcio<2.0,>=1.24.3 in /usr/local/lib/python3.10/dist-packages (from tf-nightly) (1.54.0)\n",
            "Requirement already satisfied: h5py>=2.9.0 in /usr/local/lib/python3.10/dist-packages (from tf-nightly) (3.8.0)\n",
            "Collecting keras-nightly~=2.14.0.dev (from tf-nightly)\n",
            "  Downloading keras_nightly-2.14.0.dev2023052807-py3-none-any.whl (1.7 MB)\n",
            "\u001b[2K     \u001b[90m━━━━━━━━━━━━━━━━━━━━━━━━━━━━━━━━━━━━━━━━\u001b[0m \u001b[32m1.7/1.7 MB\u001b[0m \u001b[31m95.7 MB/s\u001b[0m eta \u001b[36m0:00:00\u001b[0m\n",
            "\u001b[?25hRequirement already satisfied: libclang>=13.0.0 in /usr/local/lib/python3.10/dist-packages (from tf-nightly) (16.0.0)\n",
            "Requirement already satisfied: numpy>=1.22 in /usr/local/lib/python3.10/dist-packages (from tf-nightly) (1.22.4)\n",
            "Requirement already satisfied: opt-einsum>=2.3.2 in /usr/local/lib/python3.10/dist-packages (from tf-nightly) (3.3.0)\n",
            "Requirement already satisfied: packaging in /usr/local/lib/python3.10/dist-packages (from tf-nightly) (23.1)\n",
            "Requirement already satisfied: protobuf!=4.21.0,!=4.21.1,!=4.21.2,!=4.21.3,!=4.21.4,!=4.21.5,<5.0.0dev,>=3.20.3 in /usr/local/lib/python3.10/dist-packages (from tf-nightly) (3.20.3)\n",
            "Requirement already satisfied: setuptools in /usr/local/lib/python3.10/dist-packages (from tf-nightly) (67.7.2)\n",
            "Requirement already satisfied: six>=1.12.0 in /usr/local/lib/python3.10/dist-packages (from tf-nightly) (1.16.0)\n",
            "Collecting tb-nightly~=2.14.0.a (from tf-nightly)\n",
            "  Downloading tb_nightly-2.14.0a20230528-py3-none-any.whl (5.6 MB)\n",
            "\u001b[2K     \u001b[90m━━━━━━━━━━━━━━━━━━━━━━━━━━━━━━━━━━━━━━━━\u001b[0m \u001b[32m5.6/5.6 MB\u001b[0m \u001b[31m114.2 MB/s\u001b[0m eta \u001b[36m0:00:00\u001b[0m\n",
            "\u001b[?25hRequirement already satisfied: termcolor>=1.1.0 in /usr/local/lib/python3.10/dist-packages (from tf-nightly) (2.3.0)\n",
            "Collecting tf-estimator-nightly~=2.14.0.dev (from tf-nightly)\n",
            "  Downloading tf_estimator_nightly-2.14.0.dev2023052808-py2.py3-none-any.whl (440 kB)\n",
            "\u001b[2K     \u001b[90m━━━━━━━━━━━━━━━━━━━━━━━━━━━━━━━━━━━━━━\u001b[0m \u001b[32m441.0/441.0 kB\u001b[0m \u001b[31m45.9 MB/s\u001b[0m eta \u001b[36m0:00:00\u001b[0m\n",
            "\u001b[?25hRequirement already satisfied: typing-extensions<4.6.0,>=3.6.6 in /usr/local/lib/python3.10/dist-packages (from tf-nightly) (4.5.0)\n",
            "Requirement already satisfied: wrapt>=1.11.0 in /usr/local/lib/python3.10/dist-packages (from tf-nightly) (1.14.1)\n",
            "Requirement already satisfied: tensorflow-io-gcs-filesystem>=0.23.1 in /usr/local/lib/python3.10/dist-packages (from tf-nightly) (0.32.0)\n",
            "Requirement already satisfied: wheel<1.0,>=0.23.0 in /usr/local/lib/python3.10/dist-packages (from astunparse>=1.6.0->tf-nightly) (0.40.0)\n",
            "Requirement already satisfied: google-auth<3,>=1.6.3 in /usr/local/lib/python3.10/dist-packages (from tb-nightly~=2.14.0.a->tf-nightly) (2.17.3)\n",
            "Requirement already satisfied: google-auth-oauthlib<1.1,>=0.5 in /usr/local/lib/python3.10/dist-packages (from tb-nightly~=2.14.0.a->tf-nightly) (1.0.0)\n",
            "Requirement already satisfied: markdown>=2.6.8 in /usr/local/lib/python3.10/dist-packages (from tb-nightly~=2.14.0.a->tf-nightly) (3.4.3)\n",
            "Requirement already satisfied: requests<3,>=2.21.0 in /usr/local/lib/python3.10/dist-packages (from tb-nightly~=2.14.0.a->tf-nightly) (2.27.1)\n",
            "Requirement already satisfied: tensorboard-data-server<0.8.0,>=0.7.0 in /usr/local/lib/python3.10/dist-packages (from tb-nightly~=2.14.0.a->tf-nightly) (0.7.0)\n",
            "Requirement already satisfied: werkzeug>=1.0.1 in /usr/local/lib/python3.10/dist-packages (from tb-nightly~=2.14.0.a->tf-nightly) (2.3.0)\n",
            "Requirement already satisfied: cachetools<6.0,>=2.0.0 in /usr/local/lib/python3.10/dist-packages (from google-auth<3,>=1.6.3->tb-nightly~=2.14.0.a->tf-nightly) (5.3.0)\n",
            "Requirement already satisfied: pyasn1-modules>=0.2.1 in /usr/local/lib/python3.10/dist-packages (from google-auth<3,>=1.6.3->tb-nightly~=2.14.0.a->tf-nightly) (0.3.0)\n",
            "Requirement already satisfied: rsa<5,>=3.1.4 in /usr/local/lib/python3.10/dist-packages (from google-auth<3,>=1.6.3->tb-nightly~=2.14.0.a->tf-nightly) (4.9)\n",
            "Requirement already satisfied: requests-oauthlib>=0.7.0 in /usr/local/lib/python3.10/dist-packages (from google-auth-oauthlib<1.1,>=0.5->tb-nightly~=2.14.0.a->tf-nightly) (1.3.1)\n",
            "Requirement already satisfied: urllib3<1.27,>=1.21.1 in /usr/local/lib/python3.10/dist-packages (from requests<3,>=2.21.0->tb-nightly~=2.14.0.a->tf-nightly) (1.26.15)\n",
            "Requirement already satisfied: certifi>=2017.4.17 in /usr/local/lib/python3.10/dist-packages (from requests<3,>=2.21.0->tb-nightly~=2.14.0.a->tf-nightly) (2022.12.7)\n",
            "Requirement already satisfied: charset-normalizer~=2.0.0 in /usr/local/lib/python3.10/dist-packages (from requests<3,>=2.21.0->tb-nightly~=2.14.0.a->tf-nightly) (2.0.12)\n",
            "Requirement already satisfied: idna<4,>=2.5 in /usr/local/lib/python3.10/dist-packages (from requests<3,>=2.21.0->tb-nightly~=2.14.0.a->tf-nightly) (3.4)\n",
            "Requirement already satisfied: MarkupSafe>=2.1.1 in /usr/local/lib/python3.10/dist-packages (from werkzeug>=1.0.1->tb-nightly~=2.14.0.a->tf-nightly) (2.1.2)\n",
            "Requirement already satisfied: pyasn1<0.6.0,>=0.4.6 in /usr/local/lib/python3.10/dist-packages (from pyasn1-modules>=0.2.1->google-auth<3,>=1.6.3->tb-nightly~=2.14.0.a->tf-nightly) (0.5.0)\n",
            "Requirement already satisfied: oauthlib>=3.0.0 in /usr/local/lib/python3.10/dist-packages (from requests-oauthlib>=0.7.0->google-auth-oauthlib<1.1,>=0.5->tb-nightly~=2.14.0.a->tf-nightly) (3.2.2)\n",
            "Installing collected packages: flatbuffers, tf-estimator-nightly, keras-nightly, tb-nightly, tf-nightly\n",
            "  Attempting uninstall: flatbuffers\n",
            "    Found existing installation: flatbuffers 23.3.3\n",
            "    Uninstalling flatbuffers-23.3.3:\n",
            "      Successfully uninstalled flatbuffers-23.3.3\n",
            "Successfully installed flatbuffers-23.5.26 keras-nightly-2.14.0.dev2023052807 tb-nightly-2.14.0a20230528 tf-estimator-nightly-2.14.0.dev2023052808 tf-nightly-2.14.0.dev20230528\n"
          ]
        }
      ]
    },
    {
      "cell_type": "code",
      "execution_count": 3,
      "metadata": {
        "id": "N7B7Q82wJKnD"
      },
      "outputs": [],
      "source": [
        "import pandas as pd\n",
        "from sklearn.model_selection import train_test_split\n",
        "from tensorflow.keras import utils\n",
        "from tensorflow.keras.preprocessing.text import Tokenizer\n",
        "from tensorflow.keras.preprocessing.sequence import pad_sequences\n",
        "from tensorflow.keras.models import Sequential\n",
        "from tensorflow.keras.layers import Dense, Embedding, MaxPooling1D, Conv1D, GlobalMaxPooling1D, Dropout, LSTM, GRU\n",
        "import tensorflow.keras.metrics as metrics\n",
        "from tensorflow.keras.callbacks import ModelCheckpoint\n",
        "import matplotlib.pyplot as plt\n",
        "from tensorflow.keras.models import load_model"
      ]
    },
    {
      "cell_type": "code",
      "execution_count": 4,
      "metadata": {
        "id": "h3jsZml5Jhhj"
      },
      "outputs": [],
      "source": [
        "# Максимальное количество слов \n",
        "num_words = 10000\n",
        "# Максимальная длина поста\n",
        "max_len = 11\n",
        "# Количество классов\n",
        "nb_classes = 15"
      ]
    },
    {
      "cell_type": "markdown",
      "metadata": {
        "id": "oCxWxurHJv2K"
      },
      "source": [
        "## Загрузка набора данных"
      ]
    },
    {
      "cell_type": "code",
      "execution_count": 5,
      "metadata": {
        "id": "EDKQQKMGKI1q"
      },
      "outputs": [],
      "source": [
        "df_em_1_token_10 = pd.read_csv('df_em_1_token_10.csv', sep=\";\")"
      ]
    },
    {
      "cell_type": "code",
      "execution_count": 6,
      "metadata": {
        "colab": {
          "base_uri": "https://localhost:8080/",
          "height": 424
        },
        "id": "D3JXaq72KVK4",
        "outputId": "b062b494-5478-4d25-cf9d-9e0c2e17b6d9"
      },
      "outputs": [
        {
          "output_type": "execute_result",
          "data": {
            "text/plain": [
              "     img_emoji  word_count  count_emoji     emotion           tonality  class  \\\n",
              "0            😂           5            1       smile  positive/negative      0   \n",
              "1            😁           5            1       smile  positive/negative      0   \n",
              "2            😁           6            1       smile  positive/negative      0   \n",
              "3            😻           6            1         joy           positive      2   \n",
              "4            😍           7            1         joy           positive      2   \n",
              "...        ...         ...          ...         ...                ...    ...   \n",
              "9215         😄           5            1       smile  positive/negative      0   \n",
              "9216         😂           7            1       smile  positive/negative      0   \n",
              "9217         🤔           7            1  no_emotion  neutral/skeptical      1   \n",
              "9218         🤔           9            1  no_emotion  neutral/skeptical      1   \n",
              "9219         🤣          10            1       smile  positive/negative      0   \n",
              "\n",
              "                                           clean_text  \n",
              "0                                   почему бы и нет 😂  \n",
              "1                                как сесть на диету 😁  \n",
              "2                            когда в душе ещё щенок 😁  \n",
              "3              новые фотографии нюши просто огненные😻  \n",
              "4           безумно красивая актриса - алина ланина 😍  \n",
              "...                                               ...  \n",
              "9215                ряды эскортниц скоро пополнится 😄  \n",
              "9216                    так он прав ты реально даун 😂  \n",
              "9217                              вы же не про меня?🤔  \n",
              "9218             про кого пошутил то это не до комик🤔  \n",
              "9219  тебе это лучше знать что во всём мире слушают 🤣  \n",
              "\n",
              "[9220 rows x 7 columns]"
            ],
            "text/html": [
              "\n",
              "  <div id=\"df-f0da6dbe-312c-4816-b26d-f59d1031802a\">\n",
              "    <div class=\"colab-df-container\">\n",
              "      <div>\n",
              "<style scoped>\n",
              "    .dataframe tbody tr th:only-of-type {\n",
              "        vertical-align: middle;\n",
              "    }\n",
              "\n",
              "    .dataframe tbody tr th {\n",
              "        vertical-align: top;\n",
              "    }\n",
              "\n",
              "    .dataframe thead th {\n",
              "        text-align: right;\n",
              "    }\n",
              "</style>\n",
              "<table border=\"1\" class=\"dataframe\">\n",
              "  <thead>\n",
              "    <tr style=\"text-align: right;\">\n",
              "      <th></th>\n",
              "      <th>img_emoji</th>\n",
              "      <th>word_count</th>\n",
              "      <th>count_emoji</th>\n",
              "      <th>emotion</th>\n",
              "      <th>tonality</th>\n",
              "      <th>class</th>\n",
              "      <th>clean_text</th>\n",
              "    </tr>\n",
              "  </thead>\n",
              "  <tbody>\n",
              "    <tr>\n",
              "      <th>0</th>\n",
              "      <td>😂</td>\n",
              "      <td>5</td>\n",
              "      <td>1</td>\n",
              "      <td>smile</td>\n",
              "      <td>positive/negative</td>\n",
              "      <td>0</td>\n",
              "      <td>почему бы и нет 😂</td>\n",
              "    </tr>\n",
              "    <tr>\n",
              "      <th>1</th>\n",
              "      <td>😁</td>\n",
              "      <td>5</td>\n",
              "      <td>1</td>\n",
              "      <td>smile</td>\n",
              "      <td>positive/negative</td>\n",
              "      <td>0</td>\n",
              "      <td>как сесть на диету 😁</td>\n",
              "    </tr>\n",
              "    <tr>\n",
              "      <th>2</th>\n",
              "      <td>😁</td>\n",
              "      <td>6</td>\n",
              "      <td>1</td>\n",
              "      <td>smile</td>\n",
              "      <td>positive/negative</td>\n",
              "      <td>0</td>\n",
              "      <td>когда в душе ещё щенок 😁</td>\n",
              "    </tr>\n",
              "    <tr>\n",
              "      <th>3</th>\n",
              "      <td>😻</td>\n",
              "      <td>6</td>\n",
              "      <td>1</td>\n",
              "      <td>joy</td>\n",
              "      <td>positive</td>\n",
              "      <td>2</td>\n",
              "      <td>новые фотографии нюши просто огненные😻</td>\n",
              "    </tr>\n",
              "    <tr>\n",
              "      <th>4</th>\n",
              "      <td>😍</td>\n",
              "      <td>7</td>\n",
              "      <td>1</td>\n",
              "      <td>joy</td>\n",
              "      <td>positive</td>\n",
              "      <td>2</td>\n",
              "      <td>безумно красивая актриса - алина ланина 😍</td>\n",
              "    </tr>\n",
              "    <tr>\n",
              "      <th>...</th>\n",
              "      <td>...</td>\n",
              "      <td>...</td>\n",
              "      <td>...</td>\n",
              "      <td>...</td>\n",
              "      <td>...</td>\n",
              "      <td>...</td>\n",
              "      <td>...</td>\n",
              "    </tr>\n",
              "    <tr>\n",
              "      <th>9215</th>\n",
              "      <td>😄</td>\n",
              "      <td>5</td>\n",
              "      <td>1</td>\n",
              "      <td>smile</td>\n",
              "      <td>positive/negative</td>\n",
              "      <td>0</td>\n",
              "      <td>ряды эскортниц скоро пополнится 😄</td>\n",
              "    </tr>\n",
              "    <tr>\n",
              "      <th>9216</th>\n",
              "      <td>😂</td>\n",
              "      <td>7</td>\n",
              "      <td>1</td>\n",
              "      <td>smile</td>\n",
              "      <td>positive/negative</td>\n",
              "      <td>0</td>\n",
              "      <td>так он прав ты реально даун 😂</td>\n",
              "    </tr>\n",
              "    <tr>\n",
              "      <th>9217</th>\n",
              "      <td>🤔</td>\n",
              "      <td>7</td>\n",
              "      <td>1</td>\n",
              "      <td>no_emotion</td>\n",
              "      <td>neutral/skeptical</td>\n",
              "      <td>1</td>\n",
              "      <td>вы же не про меня?🤔</td>\n",
              "    </tr>\n",
              "    <tr>\n",
              "      <th>9218</th>\n",
              "      <td>🤔</td>\n",
              "      <td>9</td>\n",
              "      <td>1</td>\n",
              "      <td>no_emotion</td>\n",
              "      <td>neutral/skeptical</td>\n",
              "      <td>1</td>\n",
              "      <td>про кого пошутил то это не до комик🤔</td>\n",
              "    </tr>\n",
              "    <tr>\n",
              "      <th>9219</th>\n",
              "      <td>🤣</td>\n",
              "      <td>10</td>\n",
              "      <td>1</td>\n",
              "      <td>smile</td>\n",
              "      <td>positive/negative</td>\n",
              "      <td>0</td>\n",
              "      <td>тебе это лучше знать что во всём мире слушают 🤣</td>\n",
              "    </tr>\n",
              "  </tbody>\n",
              "</table>\n",
              "<p>9220 rows × 7 columns</p>\n",
              "</div>\n",
              "      <button class=\"colab-df-convert\" onclick=\"convertToInteractive('df-f0da6dbe-312c-4816-b26d-f59d1031802a')\"\n",
              "              title=\"Convert this dataframe to an interactive table.\"\n",
              "              style=\"display:none;\">\n",
              "        \n",
              "  <svg xmlns=\"http://www.w3.org/2000/svg\" height=\"24px\"viewBox=\"0 0 24 24\"\n",
              "       width=\"24px\">\n",
              "    <path d=\"M0 0h24v24H0V0z\" fill=\"none\"/>\n",
              "    <path d=\"M18.56 5.44l.94 2.06.94-2.06 2.06-.94-2.06-.94-.94-2.06-.94 2.06-2.06.94zm-11 1L8.5 8.5l.94-2.06 2.06-.94-2.06-.94L8.5 2.5l-.94 2.06-2.06.94zm10 10l.94 2.06.94-2.06 2.06-.94-2.06-.94-.94-2.06-.94 2.06-2.06.94z\"/><path d=\"M17.41 7.96l-1.37-1.37c-.4-.4-.92-.59-1.43-.59-.52 0-1.04.2-1.43.59L10.3 9.45l-7.72 7.72c-.78.78-.78 2.05 0 2.83L4 21.41c.39.39.9.59 1.41.59.51 0 1.02-.2 1.41-.59l7.78-7.78 2.81-2.81c.8-.78.8-2.07 0-2.86zM5.41 20L4 18.59l7.72-7.72 1.47 1.35L5.41 20z\"/>\n",
              "  </svg>\n",
              "      </button>\n",
              "      \n",
              "  <style>\n",
              "    .colab-df-container {\n",
              "      display:flex;\n",
              "      flex-wrap:wrap;\n",
              "      gap: 12px;\n",
              "    }\n",
              "\n",
              "    .colab-df-convert {\n",
              "      background-color: #E8F0FE;\n",
              "      border: none;\n",
              "      border-radius: 50%;\n",
              "      cursor: pointer;\n",
              "      display: none;\n",
              "      fill: #1967D2;\n",
              "      height: 32px;\n",
              "      padding: 0 0 0 0;\n",
              "      width: 32px;\n",
              "    }\n",
              "\n",
              "    .colab-df-convert:hover {\n",
              "      background-color: #E2EBFA;\n",
              "      box-shadow: 0px 1px 2px rgba(60, 64, 67, 0.3), 0px 1px 3px 1px rgba(60, 64, 67, 0.15);\n",
              "      fill: #174EA6;\n",
              "    }\n",
              "\n",
              "    [theme=dark] .colab-df-convert {\n",
              "      background-color: #3B4455;\n",
              "      fill: #D2E3FC;\n",
              "    }\n",
              "\n",
              "    [theme=dark] .colab-df-convert:hover {\n",
              "      background-color: #434B5C;\n",
              "      box-shadow: 0px 1px 3px 1px rgba(0, 0, 0, 0.15);\n",
              "      filter: drop-shadow(0px 1px 2px rgba(0, 0, 0, 0.3));\n",
              "      fill: #FFFFFF;\n",
              "    }\n",
              "  </style>\n",
              "\n",
              "      <script>\n",
              "        const buttonEl =\n",
              "          document.querySelector('#df-f0da6dbe-312c-4816-b26d-f59d1031802a button.colab-df-convert');\n",
              "        buttonEl.style.display =\n",
              "          google.colab.kernel.accessAllowed ? 'block' : 'none';\n",
              "\n",
              "        async function convertToInteractive(key) {\n",
              "          const element = document.querySelector('#df-f0da6dbe-312c-4816-b26d-f59d1031802a');\n",
              "          const dataTable =\n",
              "            await google.colab.kernel.invokeFunction('convertToInteractive',\n",
              "                                                     [key], {});\n",
              "          if (!dataTable) return;\n",
              "\n",
              "          const docLinkHtml = 'Like what you see? Visit the ' +\n",
              "            '<a target=\"_blank\" href=https://colab.research.google.com/notebooks/data_table.ipynb>data table notebook</a>'\n",
              "            + ' to learn more about interactive tables.';\n",
              "          element.innerHTML = '';\n",
              "          dataTable['output_type'] = 'display_data';\n",
              "          await google.colab.output.renderOutput(dataTable, element);\n",
              "          const docLink = document.createElement('div');\n",
              "          docLink.innerHTML = docLinkHtml;\n",
              "          element.appendChild(docLink);\n",
              "        }\n",
              "      </script>\n",
              "    </div>\n",
              "  </div>\n",
              "  "
            ]
          },
          "metadata": {},
          "execution_count": 6
        }
      ],
      "source": [
        "df_em_1_token_10"
      ]
    },
    {
      "cell_type": "code",
      "execution_count": 7,
      "metadata": {
        "id": "IUB_FgXZKW0M"
      },
      "outputs": [],
      "source": [
        "from sklearn.model_selection import train_test_split"
      ]
    },
    {
      "cell_type": "code",
      "execution_count": 8,
      "metadata": {
        "id": "71KjHFXhKa-K"
      },
      "outputs": [],
      "source": [
        "train, test = train_test_split(df_em_1_token_10, test_size=0.2)"
      ]
    },
    {
      "cell_type": "code",
      "execution_count": 9,
      "metadata": {
        "colab": {
          "base_uri": "https://localhost:8080/",
          "height": 424
        },
        "id": "Q-Ac4ezJKjio",
        "outputId": "f96cf76f-24bc-4b93-ce3b-635b98fe10d4"
      },
      "outputs": [
        {
          "output_type": "execute_result",
          "data": {
            "text/plain": [
              "     img_emoji  word_count  count_emoji  emotion           tonality  class  \\\n",
              "6351         😆           4            1    smile  positive/negative      0   \n",
              "1301         🥰          10            1      joy           positive      2   \n",
              "3492         🤣          11            1    smile  positive/negative      0   \n",
              "7522         😁           7            1    smile  positive/negative      0   \n",
              "386          😁           9            1    smile  positive/negative      0   \n",
              "...        ...         ...          ...      ...                ...    ...   \n",
              "2737         😢           7            1  sadness           negative      4   \n",
              "9116         😄           5            1    smile  positive/negative      0   \n",
              "6885         🤣           6            1    smile  positive/negative      0   \n",
              "4586         😂          11            1    smile  positive/negative      0   \n",
              "8595         😹           7            1    smile  positive/negative      0   \n",
              "\n",
              "                                             clean_text  \n",
              "6351                               суши сухари ботяра 😆  \n",
              "1301  сколько любви в этом поступке, котик выбрал св...  \n",
              "3492  а помнится ее хотели все. но зяблик саоое забрал🤣  \n",
              "7522                    так себе эта чекушка на троих 😁  \n",
              "386            прям копия моя семья  и так каждый год 😁  \n",
              "...                                                 ...  \n",
              "2737                             и не только на алтае.😢  \n",
              "9116                           покойнику. на похороны 😄  \n",
              "6885                        телефона в руке не хватает🤣  \n",
              "4586  я тут только из-за музыки сидела а теперь можн...  \n",
              "8595                 жёлтая губка малыш без изъяна... 😹  \n",
              "\n",
              "[7376 rows x 7 columns]"
            ],
            "text/html": [
              "\n",
              "  <div id=\"df-89bde483-7114-44d5-885f-e22e649f287b\">\n",
              "    <div class=\"colab-df-container\">\n",
              "      <div>\n",
              "<style scoped>\n",
              "    .dataframe tbody tr th:only-of-type {\n",
              "        vertical-align: middle;\n",
              "    }\n",
              "\n",
              "    .dataframe tbody tr th {\n",
              "        vertical-align: top;\n",
              "    }\n",
              "\n",
              "    .dataframe thead th {\n",
              "        text-align: right;\n",
              "    }\n",
              "</style>\n",
              "<table border=\"1\" class=\"dataframe\">\n",
              "  <thead>\n",
              "    <tr style=\"text-align: right;\">\n",
              "      <th></th>\n",
              "      <th>img_emoji</th>\n",
              "      <th>word_count</th>\n",
              "      <th>count_emoji</th>\n",
              "      <th>emotion</th>\n",
              "      <th>tonality</th>\n",
              "      <th>class</th>\n",
              "      <th>clean_text</th>\n",
              "    </tr>\n",
              "  </thead>\n",
              "  <tbody>\n",
              "    <tr>\n",
              "      <th>6351</th>\n",
              "      <td>😆</td>\n",
              "      <td>4</td>\n",
              "      <td>1</td>\n",
              "      <td>smile</td>\n",
              "      <td>positive/negative</td>\n",
              "      <td>0</td>\n",
              "      <td>суши сухари ботяра 😆</td>\n",
              "    </tr>\n",
              "    <tr>\n",
              "      <th>1301</th>\n",
              "      <td>🥰</td>\n",
              "      <td>10</td>\n",
              "      <td>1</td>\n",
              "      <td>joy</td>\n",
              "      <td>positive</td>\n",
              "      <td>2</td>\n",
              "      <td>сколько любви в этом поступке, котик выбрал св...</td>\n",
              "    </tr>\n",
              "    <tr>\n",
              "      <th>3492</th>\n",
              "      <td>🤣</td>\n",
              "      <td>11</td>\n",
              "      <td>1</td>\n",
              "      <td>smile</td>\n",
              "      <td>positive/negative</td>\n",
              "      <td>0</td>\n",
              "      <td>а помнится ее хотели все. но зяблик саоое забрал🤣</td>\n",
              "    </tr>\n",
              "    <tr>\n",
              "      <th>7522</th>\n",
              "      <td>😁</td>\n",
              "      <td>7</td>\n",
              "      <td>1</td>\n",
              "      <td>smile</td>\n",
              "      <td>positive/negative</td>\n",
              "      <td>0</td>\n",
              "      <td>так себе эта чекушка на троих 😁</td>\n",
              "    </tr>\n",
              "    <tr>\n",
              "      <th>386</th>\n",
              "      <td>😁</td>\n",
              "      <td>9</td>\n",
              "      <td>1</td>\n",
              "      <td>smile</td>\n",
              "      <td>positive/negative</td>\n",
              "      <td>0</td>\n",
              "      <td>прям копия моя семья  и так каждый год 😁</td>\n",
              "    </tr>\n",
              "    <tr>\n",
              "      <th>...</th>\n",
              "      <td>...</td>\n",
              "      <td>...</td>\n",
              "      <td>...</td>\n",
              "      <td>...</td>\n",
              "      <td>...</td>\n",
              "      <td>...</td>\n",
              "      <td>...</td>\n",
              "    </tr>\n",
              "    <tr>\n",
              "      <th>2737</th>\n",
              "      <td>😢</td>\n",
              "      <td>7</td>\n",
              "      <td>1</td>\n",
              "      <td>sadness</td>\n",
              "      <td>negative</td>\n",
              "      <td>4</td>\n",
              "      <td>и не только на алтае.😢</td>\n",
              "    </tr>\n",
              "    <tr>\n",
              "      <th>9116</th>\n",
              "      <td>😄</td>\n",
              "      <td>5</td>\n",
              "      <td>1</td>\n",
              "      <td>smile</td>\n",
              "      <td>positive/negative</td>\n",
              "      <td>0</td>\n",
              "      <td>покойнику. на похороны 😄</td>\n",
              "    </tr>\n",
              "    <tr>\n",
              "      <th>6885</th>\n",
              "      <td>🤣</td>\n",
              "      <td>6</td>\n",
              "      <td>1</td>\n",
              "      <td>smile</td>\n",
              "      <td>positive/negative</td>\n",
              "      <td>0</td>\n",
              "      <td>телефона в руке не хватает🤣</td>\n",
              "    </tr>\n",
              "    <tr>\n",
              "      <th>4586</th>\n",
              "      <td>😂</td>\n",
              "      <td>11</td>\n",
              "      <td>1</td>\n",
              "      <td>smile</td>\n",
              "      <td>positive/negative</td>\n",
              "      <td>0</td>\n",
              "      <td>я тут только из-за музыки сидела а теперь можн...</td>\n",
              "    </tr>\n",
              "    <tr>\n",
              "      <th>8595</th>\n",
              "      <td>😹</td>\n",
              "      <td>7</td>\n",
              "      <td>1</td>\n",
              "      <td>smile</td>\n",
              "      <td>positive/negative</td>\n",
              "      <td>0</td>\n",
              "      <td>жёлтая губка малыш без изъяна... 😹</td>\n",
              "    </tr>\n",
              "  </tbody>\n",
              "</table>\n",
              "<p>7376 rows × 7 columns</p>\n",
              "</div>\n",
              "      <button class=\"colab-df-convert\" onclick=\"convertToInteractive('df-89bde483-7114-44d5-885f-e22e649f287b')\"\n",
              "              title=\"Convert this dataframe to an interactive table.\"\n",
              "              style=\"display:none;\">\n",
              "        \n",
              "  <svg xmlns=\"http://www.w3.org/2000/svg\" height=\"24px\"viewBox=\"0 0 24 24\"\n",
              "       width=\"24px\">\n",
              "    <path d=\"M0 0h24v24H0V0z\" fill=\"none\"/>\n",
              "    <path d=\"M18.56 5.44l.94 2.06.94-2.06 2.06-.94-2.06-.94-.94-2.06-.94 2.06-2.06.94zm-11 1L8.5 8.5l.94-2.06 2.06-.94-2.06-.94L8.5 2.5l-.94 2.06-2.06.94zm10 10l.94 2.06.94-2.06 2.06-.94-2.06-.94-.94-2.06-.94 2.06-2.06.94z\"/><path d=\"M17.41 7.96l-1.37-1.37c-.4-.4-.92-.59-1.43-.59-.52 0-1.04.2-1.43.59L10.3 9.45l-7.72 7.72c-.78.78-.78 2.05 0 2.83L4 21.41c.39.39.9.59 1.41.59.51 0 1.02-.2 1.41-.59l7.78-7.78 2.81-2.81c.8-.78.8-2.07 0-2.86zM5.41 20L4 18.59l7.72-7.72 1.47 1.35L5.41 20z\"/>\n",
              "  </svg>\n",
              "      </button>\n",
              "      \n",
              "  <style>\n",
              "    .colab-df-container {\n",
              "      display:flex;\n",
              "      flex-wrap:wrap;\n",
              "      gap: 12px;\n",
              "    }\n",
              "\n",
              "    .colab-df-convert {\n",
              "      background-color: #E8F0FE;\n",
              "      border: none;\n",
              "      border-radius: 50%;\n",
              "      cursor: pointer;\n",
              "      display: none;\n",
              "      fill: #1967D2;\n",
              "      height: 32px;\n",
              "      padding: 0 0 0 0;\n",
              "      width: 32px;\n",
              "    }\n",
              "\n",
              "    .colab-df-convert:hover {\n",
              "      background-color: #E2EBFA;\n",
              "      box-shadow: 0px 1px 2px rgba(60, 64, 67, 0.3), 0px 1px 3px 1px rgba(60, 64, 67, 0.15);\n",
              "      fill: #174EA6;\n",
              "    }\n",
              "\n",
              "    [theme=dark] .colab-df-convert {\n",
              "      background-color: #3B4455;\n",
              "      fill: #D2E3FC;\n",
              "    }\n",
              "\n",
              "    [theme=dark] .colab-df-convert:hover {\n",
              "      background-color: #434B5C;\n",
              "      box-shadow: 0px 1px 3px 1px rgba(0, 0, 0, 0.15);\n",
              "      filter: drop-shadow(0px 1px 2px rgba(0, 0, 0, 0.3));\n",
              "      fill: #FFFFFF;\n",
              "    }\n",
              "  </style>\n",
              "\n",
              "      <script>\n",
              "        const buttonEl =\n",
              "          document.querySelector('#df-89bde483-7114-44d5-885f-e22e649f287b button.colab-df-convert');\n",
              "        buttonEl.style.display =\n",
              "          google.colab.kernel.accessAllowed ? 'block' : 'none';\n",
              "\n",
              "        async function convertToInteractive(key) {\n",
              "          const element = document.querySelector('#df-89bde483-7114-44d5-885f-e22e649f287b');\n",
              "          const dataTable =\n",
              "            await google.colab.kernel.invokeFunction('convertToInteractive',\n",
              "                                                     [key], {});\n",
              "          if (!dataTable) return;\n",
              "\n",
              "          const docLinkHtml = 'Like what you see? Visit the ' +\n",
              "            '<a target=\"_blank\" href=https://colab.research.google.com/notebooks/data_table.ipynb>data table notebook</a>'\n",
              "            + ' to learn more about interactive tables.';\n",
              "          element.innerHTML = '';\n",
              "          dataTable['output_type'] = 'display_data';\n",
              "          await google.colab.output.renderOutput(dataTable, element);\n",
              "          const docLink = document.createElement('div');\n",
              "          docLink.innerHTML = docLinkHtml;\n",
              "          element.appendChild(docLink);\n",
              "        }\n",
              "      </script>\n",
              "    </div>\n",
              "  </div>\n",
              "  "
            ]
          },
          "metadata": {},
          "execution_count": 9
        }
      ],
      "source": [
        "train"
      ]
    },
    {
      "cell_type": "code",
      "source": [
        "test"
      ],
      "metadata": {
        "colab": {
          "base_uri": "https://localhost:8080/",
          "height": 424
        },
        "id": "FZ3qxQCafKxw",
        "outputId": "6a357c78-c433-4f0f-c898-84e003216e0d"
      },
      "execution_count": 10,
      "outputs": [
        {
          "output_type": "execute_result",
          "data": {
            "text/plain": [
              "     img_emoji  word_count  count_emoji     emotion           tonality  class  \\\n",
              "5432         🤣           2            1       smile  positive/negative      0   \n",
              "5093         🤣           5            1       smile  positive/negative      0   \n",
              "6314         😅           6            1       smile  positive/negative      0   \n",
              "3812         🤣           8            1       smile  positive/negative      0   \n",
              "423          😅          11            1       smile  positive/negative      0   \n",
              "...        ...         ...          ...         ...                ...    ...   \n",
              "5759         😬           7            1  no_emotion  neutral/skeptical      1   \n",
              "5802         😆          10            1       smile  positive/negative      0   \n",
              "7911         🙄           9            1  no_emotion  neutral/skeptical      1   \n",
              "1758         😂           6            1       smile  positive/negative      0   \n",
              "2506         🤣           3            1       smile  positive/negative      0   \n",
              "\n",
              "                                             clean_text  \n",
              "5432                                             раунд🤣  \n",
              "5093                                   не ждём ни разу🤣  \n",
              "6314                                       😅 нет! а вы?  \n",
              "3812               просто одмен на нее вялого дергает.🤣  \n",
              "423   в фотографиях \"спустя годы\" своя, особая, атмо...  \n",
              "...                                                 ...  \n",
              "5759                                  ну может и так))😬  \n",
              "5802                 я так и делаю. через час - сухая 😆  \n",
              "7911  судя по аватарке сложно вас назвать девочкой п...  \n",
              "1758              интересный дизайн платья, скатерть! 😂  \n",
              "2506                                   жестокий исход 🤣  \n",
              "\n",
              "[1844 rows x 7 columns]"
            ],
            "text/html": [
              "\n",
              "  <div id=\"df-ad9f507c-3dbc-4856-91f8-05673e4b3b76\">\n",
              "    <div class=\"colab-df-container\">\n",
              "      <div>\n",
              "<style scoped>\n",
              "    .dataframe tbody tr th:only-of-type {\n",
              "        vertical-align: middle;\n",
              "    }\n",
              "\n",
              "    .dataframe tbody tr th {\n",
              "        vertical-align: top;\n",
              "    }\n",
              "\n",
              "    .dataframe thead th {\n",
              "        text-align: right;\n",
              "    }\n",
              "</style>\n",
              "<table border=\"1\" class=\"dataframe\">\n",
              "  <thead>\n",
              "    <tr style=\"text-align: right;\">\n",
              "      <th></th>\n",
              "      <th>img_emoji</th>\n",
              "      <th>word_count</th>\n",
              "      <th>count_emoji</th>\n",
              "      <th>emotion</th>\n",
              "      <th>tonality</th>\n",
              "      <th>class</th>\n",
              "      <th>clean_text</th>\n",
              "    </tr>\n",
              "  </thead>\n",
              "  <tbody>\n",
              "    <tr>\n",
              "      <th>5432</th>\n",
              "      <td>🤣</td>\n",
              "      <td>2</td>\n",
              "      <td>1</td>\n",
              "      <td>smile</td>\n",
              "      <td>positive/negative</td>\n",
              "      <td>0</td>\n",
              "      <td>раунд🤣</td>\n",
              "    </tr>\n",
              "    <tr>\n",
              "      <th>5093</th>\n",
              "      <td>🤣</td>\n",
              "      <td>5</td>\n",
              "      <td>1</td>\n",
              "      <td>smile</td>\n",
              "      <td>positive/negative</td>\n",
              "      <td>0</td>\n",
              "      <td>не ждём ни разу🤣</td>\n",
              "    </tr>\n",
              "    <tr>\n",
              "      <th>6314</th>\n",
              "      <td>😅</td>\n",
              "      <td>6</td>\n",
              "      <td>1</td>\n",
              "      <td>smile</td>\n",
              "      <td>positive/negative</td>\n",
              "      <td>0</td>\n",
              "      <td>😅 нет! а вы?</td>\n",
              "    </tr>\n",
              "    <tr>\n",
              "      <th>3812</th>\n",
              "      <td>🤣</td>\n",
              "      <td>8</td>\n",
              "      <td>1</td>\n",
              "      <td>smile</td>\n",
              "      <td>positive/negative</td>\n",
              "      <td>0</td>\n",
              "      <td>просто одмен на нее вялого дергает.🤣</td>\n",
              "    </tr>\n",
              "    <tr>\n",
              "      <th>423</th>\n",
              "      <td>😅</td>\n",
              "      <td>11</td>\n",
              "      <td>1</td>\n",
              "      <td>smile</td>\n",
              "      <td>positive/negative</td>\n",
              "      <td>0</td>\n",
              "      <td>в фотографиях \"спустя годы\" своя, особая, атмо...</td>\n",
              "    </tr>\n",
              "    <tr>\n",
              "      <th>...</th>\n",
              "      <td>...</td>\n",
              "      <td>...</td>\n",
              "      <td>...</td>\n",
              "      <td>...</td>\n",
              "      <td>...</td>\n",
              "      <td>...</td>\n",
              "      <td>...</td>\n",
              "    </tr>\n",
              "    <tr>\n",
              "      <th>5759</th>\n",
              "      <td>😬</td>\n",
              "      <td>7</td>\n",
              "      <td>1</td>\n",
              "      <td>no_emotion</td>\n",
              "      <td>neutral/skeptical</td>\n",
              "      <td>1</td>\n",
              "      <td>ну может и так))😬</td>\n",
              "    </tr>\n",
              "    <tr>\n",
              "      <th>5802</th>\n",
              "      <td>😆</td>\n",
              "      <td>10</td>\n",
              "      <td>1</td>\n",
              "      <td>smile</td>\n",
              "      <td>positive/negative</td>\n",
              "      <td>0</td>\n",
              "      <td>я так и делаю. через час - сухая 😆</td>\n",
              "    </tr>\n",
              "    <tr>\n",
              "      <th>7911</th>\n",
              "      <td>🙄</td>\n",
              "      <td>9</td>\n",
              "      <td>1</td>\n",
              "      <td>no_emotion</td>\n",
              "      <td>neutral/skeptical</td>\n",
              "      <td>1</td>\n",
              "      <td>судя по аватарке сложно вас назвать девочкой п...</td>\n",
              "    </tr>\n",
              "    <tr>\n",
              "      <th>1758</th>\n",
              "      <td>😂</td>\n",
              "      <td>6</td>\n",
              "      <td>1</td>\n",
              "      <td>smile</td>\n",
              "      <td>positive/negative</td>\n",
              "      <td>0</td>\n",
              "      <td>интересный дизайн платья, скатерть! 😂</td>\n",
              "    </tr>\n",
              "    <tr>\n",
              "      <th>2506</th>\n",
              "      <td>🤣</td>\n",
              "      <td>3</td>\n",
              "      <td>1</td>\n",
              "      <td>smile</td>\n",
              "      <td>positive/negative</td>\n",
              "      <td>0</td>\n",
              "      <td>жестокий исход 🤣</td>\n",
              "    </tr>\n",
              "  </tbody>\n",
              "</table>\n",
              "<p>1844 rows × 7 columns</p>\n",
              "</div>\n",
              "      <button class=\"colab-df-convert\" onclick=\"convertToInteractive('df-ad9f507c-3dbc-4856-91f8-05673e4b3b76')\"\n",
              "              title=\"Convert this dataframe to an interactive table.\"\n",
              "              style=\"display:none;\">\n",
              "        \n",
              "  <svg xmlns=\"http://www.w3.org/2000/svg\" height=\"24px\"viewBox=\"0 0 24 24\"\n",
              "       width=\"24px\">\n",
              "    <path d=\"M0 0h24v24H0V0z\" fill=\"none\"/>\n",
              "    <path d=\"M18.56 5.44l.94 2.06.94-2.06 2.06-.94-2.06-.94-.94-2.06-.94 2.06-2.06.94zm-11 1L8.5 8.5l.94-2.06 2.06-.94-2.06-.94L8.5 2.5l-.94 2.06-2.06.94zm10 10l.94 2.06.94-2.06 2.06-.94-2.06-.94-.94-2.06-.94 2.06-2.06.94z\"/><path d=\"M17.41 7.96l-1.37-1.37c-.4-.4-.92-.59-1.43-.59-.52 0-1.04.2-1.43.59L10.3 9.45l-7.72 7.72c-.78.78-.78 2.05 0 2.83L4 21.41c.39.39.9.59 1.41.59.51 0 1.02-.2 1.41-.59l7.78-7.78 2.81-2.81c.8-.78.8-2.07 0-2.86zM5.41 20L4 18.59l7.72-7.72 1.47 1.35L5.41 20z\"/>\n",
              "  </svg>\n",
              "      </button>\n",
              "      \n",
              "  <style>\n",
              "    .colab-df-container {\n",
              "      display:flex;\n",
              "      flex-wrap:wrap;\n",
              "      gap: 12px;\n",
              "    }\n",
              "\n",
              "    .colab-df-convert {\n",
              "      background-color: #E8F0FE;\n",
              "      border: none;\n",
              "      border-radius: 50%;\n",
              "      cursor: pointer;\n",
              "      display: none;\n",
              "      fill: #1967D2;\n",
              "      height: 32px;\n",
              "      padding: 0 0 0 0;\n",
              "      width: 32px;\n",
              "    }\n",
              "\n",
              "    .colab-df-convert:hover {\n",
              "      background-color: #E2EBFA;\n",
              "      box-shadow: 0px 1px 2px rgba(60, 64, 67, 0.3), 0px 1px 3px 1px rgba(60, 64, 67, 0.15);\n",
              "      fill: #174EA6;\n",
              "    }\n",
              "\n",
              "    [theme=dark] .colab-df-convert {\n",
              "      background-color: #3B4455;\n",
              "      fill: #D2E3FC;\n",
              "    }\n",
              "\n",
              "    [theme=dark] .colab-df-convert:hover {\n",
              "      background-color: #434B5C;\n",
              "      box-shadow: 0px 1px 3px 1px rgba(0, 0, 0, 0.15);\n",
              "      filter: drop-shadow(0px 1px 2px rgba(0, 0, 0, 0.3));\n",
              "      fill: #FFFFFF;\n",
              "    }\n",
              "  </style>\n",
              "\n",
              "      <script>\n",
              "        const buttonEl =\n",
              "          document.querySelector('#df-ad9f507c-3dbc-4856-91f8-05673e4b3b76 button.colab-df-convert');\n",
              "        buttonEl.style.display =\n",
              "          google.colab.kernel.accessAllowed ? 'block' : 'none';\n",
              "\n",
              "        async function convertToInteractive(key) {\n",
              "          const element = document.querySelector('#df-ad9f507c-3dbc-4856-91f8-05673e4b3b76');\n",
              "          const dataTable =\n",
              "            await google.colab.kernel.invokeFunction('convertToInteractive',\n",
              "                                                     [key], {});\n",
              "          if (!dataTable) return;\n",
              "\n",
              "          const docLinkHtml = 'Like what you see? Visit the ' +\n",
              "            '<a target=\"_blank\" href=https://colab.research.google.com/notebooks/data_table.ipynb>data table notebook</a>'\n",
              "            + ' to learn more about interactive tables.';\n",
              "          element.innerHTML = '';\n",
              "          dataTable['output_type'] = 'display_data';\n",
              "          await google.colab.output.renderOutput(dataTable, element);\n",
              "          const docLink = document.createElement('div');\n",
              "          docLink.innerHTML = docLinkHtml;\n",
              "          element.appendChild(docLink);\n",
              "        }\n",
              "      </script>\n",
              "    </div>\n",
              "  </div>\n",
              "  "
            ]
          },
          "metadata": {},
          "execution_count": 10
        }
      ]
    },
    {
      "cell_type": "markdown",
      "metadata": {
        "id": "aa6SQbeeKpPQ"
      },
      "source": [
        "Выделяем данные для обучения"
      ]
    },
    {
      "cell_type": "code",
      "execution_count": 11,
      "metadata": {
        "id": "51-1CpF7Kpxp"
      },
      "outputs": [],
      "source": [
        "posts_train = train['clean_text']\n",
        "posts_test = test['clean_text']"
      ]
    },
    {
      "cell_type": "code",
      "execution_count": 12,
      "metadata": {
        "colab": {
          "base_uri": "https://localhost:8080/"
        },
        "id": "p-REVP6TKwiT",
        "outputId": "15d02eb5-2aab-44cf-e10b-d20cb52674a9"
      },
      "outputs": [
        {
          "output_type": "execute_result",
          "data": {
            "text/plain": [
              "6351                                 суши сухари ботяра 😆\n",
              "1301    сколько любви в этом поступке, котик выбрал св...\n",
              "3492    а помнится ее хотели все. но зяблик саоое забрал🤣\n",
              "7522                      так себе эта чекушка на троих 😁\n",
              "386              прям копия моя семья  и так каждый год 😁\n",
              "Name: clean_text, dtype: object"
            ]
          },
          "metadata": {},
          "execution_count": 12
        }
      ],
      "source": [
        "posts_train[:5]"
      ]
    },
    {
      "cell_type": "code",
      "source": [
        "posts_test[:5]"
      ],
      "metadata": {
        "colab": {
          "base_uri": "https://localhost:8080/"
        },
        "id": "LAdCxIX5fZlK",
        "outputId": "7aeaf1c8-ecca-4dc3-8f86-5986714864ab"
      },
      "execution_count": 13,
      "outputs": [
        {
          "output_type": "execute_result",
          "data": {
            "text/plain": [
              "5432                                               раунд🤣\n",
              "5093                                     не ждём ни разу🤣\n",
              "6314                                         😅 нет! а вы?\n",
              "3812                 просто одмен на нее вялого дергает.🤣\n",
              "423     в фотографиях \"спустя годы\" своя, особая, атмо...\n",
              "Name: clean_text, dtype: object"
            ]
          },
          "metadata": {},
          "execution_count": 13
        }
      ]
    },
    {
      "cell_type": "markdown",
      "metadata": {
        "id": "v00GFQHmK3MD"
      },
      "source": [
        "Выделяем правильные ответы"
      ]
    },
    {
      "cell_type": "code",
      "execution_count": 14,
      "metadata": {
        "id": "cuCfe6prK4MQ"
      },
      "outputs": [],
      "source": [
        "y_train = utils.to_categorical(train['class'], nb_classes)"
      ]
    },
    {
      "cell_type": "code",
      "execution_count": 15,
      "metadata": {
        "colab": {
          "base_uri": "https://localhost:8080/"
        },
        "id": "NBdT9klcLEaa",
        "outputId": "38470d4f-2a58-4911-a196-4f8998eaec06"
      },
      "outputs": [
        {
          "output_type": "execute_result",
          "data": {
            "text/plain": [
              "array([[1., 0., 0., ..., 0., 0., 0.],\n",
              "       [0., 0., 1., ..., 0., 0., 0.],\n",
              "       [1., 0., 0., ..., 0., 0., 0.],\n",
              "       ...,\n",
              "       [1., 0., 0., ..., 0., 0., 0.],\n",
              "       [1., 0., 0., ..., 0., 0., 0.],\n",
              "       [1., 0., 0., ..., 0., 0., 0.]], dtype=float32)"
            ]
          },
          "metadata": {},
          "execution_count": 15
        }
      ],
      "source": [
        "y_train"
      ]
    },
    {
      "cell_type": "code",
      "source": [
        "y_test = utils.to_categorical(test['class'], nb_classes)"
      ],
      "metadata": {
        "id": "i1wi6wyPfitJ"
      },
      "execution_count": 16,
      "outputs": []
    },
    {
      "cell_type": "code",
      "source": [
        "y_test"
      ],
      "metadata": {
        "colab": {
          "base_uri": "https://localhost:8080/"
        },
        "id": "_jRpTp74fj2l",
        "outputId": "2bfa309a-4e4c-46ae-ce0e-6b4739fd135a"
      },
      "execution_count": 17,
      "outputs": [
        {
          "output_type": "execute_result",
          "data": {
            "text/plain": [
              "array([[1., 0., 0., ..., 0., 0., 0.],\n",
              "       [1., 0., 0., ..., 0., 0., 0.],\n",
              "       [1., 0., 0., ..., 0., 0., 0.],\n",
              "       ...,\n",
              "       [0., 1., 0., ..., 0., 0., 0.],\n",
              "       [1., 0., 0., ..., 0., 0., 0.],\n",
              "       [1., 0., 0., ..., 0., 0., 0.]], dtype=float32)"
            ]
          },
          "metadata": {},
          "execution_count": 17
        }
      ]
    },
    {
      "cell_type": "markdown",
      "metadata": {
        "id": "Xx_2E74JLWV5"
      },
      "source": [
        "## Токенизация текста"
      ]
    },
    {
      "cell_type": "markdown",
      "metadata": {
        "id": "J2cme4JbLds2"
      },
      "source": [
        "Создаем токенизатор Keras"
      ]
    },
    {
      "cell_type": "code",
      "execution_count": 18,
      "metadata": {
        "id": "V2f-0OOhLeNu"
      },
      "outputs": [],
      "source": [
        "tokenizer = Tokenizer(num_words=num_words)"
      ]
    },
    {
      "cell_type": "markdown",
      "metadata": {
        "id": "0tM5knH1LkE5"
      },
      "source": [
        "Обучаем токенизатор на постах"
      ]
    },
    {
      "cell_type": "code",
      "execution_count": 19,
      "metadata": {
        "id": "RhoT2Bo6LjKl"
      },
      "outputs": [],
      "source": [
        "tokenizer.fit_on_texts(posts_train)"
      ]
    },
    {
      "cell_type": "markdown",
      "metadata": {
        "id": "8qpydqN2LsKX"
      },
      "source": [
        "Просматриваем словарь токенизатора"
      ]
    },
    {
      "cell_type": "code",
      "execution_count": 20,
      "metadata": {
        "colab": {
          "base_uri": "https://localhost:8080/"
        },
        "id": "5LFHB8LNLs-4",
        "outputId": "50a5277b-36f0-4493-83a5-ba3569e557d6"
      },
      "outputs": [
        {
          "output_type": "execute_result",
          "data": {
            "text/plain": [
              "{'не': 1,\n",
              " 'и': 2,\n",
              " 'в': 3,\n",
              " '🤣': 4,\n",
              " 'а': 5,\n",
              " 'это': 6,\n",
              " 'я': 7,\n",
              " '😂': 8,\n",
              " 'что': 9,\n",
              " 'на': 10,\n",
              " '😁': 11,\n",
              " 'с': 12,\n",
              " 'так': 13,\n",
              " 'у': 14,\n",
              " 'как': 15,\n",
              " '😅': 16,\n",
              " 'то': 17,\n",
              " 'ну': 18,\n",
              " 'ты': 19,\n",
              " '😄': 20,\n",
              " 'вот': 21,\n",
              " 'да': 22,\n",
              " 'же': 23,\n",
              " '🤔': 24,\n",
              " 'за': 25,\n",
              " 'все': 26,\n",
              " 'вы': 27,\n",
              " 'уже': 28,\n",
              " 'по': 29,\n",
              " '😊': 30,\n",
              " 'тоже': 31,\n",
              " 'он': 32,\n",
              " '😉': 33,\n",
              " 'мне': 34,\n",
              " '😏': 35,\n",
              " 'бы': 36,\n",
              " '😆': 37,\n",
              " 'просто': 38,\n",
              " 'когда': 39,\n",
              " 'меня': 40,\n",
              " 'только': 41,\n",
              " 'из': 42,\n",
              " 'для': 43,\n",
              " 'она': 44,\n",
              " 'ещё': 45,\n",
              " 'если': 46,\n",
              " 'есть': 47,\n",
              " 'нет': 48,\n",
              " '😍': 49,\n",
              " 'кто': 50,\n",
              " '😃': 51,\n",
              " 'спасибо': 52,\n",
              " 'они': 53,\n",
              " 'от': 54,\n",
              " 'там': 55,\n",
              " 'но': 56,\n",
              " 'к': 57,\n",
              " 'очень': 58,\n",
              " '😎': 59,\n",
              " 'было': 60,\n",
              " '😳': 61,\n",
              " '❤': 62,\n",
              " 'будет': 63,\n",
              " 'тебя': 64,\n",
              " 'может': 65,\n",
              " 'можно': 66,\n",
              " 'всё': 67,\n",
              " 'даже': 68,\n",
              " 'его': 69,\n",
              " 'до': 70,\n",
              " 'без': 71,\n",
              " 'лучше': 72,\n",
              " 'или': 73,\n",
              " 'какой': 74,\n",
              " 'точно': 75,\n",
              " 'о': 76,\n",
              " 'вас': 77,\n",
              " 'тебе': 78,\n",
              " 'надо': 79,\n",
              " 'чем': 80,\n",
              " 'вообще': 81,\n",
              " 'этот': 82,\n",
              " 'зачем': 83,\n",
              " 'где': 84,\n",
              " 'вам': 85,\n",
              " 'тогда': 86,\n",
              " 'такой': 87,\n",
              " 'тут': 88,\n",
              " '😀': 89,\n",
              " 'какая': 90,\n",
              " 'больше': 91,\n",
              " 'почему': 92,\n",
              " 'их': 93,\n",
              " 'еще': 94,\n",
              " 'мы': 95,\n",
              " 'теперь': 96,\n",
              " 'хорошо': 97,\n",
              " 'про': 98,\n",
              " 'раз': 99,\n",
              " '🙄': 100,\n",
              " 'фильм': 101,\n",
              " 'фото': 102,\n",
              " 'себе': 103,\n",
              " '😐': 104,\n",
              " 'её': 105,\n",
              " 'такие': 106,\n",
              " 'после': 107,\n",
              " 'такая': 108,\n",
              " 'ли': 109,\n",
              " '😌': 110,\n",
              " 'ага': 111,\n",
              " 'такое': 112,\n",
              " 'был': 113,\n",
              " 'какие': 114,\n",
              " 'всегда': 115,\n",
              " '🙂': 116,\n",
              " '🙃': 117,\n",
              " 'сам': 118,\n",
              " 'сейчас': 119,\n",
              " 'интересно': 120,\n",
              " 'сразу': 121,\n",
              " 'конечно': 122,\n",
              " 'чего': 123,\n",
              " 'время': 124,\n",
              " 'была': 125,\n",
              " 'нас': 126,\n",
              " '🤗': 127,\n",
              " 'под': 128,\n",
              " 'вк': 129,\n",
              " 'быть': 130,\n",
              " '🤡': 131,\n",
              " '😢': 132,\n",
              " 'этом': 133,\n",
              " 'нужно': 134,\n",
              " 'хоть': 135,\n",
              " 'всех': 136,\n",
              " 'него': 137,\n",
              " '☺️': 138,\n",
              " 'значит': 139,\n",
              " 'сколько': 140,\n",
              " 'потом': 141,\n",
              " 'кажется': 142,\n",
              " 'во': 143,\n",
              " 'них': 144,\n",
              " 'такого': 145,\n",
              " 'этого': 146,\n",
              " 'жизнь': 147,\n",
              " '🥰': 148,\n",
              " 'ему': 149,\n",
              " 'лет': 150,\n",
              " '🙈': 151,\n",
              " 'себя': 152,\n",
              " 'прям': 153,\n",
              " 'тот': 154,\n",
              " '😜': 155,\n",
              " 'таких': 156,\n",
              " 'уж': 157,\n",
              " 'человек': 158,\n",
              " 'эти': 159,\n",
              " 'знаю': 160,\n",
              " 'здесь': 161,\n",
              " 'со': 162,\n",
              " 'кого': 163,\n",
              " 'смотреть': 164,\n",
              " '🤩': 165,\n",
              " 'ни': 166,\n",
              " '😱': 167,\n",
              " '2': 168,\n",
              " 'чтобы': 169,\n",
              " 'куда': 170,\n",
              " '☺': 171,\n",
              " 'пока': 172,\n",
              " '😔': 173,\n",
              " 'кому': 174,\n",
              " 'ничего': 175,\n",
              " 'ее': 176,\n",
              " 'че': 177,\n",
              " '💣': 178,\n",
              " 'один': 179,\n",
              " '💔': 180,\n",
              " 'мой': 181,\n",
              " 'главное': 182,\n",
              " 'ей': 183,\n",
              " 'наверное': 184,\n",
              " 'та': 185,\n",
              " 'вроде': 186,\n",
              " 'самое': 187,\n",
              " 'самый': 188,\n",
              " 'деньги': 189,\n",
              " 'об': 190,\n",
              " 'согласен': 191,\n",
              " '🖤': 192,\n",
              " 'возможно': 193,\n",
              " 'таки': 194,\n",
              " '🤢': 195,\n",
              " '😬': 196,\n",
              " 'новый': 197,\n",
              " 'выглядит': 198,\n",
              " 'через': 199,\n",
              " 'день': 200,\n",
              " '3': 201,\n",
              " 'всего': 202,\n",
              " 'одна': 203,\n",
              " 'зато': 204,\n",
              " '😡': 205,\n",
              " 'сериал': 206,\n",
              " 'совсем': 207,\n",
              " 'потому': 208,\n",
              " 'иди': 209,\n",
              " 'чтоб': 210,\n",
              " 'хороший': 211,\n",
              " 'свой': 212,\n",
              " 'жизни': 213,\n",
              " 'нам': 214,\n",
              " 'каждый': 215,\n",
              " 'равно': 216,\n",
              " 'правильно': 217,\n",
              " 'делать': 218,\n",
              " 'думаю': 219,\n",
              " 'эту': 220,\n",
              " '🥺': 221,\n",
              " 'понятно': 222,\n",
              " 'понял': 223,\n",
              " 'немного': 224,\n",
              " 'видимо': 225,\n",
              " 'пожалуйста': 226,\n",
              " 'скоро': 227,\n",
              " 'именно': 228,\n",
              " 'одной': 229,\n",
              " '😹': 230,\n",
              " 'давно': 231,\n",
              " 'лучший': 232,\n",
              " '❤️': 233,\n",
              " 'муж': 234,\n",
              " 'иногда': 235,\n",
              " 'моя': 236,\n",
              " '😨': 237,\n",
              " '😭': 238,\n",
              " '😒': 239,\n",
              " 'который': 240,\n",
              " 'нравится': 241,\n",
              " 'оно': 242,\n",
              " '😈': 243,\n",
              " 'долго': 244,\n",
              " 'этим': 245,\n",
              " 'чё': 246,\n",
              " 'спит': 247,\n",
              " 'своего': 248,\n",
              " 'были': 249,\n",
              " 'действительно': 250,\n",
              " 'люди': 251,\n",
              " 'мама': 252,\n",
              " 'ваш': 253,\n",
              " 'года': 254,\n",
              " '😮': 255,\n",
              " '🧐': 256,\n",
              " 'им': 257,\n",
              " 'бывает': 258,\n",
              " 'буду': 259,\n",
              " 'более': 260,\n",
              " 'свою': 261,\n",
              " 'твой': 262,\n",
              " 'дальше': 263,\n",
              " 'блин': 264,\n",
              " 'полностью': 265,\n",
              " 'особенно': 266,\n",
              " 'ладно': 267,\n",
              " 'смотрел': 268,\n",
              " 'всем': 269,\n",
              " 'смотрю': 270,\n",
              " '🙀': 271,\n",
              " '—': 272,\n",
              " 'работает': 273,\n",
              " 'счастье': 274,\n",
              " 'которые': 275,\n",
              " 'ля': 276,\n",
              " 'треки': 277,\n",
              " 'при': 278,\n",
              " 'весь': 279,\n",
              " 'никто': 280,\n",
              " 'дело': 281,\n",
              " 'этих': 282,\n",
              " 'думала': 283,\n",
              " 'красивая': 284,\n",
              " 'кайф': 285,\n",
              " 'доброе': 286,\n",
              " 'поняла': 287,\n",
              " 'ой': 288,\n",
              " 'сказал': 289,\n",
              " '💩': 290,\n",
              " 'правда': 291,\n",
              " 'детей': 292,\n",
              " '🤨': 293,\n",
              " 'мужчина': 294,\n",
              " 'смешно': 295,\n",
              " 'этой': 296,\n",
              " 'ж': 297,\n",
              " 'сделать': 298,\n",
              " 'друг': 299,\n",
              " 'эта': 300,\n",
              " 'вопрос': 301,\n",
              " 'нее': 302,\n",
              " 'думал': 303,\n",
              " 'вижу': 304,\n",
              " '💯': 305,\n",
              " 'история': 306,\n",
              " 'сами': 307,\n",
              " 'того': 308,\n",
              " '1': 309,\n",
              " 'дня': 310,\n",
              " 'будут': 311,\n",
              " 'девушки': 312,\n",
              " '💙': 313,\n",
              " 'много': 314,\n",
              " 'утро': 315,\n",
              " 'сильно': 316,\n",
              " 'ответ': 317,\n",
              " 'отец': 318,\n",
              " 'женщины': 319,\n",
              " 'пусть': 320,\n",
              " 'похоже': 321,\n",
              " 'кот': 322,\n",
              " '🤮': 323,\n",
              " 'любовь': 324,\n",
              " 'свои': 325,\n",
              " 'получается': 326,\n",
              " 'супер': 327,\n",
              " '😑': 328,\n",
              " '4': 329,\n",
              " '😇': 330,\n",
              " 'record': 331,\n",
              " 'год': 332,\n",
              " 'сама': 333,\n",
              " '😩': 334,\n",
              " 'сначала': 335,\n",
              " '🥵': 336,\n",
              " 'походу': 337,\n",
              " 'тем': 338,\n",
              " 'наши': 339,\n",
              " 'момент': 340,\n",
              " 'самые': 341,\n",
              " 'самая': 342,\n",
              " 'тобой': 343,\n",
              " 'первый': 344,\n",
              " 'фотографии': 345,\n",
              " 'свое': 346,\n",
              " 'давай': 347,\n",
              " 'сегодня': 348,\n",
              " 'б': 349,\n",
              " '100': 350,\n",
              " 'nrmusicru': 351,\n",
              " 'видно': 352,\n",
              " 'разве': 353,\n",
              " 'неё': 354,\n",
              " 'посмотрите': 355,\n",
              " 'нормально': 356,\n",
              " 'том': 357,\n",
              " 'вкусно': 358,\n",
              " 'отмечаемся': 359,\n",
              " 'могу': 360,\n",
              " 'сих': 361,\n",
              " 'пор': 362,\n",
              " '🥲': 363,\n",
              " 'хотя': 364,\n",
              " 'найти': 365,\n",
              " 'мало': 366,\n",
              " 'почти': 367,\n",
              " 'посмотреть': 368,\n",
              " 'эх': 369,\n",
              " 'две': 370,\n",
              " '🤧': 371,\n",
              " 'никогда': 372,\n",
              " 'слова': 373,\n",
              " 'второй': 374,\n",
              " 'vk': 375,\n",
              " 'малыш': 376,\n",
              " 'страшно': 377,\n",
              " 'против': 378,\n",
              " 'таким': 379,\n",
              " 'скорее': 380,\n",
              " 'знаете': 381,\n",
              " 'туда': 382,\n",
              " 'хочется': 383,\n",
              " 'пиши': 384,\n",
              " 'девочки': 385,\n",
              " 'стоит': 386,\n",
              " 'каком': 387,\n",
              " 'везде': 388,\n",
              " '10': 389,\n",
              " 'ох': 390,\n",
              " 'добрый': 391,\n",
              " 'россии': 392,\n",
              " 'видео': 393,\n",
              " 'повезло': 394,\n",
              " 'девушка': 395,\n",
              " 'идет': 396,\n",
              " 'сказать': 397,\n",
              " 'женщина': 398,\n",
              " 'фильмы': 399,\n",
              " 'смотрела': 400,\n",
              " 'щас': 401,\n",
              " 'откуда': 402,\n",
              " 'какое': 403,\n",
              " 'надеюсь': 404,\n",
              " 'ведь': 405,\n",
              " 'отличный': 406,\n",
              " 'похожа': 407,\n",
              " 'никому': 408,\n",
              " 'пример': 409,\n",
              " 'минут': 410,\n",
              " 'новым': 411,\n",
              " 'странно': 412,\n",
              " 'доводит': 413,\n",
              " 'человека': 414,\n",
              " 'нельзя': 415,\n",
              " 'мои': 416,\n",
              " 'ради': 417,\n",
              " 'людей': 418,\n",
              " 'ней': 419,\n",
              " 'два': 420,\n",
              " 'вместе': 421,\n",
              " 'другое': 422,\n",
              " 'одного': 423,\n",
              " 'верно': 424,\n",
              " 'детства': 425,\n",
              " 'люблю': 426,\n",
              " 'такую': 427,\n",
              " '💦': 428,\n",
              " 'обычно': 429,\n",
              " 'норм': 430,\n",
              " 'топ': 431,\n",
              " 'семья': 432,\n",
              " 'посмотрел': 433,\n",
              " 'своей': 434,\n",
              " 'помню': 435,\n",
              " 'глаза': 436,\n",
              " 'кино': 437,\n",
              " 'будто': 438,\n",
              " 'мужа': 439,\n",
              " 'фильма': 440,\n",
              " 'опять': 441,\n",
              " 'фотки': 442,\n",
              " 'согласна': 443,\n",
              " 'написал': 444,\n",
              " 'посмотрю': 445,\n",
              " 'хотел': 446,\n",
              " 'три': 447,\n",
              " 'вариант': 448,\n",
              " 'сэры': 449,\n",
              " 'реально': 450,\n",
              " 'видела': 451,\n",
              " 'ревность💔': 452,\n",
              " 'комментарий': 453,\n",
              " 'наверно': 454,\n",
              " 'хочу': 455,\n",
              " '50': 456,\n",
              " 'большое': 457,\n",
              " 'лишь': 458,\n",
              " 'либо': 459,\n",
              " 'пару': 460,\n",
              " 'мужик': 461,\n",
              " 'подумала': 462,\n",
              " 'должен': 463,\n",
              " 'папа': 464,\n",
              " 'будем': 465,\n",
              " '🤪': 466,\n",
              " 'дети': 467,\n",
              " 'нужна': 468,\n",
              " 'жена': 469,\n",
              " 'утром': 470,\n",
              " 'могут': 471,\n",
              " '😘': 472,\n",
              " 'жаль': 473,\n",
              " 'ваша': 474,\n",
              " 'последний': 475,\n",
              " 'шикарная': 476,\n",
              " 'руки': 477,\n",
              " 'недавно': 478,\n",
              " '🤤': 479,\n",
              " 'дома': 480,\n",
              " 'нибудь': 481,\n",
              " 'ааа': 482,\n",
              " '8': 483,\n",
              " '🤭': 484,\n",
              " 'которая': 485,\n",
              " 'молодец': 486,\n",
              " 'работать': 487,\n",
              " 'перед': 488,\n",
              " 'твоя': 489,\n",
              " 'думаешь': 490,\n",
              " 'нету': 491,\n",
              " 'приятно': 492,\n",
              " '🤠': 493,\n",
              " 'прекрасная': 494,\n",
              " 'которой': 495,\n",
              " 'мальчик': 496,\n",
              " 'ок': 497,\n",
              " 'идёт': 498,\n",
              " 'называется': 499,\n",
              " 'вконтакте': 500,\n",
              " 'настоящая': 501,\n",
              " 'судя': 502,\n",
              " 'явно': 503,\n",
              " 'каждого': 504,\n",
              " '😤': 505,\n",
              " '😋': 506,\n",
              " 'голове': 507,\n",
              " 'заметили': 508,\n",
              " 'всю': 509,\n",
              " 'видел': 510,\n",
              " 'дай': 511,\n",
              " 'ахах': 512,\n",
              " 'клоун': 513,\n",
              " 'понимаю': 514,\n",
              " 'делают': 515,\n",
              " 'узнать': 516,\n",
              " 'купить': 517,\n",
              " 'назад': 518,\n",
              " 'чебурашка': 519,\n",
              " '😕': 520,\n",
              " 'столько': 521,\n",
              " 'чему': 522,\n",
              " 'чел': 523,\n",
              " 'говорят': 524,\n",
              " 'удивительно': 525,\n",
              " 'плохо': 526,\n",
              " 'аж': 527,\n",
              " 'каждой': 528,\n",
              " 'понравился': 529,\n",
              " 'те': 530,\n",
              " 'этому': 531,\n",
              " 'музыку': 532,\n",
              " 'тех': 533,\n",
              " 'любят': 534,\n",
              " '40': 535,\n",
              " 'плейлист': 536,\n",
              " 'понравилось': 537,\n",
              " 'между': 538,\n",
              " 'подарок': 539,\n",
              " 'новые': 540,\n",
              " 'домой': 541,\n",
              " 'детстве': 542,\n",
              " '9': 543,\n",
              " 'сделали': 544,\n",
              " 'пора': 545,\n",
              " 'любимый': 546,\n",
              " 'обратно': 547,\n",
              " 'знать': 548,\n",
              " 'коммент': 549,\n",
              " '5': 550,\n",
              " 'поэтому': 551,\n",
              " 'должна': 552,\n",
              " '😲': 553,\n",
              " 'рождения': 554,\n",
              " '🥳': 555,\n",
              " 'ходу': 556,\n",
              " 'раньше': 557,\n",
              " '😵': 558,\n",
              " 'нашли': 559,\n",
              " 'прав': 560,\n",
              " 'следующий': 561,\n",
              " 'моему': 562,\n",
              " '🥴': 563,\n",
              " 'игра': 564,\n",
              " 'сделал': 565,\n",
              " 'радости': 566,\n",
              " 'лучшее': 567,\n",
              " 'слишком': 568,\n",
              " 'дизайн': 569,\n",
              " '🤍': 570,\n",
              " 'месте': 571,\n",
              " 'чувство': 572,\n",
              " 'забыли': 573,\n",
              " 'ноги': 574,\n",
              " 'помните': 575,\n",
              " 'говно': 576,\n",
              " '🤯': 577,\n",
              " 'красиво': 578,\n",
              " 'снова': 579,\n",
              " 'легко': 580,\n",
              " 'красотка': 581,\n",
              " 'мир': 582,\n",
              " 'очевидно': 583,\n",
              " 'понять': 584,\n",
              " 'чём': 585,\n",
              " 'наоборот': 586,\n",
              " 'фильме': 587,\n",
              " 'звучит': 588,\n",
              " 'жалко': 589,\n",
              " 'стала': 590,\n",
              " 'благодарю': 591,\n",
              " 'реклама': 592,\n",
              " '😰': 593,\n",
              " 'своим': 594,\n",
              " 'вместо': 595,\n",
              " 'жиза': 596,\n",
              " 'ого': 597,\n",
              " 'пойду': 598,\n",
              " 'мечта': 599,\n",
              " 'одно': 600,\n",
              " 'друга': 601,\n",
              " 'бабушки': 602,\n",
              " 'мужчины': 603,\n",
              " 'стало': 604,\n",
              " 'узнала': 605,\n",
              " 'истории': 606,\n",
              " 'обязательно': 607,\n",
              " 'нечего': 608,\n",
              " 'маму': 609,\n",
              " 'получилось': 610,\n",
              " 'москве': 611,\n",
              " 'самом': 612,\n",
              " 'интересный': 613,\n",
              " 'намного': 614,\n",
              " 'наконец': 615,\n",
              " 'над': 616,\n",
              " 'сожалению': 617,\n",
              " 'например': 618,\n",
              " 'слово': 619,\n",
              " 'одну': 620,\n",
              " 'проблем': 621,\n",
              " 'своими': 622,\n",
              " 'часто': 623,\n",
              " 'верю': 624,\n",
              " 'zenly': 625,\n",
              " 'красивые': 626,\n",
              " 'скучно': 627,\n",
              " 'трек': 628,\n",
              " 'новых': 629,\n",
              " 'приложение': 630,\n",
              " 'вспомнил': 631,\n",
              " 'красотки': 632,\n",
              " 'шутка': 633,\n",
              " 'годом': 634,\n",
              " '💚': 635,\n",
              " 'великий': 636,\n",
              " 'насколько': 637,\n",
              " 'админ': 638,\n",
              " 'информация': 639,\n",
              " 'делает': 640,\n",
              " 'часть': 641,\n",
              " 'смотря': 642,\n",
              " 'проблема': 643,\n",
              " 'голову': 644,\n",
              " 'жду': 645,\n",
              " 'так😅': 646,\n",
              " 'дак': 647,\n",
              " 'родители': 648,\n",
              " 'боже': 649,\n",
              " 'батя': 650,\n",
              " '20': 651,\n",
              " 'счастья': 652,\n",
              " 'случай': 653,\n",
              " 'знает': 654,\n",
              " 'писал': 655,\n",
              " 'новое': 656,\n",
              " 'вами': 657,\n",
              " 'решила': 658,\n",
              " 'неплохо': 659,\n",
              " 'отношения': 660,\n",
              " 'похож': 661,\n",
              " 'слава': 662,\n",
              " 'фамилия': 663,\n",
              " 'своем': 664,\n",
              " 'девочка': 665,\n",
              " 'хотела': 666,\n",
              " 'написать': 667,\n",
              " 'поздравляю': 668,\n",
              " '🤓': 669,\n",
              " '😯': 670,\n",
              " 'мечты': 671,\n",
              " 'сюда': 672,\n",
              " 'спать': 673,\n",
              " 'путин': 674,\n",
              " '🤫': 675,\n",
              " 'вашей': 676,\n",
              " 'серия': 677,\n",
              " 'ваши': 678,\n",
              " 'богу': 679,\n",
              " 'говорит': 680,\n",
              " 'оо': 681,\n",
              " 'умеют': 682,\n",
              " 'парень': 683,\n",
              " 'одни': 684,\n",
              " 'нужны': 685,\n",
              " 'таком': 686,\n",
              " 'ним': 687,\n",
              " 'музыка': 688,\n",
              " 'взять': 689,\n",
              " 'наших': 690,\n",
              " 'юмор': 691,\n",
              " 'букет': 692,\n",
              " '😞': 693,\n",
              " 'баба': 694,\n",
              " 'точку': 695,\n",
              " 'конце': 696,\n",
              " 'причем': 697,\n",
              " 'скажи': 698,\n",
              " '14': 699,\n",
              " 'любит': 700,\n",
              " 'многие': 701,\n",
              " '😥': 702,\n",
              " 'привет': 703,\n",
              " 'меньше': 704,\n",
              " 'комментарии': 705,\n",
              " 'конец': 706,\n",
              " 'ждал': 707,\n",
              " '6': 708,\n",
              " 'свежие': 709,\n",
              " 'снимать': 710,\n",
              " 'одним': 711,\n",
              " 'танки': 712,\n",
              " 'эт': 713,\n",
              " 'хочет': 714,\n",
              " 'мастера': 715,\n",
              " 'поймут': 716,\n",
              " 'бедный': 717,\n",
              " 'следите': 718,\n",
              " 'секс': 719,\n",
              " 'чисто': 720,\n",
              " 'моложе': 721,\n",
              " 'ними': 722,\n",
              " 'возраст': 723,\n",
              " 'душе': 724,\n",
              " 'появилась': 725,\n",
              " 'никаких': 726,\n",
              " 'жопа': 727,\n",
              " 'нет🤣': 728,\n",
              " 'можешь': 729,\n",
              " 'зимой': 730,\n",
              " 'додуматься': 731,\n",
              " 'ума': 732,\n",
              " 'бесплатно': 733,\n",
              " 'е': 734,\n",
              " 'дочь': 735,\n",
              " 'плохой': 736,\n",
              " 'новости': 737,\n",
              " 'показалось': 738,\n",
              " 'беги': 739,\n",
              " 'маленький': 740,\n",
              " 'наступающим': 741,\n",
              " 'женщин': 742,\n",
              " 'части': 743,\n",
              " 'функция': 744,\n",
              " 'моего': 745,\n",
              " 'такими': 746,\n",
              " 'пошел': 747,\n",
              " 'языка': 748,\n",
              " 'видеть': 749,\n",
              " 'воду': 750,\n",
              " 'шедевр': 751,\n",
              " 'отлично': 752,\n",
              " 'чёрный': 753,\n",
              " 'горячий': 754,\n",
              " 'пост': 755,\n",
              " 'ходят': 756,\n",
              " '30': 757,\n",
              " 'тема': 758,\n",
              " 'россия': 759,\n",
              " 'очередь': 760,\n",
              " 'говорю': 761,\n",
              " 'дядя': 762,\n",
              " 'фигня': 763,\n",
              " 'нормальный': 764,\n",
              " 'больно': 765,\n",
              " 'девушке': 766,\n",
              " 'сарказм': 767,\n",
              " 'ждать': 768,\n",
              " 'мать': 769,\n",
              " 'интернета': 770,\n",
              " 'скажешь': 771,\n",
              " 'говоришь': 772,\n",
              " 'красавчик': 773,\n",
              " 'кота': 774,\n",
              " 'брата': 775,\n",
              " 'да🤣': 776,\n",
              " 'русские': 777,\n",
              " 'сына': 778,\n",
              " 'путина': 779,\n",
              " 'хорошего': 780,\n",
              " 'смотри': 781,\n",
              " 'грудь': 782,\n",
              " 'причём': 783,\n",
              " 'круто': 784,\n",
              " 'слов': 785,\n",
              " 'увидел': 786,\n",
              " 'убрали': 787,\n",
              " 'a': 788,\n",
              " 'смотрели': 789,\n",
              " 'заметил': 790,\n",
              " 'другом': 791,\n",
              " '😟': 792,\n",
              " 'подруга': 793,\n",
              " 'зря': 794,\n",
              " 'шикарные': 795,\n",
              " 'волосы': 796,\n",
              " 'серии': 797,\n",
              " 'будешь': 798,\n",
              " 'лично': 799,\n",
              " 'поверь': 800,\n",
              " 'актриса': 801,\n",
              " 'нафиг': 802,\n",
              " 'твои': 803,\n",
              " 'ночной': 804,\n",
              " 'ваше': 805,\n",
              " 'занимаются': 806,\n",
              " 'разные': 807,\n",
              " 'идея': 808,\n",
              " 'происходит': 809,\n",
              " 'кстати': 810,\n",
              " 'февраля': 811,\n",
              " 'некоторые': 812,\n",
              " 'ура': 813,\n",
              " 'хуже': 814,\n",
              " 'собой': 815,\n",
              " 'deep': 816,\n",
              " 'случае': 817,\n",
              " 'господи': 818,\n",
              " 'своих': 819,\n",
              " 'классные': 820,\n",
              " 'окна': 821,\n",
              " 'комент': 822,\n",
              " '7': 823,\n",
              " '2023': 824,\n",
              " 'трусы': 825,\n",
              " 'украина': 826,\n",
              " 'нифига': 827,\n",
              " 'фу': 828,\n",
              " 'настоящий': 829,\n",
              " '60': 830,\n",
              " 'лицо': 831,\n",
              " 'первой': 832,\n",
              " 'фотке': 833,\n",
              " 'актёр': 834,\n",
              " 'своему': 835,\n",
              " 'купи': 836,\n",
              " 'дурак': 837,\n",
              " 'мужем': 838,\n",
              " 'ходит': 839,\n",
              " 'выше': 840,\n",
              " 'имя': 841,\n",
              " 'хорошая': 842,\n",
              " 'вся': 843,\n",
              " 'качество': 844,\n",
              " 'стыдно': 845,\n",
              " 'пара': 846,\n",
              " 'утра': 847,\n",
              " 'иначе': 848,\n",
              " 'молодцы': 849,\n",
              " 'весьма': 850,\n",
              " 'будущее': 851,\n",
              " 'честно': 852,\n",
              " 'написано': 853,\n",
              " 'вид': 854,\n",
              " 'дать': 855,\n",
              " 'извините': 856,\n",
              " 'бред': 857,\n",
              " 'голос': 858,\n",
              " 'далеко': 859,\n",
              " '😝': 860,\n",
              " 'бля': 861,\n",
              " 'звезда': 862,\n",
              " 'спросить': 863,\n",
              " 'ребёнок': 864,\n",
              " 'поняли': 865,\n",
              " 'тому': 866,\n",
              " 'месяц': 867,\n",
              " 'представить': 868,\n",
              " 'парня': 869,\n",
              " 'работы': 870,\n",
              " 'закладки': 871,\n",
              " 'любви': 872,\n",
              " 'некоторым': 873,\n",
              " 'девушкам': 874,\n",
              " 'певица': 875,\n",
              " 'печально': 876,\n",
              " 'море': 877,\n",
              " 'бот': 878,\n",
              " 'совпало': 879,\n",
              " 'радость': 880,\n",
              " 'взял': 881,\n",
              " 'мужика': 882,\n",
              " 'прошло': 883,\n",
              " 'галя': 884,\n",
              " 'бабу': 885,\n",
              " 'слышу': 886,\n",
              " 'области': 887,\n",
              " 'невероятно': 888,\n",
              " 'красивый': 889,\n",
              " 'р': 890,\n",
              " 'приложения': 891,\n",
              " 'выдал': 892,\n",
              " 'ставь': 893,\n",
              " 'внимание': 894,\n",
              " 'новостями': 895,\n",
              " 'кем': 896,\n",
              " 'узнали': 897,\n",
              " 'сочный': 898,\n",
              " 'ошибка': 899,\n",
              " 'подумал': 900,\n",
              " 'стиле': 901,\n",
              " 'голова': 902,\n",
              " 'пришел': 903,\n",
              " 'разница': 904,\n",
              " 'аватара': 905,\n",
              " 'начало': 906,\n",
              " 'тест': 907,\n",
              " 'меган': 908,\n",
              " 'идут': 909,\n",
              " 'марта': 910,\n",
              " 'музыки': 911,\n",
              " 'друзей': 912,\n",
              " 'сало': 913,\n",
              " 'самого': 914,\n",
              " 'спокойно': 915,\n",
              " '💟': 916,\n",
              " 'хохлов': 917,\n",
              " 'двое': 918,\n",
              " 'перестанет': 919,\n",
              " 'уроки': 920,\n",
              " 'понимает': 921,\n",
              " 'тож': 922,\n",
              " 'https': 923,\n",
              " 'com': 924,\n",
              " 'нет😉': 925,\n",
              " 'ребята': 926,\n",
              " 'случилось': 927,\n",
              " 'бузова': 928,\n",
              " 'сидит': 929,\n",
              " 'напиши': 930,\n",
              " 'яндекс': 931,\n",
              " 'хотят': 932,\n",
              " 'спасибо😊': 933,\n",
              " 'делаю': 934,\n",
              " 'артист': 935,\n",
              " 'остались': 936,\n",
              " 'быстро': 937,\n",
              " 'дайте': 938,\n",
              " 'доме': 939,\n",
              " 'опыт': 940,\n",
              " 'подумать': 941,\n",
              " 'вполне': 942,\n",
              " 'ооо': 943,\n",
              " 'бить': 944,\n",
              " 'хахаха': 945,\n",
              " 'бабушка': 946,\n",
              " 'интересная': 947,\n",
              " 'фильмe': 948,\n",
              " 'гaя': 949,\n",
              " 'pичи': 950,\n",
              " 'хватит': 951,\n",
              " 'отличная': 952,\n",
              " 'интереснее': 953,\n",
              " 'твою': 954,\n",
              " 'girl': 955,\n",
              " 'х': 956,\n",
              " 'думает': 957,\n",
              " 'мнение': 958,\n",
              " 'выходит': 959,\n",
              " 'уровень': 960,\n",
              " 'нашла': 961,\n",
              " 'взяла': 962,\n",
              " 'здоровья': 963,\n",
              " 'легенда': 964,\n",
              " 'слышал': 965,\n",
              " 'убрать': 966,\n",
              " 'тему': 967,\n",
              " 'подскажите': 968,\n",
              " 'ребенок': 969,\n",
              " 'пытается': 970,\n",
              " 'глянуть': 971,\n",
              " 'слове': 972,\n",
              " '…': 973,\n",
              " 'пользователей': 974,\n",
              " 'папины': 975,\n",
              " 'дочки': 976,\n",
              " 'будь': 977,\n",
              " 'поделился': 978,\n",
              " 'нос': 979,\n",
              " 'частей': 980,\n",
              " 'ужас': 981,\n",
              " 'взгляд': 982,\n",
              " 'детство': 983,\n",
              " 'жене': 984,\n",
              " 'олды': 985,\n",
              " 'вечер': 986,\n",
              " 'профиль': 987,\n",
              " 'шикарный': 988,\n",
              " 'думать': 989,\n",
              " 'написала': 990,\n",
              " 'типо': 991,\n",
              " 'соглашусь': 992,\n",
              " 'москва': 993,\n",
              " 'рекомендации': 994,\n",
              " 'хочешь': 995,\n",
              " 'знакомо': 996,\n",
              " 'ясно': 997,\n",
              " 'интересные': 998,\n",
              " 'жопу': 999,\n",
              " 'знак': 1000,\n",
              " ...}"
            ]
          },
          "metadata": {},
          "execution_count": 20
        }
      ],
      "source": [
        "tokenizer.word_index"
      ]
    },
    {
      "cell_type": "markdown",
      "metadata": {
        "id": "XJVNNZZ3LxoV"
      },
      "source": [
        "Преобразуем посты в числовое представление"
      ]
    },
    {
      "cell_type": "code",
      "execution_count": 21,
      "metadata": {
        "id": "etjtGQi-Ly_5"
      },
      "outputs": [],
      "source": [
        "sequences_train = tokenizer.texts_to_sequences(posts_train)"
      ]
    },
    {
      "cell_type": "code",
      "execution_count": 22,
      "metadata": {
        "colab": {
          "base_uri": "https://localhost:8080/"
        },
        "id": "Le7_-In3L5Ke",
        "outputId": "cc4b0054-a2e7-4615-e8f5-d98d88b4b648"
      },
      "outputs": [
        {
          "output_type": "stream",
          "name": "stdout",
          "text": [
            "как сесть на диету 😁\n",
            "[140, 872, 3, 133, 3106, 1694, 3107, 248, 3108]\n"
          ]
        }
      ],
      "source": [
        "index = 1\n",
        "print(posts_train[index])\n",
        "print(sequences_train[index])"
      ]
    },
    {
      "cell_type": "code",
      "execution_count": 23,
      "metadata": {
        "colab": {
          "base_uri": "https://localhost:8080/"
        },
        "id": "rMHbvGhZMAEw",
        "outputId": "a5f41119-cdef-4175-93bf-2b5be349b5a9"
      },
      "outputs": [
        {
          "output_type": "execute_result",
          "data": {
            "text/plain": [
              "12738"
            ]
          },
          "metadata": {},
          "execution_count": 23
        }
      ],
      "source": [
        "tokenizer.word_index['сесть']"
      ]
    },
    {
      "cell_type": "code",
      "source": [
        "sequences_test = tokenizer.texts_to_sequences(posts_test)"
      ],
      "metadata": {
        "id": "3n7fSPorgCH2"
      },
      "execution_count": 24,
      "outputs": []
    },
    {
      "cell_type": "markdown",
      "metadata": {
        "id": "3k9SI8rqME-V"
      },
      "source": [
        "Ограничиваем длину постов"
      ]
    },
    {
      "cell_type": "code",
      "execution_count": 25,
      "metadata": {
        "id": "-84lOS81MGYX"
      },
      "outputs": [],
      "source": [
        "x_train = pad_sequences(sequences_train, maxlen=max_len)"
      ]
    },
    {
      "cell_type": "code",
      "source": [
        "x_test = pad_sequences(sequences_test, maxlen=max_len)"
      ],
      "metadata": {
        "id": "VY9S3mOdgH2S"
      },
      "execution_count": 26,
      "outputs": []
    },
    {
      "cell_type": "code",
      "execution_count": 27,
      "metadata": {
        "colab": {
          "base_uri": "https://localhost:8080/"
        },
        "id": "wrsd4r-ZMKpw",
        "outputId": "827da2e5-d2d2-4207-fd06-fe34cf008f4e"
      },
      "outputs": [
        {
          "output_type": "execute_result",
          "data": {
            "text/plain": [
              "array([[   0,    0,    0,    0,    0,    0,    0, 3103, 3104, 3105,   37],\n",
              "       [   0,    0,  140,  872,    3,  133, 3106, 1694, 3107,  248, 3108],\n",
              "       [   0,    0,    5, 1695,  176, 1160,   26,   56, 3109, 3110, 3111],\n",
              "       [   0,    0,    0,    0,   13,  103,  300, 3112,   10, 1696,   11],\n",
              "       [   0,    0,  153, 1697,  236,  432,    2,   13,  215,  332,   11]],\n",
              "      dtype=int32)"
            ]
          },
          "metadata": {},
          "execution_count": 27
        }
      ],
      "source": [
        "x_train[:5]"
      ]
    },
    {
      "cell_type": "code",
      "source": [
        "x_test[:5]"
      ],
      "metadata": {
        "colab": {
          "base_uri": "https://localhost:8080/"
        },
        "id": "gtqtiasPgOiy",
        "outputId": "94bc3fac-8d1d-42ba-fb11-870aaea69b3f"
      },
      "execution_count": 28,
      "outputs": [
        {
          "output_type": "execute_result",
          "data": {
            "text/plain": [
              "array([[   0,    0,    0,    0,    0,    0,    0,    0,    0,    0,    0],\n",
              "       [   0,    0,    0,    0,    0,    0,    0,    0,    1, 1368,  166],\n",
              "       [   0,    0,    0,    0,    0,    0,    0,   16,   48,    5,   27],\n",
              "       [   0,    0,    0,    0,    0,    0,    0,   38,   10,  302,    4],\n",
              "       [   0,    0,    0,    0,    0,    3, 2739, 3026, 2144, 1102,   16]],\n",
              "      dtype=int32)"
            ]
          },
          "metadata": {},
          "execution_count": 28
        }
      ]
    },
    {
      "cell_type": "code",
      "execution_count": 29,
      "metadata": {
        "id": "611Sd__x5xyc"
      },
      "outputs": [],
      "source": [
        "#def recall_m(y_true, y_pred):\n",
        " #   true_positives = K.sum(K.round(K.clip(y_true * y_pred, 0, 1)))\n",
        "  #  possible_positives = K.sum(K.round(K.clip(y_true, 0, 1)))\n",
        "   # recall = true_positives / (possible_positives + K.epsilon())\n",
        "    #return recall"
      ]
    },
    {
      "cell_type": "code",
      "execution_count": 30,
      "metadata": {
        "id": "8jN2ltoA5y1s"
      },
      "outputs": [],
      "source": [
        "#def precision_m(y_true, y_pred):\n",
        " #   true_positives = K.sum(K.round(K.clip(y_true * y_pred, 0, 1)))\n",
        "  #  predicted_positives = K.sum(K.round(K.clip(y_pred, 0, 1)))\n",
        "   # precision = true_positives / (predicted_positives + K.epsilon())\n",
        "    #return precision"
      ]
    },
    {
      "cell_type": "code",
      "execution_count": 31,
      "metadata": {
        "id": "lWAHlMLY52Du"
      },
      "outputs": [],
      "source": [
        "#def f1_m(y_true, y_pred):\n",
        " #   precision = precision_m(y_true, y_pred)\n",
        "  #  recall = recall_m(y_true, y_pred)\n",
        "   # return 2*((precision*recall)/(precision+recall+K.epsilon()))"
      ]
    },
    {
      "cell_type": "markdown",
      "metadata": {
        "id": "dViU6WEJMNyt"
      },
      "source": [
        "## Сверточная нейронная сеть"
      ]
    },
    {
      "cell_type": "code",
      "execution_count": 32,
      "metadata": {
        "id": "F8UUkNVKMOLg"
      },
      "outputs": [],
      "source": [
        "model_cnn = Sequential()\n",
        "model_cnn.add(Embedding(num_words, 32, input_length=max_len))\n",
        "model_cnn.add(Conv1D(250, 5, padding='valid', activation='relu'))\n",
        "model_cnn.add(GlobalMaxPooling1D())\n",
        "model_cnn.add(Dense(128, activation='relu'))\n",
        "model_cnn.add(Dense(15, activation='softmax'))"
      ]
    },
    {
      "cell_type": "code",
      "execution_count": 33,
      "metadata": {
        "id": "5kz7Qh0yMXYj"
      },
      "outputs": [],
      "source": [
        "model_cnn.compile(optimizer='adam', \n",
        "              loss='categorical_crossentropy', \n",
        "               metrics=['accuracy', metrics.Precision(), metrics.Recall(), metrics.F1Score(average='macro', name='f1_score_macro'), metrics.F1Score(average='micro', name='f1_score_micro'), metrics.F1Score(average='weighted', name='f1_score_weighted')]\n",
        "              )"
      ]
    },
    {
      "cell_type": "code",
      "execution_count": 34,
      "metadata": {
        "colab": {
          "base_uri": "https://localhost:8080/"
        },
        "id": "8S_qMbd1MbM-",
        "outputId": "3d76fdb9-c3af-4c21-8877-33ed84fd3925"
      },
      "outputs": [
        {
          "output_type": "stream",
          "name": "stdout",
          "text": [
            "Model: \"sequential\"\n",
            "_________________________________________________________________\n",
            " Layer (type)                Output Shape              Param #   \n",
            "=================================================================\n",
            " embedding (Embedding)       (None, 11, 32)            320000    \n",
            "                                                                 \n",
            " conv1d (Conv1D)             (None, 7, 250)            40250     \n",
            "                                                                 \n",
            " global_max_pooling1d (Glob  (None, 250)               0         \n",
            " alMaxPooling1D)                                                 \n",
            "                                                                 \n",
            " dense (Dense)               (None, 128)               32128     \n",
            "                                                                 \n",
            " dense_1 (Dense)             (None, 15)                1935      \n",
            "                                                                 \n",
            "=================================================================\n",
            "Total params: 394313 (1.50 MB)\n",
            "Trainable params: 394313 (1.50 MB)\n",
            "Non-trainable params: 0 (0.00 Byte)\n",
            "_________________________________________________________________\n"
          ]
        }
      ],
      "source": [
        "model_cnn.summary()"
      ]
    },
    {
      "cell_type": "markdown",
      "metadata": {
        "id": "VQsth7ZpMfTo"
      },
      "source": [
        "Создаем callback для сохранения нейронной сети на каждой эпохе, если качество работы на проверочном наборе данных улучшилось. Сеть сохраняется в файл best_model.h5"
      ]
    },
    {
      "cell_type": "code",
      "execution_count": 35,
      "metadata": {
        "id": "Wiljs7umMhTF"
      },
      "outputs": [],
      "source": [
        "model_cnn_save_path = 'best_model_cnn.h5'\n",
        "checkpoint_callback_cnn = ModelCheckpoint(model_cnn_save_path, \n",
        "                                      #monitor='val_accuracy',\n",
        "                                      save_best_only=True,\n",
        "                                      verbose=1)"
      ]
    },
    {
      "cell_type": "code",
      "execution_count": 36,
      "metadata": {
        "colab": {
          "base_uri": "https://localhost:8080/"
        },
        "id": "muN4J5QcMmiN",
        "outputId": "f805fd8d-08a5-4ff0-a39c-73e08314aab6"
      },
      "outputs": [
        {
          "output_type": "stream",
          "name": "stdout",
          "text": [
            "Epoch 1/10\n",
            "52/52 [==============================] - ETA: 0s - loss: 1.7154 - accuracy: 0.6309 - precision: 0.6424 - recall: 0.3837 - f1_score_macro: 0.0526 - f1_score_micro: 0.6309 - f1_score_weighted: 0.4997\n",
            "Epoch 1: val_loss improved from inf to 1.32937, saving model to best_model_cnn.h5\n",
            "52/52 [==============================] - 18s 155ms/step - loss: 1.7154 - accuracy: 0.6309 - precision: 0.6424 - recall: 0.3837 - f1_score_macro: 0.0526 - f1_score_micro: 0.6309 - f1_score_weighted: 0.4997 - val_loss: 1.3294 - val_accuracy: 0.6477 - val_precision: 0.6516 - val_recall: 0.6463 - val_f1_score_macro: 0.0524 - val_f1_score_micro: 0.6477 - val_f1_score_weighted: 0.5092\n",
            "Epoch 2/10\n"
          ]
        },
        {
          "output_type": "stream",
          "name": "stderr",
          "text": [
            "/usr/local/lib/python3.10/dist-packages/keras/src/engine/training.py:3052: UserWarning: You are saving your model as an HDF5 file via `model.save()`. This file format is considered legacy. We recommend using instead the native Keras format, e.g. `model.save('my_model.keras')`.\n",
            "  saving_api.save_model(\n"
          ]
        },
        {
          "output_type": "stream",
          "name": "stdout",
          "text": [
            "52/52 [==============================] - ETA: 0s - loss: 1.1702 - accuracy: 0.6424 - precision: 0.7563 - recall: 0.5710 - f1_score_macro: 0.0521 - f1_score_micro: 0.6424 - f1_score_weighted: 0.5025\n",
            "Epoch 2: val_loss improved from 1.32937 to 1.14882, saving model to best_model_cnn.h5\n",
            "52/52 [==============================] - 3s 57ms/step - loss: 1.1702 - accuracy: 0.6424 - precision: 0.7563 - recall: 0.5710 - f1_score_macro: 0.0521 - f1_score_micro: 0.6424 - f1_score_weighted: 0.5025 - val_loss: 1.1488 - val_accuracy: 0.6477 - val_precision: 0.8542 - val_recall: 0.4526 - val_f1_score_macro: 0.0524 - val_f1_score_micro: 0.6477 - val_f1_score_weighted: 0.5092\n",
            "Epoch 3/10\n",
            "52/52 [==============================] - ETA: 0s - loss: 0.8841 - accuracy: 0.7068 - precision: 0.9563 - recall: 0.6393 - f1_score_macro: 0.1054 - f1_score_micro: 0.7068 - f1_score_weighted: 0.6172\n",
            "Epoch 3: val_loss improved from 1.14882 to 1.12637, saving model to best_model_cnn.h5\n",
            "52/52 [==============================] - 2s 35ms/step - loss: 0.8841 - accuracy: 0.7068 - precision: 0.9563 - recall: 0.6393 - f1_score_macro: 0.1054 - f1_score_micro: 0.7068 - f1_score_weighted: 0.6172 - val_loss: 1.1264 - val_accuracy: 0.6274 - val_precision: 0.8841 - val_recall: 0.5271 - val_f1_score_macro: 0.1151 - val_f1_score_micro: 0.6274 - val_f1_score_weighted: 0.6073\n",
            "Epoch 4/10\n",
            "45/52 [========================>.....] - ETA: 0s - loss: 0.6824 - accuracy: 0.7832 - precision: 0.9900 - recall: 0.6892 - f1_score_macro: 0.1493 - f1_score_micro: 0.7832 - f1_score_weighted: 0.7449\n",
            "Epoch 4: val_loss did not improve from 1.12637\n",
            "52/52 [==============================] - 1s 18ms/step - loss: 0.6783 - accuracy: 0.7849 - precision: 0.9896 - recall: 0.6901 - f1_score_macro: 0.1516 - f1_score_micro: 0.7849 - f1_score_weighted: 0.7479 - val_loss: 1.1520 - val_accuracy: 0.6206 - val_precision: 0.8919 - val_recall: 0.5366 - val_f1_score_macro: 0.1316 - val_f1_score_micro: 0.6206 - val_f1_score_weighted: 0.6241\n",
            "Epoch 5/10\n",
            "52/52 [==============================] - ETA: 0s - loss: 0.5296 - accuracy: 0.8524 - precision: 0.9947 - recall: 0.7579 - f1_score_macro: 0.2374 - f1_score_micro: 0.8524 - f1_score_weighted: 0.8294\n",
            "Epoch 5: val_loss improved from 1.12637 to 1.01512, saving model to best_model_cnn.h5\n",
            "52/52 [==============================] - 1s 27ms/step - loss: 0.5296 - accuracy: 0.8524 - precision: 0.9947 - recall: 0.7579 - f1_score_macro: 0.2374 - f1_score_micro: 0.8524 - f1_score_weighted: 0.8294 - val_loss: 1.0151 - val_accuracy: 0.6911 - val_precision: 0.9016 - val_recall: 0.6084 - val_f1_score_macro: 0.1944 - val_f1_score_micro: 0.6911 - val_f1_score_weighted: 0.6976\n",
            "Epoch 6/10\n",
            "51/52 [============================>.] - ETA: 0s - loss: 0.3763 - accuracy: 0.8991 - precision: 0.9890 - recall: 0.8398 - f1_score_macro: 0.2814 - f1_score_micro: 0.8991 - f1_score_weighted: 0.8727\n",
            "Epoch 6: val_loss improved from 1.01512 to 0.89173, saving model to best_model_cnn.h5\n",
            "52/52 [==============================] - 1s 12ms/step - loss: 0.3758 - accuracy: 0.8991 - precision: 0.9890 - recall: 0.8397 - f1_score_macro: 0.2814 - f1_score_micro: 0.8991 - f1_score_weighted: 0.8728 - val_loss: 0.8917 - val_accuracy: 0.7846 - val_precision: 0.9054 - val_recall: 0.6612 - val_f1_score_macro: 0.2254 - val_f1_score_micro: 0.7846 - val_f1_score_weighted: 0.7550\n",
            "Epoch 7/10\n",
            "50/52 [===========================>..] - ETA: 0s - loss: 0.2685 - accuracy: 0.9189 - precision: 0.9904 - recall: 0.8866 - f1_score_macro: 0.3484 - f1_score_micro: 0.9189 - f1_score_weighted: 0.8966\n",
            "Epoch 7: val_loss improved from 0.89173 to 0.88516, saving model to best_model_cnn.h5\n",
            "52/52 [==============================] - 1s 16ms/step - loss: 0.2668 - accuracy: 0.9196 - precision: 0.9906 - recall: 0.8876 - f1_score_macro: 0.3498 - f1_score_micro: 0.9196 - f1_score_weighted: 0.8976 - val_loss: 0.8852 - val_accuracy: 0.7778 - val_precision: 0.8889 - val_recall: 0.6938 - val_f1_score_macro: 0.3252 - val_f1_score_micro: 0.7778 - val_f1_score_weighted: 0.7629\n",
            "Epoch 8/10\n",
            "52/52 [==============================] - ETA: 0s - loss: 0.1916 - accuracy: 0.9459 - precision: 0.9927 - recall: 0.9176 - f1_score_macro: 0.4920 - f1_score_micro: 0.9459 - f1_score_weighted: 0.9340\n",
            "Epoch 8: val_loss improved from 0.88516 to 0.87744, saving model to best_model_cnn.h5\n",
            "52/52 [==============================] - 1s 18ms/step - loss: 0.1916 - accuracy: 0.9459 - precision: 0.9927 - recall: 0.9176 - f1_score_macro: 0.4920 - f1_score_micro: 0.9459 - f1_score_weighted: 0.9340 - val_loss: 0.8774 - val_accuracy: 0.8035 - val_precision: 0.8627 - val_recall: 0.7575 - val_f1_score_macro: 0.4050 - val_f1_score_micro: 0.8035 - val_f1_score_weighted: 0.7940\n",
            "Epoch 9/10\n",
            "52/52 [==============================] - ETA: 0s - loss: 0.1420 - accuracy: 0.9614 - precision: 0.9914 - recall: 0.9375 - f1_score_macro: 0.5692 - f1_score_micro: 0.9614 - f1_score_weighted: 0.9537\n",
            "Epoch 9: val_loss did not improve from 0.87744\n",
            "52/52 [==============================] - 1s 12ms/step - loss: 0.1420 - accuracy: 0.9614 - precision: 0.9914 - recall: 0.9375 - f1_score_macro: 0.5692 - f1_score_micro: 0.9614 - f1_score_weighted: 0.9537 - val_loss: 0.9297 - val_accuracy: 0.8049 - val_precision: 0.8563 - val_recall: 0.7751 - val_f1_score_macro: 0.4322 - val_f1_score_micro: 0.8049 - val_f1_score_weighted: 0.8056\n",
            "Epoch 10/10\n",
            "52/52 [==============================] - ETA: 0s - loss: 0.1092 - accuracy: 0.9715 - precision: 0.9911 - recall: 0.9542 - f1_score_macro: 0.6624 - f1_score_micro: 0.9715 - f1_score_weighted: 0.9671\n",
            "Epoch 10: val_loss did not improve from 0.87744\n",
            "52/52 [==============================] - 1s 26ms/step - loss: 0.1092 - accuracy: 0.9715 - precision: 0.9911 - recall: 0.9542 - f1_score_macro: 0.6624 - f1_score_micro: 0.9715 - f1_score_weighted: 0.9671 - val_loss: 0.9883 - val_accuracy: 0.7913 - val_precision: 0.8456 - val_recall: 0.7642 - val_f1_score_macro: 0.4246 - val_f1_score_micro: 0.7913 - val_f1_score_weighted: 0.7977\n"
          ]
        }
      ],
      "source": [
        "history_cnn = model_cnn.fit(x_train, \n",
        "                            y_train, \n",
        "                            epochs=10,\n",
        "                            batch_size=128,\n",
        "                            validation_split=0.1,\n",
        "                            callbacks=[checkpoint_callback_cnn])"
      ]
    },
    {
      "cell_type": "markdown",
      "source": [
        "смотрим на f1_weighted, т.к. датасет несбалансирован"
      ],
      "metadata": {
        "id": "VbeqNNnHiCsa"
      }
    },
    {
      "cell_type": "code",
      "source": [
        "plt.plot(history_cnn.history['f1_score_weighted'], \n",
        "         label='f1_score_weighted на обучающем наборе')\n",
        "plt.plot(history_cnn.history['val_f1_score_weighted'], \n",
        "         label='f1_score_weighted на проверочном наборе')\n",
        "plt.xlabel('Эпоха обучения')\n",
        "plt.ylabel('f1_score_weighted')\n",
        "plt.legend()\n",
        "plt.show()"
      ],
      "metadata": {
        "colab": {
          "base_uri": "https://localhost:8080/",
          "height": 449
        },
        "id": "LmUj0wOviDfX",
        "outputId": "13961a73-7769-49f2-8bca-e5473935b71d"
      },
      "execution_count": 37,
      "outputs": [
        {
          "output_type": "display_data",
          "data": {
            "text/plain": [
              "<Figure size 640x480 with 1 Axes>"
            ],
            "image/png": "[encoded data removed]"
          },
          "metadata": {}
        }
      ]
    },
    {
      "cell_type": "code",
      "execution_count": 38,
      "metadata": {
        "colab": {
          "base_uri": "https://localhost:8080/",
          "height": 449
        },
        "id": "0Lji-PHmNyOh",
        "outputId": "108f7b01-e4be-459d-ed95-afdb93dab369"
      },
      "outputs": [
        {
          "output_type": "display_data",
          "data": {
            "text/plain": [
              "<Figure size 640x480 with 1 Axes>"
            ],
            "image/png": "[encoded data removed]"
          },
          "metadata": {}
        }
      ],
      "source": [
        "plt.plot(history_cnn.history['accuracy'], \n",
        "         label='Доля верных ответов на обучающем наборе')\n",
        "plt.plot(history_cnn.history['val_accuracy'], \n",
        "         label='Доля верных ответов на проверочном наборе')\n",
        "plt.xlabel('Эпоха обучения')\n",
        "plt.ylabel('Доля верных ответов')\n",
        "plt.legend()\n",
        "plt.show()"
      ]
    },
    {
      "cell_type": "code",
      "source": [
        "cnn_loaded = load_model(\"best_model_cnn.h5\")"
      ],
      "metadata": {
        "id": "x6V6RnUaiP1L"
      },
      "execution_count": 39,
      "outputs": []
    },
    {
      "cell_type": "code",
      "source": [
        "cnn_loaded.evaluate(x_test, y_test, verbose=1)"
      ],
      "metadata": {
        "colab": {
          "base_uri": "https://localhost:8080/"
        },
        "id": "ifcpZWCYiT0u",
        "outputId": "8ddf8700-cf5d-49fc-a5d4-27dcae99143d"
      },
      "execution_count": 40,
      "outputs": [
        {
          "output_type": "stream",
          "name": "stdout",
          "text": [
            "58/58 [==============================] - 1s 4ms/step - loss: 0.8207 - accuracy: 0.8254 - precision: 0.8807 - recall: 0.7885 - f1_score_macro: 0.4020 - f1_score_micro: 0.8254 - f1_score_weighted: 0.8186\n"
          ]
        },
        {
          "output_type": "execute_result",
          "data": {
            "text/plain": [
              "[0.8206735849380493,\n",
              " 0.8253796100616455,\n",
              " 0.8806783556938171,\n",
              " 0.7885032296180725,\n",
              " 0.40204137563705444,\n",
              " 0.8253796696662903,\n",
              " 0.8186473250389099]"
            ]
          },
          "metadata": {},
          "execution_count": 40
        }
      ]
    },
    {
      "cell_type": "code",
      "source": [
        "predicted_cnn = cnn_loaded.predict(x_test)"
      ],
      "metadata": {
        "colab": {
          "base_uri": "https://localhost:8080/"
        },
        "id": "Yb7xVHVRiaRU",
        "outputId": "55cea7c8-fd78-442c-d7b2-a22dedd3e384"
      },
      "execution_count": 41,
      "outputs": [
        {
          "output_type": "stream",
          "name": "stdout",
          "text": [
            "58/58 [==============================] - 0s 2ms/step\n"
          ]
        }
      ]
    },
    {
      "cell_type": "code",
      "source": [
        "import sklearn.metrics as sklearn_metrics\n",
        "import numpy as np"
      ],
      "metadata": {
        "id": "CMjQqE-SifVl"
      },
      "execution_count": 42,
      "outputs": []
    },
    {
      "cell_type": "code",
      "source": [
        "report_cnn = sklearn_metrics.classification_report(np.argmax(y_test, axis=1), np.argmax(predicted_cnn, axis=1))\n",
        "print(report_cnn)"
      ],
      "metadata": {
        "colab": {
          "base_uri": "https://localhost:8080/"
        },
        "id": "QirCw_dGihBZ",
        "outputId": "f460f01d-00d6-409d-957d-65f191bb9910"
      },
      "execution_count": 43,
      "outputs": [
        {
          "output_type": "stream",
          "name": "stdout",
          "text": [
            "              precision    recall  f1-score   support\n",
            "\n",
            "           0       0.86      0.93      0.89      1212\n",
            "           1       0.81      0.72      0.76       200\n",
            "           2       0.72      0.67      0.70       140\n",
            "           3       0.82      0.73      0.77       106\n",
            "           4       0.81      0.63      0.71        70\n",
            "           5       0.03      0.05      0.04        21\n",
            "           6       1.00      0.65      0.79        23\n",
            "           7       0.85      0.55      0.67        20\n",
            "           8       0.00      0.00      0.00        13\n",
            "           9       0.75      0.67      0.71        18\n",
            "          10       0.00      0.00      0.00         5\n",
            "          11       0.00      0.00      0.00         4\n",
            "          12       0.00      0.00      0.00         5\n",
            "          13       0.00      0.00      0.00         4\n",
            "          14       0.00      0.00      0.00         3\n",
            "\n",
            "    accuracy                           0.83      1844\n",
            "   macro avg       0.44      0.37      0.40      1844\n",
            "weighted avg       0.82      0.83      0.82      1844\n",
            "\n"
          ]
        },
        {
          "output_type": "stream",
          "name": "stderr",
          "text": [
            "/usr/local/lib/python3.10/dist-packages/sklearn/metrics/_classification.py:1344: UndefinedMetricWarning: Precision and F-score are ill-defined and being set to 0.0 in labels with no predicted samples. Use `zero_division` parameter to control this behavior.\n",
            "  _warn_prf(average, modifier, msg_start, len(result))\n",
            "/usr/local/lib/python3.10/dist-packages/sklearn/metrics/_classification.py:1344: UndefinedMetricWarning: Precision and F-score are ill-defined and being set to 0.0 in labels with no predicted samples. Use `zero_division` parameter to control this behavior.\n",
            "  _warn_prf(average, modifier, msg_start, len(result))\n",
            "/usr/local/lib/python3.10/dist-packages/sklearn/metrics/_classification.py:1344: UndefinedMetricWarning: Precision and F-score are ill-defined and being set to 0.0 in labels with no predicted samples. Use `zero_division` parameter to control this behavior.\n",
            "  _warn_prf(average, modifier, msg_start, len(result))\n"
          ]
        }
      ]
    },
    {
      "cell_type": "code",
      "source": [
        "with open(\"CNN_10.txt\", 'w') as w_file:\n",
        "  w_file.write(report_cnn)"
      ],
      "metadata": {
        "id": "E47OPxIzin6C"
      },
      "execution_count": 44,
      "outputs": []
    },
    {
      "cell_type": "markdown",
      "metadata": {
        "id": "quETdpIlN5Oy"
      },
      "source": [
        "## Cеть LSTM"
      ]
    },
    {
      "cell_type": "code",
      "execution_count": 45,
      "metadata": {
        "id": "jzPqHvswN5ks"
      },
      "outputs": [],
      "source": [
        "model_lstm = Sequential()\n",
        "model_lstm.add(Embedding(num_words, 32, input_length=max_len))\n",
        "model_lstm.add(LSTM(16))\n",
        "model_lstm.add(Dense(15, activation='softmax'))"
      ]
    },
    {
      "cell_type": "code",
      "execution_count": 46,
      "metadata": {
        "id": "fpCCNv2bODXg"
      },
      "outputs": [],
      "source": [
        "model_lstm.compile(optimizer='adam', \n",
        "              loss='categorical_crossentropy', \n",
        "               metrics=['accuracy', metrics.Precision(), metrics.Recall(), metrics.F1Score(average='macro', name='f1_score_macro'), metrics.F1Score(average='micro', name='f1_score_micro'), metrics.F1Score(average='weighted', name='f1_score_weighted')]\n",
        "              )"
      ]
    },
    {
      "cell_type": "code",
      "execution_count": 47,
      "metadata": {
        "colab": {
          "base_uri": "https://localhost:8080/"
        },
        "id": "GlfXemrUOGNG",
        "outputId": "9440ad2e-71fa-42d6-e8ec-8027f5970541"
      },
      "outputs": [
        {
          "output_type": "stream",
          "name": "stdout",
          "text": [
            "Model: \"sequential_1\"\n",
            "_________________________________________________________________\n",
            " Layer (type)                Output Shape              Param #   \n",
            "=================================================================\n",
            " embedding_1 (Embedding)     (None, 11, 32)            320000    \n",
            "                                                                 \n",
            " lstm (LSTM)                 (None, 16)                3136      \n",
            "                                                                 \n",
            " dense_2 (Dense)             (None, 15)                255       \n",
            "                                                                 \n",
            "=================================================================\n",
            "Total params: 323391 (1.23 MB)\n",
            "Trainable params: 323391 (1.23 MB)\n",
            "Non-trainable params: 0 (0.00 Byte)\n",
            "_________________________________________________________________\n"
          ]
        }
      ],
      "source": [
        "model_lstm.summary()"
      ]
    },
    {
      "cell_type": "markdown",
      "metadata": {
        "id": "1sRGFUrFOLF8"
      },
      "source": [
        "Создаем callback для сохранения нейронной сети на каждой эпохе, если качество работы на проверочном наборе данных улучшилось. Сеть сохраняется в файл best_model.h5"
      ]
    },
    {
      "cell_type": "code",
      "execution_count": 48,
      "metadata": {
        "id": "ubBoa_vOONLM"
      },
      "outputs": [],
      "source": [
        "model_lstm_save_path = 'best_model_lstm.h5'\n",
        "checkpoint_callback_lstm = ModelCheckpoint(model_lstm_save_path, \n",
        "                                      #monitor='val_accuracy',\n",
        "                                      save_best_only=True,\n",
        "                                      verbose=1)"
      ]
    },
    {
      "cell_type": "code",
      "execution_count": 49,
      "metadata": {
        "colab": {
          "base_uri": "https://localhost:8080/"
        },
        "id": "CXbhDJSYOSzI",
        "outputId": "5a56b519-a3bc-4557-ad78-2a8396ca6af3"
      },
      "outputs": [
        {
          "output_type": "stream",
          "name": "stdout",
          "text": [
            "Epoch 1/10\n",
            "51/52 [============================>.] - ETA: 0s - loss: 2.4061 - accuracy: 0.5941 - precision_1: 0.0000e+00 - recall_1: 0.0000e+00 - f1_score_macro: 0.0557 - f1_score_micro: 0.5941 - f1_score_weighted: 0.4946\n",
            "Epoch 1: val_loss improved from inf to 1.64530, saving model to best_model_lstm.h5\n",
            "52/52 [==============================] - 8s 95ms/step - loss: 2.3954 - accuracy: 0.5945 - precision_1: 0.0000e+00 - recall_1: 0.0000e+00 - f1_score_macro: 0.0557 - f1_score_micro: 0.5945 - f1_score_weighted: 0.4942 - val_loss: 1.6453 - val_accuracy: 0.6477 - val_precision_1: 0.0000e+00 - val_recall_1: 0.0000e+00 - val_f1_score_macro: 0.0524 - val_f1_score_micro: 0.6477 - val_f1_score_weighted: 0.5092\n",
            "Epoch 2/10\n",
            " 5/52 [=>............................] - ETA: 1s - loss: 1.6029 - accuracy: 0.6406 - precision_1: 0.0000e+00 - recall_1: 0.0000e+00 - f1_score_macro: 0.0521 - f1_score_micro: 0.6406 - f1_score_weighted: 0.5003"
          ]
        },
        {
          "output_type": "stream",
          "name": "stderr",
          "text": [
            "/usr/local/lib/python3.10/dist-packages/keras/src/engine/training.py:3052: UserWarning: You are saving your model as an HDF5 file via `model.save()`. This file format is considered legacy. We recommend using instead the native Keras format, e.g. `model.save('my_model.keras')`.\n",
            "  saving_api.save_model(\n"
          ]
        },
        {
          "output_type": "stream",
          "name": "stdout",
          "text": [
            "52/52 [==============================] - ETA: 0s - loss: 1.4115 - accuracy: 0.6424 - precision_1: 0.6521 - recall_1: 0.5303 - f1_score_macro: 0.0521 - f1_score_micro: 0.6424 - f1_score_weighted: 0.5025\n",
            "Epoch 2: val_loss improved from 1.64530 to 1.34201, saving model to best_model_lstm.h5\n",
            "52/52 [==============================] - 4s 71ms/step - loss: 1.4115 - accuracy: 0.6424 - precision_1: 0.6521 - recall_1: 0.5303 - f1_score_macro: 0.0521 - f1_score_micro: 0.6424 - f1_score_weighted: 0.5025 - val_loss: 1.3420 - val_accuracy: 0.6477 - val_precision_1: 0.6477 - val_recall_1: 0.6477 - val_f1_score_macro: 0.0524 - val_f1_score_micro: 0.6477 - val_f1_score_weighted: 0.5092\n",
            "Epoch 3/10\n",
            "52/52 [==============================] - ETA: 0s - loss: 1.2796 - accuracy: 0.6424 - precision_1: 0.6518 - recall_1: 0.6424 - f1_score_macro: 0.0521 - f1_score_micro: 0.6424 - f1_score_weighted: 0.5025\n",
            "Epoch 3: val_loss improved from 1.34201 to 1.24440, saving model to best_model_lstm.h5\n",
            "52/52 [==============================] - 2s 41ms/step - loss: 1.2796 - accuracy: 0.6424 - precision_1: 0.6518 - recall_1: 0.6424 - f1_score_macro: 0.0521 - f1_score_micro: 0.6424 - f1_score_weighted: 0.5025 - val_loss: 1.2444 - val_accuracy: 0.6477 - val_precision_1: 0.6761 - val_recall_1: 0.6477 - val_f1_score_macro: 0.0524 - val_f1_score_micro: 0.6477 - val_f1_score_weighted: 0.5092\n",
            "Epoch 4/10\n",
            "52/52 [==============================] - ETA: 0s - loss: 1.1636 - accuracy: 0.6424 - precision_1: 0.7937 - recall_1: 0.6424 - f1_score_macro: 0.0521 - f1_score_micro: 0.6424 - f1_score_weighted: 0.5025\n",
            "Epoch 4: val_loss improved from 1.24440 to 1.13075, saving model to best_model_lstm.h5\n",
            "52/52 [==============================] - 1s 28ms/step - loss: 1.1636 - accuracy: 0.6424 - precision_1: 0.7937 - recall_1: 0.6424 - f1_score_macro: 0.0521 - f1_score_micro: 0.6424 - f1_score_weighted: 0.5025 - val_loss: 1.1307 - val_accuracy: 0.6477 - val_precision_1: 0.8213 - val_recall_1: 0.6477 - val_f1_score_macro: 0.0524 - val_f1_score_micro: 0.6477 - val_f1_score_weighted: 0.5092\n",
            "Epoch 5/10\n",
            "52/52 [==============================] - ETA: 0s - loss: 1.0342 - accuracy: 0.6588 - precision_1: 0.8674 - recall_1: 0.6424 - f1_score_macro: 0.0695 - f1_score_micro: 0.6588 - f1_score_weighted: 0.5363\n",
            "Epoch 5: val_loss improved from 1.13075 to 1.04425, saving model to best_model_lstm.h5\n",
            "52/52 [==============================] - 1s 16ms/step - loss: 1.0342 - accuracy: 0.6588 - precision_1: 0.8674 - recall_1: 0.6424 - f1_score_macro: 0.0695 - f1_score_micro: 0.6588 - f1_score_weighted: 0.5363 - val_loss: 1.0442 - val_accuracy: 0.6924 - val_precision_1: 0.8490 - val_recall_1: 0.6477 - val_f1_score_macro: 0.0943 - val_f1_score_micro: 0.6924 - val_f1_score_weighted: 0.5854\n",
            "Epoch 6/10\n",
            "52/52 [==============================] - ETA: 0s - loss: 0.9110 - accuracy: 0.7136 - precision_1: 0.9296 - recall_1: 0.6422 - f1_score_macro: 0.1078 - f1_score_micro: 0.7136 - f1_score_weighted: 0.6175\n",
            "Epoch 6: val_loss improved from 1.04425 to 0.97037, saving model to best_model_lstm.h5\n",
            "52/52 [==============================] - 1s 20ms/step - loss: 0.9110 - accuracy: 0.7136 - precision_1: 0.9296 - recall_1: 0.6422 - f1_score_macro: 0.1078 - f1_score_micro: 0.7136 - f1_score_weighted: 0.6175 - val_loss: 0.9704 - val_accuracy: 0.7304 - val_precision_1: 0.8533 - val_recall_1: 0.6382 - val_f1_score_macro: 0.1306 - val_f1_score_micro: 0.7304 - val_f1_score_weighted: 0.6452\n",
            "Epoch 7/10\n",
            "46/52 [=========================>....] - ETA: 0s - loss: 0.7951 - accuracy: 0.7738 - precision_1: 0.9635 - recall_1: 0.6498 - f1_score_macro: 0.1839 - f1_score_micro: 0.7738 - f1_score_weighted: 0.7190\n",
            "Epoch 7: val_loss improved from 0.97037 to 0.91095, saving model to best_model_lstm.h5\n",
            "52/52 [==============================] - 0s 8ms/step - loss: 0.7891 - accuracy: 0.7760 - precision_1: 0.9630 - recall_1: 0.6540 - f1_score_macro: 0.1859 - f1_score_micro: 0.7760 - f1_score_weighted: 0.7224 - val_loss: 0.9110 - val_accuracy: 0.7696 - val_precision_1: 0.8719 - val_recall_1: 0.6734 - val_f1_score_macro: 0.1761 - val_f1_score_micro: 0.7696 - val_f1_score_weighted: 0.7109\n",
            "Epoch 8/10\n",
            "48/52 [==========================>...] - ETA: 0s - loss: 0.6838 - accuracy: 0.8415 - precision_1: 0.9784 - recall_1: 0.7013 - f1_score_macro: 0.2443 - f1_score_micro: 0.8415 - f1_score_weighted: 0.8065\n",
            "Epoch 8: val_loss improved from 0.91095 to 0.87615, saving model to best_model_lstm.h5\n",
            "52/52 [==============================] - 1s 20ms/step - loss: 0.6808 - accuracy: 0.8418 - precision_1: 0.9776 - recall_1: 0.7035 - f1_score_macro: 0.2430 - f1_score_micro: 0.8418 - f1_score_weighted: 0.8070 - val_loss: 0.8762 - val_accuracy: 0.7751 - val_precision_1: 0.8649 - val_recall_1: 0.6938 - val_f1_score_macro: 0.1827 - val_f1_score_micro: 0.7751 - val_f1_score_weighted: 0.7239\n",
            "Epoch 9/10\n",
            "52/52 [==============================] - ETA: 0s - loss: 0.5896 - accuracy: 0.8716 - precision_1: 0.9830 - recall_1: 0.7216 - f1_score_macro: 0.2698 - f1_score_micro: 0.8716 - f1_score_weighted: 0.8434\n",
            "Epoch 9: val_loss improved from 0.87615 to 0.83175, saving model to best_model_lstm.h5\n",
            "52/52 [==============================] - 1s 13ms/step - loss: 0.5896 - accuracy: 0.8716 - precision_1: 0.9830 - recall_1: 0.7216 - f1_score_macro: 0.2698 - f1_score_micro: 0.8716 - f1_score_weighted: 0.8434 - val_loss: 0.8317 - val_accuracy: 0.8035 - val_precision_1: 0.8741 - val_recall_1: 0.6965 - val_f1_score_macro: 0.2193 - val_f1_score_micro: 0.8035 - val_f1_score_weighted: 0.7635\n",
            "Epoch 10/10\n",
            "46/52 [=========================>....] - ETA: 0s - loss: 0.5097 - accuracy: 0.8920 - precision_1: 0.9862 - recall_1: 0.7746 - f1_score_macro: 0.3002 - f1_score_micro: 0.8920 - f1_score_weighted: 0.8659\n",
            "Epoch 10: val_loss improved from 0.83175 to 0.80553, saving model to best_model_lstm.h5\n",
            "52/52 [==============================] - 1s 11ms/step - loss: 0.5096 - accuracy: 0.8915 - precision_1: 0.9859 - recall_1: 0.7772 - f1_score_macro: 0.2965 - f1_score_micro: 0.8915 - f1_score_weighted: 0.8654 - val_loss: 0.8055 - val_accuracy: 0.8076 - val_precision_1: 0.8928 - val_recall_1: 0.7222 - val_f1_score_macro: 0.2330 - val_f1_score_micro: 0.8076 - val_f1_score_weighted: 0.7724\n"
          ]
        }
      ],
      "source": [
        "history_lstm = model_lstm.fit(x_train, \n",
        "                              y_train, \n",
        "                              epochs=10,\n",
        "                              batch_size=128,\n",
        "                              validation_split=0.1,\n",
        "                              callbacks=[checkpoint_callback_lstm])"
      ]
    },
    {
      "cell_type": "code",
      "source": [
        "plt.plot(history_lstm.history['f1_score_weighted'], \n",
        "         label='f1_score_weighted на обучающем наборе')\n",
        "plt.plot(history_lstm.history['val_f1_score_weighted'], \n",
        "         label='f1_score_weighted на проверочном наборе')\n",
        "plt.xlabel('Эпоха обучения')\n",
        "plt.ylabel('f1_score_weighted')\n",
        "plt.legend()\n",
        "plt.show()"
      ],
      "metadata": {
        "colab": {
          "base_uri": "https://localhost:8080/",
          "height": 449
        },
        "id": "nDhCZEIbjmlK",
        "outputId": "c2c0f0a4-baba-4bff-b6a3-8b2fe7a95e1b"
      },
      "execution_count": 50,
      "outputs": [
        {
          "output_type": "display_data",
          "data": {
            "text/plain": [
              "<Figure size 640x480 with 1 Axes>"
            ],
            "image/png": "[encoded data removed]"
          },
          "metadata": {}
        }
      ]
    },
    {
      "cell_type": "code",
      "execution_count": 51,
      "metadata": {
        "colab": {
          "base_uri": "https://localhost:8080/",
          "height": 449
        },
        "id": "x_qE1BLrOezV",
        "outputId": "2c7418fc-edb0-44bf-f960-c72ab80449a6"
      },
      "outputs": [
        {
          "output_type": "display_data",
          "data": {
            "text/plain": [
              "<Figure size 640x480 with 1 Axes>"
            ],
            "image/png": "[encoded data removed]"
          },
          "metadata": {}
        }
      ],
      "source": [
        "plt.plot(history_lstm.history['accuracy'], \n",
        "         label='Доля верных ответов на обучающем наборе')\n",
        "plt.plot(history_lstm.history['val_accuracy'], \n",
        "         label='Доля верных ответов на проверочном наборе')\n",
        "plt.xlabel('Эпоха обучения')\n",
        "plt.ylabel('Доля верных ответов')\n",
        "plt.legend()\n",
        "plt.show()"
      ]
    },
    {
      "cell_type": "code",
      "source": [
        "lstm_loaded = load_model(\"best_model_lstm.h5\")"
      ],
      "metadata": {
        "id": "toxjTPSuj37W"
      },
      "execution_count": 52,
      "outputs": []
    },
    {
      "cell_type": "code",
      "source": [
        "lstm_loaded.evaluate(x_test, y_test, verbose=1)"
      ],
      "metadata": {
        "colab": {
          "base_uri": "https://localhost:8080/"
        },
        "id": "ekDsetd4j8aI",
        "outputId": "ccc2f64e-46c3-4396-e297-697f5b6e7b2f"
      },
      "execution_count": 53,
      "outputs": [
        {
          "output_type": "stream",
          "name": "stdout",
          "text": [
            "58/58 [==============================] - 1s 4ms/step - loss: 0.7558 - accuracy: 0.8162 - precision_1: 0.8848 - recall_1: 0.7413 - f1_score_macro: 0.2344 - f1_score_micro: 0.8162 - f1_score_weighted: 0.7839\n"
          ]
        },
        {
          "output_type": "execute_result",
          "data": {
            "text/plain": [
              "[0.7558183073997498,\n",
              " 0.8161605000495911,\n",
              " 0.8847896456718445,\n",
              " 0.7413232326507568,\n",
              " 0.23442476987838745,\n",
              " 0.8161605000495911,\n",
              " 0.7838771939277649]"
            ]
          },
          "metadata": {},
          "execution_count": 53
        }
      ]
    },
    {
      "cell_type": "code",
      "source": [
        "predicted_lstm = lstm_loaded.predict(x_test)"
      ],
      "metadata": {
        "colab": {
          "base_uri": "https://localhost:8080/"
        },
        "id": "mhp7eU6bkBHD",
        "outputId": "a5c36069-fb51-461f-c97b-f7324a1b8b82"
      },
      "execution_count": 54,
      "outputs": [
        {
          "output_type": "stream",
          "name": "stdout",
          "text": [
            "58/58 [==============================] - 1s 3ms/step\n"
          ]
        }
      ]
    },
    {
      "cell_type": "code",
      "source": [
        "report_lstm = sklearn_metrics.classification_report(np.argmax(y_test, axis=1), np.argmax(predicted_lstm, axis=1))\n",
        "print(report_lstm)"
      ],
      "metadata": {
        "colab": {
          "base_uri": "https://localhost:8080/"
        },
        "id": "YXENNFNXkFaA",
        "outputId": "e0c73590-5190-4e8a-ba9f-962c4fdc2279"
      },
      "execution_count": 55,
      "outputs": [
        {
          "output_type": "stream",
          "name": "stdout",
          "text": [
            "              precision    recall  f1-score   support\n",
            "\n",
            "           0       0.84      0.98      0.90      1212\n",
            "           1       0.85      0.69      0.76       200\n",
            "           2       0.66      0.52      0.58       140\n",
            "           3       0.86      0.67      0.75       106\n",
            "           4       0.48      0.56      0.52        70\n",
            "           5       0.00      0.00      0.00        21\n",
            "           6       0.00      0.00      0.00        23\n",
            "           7       0.00      0.00      0.00        20\n",
            "           8       0.00      0.00      0.00        13\n",
            "           9       0.00      0.00      0.00        18\n",
            "          10       0.00      0.00      0.00         5\n",
            "          11       0.00      0.00      0.00         4\n",
            "          12       0.00      0.00      0.00         5\n",
            "          13       0.00      0.00      0.00         4\n",
            "          14       0.00      0.00      0.00         3\n",
            "\n",
            "    accuracy                           0.82      1844\n",
            "   macro avg       0.25      0.23      0.23      1844\n",
            "weighted avg       0.76      0.82      0.78      1844\n",
            "\n"
          ]
        },
        {
          "output_type": "stream",
          "name": "stderr",
          "text": [
            "/usr/local/lib/python3.10/dist-packages/sklearn/metrics/_classification.py:1344: UndefinedMetricWarning: Precision and F-score are ill-defined and being set to 0.0 in labels with no predicted samples. Use `zero_division` parameter to control this behavior.\n",
            "  _warn_prf(average, modifier, msg_start, len(result))\n",
            "/usr/local/lib/python3.10/dist-packages/sklearn/metrics/_classification.py:1344: UndefinedMetricWarning: Precision and F-score are ill-defined and being set to 0.0 in labels with no predicted samples. Use `zero_division` parameter to control this behavior.\n",
            "  _warn_prf(average, modifier, msg_start, len(result))\n",
            "/usr/local/lib/python3.10/dist-packages/sklearn/metrics/_classification.py:1344: UndefinedMetricWarning: Precision and F-score are ill-defined and being set to 0.0 in labels with no predicted samples. Use `zero_division` parameter to control this behavior.\n",
            "  _warn_prf(average, modifier, msg_start, len(result))\n"
          ]
        }
      ]
    },
    {
      "cell_type": "code",
      "source": [
        "with open(\"LSTM_10.txt\", 'w') as w_file:\n",
        "  w_file.write(report_lstm)"
      ],
      "metadata": {
        "id": "QB_Iy7pokM1f"
      },
      "execution_count": 56,
      "outputs": []
    },
    {
      "cell_type": "markdown",
      "metadata": {
        "id": "wMM7z1rmOlK5"
      },
      "source": [
        "## Cеть GRU"
      ]
    },
    {
      "cell_type": "code",
      "execution_count": 57,
      "metadata": {
        "id": "pE9E8UyYOlem"
      },
      "outputs": [],
      "source": [
        "model_gru = Sequential()\n",
        "model_gru.add(Embedding(num_words, 32, input_length=max_len))\n",
        "model_gru.add(GRU(16))\n",
        "model_gru.add(Dense(15, activation='softmax'))"
      ]
    },
    {
      "cell_type": "code",
      "execution_count": 58,
      "metadata": {
        "id": "buMIQfM4OrTb"
      },
      "outputs": [],
      "source": [
        "model_gru.compile(optimizer='adam', \n",
        "              loss='categorical_crossentropy', \n",
        "              metrics=['accuracy', metrics.Precision(), metrics.Recall(), metrics.F1Score(average='macro', name='f1_score_macro'), metrics.F1Score(average='micro', name='f1_score_micro'), metrics.F1Score(average='weighted', name='f1_score_weighted')]\n",
        "              )"
      ]
    },
    {
      "cell_type": "code",
      "execution_count": 59,
      "metadata": {
        "colab": {
          "base_uri": "https://localhost:8080/"
        },
        "id": "LqSdlsC8OvIg",
        "outputId": "3c2bf827-1c8c-4462-d9e8-cc9d7f289129"
      },
      "outputs": [
        {
          "output_type": "stream",
          "name": "stdout",
          "text": [
            "Model: \"sequential_2\"\n",
            "_________________________________________________________________\n",
            " Layer (type)                Output Shape              Param #   \n",
            "=================================================================\n",
            " embedding_2 (Embedding)     (None, 11, 32)            320000    \n",
            "                                                                 \n",
            " gru (GRU)                   (None, 16)                2400      \n",
            "                                                                 \n",
            " dense_3 (Dense)             (None, 15)                255       \n",
            "                                                                 \n",
            "=================================================================\n",
            "Total params: 322655 (1.23 MB)\n",
            "Trainable params: 322655 (1.23 MB)\n",
            "Non-trainable params: 0 (0.00 Byte)\n",
            "_________________________________________________________________\n"
          ]
        }
      ],
      "source": [
        "model_gru.summary()"
      ]
    },
    {
      "cell_type": "markdown",
      "metadata": {
        "id": "JdQgWv5EOyKd"
      },
      "source": [
        "Создаем callback для сохранения нейронной сети на каждой эпохе, если качество работы на проверочном наборе данных улучшилось. Сеть сохраняется в файл best_model_gru.h5"
      ]
    },
    {
      "cell_type": "code",
      "execution_count": 60,
      "metadata": {
        "id": "bBlewcgGOzic"
      },
      "outputs": [],
      "source": [
        "model_gru_save_path = 'best_model_gru.h5'\n",
        "checkpoint_callback_gru = ModelCheckpoint(model_gru_save_path, \n",
        "                                      #monitor='val_accuracy',\n",
        "                                      save_best_only=True,\n",
        "                                      verbose=1)"
      ]
    },
    {
      "cell_type": "code",
      "execution_count": 61,
      "metadata": {
        "colab": {
          "base_uri": "https://localhost:8080/"
        },
        "id": "EvbNlBIgO60P",
        "outputId": "cdf69fc3-2a82-4540-c892-e581a12b5b0a"
      },
      "outputs": [
        {
          "output_type": "stream",
          "name": "stdout",
          "text": [
            "Epoch 1/10\n",
            "52/52 [==============================] - ETA: 0s - loss: 2.3749 - accuracy: 0.5991 - precision_2: 0.0000e+00 - recall_2: 0.0000e+00 - f1_score_macro: 0.0586 - f1_score_micro: 0.5991 - f1_score_weighted: 0.4948\n",
            "Epoch 1: val_loss improved from inf to 1.59367, saving model to best_model_gru.h5\n",
            "52/52 [==============================] - 7s 84ms/step - loss: 2.3749 - accuracy: 0.5991 - precision_2: 0.0000e+00 - recall_2: 0.0000e+00 - f1_score_macro: 0.0586 - f1_score_micro: 0.5991 - f1_score_weighted: 0.4948 - val_loss: 1.5937 - val_accuracy: 0.6477 - val_precision_2: 0.0000e+00 - val_recall_2: 0.0000e+00 - val_f1_score_macro: 0.0524 - val_f1_score_micro: 0.6477 - val_f1_score_weighted: 0.5092\n",
            "Epoch 2/10\n",
            " 2/52 [>.............................] - ETA: 7s - loss: 1.6585 - accuracy: 0.6211 - precision_2: 0.3333 - recall_2: 0.0039 - f1_score_macro: 0.0511 - f1_score_micro: 0.6211 - f1_score_weighted: 0.4759        "
          ]
        },
        {
          "output_type": "stream",
          "name": "stderr",
          "text": [
            "/usr/local/lib/python3.10/dist-packages/keras/src/engine/training.py:3052: UserWarning: You are saving your model as an HDF5 file via `model.save()`. This file format is considered legacy. We recommend using instead the native Keras format, e.g. `model.save('my_model.keras')`.\n",
            "  saving_api.save_model(\n"
          ]
        },
        {
          "output_type": "stream",
          "name": "stdout",
          "text": [
            "52/52 [==============================] - ETA: 0s - loss: 1.3364 - accuracy: 0.6424 - precision_2: 0.7277 - recall_2: 0.5770 - f1_score_macro: 0.0521 - f1_score_micro: 0.6424 - f1_score_weighted: 0.5025\n",
            "Epoch 2: val_loss improved from 1.59367 to 1.19229, saving model to best_model_gru.h5\n",
            "52/52 [==============================] - 2s 47ms/step - loss: 1.3364 - accuracy: 0.6424 - precision_2: 0.7277 - recall_2: 0.5770 - f1_score_macro: 0.0521 - f1_score_micro: 0.6424 - f1_score_weighted: 0.5025 - val_loss: 1.1923 - val_accuracy: 0.6477 - val_precision_2: 0.7836 - val_recall_2: 0.6477 - val_f1_score_macro: 0.0524 - val_f1_score_micro: 0.6477 - val_f1_score_weighted: 0.5092\n",
            "Epoch 3/10\n",
            "52/52 [==============================] - ETA: 0s - loss: 1.0614 - accuracy: 0.6957 - precision_2: 0.8526 - recall_2: 0.6422 - f1_score_macro: 0.0967 - f1_score_micro: 0.6957 - f1_score_weighted: 0.5949\n",
            "Epoch 3: val_loss improved from 1.19229 to 1.03240, saving model to best_model_gru.h5\n",
            "52/52 [==============================] - 2s 47ms/step - loss: 1.0614 - accuracy: 0.6957 - precision_2: 0.8526 - recall_2: 0.6422 - f1_score_macro: 0.0967 - f1_score_micro: 0.6957 - f1_score_weighted: 0.5949 - val_loss: 1.0324 - val_accuracy: 0.7222 - val_precision_2: 0.8445 - val_recall_2: 0.6477 - val_f1_score_macro: 0.1110 - val_f1_score_micro: 0.7222 - val_f1_score_weighted: 0.6293\n",
            "Epoch 4/10\n",
            "52/52 [==============================] - ETA: 0s - loss: 0.8796 - accuracy: 0.7499 - precision_2: 0.9144 - recall_2: 0.6422 - f1_score_macro: 0.1358 - f1_score_micro: 0.7499 - f1_score_weighted: 0.6777\n",
            "Epoch 4: val_loss improved from 1.03240 to 0.93584, saving model to best_model_gru.h5\n",
            "52/52 [==============================] - 2s 40ms/step - loss: 0.8796 - accuracy: 0.7499 - precision_2: 0.9144 - recall_2: 0.6422 - f1_score_macro: 0.1358 - f1_score_micro: 0.7499 - f1_score_weighted: 0.6777 - val_loss: 0.9358 - val_accuracy: 0.7615 - val_precision_2: 0.8526 - val_recall_2: 0.6504 - val_f1_score_macro: 0.1472 - val_f1_score_micro: 0.7615 - val_f1_score_weighted: 0.6879\n",
            "Epoch 5/10\n",
            "51/52 [============================>.] - ETA: 0s - loss: 0.7292 - accuracy: 0.7906 - precision_2: 0.9581 - recall_2: 0.6942 - f1_score_macro: 0.1877 - f1_score_micro: 0.7906 - f1_score_weighted: 0.7382\n",
            "Epoch 5: val_loss improved from 0.93584 to 0.84985, saving model to best_model_gru.h5\n",
            "52/52 [==============================] - 1s 17ms/step - loss: 0.7282 - accuracy: 0.7908 - precision_2: 0.9587 - recall_2: 0.6952 - f1_score_macro: 0.1875 - f1_score_micro: 0.7908 - f1_score_weighted: 0.7383 - val_loss: 0.8498 - val_accuracy: 0.7846 - val_precision_2: 0.8756 - val_recall_2: 0.7249 - val_f1_score_macro: 0.1882 - val_f1_score_micro: 0.7846 - val_f1_score_weighted: 0.7246\n",
            "Epoch 6/10\n",
            "52/52 [==============================] - ETA: 0s - loss: 0.5913 - accuracy: 0.8519 - precision_2: 0.9709 - recall_2: 0.7546 - f1_score_macro: 0.2953 - f1_score_micro: 0.8519 - f1_score_weighted: 0.8191\n",
            "Epoch 6: val_loss improved from 0.84985 to 0.78568, saving model to best_model_gru.h5\n",
            "52/52 [==============================] - 1s 22ms/step - loss: 0.5913 - accuracy: 0.8519 - precision_2: 0.9709 - recall_2: 0.7546 - f1_score_macro: 0.2953 - f1_score_micro: 0.8519 - f1_score_weighted: 0.8191 - val_loss: 0.7857 - val_accuracy: 0.8103 - val_precision_2: 0.8746 - val_recall_2: 0.7561 - val_f1_score_macro: 0.2844 - val_f1_score_micro: 0.8103 - val_f1_score_weighted: 0.7709\n",
            "Epoch 7/10\n",
            "52/52 [==============================] - ETA: 0s - loss: 0.4797 - accuracy: 0.8872 - precision_2: 0.9774 - recall_2: 0.7810 - f1_score_macro: 0.3710 - f1_score_micro: 0.8872 - f1_score_weighted: 0.8641\n",
            "Epoch 7: val_loss improved from 0.78568 to 0.74814, saving model to best_model_gru.h5\n",
            "52/52 [==============================] - 1s 18ms/step - loss: 0.4797 - accuracy: 0.8872 - precision_2: 0.9774 - recall_2: 0.7810 - f1_score_macro: 0.3710 - f1_score_micro: 0.8872 - f1_score_weighted: 0.8641 - val_loss: 0.7481 - val_accuracy: 0.8238 - val_precision_2: 0.8799 - val_recall_2: 0.7642 - val_f1_score_macro: 0.3032 - val_f1_score_micro: 0.8238 - val_f1_score_weighted: 0.7876\n",
            "Epoch 8/10\n",
            "52/52 [==============================] - ETA: 0s - loss: 0.3925 - accuracy: 0.9147 - precision_2: 0.9824 - recall_2: 0.8173 - f1_score_macro: 0.4790 - f1_score_micro: 0.9147 - f1_score_weighted: 0.9005\n",
            "Epoch 8: val_loss improved from 0.74814 to 0.71721, saving model to best_model_gru.h5\n",
            "52/52 [==============================] - 1s 15ms/step - loss: 0.3925 - accuracy: 0.9147 - precision_2: 0.9824 - recall_2: 0.8173 - f1_score_macro: 0.4790 - f1_score_micro: 0.9147 - f1_score_weighted: 0.9005 - val_loss: 0.7172 - val_accuracy: 0.8306 - val_precision_2: 0.8790 - val_recall_2: 0.7873 - val_f1_score_macro: 0.3193 - val_f1_score_micro: 0.8306 - val_f1_score_weighted: 0.7975\n",
            "Epoch 9/10\n",
            "52/52 [==============================] - ETA: 0s - loss: 0.3232 - accuracy: 0.9390 - precision_2: 0.9855 - recall_2: 0.8519 - f1_score_macro: 0.5755 - f1_score_micro: 0.9390 - f1_score_weighted: 0.9302\n",
            "Epoch 9: val_loss improved from 0.71721 to 0.70384, saving model to best_model_gru.h5\n",
            "52/52 [==============================] - 1s 11ms/step - loss: 0.3232 - accuracy: 0.9390 - precision_2: 0.9855 - recall_2: 0.8519 - f1_score_macro: 0.5755 - f1_score_micro: 0.9390 - f1_score_weighted: 0.9302 - val_loss: 0.7038 - val_accuracy: 0.8360 - val_precision_2: 0.8744 - val_recall_2: 0.7927 - val_f1_score_macro: 0.3561 - val_f1_score_micro: 0.8360 - val_f1_score_weighted: 0.8074\n",
            "Epoch 10/10\n",
            "52/52 [==============================] - ETA: 0s - loss: 0.2695 - accuracy: 0.9497 - precision_2: 0.9857 - recall_2: 0.8852 - f1_score_macro: 0.6158 - f1_score_micro: 0.9497 - f1_score_weighted: 0.9425\n",
            "Epoch 10: val_loss improved from 0.70384 to 0.68172, saving model to best_model_gru.h5\n",
            "52/52 [==============================] - 1s 15ms/step - loss: 0.2695 - accuracy: 0.9497 - precision_2: 0.9857 - recall_2: 0.8852 - f1_score_macro: 0.6158 - f1_score_micro: 0.9497 - f1_score_weighted: 0.9425 - val_loss: 0.6817 - val_accuracy: 0.8360 - val_precision_2: 0.8837 - val_recall_2: 0.7927 - val_f1_score_macro: 0.4499 - val_f1_score_micro: 0.8360 - val_f1_score_weighted: 0.8180\n"
          ]
        }
      ],
      "source": [
        "history_gru = model_gru.fit(x_train, \n",
        "                              y_train, \n",
        "                              epochs=10,\n",
        "                              batch_size=128,\n",
        "                              validation_split=0.1,\n",
        "                              callbacks=[checkpoint_callback_gru])"
      ]
    },
    {
      "cell_type": "code",
      "source": [
        "plt.plot(history_gru.history['f1_score_weighted'], \n",
        "         label='f1_score_weighted на обучающем наборе')\n",
        "plt.plot(history_gru.history['val_f1_score_weighted'], \n",
        "         label='f1_score_weighted на проверочном наборе')\n",
        "plt.xlabel('Эпоха обучения')\n",
        "plt.ylabel('f1_score_weighted')\n",
        "plt.legend()\n",
        "plt.show()"
      ],
      "metadata": {
        "colab": {
          "base_uri": "https://localhost:8080/",
          "height": 449
        },
        "id": "isEvjZNLleqE",
        "outputId": "50bcd30f-fbcd-4033-a633-e642f682bdd4"
      },
      "execution_count": 62,
      "outputs": [
        {
          "output_type": "display_data",
          "data": {
            "text/plain": [
              "<Figure size 640x480 with 1 Axes>"
            ],
            "image/png": "[encoded data removed]"
          },
          "metadata": {}
        }
      ]
    },
    {
      "cell_type": "code",
      "execution_count": 63,
      "metadata": {
        "colab": {
          "base_uri": "https://localhost:8080/",
          "height": 449
        },
        "id": "Qtufc5zTPFWc",
        "outputId": "bef8bfc4-d72d-41fe-a738-c6f67206e717"
      },
      "outputs": [
        {
          "output_type": "display_data",
          "data": {
            "text/plain": [
              "<Figure size 640x480 with 1 Axes>"
            ],
            "image/png": "[encoded data removed]"
          },
          "metadata": {}
        }
      ],
      "source": [
        "plt.plot(history_gru.history['accuracy'], \n",
        "         label='Доля верных ответов на обучающем наборе')\n",
        "plt.plot(history_gru.history['val_accuracy'], \n",
        "         label='Доля верных ответов на проверочном наборе')\n",
        "plt.xlabel('Эпоха обучения')\n",
        "plt.ylabel('Доля верных ответов')\n",
        "plt.legend()\n",
        "plt.show()"
      ]
    },
    {
      "cell_type": "code",
      "source": [
        "gru_loaded = load_model(\"best_model_gru.h5\")"
      ],
      "metadata": {
        "id": "rQ3e2ks1lnO-"
      },
      "execution_count": 64,
      "outputs": []
    },
    {
      "cell_type": "code",
      "source": [
        "gru_loaded.evaluate(x_test, y_test, verbose=1)"
      ],
      "metadata": {
        "colab": {
          "base_uri": "https://localhost:8080/"
        },
        "id": "jVqqYaeglo5z",
        "outputId": "8536d04f-c7ea-416a-eb43-3f1d9e206204"
      },
      "execution_count": 65,
      "outputs": [
        {
          "output_type": "stream",
          "name": "stdout",
          "text": [
            "58/58 [==============================] - 2s 6ms/step - loss: 0.6345 - accuracy: 0.8557 - precision_2: 0.8831 - recall_2: 0.8238 - f1_score_macro: 0.4315 - f1_score_micro: 0.8557 - f1_score_weighted: 0.8385\n"
          ]
        },
        {
          "output_type": "execute_result",
          "data": {
            "text/plain": [
              "[0.634497344493866,\n",
              " 0.8557483553886414,\n",
              " 0.8831395506858826,\n",
              " 0.8237527012825012,\n",
              " 0.43149539828300476,\n",
              " 0.8557483553886414,\n",
              " 0.8384604454040527]"
            ]
          },
          "metadata": {},
          "execution_count": 65
        }
      ]
    },
    {
      "cell_type": "code",
      "source": [
        "predicted_gru = gru_loaded.predict(x_test)"
      ],
      "metadata": {
        "colab": {
          "base_uri": "https://localhost:8080/"
        },
        "id": "m51ZMu94lxGy",
        "outputId": "04ec79d7-f586-4b06-8b01-78f535d4ca10"
      },
      "execution_count": 66,
      "outputs": [
        {
          "output_type": "stream",
          "name": "stdout",
          "text": [
            "58/58 [==============================] - 0s 2ms/step\n"
          ]
        }
      ]
    },
    {
      "cell_type": "code",
      "source": [
        "report_gru = sklearn_metrics.classification_report(np.argmax(y_test, axis=1), np.argmax(predicted_gru, axis=1))\n",
        "print(report_gru)"
      ],
      "metadata": {
        "colab": {
          "base_uri": "https://localhost:8080/"
        },
        "id": "axRBCuOplzAp",
        "outputId": "1ef8a546-43a7-4ab2-ccd6-2a50e6ddc32d"
      },
      "execution_count": 67,
      "outputs": [
        {
          "output_type": "stream",
          "name": "stdout",
          "text": [
            "              precision    recall  f1-score   support\n",
            "\n",
            "           0       0.85      0.99      0.91      1212\n",
            "           1       0.85      0.69      0.76       200\n",
            "           2       0.91      0.63      0.74       140\n",
            "           3       0.85      0.69      0.76       106\n",
            "           4       1.00      0.61      0.76        70\n",
            "           5       1.00      0.38      0.55        21\n",
            "           6       1.00      0.70      0.82        23\n",
            "           7       1.00      0.30      0.46        20\n",
            "           8       1.00      0.08      0.14        13\n",
            "           9       1.00      0.39      0.56        18\n",
            "          10       0.00      0.00      0.00         5\n",
            "          11       0.00      0.00      0.00         4\n",
            "          12       0.00      0.00      0.00         5\n",
            "          13       0.00      0.00      0.00         4\n",
            "          14       0.00      0.00      0.00         3\n",
            "\n",
            "    accuracy                           0.86      1844\n",
            "   macro avg       0.63      0.36      0.43      1844\n",
            "weighted avg       0.85      0.86      0.84      1844\n",
            "\n"
          ]
        },
        {
          "output_type": "stream",
          "name": "stderr",
          "text": [
            "/usr/local/lib/python3.10/dist-packages/sklearn/metrics/_classification.py:1344: UndefinedMetricWarning: Precision and F-score are ill-defined and being set to 0.0 in labels with no predicted samples. Use `zero_division` parameter to control this behavior.\n",
            "  _warn_prf(average, modifier, msg_start, len(result))\n",
            "/usr/local/lib/python3.10/dist-packages/sklearn/metrics/_classification.py:1344: UndefinedMetricWarning: Precision and F-score are ill-defined and being set to 0.0 in labels with no predicted samples. Use `zero_division` parameter to control this behavior.\n",
            "  _warn_prf(average, modifier, msg_start, len(result))\n",
            "/usr/local/lib/python3.10/dist-packages/sklearn/metrics/_classification.py:1344: UndefinedMetricWarning: Precision and F-score are ill-defined and being set to 0.0 in labels with no predicted samples. Use `zero_division` parameter to control this behavior.\n",
            "  _warn_prf(average, modifier, msg_start, len(result))\n"
          ]
        }
      ]
    },
    {
      "cell_type": "code",
      "source": [
        "with open(\"GRU_10.txt\", 'w') as w_file:\n",
        "  w_file.write(report_gru)"
      ],
      "metadata": {
        "id": "PoB9cWPgl4Xp"
      },
      "execution_count": 68,
      "outputs": []
    },
    {
      "cell_type": "markdown",
      "metadata": {
        "id": "8WU2KbiePLRO"
      },
      "source": [
        "## Загружаем набор данных для тестирования\n"
      ]
    },
    {
      "cell_type": "code",
      "execution_count": 69,
      "metadata": {
        "colab": {
          "base_uri": "https://localhost:8080/",
          "height": 424
        },
        "id": "nc9AH3Y6PL0S",
        "outputId": "b9e2db50-49da-4923-bad8-e5404c69d6d2"
      },
      "outputs": [
        {
          "output_type": "execute_result",
          "data": {
            "text/plain": [
              "     img_emoji  word_count  count_emoji     emotion           tonality  class  \\\n",
              "5432         🤣           2            1       smile  positive/negative      0   \n",
              "5093         🤣           5            1       smile  positive/negative      0   \n",
              "6314         😅           6            1       smile  positive/negative      0   \n",
              "3812         🤣           8            1       smile  positive/negative      0   \n",
              "423          😅          11            1       smile  positive/negative      0   \n",
              "...        ...         ...          ...         ...                ...    ...   \n",
              "5759         😬           7            1  no_emotion  neutral/skeptical      1   \n",
              "5802         😆          10            1       smile  positive/negative      0   \n",
              "7911         🙄           9            1  no_emotion  neutral/skeptical      1   \n",
              "1758         😂           6            1       smile  positive/negative      0   \n",
              "2506         🤣           3            1       smile  positive/negative      0   \n",
              "\n",
              "                                             clean_text  \n",
              "5432                                             раунд🤣  \n",
              "5093                                   не ждём ни разу🤣  \n",
              "6314                                       😅 нет! а вы?  \n",
              "3812               просто одмен на нее вялого дергает.🤣  \n",
              "423   в фотографиях \"спустя годы\" своя, особая, атмо...  \n",
              "...                                                 ...  \n",
              "5759                                  ну может и так))😬  \n",
              "5802                 я так и делаю. через час - сухая 😆  \n",
              "7911  судя по аватарке сложно вас назвать девочкой п...  \n",
              "1758              интересный дизайн платья, скатерть! 😂  \n",
              "2506                                   жестокий исход 🤣  \n",
              "\n",
              "[1844 rows x 7 columns]"
            ],
            "text/html": [
              "\n",
              "  <div id=\"df-3991cc7b-85a8-4ab0-8395-35960c9d4479\">\n",
              "    <div class=\"colab-df-container\">\n",
              "      <div>\n",
              "<style scoped>\n",
              "    .dataframe tbody tr th:only-of-type {\n",
              "        vertical-align: middle;\n",
              "    }\n",
              "\n",
              "    .dataframe tbody tr th {\n",
              "        vertical-align: top;\n",
              "    }\n",
              "\n",
              "    .dataframe thead th {\n",
              "        text-align: right;\n",
              "    }\n",
              "</style>\n",
              "<table border=\"1\" class=\"dataframe\">\n",
              "  <thead>\n",
              "    <tr style=\"text-align: right;\">\n",
              "      <th></th>\n",
              "      <th>img_emoji</th>\n",
              "      <th>word_count</th>\n",
              "      <th>count_emoji</th>\n",
              "      <th>emotion</th>\n",
              "      <th>tonality</th>\n",
              "      <th>class</th>\n",
              "      <th>clean_text</th>\n",
              "    </tr>\n",
              "  </thead>\n",
              "  <tbody>\n",
              "    <tr>\n",
              "      <th>5432</th>\n",
              "      <td>🤣</td>\n",
              "      <td>2</td>\n",
              "      <td>1</td>\n",
              "      <td>smile</td>\n",
              "      <td>positive/negative</td>\n",
              "      <td>0</td>\n",
              "      <td>раунд🤣</td>\n",
              "    </tr>\n",
              "    <tr>\n",
              "      <th>5093</th>\n",
              "      <td>🤣</td>\n",
              "      <td>5</td>\n",
              "      <td>1</td>\n",
              "      <td>smile</td>\n",
              "      <td>positive/negative</td>\n",
              "      <td>0</td>\n",
              "      <td>не ждём ни разу🤣</td>\n",
              "    </tr>\n",
              "    <tr>\n",
              "      <th>6314</th>\n",
              "      <td>😅</td>\n",
              "      <td>6</td>\n",
              "      <td>1</td>\n",
              "      <td>smile</td>\n",
              "      <td>positive/negative</td>\n",
              "      <td>0</td>\n",
              "      <td>😅 нет! а вы?</td>\n",
              "    </tr>\n",
              "    <tr>\n",
              "      <th>3812</th>\n",
              "      <td>🤣</td>\n",
              "      <td>8</td>\n",
              "      <td>1</td>\n",
              "      <td>smile</td>\n",
              "      <td>positive/negative</td>\n",
              "      <td>0</td>\n",
              "      <td>просто одмен на нее вялого дергает.🤣</td>\n",
              "    </tr>\n",
              "    <tr>\n",
              "      <th>423</th>\n",
              "      <td>😅</td>\n",
              "      <td>11</td>\n",
              "      <td>1</td>\n",
              "      <td>smile</td>\n",
              "      <td>positive/negative</td>\n",
              "      <td>0</td>\n",
              "      <td>в фотографиях \"спустя годы\" своя, особая, атмо...</td>\n",
              "    </tr>\n",
              "    <tr>\n",
              "      <th>...</th>\n",
              "      <td>...</td>\n",
              "      <td>...</td>\n",
              "      <td>...</td>\n",
              "      <td>...</td>\n",
              "      <td>...</td>\n",
              "      <td>...</td>\n",
              "      <td>...</td>\n",
              "    </tr>\n",
              "    <tr>\n",
              "      <th>5759</th>\n",
              "      <td>😬</td>\n",
              "      <td>7</td>\n",
              "      <td>1</td>\n",
              "      <td>no_emotion</td>\n",
              "      <td>neutral/skeptical</td>\n",
              "      <td>1</td>\n",
              "      <td>ну может и так))😬</td>\n",
              "    </tr>\n",
              "    <tr>\n",
              "      <th>5802</th>\n",
              "      <td>😆</td>\n",
              "      <td>10</td>\n",
              "      <td>1</td>\n",
              "      <td>smile</td>\n",
              "      <td>positive/negative</td>\n",
              "      <td>0</td>\n",
              "      <td>я так и делаю. через час - сухая 😆</td>\n",
              "    </tr>\n",
              "    <tr>\n",
              "      <th>7911</th>\n",
              "      <td>🙄</td>\n",
              "      <td>9</td>\n",
              "      <td>1</td>\n",
              "      <td>no_emotion</td>\n",
              "      <td>neutral/skeptical</td>\n",
              "      <td>1</td>\n",
              "      <td>судя по аватарке сложно вас назвать девочкой п...</td>\n",
              "    </tr>\n",
              "    <tr>\n",
              "      <th>1758</th>\n",
              "      <td>😂</td>\n",
              "      <td>6</td>\n",
              "      <td>1</td>\n",
              "      <td>smile</td>\n",
              "      <td>positive/negative</td>\n",
              "      <td>0</td>\n",
              "      <td>интересный дизайн платья, скатерть! 😂</td>\n",
              "    </tr>\n",
              "    <tr>\n",
              "      <th>2506</th>\n",
              "      <td>🤣</td>\n",
              "      <td>3</td>\n",
              "      <td>1</td>\n",
              "      <td>smile</td>\n",
              "      <td>positive/negative</td>\n",
              "      <td>0</td>\n",
              "      <td>жестокий исход 🤣</td>\n",
              "    </tr>\n",
              "  </tbody>\n",
              "</table>\n",
              "<p>1844 rows × 7 columns</p>\n",
              "</div>\n",
              "      <button class=\"colab-df-convert\" onclick=\"convertToInteractive('df-3991cc7b-85a8-4ab0-8395-35960c9d4479')\"\n",
              "              title=\"Convert this dataframe to an interactive table.\"\n",
              "              style=\"display:none;\">\n",
              "        \n",
              "  <svg xmlns=\"http://www.w3.org/2000/svg\" height=\"24px\"viewBox=\"0 0 24 24\"\n",
              "       width=\"24px\">\n",
              "    <path d=\"M0 0h24v24H0V0z\" fill=\"none\"/>\n",
              "    <path d=\"M18.56 5.44l.94 2.06.94-2.06 2.06-.94-2.06-.94-.94-2.06-.94 2.06-2.06.94zm-11 1L8.5 8.5l.94-2.06 2.06-.94-2.06-.94L8.5 2.5l-.94 2.06-2.06.94zm10 10l.94 2.06.94-2.06 2.06-.94-2.06-.94-.94-2.06-.94 2.06-2.06.94z\"/><path d=\"M17.41 7.96l-1.37-1.37c-.4-.4-.92-.59-1.43-.59-.52 0-1.04.2-1.43.59L10.3 9.45l-7.72 7.72c-.78.78-.78 2.05 0 2.83L4 21.41c.39.39.9.59 1.41.59.51 0 1.02-.2 1.41-.59l7.78-7.78 2.81-2.81c.8-.78.8-2.07 0-2.86zM5.41 20L4 18.59l7.72-7.72 1.47 1.35L5.41 20z\"/>\n",
              "  </svg>\n",
              "      </button>\n",
              "      \n",
              "  <style>\n",
              "    .colab-df-container {\n",
              "      display:flex;\n",
              "      flex-wrap:wrap;\n",
              "      gap: 12px;\n",
              "    }\n",
              "\n",
              "    .colab-df-convert {\n",
              "      background-color: #E8F0FE;\n",
              "      border: none;\n",
              "      border-radius: 50%;\n",
              "      cursor: pointer;\n",
              "      display: none;\n",
              "      fill: #1967D2;\n",
              "      height: 32px;\n",
              "      padding: 0 0 0 0;\n",
              "      width: 32px;\n",
              "    }\n",
              "\n",
              "    .colab-df-convert:hover {\n",
              "      background-color: #E2EBFA;\n",
              "      box-shadow: 0px 1px 2px rgba(60, 64, 67, 0.3), 0px 1px 3px 1px rgba(60, 64, 67, 0.15);\n",
              "      fill: #174EA6;\n",
              "    }\n",
              "\n",
              "    [theme=dark] .colab-df-convert {\n",
              "      background-color: #3B4455;\n",
              "      fill: #D2E3FC;\n",
              "    }\n",
              "\n",
              "    [theme=dark] .colab-df-convert:hover {\n",
              "      background-color: #434B5C;\n",
              "      box-shadow: 0px 1px 3px 1px rgba(0, 0, 0, 0.15);\n",
              "      filter: drop-shadow(0px 1px 2px rgba(0, 0, 0, 0.3));\n",
              "      fill: #FFFFFF;\n",
              "    }\n",
              "  </style>\n",
              "\n",
              "      <script>\n",
              "        const buttonEl =\n",
              "          document.querySelector('#df-3991cc7b-85a8-4ab0-8395-35960c9d4479 button.colab-df-convert');\n",
              "        buttonEl.style.display =\n",
              "          google.colab.kernel.accessAllowed ? 'block' : 'none';\n",
              "\n",
              "        async function convertToInteractive(key) {\n",
              "          const element = document.querySelector('#df-3991cc7b-85a8-4ab0-8395-35960c9d4479');\n",
              "          const dataTable =\n",
              "            await google.colab.kernel.invokeFunction('convertToInteractive',\n",
              "                                                     [key], {});\n",
              "          if (!dataTable) return;\n",
              "\n",
              "          const docLinkHtml = 'Like what you see? Visit the ' +\n",
              "            '<a target=\"_blank\" href=https://colab.research.google.com/notebooks/data_table.ipynb>data table notebook</a>'\n",
              "            + ' to learn more about interactive tables.';\n",
              "          element.innerHTML = '';\n",
              "          dataTable['output_type'] = 'display_data';\n",
              "          await google.colab.output.renderOutput(dataTable, element);\n",
              "          const docLink = document.createElement('div');\n",
              "          docLink.innerHTML = docLinkHtml;\n",
              "          element.appendChild(docLink);\n",
              "        }\n",
              "      </script>\n",
              "    </div>\n",
              "  </div>\n",
              "  "
            ]
          },
          "metadata": {},
          "execution_count": 69
        }
      ],
      "source": [
        "test"
      ]
    },
    {
      "cell_type": "markdown",
      "metadata": {
        "id": "8fYW-KKXPULV"
      },
      "source": [
        "Преобразуем посты в числовое представление\n",
        "\n",
        "Нужно использовать токенизатор, обученный на наборе данных train."
      ]
    },
    {
      "cell_type": "code",
      "execution_count": 70,
      "metadata": {
        "id": "5UlxwGZePZ5E"
      },
      "outputs": [],
      "source": [
        "test_sequences = tokenizer.texts_to_sequences(test['clean_text'])"
      ]
    },
    {
      "cell_type": "code",
      "execution_count": 71,
      "metadata": {
        "id": "2T1c5WEFPiRk"
      },
      "outputs": [],
      "source": [
        "x_test = pad_sequences(test_sequences, maxlen=max_len)"
      ]
    },
    {
      "cell_type": "code",
      "execution_count": 72,
      "metadata": {
        "colab": {
          "base_uri": "https://localhost:8080/"
        },
        "id": "y1JyHIelPkU3",
        "outputId": "64e6ef9b-2214-4f7a-a712-505d095080fe"
      },
      "outputs": [
        {
          "output_type": "execute_result",
          "data": {
            "text/plain": [
              "array([[   0,    0,    0,    0,    0,    0,    0,    0,    0,    0,    0],\n",
              "       [   0,    0,    0,    0,    0,    0,    0,    0,    1, 1368,  166],\n",
              "       [   0,    0,    0,    0,    0,    0,    0,   16,   48,    5,   27],\n",
              "       [   0,    0,    0,    0,    0,    0,    0,   38,   10,  302,    4],\n",
              "       [   0,    0,    0,    0,    0,    3, 2739, 3026, 2144, 1102,   16]],\n",
              "      dtype=int32)"
            ]
          },
          "metadata": {},
          "execution_count": 72
        }
      ],
      "source": [
        "x_test[:5]"
      ]
    },
    {
      "cell_type": "markdown",
      "metadata": {
        "id": "g-Pp5iQePo_X"
      },
      "source": [
        "Правильные ответы"
      ]
    },
    {
      "cell_type": "code",
      "execution_count": 73,
      "metadata": {
        "id": "cwAAW_sGPpSw"
      },
      "outputs": [],
      "source": [
        "y_test = utils.to_categorical(test['class'], nb_classes)"
      ]
    },
    {
      "cell_type": "code",
      "execution_count": 74,
      "metadata": {
        "colab": {
          "base_uri": "https://localhost:8080/"
        },
        "id": "Aza8ZejCPt3N",
        "outputId": "a8d40806-2a00-4d83-c6df-ac169620da3e"
      },
      "outputs": [
        {
          "output_type": "execute_result",
          "data": {
            "text/plain": [
              "array([[1., 0., 0., ..., 0., 0., 0.],\n",
              "       [1., 0., 0., ..., 0., 0., 0.],\n",
              "       [1., 0., 0., ..., 0., 0., 0.],\n",
              "       ...,\n",
              "       [0., 1., 0., ..., 0., 0., 0.],\n",
              "       [1., 0., 0., ..., 0., 0., 0.],\n",
              "       [1., 0., 0., ..., 0., 0., 0.]], dtype=float32)"
            ]
          },
          "metadata": {},
          "execution_count": 74
        }
      ],
      "source": [
        "y_test"
      ]
    },
    {
      "cell_type": "markdown",
      "metadata": {
        "id": "0s4FkOqwPw4x"
      },
      "source": [
        "## Оцениваем качество работы сети на тестовом наборе данных\n"
      ]
    },
    {
      "cell_type": "markdown",
      "metadata": {
        "id": "Oa19p3g1Pzid"
      },
      "source": [
        "### Одномерная сверточная сеть"
      ]
    },
    {
      "cell_type": "code",
      "execution_count": 75,
      "metadata": {
        "id": "Yq02xc1NPx0b"
      },
      "outputs": [],
      "source": [
        "model_cnn.load_weights(model_cnn_save_path)"
      ]
    },
    {
      "cell_type": "code",
      "execution_count": 76,
      "metadata": {
        "colab": {
          "base_uri": "https://localhost:8080/"
        },
        "id": "0emPMQVrP4SD",
        "outputId": "d4eecdd2-2875-4ed4-8a6c-faacf4378de6"
      },
      "outputs": [
        {
          "output_type": "stream",
          "name": "stdout",
          "text": [
            "58/58 [==============================] - 0s 5ms/step - loss: 0.8207 - accuracy: 0.8254 - precision: 0.8807 - recall: 0.7885 - f1_score_macro: 0.4020 - f1_score_micro: 0.8254 - f1_score_weighted: 0.8186\n"
          ]
        }
      ],
      "source": [
        "loss, accuracy, precision, recall, f1_score_macro, f1_score_micro, f1_score_weighted = model_cnn.evaluate(x_test, y_test, verbose=1)"
      ]
    },
    {
      "cell_type": "markdown",
      "metadata": {
        "id": "dOfAaLZmQAJB"
      },
      "source": [
        "### Сеть LSTM"
      ]
    },
    {
      "cell_type": "code",
      "execution_count": 77,
      "metadata": {
        "id": "5XksalfdQAeL"
      },
      "outputs": [],
      "source": [
        "model_lstm.load_weights(model_lstm_save_path)"
      ]
    },
    {
      "cell_type": "code",
      "execution_count": 78,
      "metadata": {
        "colab": {
          "base_uri": "https://localhost:8080/"
        },
        "id": "nR4ibXlzQEsY",
        "outputId": "4174e306-099e-4d4f-8f29-18033f4efaf3"
      },
      "outputs": [
        {
          "output_type": "stream",
          "name": "stdout",
          "text": [
            "58/58 [==============================] - 0s 4ms/step - loss: 0.7558 - accuracy: 0.8162 - precision_1: 0.8848 - recall_1: 0.7413 - f1_score_macro: 0.2344 - f1_score_micro: 0.8162 - f1_score_weighted: 0.7839\n"
          ]
        }
      ],
      "source": [
        "loss, accuracy, precision, recall, f1_score_macro, f1_score_micro, f1_score_weighted = model_lstm.evaluate(x_test, y_test, verbose=1)"
      ]
    },
    {
      "cell_type": "markdown",
      "metadata": {
        "id": "HzbgapQeQLqr"
      },
      "source": [
        "### Сеть GRU"
      ]
    },
    {
      "cell_type": "code",
      "execution_count": 79,
      "metadata": {
        "id": "R4yZXw9cQLK7"
      },
      "outputs": [],
      "source": [
        "model_gru.load_weights(model_gru_save_path)"
      ]
    },
    {
      "cell_type": "code",
      "execution_count": 80,
      "metadata": {
        "colab": {
          "base_uri": "https://localhost:8080/"
        },
        "id": "NeONctrTQORa",
        "outputId": "3ff49956-e30d-4bae-f4b0-2791ec5970f9"
      },
      "outputs": [
        {
          "output_type": "stream",
          "name": "stdout",
          "text": [
            "58/58 [==============================] - 0s 6ms/step - loss: 0.6345 - accuracy: 0.8557 - precision_2: 0.8831 - recall_2: 0.8238 - f1_score_macro: 0.4315 - f1_score_micro: 0.8557 - f1_score_weighted: 0.8385\n"
          ]
        }
      ],
      "source": [
        "loss, accuracy, precision, recall, f1_score_macro, f1_score_micro, f1_score_weighted = model_gru.evaluate(x_test, y_test, verbose=1)"
      ]
    },
    {
      "cell_type": "code",
      "execution_count": 83,
      "metadata": {
        "colab": {
          "base_uri": "https://localhost:8080/",
          "height": 35
        },
        "id": "zEvbEOkjQf5B",
        "outputId": "5f62c893-95a9-4c5f-9774-3c68508a92ec"
      },
      "outputs": [
        {
          "output_type": "execute_result",
          "data": {
            "text/plain": [
              "'как надоел этот чёртов опыт😔'"
            ],
            "application/vnd.google.colaboratory.intrinsic+json": {
              "type": "string"
            }
          },
          "metadata": {},
          "execution_count": 83
        }
      ],
      "source": [
        "#test['clean_text'][592]\n",
        "test['clean_text'][2384]"
      ]
    },
    {
      "cell_type": "code",
      "execution_count": 84,
      "metadata": {
        "colab": {
          "base_uri": "https://localhost:8080/"
        },
        "id": "85dlSCdSQqgE",
        "outputId": "6d9551b5-5585-44e1-8505-ba993aa4b62a"
      },
      "outputs": [
        {
          "output_type": "execute_result",
          "data": {
            "text/plain": [
              "(4, 'sadness', 'negative')"
            ]
          },
          "metadata": {},
          "execution_count": 84
        }
      ],
      "source": [
        "test['class'][2384], test['emotion'][2384], test['tonality'][2384]\n",
        "#test['class'][592], test['emotion'][592], test['tonality'][592]"
      ]
    },
    {
      "cell_type": "code",
      "execution_count": 85,
      "metadata": {
        "id": "iRFWcay1Q0p_"
      },
      "outputs": [],
      "source": [
        "text = test['clean_text'][2384]\n",
        "#text = test['clean_text'][592]"
      ]
    },
    {
      "cell_type": "code",
      "execution_count": 87,
      "metadata": {
        "id": "RVaiOLs9Q34W"
      },
      "outputs": [],
      "source": [
        "sequence = tokenizer.texts_to_sequences([text])"
      ]
    },
    {
      "cell_type": "code",
      "execution_count": 88,
      "metadata": {
        "colab": {
          "base_uri": "https://localhost:8080/"
        },
        "id": "Ye6hisERQ6Bz",
        "outputId": "90f3e511-dd34-4460-d8c5-85e645507fd2"
      },
      "outputs": [
        {
          "output_type": "execute_result",
          "data": {
            "text/plain": [
              "[[15, 82]]"
            ]
          },
          "metadata": {},
          "execution_count": 88
        }
      ],
      "source": [
        "sequence"
      ]
    },
    {
      "cell_type": "code",
      "execution_count": 89,
      "metadata": {
        "id": "FPPz1T4KQ8uY"
      },
      "outputs": [],
      "source": [
        "data = pad_sequences(sequence, maxlen=max_len)"
      ]
    },
    {
      "cell_type": "code",
      "execution_count": 90,
      "metadata": {
        "colab": {
          "base_uri": "https://localhost:8080/"
        },
        "id": "qipsluoCQ-55",
        "outputId": "da1485cf-cc51-48ce-ea9f-c8135be7ce21"
      },
      "outputs": [
        {
          "output_type": "execute_result",
          "data": {
            "text/plain": [
              "array([[ 0,  0,  0,  0,  0,  0,  0,  0,  0, 15, 82]], dtype=int32)"
            ]
          },
          "metadata": {},
          "execution_count": 90
        }
      ],
      "source": [
        "data"
      ]
    },
    {
      "cell_type": "code",
      "execution_count": 91,
      "metadata": {
        "id": "HR99Z5NiRdcs"
      },
      "outputs": [],
      "source": [
        "emoji_dict = {\"0\":\"smile positive/negative\", \"1\":\"no_emotion neutral/skeptical\", \"2\":\"joy positive\",\n",
        "              \"3\":\"no_emotion positive/negative\", \"4\":\"sadness negative\", \"5\":\"fear negative\",\n",
        "              \"6\":\"shame negative\",\"7\":\"anger negative\", \"8\":\"disgust negative\",\n",
        "              \"9\":\"surprise positive/negative\",\"10\":\"disgust neutral/skeptical\", \"11\":\"surprise negative\",\n",
        "              \"12\":\"no_emotion negative\",\"13\":\"sadness positive/negative\", \"14\":\"fear positive/negative\"}"
      ]
    },
    {
      "cell_type": "markdown",
      "metadata": {
        "id": "jSxd7cSsRKcf"
      },
      "source": [
        "### Одномерная сверточная сеть"
      ]
    },
    {
      "cell_type": "code",
      "execution_count": 92,
      "metadata": {
        "colab": {
          "base_uri": "https://localhost:8080/"
        },
        "id": "2Ldh4MKMRBWs",
        "outputId": "84f7d5f2-d6e1-4b2d-d47b-05adcca2849c"
      },
      "outputs": [
        {
          "output_type": "stream",
          "name": "stdout",
          "text": [
            "1/1 [==============================] - 0s 107ms/step\n"
          ]
        }
      ],
      "source": [
        "result_cnn = model_cnn.predict(data)"
      ]
    },
    {
      "cell_type": "code",
      "execution_count": 93,
      "metadata": {
        "colab": {
          "base_uri": "https://localhost:8080/"
        },
        "id": "VhiT958GRTRP",
        "outputId": "8677260d-26b4-4bbc-b6b5-aa8f1f5f863f"
      },
      "outputs": [
        {
          "output_type": "execute_result",
          "data": {
            "text/plain": [
              "array([[8.34785104e-01, 3.61423846e-03, 1.50719145e-02, 3.68711501e-02,\n",
              "        1.10046344e-03, 2.77571343e-02, 1.70163426e-03, 1.36274546e-02,\n",
              "        4.17695381e-02, 4.31997143e-03, 8.39864649e-03, 2.91315978e-03,\n",
              "        1.66690361e-03, 5.81799354e-03, 5.84632915e-04]], dtype=float32)"
            ]
          },
          "metadata": {},
          "execution_count": 93
        }
      ],
      "source": [
        "result_cnn"
      ]
    },
    {
      "cell_type": "markdown",
      "metadata": {
        "id": "ZU1PXJxHRwW1"
      },
      "source": [
        "### Сеть LSTM"
      ]
    },
    {
      "cell_type": "code",
      "execution_count": 94,
      "metadata": {
        "colab": {
          "base_uri": "https://localhost:8080/"
        },
        "id": "QqlfceZPRw3k",
        "outputId": "b57f0481-10da-4cbd-a327-c79ff439c12e"
      },
      "outputs": [
        {
          "output_type": "stream",
          "name": "stdout",
          "text": [
            "1/1 [==============================] - 0s 317ms/step\n"
          ]
        }
      ],
      "source": [
        "result_lstm = model_lstm.predict(data)"
      ]
    },
    {
      "cell_type": "code",
      "execution_count": 95,
      "metadata": {
        "colab": {
          "base_uri": "https://localhost:8080/"
        },
        "id": "LfOLoMDhR1Y-",
        "outputId": "81c1d19a-176a-4fc0-c3e9-4788986eb972"
      },
      "outputs": [
        {
          "output_type": "execute_result",
          "data": {
            "text/plain": [
              "array([[0.61514246, 0.11190922, 0.13777025, 0.06648818, 0.02547133,\n",
              "        0.00897669, 0.00940948, 0.00663213, 0.00398992, 0.00476904,\n",
              "        0.00223641, 0.00279462, 0.00174053, 0.00146353, 0.0012062 ]],\n",
              "      dtype=float32)"
            ]
          },
          "metadata": {},
          "execution_count": 95
        }
      ],
      "source": [
        "result_lstm"
      ]
    },
    {
      "cell_type": "markdown",
      "metadata": {
        "id": "9J4Mej6ESA17"
      },
      "source": [
        "### Сеть GRU"
      ]
    },
    {
      "cell_type": "code",
      "execution_count": 96,
      "metadata": {
        "colab": {
          "base_uri": "https://localhost:8080/"
        },
        "id": "Z2_0ugy5SBW2",
        "outputId": "47647a35-51f3-4ed9-ca76-a8aefaf4223d"
      },
      "outputs": [
        {
          "output_type": "stream",
          "name": "stdout",
          "text": [
            "1/1 [==============================] - 0s 280ms/step\n"
          ]
        }
      ],
      "source": [
        "result_gru = model_gru.predict(data)"
      ]
    },
    {
      "cell_type": "code",
      "execution_count": 97,
      "metadata": {
        "colab": {
          "base_uri": "https://localhost:8080/"
        },
        "id": "QgmWEboVSFKJ",
        "outputId": "b6d5b3f7-21e1-45cc-8af3-d818135b9fd2"
      },
      "outputs": [
        {
          "output_type": "execute_result",
          "data": {
            "text/plain": [
              "array([[0.6791172 , 0.06820127, 0.05998535, 0.04343855, 0.08537231,\n",
              "        0.00622144, 0.01390872, 0.01016257, 0.00530892, 0.00453597,\n",
              "        0.00267783, 0.00480647, 0.00464905, 0.00463565, 0.00697875]],\n",
              "      dtype=float32)"
            ]
          },
          "metadata": {},
          "execution_count": 97
        }
      ],
      "source": [
        "result_gru"
      ]
    }
  ],
  "metadata": {
    "accelerator": "GPU",
    "colab": {
      "provenance": []
    },
    "gpuClass": "standard",
    "kernelspec": {
      "display_name": "Python 3 (ipykernel)",
      "language": "python",
      "name": "python3"
    },
    "language_info": {
      "codemirror_mode": {
        "name": "ipython",
        "version": 3
      },
      "file_extension": ".py",
      "mimetype": "text/x-python",
      "name": "python",
      "nbconvert_exporter": "python",
      "pygments_lexer": "ipython3",
      "version": "3.9.13"
    }
  },
  "nbformat": 4,
  "nbformat_minor": 0
}