{
  "cells": [
    {
      "cell_type": "markdown",
      "metadata": {
        "id": "kAc2Bg2BJECO"
      },
      "source": [
        "## Классификация постов\n",
        "Используется три архитектуры нейронных сетей:\n",
        "- Одномерная сверточная нейросеть\n",
        "- Рекуррентная нейросеть LSTM\n",
        "- Рекуррентная нейросеть GRU"
      ]
    },
    {
      "cell_type": "code",
      "source": [
        "!pip show tensorflow"
      ],
      "metadata": {
        "colab": {
          "base_uri": "https://localhost:8080/"
        },
        "id": "PHR82p9dpIqz",
        "outputId": "cfadd1b1-36a3-498c-d39d-4fda36cc0432"
      },
      "execution_count": 1,
      "outputs": [
        {
          "output_type": "stream",
          "name": "stdout",
          "text": [
            "Name: tensorflow\n",
            "Version: 2.12.0\n",
            "Summary: TensorFlow is an open source machine learning framework for everyone.\n",
            "Home-page: https://www.tensorflow.org/\n",
            "Author: Google Inc.\n",
            "Author-email: packages@tensorflow.org\n",
            "License: Apache 2.0\n",
            "Location: /usr/local/lib/python3.10/dist-packages\n",
            "Requires: absl-py, astunparse, flatbuffers, gast, google-pasta, grpcio, h5py, jax, keras, libclang, numpy, opt-einsum, packaging, protobuf, setuptools, six, tensorboard, tensorflow-estimator, tensorflow-io-gcs-filesystem, termcolor, typing-extensions, wrapt\n",
            "Required-by: dopamine-rl\n"
          ]
        }
      ]
    },
    {
      "cell_type": "markdown",
      "source": [
        "tf-nightly нужен, т.к. f.keras.metrics.F1Score работает только для tf-nightly. См. https://www.tensorflow.org/api_docs/python/tf/keras/metrics/F1Score"
      ],
      "metadata": {
        "id": "SEtE_-ccpQcp"
      }
    },
    {
      "cell_type": "code",
      "source": [
        "!pip install tf-nightly"
      ],
      "metadata": {
        "colab": {
          "base_uri": "https://localhost:8080/"
        },
        "id": "Cu2MSZpqpN8l",
        "outputId": "dd296411-f7b3-4cc1-e5b2-0dc6f449e300"
      },
      "execution_count": 2,
      "outputs": [
        {
          "output_type": "stream",
          "name": "stdout",
          "text": [
            "Looking in indexes: https://pypi.org/simple, https://us-python.pkg.dev/colab-wheels/public/simple/\n",
            "Collecting tf-nightly\n",
            "  Downloading tf_nightly-2.14.0.dev20230528-cp310-cp310-manylinux_2_17_x86_64.manylinux2014_x86_64.whl (488.2 MB)\n",
            "\u001b[2K     \u001b[90m━━━━━━━━━━━━━━━━━━━━━━━━━━━━━━━━━━━━━━━\u001b[0m \u001b[32m488.2/488.2 MB\u001b[0m \u001b[31m2.8 MB/s\u001b[0m eta \u001b[36m0:00:00\u001b[0m\n",
            "\u001b[?25hRequirement already satisfied: absl-py>=1.0.0 in /usr/local/lib/python3.10/dist-packages (from tf-nightly) (1.4.0)\n",
            "Requirement already satisfied: astunparse>=1.6.0 in /usr/local/lib/python3.10/dist-packages (from tf-nightly) (1.6.3)\n",
            "Collecting flatbuffers>=23.5.8 (from tf-nightly)\n",
            "  Downloading flatbuffers-23.5.26-py2.py3-none-any.whl (26 kB)\n",
            "Requirement already satisfied: gast<=0.4.0,>=0.2.1 in /usr/local/lib/python3.10/dist-packages (from tf-nightly) (0.4.0)\n",
            "Requirement already satisfied: google-pasta>=0.1.1 in /usr/local/lib/python3.10/dist-packages (from tf-nightly) (0.2.0)\n",
            "Requirement already satisfied: grpcio<2.0,>=1.24.3 in /usr/local/lib/python3.10/dist-packages (from tf-nightly) (1.54.0)\n",
            "Requirement already satisfied: h5py>=2.9.0 in /usr/local/lib/python3.10/dist-packages (from tf-nightly) (3.8.0)\n",
            "Collecting keras-nightly~=2.14.0.dev (from tf-nightly)\n",
            "  Downloading keras_nightly-2.14.0.dev2023052807-py3-none-any.whl (1.7 MB)\n",
            "\u001b[2K     \u001b[90m━━━━━━━━━━━━━━━━━━━━━━━━━━━━━━━━━━━━━━━━\u001b[0m \u001b[32m1.7/1.7 MB\u001b[0m \u001b[31m95.4 MB/s\u001b[0m eta \u001b[36m0:00:00\u001b[0m\n",
            "\u001b[?25hRequirement already satisfied: libclang>=13.0.0 in /usr/local/lib/python3.10/dist-packages (from tf-nightly) (16.0.0)\n",
            "Requirement already satisfied: numpy>=1.22 in /usr/local/lib/python3.10/dist-packages (from tf-nightly) (1.22.4)\n",
            "Requirement already satisfied: opt-einsum>=2.3.2 in /usr/local/lib/python3.10/dist-packages (from tf-nightly) (3.3.0)\n",
            "Requirement already satisfied: packaging in /usr/local/lib/python3.10/dist-packages (from tf-nightly) (23.1)\n",
            "Requirement already satisfied: protobuf!=4.21.0,!=4.21.1,!=4.21.2,!=4.21.3,!=4.21.4,!=4.21.5,<5.0.0dev,>=3.20.3 in /usr/local/lib/python3.10/dist-packages (from tf-nightly) (3.20.3)\n",
            "Requirement already satisfied: setuptools in /usr/local/lib/python3.10/dist-packages (from tf-nightly) (67.7.2)\n",
            "Requirement already satisfied: six>=1.12.0 in /usr/local/lib/python3.10/dist-packages (from tf-nightly) (1.16.0)\n",
            "Collecting tb-nightly~=2.14.0.a (from tf-nightly)\n",
            "  Downloading tb_nightly-2.14.0a20230528-py3-none-any.whl (5.6 MB)\n",
            "\u001b[2K     \u001b[90m━━━━━━━━━━━━━━━━━━━━━━━━━━━━━━━━━━━━━━━━\u001b[0m \u001b[32m5.6/5.6 MB\u001b[0m \u001b[31m112.2 MB/s\u001b[0m eta \u001b[36m0:00:00\u001b[0m\n",
            "\u001b[?25hRequirement already satisfied: termcolor>=1.1.0 in /usr/local/lib/python3.10/dist-packages (from tf-nightly) (2.3.0)\n",
            "Collecting tf-estimator-nightly~=2.14.0.dev (from tf-nightly)\n",
            "  Downloading tf_estimator_nightly-2.14.0.dev2023052808-py2.py3-none-any.whl (440 kB)\n",
            "\u001b[2K     \u001b[90m━━━━━━━━━━━━━━━━━━━━━━━━━━━━━━━━━━━━━━\u001b[0m \u001b[32m441.0/441.0 kB\u001b[0m \u001b[31m50.8 MB/s\u001b[0m eta \u001b[36m0:00:00\u001b[0m\n",
            "\u001b[?25hRequirement already satisfied: typing-extensions<4.6.0,>=3.6.6 in /usr/local/lib/python3.10/dist-packages (from tf-nightly) (4.5.0)\n",
            "Requirement already satisfied: wrapt>=1.11.0 in /usr/local/lib/python3.10/dist-packages (from tf-nightly) (1.14.1)\n",
            "Requirement already satisfied: tensorflow-io-gcs-filesystem>=0.23.1 in /usr/local/lib/python3.10/dist-packages (from tf-nightly) (0.32.0)\n",
            "Requirement already satisfied: wheel<1.0,>=0.23.0 in /usr/local/lib/python3.10/dist-packages (from astunparse>=1.6.0->tf-nightly) (0.40.0)\n",
            "Requirement already satisfied: google-auth<3,>=1.6.3 in /usr/local/lib/python3.10/dist-packages (from tb-nightly~=2.14.0.a->tf-nightly) (2.17.3)\n",
            "Requirement already satisfied: google-auth-oauthlib<1.1,>=0.5 in /usr/local/lib/python3.10/dist-packages (from tb-nightly~=2.14.0.a->tf-nightly) (1.0.0)\n",
            "Requirement already satisfied: markdown>=2.6.8 in /usr/local/lib/python3.10/dist-packages (from tb-nightly~=2.14.0.a->tf-nightly) (3.4.3)\n",
            "Requirement already satisfied: requests<3,>=2.21.0 in /usr/local/lib/python3.10/dist-packages (from tb-nightly~=2.14.0.a->tf-nightly) (2.27.1)\n",
            "Requirement already satisfied: tensorboard-data-server<0.8.0,>=0.7.0 in /usr/local/lib/python3.10/dist-packages (from tb-nightly~=2.14.0.a->tf-nightly) (0.7.0)\n",
            "Requirement already satisfied: werkzeug>=1.0.1 in /usr/local/lib/python3.10/dist-packages (from tb-nightly~=2.14.0.a->tf-nightly) (2.3.0)\n",
            "Requirement already satisfied: cachetools<6.0,>=2.0.0 in /usr/local/lib/python3.10/dist-packages (from google-auth<3,>=1.6.3->tb-nightly~=2.14.0.a->tf-nightly) (5.3.0)\n",
            "Requirement already satisfied: pyasn1-modules>=0.2.1 in /usr/local/lib/python3.10/dist-packages (from google-auth<3,>=1.6.3->tb-nightly~=2.14.0.a->tf-nightly) (0.3.0)\n",
            "Requirement already satisfied: rsa<5,>=3.1.4 in /usr/local/lib/python3.10/dist-packages (from google-auth<3,>=1.6.3->tb-nightly~=2.14.0.a->tf-nightly) (4.9)\n",
            "Requirement already satisfied: requests-oauthlib>=0.7.0 in /usr/local/lib/python3.10/dist-packages (from google-auth-oauthlib<1.1,>=0.5->tb-nightly~=2.14.0.a->tf-nightly) (1.3.1)\n",
            "Requirement already satisfied: urllib3<1.27,>=1.21.1 in /usr/local/lib/python3.10/dist-packages (from requests<3,>=2.21.0->tb-nightly~=2.14.0.a->tf-nightly) (1.26.15)\n",
            "Requirement already satisfied: certifi>=2017.4.17 in /usr/local/lib/python3.10/dist-packages (from requests<3,>=2.21.0->tb-nightly~=2.14.0.a->tf-nightly) (2022.12.7)\n",
            "Requirement already satisfied: charset-normalizer~=2.0.0 in /usr/local/lib/python3.10/dist-packages (from requests<3,>=2.21.0->tb-nightly~=2.14.0.a->tf-nightly) (2.0.12)\n",
            "Requirement already satisfied: idna<4,>=2.5 in /usr/local/lib/python3.10/dist-packages (from requests<3,>=2.21.0->tb-nightly~=2.14.0.a->tf-nightly) (3.4)\n",
            "Requirement already satisfied: MarkupSafe>=2.1.1 in /usr/local/lib/python3.10/dist-packages (from werkzeug>=1.0.1->tb-nightly~=2.14.0.a->tf-nightly) (2.1.2)\n",
            "Requirement already satisfied: pyasn1<0.6.0,>=0.4.6 in /usr/local/lib/python3.10/dist-packages (from pyasn1-modules>=0.2.1->google-auth<3,>=1.6.3->tb-nightly~=2.14.0.a->tf-nightly) (0.5.0)\n",
            "Requirement already satisfied: oauthlib>=3.0.0 in /usr/local/lib/python3.10/dist-packages (from requests-oauthlib>=0.7.0->google-auth-oauthlib<1.1,>=0.5->tb-nightly~=2.14.0.a->tf-nightly) (3.2.2)\n",
            "Installing collected packages: flatbuffers, tf-estimator-nightly, keras-nightly, tb-nightly, tf-nightly\n",
            "  Attempting uninstall: flatbuffers\n",
            "    Found existing installation: flatbuffers 23.3.3\n",
            "    Uninstalling flatbuffers-23.3.3:\n",
            "      Successfully uninstalled flatbuffers-23.3.3\n",
            "Successfully installed flatbuffers-23.5.26 keras-nightly-2.14.0.dev2023052807 tb-nightly-2.14.0a20230528 tf-estimator-nightly-2.14.0.dev2023052808 tf-nightly-2.14.0.dev20230528\n"
          ]
        }
      ]
    },
    {
      "cell_type": "code",
      "execution_count": 3,
      "metadata": {
        "id": "N7B7Q82wJKnD"
      },
      "outputs": [],
      "source": [
        "import pandas as pd\n",
        "from sklearn.model_selection import train_test_split\n",
        "from tensorflow.keras import utils\n",
        "from tensorflow.keras.preprocessing.text import Tokenizer\n",
        "from tensorflow.keras.preprocessing.sequence import pad_sequences\n",
        "from tensorflow.keras.models import Sequential\n",
        "from tensorflow.keras.layers import Dense, Embedding, MaxPooling1D, Conv1D, GlobalMaxPooling1D, Dropout, LSTM, GRU\n",
        "import tensorflow.keras.metrics as metrics\n",
        "from tensorflow.keras.callbacks import ModelCheckpoint\n",
        "import matplotlib.pyplot as plt\n",
        "from tensorflow.keras.models import load_model"
      ]
    },
    {
      "cell_type": "code",
      "execution_count": 4,
      "metadata": {
        "id": "h3jsZml5Jhhj"
      },
      "outputs": [],
      "source": [
        "# Максимальное количество слов \n",
        "num_words = 10000\n",
        "# Максимальная длина поста\n",
        "max_len = 11\n",
        "# Количество классов\n",
        "nb_classes = 15"
      ]
    },
    {
      "cell_type": "markdown",
      "metadata": {
        "id": "oCxWxurHJv2K"
      },
      "source": [
        "## Загрузка набора данных"
      ]
    },
    {
      "cell_type": "code",
      "execution_count": 5,
      "metadata": {
        "id": "EDKQQKMGKI1q"
      },
      "outputs": [],
      "source": [
        "df_em_1_token_10 = pd.read_csv('df_em_1_token_10.csv', sep=\";\")"
      ]
    },
    {
      "cell_type": "code",
      "execution_count": 6,
      "metadata": {
        "colab": {
          "base_uri": "https://localhost:8080/",
          "height": 424
        },
        "id": "D3JXaq72KVK4",
        "outputId": "26ec2da1-7aff-4fb8-90e6-e5b2c4321b83"
      },
      "outputs": [
        {
          "output_type": "execute_result",
          "data": {
            "text/plain": [
              "     img_emoji  word_count  count_emoji     emotion           tonality  class  \\\n",
              "0            😂           5            1       smile  positive/negative      0   \n",
              "1            😁           5            1       smile  positive/negative      0   \n",
              "2            😁           6            1       smile  positive/negative      0   \n",
              "3            😻           6            1         joy           positive      2   \n",
              "4            😍           7            1         joy           positive      2   \n",
              "...        ...         ...          ...         ...                ...    ...   \n",
              "9215         😄           5            1       smile  positive/negative      0   \n",
              "9216         😂           7            1       smile  positive/negative      0   \n",
              "9217         🤔           7            1  no_emotion  neutral/skeptical      1   \n",
              "9218         🤔           9            1  no_emotion  neutral/skeptical      1   \n",
              "9219         🤣          10            1       smile  positive/negative      0   \n",
              "\n",
              "                                           clean_text  \n",
              "0                                   почему бы и нет 😂  \n",
              "1                                как сесть на диету 😁  \n",
              "2                            когда в душе ещё щенок 😁  \n",
              "3              новые фотографии нюши просто огненные😻  \n",
              "4           безумно красивая актриса - алина ланина 😍  \n",
              "...                                               ...  \n",
              "9215                ряды эскортниц скоро пополнится 😄  \n",
              "9216                    так он прав ты реально даун 😂  \n",
              "9217                              вы же не про меня?🤔  \n",
              "9218             про кого пошутил то это не до комик🤔  \n",
              "9219  тебе это лучше знать что во всём мире слушают 🤣  \n",
              "\n",
              "[9220 rows x 7 columns]"
            ],
            "text/html": [
              "\n",
              "  <div id=\"df-8addd615-c7f3-49cc-9a08-4d0a0677654e\">\n",
              "    <div class=\"colab-df-container\">\n",
              "      <div>\n",
              "<style scoped>\n",
              "    .dataframe tbody tr th:only-of-type {\n",
              "        vertical-align: middle;\n",
              "    }\n",
              "\n",
              "    .dataframe tbody tr th {\n",
              "        vertical-align: top;\n",
              "    }\n",
              "\n",
              "    .dataframe thead th {\n",
              "        text-align: right;\n",
              "    }\n",
              "</style>\n",
              "<table border=\"1\" class=\"dataframe\">\n",
              "  <thead>\n",
              "    <tr style=\"text-align: right;\">\n",
              "      <th></th>\n",
              "      <th>img_emoji</th>\n",
              "      <th>word_count</th>\n",
              "      <th>count_emoji</th>\n",
              "      <th>emotion</th>\n",
              "      <th>tonality</th>\n",
              "      <th>class</th>\n",
              "      <th>clean_text</th>\n",
              "    </tr>\n",
              "  </thead>\n",
              "  <tbody>\n",
              "    <tr>\n",
              "      <th>0</th>\n",
              "      <td>😂</td>\n",
              "      <td>5</td>\n",
              "      <td>1</td>\n",
              "      <td>smile</td>\n",
              "      <td>positive/negative</td>\n",
              "      <td>0</td>\n",
              "      <td>почему бы и нет 😂</td>\n",
              "    </tr>\n",
              "    <tr>\n",
              "      <th>1</th>\n",
              "      <td>😁</td>\n",
              "      <td>5</td>\n",
              "      <td>1</td>\n",
              "      <td>smile</td>\n",
              "      <td>positive/negative</td>\n",
              "      <td>0</td>\n",
              "      <td>как сесть на диету 😁</td>\n",
              "    </tr>\n",
              "    <tr>\n",
              "      <th>2</th>\n",
              "      <td>😁</td>\n",
              "      <td>6</td>\n",
              "      <td>1</td>\n",
              "      <td>smile</td>\n",
              "      <td>positive/negative</td>\n",
              "      <td>0</td>\n",
              "      <td>когда в душе ещё щенок 😁</td>\n",
              "    </tr>\n",
              "    <tr>\n",
              "      <th>3</th>\n",
              "      <td>😻</td>\n",
              "      <td>6</td>\n",
              "      <td>1</td>\n",
              "      <td>joy</td>\n",
              "      <td>positive</td>\n",
              "      <td>2</td>\n",
              "      <td>новые фотографии нюши просто огненные😻</td>\n",
              "    </tr>\n",
              "    <tr>\n",
              "      <th>4</th>\n",
              "      <td>😍</td>\n",
              "      <td>7</td>\n",
              "      <td>1</td>\n",
              "      <td>joy</td>\n",
              "      <td>positive</td>\n",
              "      <td>2</td>\n",
              "      <td>безумно красивая актриса - алина ланина 😍</td>\n",
              "    </tr>\n",
              "    <tr>\n",
              "      <th>...</th>\n",
              "      <td>...</td>\n",
              "      <td>...</td>\n",
              "      <td>...</td>\n",
              "      <td>...</td>\n",
              "      <td>...</td>\n",
              "      <td>...</td>\n",
              "      <td>...</td>\n",
              "    </tr>\n",
              "    <tr>\n",
              "      <th>9215</th>\n",
              "      <td>😄</td>\n",
              "      <td>5</td>\n",
              "      <td>1</td>\n",
              "      <td>smile</td>\n",
              "      <td>positive/negative</td>\n",
              "      <td>0</td>\n",
              "      <td>ряды эскортниц скоро пополнится 😄</td>\n",
              "    </tr>\n",
              "    <tr>\n",
              "      <th>9216</th>\n",
              "      <td>😂</td>\n",
              "      <td>7</td>\n",
              "      <td>1</td>\n",
              "      <td>smile</td>\n",
              "      <td>positive/negative</td>\n",
              "      <td>0</td>\n",
              "      <td>так он прав ты реально даун 😂</td>\n",
              "    </tr>\n",
              "    <tr>\n",
              "      <th>9217</th>\n",
              "      <td>🤔</td>\n",
              "      <td>7</td>\n",
              "      <td>1</td>\n",
              "      <td>no_emotion</td>\n",
              "      <td>neutral/skeptical</td>\n",
              "      <td>1</td>\n",
              "      <td>вы же не про меня?🤔</td>\n",
              "    </tr>\n",
              "    <tr>\n",
              "      <th>9218</th>\n",
              "      <td>🤔</td>\n",
              "      <td>9</td>\n",
              "      <td>1</td>\n",
              "      <td>no_emotion</td>\n",
              "      <td>neutral/skeptical</td>\n",
              "      <td>1</td>\n",
              "      <td>про кого пошутил то это не до комик🤔</td>\n",
              "    </tr>\n",
              "    <tr>\n",
              "      <th>9219</th>\n",
              "      <td>🤣</td>\n",
              "      <td>10</td>\n",
              "      <td>1</td>\n",
              "      <td>smile</td>\n",
              "      <td>positive/negative</td>\n",
              "      <td>0</td>\n",
              "      <td>тебе это лучше знать что во всём мире слушают 🤣</td>\n",
              "    </tr>\n",
              "  </tbody>\n",
              "</table>\n",
              "<p>9220 rows × 7 columns</p>\n",
              "</div>\n",
              "      <button class=\"colab-df-convert\" onclick=\"convertToInteractive('df-8addd615-c7f3-49cc-9a08-4d0a0677654e')\"\n",
              "              title=\"Convert this dataframe to an interactive table.\"\n",
              "              style=\"display:none;\">\n",
              "        \n",
              "  <svg xmlns=\"http://www.w3.org/2000/svg\" height=\"24px\"viewBox=\"0 0 24 24\"\n",
              "       width=\"24px\">\n",
              "    <path d=\"M0 0h24v24H0V0z\" fill=\"none\"/>\n",
              "    <path d=\"M18.56 5.44l.94 2.06.94-2.06 2.06-.94-2.06-.94-.94-2.06-.94 2.06-2.06.94zm-11 1L8.5 8.5l.94-2.06 2.06-.94-2.06-.94L8.5 2.5l-.94 2.06-2.06.94zm10 10l.94 2.06.94-2.06 2.06-.94-2.06-.94-.94-2.06-.94 2.06-2.06.94z\"/><path d=\"M17.41 7.96l-1.37-1.37c-.4-.4-.92-.59-1.43-.59-.52 0-1.04.2-1.43.59L10.3 9.45l-7.72 7.72c-.78.78-.78 2.05 0 2.83L4 21.41c.39.39.9.59 1.41.59.51 0 1.02-.2 1.41-.59l7.78-7.78 2.81-2.81c.8-.78.8-2.07 0-2.86zM5.41 20L4 18.59l7.72-7.72 1.47 1.35L5.41 20z\"/>\n",
              "  </svg>\n",
              "      </button>\n",
              "      \n",
              "  <style>\n",
              "    .colab-df-container {\n",
              "      display:flex;\n",
              "      flex-wrap:wrap;\n",
              "      gap: 12px;\n",
              "    }\n",
              "\n",
              "    .colab-df-convert {\n",
              "      background-color: #E8F0FE;\n",
              "      border: none;\n",
              "      border-radius: 50%;\n",
              "      cursor: pointer;\n",
              "      display: none;\n",
              "      fill: #1967D2;\n",
              "      height: 32px;\n",
              "      padding: 0 0 0 0;\n",
              "      width: 32px;\n",
              "    }\n",
              "\n",
              "    .colab-df-convert:hover {\n",
              "      background-color: #E2EBFA;\n",
              "      box-shadow: 0px 1px 2px rgba(60, 64, 67, 0.3), 0px 1px 3px 1px rgba(60, 64, 67, 0.15);\n",
              "      fill: #174EA6;\n",
              "    }\n",
              "\n",
              "    [theme=dark] .colab-df-convert {\n",
              "      background-color: #3B4455;\n",
              "      fill: #D2E3FC;\n",
              "    }\n",
              "\n",
              "    [theme=dark] .colab-df-convert:hover {\n",
              "      background-color: #434B5C;\n",
              "      box-shadow: 0px 1px 3px 1px rgba(0, 0, 0, 0.15);\n",
              "      filter: drop-shadow(0px 1px 2px rgba(0, 0, 0, 0.3));\n",
              "      fill: #FFFFFF;\n",
              "    }\n",
              "  </style>\n",
              "\n",
              "      <script>\n",
              "        const buttonEl =\n",
              "          document.querySelector('#df-8addd615-c7f3-49cc-9a08-4d0a0677654e button.colab-df-convert');\n",
              "        buttonEl.style.display =\n",
              "          google.colab.kernel.accessAllowed ? 'block' : 'none';\n",
              "\n",
              "        async function convertToInteractive(key) {\n",
              "          const element = document.querySelector('#df-8addd615-c7f3-49cc-9a08-4d0a0677654e');\n",
              "          const dataTable =\n",
              "            await google.colab.kernel.invokeFunction('convertToInteractive',\n",
              "                                                     [key], {});\n",
              "          if (!dataTable) return;\n",
              "\n",
              "          const docLinkHtml = 'Like what you see? Visit the ' +\n",
              "            '<a target=\"_blank\" href=https://colab.research.google.com/notebooks/data_table.ipynb>data table notebook</a>'\n",
              "            + ' to learn more about interactive tables.';\n",
              "          element.innerHTML = '';\n",
              "          dataTable['output_type'] = 'display_data';\n",
              "          await google.colab.output.renderOutput(dataTable, element);\n",
              "          const docLink = document.createElement('div');\n",
              "          docLink.innerHTML = docLinkHtml;\n",
              "          element.appendChild(docLink);\n",
              "        }\n",
              "      </script>\n",
              "    </div>\n",
              "  </div>\n",
              "  "
            ]
          },
          "metadata": {},
          "execution_count": 6
        }
      ],
      "source": [
        "df_em_1_token_10"
      ]
    },
    {
      "cell_type": "code",
      "execution_count": 7,
      "metadata": {
        "id": "IUB_FgXZKW0M"
      },
      "outputs": [],
      "source": [
        "from sklearn.model_selection import train_test_split"
      ]
    },
    {
      "cell_type": "code",
      "execution_count": 8,
      "metadata": {
        "id": "71KjHFXhKa-K"
      },
      "outputs": [],
      "source": [
        "train, test = train_test_split(df_em_1_token_10, test_size=0.2)"
      ]
    },
    {
      "cell_type": "code",
      "execution_count": 9,
      "metadata": {
        "colab": {
          "base_uri": "https://localhost:8080/",
          "height": 424
        },
        "id": "Q-Ac4ezJKjio",
        "outputId": "3c5e62d3-a158-46ac-a8b5-2d933a67b82d"
      },
      "outputs": [
        {
          "output_type": "execute_result",
          "data": {
            "text/plain": [
              "     img_emoji  word_count  count_emoji     emotion           tonality  class  \\\n",
              "416          😅           7            1       smile  positive/negative      0   \n",
              "8101         😃           5            1       smile  positive/negative      0   \n",
              "4600         🤭           4            1  no_emotion  neutral/skeptical      1   \n",
              "5931         🤣           2            1       smile  positive/negative      0   \n",
              "7539         😱           6            1        fear           negative      5   \n",
              "...        ...         ...          ...         ...                ...    ...   \n",
              "5555         😁          11            1       smile  positive/negative      0   \n",
              "8231         😅           7            1       smile  positive/negative      0   \n",
              "6788         😂           8            1       smile  positive/negative      0   \n",
              "7361         😀           3            1       smile  positive/negative      0   \n",
              "9090         🤣           7            1       smile  positive/negative      0   \n",
              "\n",
              "                                             clean_text  \n",
              "416                    когда ну все просто против тебя😅  \n",
              "8101                        мозгов то осталось немного😃  \n",
              "4600                           телеграм этим славится 🤭  \n",
              "5931                                               хз 🤣  \n",
              "7539                            норм  с мишей там.....😱  \n",
              "...                                                 ...  \n",
              "5555  якудза тебя найдёт и заставит сделать харакири...  \n",
              "8231                    тут уже конечно кто как привык😅  \n",
              "6788                  чего ?😂 я don't понимать ваш язык  \n",
              "7361                                   отличный сериал😀  \n",
              "9090                       у тебя чё пипися из золота 🤣  \n",
              "\n",
              "[7376 rows x 7 columns]"
            ],
            "text/html": [
              "\n",
              "  <div id=\"df-17d30e70-a7b9-456f-b8d1-319af95f6e50\">\n",
              "    <div class=\"colab-df-container\">\n",
              "      <div>\n",
              "<style scoped>\n",
              "    .dataframe tbody tr th:only-of-type {\n",
              "        vertical-align: middle;\n",
              "    }\n",
              "\n",
              "    .dataframe tbody tr th {\n",
              "        vertical-align: top;\n",
              "    }\n",
              "\n",
              "    .dataframe thead th {\n",
              "        text-align: right;\n",
              "    }\n",
              "</style>\n",
              "<table border=\"1\" class=\"dataframe\">\n",
              "  <thead>\n",
              "    <tr style=\"text-align: right;\">\n",
              "      <th></th>\n",
              "      <th>img_emoji</th>\n",
              "      <th>word_count</th>\n",
              "      <th>count_emoji</th>\n",
              "      <th>emotion</th>\n",
              "      <th>tonality</th>\n",
              "      <th>class</th>\n",
              "      <th>clean_text</th>\n",
              "    </tr>\n",
              "  </thead>\n",
              "  <tbody>\n",
              "    <tr>\n",
              "      <th>416</th>\n",
              "      <td>😅</td>\n",
              "      <td>7</td>\n",
              "      <td>1</td>\n",
              "      <td>smile</td>\n",
              "      <td>positive/negative</td>\n",
              "      <td>0</td>\n",
              "      <td>когда ну все просто против тебя😅</td>\n",
              "    </tr>\n",
              "    <tr>\n",
              "      <th>8101</th>\n",
              "      <td>😃</td>\n",
              "      <td>5</td>\n",
              "      <td>1</td>\n",
              "      <td>smile</td>\n",
              "      <td>positive/negative</td>\n",
              "      <td>0</td>\n",
              "      <td>мозгов то осталось немного😃</td>\n",
              "    </tr>\n",
              "    <tr>\n",
              "      <th>4600</th>\n",
              "      <td>🤭</td>\n",
              "      <td>4</td>\n",
              "      <td>1</td>\n",
              "      <td>no_emotion</td>\n",
              "      <td>neutral/skeptical</td>\n",
              "      <td>1</td>\n",
              "      <td>телеграм этим славится 🤭</td>\n",
              "    </tr>\n",
              "    <tr>\n",
              "      <th>5931</th>\n",
              "      <td>🤣</td>\n",
              "      <td>2</td>\n",
              "      <td>1</td>\n",
              "      <td>smile</td>\n",
              "      <td>positive/negative</td>\n",
              "      <td>0</td>\n",
              "      <td>хз 🤣</td>\n",
              "    </tr>\n",
              "    <tr>\n",
              "      <th>7539</th>\n",
              "      <td>😱</td>\n",
              "      <td>6</td>\n",
              "      <td>1</td>\n",
              "      <td>fear</td>\n",
              "      <td>negative</td>\n",
              "      <td>5</td>\n",
              "      <td>норм  с мишей там.....😱</td>\n",
              "    </tr>\n",
              "    <tr>\n",
              "      <th>...</th>\n",
              "      <td>...</td>\n",
              "      <td>...</td>\n",
              "      <td>...</td>\n",
              "      <td>...</td>\n",
              "      <td>...</td>\n",
              "      <td>...</td>\n",
              "      <td>...</td>\n",
              "    </tr>\n",
              "    <tr>\n",
              "      <th>5555</th>\n",
              "      <td>😁</td>\n",
              "      <td>11</td>\n",
              "      <td>1</td>\n",
              "      <td>smile</td>\n",
              "      <td>positive/negative</td>\n",
              "      <td>0</td>\n",
              "      <td>якудза тебя найдёт и заставит сделать харакири...</td>\n",
              "    </tr>\n",
              "    <tr>\n",
              "      <th>8231</th>\n",
              "      <td>😅</td>\n",
              "      <td>7</td>\n",
              "      <td>1</td>\n",
              "      <td>smile</td>\n",
              "      <td>positive/negative</td>\n",
              "      <td>0</td>\n",
              "      <td>тут уже конечно кто как привык😅</td>\n",
              "    </tr>\n",
              "    <tr>\n",
              "      <th>6788</th>\n",
              "      <td>😂</td>\n",
              "      <td>8</td>\n",
              "      <td>1</td>\n",
              "      <td>smile</td>\n",
              "      <td>positive/negative</td>\n",
              "      <td>0</td>\n",
              "      <td>чего ?😂 я don't понимать ваш язык</td>\n",
              "    </tr>\n",
              "    <tr>\n",
              "      <th>7361</th>\n",
              "      <td>😀</td>\n",
              "      <td>3</td>\n",
              "      <td>1</td>\n",
              "      <td>smile</td>\n",
              "      <td>positive/negative</td>\n",
              "      <td>0</td>\n",
              "      <td>отличный сериал😀</td>\n",
              "    </tr>\n",
              "    <tr>\n",
              "      <th>9090</th>\n",
              "      <td>🤣</td>\n",
              "      <td>7</td>\n",
              "      <td>1</td>\n",
              "      <td>smile</td>\n",
              "      <td>positive/negative</td>\n",
              "      <td>0</td>\n",
              "      <td>у тебя чё пипися из золота 🤣</td>\n",
              "    </tr>\n",
              "  </tbody>\n",
              "</table>\n",
              "<p>7376 rows × 7 columns</p>\n",
              "</div>\n",
              "      <button class=\"colab-df-convert\" onclick=\"convertToInteractive('df-17d30e70-a7b9-456f-b8d1-319af95f6e50')\"\n",
              "              title=\"Convert this dataframe to an interactive table.\"\n",
              "              style=\"display:none;\">\n",
              "        \n",
              "  <svg xmlns=\"http://www.w3.org/2000/svg\" height=\"24px\"viewBox=\"0 0 24 24\"\n",
              "       width=\"24px\">\n",
              "    <path d=\"M0 0h24v24H0V0z\" fill=\"none\"/>\n",
              "    <path d=\"M18.56 5.44l.94 2.06.94-2.06 2.06-.94-2.06-.94-.94-2.06-.94 2.06-2.06.94zm-11 1L8.5 8.5l.94-2.06 2.06-.94-2.06-.94L8.5 2.5l-.94 2.06-2.06.94zm10 10l.94 2.06.94-2.06 2.06-.94-2.06-.94-.94-2.06-.94 2.06-2.06.94z\"/><path d=\"M17.41 7.96l-1.37-1.37c-.4-.4-.92-.59-1.43-.59-.52 0-1.04.2-1.43.59L10.3 9.45l-7.72 7.72c-.78.78-.78 2.05 0 2.83L4 21.41c.39.39.9.59 1.41.59.51 0 1.02-.2 1.41-.59l7.78-7.78 2.81-2.81c.8-.78.8-2.07 0-2.86zM5.41 20L4 18.59l7.72-7.72 1.47 1.35L5.41 20z\"/>\n",
              "  </svg>\n",
              "      </button>\n",
              "      \n",
              "  <style>\n",
              "    .colab-df-container {\n",
              "      display:flex;\n",
              "      flex-wrap:wrap;\n",
              "      gap: 12px;\n",
              "    }\n",
              "\n",
              "    .colab-df-convert {\n",
              "      background-color: #E8F0FE;\n",
              "      border: none;\n",
              "      border-radius: 50%;\n",
              "      cursor: pointer;\n",
              "      display: none;\n",
              "      fill: #1967D2;\n",
              "      height: 32px;\n",
              "      padding: 0 0 0 0;\n",
              "      width: 32px;\n",
              "    }\n",
              "\n",
              "    .colab-df-convert:hover {\n",
              "      background-color: #E2EBFA;\n",
              "      box-shadow: 0px 1px 2px rgba(60, 64, 67, 0.3), 0px 1px 3px 1px rgba(60, 64, 67, 0.15);\n",
              "      fill: #174EA6;\n",
              "    }\n",
              "\n",
              "    [theme=dark] .colab-df-convert {\n",
              "      background-color: #3B4455;\n",
              "      fill: #D2E3FC;\n",
              "    }\n",
              "\n",
              "    [theme=dark] .colab-df-convert:hover {\n",
              "      background-color: #434B5C;\n",
              "      box-shadow: 0px 1px 3px 1px rgba(0, 0, 0, 0.15);\n",
              "      filter: drop-shadow(0px 1px 2px rgba(0, 0, 0, 0.3));\n",
              "      fill: #FFFFFF;\n",
              "    }\n",
              "  </style>\n",
              "\n",
              "      <script>\n",
              "        const buttonEl =\n",
              "          document.querySelector('#df-17d30e70-a7b9-456f-b8d1-319af95f6e50 button.colab-df-convert');\n",
              "        buttonEl.style.display =\n",
              "          google.colab.kernel.accessAllowed ? 'block' : 'none';\n",
              "\n",
              "        async function convertToInteractive(key) {\n",
              "          const element = document.querySelector('#df-17d30e70-a7b9-456f-b8d1-319af95f6e50');\n",
              "          const dataTable =\n",
              "            await google.colab.kernel.invokeFunction('convertToInteractive',\n",
              "                                                     [key], {});\n",
              "          if (!dataTable) return;\n",
              "\n",
              "          const docLinkHtml = 'Like what you see? Visit the ' +\n",
              "            '<a target=\"_blank\" href=https://colab.research.google.com/notebooks/data_table.ipynb>data table notebook</a>'\n",
              "            + ' to learn more about interactive tables.';\n",
              "          element.innerHTML = '';\n",
              "          dataTable['output_type'] = 'display_data';\n",
              "          await google.colab.output.renderOutput(dataTable, element);\n",
              "          const docLink = document.createElement('div');\n",
              "          docLink.innerHTML = docLinkHtml;\n",
              "          element.appendChild(docLink);\n",
              "        }\n",
              "      </script>\n",
              "    </div>\n",
              "  </div>\n",
              "  "
            ]
          },
          "metadata": {},
          "execution_count": 9
        }
      ],
      "source": [
        "train"
      ]
    },
    {
      "cell_type": "code",
      "source": [
        "test"
      ],
      "metadata": {
        "colab": {
          "base_uri": "https://localhost:8080/",
          "height": 424
        },
        "id": "NH9MrDTpqNCD",
        "outputId": "8e515c18-7116-4d31-f59a-0bb49f2dbb3c"
      },
      "execution_count": 10,
      "outputs": [
        {
          "output_type": "execute_result",
          "data": {
            "text/plain": [
              "     img_emoji  word_count  count_emoji emotion           tonality  class  \\\n",
              "8112         😅           5            1   smile  positive/negative      0   \n",
              "7290         😆           4            1   smile  positive/negative      0   \n",
              "5976         😁           4            1   smile  positive/negative      0   \n",
              "169          😅           9            1   smile  positive/negative      0   \n",
              "3266         😹           6            1   smile  positive/negative      0   \n",
              "...        ...         ...          ...     ...                ...    ...   \n",
              "2683         😍           9            1     joy           positive      2   \n",
              "2543         🤣           8            1   smile  positive/negative      0   \n",
              "6063         😡           3            1   anger           negative      7   \n",
              "8144         😊           9            1   smile  positive/negative      0   \n",
              "6986         😂           4            1   smile  positive/negative      0   \n",
              "\n",
              "                                             clean_text  \n",
              "8112                           или стёкл как трезвышко😅  \n",
              "7290                                    одни в кровати😆  \n",
              "5976                                  такой же вопрос 😁  \n",
              "169   для мужчин это очень большое признание в чувст...  \n",
              "3266                              ой ну я же серьезно 😹  \n",
              "...                                                 ...  \n",
              "2683          где шмотки купить как на первой фотке ? 😍  \n",
              "2543               и наш петров ,всегда один и тот-же 🤣  \n",
              "6063                                 питушинная башка 😡  \n",
              "8144         спасибо большое! и вам всего чего желаете😊  \n",
              "6986                                 эта песня кстати 😂  \n",
              "\n",
              "[1844 rows x 7 columns]"
            ],
            "text/html": [
              "\n",
              "  <div id=\"df-6608812e-f471-481c-8685-8d3b81f32059\">\n",
              "    <div class=\"colab-df-container\">\n",
              "      <div>\n",
              "<style scoped>\n",
              "    .dataframe tbody tr th:only-of-type {\n",
              "        vertical-align: middle;\n",
              "    }\n",
              "\n",
              "    .dataframe tbody tr th {\n",
              "        vertical-align: top;\n",
              "    }\n",
              "\n",
              "    .dataframe thead th {\n",
              "        text-align: right;\n",
              "    }\n",
              "</style>\n",
              "<table border=\"1\" class=\"dataframe\">\n",
              "  <thead>\n",
              "    <tr style=\"text-align: right;\">\n",
              "      <th></th>\n",
              "      <th>img_emoji</th>\n",
              "      <th>word_count</th>\n",
              "      <th>count_emoji</th>\n",
              "      <th>emotion</th>\n",
              "      <th>tonality</th>\n",
              "      <th>class</th>\n",
              "      <th>clean_text</th>\n",
              "    </tr>\n",
              "  </thead>\n",
              "  <tbody>\n",
              "    <tr>\n",
              "      <th>8112</th>\n",
              "      <td>😅</td>\n",
              "      <td>5</td>\n",
              "      <td>1</td>\n",
              "      <td>smile</td>\n",
              "      <td>positive/negative</td>\n",
              "      <td>0</td>\n",
              "      <td>или стёкл как трезвышко😅</td>\n",
              "    </tr>\n",
              "    <tr>\n",
              "      <th>7290</th>\n",
              "      <td>😆</td>\n",
              "      <td>4</td>\n",
              "      <td>1</td>\n",
              "      <td>smile</td>\n",
              "      <td>positive/negative</td>\n",
              "      <td>0</td>\n",
              "      <td>одни в кровати😆</td>\n",
              "    </tr>\n",
              "    <tr>\n",
              "      <th>5976</th>\n",
              "      <td>😁</td>\n",
              "      <td>4</td>\n",
              "      <td>1</td>\n",
              "      <td>smile</td>\n",
              "      <td>positive/negative</td>\n",
              "      <td>0</td>\n",
              "      <td>такой же вопрос 😁</td>\n",
              "    </tr>\n",
              "    <tr>\n",
              "      <th>169</th>\n",
              "      <td>😅</td>\n",
              "      <td>9</td>\n",
              "      <td>1</td>\n",
              "      <td>smile</td>\n",
              "      <td>positive/negative</td>\n",
              "      <td>0</td>\n",
              "      <td>для мужчин это очень большое признание в чувст...</td>\n",
              "    </tr>\n",
              "    <tr>\n",
              "      <th>3266</th>\n",
              "      <td>😹</td>\n",
              "      <td>6</td>\n",
              "      <td>1</td>\n",
              "      <td>smile</td>\n",
              "      <td>positive/negative</td>\n",
              "      <td>0</td>\n",
              "      <td>ой ну я же серьезно 😹</td>\n",
              "    </tr>\n",
              "    <tr>\n",
              "      <th>...</th>\n",
              "      <td>...</td>\n",
              "      <td>...</td>\n",
              "      <td>...</td>\n",
              "      <td>...</td>\n",
              "      <td>...</td>\n",
              "      <td>...</td>\n",
              "      <td>...</td>\n",
              "    </tr>\n",
              "    <tr>\n",
              "      <th>2683</th>\n",
              "      <td>😍</td>\n",
              "      <td>9</td>\n",
              "      <td>1</td>\n",
              "      <td>joy</td>\n",
              "      <td>positive</td>\n",
              "      <td>2</td>\n",
              "      <td>где шмотки купить как на первой фотке ? 😍</td>\n",
              "    </tr>\n",
              "    <tr>\n",
              "      <th>2543</th>\n",
              "      <td>🤣</td>\n",
              "      <td>8</td>\n",
              "      <td>1</td>\n",
              "      <td>smile</td>\n",
              "      <td>positive/negative</td>\n",
              "      <td>0</td>\n",
              "      <td>и наш петров ,всегда один и тот-же 🤣</td>\n",
              "    </tr>\n",
              "    <tr>\n",
              "      <th>6063</th>\n",
              "      <td>😡</td>\n",
              "      <td>3</td>\n",
              "      <td>1</td>\n",
              "      <td>anger</td>\n",
              "      <td>negative</td>\n",
              "      <td>7</td>\n",
              "      <td>питушинная башка 😡</td>\n",
              "    </tr>\n",
              "    <tr>\n",
              "      <th>8144</th>\n",
              "      <td>😊</td>\n",
              "      <td>9</td>\n",
              "      <td>1</td>\n",
              "      <td>smile</td>\n",
              "      <td>positive/negative</td>\n",
              "      <td>0</td>\n",
              "      <td>спасибо большое! и вам всего чего желаете😊</td>\n",
              "    </tr>\n",
              "    <tr>\n",
              "      <th>6986</th>\n",
              "      <td>😂</td>\n",
              "      <td>4</td>\n",
              "      <td>1</td>\n",
              "      <td>smile</td>\n",
              "      <td>positive/negative</td>\n",
              "      <td>0</td>\n",
              "      <td>эта песня кстати 😂</td>\n",
              "    </tr>\n",
              "  </tbody>\n",
              "</table>\n",
              "<p>1844 rows × 7 columns</p>\n",
              "</div>\n",
              "      <button class=\"colab-df-convert\" onclick=\"convertToInteractive('df-6608812e-f471-481c-8685-8d3b81f32059')\"\n",
              "              title=\"Convert this dataframe to an interactive table.\"\n",
              "              style=\"display:none;\">\n",
              "        \n",
              "  <svg xmlns=\"http://www.w3.org/2000/svg\" height=\"24px\"viewBox=\"0 0 24 24\"\n",
              "       width=\"24px\">\n",
              "    <path d=\"M0 0h24v24H0V0z\" fill=\"none\"/>\n",
              "    <path d=\"M18.56 5.44l.94 2.06.94-2.06 2.06-.94-2.06-.94-.94-2.06-.94 2.06-2.06.94zm-11 1L8.5 8.5l.94-2.06 2.06-.94-2.06-.94L8.5 2.5l-.94 2.06-2.06.94zm10 10l.94 2.06.94-2.06 2.06-.94-2.06-.94-.94-2.06-.94 2.06-2.06.94z\"/><path d=\"M17.41 7.96l-1.37-1.37c-.4-.4-.92-.59-1.43-.59-.52 0-1.04.2-1.43.59L10.3 9.45l-7.72 7.72c-.78.78-.78 2.05 0 2.83L4 21.41c.39.39.9.59 1.41.59.51 0 1.02-.2 1.41-.59l7.78-7.78 2.81-2.81c.8-.78.8-2.07 0-2.86zM5.41 20L4 18.59l7.72-7.72 1.47 1.35L5.41 20z\"/>\n",
              "  </svg>\n",
              "      </button>\n",
              "      \n",
              "  <style>\n",
              "    .colab-df-container {\n",
              "      display:flex;\n",
              "      flex-wrap:wrap;\n",
              "      gap: 12px;\n",
              "    }\n",
              "\n",
              "    .colab-df-convert {\n",
              "      background-color: #E8F0FE;\n",
              "      border: none;\n",
              "      border-radius: 50%;\n",
              "      cursor: pointer;\n",
              "      display: none;\n",
              "      fill: #1967D2;\n",
              "      height: 32px;\n",
              "      padding: 0 0 0 0;\n",
              "      width: 32px;\n",
              "    }\n",
              "\n",
              "    .colab-df-convert:hover {\n",
              "      background-color: #E2EBFA;\n",
              "      box-shadow: 0px 1px 2px rgba(60, 64, 67, 0.3), 0px 1px 3px 1px rgba(60, 64, 67, 0.15);\n",
              "      fill: #174EA6;\n",
              "    }\n",
              "\n",
              "    [theme=dark] .colab-df-convert {\n",
              "      background-color: #3B4455;\n",
              "      fill: #D2E3FC;\n",
              "    }\n",
              "\n",
              "    [theme=dark] .colab-df-convert:hover {\n",
              "      background-color: #434B5C;\n",
              "      box-shadow: 0px 1px 3px 1px rgba(0, 0, 0, 0.15);\n",
              "      filter: drop-shadow(0px 1px 2px rgba(0, 0, 0, 0.3));\n",
              "      fill: #FFFFFF;\n",
              "    }\n",
              "  </style>\n",
              "\n",
              "      <script>\n",
              "        const buttonEl =\n",
              "          document.querySelector('#df-6608812e-f471-481c-8685-8d3b81f32059 button.colab-df-convert');\n",
              "        buttonEl.style.display =\n",
              "          google.colab.kernel.accessAllowed ? 'block' : 'none';\n",
              "\n",
              "        async function convertToInteractive(key) {\n",
              "          const element = document.querySelector('#df-6608812e-f471-481c-8685-8d3b81f32059');\n",
              "          const dataTable =\n",
              "            await google.colab.kernel.invokeFunction('convertToInteractive',\n",
              "                                                     [key], {});\n",
              "          if (!dataTable) return;\n",
              "\n",
              "          const docLinkHtml = 'Like what you see? Visit the ' +\n",
              "            '<a target=\"_blank\" href=https://colab.research.google.com/notebooks/data_table.ipynb>data table notebook</a>'\n",
              "            + ' to learn more about interactive tables.';\n",
              "          element.innerHTML = '';\n",
              "          dataTable['output_type'] = 'display_data';\n",
              "          await google.colab.output.renderOutput(dataTable, element);\n",
              "          const docLink = document.createElement('div');\n",
              "          docLink.innerHTML = docLinkHtml;\n",
              "          element.appendChild(docLink);\n",
              "        }\n",
              "      </script>\n",
              "    </div>\n",
              "  </div>\n",
              "  "
            ]
          },
          "metadata": {},
          "execution_count": 10
        }
      ]
    },
    {
      "cell_type": "markdown",
      "metadata": {
        "id": "aa6SQbeeKpPQ"
      },
      "source": [
        "Выделяем данные для обучения"
      ]
    },
    {
      "cell_type": "code",
      "execution_count": 11,
      "metadata": {
        "id": "51-1CpF7Kpxp"
      },
      "outputs": [],
      "source": [
        "posts_train = train['clean_text']\n",
        "posts_test = test['clean_text']"
      ]
    },
    {
      "cell_type": "code",
      "execution_count": 12,
      "metadata": {
        "colab": {
          "base_uri": "https://localhost:8080/"
        },
        "id": "p-REVP6TKwiT",
        "outputId": "9e1b1209-67b8-4a81-e9cb-5bb66772b0a6"
      },
      "outputs": [
        {
          "output_type": "execute_result",
          "data": {
            "text/plain": [
              "416     когда ну все просто против тебя😅\n",
              "8101         мозгов то осталось немного😃\n",
              "4600            телеграм этим славится 🤭\n",
              "5931                                хз 🤣\n",
              "7539             норм  с мишей там.....😱\n",
              "Name: clean_text, dtype: object"
            ]
          },
          "metadata": {},
          "execution_count": 12
        }
      ],
      "source": [
        "posts_train[:5]"
      ]
    },
    {
      "cell_type": "code",
      "source": [
        "posts_test[:5]"
      ],
      "metadata": {
        "colab": {
          "base_uri": "https://localhost:8080/"
        },
        "id": "DS6JtUShqXra",
        "outputId": "c16b1185-b756-4dab-d034-b49b70439373"
      },
      "execution_count": 13,
      "outputs": [
        {
          "output_type": "execute_result",
          "data": {
            "text/plain": [
              "8112                             или стёкл как трезвышко😅\n",
              "7290                                      одни в кровати😆\n",
              "5976                                    такой же вопрос 😁\n",
              "169     для мужчин это очень большое признание в чувст...\n",
              "3266                                ой ну я же серьезно 😹\n",
              "Name: clean_text, dtype: object"
            ]
          },
          "metadata": {},
          "execution_count": 13
        }
      ]
    },
    {
      "cell_type": "markdown",
      "metadata": {
        "id": "v00GFQHmK3MD"
      },
      "source": [
        "Выделяем правильные ответы"
      ]
    },
    {
      "cell_type": "code",
      "execution_count": 14,
      "metadata": {
        "id": "cuCfe6prK4MQ"
      },
      "outputs": [],
      "source": [
        "y_train = utils.to_categorical(train['class'], nb_classes)"
      ]
    },
    {
      "cell_type": "code",
      "execution_count": 15,
      "metadata": {
        "colab": {
          "base_uri": "https://localhost:8080/"
        },
        "id": "NBdT9klcLEaa",
        "outputId": "1e01e02a-08fc-4d1c-9a60-bd7c69a394cf"
      },
      "outputs": [
        {
          "output_type": "execute_result",
          "data": {
            "text/plain": [
              "array([[1., 0., 0., ..., 0., 0., 0.],\n",
              "       [1., 0., 0., ..., 0., 0., 0.],\n",
              "       [0., 1., 0., ..., 0., 0., 0.],\n",
              "       ...,\n",
              "       [1., 0., 0., ..., 0., 0., 0.],\n",
              "       [1., 0., 0., ..., 0., 0., 0.],\n",
              "       [1., 0., 0., ..., 0., 0., 0.]], dtype=float32)"
            ]
          },
          "metadata": {},
          "execution_count": 15
        }
      ],
      "source": [
        "y_train"
      ]
    },
    {
      "cell_type": "code",
      "source": [
        "y_test = utils.to_categorical(test['class'], nb_classes)"
      ],
      "metadata": {
        "id": "cEoVNiS6qfYZ"
      },
      "execution_count": 16,
      "outputs": []
    },
    {
      "cell_type": "code",
      "source": [
        "y_test"
      ],
      "metadata": {
        "colab": {
          "base_uri": "https://localhost:8080/"
        },
        "id": "PXhXDB4oqi5n",
        "outputId": "924d0e62-04c7-4bd7-c1b6-f5c1160280f4"
      },
      "execution_count": 17,
      "outputs": [
        {
          "output_type": "execute_result",
          "data": {
            "text/plain": [
              "array([[1., 0., 0., ..., 0., 0., 0.],\n",
              "       [1., 0., 0., ..., 0., 0., 0.],\n",
              "       [1., 0., 0., ..., 0., 0., 0.],\n",
              "       ...,\n",
              "       [0., 0., 0., ..., 0., 0., 0.],\n",
              "       [1., 0., 0., ..., 0., 0., 0.],\n",
              "       [1., 0., 0., ..., 0., 0., 0.]], dtype=float32)"
            ]
          },
          "metadata": {},
          "execution_count": 17
        }
      ]
    },
    {
      "cell_type": "markdown",
      "metadata": {
        "id": "Xx_2E74JLWV5"
      },
      "source": [
        "## Токенизация текста"
      ]
    },
    {
      "cell_type": "markdown",
      "metadata": {
        "id": "J2cme4JbLds2"
      },
      "source": [
        "Создаем токенизатор Keras"
      ]
    },
    {
      "cell_type": "code",
      "execution_count": 18,
      "metadata": {
        "id": "V2f-0OOhLeNu"
      },
      "outputs": [],
      "source": [
        "tokenizer = Tokenizer(num_words=num_words)"
      ]
    },
    {
      "cell_type": "markdown",
      "metadata": {
        "id": "0tM5knH1LkE5"
      },
      "source": [
        "Обучаем токенизатор на постах"
      ]
    },
    {
      "cell_type": "code",
      "execution_count": 19,
      "metadata": {
        "id": "RhoT2Bo6LjKl"
      },
      "outputs": [],
      "source": [
        "tokenizer.fit_on_texts(posts_train)"
      ]
    },
    {
      "cell_type": "markdown",
      "metadata": {
        "id": "8qpydqN2LsKX"
      },
      "source": [
        "Просматриваем словарь токенизатора"
      ]
    },
    {
      "cell_type": "code",
      "execution_count": 20,
      "metadata": {
        "colab": {
          "base_uri": "https://localhost:8080/"
        },
        "id": "5LFHB8LNLs-4",
        "outputId": "2256ae4f-4267-4213-8474-4bed2f3e7732"
      },
      "outputs": [
        {
          "output_type": "execute_result",
          "data": {
            "text/plain": [
              "{'не': 1,\n",
              " 'и': 2,\n",
              " 'в': 3,\n",
              " '🤣': 4,\n",
              " 'а': 5,\n",
              " 'это': 6,\n",
              " 'что': 7,\n",
              " 'я': 8,\n",
              " 'на': 9,\n",
              " '😂': 10,\n",
              " '😁': 11,\n",
              " 'у': 12,\n",
              " 'так': 13,\n",
              " 'с': 14,\n",
              " 'как': 15,\n",
              " '😅': 16,\n",
              " 'то': 17,\n",
              " 'ты': 18,\n",
              " 'ну': 19,\n",
              " '😄': 20,\n",
              " 'да': 21,\n",
              " '🤔': 22,\n",
              " 'за': 23,\n",
              " 'вот': 24,\n",
              " 'же': 25,\n",
              " 'вы': 26,\n",
              " 'все': 27,\n",
              " 'по': 28,\n",
              " 'тоже': 29,\n",
              " '😉': 30,\n",
              " 'уже': 31,\n",
              " '😊': 32,\n",
              " '😆': 33,\n",
              " '😏': 34,\n",
              " 'он': 35,\n",
              " 'просто': 36,\n",
              " 'бы': 37,\n",
              " 'мне': 38,\n",
              " 'когда': 39,\n",
              " 'меня': 40,\n",
              " 'только': 41,\n",
              " 'если': 42,\n",
              " 'для': 43,\n",
              " 'есть': 44,\n",
              " 'ещё': 45,\n",
              " '😃': 46,\n",
              " '😍': 47,\n",
              " 'из': 48,\n",
              " 'спасибо': 49,\n",
              " 'там': 50,\n",
              " 'она': 51,\n",
              " 'нет': 52,\n",
              " 'но': 53,\n",
              " 'они': 54,\n",
              " 'от': 55,\n",
              " 'кто': 56,\n",
              " 'к': 57,\n",
              " '😎': 58,\n",
              " 'очень': 59,\n",
              " 'всё': 60,\n",
              " '😳': 61,\n",
              " 'было': 62,\n",
              " 'можно': 63,\n",
              " 'надо': 64,\n",
              " 'будет': 65,\n",
              " 'тебя': 66,\n",
              " '❤': 67,\n",
              " 'без': 68,\n",
              " 'вообще': 69,\n",
              " 'или': 70,\n",
              " 'даже': 71,\n",
              " 'до': 72,\n",
              " 'тебе': 73,\n",
              " 'тогда': 74,\n",
              " 'может': 75,\n",
              " 'его': 76,\n",
              " 'этот': 77,\n",
              " 'зачем': 78,\n",
              " 'вас': 79,\n",
              " 'какой': 80,\n",
              " 'где': 81,\n",
              " 'лучше': 82,\n",
              " 'вам': 83,\n",
              " 'тут': 84,\n",
              " 'чем': 85,\n",
              " 'о': 86,\n",
              " 'почему': 87,\n",
              " 'точно': 88,\n",
              " 'еще': 89,\n",
              " 'такой': 90,\n",
              " 'про': 91,\n",
              " 'после': 92,\n",
              " '😀': 93,\n",
              " 'их': 94,\n",
              " 'её': 95,\n",
              " '🙄': 96,\n",
              " 'больше': 97,\n",
              " 'фильм': 98,\n",
              " 'хорошо': 99,\n",
              " 'мы': 100,\n",
              " 'фото': 101,\n",
              " 'теперь': 102,\n",
              " 'раз': 103,\n",
              " 'ли': 104,\n",
              " '🙂': 105,\n",
              " 'какая': 106,\n",
              " '😐': 107,\n",
              " 'такая': 108,\n",
              " 'конечно': 109,\n",
              " 'всегда': 110,\n",
              " '😌': 111,\n",
              " 'такое': 112,\n",
              " '🤡': 113,\n",
              " 'такие': 114,\n",
              " 'сразу': 115,\n",
              " 'под': 116,\n",
              " '🙃': 117,\n",
              " 'был': 118,\n",
              " 'них': 119,\n",
              " 'какие': 120,\n",
              " 'сам': 121,\n",
              " 'время': 122,\n",
              " 'сколько': 123,\n",
              " 'интересно': 124,\n",
              " 'вк': 125,\n",
              " 'нас': 126,\n",
              " 'сейчас': 127,\n",
              " 'хоть': 128,\n",
              " 'этом': 129,\n",
              " '🤗': 130,\n",
              " '😢': 131,\n",
              " 'лет': 132,\n",
              " 'ага': 133,\n",
              " 'себя': 134,\n",
              " 'кого': 135,\n",
              " 'этого': 136,\n",
              " 'нужно': 137,\n",
              " 'во': 138,\n",
              " 'со': 139,\n",
              " 'себе': 140,\n",
              " 'него': 141,\n",
              " 'была': 142,\n",
              " 'всех': 143,\n",
              " 'чего': 144,\n",
              " 'ему': 145,\n",
              " 'главное': 146,\n",
              " 'ничего': 147,\n",
              " 'эти': 148,\n",
              " 'ни': 149,\n",
              " '😔': 150,\n",
              " '😜': 151,\n",
              " 'смотреть': 152,\n",
              " 'быть': 153,\n",
              " '🙈': 154,\n",
              " 'прям': 155,\n",
              " 'человек': 156,\n",
              " '🥰': 157,\n",
              " '☺️': 158,\n",
              " 'чтобы': 159,\n",
              " 'таких': 160,\n",
              " 'такого': 161,\n",
              " 'мой': 162,\n",
              " 'куда': 163,\n",
              " 'пока': 164,\n",
              " '😱': 165,\n",
              " 'кому': 166,\n",
              " 'потому': 167,\n",
              " 'один': 168,\n",
              " 'зато': 169,\n",
              " 'об': 170,\n",
              " '☺': 171,\n",
              " 'вроде': 172,\n",
              " 'муж': 173,\n",
              " 'кажется': 174,\n",
              " '💣': 175,\n",
              " 'уж': 176,\n",
              " 'тот': 177,\n",
              " 'всего': 178,\n",
              " '💔': 179,\n",
              " 'самое': 180,\n",
              " 'жизнь': 181,\n",
              " 'ее': 182,\n",
              " 'потом': 183,\n",
              " 'значит': 184,\n",
              " 'им': 185,\n",
              " 'самый': 186,\n",
              " 'через': 187,\n",
              " 'та': 188,\n",
              " 'че': 189,\n",
              " '😡': 190,\n",
              " 'наверное': 191,\n",
              " 'именно': 192,\n",
              " 'деньги': 193,\n",
              " '3': 194,\n",
              " '🤩': 195,\n",
              " 'здесь': 196,\n",
              " 'согласен': 197,\n",
              " 'ей': 198,\n",
              " 'чтоб': 199,\n",
              " 'выглядит': 200,\n",
              " 'знаю': 201,\n",
              " 'ваш': 202,\n",
              " 'сериал': 203,\n",
              " '🖤': 204,\n",
              " '😬': 205,\n",
              " 'новый': 206,\n",
              " 'эту': 207,\n",
              " 'свой': 208,\n",
              " '❤️': 209,\n",
              " 'буду': 210,\n",
              " 'могу': 211,\n",
              " '2': 212,\n",
              " 'день': 213,\n",
              " 'скоро': 214,\n",
              " '🤢': 215,\n",
              " '🥺': 216,\n",
              " 'немного': 217,\n",
              " '💩': 218,\n",
              " 'жизни': 219,\n",
              " 'этой': 220,\n",
              " 'думаю': 221,\n",
              " 'лучший': 222,\n",
              " 'возможно': 223,\n",
              " 'делать': 224,\n",
              " 'ладно': 225,\n",
              " 'правильно': 226,\n",
              " 'равно': 227,\n",
              " 'люди': 228,\n",
              " 'видимо': 229,\n",
              " 'пожалуйста': 230,\n",
              " 'пор': 231,\n",
              " 'чё': 232,\n",
              " '😒': 233,\n",
              " 'нам': 234,\n",
              " 'каждый': 235,\n",
              " 'хороший': 236,\n",
              " 'оно': 237,\n",
              " 'одной': 238,\n",
              " 'понятно': 239,\n",
              " 'который': 240,\n",
              " 'сих': 241,\n",
              " 'иногда': 242,\n",
              " '🤨': 243,\n",
              " '🥵': 244,\n",
              " 'любовь': 245,\n",
              " 'думал': 246,\n",
              " 'долго': 247,\n",
              " 'стоит': 248,\n",
              " 'понял': 249,\n",
              " 'смотрел': 250,\n",
              " '😨': 251,\n",
              " 'фильмы': 252,\n",
              " 'иди': 253,\n",
              " 'кайф': 254,\n",
              " 'будут': 255,\n",
              " 'смотрю': 256,\n",
              " 'были': 257,\n",
              " 'сегодня': 258,\n",
              " '🧐': 259,\n",
              " 'этим': 260,\n",
              " 'сама': 261,\n",
              " '😹': 262,\n",
              " 'дело': 263,\n",
              " 'девочки': 264,\n",
              " 'совсем': 265,\n",
              " 'смешно': 266,\n",
              " 'нравится': 267,\n",
              " 'наши': 268,\n",
              " 'сначала': 269,\n",
              " '😮': 270,\n",
              " '😈': 271,\n",
              " 'этих': 272,\n",
              " '🙀': 273,\n",
              " '4': 274,\n",
              " 'дальше': 275,\n",
              " 'полностью': 276,\n",
              " '💯': 277,\n",
              " 'пусть': 278,\n",
              " 'девушки': 279,\n",
              " 'видно': 280,\n",
              " 'год': 281,\n",
              " '—': 282,\n",
              " '😇': 283,\n",
              " 'вкусно': 284,\n",
              " 'ответ': 285,\n",
              " '10': 286,\n",
              " 'мужчина': 287,\n",
              " 'всем': 288,\n",
              " 'скорее': 289,\n",
              " 'нормально': 290,\n",
              " 'треки': 291,\n",
              " '😭': 292,\n",
              " 'почти': 293,\n",
              " 'тобой': 294,\n",
              " 'вопрос': 295,\n",
              " 'первый': 296,\n",
              " 'везде': 297,\n",
              " 'эта': 298,\n",
              " 'момент': 299,\n",
              " 'понимаю': 300,\n",
              " 'получается': 301,\n",
              " 'нельзя': 302,\n",
              " 'много': 303,\n",
              " 'работает': 304,\n",
              " 'никто': 305,\n",
              " 'том': 306,\n",
              " 'дня': 307,\n",
              " 'счастье': 308,\n",
              " 'нее': 309,\n",
              " 'таки': 310,\n",
              " 'мама': 311,\n",
              " 'детей': 312,\n",
              " 'давно': 313,\n",
              " 'хочу': 314,\n",
              " 'сами': 315,\n",
              " 'того': 316,\n",
              " 'хотя': 317,\n",
              " 'сделать': 318,\n",
              " 'людей': 319,\n",
              " 'найти': 320,\n",
              " 'своей': 321,\n",
              " 'друг': 322,\n",
              " 'действительно': 323,\n",
              " 'реально': 324,\n",
              " 'ох': 325,\n",
              " 'похоже': 326,\n",
              " 'сказал': 327,\n",
              " 'норм': 328,\n",
              " 'вижу': 329,\n",
              " 'каком': 330,\n",
              " '100': 331,\n",
              " 'при': 332,\n",
              " 'твой': 333,\n",
              " 'бывает': 334,\n",
              " 'весь': 335,\n",
              " 'nrmusicru': 336,\n",
              " 'отец': 337,\n",
              " 'особенно': 338,\n",
              " 'блин': 339,\n",
              " 'люблю': 340,\n",
              " 'свою': 341,\n",
              " 'одна': 342,\n",
              " '😑': 343,\n",
              " 'молодец': 344,\n",
              " 'подумала': 345,\n",
              " '💦': 346,\n",
              " 'девушка': 347,\n",
              " 'страшно': 348,\n",
              " 'щас': 349,\n",
              " 'мало': 350,\n",
              " 'пару': 351,\n",
              " 'неё': 352,\n",
              " 'красивая': 353,\n",
              " 'сказать': 354,\n",
              " 'жаль': 355,\n",
              " 'фотографии': 356,\n",
              " 'кот': 357,\n",
              " 'ой': 358,\n",
              " 'комментарий': 359,\n",
              " 'странно': 360,\n",
              " 'своего': 361,\n",
              " '💙': 362,\n",
              " 'второй': 363,\n",
              " 'женщина': 364,\n",
              " 'согласна': 365,\n",
              " 'россии': 366,\n",
              " 'два': 367,\n",
              " 'ходу': 368,\n",
              " 'написал': 369,\n",
              " 'vk': 370,\n",
              " 'красотка': 371,\n",
              " 'ля': 372,\n",
              " 'либо': 373,\n",
              " 'свои': 374,\n",
              " 'своим': 375,\n",
              " 'спит': 376,\n",
              " 'история': 377,\n",
              " 'хочется': 378,\n",
              " 'моя': 379,\n",
              " 'мои': 380,\n",
              " 'года': 381,\n",
              " 'видео': 382,\n",
              " 'думала': 383,\n",
              " 'посмотреть': 384,\n",
              " '😩': 385,\n",
              " 'посмотрите': 386,\n",
              " 'голове': 387,\n",
              " 'кино': 388,\n",
              " 'ней': 389,\n",
              " 'говорят': 390,\n",
              " 'никогда': 391,\n",
              " 'ж': 392,\n",
              " 'откуда': 393,\n",
              " 'туда': 394,\n",
              " 'надеюсь': 395,\n",
              " 'слова': 396,\n",
              " '🤮': 397,\n",
              " 'какое': 398,\n",
              " 'помню': 399,\n",
              " '🤭': 400,\n",
              " 'обычно': 401,\n",
              " 'нибудь': 402,\n",
              " 'опять': 403,\n",
              " 'пиши': 404,\n",
              " 'правда': 405,\n",
              " 'те': 406,\n",
              " '🥲': 407,\n",
              " 'слишком': 408,\n",
              " 'нужна': 409,\n",
              " '1': 410,\n",
              " 'назад': 411,\n",
              " 'мужа': 412,\n",
              " 'получилось': 413,\n",
              " 'жена': 414,\n",
              " 'доброе': 415,\n",
              " 'стало': 416,\n",
              " 'мужчины': 417,\n",
              " 'походу': 418,\n",
              " 'свое': 419,\n",
              " 'разве': 420,\n",
              " 'ноги': 421,\n",
              " 'одного': 422,\n",
              " 'посмотрел': 423,\n",
              " '🤪': 424,\n",
              " 'супер': 425,\n",
              " 'женщины': 426,\n",
              " 'такую': 427,\n",
              " 'минут': 428,\n",
              " 'семья': 429,\n",
              " 'знаете': 430,\n",
              " 'настоящая': 431,\n",
              " 'тем': 432,\n",
              " 'более': 433,\n",
              " 'снимать': 434,\n",
              " '40': 435,\n",
              " 'будем': 436,\n",
              " 'отличный': 437,\n",
              " 'нашли': 438,\n",
              " 'любит': 439,\n",
              " 'отмечаемся': 440,\n",
              " 'ваша': 441,\n",
              " 'которые': 442,\n",
              " 'привет': 443,\n",
              " 'утро': 444,\n",
              " 'сделал': 445,\n",
              " '😲': 446,\n",
              " 'вместе': 447,\n",
              " 'лишь': 448,\n",
              " 'сильно': 449,\n",
              " 'хотел': 450,\n",
              " 'б': 451,\n",
              " 'могут': 452,\n",
              " 'вместо': 453,\n",
              " '5': 454,\n",
              " 'другое': 455,\n",
              " 'идет': 456,\n",
              " 'малыш': 457,\n",
              " 'твоя': 458,\n",
              " 'жиза': 459,\n",
              " 'повезло': 460,\n",
              " '9': 461,\n",
              " 'поняла': 462,\n",
              " 'самая': 463,\n",
              " 'человека': 464,\n",
              " 'этому': 465,\n",
              " 'знать': 466,\n",
              " 'маму': 467,\n",
              " 'ночной': 468,\n",
              " 'две': 469,\n",
              " 'топ': 470,\n",
              " '50': 471,\n",
              " 'явно': 472,\n",
              " 'дети': 473,\n",
              " 'моему': 474,\n",
              " 'против': 475,\n",
              " 'намного': 476,\n",
              " 'интересный': 477,\n",
              " 'смотрела': 478,\n",
              " 'между': 479,\n",
              " 'сюда': 480,\n",
              " 'ок': 481,\n",
              " '🤤': 482,\n",
              " 'мужик': 483,\n",
              " '🤠': 484,\n",
              " 'обязательно': 485,\n",
              " '🤧': 486,\n",
              " 'плохо': 487,\n",
              " 'удивительно': 488,\n",
              " 'хотела': 489,\n",
              " 'фамилия': 490,\n",
              " '🤍': 491,\n",
              " 'жду': 492,\n",
              " 'три': 493,\n",
              " 'сэры': 494,\n",
              " 'столько': 495,\n",
              " '8': 496,\n",
              " 'красивые': 497,\n",
              " 'родители': 498,\n",
              " 'автор': 499,\n",
              " 'эх': 500,\n",
              " 'многие': 501,\n",
              " 'называется': 502,\n",
              " 'хорошего': 503,\n",
              " 'жалко': 504,\n",
              " 'добрый': 505,\n",
              " 'девочка': 506,\n",
              " 'чём': 507,\n",
              " 'новые': 508,\n",
              " 'будто': 509,\n",
              " 'дома': 510,\n",
              " 'приятно': 511,\n",
              " 'пора': 512,\n",
              " 'работать': 513,\n",
              " 'ради': 514,\n",
              " 'которой': 515,\n",
              " 'хочешь': 516,\n",
              " 'парень': 517,\n",
              " 'доводит': 518,\n",
              " 'видел': 519,\n",
              " 'наверно': 520,\n",
              " 'самые': 521,\n",
              " '😘': 522,\n",
              " 'шикарная': 523,\n",
              " 'посмотрю': 524,\n",
              " 'писать': 525,\n",
              " 'плейлист': 526,\n",
              " 'каждого': 527,\n",
              " 'никому': 528,\n",
              " 'верно': 529,\n",
              " 'любимый': 530,\n",
              " 'фильма': 531,\n",
              " 'говно': 532,\n",
              " 'купить': 533,\n",
              " 'судя': 534,\n",
              " 'всю': 535,\n",
              " 'мальчик': 536,\n",
              " 'одно': 537,\n",
              " 'давай': 538,\n",
              " 'прекрасная': 539,\n",
              " 'идёт': 540,\n",
              " 'так😅': 541,\n",
              " 'лучшее': 542,\n",
              " 'аж': 543,\n",
              " 'похож': 544,\n",
              " 'некоторые': 545,\n",
              " 'детства': 546,\n",
              " 'взять': 547,\n",
              " 'наконец': 548,\n",
              " 'большое': 549,\n",
              " 'отношения': 550,\n",
              " 'бред': 551,\n",
              " 'фильме': 552,\n",
              " 'радости': 553,\n",
              " 'серии': 554,\n",
              " 'проблем': 555,\n",
              " 'типо': 556,\n",
              " 'верю': 557,\n",
              " 'вкус': 558,\n",
              " 'стала': 559,\n",
              " '😰': 560,\n",
              " 'вариант': 561,\n",
              " '😕': 562,\n",
              " 'чебурашка': 563,\n",
              " 'точно🤣': 564,\n",
              " 'чел': 565,\n",
              " 'фотки': 566,\n",
              " 'нужны': 567,\n",
              " 'серия': 568,\n",
              " 'красавчик': 569,\n",
              " 'поздравляю': 570,\n",
              " 'новым': 571,\n",
              " 'раньше': 572,\n",
              " 'чувство': 573,\n",
              " 'друга': 574,\n",
              " 'дай': 575,\n",
              " 'своих': 576,\n",
              " 'знает': 577,\n",
              " 'похожа': 578,\n",
              " 'следите': 579,\n",
              " 'чему': 580,\n",
              " 'должен': 581,\n",
              " 'желательно': 582,\n",
              " 'ахах': 583,\n",
              " 'должна': 584,\n",
              " 'большой': 585,\n",
              " 'утром': 586,\n",
              " 'таким': 587,\n",
              " 'горячий': 588,\n",
              " '20': 589,\n",
              " 'каждой': 590,\n",
              " 'новое': 591,\n",
              " 'поймут': 592,\n",
              " 'постоянно': 593,\n",
              " 'телефон': 594,\n",
              " 'пол': 595,\n",
              " 'коммент': 596,\n",
              " 'актёр': 597,\n",
              " 'благодарю': 598,\n",
              " 'детстве': 599,\n",
              " 'часть': 600,\n",
              " 'сделали': 601,\n",
              " 'делает': 602,\n",
              " 'части': 603,\n",
              " 'работы': 604,\n",
              " 'своем': 605,\n",
              " 'русские': 606,\n",
              " 'ревность💔': 607,\n",
              " 'приложение': 608,\n",
              " '🤫': 609,\n",
              " 'написать': 610,\n",
              " 'папа': 611,\n",
              " 'пример': 612,\n",
              " 'слово': 613,\n",
              " 'прав': 614,\n",
              " 'такими': 615,\n",
              " 'честно': 616,\n",
              " 'трек': 617,\n",
              " '😝': 618,\n",
              " 'снова': 619,\n",
              " '😥': 620,\n",
              " 'последний': 621,\n",
              " '💚': 622,\n",
              " 'возраст': 623,\n",
              " 'узнал': 624,\n",
              " 'быстро': 625,\n",
              " 'женщин': 626,\n",
              " 'юмор': 627,\n",
              " 'нормальный': 628,\n",
              " 'домой': 629,\n",
              " 'самом': 630,\n",
              " 'вашей': 631,\n",
              " 'нашла': 632,\n",
              " 'вами': 633,\n",
              " 'игра': 634,\n",
              " 'сети': 635,\n",
              " 'спать': 636,\n",
              " 'горячо': 637,\n",
              " 'дак': 638,\n",
              " '14': 639,\n",
              " '😟': 640,\n",
              " 'понравилось': 641,\n",
              " 'заметил': 642,\n",
              " 'букет': 643,\n",
              " 'проблема': 644,\n",
              " 'е': 645,\n",
              " 'спросить': 646,\n",
              " 'красивый': 647,\n",
              " '7': 648,\n",
              " 'своими': 649,\n",
              " 'серию': 650,\n",
              " 'своё': 651,\n",
              " 'додуматься': 652,\n",
              " 'ведь': 653,\n",
              " 'руки': 654,\n",
              " 'сын': 655,\n",
              " '😯': 656,\n",
              " 'делаю': 657,\n",
              " 'узнать': 658,\n",
              " '🤯': 659,\n",
              " 'иначе': 660,\n",
              " 'боже': 661,\n",
              " 'забыл': 662,\n",
              " 'россия': 663,\n",
              " 'разница': 664,\n",
              " 'молодцы': 665,\n",
              " 'новая': 666,\n",
              " 'взгляд': 667,\n",
              " 'наступающим': 668,\n",
              " 'посмотри': 669,\n",
              " 'очевидно': 670,\n",
              " 'наших': 671,\n",
              " 'думаешь': 672,\n",
              " 'дизайн': 673,\n",
              " 'конец': 674,\n",
              " 'писал': 675,\n",
              " 'пара': 676,\n",
              " 'отлично': 677,\n",
              " 'глаза': 678,\n",
              " 'ждал': 679,\n",
              " 'лицо': 680,\n",
              " 'будущее': 681,\n",
              " 'добро': 682,\n",
              " 'клоун': 683,\n",
              " 'занимаются': 684,\n",
              " 'которая': 685,\n",
              " 'скучно': 686,\n",
              " 'твои': 687,\n",
              " 'своему': 688,\n",
              " 'скажи': 689,\n",
              " 'шикарные': 690,\n",
              " 'говорится': 691,\n",
              " 'говорит': 692,\n",
              " 'да🤣': 693,\n",
              " 'завтра': 694,\n",
              " 'лайк': 695,\n",
              " 'бабушки': 696,\n",
              " 'меган': 697,\n",
              " 'дайте': 698,\n",
              " 'наша': 699,\n",
              " 'недавно': 700,\n",
              " 'также': 701,\n",
              " 'deep': 702,\n",
              " 'девушке': 703,\n",
              " 'нет🤣': 704,\n",
              " '6': 705,\n",
              " 'мир': 706,\n",
              " 'дочь': 707,\n",
              " '60': 708,\n",
              " '😵': 709,\n",
              " 'нету': 710,\n",
              " 'хорош': 711,\n",
              " 'zenly': 712,\n",
              " 'пойду': 713,\n",
              " 'языка': 714,\n",
              " 'слава': 715,\n",
              " 'легко': 716,\n",
              " 'рождения': 717,\n",
              " 'музыку': 718,\n",
              " 'ждать': 719,\n",
              " 'истории': 720,\n",
              " 'record': 721,\n",
              " 'утра': 722,\n",
              " 'показалось': 723,\n",
              " 'баба': 724,\n",
              " 'пробовал': 725,\n",
              " 'музыка': 726,\n",
              " 'природа': 727,\n",
              " 'ужас': 728,\n",
              " 'серьёзно': 729,\n",
              " 'сарказм': 730,\n",
              " 'тест': 731,\n",
              " 'помощь': 732,\n",
              " 'заметили': 733,\n",
              " 'новинки': 734,\n",
              " 'ахаха': 735,\n",
              " 'обожаю': 736,\n",
              " 'смотря': 737,\n",
              " 'написано': 738,\n",
              " 'ними': 739,\n",
              " 'факт': 740,\n",
              " 'life': 741,\n",
              " 'информация': 742,\n",
              " 'совпало': 743,\n",
              " 'делают': 744,\n",
              " 'пытается': 745,\n",
              " 'счастья': 746,\n",
              " 'мужем': 747,\n",
              " 'х': 748,\n",
              " 'одним': 749,\n",
              " 'оба': 750,\n",
              " 'держит': 751,\n",
              " '11': 752,\n",
              " 'реклама': 753,\n",
              " 'ах': 754,\n",
              " 'эт': 755,\n",
              " 'месте': 756,\n",
              " 'цвет': 757,\n",
              " 'первую': 758,\n",
              " 'подарок': 759,\n",
              " 'бабушка': 760,\n",
              " 'профиль': 761,\n",
              " 'случай': 762,\n",
              " 'случае': 763,\n",
              " 'умер': 764,\n",
              " 'представить': 765,\n",
              " 'интернета': 766,\n",
              " 'видела': 767,\n",
              " 'брат': 768,\n",
              " 'чисто': 769,\n",
              " 'перед': 770,\n",
              " 'фигня': 771,\n",
              " 'сердце': 772,\n",
              " 'любви': 773,\n",
              " 'дурак': 774,\n",
              " 'ого': 775,\n",
              " '😸': 776,\n",
              " 'красиво': 777,\n",
              " 'помните': 778,\n",
              " 'нет😄': 779,\n",
              " 'великий': 780,\n",
              " 'ним': 781,\n",
              " 'тема': 782,\n",
              " 'наоборот': 783,\n",
              " 'узнала': 784,\n",
              " 'говорю': 785,\n",
              " 'новостями': 786,\n",
              " 'ощущение': 787,\n",
              " 'очередь': 788,\n",
              " 'шикарный': 789,\n",
              " 'понять': 790,\n",
              " 'дядя': 791,\n",
              " 'обратно': 792,\n",
              " 'танки': 793,\n",
              " 'мать': 794,\n",
              " 'господи': 795,\n",
              " 'чуть': 796,\n",
              " 'выше': 797,\n",
              " 'ребёнок': 798,\n",
              " 'вечер': 799,\n",
              " 'весьма': 800,\n",
              " 'следующий': 801,\n",
              " 'бедная': 802,\n",
              " 'поняли': 803,\n",
              " 'мозги': 804,\n",
              " 'ааа': 805,\n",
              " 'спокойно': 806,\n",
              " 'оо': 807,\n",
              " 'другой': 808,\n",
              " 'бедный': 809,\n",
              " '90': 810,\n",
              " 'никак': 811,\n",
              " 'точку': 812,\n",
              " 'думать': 813,\n",
              " 'смотрели': 814,\n",
              " 'старый': 815,\n",
              " 'получится': 816,\n",
              " 'стиле': 817,\n",
              " '2023': 818,\n",
              " 'сожалению': 819,\n",
              " 'одну': 820,\n",
              " 'нах': 821,\n",
              " 'слышал': 822,\n",
              " 'хуже': 823,\n",
              " '💞': 824,\n",
              " '🥳': 825,\n",
              " 'невероятно': 826,\n",
              " 'выглядят': 827,\n",
              " 'ходить': 828,\n",
              " '🤬': 829,\n",
              " 'ху': 830,\n",
              " 'видать': 831,\n",
              " 'над': 832,\n",
              " 'например': 833,\n",
              " 'семье': 834,\n",
              " 'шутка': 835,\n",
              " 'любой': 836,\n",
              " 'жесть': 837,\n",
              " '😤': 838,\n",
              " 'умеет': 839,\n",
              " 'красотки': 840,\n",
              " 'путина': 841,\n",
              " 'фокс': 842,\n",
              " 'будь': 843,\n",
              " 'бузовой': 844,\n",
              " 'наше': 845,\n",
              " 'https': 846,\n",
              " '🤓': 847,\n",
              " 'админ': 848,\n",
              " 'кстати': 849,\n",
              " 'фу': 850,\n",
              " 'первой': 851,\n",
              " 'видеть': 852,\n",
              " 'хотят': 853,\n",
              " 'хочет': 854,\n",
              " 'насколько': 855,\n",
              " 'причём': 856,\n",
              " 'воду': 857,\n",
              " 'бомбы': 858,\n",
              " 'богу': 859,\n",
              " 'происходит': 860,\n",
              " 'классно': 861,\n",
              " 'путин': 862,\n",
              " 'волосы': 863,\n",
              " 'каким': 864,\n",
              " 'извините': 865,\n",
              " 'брата': 866,\n",
              " 'секс': 867,\n",
              " 'какого': 868,\n",
              " 'ваше': 869,\n",
              " 'неплохо': 870,\n",
              " 'весело': 871,\n",
              " 'фантазия': 872,\n",
              " 'украина': 873,\n",
              " 'вся': 874,\n",
              " 'ваши': 875,\n",
              " 'говоришь': 876,\n",
              " 'другом': 877,\n",
              " 'новых': 878,\n",
              " 'крутой': 879,\n",
              " 'поставили': 880,\n",
              " 'a': 881,\n",
              " 'имя': 882,\n",
              " 'пост': 883,\n",
              " '💥': 884,\n",
              " 'house': 885,\n",
              " 'тему': 886,\n",
              " 'нашел': 887,\n",
              " 'макияжа': 888,\n",
              " 'батя': 889,\n",
              " 'друзей': 890,\n",
              " 'часа': 891,\n",
              " 'жопа': 892,\n",
              " 'звучит': 893,\n",
              " 'поэтому': 894,\n",
              " 'собой': 895,\n",
              " 'некоторым': 896,\n",
              " 'хорошая': 897,\n",
              " 'вконтакте': 898,\n",
              " 'чтоли': 899,\n",
              " 'будешь': 900,\n",
              " 'которого': 901,\n",
              " '😋': 902,\n",
              " 'рецепт': 903,\n",
              " '🥴': 904,\n",
              " 'удачи': 905,\n",
              " 'запомнится': 906,\n",
              " 'идёте': 907,\n",
              " 'пацаны': 908,\n",
              " 'мечта': 909,\n",
              " '💜': 910,\n",
              " 'зубы': 911,\n",
              " 'говорите': 912,\n",
              " 'хватает': 913,\n",
              " 'me': 914,\n",
              " 'комментарии': 915,\n",
              " 'круто': 916,\n",
              " 'правы': 917,\n",
              " 'смотрите': 918,\n",
              " 'р': 919,\n",
              " 'нафиг': 920,\n",
              " 'идея': 921,\n",
              " '👻': 922,\n",
              " 'придумал': 923,\n",
              " 'грудь': 924,\n",
              " 'знак': 925,\n",
              " 'лс': 926,\n",
              " 'порода': 927,\n",
              " 'тех': 928,\n",
              " 'маленькая': 929,\n",
              " 'работу': 930,\n",
              " 'нравятся': 931,\n",
              " 'папарацци': 932,\n",
              " 'поймали': 933,\n",
              " 'софи': 934,\n",
              " 'тёрнер': 935,\n",
              " 'случилось': 936,\n",
              " 'дааа': 937,\n",
              " 'конце': 938,\n",
              " 'парня': 939,\n",
              " 'цените': 940,\n",
              " 'мужчин': 941,\n",
              " 'само': 942,\n",
              " 'напиши': 943,\n",
              " 'никаких': 944,\n",
              " 'бить': 945,\n",
              " 'ооо': 946,\n",
              " 'носки': 947,\n",
              " 'таком': 948,\n",
              " 'ходят': 949,\n",
              " 'времени': 950,\n",
              " 'сочувствую': 951,\n",
              " 'идут': 952,\n",
              " 'моего': 953,\n",
              " 'любишь': 954,\n",
              " 'яйца': 955,\n",
              " 'кем': 956,\n",
              " 'милашка': 957,\n",
              " 'существует': 958,\n",
              " 'марта': 959,\n",
              " 'сто': 960,\n",
              " 'скиньте': 961,\n",
              " 'срочно': 962,\n",
              " 'план': 963,\n",
              " 'написала': 964,\n",
              " 'здоровья': 965,\n",
              " 'зимой': 966,\n",
              " 'рядом': 967,\n",
              " 'подскажите': 968,\n",
              " 'угу': 969,\n",
              " 'москве': 970,\n",
              " 'начало': 971,\n",
              " 'пацан': 972,\n",
              " 'области': 973,\n",
              " 'большие': 974,\n",
              " 'прочитала': 975,\n",
              " 'глазам': 976,\n",
              " 'ночью': 977,\n",
              " 'моей': 978,\n",
              " 'детьми': 979,\n",
              " 'любят': 980,\n",
              " 'мужчину': 981,\n",
              " 'оооо': 982,\n",
              " 'было🤣': 983,\n",
              " 'нет😉': 984,\n",
              " 'одни': 985,\n",
              " 'близко': 986,\n",
              " 'сверху': 987,\n",
              " 'прямо': 988,\n",
              " 'жопу': 989,\n",
              " 'чебурашки': 990,\n",
              " 'помогает': 991,\n",
              " 'классные': 992,\n",
              " 'окна': 993,\n",
              " 'вид': 994,\n",
              " 'вторую': 995,\n",
              " 'роль': 996,\n",
              " 'уехали': 997,\n",
              " 'будьте': 998,\n",
              " 'санкции': 999,\n",
              " 'бог': 1000,\n",
              " ...}"
            ]
          },
          "metadata": {},
          "execution_count": 20
        }
      ],
      "source": [
        "tokenizer.word_index"
      ]
    },
    {
      "cell_type": "markdown",
      "metadata": {
        "id": "XJVNNZZ3LxoV"
      },
      "source": [
        "Преобразуем посты в числовое представление"
      ]
    },
    {
      "cell_type": "code",
      "execution_count": 21,
      "metadata": {
        "id": "etjtGQi-Ly_5"
      },
      "outputs": [],
      "source": [
        "sequences_train = tokenizer.texts_to_sequences(posts_train)"
      ]
    },
    {
      "cell_type": "code",
      "execution_count": 22,
      "metadata": {
        "colab": {
          "base_uri": "https://localhost:8080/"
        },
        "id": "Le7_-In3L5Ke",
        "outputId": "d103ada0-fa4b-477d-ba82-2eafddeef06f"
      },
      "outputs": [
        {
          "output_type": "stream",
          "name": "stdout",
          "text": [
            "❤, если здесь не хватает коли\n",
            "[918, 9, 6, 101, 59, 3197, 733, 16]\n"
          ]
        }
      ],
      "source": [
        "index = 100\n",
        "print(posts_train[index])\n",
        "print(sequences_train[index])"
      ]
    },
    {
      "cell_type": "code",
      "execution_count": 23,
      "metadata": {
        "colab": {
          "base_uri": "https://localhost:8080/"
        },
        "id": "rMHbvGhZMAEw",
        "outputId": "7bef2731-1269-4764-f4a7-b39402753e9d"
      },
      "outputs": [
        {
          "output_type": "execute_result",
          "data": {
            "text/plain": [
              "196"
            ]
          },
          "metadata": {},
          "execution_count": 23
        }
      ],
      "source": [
        "tokenizer.word_index['здесь']"
      ]
    },
    {
      "cell_type": "code",
      "source": [
        "sequences_test = tokenizer.texts_to_sequences(posts_test)"
      ],
      "metadata": {
        "id": "XL3u6UIQq5Qq"
      },
      "execution_count": 24,
      "outputs": []
    },
    {
      "cell_type": "markdown",
      "metadata": {
        "id": "3k9SI8rqME-V"
      },
      "source": [
        "Ограничиваем длину постов"
      ]
    },
    {
      "cell_type": "code",
      "execution_count": 26,
      "metadata": {
        "id": "-84lOS81MGYX"
      },
      "outputs": [],
      "source": [
        "x_train = pad_sequences(sequences_train, maxlen=max_len)"
      ]
    },
    {
      "cell_type": "code",
      "source": [
        "x_test = pad_sequences(sequences_test, maxlen=max_len)"
      ],
      "metadata": {
        "id": "gZcsmXBVrA4W"
      },
      "execution_count": 27,
      "outputs": []
    },
    {
      "cell_type": "code",
      "execution_count": 28,
      "metadata": {
        "colab": {
          "base_uri": "https://localhost:8080/"
        },
        "id": "wrsd4r-ZMKpw",
        "outputId": "e13afae7-a651-4f5d-b88f-60c0ae52cfe5"
      },
      "outputs": [
        {
          "output_type": "execute_result",
          "data": {
            "text/plain": [
              "array([[   0,    0,    0,    0,    0,   39,   19,   27,   36,  475, 1669],\n",
              "       [   0,    0,    0,    0,    0,    0,    0, 1670,   17, 1155, 3060],\n",
              "       [   0,    0,    0,    0,    0,    0,    0, 1671,  260, 3061,  400],\n",
              "       [   0,    0,    0,    0,    0,    0,    0,    0,    0, 1672,    4],\n",
              "       [   0,    0,    0,    0,    0,    0,  328,   14, 3062,   50,  165]],\n",
              "      dtype=int32)"
            ]
          },
          "metadata": {},
          "execution_count": 28
        }
      ],
      "source": [
        "x_train[:5]"
      ]
    },
    {
      "cell_type": "code",
      "source": [
        "x_test[:5]"
      ],
      "metadata": {
        "colab": {
          "base_uri": "https://localhost:8080/"
        },
        "id": "m9nDydU1rGbC",
        "outputId": "9b15bbbc-c405-402e-a5a7-fc9284e3fde9"
      },
      "execution_count": 29,
      "outputs": [
        {
          "output_type": "execute_result",
          "data": {
            "text/plain": [
              "array([[   0,    0,    0,    0,    0,    0,    0,    0,    0,   70,   15],\n",
              "       [   0,    0,    0,    0,    0,    0,    0,    0,    0,  985,    3],\n",
              "       [   0,    0,    0,    0,    0,    0,    0,   90,   25,  295,   11],\n",
              "       [   0,    0,    0,    0,   43,  941,    6,   59,  549, 4468,    3],\n",
              "       [   0,    0,    0,    0,    0,  358,   19,    8,   25, 2288,  262]],\n",
              "      dtype=int32)"
            ]
          },
          "metadata": {},
          "execution_count": 29
        }
      ]
    },
    {
      "cell_type": "code",
      "execution_count": 30,
      "metadata": {
        "id": "QreFaxYL_iRo"
      },
      "outputs": [],
      "source": [
        "#def recall_m(y_true, y_pred):\n",
        " #   true_positives = K.sum(K.round(K.clip(y_true * y_pred, 0, 1)))\n",
        "  #  possible_positives = K.sum(K.round(K.clip(y_true, 0, 1)))\n",
        "   # recall = true_positives / (possible_positives + K.epsilon())\n",
        "    #return recall"
      ]
    },
    {
      "cell_type": "code",
      "execution_count": 31,
      "metadata": {
        "id": "A2pShuRU_pKO"
      },
      "outputs": [],
      "source": [
        "#def precision_m(y_true, y_pred):\n",
        " #   true_positives = K.sum(K.round(K.clip(y_true * y_pred, 0, 1)))\n",
        "  #  predicted_positives = K.sum(K.round(K.clip(y_pred, 0, 1)))\n",
        "   # precision = true_positives / (predicted_positives + K.epsilon())\n",
        "   # return precision"
      ]
    },
    {
      "cell_type": "code",
      "execution_count": 32,
      "metadata": {
        "id": "lJpGqDcD_uZK"
      },
      "outputs": [],
      "source": [
        "#def f1_m(y_true, y_pred):\n",
        " #   precision = precision_m(y_true, y_pred)\n",
        "  #  recall = recall_m(y_true, y_pred)\n",
        "   # return 2*((precision*recall)/(precision+recall+K.epsilon()))"
      ]
    },
    {
      "cell_type": "markdown",
      "metadata": {
        "id": "dViU6WEJMNyt"
      },
      "source": [
        "## Сверточная нейронная сеть"
      ]
    },
    {
      "cell_type": "code",
      "execution_count": 33,
      "metadata": {
        "id": "F8UUkNVKMOLg"
      },
      "outputs": [],
      "source": [
        "model_cnn = Sequential()\n",
        "model_cnn.add(Embedding(num_words, 32, input_length=max_len))\n",
        "model_cnn.add(Conv1D(250, 5, padding='valid', activation='relu'))\n",
        "model_cnn.add(GlobalMaxPooling1D())\n",
        "model_cnn.add(Dense(128, activation='relu'))\n",
        "model_cnn.add(Dense(15, activation='softmax'))"
      ]
    },
    {
      "cell_type": "code",
      "execution_count": 34,
      "metadata": {
        "id": "5kz7Qh0yMXYj"
      },
      "outputs": [],
      "source": [
        "model_cnn.compile(optimizer='adam', \n",
        "              loss='categorical_crossentropy', \n",
        "              metrics=['accuracy', metrics.Precision(), metrics.Recall(), metrics.F1Score(average='macro', name='f1_score_macro'), metrics.F1Score(average='micro', name='f1_score_micro'), metrics.F1Score(average='weighted', name='f1_score_weighted')]\n",
        "              )"
      ]
    },
    {
      "cell_type": "code",
      "execution_count": 35,
      "metadata": {
        "colab": {
          "base_uri": "https://localhost:8080/"
        },
        "id": "8S_qMbd1MbM-",
        "outputId": "39a7b9ce-743d-4eec-9f6f-d9820a26c9ec"
      },
      "outputs": [
        {
          "output_type": "stream",
          "name": "stdout",
          "text": [
            "Model: \"sequential\"\n",
            "_________________________________________________________________\n",
            " Layer (type)                Output Shape              Param #   \n",
            "=================================================================\n",
            " embedding (Embedding)       (None, 11, 32)            320000    \n",
            "                                                                 \n",
            " conv1d (Conv1D)             (None, 7, 250)            40250     \n",
            "                                                                 \n",
            " global_max_pooling1d (Glob  (None, 250)               0         \n",
            " alMaxPooling1D)                                                 \n",
            "                                                                 \n",
            " dense (Dense)               (None, 128)               32128     \n",
            "                                                                 \n",
            " dense_1 (Dense)             (None, 15)                1935      \n",
            "                                                                 \n",
            "=================================================================\n",
            "Total params: 394313 (1.50 MB)\n",
            "Trainable params: 394313 (1.50 MB)\n",
            "Non-trainable params: 0 (0.00 Byte)\n",
            "_________________________________________________________________\n"
          ]
        }
      ],
      "source": [
        "model_cnn.summary()"
      ]
    },
    {
      "cell_type": "markdown",
      "metadata": {
        "id": "VQsth7ZpMfTo"
      },
      "source": [
        "Создаем callback для сохранения нейронной сети на каждой эпохе, если качество работы на проверочном наборе данных улучшилось. Сеть сохраняется в файл best_model.h5"
      ]
    },
    {
      "cell_type": "code",
      "execution_count": 36,
      "metadata": {
        "id": "Wiljs7umMhTF"
      },
      "outputs": [],
      "source": [
        "model_cnn_save_path = 'best_model_cnn.h5'\n",
        "checkpoint_callback_cnn = ModelCheckpoint(model_cnn_save_path, \n",
        "                                      #monitor='val_accuracy',\n",
        "                                      save_best_only=True,\n",
        "                                      verbose=1)"
      ]
    },
    {
      "cell_type": "code",
      "execution_count": 37,
      "metadata": {
        "colab": {
          "base_uri": "https://localhost:8080/"
        },
        "id": "muN4J5QcMmiN",
        "outputId": "8f88934d-6082-46b9-a5a6-6deff62e4a8e"
      },
      "outputs": [
        {
          "output_type": "stream",
          "name": "stdout",
          "text": [
            "Epoch 1/15\n",
            "52/52 [==============================] - ETA: 0s - loss: 1.7460 - accuracy: 0.6265 - precision: 0.6419 - recall: 0.3578 - f1_score_macro: 0.0543 - f1_score_micro: 0.6265 - f1_score_weighted: 0.4965\n",
            "Epoch 1: val_loss improved from inf to 1.34511, saving model to best_model_cnn.h5\n",
            "52/52 [==============================] - 17s 113ms/step - loss: 1.7460 - accuracy: 0.6265 - precision: 0.6419 - recall: 0.3578 - f1_score_macro: 0.0543 - f1_score_micro: 0.6265 - f1_score_weighted: 0.4965 - val_loss: 1.3451 - val_accuracy: 0.6477 - val_precision: 0.6471 - val_recall: 0.6436 - val_f1_score_macro: 0.0524 - val_f1_score_micro: 0.6477 - val_f1_score_weighted: 0.5092\n",
            "Epoch 2/15\n",
            " 1/52 [..............................] - ETA: 0s - loss: 1.2474 - accuracy: 0.7188 - precision: 0.7339 - recall: 0.7109 - f1_score_macro: 0.0558 - f1_score_micro: 0.7188 - f1_score_weighted: 0.6011"
          ]
        },
        {
          "output_type": "stream",
          "name": "stderr",
          "text": [
            "/usr/local/lib/python3.10/dist-packages/keras/src/engine/training.py:3052: UserWarning: You are saving your model as an HDF5 file via `model.save()`. This file format is considered legacy. We recommend using instead the native Keras format, e.g. `model.save('my_model.keras')`.\n",
            "  saving_api.save_model(\n"
          ]
        },
        {
          "output_type": "stream",
          "name": "stdout",
          "text": [
            "52/52 [==============================] - ETA: 0s - loss: 1.2411 - accuracy: 0.6395 - precision: 0.6945 - recall: 0.5994 - f1_score_macro: 0.0520 - f1_score_micro: 0.6395 - f1_score_weighted: 0.4989\n",
            "Epoch 2: val_loss improved from 1.34511 to 1.10770, saving model to best_model_cnn.h5\n",
            "52/52 [==============================] - 6s 109ms/step - loss: 1.2411 - accuracy: 0.6395 - precision: 0.6945 - recall: 0.5994 - f1_score_macro: 0.0520 - f1_score_micro: 0.6395 - f1_score_weighted: 0.4989 - val_loss: 1.1077 - val_accuracy: 0.6545 - val_precision: 0.8730 - val_recall: 0.4472 - val_f1_score_macro: 0.0618 - val_f1_score_micro: 0.6545 - val_f1_score_weighted: 0.5239\n",
            "Epoch 3/15\n",
            "52/52 [==============================] - ETA: 0s - loss: 0.8862 - accuracy: 0.7186 - precision: 0.9421 - recall: 0.6422 - f1_score_macro: 0.1181 - f1_score_micro: 0.7186 - f1_score_weighted: 0.6329\n",
            "Epoch 3: val_loss improved from 1.10770 to 0.91541, saving model to best_model_cnn.h5\n",
            "52/52 [==============================] - 2s 32ms/step - loss: 0.8862 - accuracy: 0.7186 - precision: 0.9421 - recall: 0.6422 - f1_score_macro: 0.1181 - f1_score_micro: 0.7186 - f1_score_weighted: 0.6329 - val_loss: 0.9154 - val_accuracy: 0.7588 - val_precision: 0.9127 - val_recall: 0.5664 - val_f1_score_macro: 0.1414 - val_f1_score_micro: 0.7588 - val_f1_score_weighted: 0.6912\n",
            "Epoch 4/15\n",
            "52/52 [==============================] - ETA: 0s - loss: 0.5756 - accuracy: 0.8118 - precision: 0.9608 - recall: 0.7318 - f1_score_macro: 0.1717 - f1_score_micro: 0.8118 - f1_score_weighted: 0.7607\n",
            "Epoch 4: val_loss improved from 0.91541 to 0.82764, saving model to best_model_cnn.h5\n",
            "52/52 [==============================] - 2s 34ms/step - loss: 0.5756 - accuracy: 0.8118 - precision: 0.9608 - recall: 0.7318 - f1_score_macro: 0.1717 - f1_score_micro: 0.8118 - f1_score_weighted: 0.7607 - val_loss: 0.8276 - val_accuracy: 0.7575 - val_precision: 0.8876 - val_recall: 0.6098 - val_f1_score_macro: 0.1733 - val_f1_score_micro: 0.7575 - val_f1_score_weighted: 0.7114\n",
            "Epoch 5/15\n",
            "52/52 [==============================] - ETA: 0s - loss: 0.3995 - accuracy: 0.8692 - precision: 0.9777 - recall: 0.8135 - f1_score_macro: 0.2497 - f1_score_micro: 0.8692 - f1_score_weighted: 0.8361\n",
            "Epoch 5: val_loss improved from 0.82764 to 0.78722, saving model to best_model_cnn.h5\n",
            "52/52 [==============================] - 1s 24ms/step - loss: 0.3995 - accuracy: 0.8692 - precision: 0.9777 - recall: 0.8135 - f1_score_macro: 0.2497 - f1_score_micro: 0.8692 - f1_score_weighted: 0.8361 - val_loss: 0.7872 - val_accuracy: 0.8008 - val_precision: 0.9184 - val_recall: 0.7019 - val_f1_score_macro: 0.2841 - val_f1_score_micro: 0.8008 - val_f1_score_weighted: 0.7753\n",
            "Epoch 6/15\n",
            "52/52 [==============================] - ETA: 0s - loss: 0.2768 - accuracy: 0.9117 - precision: 0.9869 - recall: 0.8831 - f1_score_macro: 0.3549 - f1_score_micro: 0.9117 - f1_score_weighted: 0.8891\n",
            "Epoch 6: val_loss did not improve from 0.78722\n",
            "52/52 [==============================] - 0s 9ms/step - loss: 0.2768 - accuracy: 0.9117 - precision: 0.9869 - recall: 0.8831 - f1_score_macro: 0.3549 - f1_score_micro: 0.9117 - f1_score_weighted: 0.8891 - val_loss: 0.7989 - val_accuracy: 0.8103 - val_precision: 0.8833 - val_recall: 0.7791 - val_f1_score_macro: 0.3248 - val_f1_score_micro: 0.8103 - val_f1_score_weighted: 0.7954\n",
            "Epoch 7/15\n",
            "52/52 [==============================] - ETA: 0s - loss: 0.2122 - accuracy: 0.9370 - precision: 0.9899 - recall: 0.9110 - f1_score_macro: 0.4535 - f1_score_micro: 0.9370 - f1_score_weighted: 0.9257\n",
            "Epoch 7: val_loss did not improve from 0.78722\n",
            "52/52 [==============================] - 1s 24ms/step - loss: 0.2122 - accuracy: 0.9370 - precision: 0.9899 - recall: 0.9110 - f1_score_macro: 0.4535 - f1_score_micro: 0.9370 - f1_score_weighted: 0.9257 - val_loss: 0.8977 - val_accuracy: 0.8211 - val_precision: 0.8880 - val_recall: 0.7846 - val_f1_score_macro: 0.3783 - val_f1_score_micro: 0.8211 - val_f1_score_weighted: 0.8150\n",
            "Epoch 8/15\n",
            "52/52 [==============================] - ETA: 0s - loss: 0.1746 - accuracy: 0.9482 - precision: 0.9900 - recall: 0.9212 - f1_score_macro: 0.4848 - f1_score_micro: 0.9482 - f1_score_weighted: 0.9390\n",
            "Epoch 8: val_loss did not improve from 0.78722\n",
            "52/52 [==============================] - 0s 9ms/step - loss: 0.1746 - accuracy: 0.9482 - precision: 0.9900 - recall: 0.9212 - f1_score_macro: 0.4848 - f1_score_micro: 0.9482 - f1_score_weighted: 0.9390 - val_loss: 0.9991 - val_accuracy: 0.8008 - val_precision: 0.8878 - val_recall: 0.7615 - val_f1_score_macro: 0.3636 - val_f1_score_micro: 0.8008 - val_f1_score_weighted: 0.8043\n",
            "Epoch 9/15\n",
            "52/52 [==============================] - ETA: 0s - loss: 0.1448 - accuracy: 0.9601 - precision: 0.9916 - recall: 0.9290 - f1_score_macro: 0.5659 - f1_score_micro: 0.9601 - f1_score_weighted: 0.9538\n",
            "Epoch 9: val_loss did not improve from 0.78722\n",
            "52/52 [==============================] - 1s 12ms/step - loss: 0.1448 - accuracy: 0.9601 - precision: 0.9916 - recall: 0.9290 - f1_score_macro: 0.5659 - f1_score_micro: 0.9601 - f1_score_weighted: 0.9538 - val_loss: 1.0770 - val_accuracy: 0.8103 - val_precision: 0.9103 - val_recall: 0.7290 - val_f1_score_macro: 0.3793 - val_f1_score_micro: 0.8103 - val_f1_score_weighted: 0.8196\n",
            "Epoch 10/15\n",
            "52/52 [==============================] - ETA: 0s - loss: 0.1219 - accuracy: 0.9676 - precision: 0.9930 - recall: 0.9428 - f1_score_macro: 0.6145 - f1_score_micro: 0.9676 - f1_score_weighted: 0.9625\n",
            "Epoch 10: val_loss did not improve from 0.78722\n",
            "52/52 [==============================] - 1s 10ms/step - loss: 0.1219 - accuracy: 0.9676 - precision: 0.9930 - recall: 0.9428 - f1_score_macro: 0.6145 - f1_score_micro: 0.9676 - f1_score_weighted: 0.9625 - val_loss: 1.1215 - val_accuracy: 0.8117 - val_precision: 0.8707 - val_recall: 0.7940 - val_f1_score_macro: 0.3933 - val_f1_score_micro: 0.8117 - val_f1_score_weighted: 0.8216\n",
            "Epoch 11/15\n",
            "52/52 [==============================] - ETA: 0s - loss: 0.0977 - accuracy: 0.9762 - precision: 0.9920 - recall: 0.9569 - f1_score_macro: 0.7086 - f1_score_micro: 0.9762 - f1_score_weighted: 0.9731\n",
            "Epoch 11: val_loss did not improve from 0.78722\n",
            "52/52 [==============================] - 1s 16ms/step - loss: 0.0977 - accuracy: 0.9762 - precision: 0.9920 - recall: 0.9569 - f1_score_macro: 0.7086 - f1_score_micro: 0.9762 - f1_score_weighted: 0.9731 - val_loss: 1.2212 - val_accuracy: 0.8130 - val_precision: 0.8761 - val_recall: 0.7954 - val_f1_score_macro: 0.4158 - val_f1_score_micro: 0.8130 - val_f1_score_weighted: 0.8217\n",
            "Epoch 12/15\n",
            "43/52 [=======================>......] - ETA: 0s - loss: 0.0772 - accuracy: 0.9795 - precision: 0.9931 - recall: 0.9688 - f1_score_macro: 0.7460 - f1_score_micro: 0.9795 - f1_score_weighted: 0.9776\n",
            "Epoch 12: val_loss did not improve from 0.78722\n",
            "52/52 [==============================] - 0s 6ms/step - loss: 0.0786 - accuracy: 0.9795 - precision: 0.9927 - recall: 0.9685 - f1_score_macro: 0.7567 - f1_score_micro: 0.9795 - f1_score_weighted: 0.9778 - val_loss: 1.3031 - val_accuracy: 0.8144 - val_precision: 0.8848 - val_recall: 0.7913 - val_f1_score_macro: 0.4189 - val_f1_score_micro: 0.8144 - val_f1_score_weighted: 0.8263\n",
            "Epoch 13/15\n",
            "48/52 [==========================>...] - ETA: 0s - loss: 0.0622 - accuracy: 0.9858 - precision: 0.9939 - recall: 0.9759 - f1_score_macro: 0.8142 - f1_score_micro: 0.9858 - f1_score_weighted: 0.9843\n",
            "Epoch 13: val_loss did not improve from 0.78722\n",
            "52/52 [==============================] - 0s 9ms/step - loss: 0.0622 - accuracy: 0.9857 - precision: 0.9936 - recall: 0.9759 - f1_score_macro: 0.8134 - f1_score_micro: 0.9857 - f1_score_weighted: 0.9841 - val_loss: 1.3648 - val_accuracy: 0.8198 - val_precision: 0.8761 - val_recall: 0.8049 - val_f1_score_macro: 0.4298 - val_f1_score_micro: 0.8198 - val_f1_score_weighted: 0.8304\n",
            "Epoch 14/15\n",
            "52/52 [==============================] - ETA: 0s - loss: 0.0528 - accuracy: 0.9870 - precision: 0.9937 - recall: 0.9795 - f1_score_macro: 0.8463 - f1_score_micro: 0.9870 - f1_score_weighted: 0.9863\n",
            "Epoch 14: val_loss did not improve from 0.78722\n",
            "52/52 [==============================] - 0s 9ms/step - loss: 0.0528 - accuracy: 0.9870 - precision: 0.9937 - recall: 0.9795 - f1_score_macro: 0.8463 - f1_score_micro: 0.9870 - f1_score_weighted: 0.9863 - val_loss: 1.3934 - val_accuracy: 0.8184 - val_precision: 0.8650 - val_recall: 0.8076 - val_f1_score_macro: 0.4233 - val_f1_score_micro: 0.8184 - val_f1_score_weighted: 0.8287\n",
            "Epoch 15/15\n",
            "45/52 [========================>.....] - ETA: 0s - loss: 0.0438 - accuracy: 0.9882 - precision: 0.9928 - recall: 0.9849 - f1_score_macro: 0.8703 - f1_score_micro: 0.9882 - f1_score_weighted: 0.9877\n",
            "Epoch 15: val_loss did not improve from 0.78722\n",
            "52/52 [==============================] - 1s 12ms/step - loss: 0.0463 - accuracy: 0.9876 - precision: 0.9933 - recall: 0.9837 - f1_score_macro: 0.8628 - f1_score_micro: 0.9876 - f1_score_weighted: 0.9870 - val_loss: 1.5030 - val_accuracy: 0.8062 - val_precision: 0.8588 - val_recall: 0.7913 - val_f1_score_macro: 0.4219 - val_f1_score_micro: 0.8062 - val_f1_score_weighted: 0.8242\n"
          ]
        }
      ],
      "source": [
        "history_cnn = model_cnn.fit(x_train, \n",
        "                            y_train, \n",
        "                            epochs=15,\n",
        "                            batch_size=128,\n",
        "                            validation_split=0.1,\n",
        "                            callbacks=[checkpoint_callback_cnn])"
      ]
    },
    {
      "cell_type": "markdown",
      "source": [
        "смотрим на f1_weighted, т.к. датасет несбалансирован"
      ],
      "metadata": {
        "id": "7v_G0o3CsBzG"
      }
    },
    {
      "cell_type": "code",
      "source": [
        "plt.plot(history_cnn.history['f1_score_weighted'], \n",
        "         label='f1_score_weighted на обучающем наборе')\n",
        "plt.plot(history_cnn.history['val_f1_score_weighted'], \n",
        "         label='f1_score_weighted на проверочном наборе')\n",
        "plt.xlabel('Эпоха обучения')\n",
        "plt.ylabel('f1_score_weighted')\n",
        "plt.legend()\n",
        "plt.show()"
      ],
      "metadata": {
        "colab": {
          "base_uri": "https://localhost:8080/",
          "height": 449
        },
        "id": "ZcSXWq_8r7qT",
        "outputId": "b44af0f3-e0a4-48c4-f4f7-4049120e5bb9"
      },
      "execution_count": 38,
      "outputs": [
        {
          "output_type": "display_data",
          "data": {
            "text/plain": [
              "<Figure size 640x480 with 1 Axes>"
            ],
            "image/png": "[encoded data removed]"
          },
          "metadata": {}
        }
      ]
    },
    {
      "cell_type": "code",
      "execution_count": 39,
      "metadata": {
        "colab": {
          "base_uri": "https://localhost:8080/",
          "height": 450
        },
        "id": "0Lji-PHmNyOh",
        "outputId": "aedba397-ec0a-4406-94e8-23f227443e50"
      },
      "outputs": [
        {
          "output_type": "display_data",
          "data": {
            "text/plain": [
              "<Figure size 640x480 with 1 Axes>"
            ],
            "image/png": "[encoded data removed]"
          },
          "metadata": {}
        }
      ],
      "source": [
        "plt.plot(history_cnn.history['accuracy'], \n",
        "         label='Доля верных ответов на обучающем наборе')\n",
        "plt.plot(history_cnn.history['val_accuracy'], \n",
        "         label='Доля верных ответов на проверочном наборе')\n",
        "plt.xlabel('Эпоха обучения')\n",
        "plt.ylabel('Доля верных ответов')\n",
        "plt.legend()\n",
        "plt.show()"
      ]
    },
    {
      "cell_type": "code",
      "source": [
        "cnn_loaded = load_model(\"best_model_cnn.h5\")"
      ],
      "metadata": {
        "id": "0bjTSXVzsIxb"
      },
      "execution_count": 40,
      "outputs": []
    },
    {
      "cell_type": "code",
      "source": [
        "cnn_loaded.evaluate(x_test, y_test, verbose=1)"
      ],
      "metadata": {
        "colab": {
          "base_uri": "https://localhost:8080/"
        },
        "id": "xGrfRPZHsMlx",
        "outputId": "83f2ae36-a2b8-4775-e3b6-33e2d1102271"
      },
      "execution_count": 41,
      "outputs": [
        {
          "output_type": "stream",
          "name": "stdout",
          "text": [
            "58/58 [==============================] - 1s 4ms/step - loss: 0.8271 - accuracy: 0.8151 - precision: 0.9044 - recall: 0.6925 - f1_score_macro: 0.2777 - f1_score_micro: 0.8151 - f1_score_weighted: 0.7896\n"
          ]
        },
        {
          "output_type": "execute_result",
          "data": {
            "text/plain": [
              "[0.8271034359931946,\n",
              " 0.8150759339332581,\n",
              " 0.9043909311294556,\n",
              " 0.6925162672996521,\n",
              " 0.27771100401878357,\n",
              " 0.8150759339332581,\n",
              " 0.7895717024803162]"
            ]
          },
          "metadata": {},
          "execution_count": 41
        }
      ]
    },
    {
      "cell_type": "code",
      "source": [
        "predicted_cnn = cnn_loaded.predict(x_test)"
      ],
      "metadata": {
        "colab": {
          "base_uri": "https://localhost:8080/"
        },
        "id": "xgE4ZeCAsSsp",
        "outputId": "5f24ec60-e728-4225-d225-993fb7a24e86"
      },
      "execution_count": 42,
      "outputs": [
        {
          "output_type": "stream",
          "name": "stdout",
          "text": [
            "58/58 [==============================] - 0s 2ms/step\n"
          ]
        }
      ]
    },
    {
      "cell_type": "code",
      "source": [
        "import sklearn.metrics as sklearn_metrics\n",
        "import numpy as np"
      ],
      "metadata": {
        "id": "BpPOfkV4sWBt"
      },
      "execution_count": 43,
      "outputs": []
    },
    {
      "cell_type": "code",
      "source": [
        "report_cnn = sklearn_metrics.classification_report(np.argmax(y_test, axis=1), np.argmax(predicted_cnn, axis=1))\n",
        "print(report_cnn)"
      ],
      "metadata": {
        "colab": {
          "base_uri": "https://localhost:8080/"
        },
        "id": "woakfP16sZUp",
        "outputId": "846b38a8-1170-40b3-e190-f210c206cd2f"
      },
      "execution_count": 44,
      "outputs": [
        {
          "output_type": "stream",
          "name": "stdout",
          "text": [
            "              precision    recall  f1-score   support\n",
            "\n",
            "           0       0.85      0.94      0.89      1231\n",
            "           1       0.75      0.69      0.72       190\n",
            "           2       0.67      0.77      0.72       146\n",
            "           3       0.62      0.62      0.62        90\n",
            "           4       0.93      0.59      0.72        70\n",
            "           5       0.00      0.00      0.00        18\n",
            "           6       0.88      0.35      0.50        20\n",
            "           7       0.00      0.00      0.00        21\n",
            "           8       0.00      0.00      0.00        10\n",
            "           9       0.00      0.00      0.00        19\n",
            "          10       0.00      0.00      0.00         9\n",
            "          11       0.00      0.00      0.00         8\n",
            "          12       0.00      0.00      0.00         6\n",
            "          13       0.00      0.00      0.00         3\n",
            "          14       0.00      0.00      0.00         3\n",
            "\n",
            "    accuracy                           0.82      1844\n",
            "   macro avg       0.31      0.26      0.28      1844\n",
            "weighted avg       0.77      0.82      0.79      1844\n",
            "\n"
          ]
        },
        {
          "output_type": "stream",
          "name": "stderr",
          "text": [
            "/usr/local/lib/python3.10/dist-packages/sklearn/metrics/_classification.py:1344: UndefinedMetricWarning: Precision and F-score are ill-defined and being set to 0.0 in labels with no predicted samples. Use `zero_division` parameter to control this behavior.\n",
            "  _warn_prf(average, modifier, msg_start, len(result))\n",
            "/usr/local/lib/python3.10/dist-packages/sklearn/metrics/_classification.py:1344: UndefinedMetricWarning: Precision and F-score are ill-defined and being set to 0.0 in labels with no predicted samples. Use `zero_division` parameter to control this behavior.\n",
            "  _warn_prf(average, modifier, msg_start, len(result))\n",
            "/usr/local/lib/python3.10/dist-packages/sklearn/metrics/_classification.py:1344: UndefinedMetricWarning: Precision and F-score are ill-defined and being set to 0.0 in labels with no predicted samples. Use `zero_division` parameter to control this behavior.\n",
            "  _warn_prf(average, modifier, msg_start, len(result))\n"
          ]
        }
      ]
    },
    {
      "cell_type": "code",
      "source": [
        "with open(\"CNN_15.txt\", 'w') as w_file:\n",
        "  w_file.write(report_cnn)"
      ],
      "metadata": {
        "id": "9xPVUp-wsbJ3"
      },
      "execution_count": 45,
      "outputs": []
    },
    {
      "cell_type": "markdown",
      "metadata": {
        "id": "quETdpIlN5Oy"
      },
      "source": [
        "## Cеть LSTM"
      ]
    },
    {
      "cell_type": "code",
      "execution_count": 46,
      "metadata": {
        "id": "jzPqHvswN5ks"
      },
      "outputs": [],
      "source": [
        "model_lstm = Sequential()\n",
        "model_lstm.add(Embedding(num_words, 32, input_length=max_len))\n",
        "model_lstm.add(LSTM(16))\n",
        "model_lstm.add(Dense(15, activation='softmax'))"
      ]
    },
    {
      "cell_type": "code",
      "execution_count": 47,
      "metadata": {
        "id": "fpCCNv2bODXg"
      },
      "outputs": [],
      "source": [
        "model_lstm.compile(optimizer='adam', \n",
        "              loss='categorical_crossentropy', \n",
        "             metrics=['accuracy', metrics.Precision(), metrics.Recall(), metrics.F1Score(average='macro', name='f1_score_macro'), metrics.F1Score(average='micro', name='f1_score_micro'), metrics.F1Score(average='weighted', name='f1_score_weighted')]\n",
        "              )"
      ]
    },
    {
      "cell_type": "code",
      "execution_count": 48,
      "metadata": {
        "colab": {
          "base_uri": "https://localhost:8080/"
        },
        "id": "GlfXemrUOGNG",
        "outputId": "372f2995-fbd2-4a6d-9285-9b3faf9dd4cf"
      },
      "outputs": [
        {
          "output_type": "stream",
          "name": "stdout",
          "text": [
            "Model: \"sequential_1\"\n",
            "_________________________________________________________________\n",
            " Layer (type)                Output Shape              Param #   \n",
            "=================================================================\n",
            " embedding_1 (Embedding)     (None, 11, 32)            320000    \n",
            "                                                                 \n",
            " lstm (LSTM)                 (None, 16)                3136      \n",
            "                                                                 \n",
            " dense_2 (Dense)             (None, 15)                255       \n",
            "                                                                 \n",
            "=================================================================\n",
            "Total params: 323391 (1.23 MB)\n",
            "Trainable params: 323391 (1.23 MB)\n",
            "Non-trainable params: 0 (0.00 Byte)\n",
            "_________________________________________________________________\n"
          ]
        }
      ],
      "source": [
        "model_lstm.summary()"
      ]
    },
    {
      "cell_type": "markdown",
      "metadata": {
        "id": "1sRGFUrFOLF8"
      },
      "source": [
        "Создаем callback для сохранения нейронной сети на каждой эпохе, если качество работы на проверочном наборе данных улучшилось. Сеть сохраняется в файл best_model.h5"
      ]
    },
    {
      "cell_type": "code",
      "execution_count": 49,
      "metadata": {
        "id": "ubBoa_vOONLM"
      },
      "outputs": [],
      "source": [
        "model_lstm_save_path = 'best_model_lstm.h5'\n",
        "checkpoint_callback_lstm = ModelCheckpoint(model_lstm_save_path, \n",
        "                                      #monitor='val_accuracy',\n",
        "                                      save_best_only=True,\n",
        "                                      verbose=1)"
      ]
    },
    {
      "cell_type": "code",
      "execution_count": 50,
      "metadata": {
        "colab": {
          "base_uri": "https://localhost:8080/"
        },
        "id": "CXbhDJSYOSzI",
        "outputId": "53906233-4ef7-4cf1-e4b2-971da61b9794"
      },
      "outputs": [
        {
          "output_type": "stream",
          "name": "stdout",
          "text": [
            "Epoch 1/15\n",
            "52/52 [==============================] - ETA: 0s - loss: 2.4049 - accuracy: 0.5943 - precision_1: 1.0000 - recall_1: 4.5194e-04 - f1_score_macro: 0.0594 - f1_score_micro: 0.5943 - f1_score_weighted: 0.4873    \n",
            "Epoch 1: val_loss improved from inf to 1.60572, saving model to best_model_lstm.h5\n",
            "52/52 [==============================] - 9s 97ms/step - loss: 2.4049 - accuracy: 0.5943 - precision_1: 1.0000 - recall_1: 4.5194e-04 - f1_score_macro: 0.0594 - f1_score_micro: 0.5943 - f1_score_weighted: 0.4873 - val_loss: 1.6057 - val_accuracy: 0.6477 - val_precision_1: 0.8123 - val_recall_1: 0.3753 - val_f1_score_macro: 0.0524 - val_f1_score_micro: 0.6477 - val_f1_score_weighted: 0.5092\n",
            "Epoch 2/15\n",
            " 2/52 [>.............................] - ETA: 5s - loss: 1.6168 - accuracy: 0.6445 - precision_1: 0.8077 - recall_1: 0.3281 - f1_score_macro: 0.0523 - f1_score_micro: 0.6445 - f1_score_weighted: 0.5052"
          ]
        },
        {
          "output_type": "stream",
          "name": "stderr",
          "text": [
            "/usr/local/lib/python3.10/dist-packages/keras/src/engine/training.py:3052: UserWarning: You are saving your model as an HDF5 file via `model.save()`. This file format is considered legacy. We recommend using instead the native Keras format, e.g. `model.save('my_model.keras')`.\n",
            "  saving_api.save_model(\n"
          ]
        },
        {
          "output_type": "stream",
          "name": "stdout",
          "text": [
            "52/52 [==============================] - ETA: 0s - loss: 1.4669 - accuracy: 0.6395 - precision_1: 0.6477 - recall_1: 0.6211 - f1_score_macro: 0.0520 - f1_score_micro: 0.6395 - f1_score_weighted: 0.4989\n",
            "Epoch 2: val_loss improved from 1.60572 to 1.33350, saving model to best_model_lstm.h5\n",
            "52/52 [==============================] - 2s 46ms/step - loss: 1.4669 - accuracy: 0.6395 - precision_1: 0.6477 - recall_1: 0.6211 - f1_score_macro: 0.0520 - f1_score_micro: 0.6395 - f1_score_weighted: 0.4989 - val_loss: 1.3335 - val_accuracy: 0.6477 - val_precision_1: 0.6477 - val_recall_1: 0.6477 - val_f1_score_macro: 0.0524 - val_f1_score_micro: 0.6477 - val_f1_score_weighted: 0.5092\n",
            "Epoch 3/15\n",
            "52/52 [==============================] - ETA: 0s - loss: 1.2698 - accuracy: 0.6395 - precision_1: 0.7133 - recall_1: 0.6395 - f1_score_macro: 0.0520 - f1_score_micro: 0.6395 - f1_score_weighted: 0.4989\n",
            "Epoch 3: val_loss improved from 1.33350 to 1.19967, saving model to best_model_lstm.h5\n",
            "52/52 [==============================] - 2s 34ms/step - loss: 1.2698 - accuracy: 0.6395 - precision_1: 0.7133 - recall_1: 0.6395 - f1_score_macro: 0.0520 - f1_score_micro: 0.6395 - f1_score_weighted: 0.4989 - val_loss: 1.1997 - val_accuracy: 0.6477 - val_precision_1: 0.7648 - val_recall_1: 0.6477 - val_f1_score_macro: 0.0524 - val_f1_score_micro: 0.6477 - val_f1_score_weighted: 0.5092\n",
            "Epoch 4/15\n",
            "52/52 [==============================] - ETA: 0s - loss: 1.1093 - accuracy: 0.6546 - precision_1: 0.8456 - recall_1: 0.6393 - f1_score_macro: 0.0674 - f1_score_micro: 0.6546 - f1_score_weighted: 0.5308\n",
            "Epoch 4: val_loss improved from 1.19967 to 1.08247, saving model to best_model_lstm.h5\n",
            "52/52 [==============================] - 2s 31ms/step - loss: 1.1093 - accuracy: 0.6546 - precision_1: 0.8456 - recall_1: 0.6393 - f1_score_macro: 0.0674 - f1_score_micro: 0.6546 - f1_score_weighted: 0.5308 - val_loss: 1.0825 - val_accuracy: 0.6802 - val_precision_1: 0.8479 - val_recall_1: 0.6423 - val_f1_score_macro: 0.0856 - val_f1_score_micro: 0.6802 - val_f1_score_weighted: 0.5672\n",
            "Epoch 5/15\n",
            "50/52 [===========================>..] - ETA: 0s - loss: 0.9676 - accuracy: 0.7070 - precision_1: 0.9132 - recall_1: 0.6413 - f1_score_macro: 0.0910 - f1_score_micro: 0.7070 - f1_score_weighted: 0.6077\n",
            "Epoch 5: val_loss improved from 1.08247 to 1.00735, saving model to best_model_lstm.h5\n",
            "52/52 [==============================] - 2s 38ms/step - loss: 0.9693 - accuracy: 0.7059 - precision_1: 0.9143 - recall_1: 0.6395 - f1_score_macro: 0.0909 - f1_score_micro: 0.7059 - f1_score_weighted: 0.6064 - val_loss: 1.0074 - val_accuracy: 0.7087 - val_precision_1: 0.8623 - val_recall_1: 0.6192 - val_f1_score_macro: 0.0911 - val_f1_score_micro: 0.7087 - val_f1_score_weighted: 0.6069\n",
            "Epoch 6/15\n",
            "52/52 [==============================] - ETA: 0s - loss: 0.8589 - accuracy: 0.7260 - precision_1: 0.9549 - recall_1: 0.6380 - f1_score_macro: 0.0952 - f1_score_micro: 0.7260 - f1_score_weighted: 0.6391\n",
            "Epoch 6: val_loss improved from 1.00735 to 0.95834, saving model to best_model_lstm.h5\n",
            "52/52 [==============================] - 2s 31ms/step - loss: 0.8589 - accuracy: 0.7260 - precision_1: 0.9549 - recall_1: 0.6380 - f1_score_macro: 0.0952 - f1_score_micro: 0.7260 - f1_score_weighted: 0.6391 - val_loss: 0.9583 - val_accuracy: 0.7127 - val_precision_1: 0.8625 - val_recall_1: 0.6287 - val_f1_score_macro: 0.0968 - val_f1_score_micro: 0.7127 - val_f1_score_weighted: 0.6188\n",
            "Epoch 7/15\n",
            "52/52 [==============================] - ETA: 0s - loss: 0.7701 - accuracy: 0.7569 - precision_1: 0.9751 - recall_1: 0.6377 - f1_score_macro: 0.1231 - f1_score_micro: 0.7569 - f1_score_weighted: 0.6923\n",
            "Epoch 7: val_loss improved from 0.95834 to 0.91545, saving model to best_model_lstm.h5\n",
            "52/52 [==============================] - 1s 13ms/step - loss: 0.7701 - accuracy: 0.7569 - precision_1: 0.9751 - recall_1: 0.6377 - f1_score_macro: 0.1231 - f1_score_micro: 0.7569 - f1_score_weighted: 0.6923 - val_loss: 0.9154 - val_accuracy: 0.7425 - val_precision_1: 0.8636 - val_recall_1: 0.6260 - val_f1_score_macro: 0.1301 - val_f1_score_micro: 0.7425 - val_f1_score_weighted: 0.6704\n",
            "Epoch 8/15\n",
            "52/52 [==============================] - ETA: 0s - loss: 0.6984 - accuracy: 0.7849 - precision_1: 0.9781 - recall_1: 0.6464 - f1_score_macro: 0.1518 - f1_score_micro: 0.7849 - f1_score_weighted: 0.7329\n",
            "Epoch 8: val_loss improved from 0.91545 to 0.87002, saving model to best_model_lstm.h5\n",
            "52/52 [==============================] - 1s 20ms/step - loss: 0.6984 - accuracy: 0.7849 - precision_1: 0.9781 - recall_1: 0.6464 - f1_score_macro: 0.1518 - f1_score_micro: 0.7849 - f1_score_weighted: 0.7329 - val_loss: 0.8700 - val_accuracy: 0.7737 - val_precision_1: 0.8731 - val_recall_1: 0.6341 - val_f1_score_macro: 0.1685 - val_f1_score_micro: 0.7737 - val_f1_score_weighted: 0.7187\n",
            "Epoch 9/15\n",
            "48/52 [==========================>...] - ETA: 0s - loss: 0.6231 - accuracy: 0.8197 - precision_1: 0.9839 - recall_1: 0.7144 - f1_score_macro: 0.1987 - f1_score_micro: 0.8197 - f1_score_weighted: 0.7794\n",
            "Epoch 9: val_loss improved from 0.87002 to 0.82822, saving model to best_model_lstm.h5\n",
            "52/52 [==============================] - 0s 8ms/step - loss: 0.6221 - accuracy: 0.8219 - precision_1: 0.9839 - recall_1: 0.7163 - f1_score_macro: 0.2023 - f1_score_micro: 0.8219 - f1_score_weighted: 0.7831 - val_loss: 0.8282 - val_accuracy: 0.7818 - val_precision_1: 0.8855 - val_recall_1: 0.7019 - val_f1_score_macro: 0.1818 - val_f1_score_micro: 0.7818 - val_f1_score_weighted: 0.7306\n",
            "Epoch 10/15\n",
            "52/52 [==============================] - ETA: 0s - loss: 0.5470 - accuracy: 0.8686 - precision_1: 0.9855 - recall_1: 0.7490 - f1_score_macro: 0.2700 - f1_score_micro: 0.8686 - f1_score_weighted: 0.8392\n",
            "Epoch 10: val_loss improved from 0.82822 to 0.79358, saving model to best_model_lstm.h5\n",
            "52/52 [==============================] - 1s 20ms/step - loss: 0.5470 - accuracy: 0.8686 - precision_1: 0.9855 - recall_1: 0.7490 - f1_score_macro: 0.2700 - f1_score_micro: 0.8686 - f1_score_weighted: 0.8392 - val_loss: 0.7936 - val_accuracy: 0.8035 - val_precision_1: 0.8983 - val_recall_1: 0.7060 - val_f1_score_macro: 0.2309 - val_f1_score_micro: 0.8035 - val_f1_score_weighted: 0.7711\n",
            "Epoch 11/15\n",
            "47/52 [==========================>...] - ETA: 0s - loss: 0.4859 - accuracy: 0.8908 - precision_1: 0.9877 - recall_1: 0.7729 - f1_score_macro: 0.2937 - f1_score_micro: 0.8908 - f1_score_weighted: 0.8618\n",
            "Epoch 11: val_loss improved from 0.79358 to 0.77261, saving model to best_model_lstm.h5\n",
            "52/52 [==============================] - 1s 10ms/step - loss: 0.4777 - accuracy: 0.8917 - precision_1: 0.9879 - recall_1: 0.7781 - f1_score_macro: 0.2948 - f1_score_micro: 0.8917 - f1_score_weighted: 0.8628 - val_loss: 0.7726 - val_accuracy: 0.8103 - val_precision_1: 0.8762 - val_recall_1: 0.7575 - val_f1_score_macro: 0.2321 - val_f1_score_micro: 0.8103 - val_f1_score_weighted: 0.7731\n",
            "Epoch 12/15\n",
            "52/52 [==============================] - ETA: 0s - loss: 0.4163 - accuracy: 0.9033 - precision_1: 0.9887 - recall_1: 0.8310 - f1_score_macro: 0.3098 - f1_score_micro: 0.9033 - f1_score_weighted: 0.8744\n",
            "Epoch 12: val_loss improved from 0.77261 to 0.73213, saving model to best_model_lstm.h5\n",
            "52/52 [==============================] - 1s 11ms/step - loss: 0.4163 - accuracy: 0.9033 - precision_1: 0.9887 - recall_1: 0.8310 - f1_score_macro: 0.3098 - f1_score_micro: 0.9033 - f1_score_weighted: 0.8744 - val_loss: 0.7321 - val_accuracy: 0.8171 - val_precision_1: 0.8926 - val_recall_1: 0.7656 - val_f1_score_macro: 0.2469 - val_f1_score_micro: 0.8171 - val_f1_score_weighted: 0.7866\n",
            "Epoch 13/15\n",
            "52/52 [==============================] - ETA: 0s - loss: 0.3643 - accuracy: 0.9128 - precision_1: 0.9887 - recall_1: 0.8668 - f1_score_macro: 0.3467 - f1_score_micro: 0.9128 - f1_score_weighted: 0.8873\n",
            "Epoch 13: val_loss improved from 0.73213 to 0.71594, saving model to best_model_lstm.h5\n",
            "52/52 [==============================] - 1s 13ms/step - loss: 0.3643 - accuracy: 0.9128 - precision_1: 0.9887 - recall_1: 0.8668 - f1_score_macro: 0.3467 - f1_score_micro: 0.9128 - f1_score_weighted: 0.8873 - val_loss: 0.7159 - val_accuracy: 0.8184 - val_precision_1: 0.8843 - val_recall_1: 0.7873 - val_f1_score_macro: 0.2473 - val_f1_score_micro: 0.8184 - val_f1_score_weighted: 0.7878\n",
            "Epoch 14/15\n",
            "49/52 [===========================>..] - ETA: 0s - loss: 0.3165 - accuracy: 0.9268 - precision_1: 0.9885 - recall_1: 0.8895 - f1_score_macro: 0.3798 - f1_score_micro: 0.9268 - f1_score_weighted: 0.9038\n",
            "Epoch 14: val_loss improved from 0.71594 to 0.71493, saving model to best_model_lstm.h5\n",
            "52/52 [==============================] - 1s 13ms/step - loss: 0.3222 - accuracy: 0.9254 - precision_1: 0.9888 - recall_1: 0.8879 - f1_score_macro: 0.3795 - f1_score_micro: 0.9254 - f1_score_weighted: 0.9019 - val_loss: 0.7149 - val_accuracy: 0.8198 - val_precision_1: 0.9281 - val_recall_1: 0.7344 - val_f1_score_macro: 0.2925 - val_f1_score_micro: 0.8198 - val_f1_score_weighted: 0.7955\n",
            "Epoch 15/15\n",
            "47/52 [==========================>...] - ETA: 0s - loss: 0.2920 - accuracy: 0.9294 - precision_1: 0.9901 - recall_1: 0.8968 - f1_score_macro: 0.3830 - f1_score_micro: 0.9294 - f1_score_weighted: 0.9075\n",
            "Epoch 15: val_loss improved from 0.71493 to 0.68953, saving model to best_model_lstm.h5\n",
            "52/52 [==============================] - 0s 8ms/step - loss: 0.2921 - accuracy: 0.9292 - precision_1: 0.9903 - recall_1: 0.8967 - f1_score_macro: 0.3852 - f1_score_micro: 0.9292 - f1_score_weighted: 0.9077 - val_loss: 0.6895 - val_accuracy: 0.8306 - val_precision_1: 0.8816 - val_recall_1: 0.7967 - val_f1_score_macro: 0.3060 - val_f1_score_micro: 0.8306 - val_f1_score_weighted: 0.8053\n"
          ]
        }
      ],
      "source": [
        "history_lstm = model_lstm.fit(x_train, \n",
        "                              y_train, \n",
        "                              epochs=15,\n",
        "                              batch_size=128,\n",
        "                              validation_split=0.1,\n",
        "                              callbacks=[checkpoint_callback_lstm])"
      ]
    },
    {
      "cell_type": "code",
      "source": [
        "plt.plot(history_lstm.history['f1_score_weighted'], \n",
        "         label='f1_score_weighted на обучающем наборе')\n",
        "plt.plot(history_lstm.history['val_f1_score_weighted'], \n",
        "         label='f1_score_weighted на проверочном наборе')\n",
        "plt.xlabel('Эпоха обучения')\n",
        "plt.ylabel('f1_score_weighted')\n",
        "plt.legend()\n",
        "plt.show()"
      ],
      "metadata": {
        "colab": {
          "base_uri": "https://localhost:8080/",
          "height": 449
        },
        "id": "JBxjfUE2tbeI",
        "outputId": "327389e1-25fe-4944-895b-868c4b140c40"
      },
      "execution_count": 51,
      "outputs": [
        {
          "output_type": "display_data",
          "data": {
            "text/plain": [
              "<Figure size 640x480 with 1 Axes>"
            ],
            "image/png": "[encoded data removed]"
          },
          "metadata": {}
        }
      ]
    },
    {
      "cell_type": "code",
      "execution_count": 52,
      "metadata": {
        "colab": {
          "base_uri": "https://localhost:8080/",
          "height": 449
        },
        "id": "x_qE1BLrOezV",
        "outputId": "b9fe6240-3053-4006-afe8-61ee93682039"
      },
      "outputs": [
        {
          "output_type": "display_data",
          "data": {
            "text/plain": [
              "<Figure size 640x480 with 1 Axes>"
            ],
            "image/png": "[encoded data removed]"
          },
          "metadata": {}
        }
      ],
      "source": [
        "plt.plot(history_lstm.history['accuracy'], \n",
        "         label='Доля верных ответов на обучающем наборе')\n",
        "plt.plot(history_lstm.history['val_accuracy'], \n",
        "         label='Доля верных ответов на проверочном наборе')\n",
        "plt.xlabel('Эпоха обучения')\n",
        "plt.ylabel('Доля верных ответов')\n",
        "plt.legend()\n",
        "plt.show()"
      ]
    },
    {
      "cell_type": "code",
      "source": [
        "lstm_loaded = load_model(\"best_model_lstm.h5\")"
      ],
      "metadata": {
        "id": "6E1sa49FtewR"
      },
      "execution_count": 53,
      "outputs": []
    },
    {
      "cell_type": "code",
      "source": [
        "lstm_loaded.evaluate(x_test, y_test, verbose=1)"
      ],
      "metadata": {
        "colab": {
          "base_uri": "https://localhost:8080/"
        },
        "id": "aHjLV96ktlgx",
        "outputId": "485ecd58-fbf8-4184-f9fa-5b9c8891a9fc"
      },
      "execution_count": 54,
      "outputs": [
        {
          "output_type": "stream",
          "name": "stdout",
          "text": [
            "58/58 [==============================] - 1s 4ms/step - loss: 0.7405 - accuracy: 0.8227 - precision_1: 0.8795 - recall_1: 0.7880 - f1_score_macro: 0.2934 - f1_score_micro: 0.8227 - f1_score_weighted: 0.7981\n"
          ]
        },
        {
          "output_type": "execute_result",
          "data": {
            "text/plain": [
              "[0.7404665350914001,\n",
              " 0.8226681351661682,\n",
              " 0.879539966583252,\n",
              " 0.787960946559906,\n",
              " 0.2934078276157379,\n",
              " 0.8226681351661682,\n",
              " 0.7980895638465881]"
            ]
          },
          "metadata": {},
          "execution_count": 54
        }
      ]
    },
    {
      "cell_type": "code",
      "source": [
        "predicted_lstm = lstm_loaded.predict(x_test)"
      ],
      "metadata": {
        "colab": {
          "base_uri": "https://localhost:8080/"
        },
        "id": "O2I8omkatn2L",
        "outputId": "f5936f1b-aa12-4a99-cb79-ffa85d7c375f"
      },
      "execution_count": 55,
      "outputs": [
        {
          "output_type": "stream",
          "name": "stdout",
          "text": [
            "58/58 [==============================] - 1s 3ms/step\n"
          ]
        }
      ]
    },
    {
      "cell_type": "code",
      "source": [
        "report_lstm = sklearn_metrics.classification_report(np.argmax(y_test, axis=1), np.argmax(predicted_lstm, axis=1))\n",
        "print(report_lstm)"
      ],
      "metadata": {
        "colab": {
          "base_uri": "https://localhost:8080/"
        },
        "id": "R4LmaWQFtuio",
        "outputId": "d42c4f4e-6479-4789-800e-8291a452576d"
      },
      "execution_count": 56,
      "outputs": [
        {
          "output_type": "stream",
          "name": "stdout",
          "text": [
            "              precision    recall  f1-score   support\n",
            "\n",
            "           0       0.86      0.96      0.90      1231\n",
            "           1       0.61      0.69      0.65       190\n",
            "           2       0.86      0.66      0.75       146\n",
            "           3       0.78      0.62      0.69        90\n",
            "           4       0.91      0.60      0.72        70\n",
            "           5       1.00      0.06      0.11        18\n",
            "           6       0.52      0.65      0.58        20\n",
            "           7       0.00      0.00      0.00        21\n",
            "           8       0.00      0.00      0.00        10\n",
            "           9       0.00      0.00      0.00        19\n",
            "          10       0.00      0.00      0.00         9\n",
            "          11       0.00      0.00      0.00         8\n",
            "          12       0.00      0.00      0.00         6\n",
            "          13       0.00      0.00      0.00         3\n",
            "          14       0.00      0.00      0.00         3\n",
            "\n",
            "    accuracy                           0.82      1844\n",
            "   macro avg       0.37      0.28      0.29      1844\n",
            "weighted avg       0.79      0.82      0.80      1844\n",
            "\n"
          ]
        },
        {
          "output_type": "stream",
          "name": "stderr",
          "text": [
            "/usr/local/lib/python3.10/dist-packages/sklearn/metrics/_classification.py:1344: UndefinedMetricWarning: Precision and F-score are ill-defined and being set to 0.0 in labels with no predicted samples. Use `zero_division` parameter to control this behavior.\n",
            "  _warn_prf(average, modifier, msg_start, len(result))\n",
            "/usr/local/lib/python3.10/dist-packages/sklearn/metrics/_classification.py:1344: UndefinedMetricWarning: Precision and F-score are ill-defined and being set to 0.0 in labels with no predicted samples. Use `zero_division` parameter to control this behavior.\n",
            "  _warn_prf(average, modifier, msg_start, len(result))\n",
            "/usr/local/lib/python3.10/dist-packages/sklearn/metrics/_classification.py:1344: UndefinedMetricWarning: Precision and F-score are ill-defined and being set to 0.0 in labels with no predicted samples. Use `zero_division` parameter to control this behavior.\n",
            "  _warn_prf(average, modifier, msg_start, len(result))\n"
          ]
        }
      ]
    },
    {
      "cell_type": "code",
      "source": [
        "with open(\"LSTM_15.txt\", 'w') as w_file:\n",
        "  w_file.write(report_lstm)"
      ],
      "metadata": {
        "id": "T2w1dXtvt1C2"
      },
      "execution_count": 57,
      "outputs": []
    },
    {
      "cell_type": "markdown",
      "metadata": {
        "id": "wMM7z1rmOlK5"
      },
      "source": [
        "## Cеть GRU"
      ]
    },
    {
      "cell_type": "code",
      "execution_count": 58,
      "metadata": {
        "id": "pE9E8UyYOlem"
      },
      "outputs": [],
      "source": [
        "model_gru = Sequential()\n",
        "model_gru.add(Embedding(num_words, 32, input_length=max_len))\n",
        "model_gru.add(GRU(16))\n",
        "model_gru.add(Dense(15, activation='softmax'))"
      ]
    },
    {
      "cell_type": "code",
      "execution_count": 59,
      "metadata": {
        "id": "buMIQfM4OrTb"
      },
      "outputs": [],
      "source": [
        "model_gru.compile(optimizer='adam', \n",
        "              loss='categorical_crossentropy', \n",
        "               metrics=['accuracy', metrics.Precision(), metrics.Recall(), metrics.F1Score(average='macro', name='f1_score_macro'), metrics.F1Score(average='micro', name='f1_score_micro'), metrics.F1Score(average='weighted', name='f1_score_weighted')]\n",
        "              )"
      ]
    },
    {
      "cell_type": "code",
      "execution_count": 60,
      "metadata": {
        "colab": {
          "base_uri": "https://localhost:8080/"
        },
        "id": "LqSdlsC8OvIg",
        "outputId": "50d35df0-3f59-4b5d-e0fa-4028868ded13"
      },
      "outputs": [
        {
          "output_type": "stream",
          "name": "stdout",
          "text": [
            "Model: \"sequential_2\"\n",
            "_________________________________________________________________\n",
            " Layer (type)                Output Shape              Param #   \n",
            "=================================================================\n",
            " embedding_2 (Embedding)     (None, 11, 32)            320000    \n",
            "                                                                 \n",
            " gru (GRU)                   (None, 16)                2400      \n",
            "                                                                 \n",
            " dense_3 (Dense)             (None, 15)                255       \n",
            "                                                                 \n",
            "=================================================================\n",
            "Total params: 322655 (1.23 MB)\n",
            "Trainable params: 322655 (1.23 MB)\n",
            "Non-trainable params: 0 (0.00 Byte)\n",
            "_________________________________________________________________\n"
          ]
        }
      ],
      "source": [
        "model_gru.summary()"
      ]
    },
    {
      "cell_type": "markdown",
      "metadata": {
        "id": "JdQgWv5EOyKd"
      },
      "source": [
        "Создаем callback для сохранения нейронной сети на каждой эпохе, если качество работы на проверочном наборе данных улучшилось. Сеть сохраняется в файл best_model_gru.h5"
      ]
    },
    {
      "cell_type": "code",
      "execution_count": 61,
      "metadata": {
        "id": "bBlewcgGOzic"
      },
      "outputs": [],
      "source": [
        "model_gru_save_path = 'best_model_gru.h5'\n",
        "checkpoint_callback_gru = ModelCheckpoint(model_gru_save_path, \n",
        "                                      #monitor='val_accuracy',\n",
        "                                      save_best_only=True,\n",
        "                                      verbose=1)"
      ]
    },
    {
      "cell_type": "code",
      "execution_count": 62,
      "metadata": {
        "colab": {
          "base_uri": "https://localhost:8080/"
        },
        "id": "EvbNlBIgO60P",
        "outputId": "c69ac057-25e1-484f-b9bb-ca7d139b03d9"
      },
      "outputs": [
        {
          "output_type": "stream",
          "name": "stdout",
          "text": [
            "Epoch 1/15\n",
            "52/52 [==============================] - ETA: 0s - loss: 2.3564 - accuracy: 0.5916 - precision_2: 0.0000e+00 - recall_2: 0.0000e+00 - f1_score_macro: 0.0663 - f1_score_micro: 0.5916 - f1_score_weighted: 0.4935\n",
            "Epoch 1: val_loss improved from inf to 1.58359, saving model to best_model_gru.h5\n",
            "52/52 [==============================] - 8s 109ms/step - loss: 2.3564 - accuracy: 0.5916 - precision_2: 0.0000e+00 - recall_2: 0.0000e+00 - f1_score_macro: 0.0663 - f1_score_micro: 0.5916 - f1_score_weighted: 0.4935 - val_loss: 1.5836 - val_accuracy: 0.6477 - val_precision_2: 0.0000e+00 - val_recall_2: 0.0000e+00 - val_f1_score_macro: 0.0524 - val_f1_score_micro: 0.6477 - val_f1_score_weighted: 0.5092\n",
            "Epoch 2/15\n"
          ]
        },
        {
          "output_type": "stream",
          "name": "stderr",
          "text": [
            "/usr/local/lib/python3.10/dist-packages/keras/src/engine/training.py:3052: UserWarning: You are saving your model as an HDF5 file via `model.save()`. This file format is considered legacy. We recommend using instead the native Keras format, e.g. `model.save('my_model.keras')`.\n",
            "  saving_api.save_model(\n"
          ]
        },
        {
          "output_type": "stream",
          "name": "stdout",
          "text": [
            "52/52 [==============================] - ETA: 0s - loss: 1.3268 - accuracy: 0.6395 - precision_2: 0.7005 - recall_2: 0.5810 - f1_score_macro: 0.0520 - f1_score_micro: 0.6395 - f1_score_weighted: 0.4989\n",
            "Epoch 2: val_loss improved from 1.58359 to 1.19182, saving model to best_model_gru.h5\n",
            "52/52 [==============================] - 3s 57ms/step - loss: 1.3268 - accuracy: 0.6395 - precision_2: 0.7005 - recall_2: 0.5810 - f1_score_macro: 0.0520 - f1_score_micro: 0.6395 - f1_score_weighted: 0.4989 - val_loss: 1.1918 - val_accuracy: 0.6477 - val_precision_2: 0.7469 - val_recall_2: 0.6477 - val_f1_score_macro: 0.0524 - val_f1_score_micro: 0.6477 - val_f1_score_weighted: 0.5092\n",
            "Epoch 3/15\n",
            "52/52 [==============================] - ETA: 0s - loss: 1.0629 - accuracy: 0.6885 - precision_2: 0.8397 - recall_2: 0.6390 - f1_score_macro: 0.1094 - f1_score_micro: 0.6885 - f1_score_weighted: 0.5927\n",
            "Epoch 3: val_loss improved from 1.19182 to 0.99827, saving model to best_model_gru.h5\n",
            "52/52 [==============================] - 2s 41ms/step - loss: 1.0629 - accuracy: 0.6885 - precision_2: 0.8397 - recall_2: 0.6390 - f1_score_macro: 0.1094 - f1_score_micro: 0.6885 - f1_score_weighted: 0.5927 - val_loss: 0.9983 - val_accuracy: 0.7493 - val_precision_2: 0.8452 - val_recall_2: 0.6436 - val_f1_score_macro: 0.1580 - val_f1_score_micro: 0.7493 - val_f1_score_weighted: 0.6772\n",
            "Epoch 4/15\n",
            "52/52 [==============================] - ETA: 0s - loss: 0.8516 - accuracy: 0.7739 - precision_2: 0.9085 - recall_2: 0.6475 - f1_score_macro: 0.1829 - f1_score_micro: 0.7739 - f1_score_weighted: 0.7176\n",
            "Epoch 4: val_loss improved from 0.99827 to 0.87594, saving model to best_model_gru.h5\n",
            "52/52 [==============================] - 1s 20ms/step - loss: 0.8516 - accuracy: 0.7739 - precision_2: 0.9085 - recall_2: 0.6475 - f1_score_macro: 0.1829 - f1_score_micro: 0.7739 - f1_score_weighted: 0.7176 - val_loss: 0.8759 - val_accuracy: 0.7913 - val_precision_2: 0.8682 - val_recall_2: 0.6694 - val_f1_score_macro: 0.1947 - val_f1_score_micro: 0.7913 - val_f1_score_weighted: 0.7336\n",
            "Epoch 5/15\n",
            "48/52 [==========================>...] - ETA: 0s - loss: 0.6891 - accuracy: 0.8088 - precision_2: 0.9615 - recall_2: 0.7148 - f1_score_macro: 0.2459 - f1_score_micro: 0.8088 - f1_score_weighted: 0.7663\n",
            "Epoch 5: val_loss improved from 0.87594 to 0.79256, saving model to best_model_gru.h5\n",
            "52/52 [==============================] - 1s 15ms/step - loss: 0.6814 - accuracy: 0.8117 - precision_2: 0.9626 - recall_2: 0.7178 - f1_score_macro: 0.2491 - f1_score_micro: 0.8117 - f1_score_weighted: 0.7701 - val_loss: 0.7926 - val_accuracy: 0.8117 - val_precision_2: 0.8988 - val_recall_2: 0.6978 - val_f1_score_macro: 0.2530 - val_f1_score_micro: 0.8117 - val_f1_score_weighted: 0.7677\n",
            "Epoch 6/15\n",
            "52/52 [==============================] - ETA: 0s - loss: 0.5490 - accuracy: 0.8613 - precision_2: 0.9803 - recall_2: 0.7704 - f1_score_macro: 0.3143 - f1_score_micro: 0.8613 - f1_score_weighted: 0.8314\n",
            "Epoch 6: val_loss improved from 0.79256 to 0.73014, saving model to best_model_gru.h5\n",
            "52/52 [==============================] - 1s 16ms/step - loss: 0.5490 - accuracy: 0.8613 - precision_2: 0.9803 - recall_2: 0.7704 - f1_score_macro: 0.3143 - f1_score_micro: 0.8613 - f1_score_weighted: 0.8314 - val_loss: 0.7301 - val_accuracy: 0.8306 - val_precision_2: 0.8949 - val_recall_2: 0.7615 - val_f1_score_macro: 0.2943 - val_f1_score_micro: 0.8306 - val_f1_score_weighted: 0.7986\n",
            "Epoch 7/15\n",
            "51/52 [============================>.] - ETA: 0s - loss: 0.4477 - accuracy: 0.8961 - precision_2: 0.9818 - recall_2: 0.7921 - f1_score_macro: 0.3649 - f1_score_micro: 0.8961 - f1_score_weighted: 0.8717\n",
            "Epoch 7: val_loss improved from 0.73014 to 0.69777, saving model to best_model_gru.h5\n",
            "52/52 [==============================] - 1s 15ms/step - loss: 0.4475 - accuracy: 0.8968 - precision_2: 0.9819 - recall_2: 0.7924 - f1_score_macro: 0.3660 - f1_score_micro: 0.8968 - f1_score_weighted: 0.8725 - val_loss: 0.6978 - val_accuracy: 0.8347 - val_precision_2: 0.9191 - val_recall_2: 0.7385 - val_f1_score_macro: 0.3124 - val_f1_score_micro: 0.8347 - val_f1_score_weighted: 0.8071\n",
            "Epoch 8/15\n",
            "52/52 [==============================] - ETA: 0s - loss: 0.3684 - accuracy: 0.9208 - precision_2: 0.9870 - recall_2: 0.8338 - f1_score_macro: 0.4765 - f1_score_micro: 0.9208 - f1_score_weighted: 0.9045\n",
            "Epoch 8: val_loss improved from 0.69777 to 0.67012, saving model to best_model_gru.h5\n",
            "52/52 [==============================] - 1s 13ms/step - loss: 0.3684 - accuracy: 0.9208 - precision_2: 0.9870 - recall_2: 0.8338 - f1_score_macro: 0.4765 - f1_score_micro: 0.9208 - f1_score_weighted: 0.9045 - val_loss: 0.6701 - val_accuracy: 0.8388 - val_precision_2: 0.9138 - val_recall_2: 0.7615 - val_f1_score_macro: 0.3493 - val_f1_score_micro: 0.8388 - val_f1_score_weighted: 0.8166\n",
            "Epoch 9/15\n",
            "52/52 [==============================] - ETA: 0s - loss: 0.3077 - accuracy: 0.9397 - precision_2: 0.9886 - recall_2: 0.8751 - f1_score_macro: 0.5544 - f1_score_micro: 0.9397 - f1_score_weighted: 0.9294\n",
            "Epoch 9: val_loss improved from 0.67012 to 0.65105, saving model to best_model_gru.h5\n",
            "52/52 [==============================] - 1s 17ms/step - loss: 0.3077 - accuracy: 0.9397 - precision_2: 0.9886 - recall_2: 0.8751 - f1_score_macro: 0.5544 - f1_score_micro: 0.9397 - f1_score_weighted: 0.9294 - val_loss: 0.6510 - val_accuracy: 0.8469 - val_precision_2: 0.9017 - val_recall_2: 0.8076 - val_f1_score_macro: 0.3886 - val_f1_score_micro: 0.8469 - val_f1_score_weighted: 0.8278\n",
            "Epoch 10/15\n",
            "50/52 [===========================>..] - ETA: 0s - loss: 0.2612 - accuracy: 0.9509 - precision_2: 0.9893 - recall_2: 0.8980 - f1_score_macro: 0.5887 - f1_score_micro: 0.9509 - f1_score_weighted: 0.9432\n",
            "Epoch 10: val_loss improved from 0.65105 to 0.64698, saving model to best_model_gru.h5\n",
            "52/52 [==============================] - 1s 10ms/step - loss: 0.2608 - accuracy: 0.9509 - precision_2: 0.9894 - recall_2: 0.8976 - f1_score_macro: 0.5899 - f1_score_micro: 0.9509 - f1_score_weighted: 0.9431 - val_loss: 0.6470 - val_accuracy: 0.8496 - val_precision_2: 0.8997 - val_recall_2: 0.8144 - val_f1_score_macro: 0.4118 - val_f1_score_micro: 0.8496 - val_f1_score_weighted: 0.8329\n",
            "Epoch 11/15\n",
            "52/52 [==============================] - ETA: 0s - loss: 0.2248 - accuracy: 0.9599 - precision_2: 0.9903 - recall_2: 0.9095 - f1_score_macro: 0.6524 - f1_score_micro: 0.9599 - f1_score_weighted: 0.9549\n",
            "Epoch 11: val_loss did not improve from 0.64698\n",
            "52/52 [==============================] - 1s 10ms/step - loss: 0.2248 - accuracy: 0.9599 - precision_2: 0.9903 - recall_2: 0.9095 - f1_score_macro: 0.6524 - f1_score_micro: 0.9599 - f1_score_weighted: 0.9549 - val_loss: 0.6556 - val_accuracy: 0.8537 - val_precision_2: 0.9114 - val_recall_2: 0.7805 - val_f1_score_macro: 0.4820 - val_f1_score_micro: 0.8537 - val_f1_score_weighted: 0.8425\n",
            "Epoch 12/15\n",
            "52/52 [==============================] - ETA: 0s - loss: 0.1952 - accuracy: 0.9667 - precision_2: 0.9895 - recall_2: 0.9224 - f1_score_macro: 0.6949 - f1_score_micro: 0.9667 - f1_score_weighted: 0.9630\n",
            "Epoch 12: val_loss did not improve from 0.64698\n",
            "52/52 [==============================] - 1s 13ms/step - loss: 0.1952 - accuracy: 0.9667 - precision_2: 0.9895 - recall_2: 0.9224 - f1_score_macro: 0.6949 - f1_score_micro: 0.9667 - f1_score_weighted: 0.9630 - val_loss: 0.6537 - val_accuracy: 0.8591 - val_precision_2: 0.8910 - val_recall_2: 0.8306 - val_f1_score_macro: 0.4848 - val_f1_score_micro: 0.8591 - val_f1_score_weighted: 0.8472\n",
            "Epoch 13/15\n",
            "49/52 [===========================>..] - ETA: 0s - loss: 0.1702 - accuracy: 0.9724 - precision_2: 0.9909 - recall_2: 0.9326 - f1_score_macro: 0.7592 - f1_score_micro: 0.9724 - f1_score_weighted: 0.9698\n",
            "Epoch 13: val_loss did not improve from 0.64698\n",
            "52/52 [==============================] - 1s 10ms/step - loss: 0.1711 - accuracy: 0.9721 - precision_2: 0.9910 - recall_2: 0.9322 - f1_score_macro: 0.7606 - f1_score_micro: 0.9721 - f1_score_weighted: 0.9696 - val_loss: 0.6625 - val_accuracy: 0.8591 - val_precision_2: 0.8911 - val_recall_2: 0.8320 - val_f1_score_macro: 0.5009 - val_f1_score_micro: 0.8591 - val_f1_score_weighted: 0.8486\n",
            "Epoch 14/15\n",
            "52/52 [==============================] - ETA: 0s - loss: 0.1513 - accuracy: 0.9757 - precision_2: 0.9908 - recall_2: 0.9375 - f1_score_macro: 0.7914 - f1_score_micro: 0.9757 - f1_score_weighted: 0.9736\n",
            "Epoch 14: val_loss did not improve from 0.64698\n",
            "52/52 [==============================] - 1s 13ms/step - loss: 0.1513 - accuracy: 0.9757 - precision_2: 0.9908 - recall_2: 0.9375 - f1_score_macro: 0.7914 - f1_score_micro: 0.9757 - f1_score_weighted: 0.9736 - val_loss: 0.6707 - val_accuracy: 0.8604 - val_precision_2: 0.8908 - val_recall_2: 0.8293 - val_f1_score_macro: 0.5001 - val_f1_score_micro: 0.8604 - val_f1_score_weighted: 0.8502\n",
            "Epoch 15/15\n",
            "52/52 [==============================] - ETA: 0s - loss: 0.1341 - accuracy: 0.9794 - precision_2: 0.9918 - recall_2: 0.9446 - f1_score_macro: 0.8155 - f1_score_micro: 0.9794 - f1_score_weighted: 0.9778\n",
            "Epoch 15: val_loss did not improve from 0.64698\n",
            "52/52 [==============================] - 1s 16ms/step - loss: 0.1341 - accuracy: 0.9794 - precision_2: 0.9918 - recall_2: 0.9446 - f1_score_macro: 0.8155 - f1_score_micro: 0.9794 - f1_score_weighted: 0.9778 - val_loss: 0.6738 - val_accuracy: 0.8618 - val_precision_2: 0.8884 - val_recall_2: 0.8415 - val_f1_score_macro: 0.5372 - val_f1_score_micro: 0.8618 - val_f1_score_weighted: 0.8529\n"
          ]
        }
      ],
      "source": [
        "history_gru = model_gru.fit(x_train, \n",
        "                              y_train, \n",
        "                              epochs=15,\n",
        "                              batch_size=128,\n",
        "                              validation_split=0.1,\n",
        "                              callbacks=[checkpoint_callback_gru])"
      ]
    },
    {
      "cell_type": "code",
      "source": [
        "plt.plot(history_gru.history['f1_score_weighted'], \n",
        "         label='f1_score_weighted на обучающем наборе')\n",
        "plt.plot(history_gru.history['val_f1_score_weighted'], \n",
        "         label='f1_score_weighted на проверочном наборе')\n",
        "plt.xlabel('Эпоха обучения')\n",
        "plt.ylabel('f1_score_weighted')\n",
        "plt.legend()\n",
        "plt.show()"
      ],
      "metadata": {
        "colab": {
          "base_uri": "https://localhost:8080/",
          "height": 454
        },
        "id": "XkHRoKIrusOs",
        "outputId": "3f5c7908-db3f-4eb9-8ca0-b0c628e61e07"
      },
      "execution_count": 63,
      "outputs": [
        {
          "output_type": "display_data",
          "data": {
            "text/plain": [
              "<Figure size 640x480 with 1 Axes>"
            ],
            "image/png": "[encoded data removed]"
          },
          "metadata": {}
        }
      ]
    },
    {
      "cell_type": "code",
      "execution_count": 64,
      "metadata": {
        "colab": {
          "base_uri": "https://localhost:8080/",
          "height": 449
        },
        "id": "Qtufc5zTPFWc",
        "outputId": "cd2b56ca-c973-4b72-9b78-917a42b5255b"
      },
      "outputs": [
        {
          "output_type": "display_data",
          "data": {
            "text/plain": [
              "<Figure size 640x480 with 1 Axes>"
            ],
            "image/png": "[encoded data removed]"
          },
          "metadata": {}
        }
      ],
      "source": [
        "plt.plot(history_gru.history['accuracy'], \n",
        "         label='Доля верных ответов на обучающем наборе')\n",
        "plt.plot(history_gru.history['val_accuracy'], \n",
        "         label='Доля верных ответов на проверочном наборе')\n",
        "plt.xlabel('Эпоха обучения')\n",
        "plt.ylabel('Доля верных ответов')\n",
        "plt.legend()\n",
        "plt.show()"
      ]
    },
    {
      "cell_type": "code",
      "source": [
        "gru_loaded = load_model(\"best_model_gru.h5\")"
      ],
      "metadata": {
        "id": "90FEOVx1uy10"
      },
      "execution_count": 65,
      "outputs": []
    },
    {
      "cell_type": "code",
      "source": [
        "gru_loaded.evaluate(x_test, y_test, verbose=1)"
      ],
      "metadata": {
        "colab": {
          "base_uri": "https://localhost:8080/"
        },
        "id": "NhNPjpBxu2qK",
        "outputId": "58dda42e-50fe-4919-ebcf-4fe359eb9f0d"
      },
      "execution_count": 66,
      "outputs": [
        {
          "output_type": "stream",
          "name": "stdout",
          "text": [
            "58/58 [==============================] - 1s 4ms/step - loss: 0.6599 - accuracy: 0.8514 - precision_2: 0.8855 - recall_2: 0.8091 - f1_score_macro: 0.4877 - f1_score_micro: 0.8514 - f1_score_weighted: 0.8374\n"
          ]
        },
        {
          "output_type": "execute_result",
          "data": {
            "text/plain": [
              "[0.6598932147026062,\n",
              " 0.8514099717140198,\n",
              " 0.8854599595069885,\n",
              " 0.8091106414794922,\n",
              " 0.48772791028022766,\n",
              " 0.8514099717140198,\n",
              " 0.8373979926109314]"
            ]
          },
          "metadata": {},
          "execution_count": 66
        }
      ]
    },
    {
      "cell_type": "code",
      "source": [
        "predicted_gru = gru_loaded.predict(x_test)"
      ],
      "metadata": {
        "colab": {
          "base_uri": "https://localhost:8080/"
        },
        "id": "T0S6ftTAu8yU",
        "outputId": "0d7b3dbb-5fb1-4ee8-8ae8-6d72026ccf90"
      },
      "execution_count": 67,
      "outputs": [
        {
          "output_type": "stream",
          "name": "stdout",
          "text": [
            "58/58 [==============================] - 0s 2ms/step\n"
          ]
        }
      ]
    },
    {
      "cell_type": "code",
      "source": [
        "report_gru = sklearn_metrics.classification_report(np.argmax(y_test, axis=1), np.argmax(predicted_gru, axis=1))\n",
        "print(report_gru)"
      ],
      "metadata": {
        "colab": {
          "base_uri": "https://localhost:8080/"
        },
        "id": "cVtcwo6IvAdU",
        "outputId": "05e111a5-b173-43ef-94f7-9d38bdcb5a98"
      },
      "execution_count": 68,
      "outputs": [
        {
          "output_type": "stream",
          "name": "stdout",
          "text": [
            "              precision    recall  f1-score   support\n",
            "\n",
            "           0       0.86      0.97      0.91      1231\n",
            "           1       0.81      0.67      0.73       190\n",
            "           2       0.79      0.66      0.72       146\n",
            "           3       0.74      0.63      0.68        90\n",
            "           4       0.92      0.70      0.80        70\n",
            "           5       1.00      0.61      0.76        18\n",
            "           6       0.93      0.65      0.76        20\n",
            "           7       1.00      0.29      0.44        21\n",
            "           8       1.00      0.20      0.33        10\n",
            "           9       0.80      0.42      0.55        19\n",
            "          10       1.00      0.44      0.62         9\n",
            "          11       0.00      0.00      0.00         8\n",
            "          12       0.00      0.00      0.00         6\n",
            "          13       0.00      0.00      0.00         3\n",
            "          14       0.00      0.00      0.00         3\n",
            "\n",
            "    accuracy                           0.85      1844\n",
            "   macro avg       0.66      0.42      0.49      1844\n",
            "weighted avg       0.84      0.85      0.84      1844\n",
            "\n"
          ]
        },
        {
          "output_type": "stream",
          "name": "stderr",
          "text": [
            "/usr/local/lib/python3.10/dist-packages/sklearn/metrics/_classification.py:1344: UndefinedMetricWarning: Precision and F-score are ill-defined and being set to 0.0 in labels with no predicted samples. Use `zero_division` parameter to control this behavior.\n",
            "  _warn_prf(average, modifier, msg_start, len(result))\n",
            "/usr/local/lib/python3.10/dist-packages/sklearn/metrics/_classification.py:1344: UndefinedMetricWarning: Precision and F-score are ill-defined and being set to 0.0 in labels with no predicted samples. Use `zero_division` parameter to control this behavior.\n",
            "  _warn_prf(average, modifier, msg_start, len(result))\n",
            "/usr/local/lib/python3.10/dist-packages/sklearn/metrics/_classification.py:1344: UndefinedMetricWarning: Precision and F-score are ill-defined and being set to 0.0 in labels with no predicted samples. Use `zero_division` parameter to control this behavior.\n",
            "  _warn_prf(average, modifier, msg_start, len(result))\n"
          ]
        }
      ]
    },
    {
      "cell_type": "code",
      "source": [
        "with open(\"GRU_15.txt\", 'w') as w_file:\n",
        "  w_file.write(report_gru)"
      ],
      "metadata": {
        "id": "xtJ3EF6-vFbh"
      },
      "execution_count": 69,
      "outputs": []
    },
    {
      "cell_type": "markdown",
      "metadata": {
        "id": "8WU2KbiePLRO"
      },
      "source": [
        "## Загружаем набор данных для тестирования\n"
      ]
    },
    {
      "cell_type": "code",
      "execution_count": 70,
      "metadata": {
        "colab": {
          "base_uri": "https://localhost:8080/",
          "height": 424
        },
        "id": "nc9AH3Y6PL0S",
        "outputId": "721f8bc9-6e1b-42fc-83c8-bd1217833cba"
      },
      "outputs": [
        {
          "output_type": "execute_result",
          "data": {
            "text/plain": [
              "     img_emoji  word_count  count_emoji emotion           tonality  class  \\\n",
              "8112         😅           5            1   smile  positive/negative      0   \n",
              "7290         😆           4            1   smile  positive/negative      0   \n",
              "5976         😁           4            1   smile  positive/negative      0   \n",
              "169          😅           9            1   smile  positive/negative      0   \n",
              "3266         😹           6            1   smile  positive/negative      0   \n",
              "...        ...         ...          ...     ...                ...    ...   \n",
              "2683         😍           9            1     joy           positive      2   \n",
              "2543         🤣           8            1   smile  positive/negative      0   \n",
              "6063         😡           3            1   anger           negative      7   \n",
              "8144         😊           9            1   smile  positive/negative      0   \n",
              "6986         😂           4            1   smile  positive/negative      0   \n",
              "\n",
              "                                             clean_text  \n",
              "8112                           или стёкл как трезвышко😅  \n",
              "7290                                    одни в кровати😆  \n",
              "5976                                  такой же вопрос 😁  \n",
              "169   для мужчин это очень большое признание в чувст...  \n",
              "3266                              ой ну я же серьезно 😹  \n",
              "...                                                 ...  \n",
              "2683          где шмотки купить как на первой фотке ? 😍  \n",
              "2543               и наш петров ,всегда один и тот-же 🤣  \n",
              "6063                                 питушинная башка 😡  \n",
              "8144         спасибо большое! и вам всего чего желаете😊  \n",
              "6986                                 эта песня кстати 😂  \n",
              "\n",
              "[1844 rows x 7 columns]"
            ],
            "text/html": [
              "\n",
              "  <div id=\"df-4e6ebad5-83a4-44fa-b785-edd271a6060a\">\n",
              "    <div class=\"colab-df-container\">\n",
              "      <div>\n",
              "<style scoped>\n",
              "    .dataframe tbody tr th:only-of-type {\n",
              "        vertical-align: middle;\n",
              "    }\n",
              "\n",
              "    .dataframe tbody tr th {\n",
              "        vertical-align: top;\n",
              "    }\n",
              "\n",
              "    .dataframe thead th {\n",
              "        text-align: right;\n",
              "    }\n",
              "</style>\n",
              "<table border=\"1\" class=\"dataframe\">\n",
              "  <thead>\n",
              "    <tr style=\"text-align: right;\">\n",
              "      <th></th>\n",
              "      <th>img_emoji</th>\n",
              "      <th>word_count</th>\n",
              "      <th>count_emoji</th>\n",
              "      <th>emotion</th>\n",
              "      <th>tonality</th>\n",
              "      <th>class</th>\n",
              "      <th>clean_text</th>\n",
              "    </tr>\n",
              "  </thead>\n",
              "  <tbody>\n",
              "    <tr>\n",
              "      <th>8112</th>\n",
              "      <td>😅</td>\n",
              "      <td>5</td>\n",
              "      <td>1</td>\n",
              "      <td>smile</td>\n",
              "      <td>positive/negative</td>\n",
              "      <td>0</td>\n",
              "      <td>или стёкл как трезвышко😅</td>\n",
              "    </tr>\n",
              "    <tr>\n",
              "      <th>7290</th>\n",
              "      <td>😆</td>\n",
              "      <td>4</td>\n",
              "      <td>1</td>\n",
              "      <td>smile</td>\n",
              "      <td>positive/negative</td>\n",
              "      <td>0</td>\n",
              "      <td>одни в кровати😆</td>\n",
              "    </tr>\n",
              "    <tr>\n",
              "      <th>5976</th>\n",
              "      <td>😁</td>\n",
              "      <td>4</td>\n",
              "      <td>1</td>\n",
              "      <td>smile</td>\n",
              "      <td>positive/negative</td>\n",
              "      <td>0</td>\n",
              "      <td>такой же вопрос 😁</td>\n",
              "    </tr>\n",
              "    <tr>\n",
              "      <th>169</th>\n",
              "      <td>😅</td>\n",
              "      <td>9</td>\n",
              "      <td>1</td>\n",
              "      <td>smile</td>\n",
              "      <td>positive/negative</td>\n",
              "      <td>0</td>\n",
              "      <td>для мужчин это очень большое признание в чувст...</td>\n",
              "    </tr>\n",
              "    <tr>\n",
              "      <th>3266</th>\n",
              "      <td>😹</td>\n",
              "      <td>6</td>\n",
              "      <td>1</td>\n",
              "      <td>smile</td>\n",
              "      <td>positive/negative</td>\n",
              "      <td>0</td>\n",
              "      <td>ой ну я же серьезно 😹</td>\n",
              "    </tr>\n",
              "    <tr>\n",
              "      <th>...</th>\n",
              "      <td>...</td>\n",
              "      <td>...</td>\n",
              "      <td>...</td>\n",
              "      <td>...</td>\n",
              "      <td>...</td>\n",
              "      <td>...</td>\n",
              "      <td>...</td>\n",
              "    </tr>\n",
              "    <tr>\n",
              "      <th>2683</th>\n",
              "      <td>😍</td>\n",
              "      <td>9</td>\n",
              "      <td>1</td>\n",
              "      <td>joy</td>\n",
              "      <td>positive</td>\n",
              "      <td>2</td>\n",
              "      <td>где шмотки купить как на первой фотке ? 😍</td>\n",
              "    </tr>\n",
              "    <tr>\n",
              "      <th>2543</th>\n",
              "      <td>🤣</td>\n",
              "      <td>8</td>\n",
              "      <td>1</td>\n",
              "      <td>smile</td>\n",
              "      <td>positive/negative</td>\n",
              "      <td>0</td>\n",
              "      <td>и наш петров ,всегда один и тот-же 🤣</td>\n",
              "    </tr>\n",
              "    <tr>\n",
              "      <th>6063</th>\n",
              "      <td>😡</td>\n",
              "      <td>3</td>\n",
              "      <td>1</td>\n",
              "      <td>anger</td>\n",
              "      <td>negative</td>\n",
              "      <td>7</td>\n",
              "      <td>питушинная башка 😡</td>\n",
              "    </tr>\n",
              "    <tr>\n",
              "      <th>8144</th>\n",
              "      <td>😊</td>\n",
              "      <td>9</td>\n",
              "      <td>1</td>\n",
              "      <td>smile</td>\n",
              "      <td>positive/negative</td>\n",
              "      <td>0</td>\n",
              "      <td>спасибо большое! и вам всего чего желаете😊</td>\n",
              "    </tr>\n",
              "    <tr>\n",
              "      <th>6986</th>\n",
              "      <td>😂</td>\n",
              "      <td>4</td>\n",
              "      <td>1</td>\n",
              "      <td>smile</td>\n",
              "      <td>positive/negative</td>\n",
              "      <td>0</td>\n",
              "      <td>эта песня кстати 😂</td>\n",
              "    </tr>\n",
              "  </tbody>\n",
              "</table>\n",
              "<p>1844 rows × 7 columns</p>\n",
              "</div>\n",
              "      <button class=\"colab-df-convert\" onclick=\"convertToInteractive('df-4e6ebad5-83a4-44fa-b785-edd271a6060a')\"\n",
              "              title=\"Convert this dataframe to an interactive table.\"\n",
              "              style=\"display:none;\">\n",
              "        \n",
              "  <svg xmlns=\"http://www.w3.org/2000/svg\" height=\"24px\"viewBox=\"0 0 24 24\"\n",
              "       width=\"24px\">\n",
              "    <path d=\"M0 0h24v24H0V0z\" fill=\"none\"/>\n",
              "    <path d=\"M18.56 5.44l.94 2.06.94-2.06 2.06-.94-2.06-.94-.94-2.06-.94 2.06-2.06.94zm-11 1L8.5 8.5l.94-2.06 2.06-.94-2.06-.94L8.5 2.5l-.94 2.06-2.06.94zm10 10l.94 2.06.94-2.06 2.06-.94-2.06-.94-.94-2.06-.94 2.06-2.06.94z\"/><path d=\"M17.41 7.96l-1.37-1.37c-.4-.4-.92-.59-1.43-.59-.52 0-1.04.2-1.43.59L10.3 9.45l-7.72 7.72c-.78.78-.78 2.05 0 2.83L4 21.41c.39.39.9.59 1.41.59.51 0 1.02-.2 1.41-.59l7.78-7.78 2.81-2.81c.8-.78.8-2.07 0-2.86zM5.41 20L4 18.59l7.72-7.72 1.47 1.35L5.41 20z\"/>\n",
              "  </svg>\n",
              "      </button>\n",
              "      \n",
              "  <style>\n",
              "    .colab-df-container {\n",
              "      display:flex;\n",
              "      flex-wrap:wrap;\n",
              "      gap: 12px;\n",
              "    }\n",
              "\n",
              "    .colab-df-convert {\n",
              "      background-color: #E8F0FE;\n",
              "      border: none;\n",
              "      border-radius: 50%;\n",
              "      cursor: pointer;\n",
              "      display: none;\n",
              "      fill: #1967D2;\n",
              "      height: 32px;\n",
              "      padding: 0 0 0 0;\n",
              "      width: 32px;\n",
              "    }\n",
              "\n",
              "    .colab-df-convert:hover {\n",
              "      background-color: #E2EBFA;\n",
              "      box-shadow: 0px 1px 2px rgba(60, 64, 67, 0.3), 0px 1px 3px 1px rgba(60, 64, 67, 0.15);\n",
              "      fill: #174EA6;\n",
              "    }\n",
              "\n",
              "    [theme=dark] .colab-df-convert {\n",
              "      background-color: #3B4455;\n",
              "      fill: #D2E3FC;\n",
              "    }\n",
              "\n",
              "    [theme=dark] .colab-df-convert:hover {\n",
              "      background-color: #434B5C;\n",
              "      box-shadow: 0px 1px 3px 1px rgba(0, 0, 0, 0.15);\n",
              "      filter: drop-shadow(0px 1px 2px rgba(0, 0, 0, 0.3));\n",
              "      fill: #FFFFFF;\n",
              "    }\n",
              "  </style>\n",
              "\n",
              "      <script>\n",
              "        const buttonEl =\n",
              "          document.querySelector('#df-4e6ebad5-83a4-44fa-b785-edd271a6060a button.colab-df-convert');\n",
              "        buttonEl.style.display =\n",
              "          google.colab.kernel.accessAllowed ? 'block' : 'none';\n",
              "\n",
              "        async function convertToInteractive(key) {\n",
              "          const element = document.querySelector('#df-4e6ebad5-83a4-44fa-b785-edd271a6060a');\n",
              "          const dataTable =\n",
              "            await google.colab.kernel.invokeFunction('convertToInteractive',\n",
              "                                                     [key], {});\n",
              "          if (!dataTable) return;\n",
              "\n",
              "          const docLinkHtml = 'Like what you see? Visit the ' +\n",
              "            '<a target=\"_blank\" href=https://colab.research.google.com/notebooks/data_table.ipynb>data table notebook</a>'\n",
              "            + ' to learn more about interactive tables.';\n",
              "          element.innerHTML = '';\n",
              "          dataTable['output_type'] = 'display_data';\n",
              "          await google.colab.output.renderOutput(dataTable, element);\n",
              "          const docLink = document.createElement('div');\n",
              "          docLink.innerHTML = docLinkHtml;\n",
              "          element.appendChild(docLink);\n",
              "        }\n",
              "      </script>\n",
              "    </div>\n",
              "  </div>\n",
              "  "
            ]
          },
          "metadata": {},
          "execution_count": 70
        }
      ],
      "source": [
        "test"
      ]
    },
    {
      "cell_type": "markdown",
      "metadata": {
        "id": "8fYW-KKXPULV"
      },
      "source": [
        "Преобразуем посты в числовое представление\n",
        "\n",
        "Нужно использовать токенизатор, обученный на наборе данных train."
      ]
    },
    {
      "cell_type": "code",
      "execution_count": 71,
      "metadata": {
        "id": "5UlxwGZePZ5E"
      },
      "outputs": [],
      "source": [
        "test_sequences = tokenizer.texts_to_sequences(test['clean_text'])"
      ]
    },
    {
      "cell_type": "code",
      "execution_count": 72,
      "metadata": {
        "id": "2T1c5WEFPiRk"
      },
      "outputs": [],
      "source": [
        "x_test = pad_sequences(test_sequences, maxlen=max_len)"
      ]
    },
    {
      "cell_type": "code",
      "execution_count": 73,
      "metadata": {
        "colab": {
          "base_uri": "https://localhost:8080/"
        },
        "id": "y1JyHIelPkU3",
        "outputId": "46422bb8-879b-4cb8-81c6-95b0913a1ec5"
      },
      "outputs": [
        {
          "output_type": "execute_result",
          "data": {
            "text/plain": [
              "array([[   0,    0,    0,    0,    0,    0,    0,    0,    0,   70,   15],\n",
              "       [   0,    0,    0,    0,    0,    0,    0,    0,    0,  985,    3],\n",
              "       [   0,    0,    0,    0,    0,    0,    0,   90,   25,  295,   11],\n",
              "       [   0,    0,    0,    0,   43,  941,    6,   59,  549, 4468,    3],\n",
              "       [   0,    0,    0,    0,    0,  358,   19,    8,   25, 2288,  262]],\n",
              "      dtype=int32)"
            ]
          },
          "metadata": {},
          "execution_count": 73
        }
      ],
      "source": [
        "x_test[:5]"
      ]
    },
    {
      "cell_type": "markdown",
      "metadata": {
        "id": "g-Pp5iQePo_X"
      },
      "source": [
        "Правильные ответы"
      ]
    },
    {
      "cell_type": "code",
      "execution_count": 74,
      "metadata": {
        "id": "cwAAW_sGPpSw"
      },
      "outputs": [],
      "source": [
        "y_test = utils.to_categorical(test['class'], nb_classes)"
      ]
    },
    {
      "cell_type": "code",
      "execution_count": 75,
      "metadata": {
        "colab": {
          "base_uri": "https://localhost:8080/"
        },
        "id": "Aza8ZejCPt3N",
        "outputId": "fd8919cd-9a8a-4f6a-e1d0-e14fbbf3d123"
      },
      "outputs": [
        {
          "output_type": "execute_result",
          "data": {
            "text/plain": [
              "array([[1., 0., 0., ..., 0., 0., 0.],\n",
              "       [1., 0., 0., ..., 0., 0., 0.],\n",
              "       [1., 0., 0., ..., 0., 0., 0.],\n",
              "       ...,\n",
              "       [0., 0., 0., ..., 0., 0., 0.],\n",
              "       [1., 0., 0., ..., 0., 0., 0.],\n",
              "       [1., 0., 0., ..., 0., 0., 0.]], dtype=float32)"
            ]
          },
          "metadata": {},
          "execution_count": 75
        }
      ],
      "source": [
        "y_test"
      ]
    },
    {
      "cell_type": "markdown",
      "metadata": {
        "id": "0s4FkOqwPw4x"
      },
      "source": [
        "## Оцениваем качество работы сети на тестовом наборе данных\n"
      ]
    },
    {
      "cell_type": "markdown",
      "metadata": {
        "id": "Oa19p3g1Pzid"
      },
      "source": [
        "### Одномерная сверточная сеть"
      ]
    },
    {
      "cell_type": "code",
      "execution_count": 76,
      "metadata": {
        "id": "Yq02xc1NPx0b"
      },
      "outputs": [],
      "source": [
        "model_cnn.load_weights(model_cnn_save_path)"
      ]
    },
    {
      "cell_type": "code",
      "execution_count": 77,
      "metadata": {
        "colab": {
          "base_uri": "https://localhost:8080/"
        },
        "id": "0emPMQVrP4SD",
        "outputId": "45324871-0244-413f-d1e8-cb6c59ff047c"
      },
      "outputs": [
        {
          "output_type": "stream",
          "name": "stdout",
          "text": [
            "58/58 [==============================] - 0s 7ms/step - loss: 0.8271 - accuracy: 0.8151 - precision: 0.9044 - recall: 0.6925 - f1_score_macro: 0.2777 - f1_score_micro: 0.8151 - f1_score_weighted: 0.7896\n"
          ]
        }
      ],
      "source": [
        "loss, accuracy, precision, recall, f1_score_macro, f1_score_micro, f1_score_weighted = model_cnn.evaluate(x_test, y_test, verbose=1)"
      ]
    },
    {
      "cell_type": "markdown",
      "metadata": {
        "id": "dOfAaLZmQAJB"
      },
      "source": [
        "### Сеть LSTM"
      ]
    },
    {
      "cell_type": "code",
      "execution_count": 78,
      "metadata": {
        "id": "5XksalfdQAeL"
      },
      "outputs": [],
      "source": [
        "model_lstm.load_weights(model_lstm_save_path)"
      ]
    },
    {
      "cell_type": "code",
      "execution_count": 79,
      "metadata": {
        "colab": {
          "base_uri": "https://localhost:8080/"
        },
        "id": "nR4ibXlzQEsY",
        "outputId": "a1c1c996-054b-4b15-b5ee-cf73a050a7af"
      },
      "outputs": [
        {
          "output_type": "stream",
          "name": "stdout",
          "text": [
            "58/58 [==============================] - 1s 11ms/step - loss: 0.7405 - accuracy: 0.8227 - precision_1: 0.8795 - recall_1: 0.7880 - f1_score_macro: 0.2934 - f1_score_micro: 0.8227 - f1_score_weighted: 0.7981\n"
          ]
        }
      ],
      "source": [
        "loss, accuracy, precision, recall, f1_score_macro, f1_score_micro, f1_score_weighted = model_lstm.evaluate(x_test, y_test, verbose=1)"
      ]
    },
    {
      "cell_type": "markdown",
      "metadata": {
        "id": "HzbgapQeQLqr"
      },
      "source": [
        "### Сеть GRU"
      ]
    },
    {
      "cell_type": "code",
      "execution_count": 80,
      "metadata": {
        "id": "R4yZXw9cQLK7"
      },
      "outputs": [],
      "source": [
        "model_gru.load_weights(model_gru_save_path)"
      ]
    },
    {
      "cell_type": "code",
      "execution_count": 81,
      "metadata": {
        "colab": {
          "base_uri": "https://localhost:8080/"
        },
        "id": "NeONctrTQORa",
        "outputId": "01658055-7da1-4ee2-cccc-b37950bfcf16"
      },
      "outputs": [
        {
          "output_type": "stream",
          "name": "stdout",
          "text": [
            "58/58 [==============================] - 0s 4ms/step - loss: 0.6599 - accuracy: 0.8514 - precision_2: 0.8855 - recall_2: 0.8091 - f1_score_macro: 0.4877 - f1_score_micro: 0.8514 - f1_score_weighted: 0.8374\n"
          ]
        }
      ],
      "source": [
        "loss, accuracy, precision, recall, f1_score_macro, f1_score_micro, f1_score_weighted = model_gru.evaluate(x_test, y_test, verbose=1)"
      ]
    },
    {
      "cell_type": "code",
      "execution_count": 93,
      "metadata": {
        "colab": {
          "base_uri": "https://localhost:8080/",
          "height": 35
        },
        "id": "zEvbEOkjQf5B",
        "outputId": "f394a41a-7fbf-4463-e4cf-32e93f0324f2"
      },
      "outputs": [
        {
          "output_type": "execute_result",
          "data": {
            "text/plain": [
              "'повезло 😅'"
            ],
            "application/vnd.google.colaboratory.intrinsic+json": {
              "type": "string"
            }
          },
          "metadata": {},
          "execution_count": 93
        }
      ],
      "source": [
        "#test['clean_text'][592]\n",
        "test['clean_text'][500]"
      ]
    },
    {
      "cell_type": "code",
      "execution_count": 94,
      "metadata": {
        "colab": {
          "base_uri": "https://localhost:8080/"
        },
        "id": "85dlSCdSQqgE",
        "outputId": "606a931c-d6d1-42b2-cce5-b32e51550626"
      },
      "outputs": [
        {
          "output_type": "execute_result",
          "data": {
            "text/plain": [
              "(0, 'smile', 'positive/negative')"
            ]
          },
          "metadata": {},
          "execution_count": 94
        }
      ],
      "source": [
        "#test['class'][2384], test['emotion'][2384], test['tonality'][2384]\n",
        "test['class'][500], test['emotion'][500], test['tonality'][500]"
      ]
    },
    {
      "cell_type": "code",
      "execution_count": 95,
      "metadata": {
        "id": "iRFWcay1Q0p_"
      },
      "outputs": [],
      "source": [
        "#text = test['clean_text'][2384]\n",
        "text = test['clean_text'][500]"
      ]
    },
    {
      "cell_type": "code",
      "execution_count": 96,
      "metadata": {
        "id": "RVaiOLs9Q34W"
      },
      "outputs": [],
      "source": [
        "sequence = tokenizer.texts_to_sequences([text])"
      ]
    },
    {
      "cell_type": "code",
      "execution_count": 97,
      "metadata": {
        "colab": {
          "base_uri": "https://localhost:8080/"
        },
        "id": "Ye6hisERQ6Bz",
        "outputId": "4cb83215-7ddc-4a80-cc9e-b45257c1568c"
      },
      "outputs": [
        {
          "output_type": "execute_result",
          "data": {
            "text/plain": [
              "[[460, 16]]"
            ]
          },
          "metadata": {},
          "execution_count": 97
        }
      ],
      "source": [
        "sequence"
      ]
    },
    {
      "cell_type": "code",
      "execution_count": 98,
      "metadata": {
        "id": "FPPz1T4KQ8uY"
      },
      "outputs": [],
      "source": [
        "data = pad_sequences(sequence, maxlen=max_len)"
      ]
    },
    {
      "cell_type": "code",
      "execution_count": 99,
      "metadata": {
        "colab": {
          "base_uri": "https://localhost:8080/"
        },
        "id": "qipsluoCQ-55",
        "outputId": "e8ae7a67-5aa5-4b00-8afc-c7ce31e8f3df"
      },
      "outputs": [
        {
          "output_type": "execute_result",
          "data": {
            "text/plain": [
              "array([[  0,   0,   0,   0,   0,   0,   0,   0,   0, 460,  16]],\n",
              "      dtype=int32)"
            ]
          },
          "metadata": {},
          "execution_count": 99
        }
      ],
      "source": [
        "data"
      ]
    },
    {
      "cell_type": "code",
      "execution_count": 100,
      "metadata": {
        "id": "HR99Z5NiRdcs"
      },
      "outputs": [],
      "source": [
        "emoji_dict = {\"0\":\"smile positive/negative\", \"1\":\"no_emotion neutral/skeptical\", \"2\":\"joy positive\",\n",
        "              \"3\":\"no_emotion positive/negative\", \"4\":\"sadness negative\", \"5\":\"fear negative\",\n",
        "              \"6\":\"shame negative\",\"7\":\"anger negative\", \"8\":\"disgust negative\",\n",
        "              \"9\":\"surprise positive/negative\",\"10\":\"disgust neutral/skeptical\", \"11\":\"surprise negative\",\n",
        "              \"12\":\"no_emotion negative\",\"13\":\"sadness positive/negative\", \"14\":\"fear positive/negative\"}"
      ]
    },
    {
      "cell_type": "markdown",
      "metadata": {
        "id": "jSxd7cSsRKcf"
      },
      "source": [
        "### Одномерная сверточная сеть"
      ]
    },
    {
      "cell_type": "code",
      "execution_count": 101,
      "metadata": {
        "colab": {
          "base_uri": "https://localhost:8080/"
        },
        "id": "2Ldh4MKMRBWs",
        "outputId": "08aeaf7f-3771-4e7f-b7d4-f311bf9ad346"
      },
      "outputs": [
        {
          "output_type": "stream",
          "name": "stdout",
          "text": [
            "1/1 [==============================] - 0s 102ms/step\n"
          ]
        }
      ],
      "source": [
        "result_cnn = model_cnn.predict(data)"
      ]
    },
    {
      "cell_type": "code",
      "execution_count": 102,
      "metadata": {
        "colab": {
          "base_uri": "https://localhost:8080/"
        },
        "id": "VhiT958GRTRP",
        "outputId": "33b29a14-591a-4e87-e21b-742902f30a1b"
      },
      "outputs": [
        {
          "output_type": "execute_result",
          "data": {
            "text/plain": [
              "array([[1.0000000e+00, 2.3185901e-08, 1.4933718e-09, 3.7241304e-10,\n",
              "        3.5395739e-10, 3.4297434e-10, 2.1363611e-11, 1.7040305e-09,\n",
              "        4.2403208e-08, 8.6679055e-09, 3.9975964e-10, 7.6532884e-11,\n",
              "        1.7332660e-10, 2.5223044e-11, 1.7432785e-14]], dtype=float32)"
            ]
          },
          "metadata": {},
          "execution_count": 102
        }
      ],
      "source": [
        "result_cnn"
      ]
    },
    {
      "cell_type": "markdown",
      "metadata": {
        "id": "ZU1PXJxHRwW1"
      },
      "source": [
        "### Сеть LSTM"
      ]
    },
    {
      "cell_type": "code",
      "execution_count": 103,
      "metadata": {
        "colab": {
          "base_uri": "https://localhost:8080/"
        },
        "id": "QqlfceZPRw3k",
        "outputId": "3535538a-f72d-419b-d104-94bb1b47e515"
      },
      "outputs": [
        {
          "output_type": "stream",
          "name": "stdout",
          "text": [
            "1/1 [==============================] - 1s 515ms/step\n"
          ]
        }
      ],
      "source": [
        "result_lstm = model_lstm.predict(data)"
      ]
    },
    {
      "cell_type": "code",
      "execution_count": 104,
      "metadata": {
        "colab": {
          "base_uri": "https://localhost:8080/"
        },
        "id": "LfOLoMDhR1Y-",
        "outputId": "e17437b8-7aa1-4256-a036-e4eca8e3a6d6"
      },
      "outputs": [
        {
          "output_type": "execute_result",
          "data": {
            "text/plain": [
              "array([[9.84723330e-01, 3.26839974e-03, 5.15431631e-03, 1.45135564e-03,\n",
              "        3.91926058e-03, 4.98664274e-04, 1.20048935e-04, 1.18410673e-04,\n",
              "        8.11591744e-05, 5.38487839e-05, 2.84335001e-05, 5.44407922e-05,\n",
              "        1.41278564e-04, 3.35751683e-04, 5.12282531e-05]], dtype=float32)"
            ]
          },
          "metadata": {},
          "execution_count": 104
        }
      ],
      "source": [
        "result_lstm"
      ]
    },
    {
      "cell_type": "markdown",
      "metadata": {
        "id": "9J4Mej6ESA17"
      },
      "source": [
        "### Сеть GRU"
      ]
    },
    {
      "cell_type": "code",
      "execution_count": 105,
      "metadata": {
        "colab": {
          "base_uri": "https://localhost:8080/"
        },
        "id": "Z2_0ugy5SBW2",
        "outputId": "e9c11ced-3e77-4241-c403-1d32cb9b0281"
      },
      "outputs": [
        {
          "output_type": "stream",
          "name": "stdout",
          "text": [
            "1/1 [==============================] - 0s 294ms/step\n"
          ]
        }
      ],
      "source": [
        "result_gru = model_gru.predict(data)"
      ]
    },
    {
      "cell_type": "code",
      "execution_count": 106,
      "metadata": {
        "colab": {
          "base_uri": "https://localhost:8080/"
        },
        "id": "QgmWEboVSFKJ",
        "outputId": "6b184a6c-f9a2-45f7-a0d1-c3598f54491c"
      },
      "outputs": [
        {
          "output_type": "execute_result",
          "data": {
            "text/plain": [
              "array([[9.9346328e-01, 3.2459463e-03, 1.3239337e-04, 7.1503845e-04,\n",
              "        1.7544507e-03, 4.1749463e-05, 2.1149903e-04, 1.6167172e-05,\n",
              "        5.3518437e-05, 8.8751922e-06, 1.4962305e-05, 4.6309859e-05,\n",
              "        1.3462523e-05, 1.6649027e-04, 1.1583942e-04]], dtype=float32)"
            ]
          },
          "metadata": {},
          "execution_count": 106
        }
      ],
      "source": [
        "result_gru"
      ]
    }
  ],
  "metadata": {
    "accelerator": "GPU",
    "colab": {
      "provenance": []
    },
    "gpuClass": "standard",
    "kernelspec": {
      "display_name": "Python 3 (ipykernel)",
      "language": "python",
      "name": "python3"
    },
    "language_info": {
      "codemirror_mode": {
        "name": "ipython",
        "version": 3
      },
      "file_extension": ".py",
      "mimetype": "text/x-python",
      "name": "python",
      "nbconvert_exporter": "python",
      "pygments_lexer": "ipython3",
      "version": "3.9.13"
    }
  },
  "nbformat": 4,
  "nbformat_minor": 0
}