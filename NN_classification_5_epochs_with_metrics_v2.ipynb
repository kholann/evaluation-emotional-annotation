{
  "cells": [
    {
      "cell_type": "markdown",
      "metadata": {
        "id": "kAc2Bg2BJECO"
      },
      "source": [
        "## Классификация постов\n",
        "Используется три архитектуры нейронных сетей:\n",
        "- Одномерная сверточная нейросеть\n",
        "- Рекуррентная нейросеть LSTM\n",
        "- Рекуррентная нейросеть GRU"
      ]
    },
    {
      "cell_type": "code",
      "source": [
        "!pip show tensorflow"
      ],
      "metadata": {
        "colab": {
          "base_uri": "https://localhost:8080/"
        },
        "id": "tgU5uTFYPtrc",
        "outputId": "8f40b08b-d6e6-40a5-9ea9-57386164254e"
      },
      "execution_count": 1,
      "outputs": [
        {
          "output_type": "stream",
          "name": "stdout",
          "text": [
            "Name: tensorflow\n",
            "Version: 2.12.0\n",
            "Summary: TensorFlow is an open source machine learning framework for everyone.\n",
            "Home-page: https://www.tensorflow.org/\n",
            "Author: Google Inc.\n",
            "Author-email: packages@tensorflow.org\n",
            "License: Apache 2.0\n",
            "Location: /usr/local/lib/python3.10/dist-packages\n",
            "Requires: absl-py, astunparse, flatbuffers, gast, google-pasta, grpcio, h5py, jax, keras, libclang, numpy, opt-einsum, packaging, protobuf, setuptools, six, tensorboard, tensorflow-estimator, tensorflow-io-gcs-filesystem, termcolor, typing-extensions, wrapt\n",
            "Required-by: dopamine-rl\n"
          ]
        }
      ]
    },
    {
      "cell_type": "markdown",
      "source": [
        "tf-nightly нужен, т.к. f.keras.metrics.F1Score работает только для tf-nightly. См. https://www.tensorflow.org/api_docs/python/tf/keras/metrics/F1Score"
      ],
      "metadata": {
        "id": "ydyhTMwlVc43"
      }
    },
    {
      "cell_type": "code",
      "source": [
        "!pip install tf-nightly"
      ],
      "metadata": {
        "colab": {
          "base_uri": "https://localhost:8080/"
        },
        "id": "IPYB8PRMQJO-",
        "outputId": "0a794b98-b4a6-4cf7-d6b6-06734abfc3e9"
      },
      "execution_count": 2,
      "outputs": [
        {
          "output_type": "stream",
          "name": "stdout",
          "text": [
            "Looking in indexes: https://pypi.org/simple, https://us-python.pkg.dev/colab-wheels/public/simple/\n",
            "Requirement already satisfied: tf-nightly in /usr/local/lib/python3.10/dist-packages (2.14.0.dev20230527)\n",
            "Requirement already satisfied: absl-py>=1.0.0 in /usr/local/lib/python3.10/dist-packages (from tf-nightly) (1.4.0)\n",
            "Requirement already satisfied: astunparse>=1.6.0 in /usr/local/lib/python3.10/dist-packages (from tf-nightly) (1.6.3)\n",
            "Requirement already satisfied: flatbuffers>=23.5.8 in /usr/local/lib/python3.10/dist-packages (from tf-nightly) (23.5.26)\n",
            "Requirement already satisfied: gast<=0.4.0,>=0.2.1 in /usr/local/lib/python3.10/dist-packages (from tf-nightly) (0.4.0)\n",
            "Requirement already satisfied: google-pasta>=0.1.1 in /usr/local/lib/python3.10/dist-packages (from tf-nightly) (0.2.0)\n",
            "Requirement already satisfied: grpcio<2.0,>=1.24.3 in /usr/local/lib/python3.10/dist-packages (from tf-nightly) (1.54.0)\n",
            "Requirement already satisfied: h5py>=2.9.0 in /usr/local/lib/python3.10/dist-packages (from tf-nightly) (3.8.0)\n",
            "Requirement already satisfied: keras-nightly~=2.14.0.dev in /usr/local/lib/python3.10/dist-packages (from tf-nightly) (2.14.0.dev2023052707)\n",
            "Requirement already satisfied: libclang>=13.0.0 in /usr/local/lib/python3.10/dist-packages (from tf-nightly) (16.0.0)\n",
            "Requirement already satisfied: numpy>=1.22 in /usr/local/lib/python3.10/dist-packages (from tf-nightly) (1.22.4)\n",
            "Requirement already satisfied: opt-einsum>=2.3.2 in /usr/local/lib/python3.10/dist-packages (from tf-nightly) (3.3.0)\n",
            "Requirement already satisfied: packaging in /usr/local/lib/python3.10/dist-packages (from tf-nightly) (23.1)\n",
            "Requirement already satisfied: protobuf!=4.21.0,!=4.21.1,!=4.21.2,!=4.21.3,!=4.21.4,!=4.21.5,<5.0.0dev,>=3.20.3 in /usr/local/lib/python3.10/dist-packages (from tf-nightly) (3.20.3)\n",
            "Requirement already satisfied: setuptools in /usr/local/lib/python3.10/dist-packages (from tf-nightly) (67.7.2)\n",
            "Requirement already satisfied: six>=1.12.0 in /usr/local/lib/python3.10/dist-packages (from tf-nightly) (1.16.0)\n",
            "Requirement already satisfied: tb-nightly~=2.14.0.a in /usr/local/lib/python3.10/dist-packages (from tf-nightly) (2.14.0a20230527)\n",
            "Requirement already satisfied: termcolor>=1.1.0 in /usr/local/lib/python3.10/dist-packages (from tf-nightly) (2.3.0)\n",
            "Requirement already satisfied: tf-estimator-nightly~=2.14.0.dev in /usr/local/lib/python3.10/dist-packages (from tf-nightly) (2.14.0.dev2023052708)\n",
            "Requirement already satisfied: typing-extensions<4.6.0,>=3.6.6 in /usr/local/lib/python3.10/dist-packages (from tf-nightly) (4.5.0)\n",
            "Requirement already satisfied: wrapt>=1.11.0 in /usr/local/lib/python3.10/dist-packages (from tf-nightly) (1.14.1)\n",
            "Requirement already satisfied: tensorflow-io-gcs-filesystem>=0.23.1 in /usr/local/lib/python3.10/dist-packages (from tf-nightly) (0.32.0)\n",
            "Requirement already satisfied: wheel<1.0,>=0.23.0 in /usr/local/lib/python3.10/dist-packages (from astunparse>=1.6.0->tf-nightly) (0.40.0)\n",
            "Requirement already satisfied: google-auth<3,>=1.6.3 in /usr/local/lib/python3.10/dist-packages (from tb-nightly~=2.14.0.a->tf-nightly) (2.17.3)\n",
            "Requirement already satisfied: google-auth-oauthlib<1.1,>=0.5 in /usr/local/lib/python3.10/dist-packages (from tb-nightly~=2.14.0.a->tf-nightly) (1.0.0)\n",
            "Requirement already satisfied: markdown>=2.6.8 in /usr/local/lib/python3.10/dist-packages (from tb-nightly~=2.14.0.a->tf-nightly) (3.4.3)\n",
            "Requirement already satisfied: requests<3,>=2.21.0 in /usr/local/lib/python3.10/dist-packages (from tb-nightly~=2.14.0.a->tf-nightly) (2.27.1)\n",
            "Requirement already satisfied: tensorboard-data-server<0.8.0,>=0.7.0 in /usr/local/lib/python3.10/dist-packages (from tb-nightly~=2.14.0.a->tf-nightly) (0.7.0)\n",
            "Requirement already satisfied: werkzeug>=1.0.1 in /usr/local/lib/python3.10/dist-packages (from tb-nightly~=2.14.0.a->tf-nightly) (2.3.0)\n",
            "Requirement already satisfied: cachetools<6.0,>=2.0.0 in /usr/local/lib/python3.10/dist-packages (from google-auth<3,>=1.6.3->tb-nightly~=2.14.0.a->tf-nightly) (5.3.0)\n",
            "Requirement already satisfied: pyasn1-modules>=0.2.1 in /usr/local/lib/python3.10/dist-packages (from google-auth<3,>=1.6.3->tb-nightly~=2.14.0.a->tf-nightly) (0.3.0)\n",
            "Requirement already satisfied: rsa<5,>=3.1.4 in /usr/local/lib/python3.10/dist-packages (from google-auth<3,>=1.6.3->tb-nightly~=2.14.0.a->tf-nightly) (4.9)\n",
            "Requirement already satisfied: requests-oauthlib>=0.7.0 in /usr/local/lib/python3.10/dist-packages (from google-auth-oauthlib<1.1,>=0.5->tb-nightly~=2.14.0.a->tf-nightly) (1.3.1)\n",
            "Requirement already satisfied: urllib3<1.27,>=1.21.1 in /usr/local/lib/python3.10/dist-packages (from requests<3,>=2.21.0->tb-nightly~=2.14.0.a->tf-nightly) (1.26.15)\n",
            "Requirement already satisfied: certifi>=2017.4.17 in /usr/local/lib/python3.10/dist-packages (from requests<3,>=2.21.0->tb-nightly~=2.14.0.a->tf-nightly) (2022.12.7)\n",
            "Requirement already satisfied: charset-normalizer~=2.0.0 in /usr/local/lib/python3.10/dist-packages (from requests<3,>=2.21.0->tb-nightly~=2.14.0.a->tf-nightly) (2.0.12)\n",
            "Requirement already satisfied: idna<4,>=2.5 in /usr/local/lib/python3.10/dist-packages (from requests<3,>=2.21.0->tb-nightly~=2.14.0.a->tf-nightly) (3.4)\n",
            "Requirement already satisfied: MarkupSafe>=2.1.1 in /usr/local/lib/python3.10/dist-packages (from werkzeug>=1.0.1->tb-nightly~=2.14.0.a->tf-nightly) (2.1.2)\n",
            "Requirement already satisfied: pyasn1<0.6.0,>=0.4.6 in /usr/local/lib/python3.10/dist-packages (from pyasn1-modules>=0.2.1->google-auth<3,>=1.6.3->tb-nightly~=2.14.0.a->tf-nightly) (0.5.0)\n",
            "Requirement already satisfied: oauthlib>=3.0.0 in /usr/local/lib/python3.10/dist-packages (from requests-oauthlib>=0.7.0->google-auth-oauthlib<1.1,>=0.5->tb-nightly~=2.14.0.a->tf-nightly) (3.2.2)\n"
          ]
        }
      ]
    },
    {
      "cell_type": "code",
      "execution_count": 75,
      "metadata": {
        "id": "N7B7Q82wJKnD"
      },
      "outputs": [],
      "source": [
        "import pandas as pd\n",
        "from sklearn.model_selection import train_test_split\n",
        "from tensorflow.keras import utils\n",
        "from tensorflow.keras.preprocessing.text import Tokenizer\n",
        "from tensorflow.keras.preprocessing.sequence import pad_sequences\n",
        "from tensorflow.keras.models import Sequential\n",
        "from tensorflow.keras.layers import Dense, Embedding, MaxPooling1D, Conv1D, GlobalMaxPooling1D, Dropout, LSTM, GRU\n",
        "import tensorflow.keras.metrics as metrics\n",
        "from tensorflow.keras.callbacks import ModelCheckpoint\n",
        "import matplotlib.pyplot as plt\n",
        "from tensorflow.keras.models import load_model"
      ]
    },
    {
      "cell_type": "code",
      "execution_count": 167,
      "metadata": {
        "id": "h3jsZml5Jhhj"
      },
      "outputs": [],
      "source": [
        "# Максимальное количество слов \n",
        "num_words = 10000\n",
        "# Максимальная длина поста\n",
        "max_len = 11\n",
        "# Количество классов\n",
        "nb_classes = 15"
      ]
    },
    {
      "cell_type": "markdown",
      "metadata": {
        "id": "oCxWxurHJv2K"
      },
      "source": [
        "## Загрузка набора данных"
      ]
    },
    {
      "cell_type": "code",
      "execution_count": 168,
      "metadata": {
        "id": "EDKQQKMGKI1q"
      },
      "outputs": [],
      "source": [
        "df_em_1_token_10 = pd.read_csv('df_em_1_token_10.csv', sep=\";\")"
      ]
    },
    {
      "cell_type": "code",
      "execution_count": 169,
      "metadata": {
        "colab": {
          "base_uri": "https://localhost:8080/",
          "height": 424
        },
        "id": "D3JXaq72KVK4",
        "outputId": "961b55e9-cac2-4d49-a610-c5984cac75e4"
      },
      "outputs": [
        {
          "output_type": "execute_result",
          "data": {
            "text/plain": [
              "     img_emoji  word_count  count_emoji     emotion           tonality  class  \\\n",
              "0            😂           5            1       smile  positive/negative      0   \n",
              "1            😁           5            1       smile  positive/negative      0   \n",
              "2            😁           6            1       smile  positive/negative      0   \n",
              "3            😻           6            1         joy           positive      2   \n",
              "4            😍           7            1         joy           positive      2   \n",
              "...        ...         ...          ...         ...                ...    ...   \n",
              "9215         😄           5            1       smile  positive/negative      0   \n",
              "9216         😂           7            1       smile  positive/negative      0   \n",
              "9217         🤔           7            1  no_emotion  neutral/skeptical      1   \n",
              "9218         🤔           9            1  no_emotion  neutral/skeptical      1   \n",
              "9219         🤣          10            1       smile  positive/negative      0   \n",
              "\n",
              "                                           clean_text  \n",
              "0                                   почему бы и нет 😂  \n",
              "1                                как сесть на диету 😁  \n",
              "2                            когда в душе ещё щенок 😁  \n",
              "3              новые фотографии нюши просто огненные😻  \n",
              "4           безумно красивая актриса - алина ланина 😍  \n",
              "...                                               ...  \n",
              "9215                ряды эскортниц скоро пополнится 😄  \n",
              "9216                    так он прав ты реально даун 😂  \n",
              "9217                              вы же не про меня?🤔  \n",
              "9218             про кого пошутил то это не до комик🤔  \n",
              "9219  тебе это лучше знать что во всём мире слушают 🤣  \n",
              "\n",
              "[9220 rows x 7 columns]"
            ],
            "text/html": [
              "\n",
              "  <div id=\"df-a5e806cd-e814-42c6-aa4e-45a3efe8f608\">\n",
              "    <div class=\"colab-df-container\">\n",
              "      <div>\n",
              "<style scoped>\n",
              "    .dataframe tbody tr th:only-of-type {\n",
              "        vertical-align: middle;\n",
              "    }\n",
              "\n",
              "    .dataframe tbody tr th {\n",
              "        vertical-align: top;\n",
              "    }\n",
              "\n",
              "    .dataframe thead th {\n",
              "        text-align: right;\n",
              "    }\n",
              "</style>\n",
              "<table border=\"1\" class=\"dataframe\">\n",
              "  <thead>\n",
              "    <tr style=\"text-align: right;\">\n",
              "      <th></th>\n",
              "      <th>img_emoji</th>\n",
              "      <th>word_count</th>\n",
              "      <th>count_emoji</th>\n",
              "      <th>emotion</th>\n",
              "      <th>tonality</th>\n",
              "      <th>class</th>\n",
              "      <th>clean_text</th>\n",
              "    </tr>\n",
              "  </thead>\n",
              "  <tbody>\n",
              "    <tr>\n",
              "      <th>0</th>\n",
              "      <td>😂</td>\n",
              "      <td>5</td>\n",
              "      <td>1</td>\n",
              "      <td>smile</td>\n",
              "      <td>positive/negative</td>\n",
              "      <td>0</td>\n",
              "      <td>почему бы и нет 😂</td>\n",
              "    </tr>\n",
              "    <tr>\n",
              "      <th>1</th>\n",
              "      <td>😁</td>\n",
              "      <td>5</td>\n",
              "      <td>1</td>\n",
              "      <td>smile</td>\n",
              "      <td>positive/negative</td>\n",
              "      <td>0</td>\n",
              "      <td>как сесть на диету 😁</td>\n",
              "    </tr>\n",
              "    <tr>\n",
              "      <th>2</th>\n",
              "      <td>😁</td>\n",
              "      <td>6</td>\n",
              "      <td>1</td>\n",
              "      <td>smile</td>\n",
              "      <td>positive/negative</td>\n",
              "      <td>0</td>\n",
              "      <td>когда в душе ещё щенок 😁</td>\n",
              "    </tr>\n",
              "    <tr>\n",
              "      <th>3</th>\n",
              "      <td>😻</td>\n",
              "      <td>6</td>\n",
              "      <td>1</td>\n",
              "      <td>joy</td>\n",
              "      <td>positive</td>\n",
              "      <td>2</td>\n",
              "      <td>новые фотографии нюши просто огненные😻</td>\n",
              "    </tr>\n",
              "    <tr>\n",
              "      <th>4</th>\n",
              "      <td>😍</td>\n",
              "      <td>7</td>\n",
              "      <td>1</td>\n",
              "      <td>joy</td>\n",
              "      <td>positive</td>\n",
              "      <td>2</td>\n",
              "      <td>безумно красивая актриса - алина ланина 😍</td>\n",
              "    </tr>\n",
              "    <tr>\n",
              "      <th>...</th>\n",
              "      <td>...</td>\n",
              "      <td>...</td>\n",
              "      <td>...</td>\n",
              "      <td>...</td>\n",
              "      <td>...</td>\n",
              "      <td>...</td>\n",
              "      <td>...</td>\n",
              "    </tr>\n",
              "    <tr>\n",
              "      <th>9215</th>\n",
              "      <td>😄</td>\n",
              "      <td>5</td>\n",
              "      <td>1</td>\n",
              "      <td>smile</td>\n",
              "      <td>positive/negative</td>\n",
              "      <td>0</td>\n",
              "      <td>ряды эскортниц скоро пополнится 😄</td>\n",
              "    </tr>\n",
              "    <tr>\n",
              "      <th>9216</th>\n",
              "      <td>😂</td>\n",
              "      <td>7</td>\n",
              "      <td>1</td>\n",
              "      <td>smile</td>\n",
              "      <td>positive/negative</td>\n",
              "      <td>0</td>\n",
              "      <td>так он прав ты реально даун 😂</td>\n",
              "    </tr>\n",
              "    <tr>\n",
              "      <th>9217</th>\n",
              "      <td>🤔</td>\n",
              "      <td>7</td>\n",
              "      <td>1</td>\n",
              "      <td>no_emotion</td>\n",
              "      <td>neutral/skeptical</td>\n",
              "      <td>1</td>\n",
              "      <td>вы же не про меня?🤔</td>\n",
              "    </tr>\n",
              "    <tr>\n",
              "      <th>9218</th>\n",
              "      <td>🤔</td>\n",
              "      <td>9</td>\n",
              "      <td>1</td>\n",
              "      <td>no_emotion</td>\n",
              "      <td>neutral/skeptical</td>\n",
              "      <td>1</td>\n",
              "      <td>про кого пошутил то это не до комик🤔</td>\n",
              "    </tr>\n",
              "    <tr>\n",
              "      <th>9219</th>\n",
              "      <td>🤣</td>\n",
              "      <td>10</td>\n",
              "      <td>1</td>\n",
              "      <td>smile</td>\n",
              "      <td>positive/negative</td>\n",
              "      <td>0</td>\n",
              "      <td>тебе это лучше знать что во всём мире слушают 🤣</td>\n",
              "    </tr>\n",
              "  </tbody>\n",
              "</table>\n",
              "<p>9220 rows × 7 columns</p>\n",
              "</div>\n",
              "      <button class=\"colab-df-convert\" onclick=\"convertToInteractive('df-a5e806cd-e814-42c6-aa4e-45a3efe8f608')\"\n",
              "              title=\"Convert this dataframe to an interactive table.\"\n",
              "              style=\"display:none;\">\n",
              "        \n",
              "  <svg xmlns=\"http://www.w3.org/2000/svg\" height=\"24px\"viewBox=\"0 0 24 24\"\n",
              "       width=\"24px\">\n",
              "    <path d=\"M0 0h24v24H0V0z\" fill=\"none\"/>\n",
              "    <path d=\"M18.56 5.44l.94 2.06.94-2.06 2.06-.94-2.06-.94-.94-2.06-.94 2.06-2.06.94zm-11 1L8.5 8.5l.94-2.06 2.06-.94-2.06-.94L8.5 2.5l-.94 2.06-2.06.94zm10 10l.94 2.06.94-2.06 2.06-.94-2.06-.94-.94-2.06-.94 2.06-2.06.94z\"/><path d=\"M17.41 7.96l-1.37-1.37c-.4-.4-.92-.59-1.43-.59-.52 0-1.04.2-1.43.59L10.3 9.45l-7.72 7.72c-.78.78-.78 2.05 0 2.83L4 21.41c.39.39.9.59 1.41.59.51 0 1.02-.2 1.41-.59l7.78-7.78 2.81-2.81c.8-.78.8-2.07 0-2.86zM5.41 20L4 18.59l7.72-7.72 1.47 1.35L5.41 20z\"/>\n",
              "  </svg>\n",
              "      </button>\n",
              "      \n",
              "  <style>\n",
              "    .colab-df-container {\n",
              "      display:flex;\n",
              "      flex-wrap:wrap;\n",
              "      gap: 12px;\n",
              "    }\n",
              "\n",
              "    .colab-df-convert {\n",
              "      background-color: #E8F0FE;\n",
              "      border: none;\n",
              "      border-radius: 50%;\n",
              "      cursor: pointer;\n",
              "      display: none;\n",
              "      fill: #1967D2;\n",
              "      height: 32px;\n",
              "      padding: 0 0 0 0;\n",
              "      width: 32px;\n",
              "    }\n",
              "\n",
              "    .colab-df-convert:hover {\n",
              "      background-color: #E2EBFA;\n",
              "      box-shadow: 0px 1px 2px rgba(60, 64, 67, 0.3), 0px 1px 3px 1px rgba(60, 64, 67, 0.15);\n",
              "      fill: #174EA6;\n",
              "    }\n",
              "\n",
              "    [theme=dark] .colab-df-convert {\n",
              "      background-color: #3B4455;\n",
              "      fill: #D2E3FC;\n",
              "    }\n",
              "\n",
              "    [theme=dark] .colab-df-convert:hover {\n",
              "      background-color: #434B5C;\n",
              "      box-shadow: 0px 1px 3px 1px rgba(0, 0, 0, 0.15);\n",
              "      filter: drop-shadow(0px 1px 2px rgba(0, 0, 0, 0.3));\n",
              "      fill: #FFFFFF;\n",
              "    }\n",
              "  </style>\n",
              "\n",
              "      <script>\n",
              "        const buttonEl =\n",
              "          document.querySelector('#df-a5e806cd-e814-42c6-aa4e-45a3efe8f608 button.colab-df-convert');\n",
              "        buttonEl.style.display =\n",
              "          google.colab.kernel.accessAllowed ? 'block' : 'none';\n",
              "\n",
              "        async function convertToInteractive(key) {\n",
              "          const element = document.querySelector('#df-a5e806cd-e814-42c6-aa4e-45a3efe8f608');\n",
              "          const dataTable =\n",
              "            await google.colab.kernel.invokeFunction('convertToInteractive',\n",
              "                                                     [key], {});\n",
              "          if (!dataTable) return;\n",
              "\n",
              "          const docLinkHtml = 'Like what you see? Visit the ' +\n",
              "            '<a target=\"_blank\" href=https://colab.research.google.com/notebooks/data_table.ipynb>data table notebook</a>'\n",
              "            + ' to learn more about interactive tables.';\n",
              "          element.innerHTML = '';\n",
              "          dataTable['output_type'] = 'display_data';\n",
              "          await google.colab.output.renderOutput(dataTable, element);\n",
              "          const docLink = document.createElement('div');\n",
              "          docLink.innerHTML = docLinkHtml;\n",
              "          element.appendChild(docLink);\n",
              "        }\n",
              "      </script>\n",
              "    </div>\n",
              "  </div>\n",
              "  "
            ]
          },
          "metadata": {},
          "execution_count": 169
        }
      ],
      "source": [
        "df_em_1_token_10"
      ]
    },
    {
      "cell_type": "code",
      "execution_count": 170,
      "metadata": {
        "id": "71KjHFXhKa-K"
      },
      "outputs": [],
      "source": [
        "train, test = train_test_split(df_em_1_token_10, test_size=0.2)"
      ]
    },
    {
      "cell_type": "code",
      "execution_count": 171,
      "metadata": {
        "colab": {
          "base_uri": "https://localhost:8080/",
          "height": 424
        },
        "id": "Q-Ac4ezJKjio",
        "outputId": "b262640d-f7a2-4007-b6c5-79c13a24c77d"
      },
      "outputs": [
        {
          "output_type": "execute_result",
          "data": {
            "text/plain": [
              "     img_emoji  word_count  count_emoji     emotion           tonality  class  \\\n",
              "6798         😂           7            1       smile  positive/negative      0   \n",
              "8612         😌           8            1         joy           positive      2   \n",
              "8524         😢           5            1     sadness           negative      4   \n",
              "343          😍          10            1         joy           positive      2   \n",
              "2292         🤣           8            1       smile  positive/negative      0   \n",
              "...        ...         ...          ...         ...                ...    ...   \n",
              "8600         😂           6            1       smile  positive/negative      0   \n",
              "4205         😅           4            1       smile  positive/negative      0   \n",
              "2281         😁           4            1       smile  positive/negative      0   \n",
              "7761         😏           4            1  no_emotion  neutral/skeptical      1   \n",
              "1831         😳          10            1       shame           negative      6   \n",
              "\n",
              "                                             clean_text  \n",
              "6798                      лиш бы не либерал-демократ!)😂  \n",
              "8612            ох как много вам предстоит ещё узнать 😌  \n",
              "8524                                   вот бы мне так 😢  \n",
              "343   kpaсoтка кэти пeрpи и eё любoвь к кopoтким юбo...  \n",
              "2292                               а что вам мешает???🤣  \n",
              "...                                                 ...  \n",
              "8600                каждый останется при своем мнении 😂  \n",
              "4205                                     это которое? 😅  \n",
              "2281                                светлая - кокошка 😁  \n",
              "7761                                   п@здят поверьте😏  \n",
              "1831    вот на кого променял пике свою жену шакиру... 😳  \n",
              "\n",
              "[7376 rows x 7 columns]"
            ],
            "text/html": [
              "\n",
              "  <div id=\"df-63ef4b20-cf33-4fb5-9ce7-0e7a8c464856\">\n",
              "    <div class=\"colab-df-container\">\n",
              "      <div>\n",
              "<style scoped>\n",
              "    .dataframe tbody tr th:only-of-type {\n",
              "        vertical-align: middle;\n",
              "    }\n",
              "\n",
              "    .dataframe tbody tr th {\n",
              "        vertical-align: top;\n",
              "    }\n",
              "\n",
              "    .dataframe thead th {\n",
              "        text-align: right;\n",
              "    }\n",
              "</style>\n",
              "<table border=\"1\" class=\"dataframe\">\n",
              "  <thead>\n",
              "    <tr style=\"text-align: right;\">\n",
              "      <th></th>\n",
              "      <th>img_emoji</th>\n",
              "      <th>word_count</th>\n",
              "      <th>count_emoji</th>\n",
              "      <th>emotion</th>\n",
              "      <th>tonality</th>\n",
              "      <th>class</th>\n",
              "      <th>clean_text</th>\n",
              "    </tr>\n",
              "  </thead>\n",
              "  <tbody>\n",
              "    <tr>\n",
              "      <th>6798</th>\n",
              "      <td>😂</td>\n",
              "      <td>7</td>\n",
              "      <td>1</td>\n",
              "      <td>smile</td>\n",
              "      <td>positive/negative</td>\n",
              "      <td>0</td>\n",
              "      <td>лиш бы не либерал-демократ!)😂</td>\n",
              "    </tr>\n",
              "    <tr>\n",
              "      <th>8612</th>\n",
              "      <td>😌</td>\n",
              "      <td>8</td>\n",
              "      <td>1</td>\n",
              "      <td>joy</td>\n",
              "      <td>positive</td>\n",
              "      <td>2</td>\n",
              "      <td>ох как много вам предстоит ещё узнать 😌</td>\n",
              "    </tr>\n",
              "    <tr>\n",
              "      <th>8524</th>\n",
              "      <td>😢</td>\n",
              "      <td>5</td>\n",
              "      <td>1</td>\n",
              "      <td>sadness</td>\n",
              "      <td>negative</td>\n",
              "      <td>4</td>\n",
              "      <td>вот бы мне так 😢</td>\n",
              "    </tr>\n",
              "    <tr>\n",
              "      <th>343</th>\n",
              "      <td>😍</td>\n",
              "      <td>10</td>\n",
              "      <td>1</td>\n",
              "      <td>joy</td>\n",
              "      <td>positive</td>\n",
              "      <td>2</td>\n",
              "      <td>kpaсoтка кэти пeрpи и eё любoвь к кopoтким юбo...</td>\n",
              "    </tr>\n",
              "    <tr>\n",
              "      <th>2292</th>\n",
              "      <td>🤣</td>\n",
              "      <td>8</td>\n",
              "      <td>1</td>\n",
              "      <td>smile</td>\n",
              "      <td>positive/negative</td>\n",
              "      <td>0</td>\n",
              "      <td>а что вам мешает???🤣</td>\n",
              "    </tr>\n",
              "    <tr>\n",
              "      <th>...</th>\n",
              "      <td>...</td>\n",
              "      <td>...</td>\n",
              "      <td>...</td>\n",
              "      <td>...</td>\n",
              "      <td>...</td>\n",
              "      <td>...</td>\n",
              "      <td>...</td>\n",
              "    </tr>\n",
              "    <tr>\n",
              "      <th>8600</th>\n",
              "      <td>😂</td>\n",
              "      <td>6</td>\n",
              "      <td>1</td>\n",
              "      <td>smile</td>\n",
              "      <td>positive/negative</td>\n",
              "      <td>0</td>\n",
              "      <td>каждый останется при своем мнении 😂</td>\n",
              "    </tr>\n",
              "    <tr>\n",
              "      <th>4205</th>\n",
              "      <td>😅</td>\n",
              "      <td>4</td>\n",
              "      <td>1</td>\n",
              "      <td>smile</td>\n",
              "      <td>positive/negative</td>\n",
              "      <td>0</td>\n",
              "      <td>это которое? 😅</td>\n",
              "    </tr>\n",
              "    <tr>\n",
              "      <th>2281</th>\n",
              "      <td>😁</td>\n",
              "      <td>4</td>\n",
              "      <td>1</td>\n",
              "      <td>smile</td>\n",
              "      <td>positive/negative</td>\n",
              "      <td>0</td>\n",
              "      <td>светлая - кокошка 😁</td>\n",
              "    </tr>\n",
              "    <tr>\n",
              "      <th>7761</th>\n",
              "      <td>😏</td>\n",
              "      <td>4</td>\n",
              "      <td>1</td>\n",
              "      <td>no_emotion</td>\n",
              "      <td>neutral/skeptical</td>\n",
              "      <td>1</td>\n",
              "      <td>п@здят поверьте😏</td>\n",
              "    </tr>\n",
              "    <tr>\n",
              "      <th>1831</th>\n",
              "      <td>😳</td>\n",
              "      <td>10</td>\n",
              "      <td>1</td>\n",
              "      <td>shame</td>\n",
              "      <td>negative</td>\n",
              "      <td>6</td>\n",
              "      <td>вот на кого променял пике свою жену шакиру... 😳</td>\n",
              "    </tr>\n",
              "  </tbody>\n",
              "</table>\n",
              "<p>7376 rows × 7 columns</p>\n",
              "</div>\n",
              "      <button class=\"colab-df-convert\" onclick=\"convertToInteractive('df-63ef4b20-cf33-4fb5-9ce7-0e7a8c464856')\"\n",
              "              title=\"Convert this dataframe to an interactive table.\"\n",
              "              style=\"display:none;\">\n",
              "        \n",
              "  <svg xmlns=\"http://www.w3.org/2000/svg\" height=\"24px\"viewBox=\"0 0 24 24\"\n",
              "       width=\"24px\">\n",
              "    <path d=\"M0 0h24v24H0V0z\" fill=\"none\"/>\n",
              "    <path d=\"M18.56 5.44l.94 2.06.94-2.06 2.06-.94-2.06-.94-.94-2.06-.94 2.06-2.06.94zm-11 1L8.5 8.5l.94-2.06 2.06-.94-2.06-.94L8.5 2.5l-.94 2.06-2.06.94zm10 10l.94 2.06.94-2.06 2.06-.94-2.06-.94-.94-2.06-.94 2.06-2.06.94z\"/><path d=\"M17.41 7.96l-1.37-1.37c-.4-.4-.92-.59-1.43-.59-.52 0-1.04.2-1.43.59L10.3 9.45l-7.72 7.72c-.78.78-.78 2.05 0 2.83L4 21.41c.39.39.9.59 1.41.59.51 0 1.02-.2 1.41-.59l7.78-7.78 2.81-2.81c.8-.78.8-2.07 0-2.86zM5.41 20L4 18.59l7.72-7.72 1.47 1.35L5.41 20z\"/>\n",
              "  </svg>\n",
              "      </button>\n",
              "      \n",
              "  <style>\n",
              "    .colab-df-container {\n",
              "      display:flex;\n",
              "      flex-wrap:wrap;\n",
              "      gap: 12px;\n",
              "    }\n",
              "\n",
              "    .colab-df-convert {\n",
              "      background-color: #E8F0FE;\n",
              "      border: none;\n",
              "      border-radius: 50%;\n",
              "      cursor: pointer;\n",
              "      display: none;\n",
              "      fill: #1967D2;\n",
              "      height: 32px;\n",
              "      padding: 0 0 0 0;\n",
              "      width: 32px;\n",
              "    }\n",
              "\n",
              "    .colab-df-convert:hover {\n",
              "      background-color: #E2EBFA;\n",
              "      box-shadow: 0px 1px 2px rgba(60, 64, 67, 0.3), 0px 1px 3px 1px rgba(60, 64, 67, 0.15);\n",
              "      fill: #174EA6;\n",
              "    }\n",
              "\n",
              "    [theme=dark] .colab-df-convert {\n",
              "      background-color: #3B4455;\n",
              "      fill: #D2E3FC;\n",
              "    }\n",
              "\n",
              "    [theme=dark] .colab-df-convert:hover {\n",
              "      background-color: #434B5C;\n",
              "      box-shadow: 0px 1px 3px 1px rgba(0, 0, 0, 0.15);\n",
              "      filter: drop-shadow(0px 1px 2px rgba(0, 0, 0, 0.3));\n",
              "      fill: #FFFFFF;\n",
              "    }\n",
              "  </style>\n",
              "\n",
              "      <script>\n",
              "        const buttonEl =\n",
              "          document.querySelector('#df-63ef4b20-cf33-4fb5-9ce7-0e7a8c464856 button.colab-df-convert');\n",
              "        buttonEl.style.display =\n",
              "          google.colab.kernel.accessAllowed ? 'block' : 'none';\n",
              "\n",
              "        async function convertToInteractive(key) {\n",
              "          const element = document.querySelector('#df-63ef4b20-cf33-4fb5-9ce7-0e7a8c464856');\n",
              "          const dataTable =\n",
              "            await google.colab.kernel.invokeFunction('convertToInteractive',\n",
              "                                                     [key], {});\n",
              "          if (!dataTable) return;\n",
              "\n",
              "          const docLinkHtml = 'Like what you see? Visit the ' +\n",
              "            '<a target=\"_blank\" href=https://colab.research.google.com/notebooks/data_table.ipynb>data table notebook</a>'\n",
              "            + ' to learn more about interactive tables.';\n",
              "          element.innerHTML = '';\n",
              "          dataTable['output_type'] = 'display_data';\n",
              "          await google.colab.output.renderOutput(dataTable, element);\n",
              "          const docLink = document.createElement('div');\n",
              "          docLink.innerHTML = docLinkHtml;\n",
              "          element.appendChild(docLink);\n",
              "        }\n",
              "      </script>\n",
              "    </div>\n",
              "  </div>\n",
              "  "
            ]
          },
          "metadata": {},
          "execution_count": 171
        }
      ],
      "source": [
        "train"
      ]
    },
    {
      "cell_type": "code",
      "source": [
        "test"
      ],
      "metadata": {
        "colab": {
          "base_uri": "https://localhost:8080/",
          "height": 424
        },
        "id": "pd321WSJC_n-",
        "outputId": "73a249c8-33e1-4557-c659-10c79eeb9e28"
      },
      "execution_count": 172,
      "outputs": [
        {
          "output_type": "execute_result",
          "data": {
            "text/plain": [
              "     img_emoji  word_count  count_emoji emotion           tonality  class  \\\n",
              "6561         😄           3            1   smile  positive/negative      0   \n",
              "6203         🤣           5            1   smile  positive/negative      0   \n",
              "1661         😃           9            1   smile  positive/negative      0   \n",
              "5596         😁           7            1   smile  positive/negative      0   \n",
              "7677         🤣          10            1   smile  positive/negative      0   \n",
              "...        ...         ...          ...     ...                ...    ...   \n",
              "5261         😂           4            1   smile  positive/negative      0   \n",
              "1813         😅          10            1   smile  positive/negative      0   \n",
              "6740         😊           6            1   smile  positive/negative      0   \n",
              "3127         😹           3            1   smile  positive/negative      0   \n",
              "722          💗           4            1     joy           positive      2   \n",
              "\n",
              "                                             clean_text  \n",
              "6561                              компостер называется😄  \n",
              "6203                        пипец,особенно лягушонок! 🤣  \n",
              "1661  очень круто! умеют же джигиты классно танцевать 😃  \n",
              "5596              на отработке потом обратно в машину 😁  \n",
              "7677      да это продавец нарывается.я просто бы помог🤣  \n",
              "...                                                 ...  \n",
              "5261                                      он самый... 😂  \n",
              "1813  как же оле бузовой и рудковской подходят эти н...  \n",
              "6740                      куда тебе вискас отправить? 😊  \n",
              "3127                                      хахахах урыл😹  \n",
              "722                                 доброе утро, сэры 💗  \n",
              "\n",
              "[1844 rows x 7 columns]"
            ],
            "text/html": [
              "\n",
              "  <div id=\"df-f0780ae5-504a-4694-a826-bfc7a47ab35d\">\n",
              "    <div class=\"colab-df-container\">\n",
              "      <div>\n",
              "<style scoped>\n",
              "    .dataframe tbody tr th:only-of-type {\n",
              "        vertical-align: middle;\n",
              "    }\n",
              "\n",
              "    .dataframe tbody tr th {\n",
              "        vertical-align: top;\n",
              "    }\n",
              "\n",
              "    .dataframe thead th {\n",
              "        text-align: right;\n",
              "    }\n",
              "</style>\n",
              "<table border=\"1\" class=\"dataframe\">\n",
              "  <thead>\n",
              "    <tr style=\"text-align: right;\">\n",
              "      <th></th>\n",
              "      <th>img_emoji</th>\n",
              "      <th>word_count</th>\n",
              "      <th>count_emoji</th>\n",
              "      <th>emotion</th>\n",
              "      <th>tonality</th>\n",
              "      <th>class</th>\n",
              "      <th>clean_text</th>\n",
              "    </tr>\n",
              "  </thead>\n",
              "  <tbody>\n",
              "    <tr>\n",
              "      <th>6561</th>\n",
              "      <td>😄</td>\n",
              "      <td>3</td>\n",
              "      <td>1</td>\n",
              "      <td>smile</td>\n",
              "      <td>positive/negative</td>\n",
              "      <td>0</td>\n",
              "      <td>компостер называется😄</td>\n",
              "    </tr>\n",
              "    <tr>\n",
              "      <th>6203</th>\n",
              "      <td>🤣</td>\n",
              "      <td>5</td>\n",
              "      <td>1</td>\n",
              "      <td>smile</td>\n",
              "      <td>positive/negative</td>\n",
              "      <td>0</td>\n",
              "      <td>пипец,особенно лягушонок! 🤣</td>\n",
              "    </tr>\n",
              "    <tr>\n",
              "      <th>1661</th>\n",
              "      <td>😃</td>\n",
              "      <td>9</td>\n",
              "      <td>1</td>\n",
              "      <td>smile</td>\n",
              "      <td>positive/negative</td>\n",
              "      <td>0</td>\n",
              "      <td>очень круто! умеют же джигиты классно танцевать 😃</td>\n",
              "    </tr>\n",
              "    <tr>\n",
              "      <th>5596</th>\n",
              "      <td>😁</td>\n",
              "      <td>7</td>\n",
              "      <td>1</td>\n",
              "      <td>smile</td>\n",
              "      <td>positive/negative</td>\n",
              "      <td>0</td>\n",
              "      <td>на отработке потом обратно в машину 😁</td>\n",
              "    </tr>\n",
              "    <tr>\n",
              "      <th>7677</th>\n",
              "      <td>🤣</td>\n",
              "      <td>10</td>\n",
              "      <td>1</td>\n",
              "      <td>smile</td>\n",
              "      <td>positive/negative</td>\n",
              "      <td>0</td>\n",
              "      <td>да это продавец нарывается.я просто бы помог🤣</td>\n",
              "    </tr>\n",
              "    <tr>\n",
              "      <th>...</th>\n",
              "      <td>...</td>\n",
              "      <td>...</td>\n",
              "      <td>...</td>\n",
              "      <td>...</td>\n",
              "      <td>...</td>\n",
              "      <td>...</td>\n",
              "      <td>...</td>\n",
              "    </tr>\n",
              "    <tr>\n",
              "      <th>5261</th>\n",
              "      <td>😂</td>\n",
              "      <td>4</td>\n",
              "      <td>1</td>\n",
              "      <td>smile</td>\n",
              "      <td>positive/negative</td>\n",
              "      <td>0</td>\n",
              "      <td>он самый... 😂</td>\n",
              "    </tr>\n",
              "    <tr>\n",
              "      <th>1813</th>\n",
              "      <td>😅</td>\n",
              "      <td>10</td>\n",
              "      <td>1</td>\n",
              "      <td>smile</td>\n",
              "      <td>positive/negative</td>\n",
              "      <td>0</td>\n",
              "      <td>как же оле бузовой и рудковской подходят эти н...</td>\n",
              "    </tr>\n",
              "    <tr>\n",
              "      <th>6740</th>\n",
              "      <td>😊</td>\n",
              "      <td>6</td>\n",
              "      <td>1</td>\n",
              "      <td>smile</td>\n",
              "      <td>positive/negative</td>\n",
              "      <td>0</td>\n",
              "      <td>куда тебе вискас отправить? 😊</td>\n",
              "    </tr>\n",
              "    <tr>\n",
              "      <th>3127</th>\n",
              "      <td>😹</td>\n",
              "      <td>3</td>\n",
              "      <td>1</td>\n",
              "      <td>smile</td>\n",
              "      <td>positive/negative</td>\n",
              "      <td>0</td>\n",
              "      <td>хахахах урыл😹</td>\n",
              "    </tr>\n",
              "    <tr>\n",
              "      <th>722</th>\n",
              "      <td>💗</td>\n",
              "      <td>4</td>\n",
              "      <td>1</td>\n",
              "      <td>joy</td>\n",
              "      <td>positive</td>\n",
              "      <td>2</td>\n",
              "      <td>доброе утро, сэры 💗</td>\n",
              "    </tr>\n",
              "  </tbody>\n",
              "</table>\n",
              "<p>1844 rows × 7 columns</p>\n",
              "</div>\n",
              "      <button class=\"colab-df-convert\" onclick=\"convertToInteractive('df-f0780ae5-504a-4694-a826-bfc7a47ab35d')\"\n",
              "              title=\"Convert this dataframe to an interactive table.\"\n",
              "              style=\"display:none;\">\n",
              "        \n",
              "  <svg xmlns=\"http://www.w3.org/2000/svg\" height=\"24px\"viewBox=\"0 0 24 24\"\n",
              "       width=\"24px\">\n",
              "    <path d=\"M0 0h24v24H0V0z\" fill=\"none\"/>\n",
              "    <path d=\"M18.56 5.44l.94 2.06.94-2.06 2.06-.94-2.06-.94-.94-2.06-.94 2.06-2.06.94zm-11 1L8.5 8.5l.94-2.06 2.06-.94-2.06-.94L8.5 2.5l-.94 2.06-2.06.94zm10 10l.94 2.06.94-2.06 2.06-.94-2.06-.94-.94-2.06-.94 2.06-2.06.94z\"/><path d=\"M17.41 7.96l-1.37-1.37c-.4-.4-.92-.59-1.43-.59-.52 0-1.04.2-1.43.59L10.3 9.45l-7.72 7.72c-.78.78-.78 2.05 0 2.83L4 21.41c.39.39.9.59 1.41.59.51 0 1.02-.2 1.41-.59l7.78-7.78 2.81-2.81c.8-.78.8-2.07 0-2.86zM5.41 20L4 18.59l7.72-7.72 1.47 1.35L5.41 20z\"/>\n",
              "  </svg>\n",
              "      </button>\n",
              "      \n",
              "  <style>\n",
              "    .colab-df-container {\n",
              "      display:flex;\n",
              "      flex-wrap:wrap;\n",
              "      gap: 12px;\n",
              "    }\n",
              "\n",
              "    .colab-df-convert {\n",
              "      background-color: #E8F0FE;\n",
              "      border: none;\n",
              "      border-radius: 50%;\n",
              "      cursor: pointer;\n",
              "      display: none;\n",
              "      fill: #1967D2;\n",
              "      height: 32px;\n",
              "      padding: 0 0 0 0;\n",
              "      width: 32px;\n",
              "    }\n",
              "\n",
              "    .colab-df-convert:hover {\n",
              "      background-color: #E2EBFA;\n",
              "      box-shadow: 0px 1px 2px rgba(60, 64, 67, 0.3), 0px 1px 3px 1px rgba(60, 64, 67, 0.15);\n",
              "      fill: #174EA6;\n",
              "    }\n",
              "\n",
              "    [theme=dark] .colab-df-convert {\n",
              "      background-color: #3B4455;\n",
              "      fill: #D2E3FC;\n",
              "    }\n",
              "\n",
              "    [theme=dark] .colab-df-convert:hover {\n",
              "      background-color: #434B5C;\n",
              "      box-shadow: 0px 1px 3px 1px rgba(0, 0, 0, 0.15);\n",
              "      filter: drop-shadow(0px 1px 2px rgba(0, 0, 0, 0.3));\n",
              "      fill: #FFFFFF;\n",
              "    }\n",
              "  </style>\n",
              "\n",
              "      <script>\n",
              "        const buttonEl =\n",
              "          document.querySelector('#df-f0780ae5-504a-4694-a826-bfc7a47ab35d button.colab-df-convert');\n",
              "        buttonEl.style.display =\n",
              "          google.colab.kernel.accessAllowed ? 'block' : 'none';\n",
              "\n",
              "        async function convertToInteractive(key) {\n",
              "          const element = document.querySelector('#df-f0780ae5-504a-4694-a826-bfc7a47ab35d');\n",
              "          const dataTable =\n",
              "            await google.colab.kernel.invokeFunction('convertToInteractive',\n",
              "                                                     [key], {});\n",
              "          if (!dataTable) return;\n",
              "\n",
              "          const docLinkHtml = 'Like what you see? Visit the ' +\n",
              "            '<a target=\"_blank\" href=https://colab.research.google.com/notebooks/data_table.ipynb>data table notebook</a>'\n",
              "            + ' to learn more about interactive tables.';\n",
              "          element.innerHTML = '';\n",
              "          dataTable['output_type'] = 'display_data';\n",
              "          await google.colab.output.renderOutput(dataTable, element);\n",
              "          const docLink = document.createElement('div');\n",
              "          docLink.innerHTML = docLinkHtml;\n",
              "          element.appendChild(docLink);\n",
              "        }\n",
              "      </script>\n",
              "    </div>\n",
              "  </div>\n",
              "  "
            ]
          },
          "metadata": {},
          "execution_count": 172
        }
      ]
    },
    {
      "cell_type": "markdown",
      "metadata": {
        "id": "aa6SQbeeKpPQ"
      },
      "source": [
        "Выделяем данные для обучения"
      ]
    },
    {
      "cell_type": "code",
      "execution_count": 173,
      "metadata": {
        "id": "51-1CpF7Kpxp"
      },
      "outputs": [],
      "source": [
        "posts_train = train['clean_text']\n",
        "posts_test = test['clean_text']"
      ]
    },
    {
      "cell_type": "code",
      "execution_count": 174,
      "metadata": {
        "colab": {
          "base_uri": "https://localhost:8080/"
        },
        "id": "p-REVP6TKwiT",
        "outputId": "c39e5d04-cf71-49b9-e335-1d2e6753b352"
      },
      "outputs": [
        {
          "output_type": "execute_result",
          "data": {
            "text/plain": [
              "6798                        лиш бы не либерал-демократ!)😂\n",
              "8612              ох как много вам предстоит ещё узнать 😌\n",
              "8524                                     вот бы мне так 😢\n",
              "343     kpaсoтка кэти пeрpи и eё любoвь к кopoтким юбo...\n",
              "2292                                 а что вам мешает???🤣\n",
              "Name: clean_text, dtype: object"
            ]
          },
          "metadata": {},
          "execution_count": 174
        }
      ],
      "source": [
        "posts_train[:5]"
      ]
    },
    {
      "cell_type": "code",
      "source": [
        "posts_test[:5]"
      ],
      "metadata": {
        "colab": {
          "base_uri": "https://localhost:8080/"
        },
        "id": "cqKubsjrDTfu",
        "outputId": "27489159-a0f8-4694-c3cb-bd23c3ae5acb"
      },
      "execution_count": 175,
      "outputs": [
        {
          "output_type": "execute_result",
          "data": {
            "text/plain": [
              "6561                                компостер называется😄\n",
              "6203                          пипец,особенно лягушонок! 🤣\n",
              "1661    очень круто! умеют же джигиты классно танцевать 😃\n",
              "5596                на отработке потом обратно в машину 😁\n",
              "7677        да это продавец нарывается.я просто бы помог🤣\n",
              "Name: clean_text, dtype: object"
            ]
          },
          "metadata": {},
          "execution_count": 175
        }
      ]
    },
    {
      "cell_type": "markdown",
      "metadata": {
        "id": "v00GFQHmK3MD"
      },
      "source": [
        "Выделяем правильные ответы"
      ]
    },
    {
      "cell_type": "code",
      "execution_count": 176,
      "metadata": {
        "id": "cuCfe6prK4MQ"
      },
      "outputs": [],
      "source": [
        "y_train = utils.to_categorical(train['class'], nb_classes)"
      ]
    },
    {
      "cell_type": "code",
      "execution_count": 177,
      "metadata": {
        "colab": {
          "base_uri": "https://localhost:8080/"
        },
        "id": "NBdT9klcLEaa",
        "outputId": "9c2a371f-6646-46c0-81c2-0c6383a433ea"
      },
      "outputs": [
        {
          "output_type": "execute_result",
          "data": {
            "text/plain": [
              "array([[1., 0., 0., ..., 0., 0., 0.],\n",
              "       [0., 0., 1., ..., 0., 0., 0.],\n",
              "       [0., 0., 0., ..., 0., 0., 0.],\n",
              "       ...,\n",
              "       [1., 0., 0., ..., 0., 0., 0.],\n",
              "       [0., 1., 0., ..., 0., 0., 0.],\n",
              "       [0., 0., 0., ..., 0., 0., 0.]], dtype=float32)"
            ]
          },
          "metadata": {},
          "execution_count": 177
        }
      ],
      "source": [
        "y_train"
      ]
    },
    {
      "cell_type": "code",
      "source": [
        "y_test = utils.to_categorical(test['class'], nb_classes)"
      ],
      "metadata": {
        "id": "vJ3COU9RDb-f"
      },
      "execution_count": 178,
      "outputs": []
    },
    {
      "cell_type": "code",
      "source": [
        "y_test"
      ],
      "metadata": {
        "colab": {
          "base_uri": "https://localhost:8080/"
        },
        "id": "_YRggGnqDjuQ",
        "outputId": "4d51fb01-d522-42b6-b102-b9c632ce3804"
      },
      "execution_count": 179,
      "outputs": [
        {
          "output_type": "execute_result",
          "data": {
            "text/plain": [
              "array([[1., 0., 0., ..., 0., 0., 0.],\n",
              "       [1., 0., 0., ..., 0., 0., 0.],\n",
              "       [1., 0., 0., ..., 0., 0., 0.],\n",
              "       ...,\n",
              "       [1., 0., 0., ..., 0., 0., 0.],\n",
              "       [1., 0., 0., ..., 0., 0., 0.],\n",
              "       [0., 0., 1., ..., 0., 0., 0.]], dtype=float32)"
            ]
          },
          "metadata": {},
          "execution_count": 179
        }
      ]
    },
    {
      "cell_type": "markdown",
      "metadata": {
        "id": "Xx_2E74JLWV5"
      },
      "source": [
        "## Токенизация текста"
      ]
    },
    {
      "cell_type": "markdown",
      "metadata": {
        "id": "J2cme4JbLds2"
      },
      "source": [
        "Создаем токенизатор Keras"
      ]
    },
    {
      "cell_type": "code",
      "execution_count": 180,
      "metadata": {
        "id": "V2f-0OOhLeNu"
      },
      "outputs": [],
      "source": [
        "tokenizer = Tokenizer(num_words=num_words)"
      ]
    },
    {
      "cell_type": "markdown",
      "metadata": {
        "id": "0tM5knH1LkE5"
      },
      "source": [
        "Обучаем токенизатор на постах"
      ]
    },
    {
      "cell_type": "code",
      "execution_count": 181,
      "metadata": {
        "id": "RhoT2Bo6LjKl"
      },
      "outputs": [],
      "source": [
        "tokenizer.fit_on_texts(posts_train)"
      ]
    },
    {
      "cell_type": "markdown",
      "metadata": {
        "id": "8qpydqN2LsKX"
      },
      "source": [
        "Просматриваем словарь токенизатора"
      ]
    },
    {
      "cell_type": "code",
      "execution_count": 182,
      "metadata": {
        "colab": {
          "base_uri": "https://localhost:8080/"
        },
        "id": "5LFHB8LNLs-4",
        "outputId": "c3fa6841-e77a-4e41-a12d-bdc34344261e"
      },
      "outputs": [
        {
          "output_type": "execute_result",
          "data": {
            "text/plain": [
              "{'не': 1,\n",
              " 'и': 2,\n",
              " 'в': 3,\n",
              " '🤣': 4,\n",
              " 'а': 5,\n",
              " 'это': 6,\n",
              " 'я': 7,\n",
              " '😂': 8,\n",
              " 'что': 9,\n",
              " 'на': 10,\n",
              " '😁': 11,\n",
              " 'у': 12,\n",
              " 'так': 13,\n",
              " 'как': 14,\n",
              " 'с': 15,\n",
              " '😅': 16,\n",
              " 'то': 17,\n",
              " 'ты': 18,\n",
              " 'ну': 19,\n",
              " '😄': 20,\n",
              " 'да': 21,\n",
              " 'же': 22,\n",
              " '🤔': 23,\n",
              " 'вот': 24,\n",
              " 'все': 25,\n",
              " 'за': 26,\n",
              " 'по': 27,\n",
              " 'тоже': 28,\n",
              " 'вы': 29,\n",
              " '😉': 30,\n",
              " '😊': 31,\n",
              " 'он': 32,\n",
              " 'уже': 33,\n",
              " '😆': 34,\n",
              " '😏': 35,\n",
              " 'мне': 36,\n",
              " 'когда': 37,\n",
              " 'бы': 38,\n",
              " 'меня': 39,\n",
              " 'просто': 40,\n",
              " 'только': 41,\n",
              " 'из': 42,\n",
              " 'ещё': 43,\n",
              " 'она': 44,\n",
              " '😍': 45,\n",
              " 'для': 46,\n",
              " 'есть': 47,\n",
              " 'если': 48,\n",
              " 'они': 49,\n",
              " 'там': 50,\n",
              " 'спасибо': 51,\n",
              " 'от': 52,\n",
              " 'но': 53,\n",
              " 'нет': 54,\n",
              " 'кто': 55,\n",
              " '😎': 56,\n",
              " 'очень': 57,\n",
              " '😃': 58,\n",
              " 'к': 59,\n",
              " 'всё': 60,\n",
              " 'его': 61,\n",
              " 'тебя': 62,\n",
              " 'может': 63,\n",
              " 'было': 64,\n",
              " 'будет': 65,\n",
              " 'надо': 66,\n",
              " 'даже': 67,\n",
              " 'без': 68,\n",
              " '❤': 69,\n",
              " 'лучше': 70,\n",
              " '😳': 71,\n",
              " 'или': 72,\n",
              " 'вам': 73,\n",
              " 'можно': 74,\n",
              " 'вас': 75,\n",
              " 'какой': 76,\n",
              " 'где': 77,\n",
              " 'до': 78,\n",
              " 'тебе': 79,\n",
              " 'этот': 80,\n",
              " 'тут': 81,\n",
              " 'тогда': 82,\n",
              " 'вообще': 83,\n",
              " 'точно': 84,\n",
              " 'чем': 85,\n",
              " 'о': 86,\n",
              " '😀': 87,\n",
              " 'почему': 88,\n",
              " 'её': 89,\n",
              " 'про': 90,\n",
              " 'зачем': 91,\n",
              " 'больше': 92,\n",
              " 'такой': 93,\n",
              " 'еще': 94,\n",
              " 'их': 95,\n",
              " 'фильм': 96,\n",
              " '🙄': 97,\n",
              " 'раз': 98,\n",
              " 'какая': 99,\n",
              " 'хорошо': 100,\n",
              " 'теперь': 101,\n",
              " 'мы': 102,\n",
              " 'ли': 103,\n",
              " 'фото': 104,\n",
              " 'был': 105,\n",
              " 'нас': 106,\n",
              " '🙂': 107,\n",
              " 'после': 108,\n",
              " 'всегда': 109,\n",
              " 'такие': 110,\n",
              " '😌': 111,\n",
              " '😐': 112,\n",
              " 'сразу': 113,\n",
              " 'чего': 114,\n",
              " 'сейчас': 115,\n",
              " 'такая': 116,\n",
              " 'себе': 117,\n",
              " '🤡': 118,\n",
              " 'такое': 119,\n",
              " '😢': 120,\n",
              " 'ему': 121,\n",
              " 'интересно': 122,\n",
              " 'была': 123,\n",
              " 'под': 124,\n",
              " 'конечно': 125,\n",
              " 'ага': 126,\n",
              " 'быть': 127,\n",
              " 'него': 128,\n",
              " 'лет': 129,\n",
              " 'во': 130,\n",
              " '🙃': 131,\n",
              " 'какие': 132,\n",
              " 'сам': 133,\n",
              " '🤗': 134,\n",
              " 'этом': 135,\n",
              " 'время': 136,\n",
              " 'вк': 137,\n",
              " 'тот': 138,\n",
              " 'хоть': 139,\n",
              " 'сколько': 140,\n",
              " '🤩': 141,\n",
              " 'этого': 142,\n",
              " 'всех': 143,\n",
              " 'таких': 144,\n",
              " '😔': 145,\n",
              " 'один': 146,\n",
              " 'жизнь': 147,\n",
              " 'прям': 148,\n",
              " 'смотреть': 149,\n",
              " '🥰': 150,\n",
              " 'кого': 151,\n",
              " '😜': 152,\n",
              " 'со': 153,\n",
              " 'человек': 154,\n",
              " 'нужно': 155,\n",
              " 'пока': 156,\n",
              " 'главное': 157,\n",
              " '☺️': 158,\n",
              " 'всего': 159,\n",
              " 'ни': 160,\n",
              " 'знаю': 161,\n",
              " 'кажется': 162,\n",
              " 'мой': 163,\n",
              " 'значит': 164,\n",
              " 'ничего': 165,\n",
              " '☺': 166,\n",
              " '😱': 167,\n",
              " 'эти': 168,\n",
              " 'них': 169,\n",
              " 'чтобы': 170,\n",
              " 'потому': 171,\n",
              " 'себя': 172,\n",
              " '🙈': 173,\n",
              " 'кому': 174,\n",
              " 'день': 175,\n",
              " '2': 176,\n",
              " '😡': 177,\n",
              " '💣': 178,\n",
              " 'такого': 179,\n",
              " 'потом': 180,\n",
              " 'ее': 181,\n",
              " 'через': 182,\n",
              " '😬': 183,\n",
              " 'зато': 184,\n",
              " '3': 185,\n",
              " 'им': 186,\n",
              " 'чтоб': 187,\n",
              " 'уж': 188,\n",
              " 'че': 189,\n",
              " 'вроде': 190,\n",
              " 'здесь': 191,\n",
              " 'именно': 192,\n",
              " 'жизни': 193,\n",
              " 'наверное': 194,\n",
              " '💔': 195,\n",
              " 'та': 196,\n",
              " 'каждый': 197,\n",
              " 'новый': 198,\n",
              " 'таки': 199,\n",
              " 'хороший': 200,\n",
              " 'понял': 201,\n",
              " 'об': 202,\n",
              " 'самое': 203,\n",
              " 'пожалуйста': 204,\n",
              " 'согласен': 205,\n",
              " 'видимо': 206,\n",
              " 'ей': 207,\n",
              " 'были': 208,\n",
              " 'совсем': 209,\n",
              " 'думаю': 210,\n",
              " 'сериал': 211,\n",
              " 'деньги': 212,\n",
              " 'свой': 213,\n",
              " 'возможно': 214,\n",
              " 'нравится': 215,\n",
              " '🥺': 216,\n",
              " 'делать': 217,\n",
              " 'выглядит': 218,\n",
              " 'правильно': 219,\n",
              " 'эту': 220,\n",
              " 'муж': 221,\n",
              " 'иди': 222,\n",
              " 'который': 223,\n",
              " '😹': 224,\n",
              " 'иногда': 225,\n",
              " '😨': 226,\n",
              " 'чё': 227,\n",
              " 'пор': 228,\n",
              " 'скоро': 229,\n",
              " 'куда': 230,\n",
              " 'самый': 231,\n",
              " 'будут': 232,\n",
              " 'могу': 233,\n",
              " '🤢': 234,\n",
              " 'смотрел': 235,\n",
              " 'ладно': 236,\n",
              " '🖤': 237,\n",
              " 'ваш': 238,\n",
              " '❤️': 239,\n",
              " 'нам': 240,\n",
              " 'друг': 241,\n",
              " 'при': 242,\n",
              " 'нее': 243,\n",
              " 'буду': 244,\n",
              " '🧐': 245,\n",
              " 'оно': 246,\n",
              " 'сих': 247,\n",
              " 'того': 248,\n",
              " 'одна': 249,\n",
              " 'немного': 250,\n",
              " 'лучший': 251,\n",
              " 'сначала': 252,\n",
              " '😭': 253,\n",
              " 'сама': 254,\n",
              " 'одной': 255,\n",
              " 'год': 256,\n",
              " 'равно': 257,\n",
              " 'долго': 258,\n",
              " 'получается': 259,\n",
              " '😒': 260,\n",
              " 'мама': 261,\n",
              " '💩': 262,\n",
              " 'ой': 263,\n",
              " 'видно': 264,\n",
              " 'люди': 265,\n",
              " 'говорят': 266,\n",
              " 'этой': 267,\n",
              " 'девушки': 268,\n",
              " '—': 269,\n",
              " '🥵': 270,\n",
              " '💯': 271,\n",
              " 'бывает': 272,\n",
              " 'сами': 273,\n",
              " 'скорее': 274,\n",
              " 'почти': 275,\n",
              " 'этим': 276,\n",
              " 'думал': 277,\n",
              " '😮': 278,\n",
              " 'кот': 279,\n",
              " 'давно': 280,\n",
              " 'россии': 281,\n",
              " 'вопрос': 282,\n",
              " 'странно': 283,\n",
              " 'свое': 284,\n",
              " 'сделать': 285,\n",
              " 'фильмы': 286,\n",
              " 'момент': 287,\n",
              " 'любовь': 288,\n",
              " 'ля': 289,\n",
              " 'сказал': 290,\n",
              " 'свою': 291,\n",
              " 'слова': 292,\n",
              " 'полностью': 293,\n",
              " 'более': 294,\n",
              " '😇': 295,\n",
              " '😑': 296,\n",
              " 'нельзя': 297,\n",
              " 'своего': 298,\n",
              " 'пусть': 299,\n",
              " 'детей': 300,\n",
              " 'треки': 301,\n",
              " '💦': 302,\n",
              " 'весь': 303,\n",
              " 'твой': 304,\n",
              " '😈': 305,\n",
              " 'особенно': 306,\n",
              " '🤨': 307,\n",
              " 'смотрю': 308,\n",
              " 'эта': 309,\n",
              " 'никто': 310,\n",
              " '10': 311,\n",
              " 'года': 312,\n",
              " '🙀': 313,\n",
              " 'хочу': 314,\n",
              " 'всем': 315,\n",
              " 'люблю': 316,\n",
              " 'дня': 317,\n",
              " 'хотя': 318,\n",
              " 'пиши': 319,\n",
              " 'мужа': 320,\n",
              " 'правда': 321,\n",
              " 'дальше': 322,\n",
              " 'сегодня': 323,\n",
              " 'блин': 324,\n",
              " 'стоит': 325,\n",
              " 'фотографии': 326,\n",
              " 'людей': 327,\n",
              " 'история': 328,\n",
              " 'которые': 329,\n",
              " 'record': 330,\n",
              " 'первый': 331,\n",
              " 'норм': 332,\n",
              " 'действительно': 333,\n",
              " 'мужчина': 334,\n",
              " 'понятно': 335,\n",
              " 'никогда': 336,\n",
              " 'реально': 337,\n",
              " 'смешно': 338,\n",
              " 'вкусно': 339,\n",
              " 'опять': 340,\n",
              " 'красивая': 341,\n",
              " 'этих': 342,\n",
              " 'похоже': 343,\n",
              " 'красотка': 344,\n",
              " 'явно': 345,\n",
              " 'тобой': 346,\n",
              " 'том': 347,\n",
              " 'ней': 348,\n",
              " 'нибудь': 349,\n",
              " 'мало': 350,\n",
              " 'посмотреть': 351,\n",
              " 'девушка': 352,\n",
              " 'моя': 353,\n",
              " 'самая': 354,\n",
              " '4': 355,\n",
              " 'посмотрел': 356,\n",
              " 'сильно': 357,\n",
              " 'какое': 358,\n",
              " 'свои': 359,\n",
              " 'голове': 360,\n",
              " 'понимаю': 361,\n",
              " 'те': 362,\n",
              " 'девочки': 363,\n",
              " '🤮': 364,\n",
              " 'разве': 365,\n",
              " 'женщины': 366,\n",
              " 'супер': 367,\n",
              " 'спит': 368,\n",
              " '😩': 369,\n",
              " 'повезло': 370,\n",
              " 'счастье': 371,\n",
              " 'ответ': 372,\n",
              " 'комментарий': 373,\n",
              " 'много': 374,\n",
              " '100': 375,\n",
              " 'найти': 376,\n",
              " 'работает': 377,\n",
              " 'отец': 378,\n",
              " 'две': 379,\n",
              " 'ноги': 380,\n",
              " 'моему': 381,\n",
              " '🥲': 382,\n",
              " 'видео': 383,\n",
              " 'написал': 384,\n",
              " 'нужна': 385,\n",
              " 'назад': 386,\n",
              " 'будем': 387,\n",
              " 'сказать': 388,\n",
              " 'поняла': 389,\n",
              " 'наши': 390,\n",
              " 'другое': 391,\n",
              " 'такую': 392,\n",
              " 'каком': 393,\n",
              " 'кайф': 394,\n",
              " 'жаль': 395,\n",
              " 'б': 396,\n",
              " 'женщина': 397,\n",
              " 'молодец': 398,\n",
              " 'малыш': 399,\n",
              " 'дело': 400,\n",
              " 'этому': 401,\n",
              " 'стало': 402,\n",
              " 'походу': 403,\n",
              " 'мужчины': 404,\n",
              " 'везде': 405,\n",
              " '💙': 406,\n",
              " 'два': 407,\n",
              " 'неё': 408,\n",
              " 'семья': 409,\n",
              " 'нормально': 410,\n",
              " 'никому': 411,\n",
              " 'столько': 412,\n",
              " 'своей': 413,\n",
              " 'думала': 414,\n",
              " '🤪': 415,\n",
              " 'надеюсь': 416,\n",
              " 'посмотрите': 417,\n",
              " 'хочется': 418,\n",
              " 'согласна': 419,\n",
              " 'тем': 420,\n",
              " 'ходу': 421,\n",
              " 'откуда': 422,\n",
              " 'добрый': 423,\n",
              " '😘': 424,\n",
              " 'второй': 425,\n",
              " 'самые': 426,\n",
              " 'детства': 427,\n",
              " 'ведь': 428,\n",
              " 'дома': 429,\n",
              " 'дети': 430,\n",
              " 'доброе': 431,\n",
              " 'лишь': 432,\n",
              " 'должен': 433,\n",
              " 'пару': 434,\n",
              " 'слишком': 435,\n",
              " 'страшно': 436,\n",
              " 'обычно': 437,\n",
              " 'благодарю': 438,\n",
              " 'идет': 439,\n",
              " 'большое': 440,\n",
              " 'помню': 441,\n",
              " 'жена': 442,\n",
              " 'мои': 443,\n",
              " '😲': 444,\n",
              " 'отмечаемся': 445,\n",
              " 'либо': 446,\n",
              " 'vk': 447,\n",
              " 'одного': 448,\n",
              " 'могут': 449,\n",
              " 'клоун': 450,\n",
              " 'сюда': 451,\n",
              " 'подумала': 452,\n",
              " '🤧': 453,\n",
              " 'топ': 454,\n",
              " 'новым': 455,\n",
              " '🤤': 456,\n",
              " 'интересный': 457,\n",
              " 'сделал': 458,\n",
              " 'давай': 459,\n",
              " 'вместо': 460,\n",
              " 'всю': 461,\n",
              " 'нашли': 462,\n",
              " 'видела': 463,\n",
              " 'смотрела': 464,\n",
              " 'поздравляю': 465,\n",
              " 'говно': 466,\n",
              " 'которая': 467,\n",
              " 'против': 468,\n",
              " 'фильме': 469,\n",
              " 'своим': 470,\n",
              " 'хорошего': 471,\n",
              " 'фильма': 472,\n",
              " 'хочешь': 473,\n",
              " 'туда': 474,\n",
              " '1': 475,\n",
              " 'писать': 476,\n",
              " 'чём': 477,\n",
              " 'ж': 478,\n",
              " 'ради': 479,\n",
              " '40': 480,\n",
              " 'привет': 481,\n",
              " 'судя': 482,\n",
              " 'каждого': 483,\n",
              " 'посмотрю': 484,\n",
              " 'кино': 485,\n",
              " 'видеть': 486,\n",
              " 'nrmusicru': 487,\n",
              " 'дизайн': 488,\n",
              " 'знаете': 489,\n",
              " 'ох': 490,\n",
              " '😋': 491,\n",
              " 'похожа': 492,\n",
              " '9': 493,\n",
              " 'многие': 494,\n",
              " 'недавно': 495,\n",
              " '50': 496,\n",
              " 'нету': 497,\n",
              " 'поэтому': 498,\n",
              " 'прав': 499,\n",
              " 'наконец': 500,\n",
              " 'такими': 501,\n",
              " 'одно': 502,\n",
              " 'раньше': 503,\n",
              " 'минут': 504,\n",
              " 'снимать': 505,\n",
              " 'хотел': 506,\n",
              " 'будто': 507,\n",
              " 'плейлист': 508,\n",
              " 'отличный': 509,\n",
              " 'человека': 510,\n",
              " 'ваша': 511,\n",
              " 'утро': 512,\n",
              " 'девочка': 513,\n",
              " 'жалко': 514,\n",
              " 'красивые': 515,\n",
              " 'глаза': 516,\n",
              " '🤭': 517,\n",
              " 'своих': 518,\n",
              " 'верно': 519,\n",
              " 'доводит': 520,\n",
              " 'легко': 521,\n",
              " 'подарок': 522,\n",
              " 'посмотри': 523,\n",
              " 'самом': 524,\n",
              " 'мужик': 525,\n",
              " '🤯': 526,\n",
              " 'вижу': 527,\n",
              " '🤫': 528,\n",
              " 'маму': 529,\n",
              " 'прекрасная': 530,\n",
              " 'скажи': 531,\n",
              " 'любит': 532,\n",
              " 'узнать': 533,\n",
              " 'твоя': 534,\n",
              " 'пример': 535,\n",
              " 'жду': 536,\n",
              " 'вид': 537,\n",
              " 'парень': 538,\n",
              " 'музыку': 539,\n",
              " 'купить': 540,\n",
              " 'спросить': 541,\n",
              " 'настоящая': 542,\n",
              " 'знает': 543,\n",
              " 'сожалению': 544,\n",
              " 'истории': 545,\n",
              " 'чебурашка': 546,\n",
              " 'отношения': 547,\n",
              " 'постоянно': 548,\n",
              " 'шутка': 549,\n",
              " 'между': 550,\n",
              " 'друга': 551,\n",
              " 'пойду': 552,\n",
              " '8': 553,\n",
              " 'чему': 554,\n",
              " 'очевидно': 555,\n",
              " 'взгляд': 556,\n",
              " 'пара': 557,\n",
              " 'плохо': 558,\n",
              " 'серия': 559,\n",
              " 'слово': 560,\n",
              " 'случай': 561,\n",
              " 'любимый': 562,\n",
              " '🥳': 563,\n",
              " 'идёт': 564,\n",
              " 'приятно': 565,\n",
              " 'комент': 566,\n",
              " 'следите': 567,\n",
              " 'щас': 568,\n",
              " 'дак': 569,\n",
              " 'части': 570,\n",
              " 'эх': 571,\n",
              " 'эт': 572,\n",
              " 'новые': 573,\n",
              " 'должна': 574,\n",
              " 'наоборот': 575,\n",
              " 'месте': 576,\n",
              " 'вашей': 577,\n",
              " 'последний': 578,\n",
              " 'чувство': 579,\n",
              " 'утром': 580,\n",
              " 'решила': 581,\n",
              " 'серии': 582,\n",
              " '😰': 583,\n",
              " 'вместе': 584,\n",
              " 'ааа': 585,\n",
              " 'моего': 586,\n",
              " 'рождения': 587,\n",
              " 'ними': 588,\n",
              " '😕': 589,\n",
              " 'скучно': 590,\n",
              " 'ревность💔': 591,\n",
              " 'ху': 592,\n",
              " '20': 593,\n",
              " 'батя': 594,\n",
              " 'первой': 595,\n",
              " 'вами': 596,\n",
              " 'видел': 597,\n",
              " 'таким': 598,\n",
              " 'чел': 599,\n",
              " 'молодцы': 600,\n",
              " 'вспомнил': 601,\n",
              " 'заметили': 602,\n",
              " 'делают': 603,\n",
              " 'смотри': 604,\n",
              " 'вся': 605,\n",
              " 'бред': 606,\n",
              " 'так😅': 607,\n",
              " 'горячий': 608,\n",
              " 'получилось': 609,\n",
              " 'нужны': 610,\n",
              " 'написать': 611,\n",
              " 'боже': 612,\n",
              " '🤠': 613,\n",
              " '5': 614,\n",
              " '14': 615,\n",
              " 'называется': 616,\n",
              " 'юмор': 617,\n",
              " 'узнала': 618,\n",
              " 'мужчин': 619,\n",
              " 'ахах': 620,\n",
              " 'своем': 621,\n",
              " 'ходят': 622,\n",
              " 'мир': 623,\n",
              " '🤍': 624,\n",
              " 'моей': 625,\n",
              " 'быстро': 626,\n",
              " 'говорю': 627,\n",
              " 'красотки': 628,\n",
              " 'девушке': 629,\n",
              " 'говорит': 630,\n",
              " '7': 631,\n",
              " 'узнал': 632,\n",
              " 'коммент': 633,\n",
              " 'знать': 634,\n",
              " 'отличная': 635,\n",
              " 'е': 636,\n",
              " 'стала': 637,\n",
              " 'информация': 638,\n",
              " 'удивительно': 639,\n",
              " 'тему': 640,\n",
              " 'музыка': 641,\n",
              " 'ок': 642,\n",
              " 'снова': 643,\n",
              " 'взять': 644,\n",
              " 'серию': 645,\n",
              " 'новое': 646,\n",
              " 'следующий': 647,\n",
              " 'красивый': 648,\n",
              " 'ним': 649,\n",
              " 'админ': 650,\n",
              " 'будешь': 651,\n",
              " 'конце': 652,\n",
              " 'понять': 653,\n",
              " 'любят': 654,\n",
              " 'руки': 655,\n",
              " 'которой': 656,\n",
              " 'сын': 657,\n",
              " 'конец': 658,\n",
              " 'намного': 659,\n",
              " 'понравилось': 660,\n",
              " 'детстве': 661,\n",
              " 'путин': 662,\n",
              " '💚': 663,\n",
              " 'вариант': 664,\n",
              " 'дядя': 665,\n",
              " 'смотрели': 666,\n",
              " 'умер': 667,\n",
              " 'свежие': 668,\n",
              " 'насколько': 669,\n",
              " 'ваши': 670,\n",
              " 'чисто': 671,\n",
              " 'красиво': 672,\n",
              " 'deep': 673,\n",
              " 'дать': 674,\n",
              " 'новостями': 675,\n",
              " 'ого': 676,\n",
              " 'аж': 677,\n",
              " 'актёр': 678,\n",
              " 'мальчик': 679,\n",
              " 'забыли': 680,\n",
              " 'нормальный': 681,\n",
              " 'забыл': 682,\n",
              " 'другом': 683,\n",
              " 'разница': 684,\n",
              " 'вкус': 685,\n",
              " 'цвет': 686,\n",
              " 'чтоли': 687,\n",
              " '60': 688,\n",
              " 'фотки': 689,\n",
              " 'говорите': 690,\n",
              " 'воду': 691,\n",
              " 'думаешь': 692,\n",
              " 'пол': 693,\n",
              " 'приложение': 694,\n",
              " 'три': 695,\n",
              " 'оо': 696,\n",
              " 'новая': 697,\n",
              " 'родители': 698,\n",
              " 'лайк': 699,\n",
              " '🤓': 700,\n",
              " 'тех': 701,\n",
              " 'актриса': 702,\n",
              " 'хорош': 703,\n",
              " 'господи': 704,\n",
              " 'ума': 705,\n",
              " 'одну': 706,\n",
              " 'наступающим': 707,\n",
              " 'русские': 708,\n",
              " 'хотела': 709,\n",
              " 'дурак': 710,\n",
              " 'звучит': 711,\n",
              " 'наверно': 712,\n",
              " 'перед': 713,\n",
              " 'похож': 714,\n",
              " 'причём': 715,\n",
              " 'шикарная': 716,\n",
              " '😝': 717,\n",
              " 'кстати': 718,\n",
              " 'реклама': 719,\n",
              " 'папа': 720,\n",
              " 'будущее': 721,\n",
              " 'фу': 722,\n",
              " 'нечего': 723,\n",
              " '😤': 724,\n",
              " 'большой': 725,\n",
              " 'a': 726,\n",
              " 'сэры': 727,\n",
              " 'часто': 728,\n",
              " 'знак': 729,\n",
              " 'совпало': 730,\n",
              " 'лучшее': 731,\n",
              " 'мечта': 732,\n",
              " 'секс': 733,\n",
              " 'поймут': 734,\n",
              " 'говорится': 735,\n",
              " 'фамилия': 736,\n",
              " 'дай': 737,\n",
              " 'выбор': 738,\n",
              " 'грудь': 739,\n",
              " 'игра': 740,\n",
              " 'свет': 741,\n",
              " 'первую': 742,\n",
              " 'желательно': 743,\n",
              " 'забыла': 744,\n",
              " 'яндекс': 745,\n",
              " 'мечты': 746,\n",
              " 'другие': 747,\n",
              " 'маленький': 748,\n",
              " 'молча': 749,\n",
              " 'грубо': 750,\n",
              " '🙁': 751,\n",
              " 'ждать': 752,\n",
              " 'лицо': 753,\n",
              " 'горячо': 754,\n",
              " 'фигня': 755,\n",
              " 'пришлось': 756,\n",
              " 'цените': 757,\n",
              " 'спать': 758,\n",
              " 'иначе': 759,\n",
              " 'ждал': 760,\n",
              " 'собой': 761,\n",
              " 'имеет': 762,\n",
              " 'угу': 763,\n",
              " 'москве': 764,\n",
              " 'каждой': 765,\n",
              " 'верю': 766,\n",
              " 'мозгов': 767,\n",
              " 'путина': 768,\n",
              " 'голову': 769,\n",
              " 'ко': 770,\n",
              " '2023': 771,\n",
              " 'сети': 772,\n",
              " 'чуть': 773,\n",
              " 'подруга': 774,\n",
              " 'пора': 775,\n",
              " 'моложе': 776,\n",
              " 'слава': 777,\n",
              " 'богу': 778,\n",
              " 'функция': 779,\n",
              " 'фотке': 780,\n",
              " 'лучшие': 781,\n",
              " 'своими': 782,\n",
              " 'бесплатно': 783,\n",
              " 'таком': 784,\n",
              " 'годом': 785,\n",
              " 'жены': 786,\n",
              " 'ввиду': 787,\n",
              " 'трек': 788,\n",
              " 'женщин': 789,\n",
              " 'твои': 790,\n",
              " 'честно': 791,\n",
              " 'house': 792,\n",
              " 'точно🤣': 793,\n",
              " 'пытается': 794,\n",
              " 'новинки': 795,\n",
              " 'делаю': 796,\n",
              " 'точку': 797,\n",
              " 'понравился': 798,\n",
              " 'серьёзно': 799,\n",
              " 'факту': 800,\n",
              " 'году': 801,\n",
              " 'шикарные': 802,\n",
              " 'мамы': 803,\n",
              " 'часть': 804,\n",
              " 'увидел': 805,\n",
              " 'одним': 806,\n",
              " 'бедная': 807,\n",
              " 'больно': 808,\n",
              " 'делает': 809,\n",
              " 'очередь': 810,\n",
              " 'говоришь': 811,\n",
              " 'помните': 812,\n",
              " 'помощь': 813,\n",
              " '😵': 814,\n",
              " 'купи': 815,\n",
              " 'обожаю': 816,\n",
              " 'каких': 817,\n",
              " 'сына': 818,\n",
              " 'кроме': 819,\n",
              " 'одни': 820,\n",
              " 'другой': 821,\n",
              " 'сарказм': 822,\n",
              " 'окна': 823,\n",
              " 'месяц': 824,\n",
              " 'типо': 825,\n",
              " 'радости': 826,\n",
              " 'zenly': 827,\n",
              " 'работать': 828,\n",
              " 'бузова': 829,\n",
              " 'будь': 830,\n",
              " 'обновление': 831,\n",
              " 'дед': 832,\n",
              " 'бабушки': 833,\n",
              " 'возраст': 834,\n",
              " '💜': 835,\n",
              " 'безумно': 836,\n",
              " 'звезда': 837,\n",
              " 'великий': 838,\n",
              " 'хотят': 839,\n",
              " 'завтра': 840,\n",
              " 'мужем': 841,\n",
              " 'зря': 842,\n",
              " 'далеко': 843,\n",
              " 'хочет': 844,\n",
              " 'слышал': 845,\n",
              " 'мать': 846,\n",
              " 'понимает': 847,\n",
              " 'меньше': 848,\n",
              " '😯': 849,\n",
              " 'комментариев': 850,\n",
              " 'правы': 851,\n",
              " 'прочитала': 852,\n",
              " 'выше': 853,\n",
              " 'ребёнок': 854,\n",
              " 'само': 855,\n",
              " 'языка': 856,\n",
              " 'нашел': 857,\n",
              " 'причем': 858,\n",
              " '30': 859,\n",
              " '😟': 860,\n",
              " 'счастья': 861,\n",
              " 'своё': 862,\n",
              " 'получше': 863,\n",
              " 'ждала': 864,\n",
              " 'родителей': 865,\n",
              " 'могла': 866,\n",
              " 'идёте': 867,\n",
              " 'лс': 868,\n",
              " 'случае': 869,\n",
              " 'дочь': 870,\n",
              " 'косплей': 871,\n",
              " 'нафиг': 872,\n",
              " 'своему': 873,\n",
              " 'жесть': 874,\n",
              " 'старайся': 875,\n",
              " 'шедевр': 876,\n",
              " 'ясно': 877,\n",
              " 'ночной': 878,\n",
              " 'настоящий': 879,\n",
              " 'писал': 880,\n",
              " 'жиза': 881,\n",
              " 'неплохо': 882,\n",
              " 'сделали': 883,\n",
              " '💞': 884,\n",
              " 'душе': 885,\n",
              " 'крутой': 886,\n",
              " 'трусы': 887,\n",
              " 'волосы': 888,\n",
              " 'бабушка': 889,\n",
              " 'кота': 890,\n",
              " 'вторую': 891,\n",
              " 'комментарии': 892,\n",
              " 'ждём': 893,\n",
              " 'капец': 894,\n",
              " 'друзей': 895,\n",
              " 'ах': 896,\n",
              " 'идеальный': 897,\n",
              " 'бог': 898,\n",
              " 'нет🤣': 899,\n",
              " 'решил': 900,\n",
              " '11': 901,\n",
              " 'увидела': 902,\n",
              " 'никак': 903,\n",
              " 'появилась': 904,\n",
              " 'чёрный': 905,\n",
              " 'настроение': 906,\n",
              " 'невероятная': 907,\n",
              " 'ноль': 908,\n",
              " 'дизлайки': 909,\n",
              " 'опыта': 910,\n",
              " 'написано': 911,\n",
              " 'некоторым': 912,\n",
              " 'которую': 913,\n",
              " 'жди': 914,\n",
              " 'также': 915,\n",
              " 'маленькая': 916,\n",
              " 'ленту': 917,\n",
              " 'попал': 918,\n",
              " 'тату': 919,\n",
              " 'работы': 920,\n",
              " 'семьи': 921,\n",
              " 'нашла': 922,\n",
              " 'вата': 923,\n",
              " 'море': 924,\n",
              " 'рекламы': 925,\n",
              " '🤬': 926,\n",
              " 'рада': 927,\n",
              " 'моем': 928,\n",
              " 'дык': 929,\n",
              " 'которого': 930,\n",
              " 'шоке': 931,\n",
              " 'любить': 932,\n",
              " 'боюсь': 933,\n",
              " 'подумать': 934,\n",
              " 'пацаны': 935,\n",
              " 'успел': 936,\n",
              " 'бить': 937,\n",
              " 'ходить': 938,\n",
              " 'парня': 939,\n",
              " 'оба': 940,\n",
              " 'радостью': 941,\n",
              " 'шикарный': 942,\n",
              " 'красавчик': 943,\n",
              " 'интересные': 944,\n",
              " 'оооо': 945,\n",
              " 'фильмe': 946,\n",
              " 'гaя': 947,\n",
              " 'pичи': 948,\n",
              " 'пост': 949,\n",
              " 'первые': 950,\n",
              " 'мнение': 951,\n",
              " 'отлично': 952,\n",
              " 'образ': 953,\n",
              " '90': 954,\n",
              " 'х': 955,\n",
              " 'верить': 956,\n",
              " '13': 957,\n",
              " 'показалось': 958,\n",
              " 'слышу': 959,\n",
              " 'настолько': 960,\n",
              " '6': 961,\n",
              " 'плохой': 962,\n",
              " 'ахаха': 963,\n",
              " 'рецепт': 964,\n",
              " 'занимаются': 965,\n",
              " 'минуты': 966,\n",
              " 'скажешь': 967,\n",
              " 'ловите': 968,\n",
              " 'наша': 969,\n",
              " '😶': 970,\n",
              " 'тупой': 971,\n",
              " 'смысл': 972,\n",
              " 'идеальная': 973,\n",
              " 'некоторые': 974,\n",
              " 'programms': 975,\n",
              " 'music': 976,\n",
              " 'сообщения': 977,\n",
              " 'меняет': 978,\n",
              " 'наш': 979,\n",
              " 'классно': 980,\n",
              " 'https': 981,\n",
              " 'me': 982,\n",
              " 'знакомо': 983,\n",
              " 'глазам': 984,\n",
              " 'посмотрела': 985,\n",
              " 'пятницы': 986,\n",
              " '😥': 987,\n",
              " 'ребята': 988,\n",
              " 'самого': 989,\n",
              " 'название': 990,\n",
              " 'хью': 991,\n",
              " 'умеет': 992,\n",
              " 'огонь': 993,\n",
              " 'последняя': 994,\n",
              " 'брат': 995,\n",
              " 'гений': 996,\n",
              " 'говоря': 997,\n",
              " 'макияжа': 998,\n",
              " 'весело': 999,\n",
              " 'версия': 1000,\n",
              " ...}"
            ]
          },
          "metadata": {},
          "execution_count": 182
        }
      ],
      "source": [
        "tokenizer.word_index"
      ]
    },
    {
      "cell_type": "markdown",
      "metadata": {
        "id": "XJVNNZZ3LxoV"
      },
      "source": [
        "Преобразуем посты в числовое представление"
      ]
    },
    {
      "cell_type": "code",
      "execution_count": 183,
      "metadata": {
        "id": "etjtGQi-Ly_5"
      },
      "outputs": [],
      "source": [
        "sequences_train = tokenizer.texts_to_sequences(posts_train)"
      ]
    },
    {
      "cell_type": "code",
      "execution_count": 184,
      "metadata": {
        "colab": {
          "base_uri": "https://localhost:8080/"
        },
        "id": "Le7_-In3L5Ke",
        "outputId": "90fd46c5-c947-462c-fae6-9f07ba174933"
      },
      "outputs": [
        {
          "output_type": "stream",
          "name": "stdout",
          "text": [
            "почему бы и нет 😂\n",
            "[3034, 38, 1, 3035, 3036, 8]\n"
          ]
        }
      ],
      "source": [
        "index = 0\n",
        "print(posts_train[index])\n",
        "print(sequences_train[index])"
      ]
    },
    {
      "cell_type": "code",
      "execution_count": 185,
      "metadata": {
        "colab": {
          "base_uri": "https://localhost:8080/"
        },
        "id": "rMHbvGhZMAEw",
        "outputId": "b45d42d4-2287-4482-ebd5-7c3790ee4de9"
      },
      "outputs": [
        {
          "output_type": "execute_result",
          "data": {
            "text/plain": [
              "54"
            ]
          },
          "metadata": {},
          "execution_count": 185
        }
      ],
      "source": [
        "tokenizer.word_index['нет']"
      ]
    },
    {
      "cell_type": "code",
      "source": [
        "sequences_test = tokenizer.texts_to_sequences(posts_test)"
      ],
      "metadata": {
        "id": "ZYYcy-yID1BF"
      },
      "execution_count": 186,
      "outputs": []
    },
    {
      "cell_type": "markdown",
      "metadata": {
        "id": "3k9SI8rqME-V"
      },
      "source": [
        "Ограничиваем длину постов"
      ]
    },
    {
      "cell_type": "code",
      "execution_count": 187,
      "metadata": {
        "id": "-84lOS81MGYX"
      },
      "outputs": [],
      "source": [
        "x_train = pad_sequences(sequences_train, maxlen=max_len)"
      ]
    },
    {
      "cell_type": "code",
      "source": [
        "x_test = pad_sequences(sequences_test, maxlen=max_len)"
      ],
      "metadata": {
        "id": "6aXKSMN7EO7R"
      },
      "execution_count": 188,
      "outputs": []
    },
    {
      "cell_type": "code",
      "execution_count": 189,
      "metadata": {
        "colab": {
          "base_uri": "https://localhost:8080/"
        },
        "id": "wrsd4r-ZMKpw",
        "outputId": "3beb2df1-35e1-4543-e7ea-89c6d457b44d"
      },
      "outputs": [
        {
          "output_type": "execute_result",
          "data": {
            "text/plain": [
              "array([[   0,    0,    0,    0,    0, 3034,   38,    1, 3035, 3036,    8],\n",
              "       [   0,    0,    0,  490,   14,  374,   73, 3037,   43,  533,  111],\n",
              "       [   0,    0,    0,    0,    0,    0,   24,   38,   36,   13,  120],\n",
              "       [   0, 3038, 3039, 3040,    2, 3041, 3042,   59, 3043, 3044,   45],\n",
              "       [   0,    0,    0,    0,    0,    0,    5,    9,   73, 1676,    4]],\n",
              "      dtype=int32)"
            ]
          },
          "metadata": {},
          "execution_count": 189
        }
      ],
      "source": [
        "x_train[:5]"
      ]
    },
    {
      "cell_type": "code",
      "source": [
        "x_test[:5]"
      ],
      "metadata": {
        "colab": {
          "base_uri": "https://localhost:8080/"
        },
        "id": "NeCcYcQuEUN_",
        "outputId": "85769f37-c844-4fc7-fec4-02532dc03099"
      },
      "execution_count": 190,
      "outputs": [
        {
          "output_type": "execute_result",
          "data": {
            "text/plain": [
              "array([[   0,    0,    0,    0,    0,    0,    0,    0,    0,    0,    0],\n",
              "       [   0,    0,    0,    0,    0,    0,    0,    0, 4719,  306,    4],\n",
              "       [   0,    0,    0,    0,    0,   57, 1019, 1040,   22,  980,   58],\n",
              "       [   0,    0,    0,    0,    0,   10,  180, 1074,    3, 4317,   11],\n",
              "       [   0,    0,    0,    0,    0,    0,   21,    6,    7,   40,   38]],\n",
              "      dtype=int32)"
            ]
          },
          "metadata": {},
          "execution_count": 190
        }
      ]
    },
    {
      "cell_type": "code",
      "execution_count": 102,
      "metadata": {
        "id": "flRYeISYpWOV"
      },
      "outputs": [],
      "source": [
        "#def recall_m(y_true, y_pred):\n",
        " #   true_positives = K.sum(K.round(K.clip(y_true * y_pred, 0, 1)))\n",
        "  #  possible_positives = K.sum(K.round(K.clip(y_true, 0, 1)))\n",
        "   # recall = true_positives / (possible_positives + K.epsilon())\n",
        "   # return recall"
      ]
    },
    {
      "cell_type": "code",
      "execution_count": 103,
      "metadata": {
        "id": "PHXxvB66pYPb"
      },
      "outputs": [],
      "source": [
        "#def precision_m(y_true, y_pred):\n",
        " #   true_positives = K.sum(K.round(K.clip(y_true * y_pred, 0, 1)))\n",
        "  #  predicted_positives = K.sum(K.round(K.clip(y_pred, 0, 1)))\n",
        "   # precision = true_positives / (predicted_positives + K.epsilon())\n",
        "    #return precision"
      ]
    },
    {
      "cell_type": "code",
      "execution_count": 104,
      "metadata": {
        "id": "hhnCMH_BpfUm"
      },
      "outputs": [],
      "source": [
        "#def f1_m(y_true, y_pred):\n",
        " #   precision = precision_m(y_true, y_pred)\n",
        "  #  recall = recall_m(y_true, y_pred)\n",
        "   # return 2*((precision*recall)/(precision+recall+K.epsilon()))"
      ]
    },
    {
      "cell_type": "markdown",
      "metadata": {
        "id": "dViU6WEJMNyt"
      },
      "source": [
        "## Сверточная нейронная сеть"
      ]
    },
    {
      "cell_type": "code",
      "execution_count": 191,
      "metadata": {
        "id": "F8UUkNVKMOLg"
      },
      "outputs": [],
      "source": [
        "model_cnn = Sequential()\n",
        "model_cnn.add(Embedding(num_words, 32, input_length=max_len))\n",
        "model_cnn.add(Conv1D(250, 5, padding='valid', activation='relu'))\n",
        "model_cnn.add(GlobalMaxPooling1D())\n",
        "model_cnn.add(Dense(128, activation='relu'))\n",
        "model_cnn.add(Dense(15, activation='softmax'))"
      ]
    },
    {
      "cell_type": "code",
      "execution_count": 192,
      "metadata": {
        "id": "5kz7Qh0yMXYj"
      },
      "outputs": [],
      "source": [
        "model_cnn.compile(optimizer='adam', \n",
        "              loss='categorical_crossentropy',\n",
        "              metrics=['accuracy', metrics.Precision(), metrics.Recall(), metrics.F1Score(average='macro', name='f1_score_macro'), metrics.F1Score(average='micro', name='f1_score_micro'), metrics.F1Score(average='weighted', name='f1_score_weighted')]\n",
        "              )"
      ]
    },
    {
      "cell_type": "code",
      "execution_count": 193,
      "metadata": {
        "colab": {
          "base_uri": "https://localhost:8080/"
        },
        "id": "8S_qMbd1MbM-",
        "outputId": "20546b29-1081-4b0d-872d-eb23e8706591"
      },
      "outputs": [
        {
          "output_type": "stream",
          "name": "stdout",
          "text": [
            "Model: \"sequential_8\"\n",
            "_________________________________________________________________\n",
            " Layer (type)                Output Shape              Param #   \n",
            "=================================================================\n",
            " embedding_8 (Embedding)     (None, 11, 32)            320000    \n",
            "                                                                 \n",
            " conv1d_6 (Conv1D)           (None, 7, 250)            40250     \n",
            "                                                                 \n",
            " global_max_pooling1d_6 (Gl  (None, 250)               0         \n",
            " obalMaxPooling1D)                                               \n",
            "                                                                 \n",
            " dense_14 (Dense)            (None, 128)               32128     \n",
            "                                                                 \n",
            " dense_15 (Dense)            (None, 15)                1935      \n",
            "                                                                 \n",
            "=================================================================\n",
            "Total params: 394313 (1.50 MB)\n",
            "Trainable params: 394313 (1.50 MB)\n",
            "Non-trainable params: 0 (0.00 Byte)\n",
            "_________________________________________________________________\n"
          ]
        }
      ],
      "source": [
        "model_cnn.summary()"
      ]
    },
    {
      "cell_type": "markdown",
      "metadata": {
        "id": "VQsth7ZpMfTo"
      },
      "source": [
        "Создаем callback для сохранения нейронной сети на каждой эпохе, если качество работы на проверочном наборе данных улучшилось. Сеть сохраняется в файл best_model.h5"
      ]
    },
    {
      "cell_type": "code",
      "execution_count": 194,
      "metadata": {
        "id": "Wiljs7umMhTF"
      },
      "outputs": [],
      "source": [
        "model_cnn_save_path = 'best_model_cnn.h5'\n",
        "checkpoint_callback_cnn = ModelCheckpoint(model_cnn_save_path, \n",
        "                                      #monitor='val_f1_score_weighted',\n",
        "                                      save_best_only=True,\n",
        "                                      verbose=1)"
      ]
    },
    {
      "cell_type": "code",
      "execution_count": 195,
      "metadata": {
        "colab": {
          "base_uri": "https://localhost:8080/"
        },
        "id": "muN4J5QcMmiN",
        "outputId": "e38c3e40-0e7b-45d2-8119-60f8b9b636bb"
      },
      "outputs": [
        {
          "output_type": "stream",
          "name": "stdout",
          "text": [
            "Epoch 1/5\n",
            "52/52 [==============================] - ETA: 0s - loss: 1.7314 - accuracy: 0.6314 - precision_9: 0.6397 - recall_9: 0.3747 - f1_score_macro: 0.0529 - f1_score_micro: 0.6314 - f1_score_weighted: 0.5047\n",
            "Epoch 1: val_loss improved from inf to 1.42741, saving model to best_model_cnn.h5\n",
            "52/52 [==============================] - 8s 128ms/step - loss: 1.7314 - accuracy: 0.6314 - precision_9: 0.6397 - recall_9: 0.3747 - f1_score_macro: 0.0529 - f1_score_micro: 0.6314 - f1_score_weighted: 0.5047 - val_loss: 1.4274 - val_accuracy: 0.6192 - val_precision_9: 0.6211 - val_recall_9: 0.6152 - val_f1_score_macro: 0.0510 - val_f1_score_micro: 0.6192 - val_f1_score_weighted: 0.4736\n",
            "Epoch 2/5\n",
            " 1/52 [..............................] - ETA: 5s - loss: 1.3880 - accuracy: 0.6328 - precision_9: 0.6452 - recall_9: 0.6250 - f1_score_macro: 0.0517 - f1_score_micro: 0.6328 - f1_score_weighted: 0.4905"
          ]
        },
        {
          "output_type": "stream",
          "name": "stderr",
          "text": [
            "/usr/local/lib/python3.10/dist-packages/keras/src/engine/training.py:3052: UserWarning: You are saving your model as an HDF5 file via `model.save()`. This file format is considered legacy. We recommend using instead the native Keras format, e.g. `model.save('my_model.keras')`.\n",
            "  saving_api.save_model(\n"
          ]
        },
        {
          "output_type": "stream",
          "name": "stdout",
          "text": [
            "51/52 [============================>.] - ETA: 0s - loss: 1.1884 - accuracy: 0.6478 - precision_9: 0.7166 - recall_9: 0.5938 - f1_score_macro: 0.0524 - f1_score_micro: 0.6478 - f1_score_weighted: 0.5094\n",
            "Epoch 2: val_loss improved from 1.42741 to 1.18413, saving model to best_model_cnn.h5\n",
            "52/52 [==============================] - 3s 50ms/step - loss: 1.1887 - accuracy: 0.6470 - precision_9: 0.7176 - recall_9: 0.5917 - f1_score_macro: 0.0524 - f1_score_micro: 0.6470 - f1_score_weighted: 0.5084 - val_loss: 1.1841 - val_accuracy: 0.6192 - val_precision_9: 0.8342 - val_recall_9: 0.4363 - val_f1_score_macro: 0.0510 - val_f1_score_micro: 0.6192 - val_f1_score_weighted: 0.4736\n",
            "Epoch 3/5\n",
            "52/52 [==============================] - ETA: 0s - loss: 0.8575 - accuracy: 0.7314 - precision_9: 0.9611 - recall_9: 0.6357 - f1_score_macro: 0.1258 - f1_score_micro: 0.7314 - f1_score_weighted: 0.6552\n",
            "Epoch 3: val_loss improved from 1.18413 to 1.02235, saving model to best_model_cnn.h5\n",
            "52/52 [==============================] - 1s 25ms/step - loss: 0.8575 - accuracy: 0.7314 - precision_9: 0.9611 - recall_9: 0.6357 - f1_score_macro: 0.1258 - f1_score_micro: 0.7314 - f1_score_weighted: 0.6552 - val_loss: 1.0223 - val_accuracy: 0.7317 - val_precision_9: 0.9157 - val_recall_9: 0.5447 - val_f1_score_macro: 0.1416 - val_f1_score_micro: 0.7317 - val_f1_score_weighted: 0.6711\n",
            "Epoch 4/5\n",
            "52/52 [==============================] - ETA: 0s - loss: 0.5771 - accuracy: 0.8115 - precision_9: 0.9875 - recall_9: 0.7398 - f1_score_macro: 0.1675 - f1_score_micro: 0.8115 - f1_score_weighted: 0.7644\n",
            "Epoch 4: val_loss improved from 1.02235 to 0.94345, saving model to best_model_cnn.h5\n",
            "52/52 [==============================] - 1s 22ms/step - loss: 0.5771 - accuracy: 0.8115 - precision_9: 0.9875 - recall_9: 0.7398 - f1_score_macro: 0.1675 - f1_score_micro: 0.8115 - f1_score_weighted: 0.7644 - val_loss: 0.9434 - val_accuracy: 0.7520 - val_precision_9: 0.8953 - val_recall_9: 0.6138 - val_f1_score_macro: 0.1758 - val_f1_score_micro: 0.7520 - val_f1_score_weighted: 0.7019\n",
            "Epoch 5/5\n",
            "52/52 [==============================] - ETA: 0s - loss: 0.4307 - accuracy: 0.8623 - precision_9: 0.9915 - recall_9: 0.7942 - f1_score_macro: 0.2380 - f1_score_micro: 0.8623 - f1_score_weighted: 0.8339\n",
            "Epoch 5: val_loss did not improve from 0.94345\n",
            "52/52 [==============================] - 1s 15ms/step - loss: 0.4307 - accuracy: 0.8623 - precision_9: 0.9915 - recall_9: 0.7942 - f1_score_macro: 0.2380 - f1_score_micro: 0.8623 - f1_score_weighted: 0.8339 - val_loss: 0.9910 - val_accuracy: 0.7466 - val_precision_9: 0.9031 - val_recall_9: 0.6314 - val_f1_score_macro: 0.2032 - val_f1_score_micro: 0.7466 - val_f1_score_weighted: 0.7190\n"
          ]
        }
      ],
      "source": [
        "history_cnn = model_cnn.fit(x_train, \n",
        "                            y_train, \n",
        "                            epochs=5,\n",
        "                            batch_size=128,\n",
        "                            validation_split=0.1,\n",
        "                            callbacks=[checkpoint_callback_cnn])"
      ]
    },
    {
      "cell_type": "markdown",
      "source": [
        "смотрим на f1_weighted, т.к. датасет несбалансирован"
      ],
      "metadata": {
        "id": "9nfSmv1ldiEP"
      }
    },
    {
      "cell_type": "code",
      "source": [
        "plt.plot(history_cnn.history['f1_score_weighted'], \n",
        "         label='f1_score_weighted на обучающем наборе')\n",
        "plt.plot(history_cnn.history['val_f1_score_weighted'], \n",
        "         label='f1_score_weighted на проверочном наборе')\n",
        "plt.xlabel('Эпоха обучения')\n",
        "plt.ylabel('f1_score_weighted')\n",
        "plt.legend()\n",
        "plt.show()"
      ],
      "metadata": {
        "colab": {
          "base_uri": "https://localhost:8080/",
          "height": 453
        },
        "id": "EsBxcnzodWuP",
        "outputId": "3638d625-33a0-43d1-bc53-81c6d7146a85"
      },
      "execution_count": 196,
      "outputs": [
        {
          "output_type": "display_data",
          "data": {
            "text/plain": [
              "<Figure size 640x480 with 1 Axes>"
            ],
            "image/png": "[encoded data removed]"
          },
          "metadata": {}
        }
      ]
    },
    {
      "cell_type": "code",
      "execution_count": 197,
      "metadata": {
        "colab": {
          "base_uri": "https://localhost:8080/",
          "height": 449
        },
        "id": "0Lji-PHmNyOh",
        "outputId": "fece9167-0f8d-4998-f322-462b9b9afac9"
      },
      "outputs": [
        {
          "output_type": "display_data",
          "data": {
            "text/plain": [
              "<Figure size 640x480 with 1 Axes>"
            ],
            "image/png": "[encoded data removed]"
          },
          "metadata": {}
        }
      ],
      "source": [
        "plt.plot(history_cnn.history['accuracy'], \n",
        "         label='Доля верных ответов на обучающем наборе')\n",
        "plt.plot(history_cnn.history['val_accuracy'], \n",
        "         label='Доля верных ответов на проверочном наборе')\n",
        "plt.xlabel('Эпоха обучения')\n",
        "plt.ylabel('Доля верных ответов')\n",
        "plt.legend()\n",
        "plt.show()"
      ]
    },
    {
      "cell_type": "code",
      "source": [
        "cnn_loaded = load_model(\"best_model_cnn.h5\")"
      ],
      "metadata": {
        "id": "Y0MgS5_LUFlv"
      },
      "execution_count": 198,
      "outputs": []
    },
    {
      "cell_type": "code",
      "source": [
        "cnn_loaded.evaluate(x_test, y_test, verbose=1)"
      ],
      "metadata": {
        "colab": {
          "base_uri": "https://localhost:8080/"
        },
        "id": "rhPfqAp4UbYF",
        "outputId": "0afa8cfe-7d9d-47c7-e783-45c0afc5a1ae"
      },
      "execution_count": 199,
      "outputs": [
        {
          "output_type": "stream",
          "name": "stdout",
          "text": [
            "58/58 [==============================] - 1s 6ms/step - loss: 0.9190 - accuracy: 0.7652 - precision_9: 0.9012 - recall_9: 0.6133 - f1_score_macro: 0.1742 - f1_score_micro: 0.7652 - f1_score_weighted: 0.7154\n"
          ]
        },
        {
          "output_type": "execute_result",
          "data": {
            "text/plain": [
              "[0.9190302491188049,\n",
              " 0.7651844024658203,\n",
              " 0.901195228099823,\n",
              " 0.6133405566215515,\n",
              " 0.17415374517440796,\n",
              " 0.7651844024658203,\n",
              " 0.7154281139373779]"
            ]
          },
          "metadata": {},
          "execution_count": 199
        }
      ]
    },
    {
      "cell_type": "code",
      "source": [
        "predicted_cnn = cnn_loaded.predict(x_test)"
      ],
      "metadata": {
        "colab": {
          "base_uri": "https://localhost:8080/"
        },
        "id": "I6dcKmHyn8FF",
        "outputId": "8769789f-d122-4237-8385-b4366dd83a7e"
      },
      "execution_count": 255,
      "outputs": [
        {
          "output_type": "stream",
          "name": "stdout",
          "text": [
            "58/58 [==============================] - 0s 2ms/step\n"
          ]
        }
      ]
    },
    {
      "cell_type": "code",
      "source": [
        "import sklearn.metrics as sklearn_metrics\n",
        "import numpy as np"
      ],
      "metadata": {
        "id": "jsPmhH4NoN2M"
      },
      "execution_count": 259,
      "outputs": []
    },
    {
      "cell_type": "code",
      "source": [
        "np.argmax(predicted_cnn, axis=1) "
      ],
      "metadata": {
        "colab": {
          "base_uri": "https://localhost:8080/"
        },
        "id": "_Oqe8v67o1yf",
        "outputId": "0c44b348-2395-49b0-c4b6-cdfea0086633"
      },
      "execution_count": 260,
      "outputs": [
        {
          "output_type": "execute_result",
          "data": {
            "text/plain": [
              "array([0, 0, 0, ..., 0, 0, 2])"
            ]
          },
          "metadata": {},
          "execution_count": 260
        }
      ]
    },
    {
      "cell_type": "code",
      "source": [
        "#print(sklearn_metrics.classification_report(np.argmax(y_test, axis=1), np.argmax(predicted_cnn, axis=1)))"
      ],
      "metadata": {
        "id": "txjVDdmaoJcP"
      },
      "execution_count": 263,
      "outputs": []
    },
    {
      "cell_type": "code",
      "source": [
        "clf_name = predicted_cnn.__class__.__name__\n",
        "clf_name"
      ],
      "metadata": {
        "colab": {
          "base_uri": "https://localhost:8080/",
          "height": 35
        },
        "id": "gmUVXLpupVvC",
        "outputId": "940cfcff-ebc6-4c2f-d25a-b78af0f8f2d3"
      },
      "execution_count": 262,
      "outputs": [
        {
          "output_type": "execute_result",
          "data": {
            "text/plain": [
              "'ndarray'"
            ],
            "application/vnd.google.colaboratory.intrinsic+json": {
              "type": "string"
            }
          },
          "metadata": {},
          "execution_count": 262
        }
      ]
    },
    {
      "cell_type": "code",
      "source": [
        "report_cnn = sklearn_metrics.classification_report(np.argmax(y_test, axis=1), np.argmax(predicted_cnn, axis=1))\n",
        "print(report_cnn)"
      ],
      "metadata": {
        "colab": {
          "base_uri": "https://localhost:8080/"
        },
        "id": "252rO41SpgGx",
        "outputId": "22bff081-4027-4c5a-85cb-9f8b53b3e723"
      },
      "execution_count": 274,
      "outputs": [
        {
          "output_type": "stream",
          "name": "stdout",
          "text": [
            "              precision    recall  f1-score   support\n",
            "\n",
            "           0       0.80      0.96      0.87      1202\n",
            "           1       0.82      0.76      0.79       188\n",
            "           2       0.79      0.61      0.69       140\n",
            "           3       0.23      0.31      0.26        91\n",
            "           4       0.00      0.00      0.00        84\n",
            "           5       0.00      0.00      0.00        18\n",
            "           6       0.00      0.00      0.00        29\n",
            "           7       0.00      0.00      0.00        21\n",
            "           8       0.00      0.00      0.00        12\n",
            "           9       0.00      0.00      0.00        24\n",
            "          10       0.00      0.00      0.00        10\n",
            "          11       0.00      0.00      0.00        11\n",
            "          12       0.00      0.00      0.00         8\n",
            "          13       0.00      0.00      0.00         3\n",
            "          14       0.00      0.00      0.00         3\n",
            "\n",
            "    accuracy                           0.77      1844\n",
            "   macro avg       0.18      0.18      0.17      1844\n",
            "weighted avg       0.68      0.77      0.72      1844\n",
            "\n"
          ]
        },
        {
          "output_type": "stream",
          "name": "stderr",
          "text": [
            "/usr/local/lib/python3.10/dist-packages/sklearn/metrics/_classification.py:1344: UndefinedMetricWarning: Precision and F-score are ill-defined and being set to 0.0 in labels with no predicted samples. Use `zero_division` parameter to control this behavior.\n",
            "  _warn_prf(average, modifier, msg_start, len(result))\n",
            "/usr/local/lib/python3.10/dist-packages/sklearn/metrics/_classification.py:1344: UndefinedMetricWarning: Precision and F-score are ill-defined and being set to 0.0 in labels with no predicted samples. Use `zero_division` parameter to control this behavior.\n",
            "  _warn_prf(average, modifier, msg_start, len(result))\n",
            "/usr/local/lib/python3.10/dist-packages/sklearn/metrics/_classification.py:1344: UndefinedMetricWarning: Precision and F-score are ill-defined and being set to 0.0 in labels with no predicted samples. Use `zero_division` parameter to control this behavior.\n",
            "  _warn_prf(average, modifier, msg_start, len(result))\n"
          ]
        }
      ]
    },
    {
      "cell_type": "code",
      "source": [
        "with open(\"CNN_5.txt\", 'w') as w_file:\n",
        "  w_file.write(report_cnn)"
      ],
      "metadata": {
        "id": "m9PZgxVepquY"
      },
      "execution_count": 275,
      "outputs": []
    },
    {
      "cell_type": "markdown",
      "metadata": {
        "id": "quETdpIlN5Oy"
      },
      "source": [
        "## Cеть LSTM"
      ]
    },
    {
      "cell_type": "code",
      "execution_count": 200,
      "metadata": {
        "id": "jzPqHvswN5ks"
      },
      "outputs": [],
      "source": [
        "model_lstm = Sequential()\n",
        "model_lstm.add(Embedding(num_words, 32, input_length=max_len))\n",
        "model_lstm.add(LSTM(16))\n",
        "model_lstm.add(Dense(15, activation='softmax'))"
      ]
    },
    {
      "cell_type": "code",
      "execution_count": 201,
      "metadata": {
        "id": "fpCCNv2bODXg"
      },
      "outputs": [],
      "source": [
        "model_lstm.compile(optimizer='adam', \n",
        "              loss='categorical_crossentropy', \n",
        "              metrics=['accuracy', metrics.Precision(), metrics.Recall(), metrics.F1Score(average='macro', name='f1_score_macro'), metrics.F1Score(average='micro', name='f1_score_micro'), metrics.F1Score(average='weighted', name='f1_score_weighted')]\n",
        "              )"
      ]
    },
    {
      "cell_type": "code",
      "execution_count": 202,
      "metadata": {
        "colab": {
          "base_uri": "https://localhost:8080/"
        },
        "id": "GlfXemrUOGNG",
        "outputId": "50607d30-c323-4a6f-d75f-30c473589e67"
      },
      "outputs": [
        {
          "output_type": "stream",
          "name": "stdout",
          "text": [
            "Model: \"sequential_9\"\n",
            "_________________________________________________________________\n",
            " Layer (type)                Output Shape              Param #   \n",
            "=================================================================\n",
            " embedding_9 (Embedding)     (None, 11, 32)            320000    \n",
            "                                                                 \n",
            " lstm_1 (LSTM)               (None, 16)                3136      \n",
            "                                                                 \n",
            " dense_16 (Dense)            (None, 15)                255       \n",
            "                                                                 \n",
            "=================================================================\n",
            "Total params: 323391 (1.23 MB)\n",
            "Trainable params: 323391 (1.23 MB)\n",
            "Non-trainable params: 0 (0.00 Byte)\n",
            "_________________________________________________________________\n"
          ]
        }
      ],
      "source": [
        "model_lstm.summary()"
      ]
    },
    {
      "cell_type": "markdown",
      "metadata": {
        "id": "1sRGFUrFOLF8"
      },
      "source": [
        "Создаем callback для сохранения нейронной сети на каждой эпохе, если качество работы на проверочном наборе данных улучшилось. Сеть сохраняется в файл best_model.h5"
      ]
    },
    {
      "cell_type": "code",
      "execution_count": 203,
      "metadata": {
        "id": "ubBoa_vOONLM"
      },
      "outputs": [],
      "source": [
        "model_lstm_save_path = 'best_model_lstm.h5'\n",
        "checkpoint_callback_lstm = ModelCheckpoint(model_lstm_save_path, \n",
        "                                      #monitor='val_f1_score_weighted',\n",
        "                                      save_best_only=True,\n",
        "                                      verbose=1)"
      ]
    },
    {
      "cell_type": "code",
      "execution_count": 204,
      "metadata": {
        "colab": {
          "base_uri": "https://localhost:8080/"
        },
        "id": "CXbhDJSYOSzI",
        "outputId": "bcf005be-5e1f-4601-bfd6-19c0c4a49b52"
      },
      "outputs": [
        {
          "output_type": "stream",
          "name": "stdout",
          "text": [
            "Epoch 1/5\n",
            "52/52 [==============================] - ETA: 0s - loss: 2.3341 - accuracy: 0.6124 - precision_10: 0.0000e+00 - recall_10: 0.0000e+00 - f1_score_macro: 0.0591 - f1_score_micro: 0.6124 - f1_score_weighted: 0.5057\n",
            "Epoch 1: val_loss improved from inf to 1.56508, saving model to best_model_lstm.h5\n",
            "52/52 [==============================] - 7s 93ms/step - loss: 2.3341 - accuracy: 0.6124 - precision_10: 0.0000e+00 - recall_10: 0.0000e+00 - f1_score_macro: 0.0591 - f1_score_micro: 0.6124 - f1_score_weighted: 0.5057 - val_loss: 1.5651 - val_accuracy: 0.6192 - val_precision_10: 0.0000e+00 - val_recall_10: 0.0000e+00 - val_f1_score_macro: 0.0510 - val_f1_score_micro: 0.6192 - val_f1_score_weighted: 0.4736\n",
            "Epoch 2/5\n",
            "52/52 [==============================] - ETA: 0s - loss: 1.3771 - accuracy: 0.6470 - precision_10: 0.6500 - recall_10: 0.6109 - f1_score_macro: 0.0524 - f1_score_micro: 0.6470 - f1_score_weighted: 0.5084\n",
            "Epoch 2: val_loss improved from 1.56508 to 1.39627, saving model to best_model_lstm.h5\n",
            "52/52 [==============================] - 2s 46ms/step - loss: 1.3771 - accuracy: 0.6470 - precision_10: 0.6500 - recall_10: 0.6109 - f1_score_macro: 0.0524 - f1_score_micro: 0.6470 - f1_score_weighted: 0.5084 - val_loss: 1.3963 - val_accuracy: 0.6192 - val_precision_10: 0.6192 - val_recall_10: 0.6192 - val_f1_score_macro: 0.0510 - val_f1_score_micro: 0.6192 - val_f1_score_weighted: 0.4736\n",
            "Epoch 3/5\n",
            "52/52 [==============================] - ETA: 0s - loss: 1.2681 - accuracy: 0.6470 - precision_10: 0.6558 - recall_10: 0.6470 - f1_score_macro: 0.0524 - f1_score_micro: 0.6470 - f1_score_weighted: 0.5084\n",
            "Epoch 3: val_loss improved from 1.39627 to 1.29677, saving model to best_model_lstm.h5\n",
            "52/52 [==============================] - 2s 41ms/step - loss: 1.2681 - accuracy: 0.6470 - precision_10: 0.6558 - recall_10: 0.6470 - f1_score_macro: 0.0524 - f1_score_micro: 0.6470 - f1_score_weighted: 0.5084 - val_loss: 1.2968 - val_accuracy: 0.6192 - val_precision_10: 0.6510 - val_recall_10: 0.6192 - val_f1_score_macro: 0.0510 - val_f1_score_micro: 0.6192 - val_f1_score_weighted: 0.4736\n",
            "Epoch 4/5\n",
            "52/52 [==============================] - ETA: 0s - loss: 1.1423 - accuracy: 0.6470 - precision_10: 0.7744 - recall_10: 0.6470 - f1_score_macro: 0.0524 - f1_score_micro: 0.6470 - f1_score_weighted: 0.5084\n",
            "Epoch 4: val_loss improved from 1.29677 to 1.16748, saving model to best_model_lstm.h5\n",
            "52/52 [==============================] - 2s 31ms/step - loss: 1.1423 - accuracy: 0.6470 - precision_10: 0.7744 - recall_10: 0.6470 - f1_score_macro: 0.0524 - f1_score_micro: 0.6470 - f1_score_weighted: 0.5084 - val_loss: 1.1675 - val_accuracy: 0.6192 - val_precision_10: 0.8060 - val_recall_10: 0.6192 - val_f1_score_macro: 0.0510 - val_f1_score_micro: 0.6192 - val_f1_score_weighted: 0.4736\n",
            "Epoch 5/5\n",
            "51/52 [============================>.] - ETA: 0s - loss: 1.0049 - accuracy: 0.6700 - precision_10: 0.8657 - recall_10: 0.6458 - f1_score_macro: 0.0793 - f1_score_micro: 0.6700 - f1_score_weighted: 0.5563\n",
            "Epoch 5: val_loss improved from 1.16748 to 1.07260, saving model to best_model_lstm.h5\n",
            "52/52 [==============================] - 2s 33ms/step - loss: 1.0016 - accuracy: 0.6719 - precision_10: 0.8668 - recall_10: 0.6470 - f1_score_macro: 0.0803 - f1_score_micro: 0.6719 - f1_score_weighted: 0.5591 - val_loss: 1.0726 - val_accuracy: 0.6843 - val_precision_10: 0.8264 - val_recall_10: 0.6192 - val_f1_score_macro: 0.1116 - val_f1_score_micro: 0.6843 - val_f1_score_weighted: 0.5918\n"
          ]
        }
      ],
      "source": [
        "history_lstm = model_lstm.fit(x_train, \n",
        "                              y_train, \n",
        "                              epochs=5,\n",
        "                              batch_size=128,\n",
        "                              validation_split=0.1,\n",
        "                              callbacks=[checkpoint_callback_lstm])"
      ]
    },
    {
      "cell_type": "code",
      "source": [
        "plt.plot(history_lstm.history['f1_score_weighted'], \n",
        "         label='f1_score_weighted на обучающем наборе')\n",
        "plt.plot(history_lstm.history['val_f1_score_weighted'], \n",
        "         label='f1_score_weighted на проверочном наборе')\n",
        "plt.xlabel('Эпоха обучения')\n",
        "plt.ylabel('f1_score_weighted')\n",
        "plt.legend()\n",
        "plt.show()"
      ],
      "metadata": {
        "colab": {
          "base_uri": "https://localhost:8080/",
          "height": 449
        },
        "id": "-6_hMsjyfPpi",
        "outputId": "3228caed-88d6-43a0-d247-ac31433aaf4a"
      },
      "execution_count": 205,
      "outputs": [
        {
          "output_type": "display_data",
          "data": {
            "text/plain": [
              "<Figure size 640x480 with 1 Axes>"
            ],
            "image/png": "[encoded data removed]"
          },
          "metadata": {}
        }
      ]
    },
    {
      "cell_type": "code",
      "execution_count": 206,
      "metadata": {
        "colab": {
          "base_uri": "https://localhost:8080/",
          "height": 449
        },
        "id": "x_qE1BLrOezV",
        "outputId": "85adc928-04c8-4490-8046-70a99766e3aa"
      },
      "outputs": [
        {
          "output_type": "display_data",
          "data": {
            "text/plain": [
              "<Figure size 640x480 with 1 Axes>"
            ],
            "image/png": "[encoded data removed]"
          },
          "metadata": {}
        }
      ],
      "source": [
        "plt.plot(history_lstm.history['accuracy'], \n",
        "         label='Доля верных ответов на обучающем наборе')\n",
        "plt.plot(history_lstm.history['val_accuracy'], \n",
        "         label='Доля верных ответов на проверочном наборе')\n",
        "plt.xlabel('Эпоха обучения')\n",
        "plt.ylabel('Доля верных ответов')\n",
        "plt.legend()\n",
        "plt.show()"
      ]
    },
    {
      "cell_type": "code",
      "source": [
        "lstm_loaded = load_model(\"best_model_lstm.h5\")"
      ],
      "metadata": {
        "id": "FFOG1bDofjC1"
      },
      "execution_count": 207,
      "outputs": []
    },
    {
      "cell_type": "code",
      "source": [
        "lstm_loaded.evaluate(x_test, y_test, verbose=1)"
      ],
      "metadata": {
        "colab": {
          "base_uri": "https://localhost:8080/"
        },
        "id": "85XI49gyfopQ",
        "outputId": "4f63d1ba-4d87-4e9d-9c9e-92c7c9f5f05d"
      },
      "execution_count": 208,
      "outputs": [
        {
          "output_type": "stream",
          "name": "stdout",
          "text": [
            "58/58 [==============================] - 1s 4ms/step - loss: 1.0204 - accuracy: 0.7148 - precision_10: 0.8407 - recall_10: 0.6497 - f1_score_macro: 0.1185 - f1_score_micro: 0.7148 - f1_score_weighted: 0.6266\n"
          ]
        },
        {
          "output_type": "execute_result",
          "data": {
            "text/plain": [
              "[1.0204014778137207,\n",
              " 0.7147505283355713,\n",
              " 0.8407017588615417,\n",
              " 0.6496745944023132,\n",
              " 0.11853731423616409,\n",
              " 0.7147505283355713,\n",
              " 0.6266276836395264]"
            ]
          },
          "metadata": {},
          "execution_count": 208
        }
      ]
    },
    {
      "cell_type": "code",
      "source": [
        "predicted_lstm = lstm_loaded.predict(x_test)"
      ],
      "metadata": {
        "colab": {
          "base_uri": "https://localhost:8080/"
        },
        "id": "LOIZNf8rqY7z",
        "outputId": "38aa405c-eb61-474b-ab26-b1558287ac14"
      },
      "execution_count": 266,
      "outputs": [
        {
          "output_type": "stream",
          "name": "stdout",
          "text": [
            "58/58 [==============================] - 1s 2ms/step\n"
          ]
        }
      ]
    },
    {
      "cell_type": "code",
      "source": [
        "report_lstm = sklearn_metrics.classification_report(np.argmax(y_test, axis=1), np.argmax(predicted_lstm, axis=1))\n",
        "print(report_lstm)"
      ],
      "metadata": {
        "colab": {
          "base_uri": "https://localhost:8080/"
        },
        "id": "fKHIwKWIqz4y",
        "outputId": "a7dcc696-b968-4b6a-a235-fa16a66175c4"
      },
      "execution_count": 267,
      "outputs": [
        {
          "output_type": "stream",
          "name": "stdout",
          "text": [
            "              precision    recall  f1-score   support\n",
            "\n",
            "           0       0.70      1.00      0.83      1202\n",
            "           1       0.99      0.45      0.62       188\n",
            "           2       0.64      0.23      0.34       140\n",
            "           3       0.00      0.00      0.00        91\n",
            "           4       0.00      0.00      0.00        84\n",
            "           5       0.00      0.00      0.00        18\n",
            "           6       0.00      0.00      0.00        29\n",
            "           7       0.00      0.00      0.00        21\n",
            "           8       0.00      0.00      0.00        12\n",
            "           9       0.00      0.00      0.00        24\n",
            "          10       0.00      0.00      0.00        10\n",
            "          11       0.00      0.00      0.00        11\n",
            "          12       0.00      0.00      0.00         8\n",
            "          13       0.00      0.00      0.00         3\n",
            "          14       0.00      0.00      0.00         3\n",
            "\n",
            "    accuracy                           0.71      1844\n",
            "   macro avg       0.16      0.11      0.12      1844\n",
            "weighted avg       0.61      0.71      0.63      1844\n",
            "\n"
          ]
        },
        {
          "output_type": "stream",
          "name": "stderr",
          "text": [
            "/usr/local/lib/python3.10/dist-packages/sklearn/metrics/_classification.py:1344: UndefinedMetricWarning: Precision and F-score are ill-defined and being set to 0.0 in labels with no predicted samples. Use `zero_division` parameter to control this behavior.\n",
            "  _warn_prf(average, modifier, msg_start, len(result))\n",
            "/usr/local/lib/python3.10/dist-packages/sklearn/metrics/_classification.py:1344: UndefinedMetricWarning: Precision and F-score are ill-defined and being set to 0.0 in labels with no predicted samples. Use `zero_division` parameter to control this behavior.\n",
            "  _warn_prf(average, modifier, msg_start, len(result))\n",
            "/usr/local/lib/python3.10/dist-packages/sklearn/metrics/_classification.py:1344: UndefinedMetricWarning: Precision and F-score are ill-defined and being set to 0.0 in labels with no predicted samples. Use `zero_division` parameter to control this behavior.\n",
            "  _warn_prf(average, modifier, msg_start, len(result))\n"
          ]
        }
      ]
    },
    {
      "cell_type": "code",
      "source": [
        "with open(\"LSTM_5.txt\", 'w') as w_file:\n",
        "  w_file.write(report_lstm)"
      ],
      "metadata": {
        "id": "emT-7agzrHr6"
      },
      "execution_count": 270,
      "outputs": []
    },
    {
      "cell_type": "markdown",
      "metadata": {
        "id": "wMM7z1rmOlK5"
      },
      "source": [
        "## Cеть GRU"
      ]
    },
    {
      "cell_type": "code",
      "execution_count": 215,
      "metadata": {
        "id": "pE9E8UyYOlem"
      },
      "outputs": [],
      "source": [
        "model_gru = Sequential()\n",
        "model_gru.add(Embedding(num_words, 32, input_length=max_len))\n",
        "model_gru.add(GRU(16))\n",
        "model_gru.add(Dense(15, activation='softmax'))"
      ]
    },
    {
      "cell_type": "code",
      "execution_count": 216,
      "metadata": {
        "id": "buMIQfM4OrTb"
      },
      "outputs": [],
      "source": [
        "model_gru.compile(optimizer='adam', \n",
        "              loss='categorical_crossentropy', \n",
        "               metrics=['accuracy', metrics.Precision(), metrics.Recall(), metrics.F1Score(average='macro', name='f1_score_macro'), metrics.F1Score(average='micro', name='f1_score_micro'), metrics.F1Score(average='weighted', name='f1_score_weighted')]\n",
        "              )"
      ]
    },
    {
      "cell_type": "code",
      "execution_count": 217,
      "metadata": {
        "colab": {
          "base_uri": "https://localhost:8080/"
        },
        "id": "LqSdlsC8OvIg",
        "outputId": "544da09c-fe0e-408c-a4cc-272465172298"
      },
      "outputs": [
        {
          "output_type": "stream",
          "name": "stdout",
          "text": [
            "Model: \"sequential_11\"\n",
            "_________________________________________________________________\n",
            " Layer (type)                Output Shape              Param #   \n",
            "=================================================================\n",
            " embedding_11 (Embedding)    (None, 11, 32)            320000    \n",
            "                                                                 \n",
            " gru_2 (GRU)                 (None, 16)                2400      \n",
            "                                                                 \n",
            " dense_18 (Dense)            (None, 15)                255       \n",
            "                                                                 \n",
            "=================================================================\n",
            "Total params: 322655 (1.23 MB)\n",
            "Trainable params: 322655 (1.23 MB)\n",
            "Non-trainable params: 0 (0.00 Byte)\n",
            "_________________________________________________________________\n"
          ]
        }
      ],
      "source": [
        "model_gru.summary()"
      ]
    },
    {
      "cell_type": "markdown",
      "metadata": {
        "id": "JdQgWv5EOyKd"
      },
      "source": [
        "Создаем callback для сохранения нейронной сети на каждой эпохе, если качество работы на проверочном наборе данных улучшилось. Сеть сохраняется в файл best_model_gru.h5"
      ]
    },
    {
      "cell_type": "code",
      "execution_count": 218,
      "metadata": {
        "id": "bBlewcgGOzic"
      },
      "outputs": [],
      "source": [
        "model_gru_save_path = 'best_model_gru.h5'\n",
        "checkpoint_callback_gru = ModelCheckpoint(model_gru_save_path, \n",
        "                                      #monitor='val_f1_score_weighted',\n",
        "                                      save_best_only=True,\n",
        "                                      verbose=1)"
      ]
    },
    {
      "cell_type": "code",
      "execution_count": 219,
      "metadata": {
        "colab": {
          "base_uri": "https://localhost:8080/"
        },
        "id": "EvbNlBIgO60P",
        "outputId": "d0b6ed11-59c4-475d-fbc2-b168253ce008"
      },
      "outputs": [
        {
          "output_type": "stream",
          "name": "stdout",
          "text": [
            "Epoch 1/5\n",
            "52/52 [==============================] - ETA: 0s - loss: 2.4712 - accuracy: 0.5899 - precision_12: 0.0000e+00 - recall_12: 0.0000e+00 - f1_score_macro: 0.0628 - f1_score_micro: 0.5899 - f1_score_weighted: 0.5006\n",
            "Epoch 1: val_loss improved from inf to 1.94041, saving model to best_model_gru.h5\n",
            "52/52 [==============================] - 7s 93ms/step - loss: 2.4712 - accuracy: 0.5899 - precision_12: 0.0000e+00 - recall_12: 0.0000e+00 - f1_score_macro: 0.0628 - f1_score_micro: 0.5899 - f1_score_weighted: 0.5006 - val_loss: 1.9404 - val_accuracy: 0.6192 - val_precision_12: 0.0000e+00 - val_recall_12: 0.0000e+00 - val_f1_score_macro: 0.0510 - val_f1_score_micro: 0.6192 - val_f1_score_weighted: 0.4736\n",
            "Epoch 2/5\n",
            "52/52 [==============================] - ETA: 0s - loss: 1.4040 - accuracy: 0.6470 - precision_12: 0.6843 - recall_12: 0.4604 - f1_score_macro: 0.0524 - f1_score_micro: 0.6470 - f1_score_weighted: 0.5084\n",
            "Epoch 2: val_loss improved from 1.94041 to 1.27621, saving model to best_model_gru.h5\n",
            "52/52 [==============================] - 3s 48ms/step - loss: 1.4040 - accuracy: 0.6470 - precision_12: 0.6843 - recall_12: 0.4604 - f1_score_macro: 0.0524 - f1_score_micro: 0.6470 - f1_score_weighted: 0.5084 - val_loss: 1.2762 - val_accuracy: 0.6192 - val_precision_12: 0.7312 - val_recall_12: 0.6192 - val_f1_score_macro: 0.0510 - val_f1_score_micro: 0.6192 - val_f1_score_weighted: 0.4736\n",
            "Epoch 3/5\n",
            "50/52 [===========================>..] - ETA: 0s - loss: 1.0854 - accuracy: 0.6666 - precision_12: 0.8445 - recall_12: 0.6442 - f1_score_macro: 0.0739 - f1_score_micro: 0.6666 - f1_score_weighted: 0.5491\n",
            "Epoch 3: val_loss improved from 1.27621 to 1.07948, saving model to best_model_gru.h5\n",
            "52/52 [==============================] - 3s 49ms/step - loss: 1.0770 - accuracy: 0.6696 - precision_12: 0.8464 - recall_12: 0.6464 - f1_score_macro: 0.0748 - f1_score_micro: 0.6696 - f1_score_weighted: 0.5533 - val_loss: 1.0795 - val_accuracy: 0.6789 - val_precision_12: 0.8143 - val_recall_12: 0.6179 - val_f1_score_macro: 0.0926 - val_f1_score_micro: 0.6789 - val_f1_score_weighted: 0.5732\n",
            "Epoch 4/5\n",
            "45/52 [========================>.....] - ETA: 0s - loss: 0.8707 - accuracy: 0.7387 - precision_12: 0.8942 - recall_12: 0.6661 - f1_score_macro: 0.1604 - f1_score_micro: 0.7387 - f1_score_weighted: 0.6617\n",
            "Epoch 4: val_loss improved from 1.07948 to 0.93803, saving model to best_model_gru.h5\n",
            "52/52 [==============================] - 2s 35ms/step - loss: 0.8635 - accuracy: 0.7413 - precision_12: 0.8961 - recall_12: 0.6692 - f1_score_macro: 0.1654 - f1_score_micro: 0.7413 - f1_score_weighted: 0.6658 - val_loss: 0.9380 - val_accuracy: 0.7493 - val_precision_12: 0.8413 - val_recall_12: 0.6680 - val_f1_score_macro: 0.1853 - val_f1_score_micro: 0.7493 - val_f1_score_weighted: 0.6789\n",
            "Epoch 5/5\n",
            "52/52 [==============================] - ETA: 0s - loss: 0.6926 - accuracy: 0.7921 - precision_12: 0.9463 - recall_12: 0.7222 - f1_score_macro: 0.2316 - f1_score_micro: 0.7921 - f1_score_weighted: 0.7474\n",
            "Epoch 5: val_loss improved from 0.93803 to 0.83396, saving model to best_model_gru.h5\n",
            "52/52 [==============================] - 2s 30ms/step - loss: 0.6926 - accuracy: 0.7921 - precision_12: 0.9463 - recall_12: 0.7222 - f1_score_macro: 0.2316 - f1_score_micro: 0.7921 - f1_score_weighted: 0.7474 - val_loss: 0.8340 - val_accuracy: 0.7995 - val_precision_12: 0.8583 - val_recall_12: 0.7141 - val_f1_score_macro: 0.2708 - val_f1_score_micro: 0.7995 - val_f1_score_weighted: 0.7557\n"
          ]
        }
      ],
      "source": [
        "history_gru = model_gru.fit(x_train, \n",
        "                              y_train, \n",
        "                              epochs=5,\n",
        "                              batch_size=128,\n",
        "                              validation_split=0.1,\n",
        "                              callbacks=[checkpoint_callback_gru])"
      ]
    },
    {
      "cell_type": "code",
      "source": [
        "plt.plot(history_gru.history['f1_score_weighted'], \n",
        "         label='f1_score_weighted на обучающем наборе')\n",
        "plt.plot(history_gru.history['val_f1_score_weighted'], \n",
        "         label='f1_score_weighted на проверочном наборе')\n",
        "plt.xlabel('Эпоха обучения')\n",
        "plt.ylabel('f1_score_weighted')\n",
        "plt.legend()\n",
        "plt.show()"
      ],
      "metadata": {
        "colab": {
          "base_uri": "https://localhost:8080/",
          "height": 449
        },
        "id": "gQK3NN1rgRft",
        "outputId": "1477a570-6763-4bd3-f78f-34dde3a0cd18"
      },
      "execution_count": 220,
      "outputs": [
        {
          "output_type": "display_data",
          "data": {
            "text/plain": [
              "<Figure size 640x480 with 1 Axes>"
            ],
            "image/png": "[encoded data removed]"
          },
          "metadata": {}
        }
      ]
    },
    {
      "cell_type": "code",
      "execution_count": 221,
      "metadata": {
        "colab": {
          "base_uri": "https://localhost:8080/",
          "height": 449
        },
        "id": "Qtufc5zTPFWc",
        "outputId": "69f76e1d-0bb2-404a-b238-1b0f0281d65b"
      },
      "outputs": [
        {
          "output_type": "display_data",
          "data": {
            "text/plain": [
              "<Figure size 640x480 with 1 Axes>"
            ],
            "image/png": "[encoded data removed]"
          },
          "metadata": {}
        }
      ],
      "source": [
        "plt.plot(history_gru.history['accuracy'], \n",
        "         label='Доля верных ответов на обучающем наборе')\n",
        "plt.plot(history_gru.history['val_accuracy'], \n",
        "         label='Доля верных ответов на проверочном наборе')\n",
        "plt.xlabel('Эпоха обучения')\n",
        "plt.ylabel('Доля верных ответов')\n",
        "plt.legend()\n",
        "plt.show()"
      ]
    },
    {
      "cell_type": "code",
      "source": [
        "gru_loaded = load_model(\"best_model_gru.h5\")"
      ],
      "metadata": {
        "id": "FO3Tgls5gcJ6"
      },
      "execution_count": 225,
      "outputs": []
    },
    {
      "cell_type": "code",
      "source": [
        "gru_loaded.evaluate(x_test, y_test, verbose=1)"
      ],
      "metadata": {
        "colab": {
          "base_uri": "https://localhost:8080/"
        },
        "id": "UGaQqU0ggs9h",
        "outputId": "e427619f-2937-40fc-d854-e548023db589"
      },
      "execution_count": 226,
      "outputs": [
        {
          "output_type": "stream",
          "name": "stdout",
          "text": [
            "58/58 [==============================] - 1s 4ms/step - loss: 0.7975 - accuracy: 0.8221 - precision_12: 0.8697 - recall_12: 0.7457 - f1_score_macro: 0.2829 - f1_score_micro: 0.8221 - f1_score_weighted: 0.7842\n"
          ]
        },
        {
          "output_type": "execute_result",
          "data": {
            "text/plain": [
              "[0.7975316643714905,\n",
              " 0.8221257925033569,\n",
              " 0.8697026968002319,\n",
              " 0.7456616163253784,\n",
              " 0.282873272895813,\n",
              " 0.8221257925033569,\n",
              " 0.7841952443122864]"
            ]
          },
          "metadata": {},
          "execution_count": 226
        }
      ]
    },
    {
      "cell_type": "code",
      "source": [
        "predicted_gru = gru_loaded.predict(x_test)"
      ],
      "metadata": {
        "colab": {
          "base_uri": "https://localhost:8080/"
        },
        "id": "Yf06m_Tir7qJ",
        "outputId": "e5c30c4e-3330-4cfd-b301-298f0c36e9b3"
      },
      "execution_count": 271,
      "outputs": [
        {
          "output_type": "stream",
          "name": "stdout",
          "text": [
            "58/58 [==============================] - 1s 3ms/step\n"
          ]
        }
      ]
    },
    {
      "cell_type": "code",
      "source": [
        "report_gru = sklearn_metrics.classification_report(np.argmax(y_test, axis=1), np.argmax(predicted_gru, axis=1))\n",
        "print(report_gru)"
      ],
      "metadata": {
        "colab": {
          "base_uri": "https://localhost:8080/"
        },
        "id": "W4XArZUpsDVd",
        "outputId": "f026cc16-4e74-423f-b3db-4c03b75c4188"
      },
      "execution_count": 272,
      "outputs": [
        {
          "output_type": "stream",
          "name": "stdout",
          "text": [
            "              precision    recall  f1-score   support\n",
            "\n",
            "           0       0.83      1.00      0.91      1202\n",
            "           1       0.82      0.72      0.77       188\n",
            "           2       0.72      0.56      0.63       140\n",
            "           3       1.00      0.40      0.57        91\n",
            "           4       0.82      0.48      0.60        84\n",
            "           5       0.00      0.00      0.00        18\n",
            "           6       0.74      0.79      0.77        29\n",
            "           7       0.00      0.00      0.00        21\n",
            "           8       0.00      0.00      0.00        12\n",
            "           9       0.00      0.00      0.00        24\n",
            "          10       0.00      0.00      0.00        10\n",
            "          11       0.00      0.00      0.00        11\n",
            "          12       0.00      0.00      0.00         8\n",
            "          13       0.00      0.00      0.00         3\n",
            "          14       0.00      0.00      0.00         3\n",
            "\n",
            "    accuracy                           0.82      1844\n",
            "   macro avg       0.33      0.26      0.28      1844\n",
            "weighted avg       0.78      0.82      0.78      1844\n",
            "\n"
          ]
        },
        {
          "output_type": "stream",
          "name": "stderr",
          "text": [
            "/usr/local/lib/python3.10/dist-packages/sklearn/metrics/_classification.py:1344: UndefinedMetricWarning: Precision and F-score are ill-defined and being set to 0.0 in labels with no predicted samples. Use `zero_division` parameter to control this behavior.\n",
            "  _warn_prf(average, modifier, msg_start, len(result))\n",
            "/usr/local/lib/python3.10/dist-packages/sklearn/metrics/_classification.py:1344: UndefinedMetricWarning: Precision and F-score are ill-defined and being set to 0.0 in labels with no predicted samples. Use `zero_division` parameter to control this behavior.\n",
            "  _warn_prf(average, modifier, msg_start, len(result))\n",
            "/usr/local/lib/python3.10/dist-packages/sklearn/metrics/_classification.py:1344: UndefinedMetricWarning: Precision and F-score are ill-defined and being set to 0.0 in labels with no predicted samples. Use `zero_division` parameter to control this behavior.\n",
            "  _warn_prf(average, modifier, msg_start, len(result))\n"
          ]
        }
      ]
    },
    {
      "cell_type": "code",
      "source": [
        "with open(\"GRU_5.txt\", 'w') as w_file:\n",
        "  w_file.write(report_gru)"
      ],
      "metadata": {
        "id": "_81CYcwDsQQZ"
      },
      "execution_count": 273,
      "outputs": []
    },
    {
      "cell_type": "markdown",
      "metadata": {
        "id": "8WU2KbiePLRO"
      },
      "source": [
        "## Загружаем набор данных для тестирования\n"
      ]
    },
    {
      "cell_type": "code",
      "execution_count": 228,
      "metadata": {
        "colab": {
          "base_uri": "https://localhost:8080/",
          "height": 424
        },
        "id": "nc9AH3Y6PL0S",
        "outputId": "2de02505-af6b-4d65-907f-75a3501338d2"
      },
      "outputs": [
        {
          "output_type": "execute_result",
          "data": {
            "text/plain": [
              "     img_emoji  word_count  count_emoji emotion           tonality  class  \\\n",
              "6561         😄           3            1   smile  positive/negative      0   \n",
              "6203         🤣           5            1   smile  positive/negative      0   \n",
              "1661         😃           9            1   smile  positive/negative      0   \n",
              "5596         😁           7            1   smile  positive/negative      0   \n",
              "7677         🤣          10            1   smile  positive/negative      0   \n",
              "...        ...         ...          ...     ...                ...    ...   \n",
              "5261         😂           4            1   smile  positive/negative      0   \n",
              "1813         😅          10            1   smile  positive/negative      0   \n",
              "6740         😊           6            1   smile  positive/negative      0   \n",
              "3127         😹           3            1   smile  positive/negative      0   \n",
              "722          💗           4            1     joy           positive      2   \n",
              "\n",
              "                                             clean_text  \n",
              "6561                              компостер называется😄  \n",
              "6203                        пипец,особенно лягушонок! 🤣  \n",
              "1661  очень круто! умеют же джигиты классно танцевать 😃  \n",
              "5596              на отработке потом обратно в машину 😁  \n",
              "7677      да это продавец нарывается.я просто бы помог🤣  \n",
              "...                                                 ...  \n",
              "5261                                      он самый... 😂  \n",
              "1813  как же оле бузовой и рудковской подходят эти н...  \n",
              "6740                      куда тебе вискас отправить? 😊  \n",
              "3127                                      хахахах урыл😹  \n",
              "722                                 доброе утро, сэры 💗  \n",
              "\n",
              "[1844 rows x 7 columns]"
            ],
            "text/html": [
              "\n",
              "  <div id=\"df-32f82623-51ae-4a3d-a2cf-60fbd54707b0\">\n",
              "    <div class=\"colab-df-container\">\n",
              "      <div>\n",
              "<style scoped>\n",
              "    .dataframe tbody tr th:only-of-type {\n",
              "        vertical-align: middle;\n",
              "    }\n",
              "\n",
              "    .dataframe tbody tr th {\n",
              "        vertical-align: top;\n",
              "    }\n",
              "\n",
              "    .dataframe thead th {\n",
              "        text-align: right;\n",
              "    }\n",
              "</style>\n",
              "<table border=\"1\" class=\"dataframe\">\n",
              "  <thead>\n",
              "    <tr style=\"text-align: right;\">\n",
              "      <th></th>\n",
              "      <th>img_emoji</th>\n",
              "      <th>word_count</th>\n",
              "      <th>count_emoji</th>\n",
              "      <th>emotion</th>\n",
              "      <th>tonality</th>\n",
              "      <th>class</th>\n",
              "      <th>clean_text</th>\n",
              "    </tr>\n",
              "  </thead>\n",
              "  <tbody>\n",
              "    <tr>\n",
              "      <th>6561</th>\n",
              "      <td>😄</td>\n",
              "      <td>3</td>\n",
              "      <td>1</td>\n",
              "      <td>smile</td>\n",
              "      <td>positive/negative</td>\n",
              "      <td>0</td>\n",
              "      <td>компостер называется😄</td>\n",
              "    </tr>\n",
              "    <tr>\n",
              "      <th>6203</th>\n",
              "      <td>🤣</td>\n",
              "      <td>5</td>\n",
              "      <td>1</td>\n",
              "      <td>smile</td>\n",
              "      <td>positive/negative</td>\n",
              "      <td>0</td>\n",
              "      <td>пипец,особенно лягушонок! 🤣</td>\n",
              "    </tr>\n",
              "    <tr>\n",
              "      <th>1661</th>\n",
              "      <td>😃</td>\n",
              "      <td>9</td>\n",
              "      <td>1</td>\n",
              "      <td>smile</td>\n",
              "      <td>positive/negative</td>\n",
              "      <td>0</td>\n",
              "      <td>очень круто! умеют же джигиты классно танцевать 😃</td>\n",
              "    </tr>\n",
              "    <tr>\n",
              "      <th>5596</th>\n",
              "      <td>😁</td>\n",
              "      <td>7</td>\n",
              "      <td>1</td>\n",
              "      <td>smile</td>\n",
              "      <td>positive/negative</td>\n",
              "      <td>0</td>\n",
              "      <td>на отработке потом обратно в машину 😁</td>\n",
              "    </tr>\n",
              "    <tr>\n",
              "      <th>7677</th>\n",
              "      <td>🤣</td>\n",
              "      <td>10</td>\n",
              "      <td>1</td>\n",
              "      <td>smile</td>\n",
              "      <td>positive/negative</td>\n",
              "      <td>0</td>\n",
              "      <td>да это продавец нарывается.я просто бы помог🤣</td>\n",
              "    </tr>\n",
              "    <tr>\n",
              "      <th>...</th>\n",
              "      <td>...</td>\n",
              "      <td>...</td>\n",
              "      <td>...</td>\n",
              "      <td>...</td>\n",
              "      <td>...</td>\n",
              "      <td>...</td>\n",
              "      <td>...</td>\n",
              "    </tr>\n",
              "    <tr>\n",
              "      <th>5261</th>\n",
              "      <td>😂</td>\n",
              "      <td>4</td>\n",
              "      <td>1</td>\n",
              "      <td>smile</td>\n",
              "      <td>positive/negative</td>\n",
              "      <td>0</td>\n",
              "      <td>он самый... 😂</td>\n",
              "    </tr>\n",
              "    <tr>\n",
              "      <th>1813</th>\n",
              "      <td>😅</td>\n",
              "      <td>10</td>\n",
              "      <td>1</td>\n",
              "      <td>smile</td>\n",
              "      <td>positive/negative</td>\n",
              "      <td>0</td>\n",
              "      <td>как же оле бузовой и рудковской подходят эти н...</td>\n",
              "    </tr>\n",
              "    <tr>\n",
              "      <th>6740</th>\n",
              "      <td>😊</td>\n",
              "      <td>6</td>\n",
              "      <td>1</td>\n",
              "      <td>smile</td>\n",
              "      <td>positive/negative</td>\n",
              "      <td>0</td>\n",
              "      <td>куда тебе вискас отправить? 😊</td>\n",
              "    </tr>\n",
              "    <tr>\n",
              "      <th>3127</th>\n",
              "      <td>😹</td>\n",
              "      <td>3</td>\n",
              "      <td>1</td>\n",
              "      <td>smile</td>\n",
              "      <td>positive/negative</td>\n",
              "      <td>0</td>\n",
              "      <td>хахахах урыл😹</td>\n",
              "    </tr>\n",
              "    <tr>\n",
              "      <th>722</th>\n",
              "      <td>💗</td>\n",
              "      <td>4</td>\n",
              "      <td>1</td>\n",
              "      <td>joy</td>\n",
              "      <td>positive</td>\n",
              "      <td>2</td>\n",
              "      <td>доброе утро, сэры 💗</td>\n",
              "    </tr>\n",
              "  </tbody>\n",
              "</table>\n",
              "<p>1844 rows × 7 columns</p>\n",
              "</div>\n",
              "      <button class=\"colab-df-convert\" onclick=\"convertToInteractive('df-32f82623-51ae-4a3d-a2cf-60fbd54707b0')\"\n",
              "              title=\"Convert this dataframe to an interactive table.\"\n",
              "              style=\"display:none;\">\n",
              "        \n",
              "  <svg xmlns=\"http://www.w3.org/2000/svg\" height=\"24px\"viewBox=\"0 0 24 24\"\n",
              "       width=\"24px\">\n",
              "    <path d=\"M0 0h24v24H0V0z\" fill=\"none\"/>\n",
              "    <path d=\"M18.56 5.44l.94 2.06.94-2.06 2.06-.94-2.06-.94-.94-2.06-.94 2.06-2.06.94zm-11 1L8.5 8.5l.94-2.06 2.06-.94-2.06-.94L8.5 2.5l-.94 2.06-2.06.94zm10 10l.94 2.06.94-2.06 2.06-.94-2.06-.94-.94-2.06-.94 2.06-2.06.94z\"/><path d=\"M17.41 7.96l-1.37-1.37c-.4-.4-.92-.59-1.43-.59-.52 0-1.04.2-1.43.59L10.3 9.45l-7.72 7.72c-.78.78-.78 2.05 0 2.83L4 21.41c.39.39.9.59 1.41.59.51 0 1.02-.2 1.41-.59l7.78-7.78 2.81-2.81c.8-.78.8-2.07 0-2.86zM5.41 20L4 18.59l7.72-7.72 1.47 1.35L5.41 20z\"/>\n",
              "  </svg>\n",
              "      </button>\n",
              "      \n",
              "  <style>\n",
              "    .colab-df-container {\n",
              "      display:flex;\n",
              "      flex-wrap:wrap;\n",
              "      gap: 12px;\n",
              "    }\n",
              "\n",
              "    .colab-df-convert {\n",
              "      background-color: #E8F0FE;\n",
              "      border: none;\n",
              "      border-radius: 50%;\n",
              "      cursor: pointer;\n",
              "      display: none;\n",
              "      fill: #1967D2;\n",
              "      height: 32px;\n",
              "      padding: 0 0 0 0;\n",
              "      width: 32px;\n",
              "    }\n",
              "\n",
              "    .colab-df-convert:hover {\n",
              "      background-color: #E2EBFA;\n",
              "      box-shadow: 0px 1px 2px rgba(60, 64, 67, 0.3), 0px 1px 3px 1px rgba(60, 64, 67, 0.15);\n",
              "      fill: #174EA6;\n",
              "    }\n",
              "\n",
              "    [theme=dark] .colab-df-convert {\n",
              "      background-color: #3B4455;\n",
              "      fill: #D2E3FC;\n",
              "    }\n",
              "\n",
              "    [theme=dark] .colab-df-convert:hover {\n",
              "      background-color: #434B5C;\n",
              "      box-shadow: 0px 1px 3px 1px rgba(0, 0, 0, 0.15);\n",
              "      filter: drop-shadow(0px 1px 2px rgba(0, 0, 0, 0.3));\n",
              "      fill: #FFFFFF;\n",
              "    }\n",
              "  </style>\n",
              "\n",
              "      <script>\n",
              "        const buttonEl =\n",
              "          document.querySelector('#df-32f82623-51ae-4a3d-a2cf-60fbd54707b0 button.colab-df-convert');\n",
              "        buttonEl.style.display =\n",
              "          google.colab.kernel.accessAllowed ? 'block' : 'none';\n",
              "\n",
              "        async function convertToInteractive(key) {\n",
              "          const element = document.querySelector('#df-32f82623-51ae-4a3d-a2cf-60fbd54707b0');\n",
              "          const dataTable =\n",
              "            await google.colab.kernel.invokeFunction('convertToInteractive',\n",
              "                                                     [key], {});\n",
              "          if (!dataTable) return;\n",
              "\n",
              "          const docLinkHtml = 'Like what you see? Visit the ' +\n",
              "            '<a target=\"_blank\" href=https://colab.research.google.com/notebooks/data_table.ipynb>data table notebook</a>'\n",
              "            + ' to learn more about interactive tables.';\n",
              "          element.innerHTML = '';\n",
              "          dataTable['output_type'] = 'display_data';\n",
              "          await google.colab.output.renderOutput(dataTable, element);\n",
              "          const docLink = document.createElement('div');\n",
              "          docLink.innerHTML = docLinkHtml;\n",
              "          element.appendChild(docLink);\n",
              "        }\n",
              "      </script>\n",
              "    </div>\n",
              "  </div>\n",
              "  "
            ]
          },
          "metadata": {},
          "execution_count": 228
        }
      ],
      "source": [
        "test"
      ]
    },
    {
      "cell_type": "markdown",
      "metadata": {
        "id": "8fYW-KKXPULV"
      },
      "source": [
        "Преобразуем посты в числовое представление\n",
        "\n",
        "Нужно использовать токенизатор, обученный на наборе данных train."
      ]
    },
    {
      "cell_type": "code",
      "execution_count": 229,
      "metadata": {
        "id": "5UlxwGZePZ5E"
      },
      "outputs": [],
      "source": [
        "test_sequences = tokenizer.texts_to_sequences(test['clean_text'])"
      ]
    },
    {
      "cell_type": "code",
      "execution_count": 230,
      "metadata": {
        "id": "2T1c5WEFPiRk"
      },
      "outputs": [],
      "source": [
        "x_test = pad_sequences(test_sequences, maxlen=max_len)"
      ]
    },
    {
      "cell_type": "code",
      "execution_count": 231,
      "metadata": {
        "colab": {
          "base_uri": "https://localhost:8080/"
        },
        "id": "y1JyHIelPkU3",
        "outputId": "562b0a2a-46d2-474f-b17d-df97e2bf253b"
      },
      "outputs": [
        {
          "output_type": "execute_result",
          "data": {
            "text/plain": [
              "array([[   0,    0,    0,    0,    0,    0,    0,    0,    0,    0,    0],\n",
              "       [   0,    0,    0,    0,    0,    0,    0,    0, 4719,  306,    4],\n",
              "       [   0,    0,    0,    0,    0,   57, 1019, 1040,   22,  980,   58],\n",
              "       [   0,    0,    0,    0,    0,   10,  180, 1074,    3, 4317,   11],\n",
              "       [   0,    0,    0,    0,    0,    0,   21,    6,    7,   40,   38]],\n",
              "      dtype=int32)"
            ]
          },
          "metadata": {},
          "execution_count": 231
        }
      ],
      "source": [
        "x_test[:5]"
      ]
    },
    {
      "cell_type": "markdown",
      "metadata": {
        "id": "g-Pp5iQePo_X"
      },
      "source": [
        "Правильные ответы"
      ]
    },
    {
      "cell_type": "code",
      "execution_count": 232,
      "metadata": {
        "id": "cwAAW_sGPpSw"
      },
      "outputs": [],
      "source": [
        "y_test = utils.to_categorical(test['class'], nb_classes)"
      ]
    },
    {
      "cell_type": "code",
      "execution_count": 233,
      "metadata": {
        "colab": {
          "base_uri": "https://localhost:8080/"
        },
        "id": "Aza8ZejCPt3N",
        "outputId": "be788d1a-9c63-4932-de27-7dc81d4013fa"
      },
      "outputs": [
        {
          "output_type": "execute_result",
          "data": {
            "text/plain": [
              "array([[1., 0., 0., ..., 0., 0., 0.],\n",
              "       [1., 0., 0., ..., 0., 0., 0.],\n",
              "       [1., 0., 0., ..., 0., 0., 0.],\n",
              "       ...,\n",
              "       [1., 0., 0., ..., 0., 0., 0.],\n",
              "       [1., 0., 0., ..., 0., 0., 0.],\n",
              "       [0., 0., 1., ..., 0., 0., 0.]], dtype=float32)"
            ]
          },
          "metadata": {},
          "execution_count": 233
        }
      ],
      "source": [
        "y_test"
      ]
    },
    {
      "cell_type": "markdown",
      "metadata": {
        "id": "0s4FkOqwPw4x"
      },
      "source": [
        "## Оцениваем качество работы сети на тестовом наборе данных\n"
      ]
    },
    {
      "cell_type": "markdown",
      "metadata": {
        "id": "Oa19p3g1Pzid"
      },
      "source": [
        "### Одномерная сверточная сеть"
      ]
    },
    {
      "cell_type": "code",
      "execution_count": 234,
      "metadata": {
        "id": "Yq02xc1NPx0b"
      },
      "outputs": [],
      "source": [
        "model_cnn.load_weights(model_cnn_save_path)"
      ]
    },
    {
      "cell_type": "code",
      "execution_count": 235,
      "metadata": {
        "colab": {
          "base_uri": "https://localhost:8080/"
        },
        "id": "0emPMQVrP4SD",
        "outputId": "f51593bc-9f55-4a76-f063-ff92adac67df"
      },
      "outputs": [
        {
          "output_type": "stream",
          "name": "stdout",
          "text": [
            "58/58 [==============================] - 0s 6ms/step - loss: 0.9190 - accuracy: 0.7652 - precision_9: 0.9012 - recall_9: 0.6133 - f1_score_macro: 0.1742 - f1_score_micro: 0.7652 - f1_score_weighted: 0.7154\n"
          ]
        }
      ],
      "source": [
        "loss, accuracy, precision, recall, f1_score_macro, f1_score_micro, f1_score_weighted = model_cnn.evaluate(x_test, y_test, verbose=1)"
      ]
    },
    {
      "cell_type": "markdown",
      "metadata": {
        "id": "dOfAaLZmQAJB"
      },
      "source": [
        "### Сеть LSTM"
      ]
    },
    {
      "cell_type": "code",
      "execution_count": 236,
      "metadata": {
        "id": "5XksalfdQAeL"
      },
      "outputs": [],
      "source": [
        "model_lstm.load_weights(model_lstm_save_path)"
      ]
    },
    {
      "cell_type": "code",
      "execution_count": 237,
      "metadata": {
        "colab": {
          "base_uri": "https://localhost:8080/"
        },
        "id": "nR4ibXlzQEsY",
        "outputId": "0ee698f7-72b3-4d2e-86be-27299e6f27d8"
      },
      "outputs": [
        {
          "output_type": "stream",
          "name": "stdout",
          "text": [
            "58/58 [==============================] - 0s 5ms/step - loss: 1.0204 - accuracy: 0.7148 - precision_10: 0.8407 - recall_10: 0.6497 - f1_score_macro: 0.1185 - f1_score_micro: 0.7148 - f1_score_weighted: 0.6266\n"
          ]
        }
      ],
      "source": [
        "loss, accuracy, precision, recall, f1_score_macro, f1_score_micro, f1_score_weighted = model_lstm.evaluate(x_test, y_test, verbose=1)"
      ]
    },
    {
      "cell_type": "markdown",
      "metadata": {
        "id": "HzbgapQeQLqr"
      },
      "source": [
        "### Сеть GRU"
      ]
    },
    {
      "cell_type": "code",
      "execution_count": 238,
      "metadata": {
        "id": "R4yZXw9cQLK7"
      },
      "outputs": [],
      "source": [
        "model_gru.load_weights(model_gru_save_path)"
      ]
    },
    {
      "cell_type": "code",
      "execution_count": 239,
      "metadata": {
        "colab": {
          "base_uri": "https://localhost:8080/"
        },
        "id": "NeONctrTQORa",
        "outputId": "e7b32574-72d9-4627-8fae-795c6e27338a"
      },
      "outputs": [
        {
          "output_type": "stream",
          "name": "stdout",
          "text": [
            "58/58 [==============================] - 0s 5ms/step - loss: 0.7975 - accuracy: 0.8221 - precision_12: 0.8697 - recall_12: 0.7457 - f1_score_macro: 0.2829 - f1_score_micro: 0.8221 - f1_score_weighted: 0.7842\n"
          ]
        }
      ],
      "source": [
        "loss, accuracy, precision, recall, f1_score_macro, f1_score_micro, f1_score_weighted = model_gru.evaluate(x_test, y_test, verbose=1)"
      ]
    },
    {
      "cell_type": "code",
      "execution_count": 241,
      "metadata": {
        "colab": {
          "base_uri": "https://localhost:8080/",
          "height": 35
        },
        "id": "zEvbEOkjQf5B",
        "outputId": "ce2b0f1c-8819-4c41-90a6-11bc3b125151"
      },
      "outputs": [
        {
          "output_type": "execute_result",
          "data": {
            "text/plain": [
              "'махнем со мной на небо ❤'"
            ],
            "application/vnd.google.colaboratory.intrinsic+json": {
              "type": "string"
            }
          },
          "metadata": {},
          "execution_count": 241
        }
      ],
      "source": [
        "test['clean_text'][1246]\n",
        "#test['clean_text'][2384]"
      ]
    },
    {
      "cell_type": "code",
      "execution_count": 242,
      "metadata": {
        "colab": {
          "base_uri": "https://localhost:8080/"
        },
        "id": "85dlSCdSQqgE",
        "outputId": "9b38e6d7-f541-4272-fe18-c7f317a069a3"
      },
      "outputs": [
        {
          "output_type": "execute_result",
          "data": {
            "text/plain": [
              "(2, 'joy', 'positive')"
            ]
          },
          "metadata": {},
          "execution_count": 242
        }
      ],
      "source": [
        "#test['class'][2384], test['emotion'][2384], test['tonality'][2384]\n",
        "test['class'][1246], test['emotion'][1246], test['tonality'][1246]"
      ]
    },
    {
      "cell_type": "code",
      "execution_count": 243,
      "metadata": {
        "id": "iRFWcay1Q0p_"
      },
      "outputs": [],
      "source": [
        "#text = test['clean_text'][2384]\n",
        "text = test['clean_text'][1246]"
      ]
    },
    {
      "cell_type": "code",
      "execution_count": 244,
      "metadata": {
        "id": "RVaiOLs9Q34W"
      },
      "outputs": [],
      "source": [
        "sequence = tokenizer.texts_to_sequences([text])"
      ]
    },
    {
      "cell_type": "code",
      "execution_count": 245,
      "metadata": {
        "colab": {
          "base_uri": "https://localhost:8080/"
        },
        "id": "Ye6hisERQ6Bz",
        "outputId": "29652830-0ad4-4df9-aeae-5f40b03c2d30"
      },
      "outputs": [
        {
          "output_type": "execute_result",
          "data": {
            "text/plain": [
              "[[153, 2057, 10, 69]]"
            ]
          },
          "metadata": {},
          "execution_count": 245
        }
      ],
      "source": [
        "sequence"
      ]
    },
    {
      "cell_type": "code",
      "execution_count": 246,
      "metadata": {
        "id": "FPPz1T4KQ8uY"
      },
      "outputs": [],
      "source": [
        "data = pad_sequences(sequence, maxlen=max_len)"
      ]
    },
    {
      "cell_type": "code",
      "execution_count": 247,
      "metadata": {
        "colab": {
          "base_uri": "https://localhost:8080/"
        },
        "id": "qipsluoCQ-55",
        "outputId": "bfe5ce2d-2af5-484f-d285-d7e60d2dcbb3"
      },
      "outputs": [
        {
          "output_type": "execute_result",
          "data": {
            "text/plain": [
              "array([[   0,    0,    0,    0,    0,    0,    0,  153, 2057,   10,   69]],\n",
              "      dtype=int32)"
            ]
          },
          "metadata": {},
          "execution_count": 247
        }
      ],
      "source": [
        "data"
      ]
    },
    {
      "cell_type": "code",
      "execution_count": 248,
      "metadata": {
        "id": "HR99Z5NiRdcs"
      },
      "outputs": [],
      "source": [
        "emoji_dict = {\"0\":\"smile positive/negative\", \"1\":\"no_emotion neutral/skeptical\", \"2\":\"joy positive\",\n",
        "              \"3\":\"no_emotion positive/negative\", \"4\":\"sadness negative\", \"5\":\"fear negative\",\n",
        "              \"6\":\"shame negative\",\"7\":\"anger negative\", \"8\":\"disgust negative\",\n",
        "              \"9\":\"surprise positive/negative\",\"10\":\"disgust neutral/skeptical\", \"11\":\"surprise negative\",\n",
        "              \"12\":\"no_emotion negative\",\"13\":\"sadness positive/negative\", \"14\":\"fear positive/negative\"}"
      ]
    },
    {
      "cell_type": "markdown",
      "metadata": {
        "id": "jSxd7cSsRKcf"
      },
      "source": [
        "### Одномерная сверточная сеть"
      ]
    },
    {
      "cell_type": "code",
      "execution_count": 249,
      "metadata": {
        "colab": {
          "base_uri": "https://localhost:8080/"
        },
        "id": "2Ldh4MKMRBWs",
        "outputId": "f8da9be7-210d-49e5-9ce5-66d50b2d7763"
      },
      "outputs": [
        {
          "output_type": "stream",
          "name": "stdout",
          "text": [
            "1/1 [==============================] - 0s 101ms/step\n"
          ]
        }
      ],
      "source": [
        "result_cnn = model_cnn.predict(data)"
      ]
    },
    {
      "cell_type": "code",
      "execution_count": 250,
      "metadata": {
        "colab": {
          "base_uri": "https://localhost:8080/"
        },
        "id": "VhiT958GRTRP",
        "outputId": "90265ca7-deb7-4950-d54e-01cf3369177e"
      },
      "outputs": [
        {
          "output_type": "execute_result",
          "data": {
            "text/plain": [
              "array([[2.7884901e-04, 4.3033587e-04, 8.0698723e-01, 1.8214412e-01,\n",
              "        9.5010828e-03, 2.7501074e-04, 4.8169441e-05, 7.3370160e-05,\n",
              "        7.2142895e-05, 8.3471372e-05, 1.4429457e-05, 3.6681704e-05,\n",
              "        3.8985258e-05, 1.5640549e-05, 4.0026055e-07]], dtype=float32)"
            ]
          },
          "metadata": {},
          "execution_count": 250
        }
      ],
      "source": [
        "result_cnn"
      ]
    },
    {
      "cell_type": "markdown",
      "metadata": {
        "id": "ZU1PXJxHRwW1"
      },
      "source": [
        "### Сеть LSTM"
      ]
    },
    {
      "cell_type": "code",
      "execution_count": 251,
      "metadata": {
        "colab": {
          "base_uri": "https://localhost:8080/"
        },
        "id": "QqlfceZPRw3k",
        "outputId": "454c2c9f-025b-4c80-cd58-624736087dd0"
      },
      "outputs": [
        {
          "output_type": "stream",
          "name": "stderr",
          "text": [
            "WARNING:tensorflow:5 out of the last 5 calls to <function Model.make_predict_function.<locals>.predict_function at 0x7fe48a221b40> triggered tf.function retracing. Tracing is expensive and the excessive number of tracings could be due to (1) creating @tf.function repeatedly in a loop, (2) passing tensors with different shapes, (3) passing Python objects instead of tensors. For (1), please define your @tf.function outside of the loop. For (2), @tf.function has reduce_retracing=True option that can avoid unnecessary retracing. For (3), please refer to https://www.tensorflow.org/guide/function#controlling_retracing and https://www.tensorflow.org/api_docs/python/tf/function for  more details.\n"
          ]
        },
        {
          "output_type": "stream",
          "name": "stdout",
          "text": [
            "1/1 [==============================] - 0s 355ms/step\n"
          ]
        }
      ],
      "source": [
        "result_lstm = model_lstm.predict(data)"
      ]
    },
    {
      "cell_type": "code",
      "execution_count": 252,
      "metadata": {
        "colab": {
          "base_uri": "https://localhost:8080/"
        },
        "id": "LfOLoMDhR1Y-",
        "outputId": "7f8c71fa-2154-44d7-e5b7-200de2d5d507"
      },
      "outputs": [
        {
          "output_type": "execute_result",
          "data": {
            "text/plain": [
              "array([[0.24158093, 0.15515046, 0.19687346, 0.09729096, 0.07952406,\n",
              "        0.05209929, 0.02319434, 0.0234726 , 0.03399733, 0.02680601,\n",
              "        0.01391194, 0.01130754, 0.02026326, 0.01501474, 0.00951311]],\n",
              "      dtype=float32)"
            ]
          },
          "metadata": {},
          "execution_count": 252
        }
      ],
      "source": [
        "result_lstm"
      ]
    },
    {
      "cell_type": "markdown",
      "metadata": {
        "id": "9J4Mej6ESA17"
      },
      "source": [
        "### Сеть GRU"
      ]
    },
    {
      "cell_type": "code",
      "execution_count": 253,
      "metadata": {
        "colab": {
          "base_uri": "https://localhost:8080/"
        },
        "id": "Z2_0ugy5SBW2",
        "outputId": "a088d971-60b3-412f-9f10-08d57b923787"
      },
      "outputs": [
        {
          "output_type": "stream",
          "name": "stderr",
          "text": [
            "WARNING:tensorflow:6 out of the last 6 calls to <function Model.make_predict_function.<locals>.predict_function at 0x7fe48a2232e0> triggered tf.function retracing. Tracing is expensive and the excessive number of tracings could be due to (1) creating @tf.function repeatedly in a loop, (2) passing tensors with different shapes, (3) passing Python objects instead of tensors. For (1), please define your @tf.function outside of the loop. For (2), @tf.function has reduce_retracing=True option that can avoid unnecessary retracing. For (3), please refer to https://www.tensorflow.org/guide/function#controlling_retracing and https://www.tensorflow.org/api_docs/python/tf/function for  more details.\n"
          ]
        },
        {
          "output_type": "stream",
          "name": "stdout",
          "text": [
            "1/1 [==============================] - 0s 325ms/step\n"
          ]
        }
      ],
      "source": [
        "result_gru = model_gru.predict(data)"
      ]
    },
    {
      "cell_type": "code",
      "execution_count": 254,
      "metadata": {
        "colab": {
          "base_uri": "https://localhost:8080/"
        },
        "id": "QgmWEboVSFKJ",
        "outputId": "debedf70-414d-4a0f-c3fd-63c013c6335d"
      },
      "outputs": [
        {
          "output_type": "execute_result",
          "data": {
            "text/plain": [
              "array([[0.15749276, 0.01091314, 0.6121168 , 0.02702023, 0.03465582,\n",
              "        0.00894367, 0.02884191, 0.02604786, 0.01213347, 0.01380449,\n",
              "        0.02096184, 0.01841285, 0.0033628 , 0.01180408, 0.01348835]],\n",
              "      dtype=float32)"
            ]
          },
          "metadata": {},
          "execution_count": 254
        }
      ],
      "source": [
        "result_gru"
      ]
    }
  ],
  "metadata": {
    "accelerator": "GPU",
    "colab": {
      "provenance": [],
      "gpuType": "T4"
    },
    "kernelspec": {
      "display_name": "Python 3",
      "name": "python3"
    },
    "language_info": {
      "codemirror_mode": {
        "name": "ipython",
        "version": 3
      },
      "file_extension": ".py",
      "mimetype": "text/x-python",
      "name": "python",
      "nbconvert_exporter": "python",
      "pygments_lexer": "ipython3",
      "version": "3.9.13"
    }
  },
  "nbformat": 4,
  "nbformat_minor": 0
}