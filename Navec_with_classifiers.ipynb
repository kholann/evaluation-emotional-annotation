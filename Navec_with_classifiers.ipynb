{
 "cells": [
  {
   "cell_type": "markdown",
   "id": "d6b3f620",
   "metadata": {},
   "source": [
    "С помощью векторных представлений слов"
   ]
  },
  {
   "cell_type": "markdown",
   "id": "bc2d1a00",
   "metadata": {},
   "source": [
    "Используем векторные представления Navec."
   ]
  },
  {
   "cell_type": "code",
   "execution_count": 171,
   "id": "71da05f7",
   "metadata": {},
   "outputs": [
    {
     "name": "stdout",
     "output_type": "stream",
     "text": [
      "Requirement already satisfied: navec in /Users/kholann/opt/anaconda3/lib/python3.9/site-packages (0.10.0)\r\n",
      "Requirement already satisfied: numpy in /Users/kholann/opt/anaconda3/lib/python3.9/site-packages (from navec) (1.21.5)\r\n"
     ]
    }
   ],
   "source": [
    "!pip install navec"
   ]
  },
  {
   "cell_type": "code",
   "execution_count": 172,
   "id": "e6463c8a",
   "metadata": {},
   "outputs": [],
   "source": [
    "import pandas as pd\n",
    "from sklearn.linear_model import LogisticRegression\n",
    "from sklearn.svm import SVC\n",
    "from sklearn.svm import LinearSVC\n",
    "from sklearn.ensemble import RandomForestClassifier\n",
    "from sklearn.tree import DecisionTreeClassifier\n",
    "from sklearn.model_selection import train_test_split\n",
    "from collections import Counter\n",
    "from sklearn.metrics import f1_score, accuracy_score\n",
    "import sklearn\n",
    "from sklearn.model_selection import cross_val_score\n",
    "from sklearn import metrics\n",
    "from sklearn.naive_bayes import GaussianNB\n",
    "from sklearn.ensemble import GradientBoostingClassifier"
   ]
  },
  {
   "cell_type": "code",
   "execution_count": 173,
   "id": "cb83500b",
   "metadata": {},
   "outputs": [],
   "source": [
    "emoji_dict = {\"0\":\"smile positive/negative\", \"1\":\"no_emotion neutral/skeptical\", \"2\":\"joy positive\",\n",
    "              \"3\":\"no_emotion positive/negative\", \"4\":\"sadness negative\", \"5\":\"fear negative\",\n",
    "              \"6\":\"shame negative\",\"7\":\"anger negative\", \"8\":\"disgust negative\",\n",
    "              \"9\":\"surprise positive/negative\",\"10\":\"disgust neutral/skeptical\", \"11\":\"surprise negative\",\n",
    "              \"12\":\"no_emotion negative\",\"13\":\"sadness positive/negative\", \"14\":\"fear positive/negative\"}"
   ]
  },
  {
   "cell_type": "code",
   "execution_count": 174,
   "id": "62f91ac0",
   "metadata": {},
   "outputs": [
    {
     "data": {
      "text/plain": [
       "'sadness positive/negative'"
      ]
     },
     "execution_count": 174,
     "metadata": {},
     "output_type": "execute_result"
    }
   ],
   "source": [
    "emoji_dict[\"13\"]"
   ]
  },
  {
   "cell_type": "markdown",
   "id": "adf126ae",
   "metadata": {},
   "source": [
    "## Загружаем и готовим набор данных"
   ]
  },
  {
   "cell_type": "code",
   "execution_count": 2,
   "id": "b8e3a442",
   "metadata": {},
   "outputs": [],
   "source": [
    "df_em_1_token_10 = pd.read_csv('df_em_1_token_10.csv', sep=\";\")"
   ]
  },
  {
   "cell_type": "code",
   "execution_count": 3,
   "id": "72dc05e7",
   "metadata": {},
   "outputs": [
    {
     "data": {
      "text/html": [
       "<div>\n",
       "<style scoped>\n",
       "    .dataframe tbody tr th:only-of-type {\n",
       "        vertical-align: middle;\n",
       "    }\n",
       "\n",
       "    .dataframe tbody tr th {\n",
       "        vertical-align: top;\n",
       "    }\n",
       "\n",
       "    .dataframe thead th {\n",
       "        text-align: right;\n",
       "    }\n",
       "</style>\n",
       "<table border=\"1\" class=\"dataframe\">\n",
       "  <thead>\n",
       "    <tr style=\"text-align: right;\">\n",
       "      <th></th>\n",
       "      <th>img_emoji</th>\n",
       "      <th>word_count</th>\n",
       "      <th>count_emoji</th>\n",
       "      <th>emotion</th>\n",
       "      <th>tonality</th>\n",
       "      <th>class</th>\n",
       "      <th>clean_text</th>\n",
       "    </tr>\n",
       "  </thead>\n",
       "  <tbody>\n",
       "    <tr>\n",
       "      <th>0</th>\n",
       "      <td>😂</td>\n",
       "      <td>5</td>\n",
       "      <td>1</td>\n",
       "      <td>smile</td>\n",
       "      <td>positive/negative</td>\n",
       "      <td>0</td>\n",
       "      <td>почему бы и нет 😂</td>\n",
       "    </tr>\n",
       "    <tr>\n",
       "      <th>1</th>\n",
       "      <td>😁</td>\n",
       "      <td>5</td>\n",
       "      <td>1</td>\n",
       "      <td>smile</td>\n",
       "      <td>positive/negative</td>\n",
       "      <td>0</td>\n",
       "      <td>как сесть на диету 😁</td>\n",
       "    </tr>\n",
       "    <tr>\n",
       "      <th>2</th>\n",
       "      <td>😁</td>\n",
       "      <td>6</td>\n",
       "      <td>1</td>\n",
       "      <td>smile</td>\n",
       "      <td>positive/negative</td>\n",
       "      <td>0</td>\n",
       "      <td>когда в душе ещё щенок 😁</td>\n",
       "    </tr>\n",
       "    <tr>\n",
       "      <th>3</th>\n",
       "      <td>😻</td>\n",
       "      <td>6</td>\n",
       "      <td>1</td>\n",
       "      <td>joy</td>\n",
       "      <td>positive</td>\n",
       "      <td>2</td>\n",
       "      <td>новые фотографии нюши просто огненные😻</td>\n",
       "    </tr>\n",
       "    <tr>\n",
       "      <th>4</th>\n",
       "      <td>😍</td>\n",
       "      <td>7</td>\n",
       "      <td>1</td>\n",
       "      <td>joy</td>\n",
       "      <td>positive</td>\n",
       "      <td>2</td>\n",
       "      <td>безумно красивая актриса - алина ланина 😍</td>\n",
       "    </tr>\n",
       "    <tr>\n",
       "      <th>...</th>\n",
       "      <td>...</td>\n",
       "      <td>...</td>\n",
       "      <td>...</td>\n",
       "      <td>...</td>\n",
       "      <td>...</td>\n",
       "      <td>...</td>\n",
       "      <td>...</td>\n",
       "    </tr>\n",
       "    <tr>\n",
       "      <th>9215</th>\n",
       "      <td>😄</td>\n",
       "      <td>5</td>\n",
       "      <td>1</td>\n",
       "      <td>smile</td>\n",
       "      <td>positive/negative</td>\n",
       "      <td>0</td>\n",
       "      <td>ряды эскортниц скоро пополнится 😄</td>\n",
       "    </tr>\n",
       "    <tr>\n",
       "      <th>9216</th>\n",
       "      <td>😂</td>\n",
       "      <td>7</td>\n",
       "      <td>1</td>\n",
       "      <td>smile</td>\n",
       "      <td>positive/negative</td>\n",
       "      <td>0</td>\n",
       "      <td>так он прав ты реально даун 😂</td>\n",
       "    </tr>\n",
       "    <tr>\n",
       "      <th>9217</th>\n",
       "      <td>🤔</td>\n",
       "      <td>7</td>\n",
       "      <td>1</td>\n",
       "      <td>no_emotion</td>\n",
       "      <td>neutral/skeptical</td>\n",
       "      <td>1</td>\n",
       "      <td>вы же не про меня?🤔</td>\n",
       "    </tr>\n",
       "    <tr>\n",
       "      <th>9218</th>\n",
       "      <td>🤔</td>\n",
       "      <td>9</td>\n",
       "      <td>1</td>\n",
       "      <td>no_emotion</td>\n",
       "      <td>neutral/skeptical</td>\n",
       "      <td>1</td>\n",
       "      <td>про кого пошутил то это не до комик🤔</td>\n",
       "    </tr>\n",
       "    <tr>\n",
       "      <th>9219</th>\n",
       "      <td>🤣</td>\n",
       "      <td>10</td>\n",
       "      <td>1</td>\n",
       "      <td>smile</td>\n",
       "      <td>positive/negative</td>\n",
       "      <td>0</td>\n",
       "      <td>тебе это лучше знать что во всём мире слушают 🤣</td>\n",
       "    </tr>\n",
       "  </tbody>\n",
       "</table>\n",
       "<p>9220 rows × 7 columns</p>\n",
       "</div>"
      ],
      "text/plain": [
       "     img_emoji  word_count  count_emoji     emotion           tonality  class  \\\n",
       "0            😂           5            1       smile  positive/negative      0   \n",
       "1            😁           5            1       smile  positive/negative      0   \n",
       "2            😁           6            1       smile  positive/negative      0   \n",
       "3            😻           6            1         joy           positive      2   \n",
       "4            😍           7            1         joy           positive      2   \n",
       "...        ...         ...          ...         ...                ...    ...   \n",
       "9215         😄           5            1       smile  positive/negative      0   \n",
       "9216         😂           7            1       smile  positive/negative      0   \n",
       "9217         🤔           7            1  no_emotion  neutral/skeptical      1   \n",
       "9218         🤔           9            1  no_emotion  neutral/skeptical      1   \n",
       "9219         🤣          10            1       smile  positive/negative      0   \n",
       "\n",
       "                                           clean_text  \n",
       "0                                   почему бы и нет 😂  \n",
       "1                                как сесть на диету 😁  \n",
       "2                            когда в душе ещё щенок 😁  \n",
       "3              новые фотографии нюши просто огненные😻  \n",
       "4           безумно красивая актриса - алина ланина 😍  \n",
       "...                                               ...  \n",
       "9215                ряды эскортниц скоро пополнится 😄  \n",
       "9216                    так он прав ты реально даун 😂  \n",
       "9217                              вы же не про меня?🤔  \n",
       "9218             про кого пошутил то это не до комик🤔  \n",
       "9219  тебе это лучше знать что во всём мире слушают 🤣  \n",
       "\n",
       "[9220 rows x 7 columns]"
      ]
     },
     "execution_count": 3,
     "metadata": {},
     "output_type": "execute_result"
    }
   ],
   "source": [
    "df_em_1_token_10"
   ]
  },
  {
   "cell_type": "code",
   "execution_count": 4,
   "id": "670ef109",
   "metadata": {},
   "outputs": [
    {
     "data": {
      "text/html": [
       "<div>\n",
       "<style scoped>\n",
       "    .dataframe tbody tr th:only-of-type {\n",
       "        vertical-align: middle;\n",
       "    }\n",
       "\n",
       "    .dataframe tbody tr th {\n",
       "        vertical-align: top;\n",
       "    }\n",
       "\n",
       "    .dataframe thead th {\n",
       "        text-align: right;\n",
       "    }\n",
       "</style>\n",
       "<table border=\"1\" class=\"dataframe\">\n",
       "  <thead>\n",
       "    <tr style=\"text-align: right;\">\n",
       "      <th></th>\n",
       "      <th>img_emoji</th>\n",
       "      <th>word_count</th>\n",
       "      <th>count_emoji</th>\n",
       "      <th>emotion</th>\n",
       "      <th>tonality</th>\n",
       "      <th>class</th>\n",
       "      <th>clean_text</th>\n",
       "    </tr>\n",
       "  </thead>\n",
       "  <tbody>\n",
       "    <tr>\n",
       "      <th>5203</th>\n",
       "      <td>😁</td>\n",
       "      <td>11</td>\n",
       "      <td>1</td>\n",
       "      <td>smile</td>\n",
       "      <td>positive/negative</td>\n",
       "      <td>0</td>\n",
       "      <td>я пользуюсь, но не смотрю.. смотрю мультики и ...</td>\n",
       "    </tr>\n",
       "    <tr>\n",
       "      <th>8441</th>\n",
       "      <td>🤔</td>\n",
       "      <td>11</td>\n",
       "      <td>1</td>\n",
       "      <td>no_emotion</td>\n",
       "      <td>neutral/skeptical</td>\n",
       "      <td>1</td>\n",
       "      <td>так бывает дружба между мужчиной и женщиной ил...</td>\n",
       "    </tr>\n",
       "    <tr>\n",
       "      <th>8084</th>\n",
       "      <td>🤣</td>\n",
       "      <td>11</td>\n",
       "      <td>1</td>\n",
       "      <td>smile</td>\n",
       "      <td>positive/negative</td>\n",
       "      <td>0</td>\n",
       "      <td>зачем вам девушка? вам и с голубем не плохо 🤣</td>\n",
       "    </tr>\n",
       "    <tr>\n",
       "      <th>8081</th>\n",
       "      <td>😁</td>\n",
       "      <td>11</td>\n",
       "      <td>1</td>\n",
       "      <td>smile</td>\n",
       "      <td>positive/negative</td>\n",
       "      <td>0</td>\n",
       "      <td>ну девок много а я у мамы один такой прекрасный 😁</td>\n",
       "    </tr>\n",
       "    <tr>\n",
       "      <th>5467</th>\n",
       "      <td>😁</td>\n",
       "      <td>11</td>\n",
       "      <td>1</td>\n",
       "      <td>smile</td>\n",
       "      <td>positive/negative</td>\n",
       "      <td>0</td>\n",
       "      <td>это когда резко приуныл а тут и страхов очка е...</td>\n",
       "    </tr>\n",
       "    <tr>\n",
       "      <th>...</th>\n",
       "      <td>...</td>\n",
       "      <td>...</td>\n",
       "      <td>...</td>\n",
       "      <td>...</td>\n",
       "      <td>...</td>\n",
       "      <td>...</td>\n",
       "      <td>...</td>\n",
       "    </tr>\n",
       "    <tr>\n",
       "      <th>7141</th>\n",
       "      <td>😃</td>\n",
       "      <td>2</td>\n",
       "      <td>1</td>\n",
       "      <td>smile</td>\n",
       "      <td>positive/negative</td>\n",
       "      <td>0</td>\n",
       "      <td>круто😃</td>\n",
       "    </tr>\n",
       "    <tr>\n",
       "      <th>5010</th>\n",
       "      <td>😉</td>\n",
       "      <td>2</td>\n",
       "      <td>1</td>\n",
       "      <td>smile</td>\n",
       "      <td>positive/negative</td>\n",
       "      <td>0</td>\n",
       "      <td>ага😉</td>\n",
       "    </tr>\n",
       "    <tr>\n",
       "      <th>8606</th>\n",
       "      <td>🙂</td>\n",
       "      <td>2</td>\n",
       "      <td>1</td>\n",
       "      <td>smile</td>\n",
       "      <td>positive/negative</td>\n",
       "      <td>0</td>\n",
       "      <td>батя🙂</td>\n",
       "    </tr>\n",
       "    <tr>\n",
       "      <th>7126</th>\n",
       "      <td>😂</td>\n",
       "      <td>2</td>\n",
       "      <td>1</td>\n",
       "      <td>smile</td>\n",
       "      <td>positive/negative</td>\n",
       "      <td>0</td>\n",
       "      <td>фотошоп😂</td>\n",
       "    </tr>\n",
       "    <tr>\n",
       "      <th>7669</th>\n",
       "      <td>😀</td>\n",
       "      <td>2</td>\n",
       "      <td>1</td>\n",
       "      <td>smile</td>\n",
       "      <td>positive/negative</td>\n",
       "      <td>0</td>\n",
       "      <td>вольно😀</td>\n",
       "    </tr>\n",
       "  </tbody>\n",
       "</table>\n",
       "<p>9220 rows × 7 columns</p>\n",
       "</div>"
      ],
      "text/plain": [
       "     img_emoji  word_count  count_emoji     emotion           tonality  class  \\\n",
       "5203         😁          11            1       smile  positive/negative      0   \n",
       "8441         🤔          11            1  no_emotion  neutral/skeptical      1   \n",
       "8084         🤣          11            1       smile  positive/negative      0   \n",
       "8081         😁          11            1       smile  positive/negative      0   \n",
       "5467         😁          11            1       smile  positive/negative      0   \n",
       "...        ...         ...          ...         ...                ...    ...   \n",
       "7141         😃           2            1       smile  positive/negative      0   \n",
       "5010         😉           2            1       smile  positive/negative      0   \n",
       "8606         🙂           2            1       smile  positive/negative      0   \n",
       "7126         😂           2            1       smile  positive/negative      0   \n",
       "7669         😀           2            1       smile  positive/negative      0   \n",
       "\n",
       "                                             clean_text  \n",
       "5203  я пользуюсь, но не смотрю.. смотрю мультики и ...  \n",
       "8441  так бывает дружба между мужчиной и женщиной ил...  \n",
       "8084      зачем вам девушка? вам и с голубем не плохо 🤣  \n",
       "8081  ну девок много а я у мамы один такой прекрасный 😁  \n",
       "5467  это когда резко приуныл а тут и страхов очка е...  \n",
       "...                                                 ...  \n",
       "7141                                             круто😃  \n",
       "5010                                               ага😉  \n",
       "8606                                              батя🙂  \n",
       "7126                                           фотошоп😂  \n",
       "7669                                            вольно😀  \n",
       "\n",
       "[9220 rows x 7 columns]"
      ]
     },
     "execution_count": 4,
     "metadata": {},
     "output_type": "execute_result"
    }
   ],
   "source": [
    "df_em_1_token_10.sort_values(by='word_count', ascending=False)"
   ]
  },
  {
   "cell_type": "code",
   "execution_count": 6,
   "id": "2cdadba0",
   "metadata": {},
   "outputs": [
    {
     "data": {
      "text/html": [
       "<div>\n",
       "<style scoped>\n",
       "    .dataframe tbody tr th:only-of-type {\n",
       "        vertical-align: middle;\n",
       "    }\n",
       "\n",
       "    .dataframe tbody tr th {\n",
       "        vertical-align: top;\n",
       "    }\n",
       "\n",
       "    .dataframe thead th {\n",
       "        text-align: right;\n",
       "    }\n",
       "</style>\n",
       "<table border=\"1\" class=\"dataframe\">\n",
       "  <thead>\n",
       "    <tr style=\"text-align: right;\">\n",
       "      <th></th>\n",
       "      <th>img_emoji</th>\n",
       "      <th>count_emoji</th>\n",
       "      <th>emotion</th>\n",
       "      <th>tonality</th>\n",
       "      <th>class</th>\n",
       "      <th>clean_text</th>\n",
       "    </tr>\n",
       "    <tr>\n",
       "      <th>word_count</th>\n",
       "      <th></th>\n",
       "      <th></th>\n",
       "      <th></th>\n",
       "      <th></th>\n",
       "      <th></th>\n",
       "      <th></th>\n",
       "    </tr>\n",
       "  </thead>\n",
       "  <tbody>\n",
       "    <tr>\n",
       "      <th>2</th>\n",
       "      <td>551</td>\n",
       "      <td>551</td>\n",
       "      <td>551</td>\n",
       "      <td>551</td>\n",
       "      <td>551</td>\n",
       "      <td>551</td>\n",
       "    </tr>\n",
       "    <tr>\n",
       "      <th>3</th>\n",
       "      <td>942</td>\n",
       "      <td>942</td>\n",
       "      <td>942</td>\n",
       "      <td>942</td>\n",
       "      <td>942</td>\n",
       "      <td>942</td>\n",
       "    </tr>\n",
       "    <tr>\n",
       "      <th>4</th>\n",
       "      <td>1076</td>\n",
       "      <td>1076</td>\n",
       "      <td>1076</td>\n",
       "      <td>1076</td>\n",
       "      <td>1076</td>\n",
       "      <td>1076</td>\n",
       "    </tr>\n",
       "    <tr>\n",
       "      <th>5</th>\n",
       "      <td>1127</td>\n",
       "      <td>1127</td>\n",
       "      <td>1127</td>\n",
       "      <td>1127</td>\n",
       "      <td>1127</td>\n",
       "      <td>1127</td>\n",
       "    </tr>\n",
       "    <tr>\n",
       "      <th>6</th>\n",
       "      <td>1216</td>\n",
       "      <td>1216</td>\n",
       "      <td>1216</td>\n",
       "      <td>1216</td>\n",
       "      <td>1216</td>\n",
       "      <td>1216</td>\n",
       "    </tr>\n",
       "    <tr>\n",
       "      <th>7</th>\n",
       "      <td>1089</td>\n",
       "      <td>1089</td>\n",
       "      <td>1089</td>\n",
       "      <td>1089</td>\n",
       "      <td>1089</td>\n",
       "      <td>1089</td>\n",
       "    </tr>\n",
       "    <tr>\n",
       "      <th>8</th>\n",
       "      <td>986</td>\n",
       "      <td>986</td>\n",
       "      <td>986</td>\n",
       "      <td>986</td>\n",
       "      <td>986</td>\n",
       "      <td>986</td>\n",
       "    </tr>\n",
       "    <tr>\n",
       "      <th>9</th>\n",
       "      <td>879</td>\n",
       "      <td>879</td>\n",
       "      <td>879</td>\n",
       "      <td>879</td>\n",
       "      <td>879</td>\n",
       "      <td>879</td>\n",
       "    </tr>\n",
       "    <tr>\n",
       "      <th>10</th>\n",
       "      <td>749</td>\n",
       "      <td>749</td>\n",
       "      <td>749</td>\n",
       "      <td>749</td>\n",
       "      <td>749</td>\n",
       "      <td>749</td>\n",
       "    </tr>\n",
       "    <tr>\n",
       "      <th>11</th>\n",
       "      <td>605</td>\n",
       "      <td>605</td>\n",
       "      <td>605</td>\n",
       "      <td>605</td>\n",
       "      <td>605</td>\n",
       "      <td>605</td>\n",
       "    </tr>\n",
       "  </tbody>\n",
       "</table>\n",
       "</div>"
      ],
      "text/plain": [
       "            img_emoji  count_emoji  emotion  tonality  class  clean_text\n",
       "word_count                                                              \n",
       "2                 551          551      551       551    551         551\n",
       "3                 942          942      942       942    942         942\n",
       "4                1076         1076     1076      1076   1076        1076\n",
       "5                1127         1127     1127      1127   1127        1127\n",
       "6                1216         1216     1216      1216   1216        1216\n",
       "7                1089         1089     1089      1089   1089        1089\n",
       "8                 986          986      986       986    986         986\n",
       "9                 879          879      879       879    879         879\n",
       "10                749          749      749       749    749         749\n",
       "11                605          605      605       605    605         605"
      ]
     },
     "execution_count": 6,
     "metadata": {},
     "output_type": "execute_result"
    }
   ],
   "source": [
    "df_em_1_token_10.groupby('word_count').count()"
   ]
  },
  {
   "cell_type": "markdown",
   "id": "33213c3c",
   "metadata": {},
   "source": [
    "Константы"
   ]
  },
  {
   "cell_type": "code",
   "execution_count": 12,
   "id": "d5289da1",
   "metadata": {},
   "outputs": [],
   "source": [
    "random_state = 42\n",
    "#max_len = 100\n",
    "max_len = 11\n",
    "vector_size = 300"
   ]
  },
  {
   "cell_type": "code",
   "execution_count": 10,
   "id": "c1855b15",
   "metadata": {},
   "outputs": [],
   "source": [
    "#берём текст как есть с пунктуацией и с эмодзи\n",
    "def preprocess(text):\n",
    "    tokens = text.lower().split()\n",
    "    preprocessed_text = []\n",
    "    for token in tokens:\n",
    "        preprocessed_text.append(token)\n",
    "    return preprocessed_text"
   ]
  },
  {
   "cell_type": "code",
   "execution_count": 96,
   "id": "282a165f",
   "metadata": {},
   "outputs": [],
   "source": [
    "import re"
   ]
  },
  {
   "cell_type": "code",
   "execution_count": 97,
   "id": "02ee7cce",
   "metadata": {},
   "outputs": [],
   "source": [
    "#без пунктуации и эмодзи\n",
    "def preprocess_no_punct(text):\n",
    "    no_punct_text = re.sub(r'[^\\w\\s]', ' ', text)\n",
    "    tokens = no_punct_text.lower().split()\n",
    "    preprocessed_text = []\n",
    "    for token in tokens:\n",
    "        preprocessed_text.append(token)\n",
    "    return preprocessed_text"
   ]
  },
  {
   "cell_type": "code",
   "execution_count": 180,
   "id": "b3b6ffee",
   "metadata": {},
   "outputs": [],
   "source": [
    "import pymorphy2"
   ]
  },
  {
   "cell_type": "code",
   "execution_count": 181,
   "id": "b04024af",
   "metadata": {},
   "outputs": [],
   "source": [
    "morph = pymorphy2.MorphAnalyzer()"
   ]
  },
  {
   "cell_type": "code",
   "execution_count": 182,
   "id": "7a498b5f",
   "metadata": {},
   "outputs": [],
   "source": [
    "#леммы без пунктуации и эмодзи\n",
    "def preprocess_lemma(text):\n",
    "    no_punct_text = re.sub(r'[^\\w\\s]', ' ', text)\n",
    "    tokens = no_punct_text.lower().split()\n",
    "    preprocessed_text = []\n",
    "    for token in tokens:\n",
    "        lemma = morph.parse(token)[0].normal_form\n",
    "        preprocessed_text.append(lemma)\n",
    "    return preprocessed_text"
   ]
  },
  {
   "cell_type": "code",
   "execution_count": 183,
   "id": "60ac04d8",
   "metadata": {},
   "outputs": [],
   "source": [
    "#леммы c пунктуацией и эмодзи\n",
    "def preprocess_lemma_em(text):\n",
    "    tokens = text.lower().split()\n",
    "    preprocessed_text = []\n",
    "    for token in tokens:\n",
    "        lemma = morph.parse(token)[0].normal_form\n",
    "        preprocessed_text.append(lemma)\n",
    "    return preprocessed_text"
   ]
  },
  {
   "cell_type": "code",
   "execution_count": 98,
   "id": "55865dee",
   "metadata": {},
   "outputs": [],
   "source": [
    "#df_em_1_token_10['Preprocessed_texts'] = df_em_1_token_10.apply(lambda row: preprocess(row['clean_text']), axis=1)"
   ]
  },
  {
   "cell_type": "code",
   "execution_count": 184,
   "id": "e12a0a5d",
   "metadata": {},
   "outputs": [],
   "source": [
    "#df_em_1_token_10['Preprocessed_texts_no_punct'] = df_em_1_token_10.apply(lambda row: preprocess_no_punct(row['clean_text']), axis=1)"
   ]
  },
  {
   "cell_type": "code",
   "execution_count": 185,
   "id": "52fe00dd",
   "metadata": {},
   "outputs": [],
   "source": [
    "df_em_1_token_10['Preprocessed_texts_lemma'] = df_em_1_token_10.apply(lambda row: preprocess_lemma_em(row['clean_text']), axis=1)"
   ]
  },
  {
   "cell_type": "markdown",
   "id": "bbd70a89",
   "metadata": {},
   "source": [
    "## Загружаем предварительно обученные векторы Navec"
   ]
  },
  {
   "cell_type": "markdown",
   "id": "879c3263",
   "metadata": {},
   "source": [
    "Библиотека Navec — часть проекта Natasha, коллекция предобученных плотных векторных представлений слов для русского языка. Качество решения сравнимо или выше, чем у статических моделей от RusVectores, размер в 5–6 раз меньше."
   ]
  },
  {
   "cell_type": "code",
   "execution_count": 187,
   "id": "d17146ae",
   "metadata": {},
   "outputs": [
    {
     "name": "stdout",
     "output_type": "stream",
     "text": [
      "--2023-05-01 13:06:00--  https://storage.yandexcloud.net/natasha-navec/packs/navec_hudlit_v1_12B_500K_300d_100q.tar\n",
      "Resolving storage.yandexcloud.net (storage.yandexcloud.net)... 213.180.193.243\n",
      "Connecting to storage.yandexcloud.net (storage.yandexcloud.net)|213.180.193.243|:443... connected.\n",
      "HTTP request sent, awaiting response... 200 OK\n",
      "Length: 53012480 (51M) [application/x-tar]\n",
      "Saving to: 'navec_hudlit_v1_12B_500K_300d_100q.tar'\n",
      "\n",
      "navec_hudlit_v1_12B 100%[===================>]  50.56M  7.12MB/s    in 10s     \n",
      "\n",
      "2023-05-01 13:06:11 (4.98 MB/s) - 'navec_hudlit_v1_12B_500K_300d_100q.tar' saved [53012480/53012480]\n",
      "\n"
     ]
    }
   ],
   "source": [
    "!wget https://storage.yandexcloud.net/natasha-navec/packs/navec_hudlit_v1_12B_500K_300d_100q.tar -O navec_hudlit_v1_12B_500K_300d_100q.tar"
   ]
  },
  {
   "cell_type": "code",
   "execution_count": 188,
   "id": "5bc4db00",
   "metadata": {},
   "outputs": [],
   "source": [
    "from navec import Navec"
   ]
  },
  {
   "cell_type": "code",
   "execution_count": 189,
   "id": "97654376",
   "metadata": {},
   "outputs": [],
   "source": [
    "navec = Navec.load('navec_hudlit_v1_12B_500K_300d_100q.tar')"
   ]
  },
  {
   "cell_type": "markdown",
   "id": "057eadb8",
   "metadata": {},
   "source": [
    "## Векторизуем текст"
   ]
  },
  {
   "cell_type": "markdown",
   "id": "059183ee",
   "metadata": {},
   "source": [
    "Функция для векторизации текста"
   ]
  },
  {
   "cell_type": "code",
   "execution_count": 190,
   "id": "ffda350f",
   "metadata": {},
   "outputs": [],
   "source": [
    "def vectorize_text(txt, navec, max_len):\n",
    "    unk = navec['<unk>']\n",
    "    text_embeddings = []\n",
    "    for token in txt:\n",
    "        embedding = navec.get(token, unk)\n",
    "        text_embeddings.append(embedding)\n",
    "    # Дополняем или обрезаем текст для фиксированной длины max_len \n",
    "    l = len(text_embeddings)\n",
    "    if l > max_len:\n",
    "        text_embeddings = text_embeddings[:max_len]\n",
    "    else:\n",
    "        text_embeddings.extend([navec['<pad>']] * (max_len - l)) \n",
    "    return text_embeddings"
   ]
  },
  {
   "cell_type": "markdown",
   "id": "6d809b77",
   "metadata": {},
   "source": [
    "Применяем функцию векторизации текста"
   ]
  },
  {
   "cell_type": "code",
   "execution_count": 105,
   "id": "ce8b0003",
   "metadata": {},
   "outputs": [],
   "source": [
    "#df_em_1_token_10['Embeddings'] = df_em_1_token_10.apply(lambda row: vectorize_text(row['Preprocessed_texts'], navec, max_len), axis=1)"
   ]
  },
  {
   "cell_type": "code",
   "execution_count": 191,
   "id": "02519ab7",
   "metadata": {},
   "outputs": [],
   "source": [
    "#df_em_1_token_10['Embeddings'] = df_em_1_token_10.apply(lambda row: vectorize_text(row['Preprocessed_texts_no_punct'], navec, max_len), axis=1)"
   ]
  },
  {
   "cell_type": "code",
   "execution_count": 192,
   "id": "8e22cfd2",
   "metadata": {},
   "outputs": [],
   "source": [
    "df_em_1_token_10['Embeddings'] = df_em_1_token_10.apply(lambda row: vectorize_text(row['Preprocessed_texts_lemma'], navec, max_len), axis=1)"
   ]
  },
  {
   "cell_type": "markdown",
   "id": "8d090f2a",
   "metadata": {},
   "source": [
    "## Готовим данные для обучения"
   ]
  },
  {
   "cell_type": "markdown",
   "id": "c337ead7",
   "metadata": {},
   "source": [
    "### Выделяем данные для обучения и тестирования"
   ]
  },
  {
   "cell_type": "code",
   "execution_count": 13,
   "id": "79cf2941",
   "metadata": {},
   "outputs": [],
   "source": [
    "train, test = train_test_split(df_em_1_token_10, test_size=0.2, random_state = random_state)"
   ]
  },
  {
   "cell_type": "code",
   "execution_count": 17,
   "id": "35ec2dda",
   "metadata": {},
   "outputs": [
    {
     "data": {
      "text/plain": [
       "9220"
      ]
     },
     "execution_count": 17,
     "metadata": {},
     "output_type": "execute_result"
    }
   ],
   "source": [
    "len(train)+len(test)"
   ]
  },
  {
   "cell_type": "markdown",
   "id": "ba747659",
   "metadata": {},
   "source": [
    "### Разделяем метки классов и данные для обучения"
   ]
  },
  {
   "cell_type": "markdown",
   "id": "1594f200",
   "metadata": {},
   "source": [
    "Данные для обучения"
   ]
  },
  {
   "cell_type": "code",
   "execution_count": 198,
   "id": "e6beea13",
   "metadata": {},
   "outputs": [],
   "source": [
    "import numpy as np"
   ]
  },
  {
   "cell_type": "code",
   "execution_count": 199,
   "id": "599278cc",
   "metadata": {},
   "outputs": [],
   "source": [
    "x_train = np.array(train['Embeddings'].tolist()).reshape(len(train), vector_size * max_len)\n",
    "y_train = train['class']"
   ]
  },
  {
   "cell_type": "code",
   "execution_count": 200,
   "id": "ee852b6a",
   "metadata": {},
   "outputs": [
    {
     "data": {
      "text/plain": [
       "(7376, 3300)"
      ]
     },
     "execution_count": 200,
     "metadata": {},
     "output_type": "execute_result"
    }
   ],
   "source": [
    "x_train.shape"
   ]
  },
  {
   "cell_type": "code",
   "execution_count": 201,
   "id": "b0e9bfc8",
   "metadata": {},
   "outputs": [
    {
     "data": {
      "text/plain": [
       "5559    0\n",
       "8376    0\n",
       "5562    0\n",
       "1491    0\n",
       "6375    1\n",
       "       ..\n",
       "5734    0\n",
       "5191    0\n",
       "5390    4\n",
       "860     9\n",
       "7270    0\n",
       "Name: class, Length: 7376, dtype: int64"
      ]
     },
     "execution_count": 201,
     "metadata": {},
     "output_type": "execute_result"
    }
   ],
   "source": [
    "y_train"
   ]
  },
  {
   "cell_type": "markdown",
   "id": "03842f38",
   "metadata": {},
   "source": [
    "Данные для тестирования"
   ]
  },
  {
   "cell_type": "code",
   "execution_count": 202,
   "id": "82d4d65c",
   "metadata": {},
   "outputs": [],
   "source": [
    "x_test = np.array(test['Embeddings'].tolist()).reshape(len(test), vector_size * max_len)\n",
    "y_test = test['class']"
   ]
  },
  {
   "cell_type": "code",
   "execution_count": 203,
   "id": "5cbcc879",
   "metadata": {},
   "outputs": [
    {
     "data": {
      "text/plain": [
       "(1844, 3300)"
      ]
     },
     "execution_count": 203,
     "metadata": {},
     "output_type": "execute_result"
    }
   ],
   "source": [
    "x_test.shape"
   ]
  },
  {
   "cell_type": "code",
   "execution_count": 204,
   "id": "de6710fe",
   "metadata": {},
   "outputs": [
    {
     "data": {
      "text/plain": [
       "7810    0\n",
       "1180    0\n",
       "5865    2\n",
       "623     0\n",
       "711     5\n",
       "       ..\n",
       "4401    0\n",
       "7481    0\n",
       "4467    4\n",
       "4539    0\n",
       "1323    2\n",
       "Name: class, Length: 1844, dtype: int64"
      ]
     },
     "execution_count": 204,
     "metadata": {},
     "output_type": "execute_result"
    }
   ],
   "source": [
    "y_test"
   ]
  },
  {
   "cell_type": "markdown",
   "id": "86b5f693",
   "metadata": {},
   "source": [
    "## Создаем модели машинного обучения"
   ]
  },
  {
   "cell_type": "code",
   "execution_count": 205,
   "id": "68e9f4ab",
   "metadata": {},
   "outputs": [],
   "source": [
    "def train_test(clf, X_train, X_test, y_train, y_test):\n",
    "    clf.fit(X_train, y_train)\n",
    "    train_acc = accuracy_score(y_train, clf.predict(X_train))\n",
    "    test_acc = accuracy_score(y_test, clf.predict(X_test))\n",
    "    f1_macro = f1_score(y_test, clf.predict(X_test), average='macro')\n",
    "    f1_micro = f1_score(y_test, clf.predict(X_test), average='micro')\n",
    "    f1_weighted = f1_score(y_test, clf.predict(X_test), average='weighted')\n",
    "    return train_acc, test_acc, f1_macro, f1_micro, f1_weighted"
   ]
  },
  {
   "cell_type": "code",
   "execution_count": 206,
   "id": "7e3873f8",
   "metadata": {},
   "outputs": [],
   "source": [
    "lr = LogisticRegression(random_state=random_state, max_iter=500)\n",
    "svc = SVC(probability=True)\n",
    "rforest = RandomForestClassifier(random_state=random_state)\n",
    "dtree = DecisionTreeClassifier()\n",
    "nb = GaussianNB()\n",
    "gb = GradientBoostingClassifier(random_state=random_state)"
   ]
  },
  {
   "cell_type": "code",
   "execution_count": 207,
   "id": "65331fb8",
   "metadata": {},
   "outputs": [],
   "source": [
    "clifs = [lr, svc, rforest, dtree, nb, gb]"
   ]
  },
  {
   "cell_type": "markdown",
   "id": "dd6a254d",
   "metadata": {},
   "source": [
    "# Ансамблевые методы"
   ]
  },
  {
   "cell_type": "markdown",
   "id": "677b308f",
   "metadata": {},
   "source": [
    "## Мажоритарное голосование"
   ]
  },
  {
   "cell_type": "code",
   "execution_count": 208,
   "id": "bb04ec5a",
   "metadata": {},
   "outputs": [],
   "source": [
    "from sklearn.ensemble import VotingClassifier"
   ]
  },
  {
   "cell_type": "code",
   "execution_count": 209,
   "id": "e92bf877",
   "metadata": {},
   "outputs": [],
   "source": [
    "eclf_hard = VotingClassifier(estimators=[('lr', lr), ('svc', svc), ('rforest', rforest), ('dtree', dtree), ('nb', nb), ('gb', gb)], voting='hard')"
   ]
  },
  {
   "cell_type": "code",
   "execution_count": 210,
   "id": "15842dab",
   "metadata": {},
   "outputs": [
    {
     "name": "stderr",
     "output_type": "stream",
     "text": [
      "/Users/kholann/opt/anaconda3/lib/python3.9/site-packages/sklearn/linear_model/_logistic.py:814: ConvergenceWarning: lbfgs failed to converge (status=1):\n",
      "STOP: TOTAL NO. of ITERATIONS REACHED LIMIT.\n",
      "\n",
      "Increase the number of iterations (max_iter) or scale the data as shown in:\n",
      "    https://scikit-learn.org/stable/modules/preprocessing.html\n",
      "Please also refer to the documentation for alternative solver options:\n",
      "    https://scikit-learn.org/stable/modules/linear_model.html#logistic-regression\n",
      "  n_iter_i = _check_optimize_result(\n"
     ]
    },
    {
     "data": {
      "text/plain": [
       "VotingClassifier(estimators=[('lr',\n",
       "                              LogisticRegression(max_iter=500,\n",
       "                                                 random_state=42)),\n",
       "                             ('svc', SVC(probability=True)),\n",
       "                             ('rforest',\n",
       "                              RandomForestClassifier(random_state=42)),\n",
       "                             ('dtree', DecisionTreeClassifier()),\n",
       "                             ('nb', GaussianNB()),\n",
       "                             ('gb',\n",
       "                              GradientBoostingClassifier(random_state=42))])"
      ]
     },
     "execution_count": 210,
     "metadata": {},
     "output_type": "execute_result"
    }
   ],
   "source": [
    "eclf_hard.fit(x_train, y_train)"
   ]
  },
  {
   "cell_type": "code",
   "execution_count": 211,
   "id": "67d93718",
   "metadata": {},
   "outputs": [],
   "source": [
    "predicted = eclf_hard.predict(x_test)"
   ]
  },
  {
   "cell_type": "code",
   "execution_count": 39,
   "id": "73820fca",
   "metadata": {},
   "outputs": [],
   "source": [
    "#Preprocessed_texts"
   ]
  },
  {
   "cell_type": "code",
   "execution_count": 40,
   "id": "8e03a261",
   "metadata": {},
   "outputs": [
    {
     "name": "stdout",
     "output_type": "stream",
     "text": [
      "              precision    recall  f1-score   support\n",
      "\n",
      "           0       0.64      0.99      0.78      1166\n",
      "           1       1.00      0.00      0.01       203\n",
      "           2       0.65      0.07      0.13       152\n",
      "           3       0.40      0.02      0.04       101\n",
      "           4       0.50      0.03      0.07        86\n",
      "           5       1.00      0.08      0.14        26\n",
      "           6       0.67      0.08      0.15        24\n",
      "           7       0.00      0.00      0.00        15\n",
      "           8       0.00      0.00      0.00        14\n",
      "           9       0.60      0.17      0.26        18\n",
      "          10       0.00      0.00      0.00         8\n",
      "          11       0.00      0.00      0.00        15\n",
      "          12       0.00      0.00      0.00        11\n",
      "          13       0.00      0.00      0.00         3\n",
      "          14       0.00      0.00      0.00         2\n",
      "\n",
      "    accuracy                           0.64      1844\n",
      "   macro avg       0.36      0.10      0.11      1844\n",
      "weighted avg       0.64      0.64      0.52      1844\n",
      "\n"
     ]
    },
    {
     "name": "stderr",
     "output_type": "stream",
     "text": [
      "/Users/kholann/opt/anaconda3/lib/python3.9/site-packages/sklearn/metrics/_classification.py:1318: UndefinedMetricWarning: Precision and F-score are ill-defined and being set to 0.0 in labels with no predicted samples. Use `zero_division` parameter to control this behavior.\n",
      "  _warn_prf(average, modifier, msg_start, len(result))\n",
      "/Users/kholann/opt/anaconda3/lib/python3.9/site-packages/sklearn/metrics/_classification.py:1318: UndefinedMetricWarning: Precision and F-score are ill-defined and being set to 0.0 in labels with no predicted samples. Use `zero_division` parameter to control this behavior.\n",
      "  _warn_prf(average, modifier, msg_start, len(result))\n",
      "/Users/kholann/opt/anaconda3/lib/python3.9/site-packages/sklearn/metrics/_classification.py:1318: UndefinedMetricWarning: Precision and F-score are ill-defined and being set to 0.0 in labels with no predicted samples. Use `zero_division` parameter to control this behavior.\n",
      "  _warn_prf(average, modifier, msg_start, len(result))\n"
     ]
    }
   ],
   "source": [
    "print(metrics.classification_report(y_test, predicted))"
   ]
  },
  {
   "cell_type": "code",
   "execution_count": 41,
   "id": "f7d3416c",
   "metadata": {},
   "outputs": [],
   "source": [
    "import matplotlib.pyplot as plt"
   ]
  },
  {
   "cell_type": "code",
   "execution_count": 42,
   "id": "a0b0fdd6",
   "metadata": {},
   "outputs": [
    {
     "data": {
      "image/png": "[encoded data removed]",
      "text/plain": [
       "<Figure size 640x480 with 2 Axes>"
      ]
     },
     "metadata": {},
     "output_type": "display_data"
    }
   ],
   "source": [
    "confusion_matrix = metrics.confusion_matrix(y_test, predicted)\n",
    "cm_display = metrics.ConfusionMatrixDisplay(confusion_matrix = confusion_matrix, display_labels = [\"0\", \"1\", \"2\", \"3\", \"4\",\"5\",\"6\",\"7\",\"8\",\"9\",\"10\",\"11\",\"12\",\"13\",\"14\"])\n",
    "\n",
    "cm_display.plot()\n",
    "plt.show()"
   ]
  },
  {
   "cell_type": "code",
   "execution_count": 43,
   "id": "505920e2",
   "metadata": {},
   "outputs": [],
   "source": [
    "def scores(clf, X_train, X_test, y_train, y_test):\n",
    "    train_acc = accuracy_score(y_train, clf.predict(X_train))\n",
    "    test_acc = accuracy_score(y_test, clf.predict(X_test))\n",
    "    f1_macro = f1_score(y_test, clf.predict(X_test), average='macro')\n",
    "    f1_micro = f1_score(y_test, clf.predict(X_test), average='micro')\n",
    "    f1_weighted = f1_score(y_test, clf.predict(X_test), average='weighted')\n",
    "    return train_acc, test_acc, f1_macro, f1_micro, f1_weighted"
   ]
  },
  {
   "cell_type": "code",
   "execution_count": 44,
   "id": "1476cd2b",
   "metadata": {},
   "outputs": [
    {
     "name": "stdout",
     "output_type": "stream",
     "text": [
      "| Classifier                | Training Accuracy | Test Accuracy | F1_macro | F1_micro | F1_weighted |\n",
      "| ------------------------- | ----------------- | ------------- | -------- | -------- | ----------- |\n",
      "| VotingClassifier          |         0.9101139 |     0.6409978 | 0.1050089 | 0.6409978 |   0.5168220 |\n"
     ]
    }
   ],
   "source": [
    "print(\"| {:25} | {} | {} | {} | {} | {} |\".format(\"Classifier\", \"Training Accuracy\", \"Test Accuracy\", \"F1_macro\", \"F1_micro\", \"F1_weighted\"))\n",
    "print(\"| {} | {} | {} | {} | {} | {} |\".format(\"-\"*25, \"-\"*17, \"-\"*13, \"-\"*8, \"-\"*8, \"-\"*11))\n",
    "clf_name = eclf_hard.__class__.__name__\n",
    "train_acc, test_acc, f1_macro, f1_micro, f1_weighted  = scores(eclf_hard, x_train, x_test, y_train, y_test)\n",
    "print(\"| {:25} | {:17.7f} | {:13.7f} | {:8.7f} | {:8.7f} | {:11.7f} |\".format(clf_name, train_acc, test_acc, f1_macro, f1_micro, f1_weighted))"
   ]
  },
  {
   "cell_type": "code",
   "execution_count": 126,
   "id": "666dcdc5",
   "metadata": {},
   "outputs": [],
   "source": [
    "#Preprocessed_texts_no_punct"
   ]
  },
  {
   "cell_type": "code",
   "execution_count": 127,
   "id": "e0bd01b6",
   "metadata": {},
   "outputs": [
    {
     "name": "stdout",
     "output_type": "stream",
     "text": [
      "              precision    recall  f1-score   support\n",
      "\n",
      "           0       0.64      0.99      0.78      1166\n",
      "           1       0.50      0.00      0.01       203\n",
      "           2       0.72      0.09      0.15       152\n",
      "           3       0.50      0.02      0.04       101\n",
      "           4       0.50      0.03      0.07        86\n",
      "           5       1.00      0.08      0.14        26\n",
      "           6       0.67      0.08      0.15        24\n",
      "           7       0.00      0.00      0.00        15\n",
      "           8       0.00      0.00      0.00        14\n",
      "           9       0.50      0.17      0.25        18\n",
      "          10       0.00      0.00      0.00         8\n",
      "          11       1.00      0.07      0.12        15\n",
      "          12       0.00      0.00      0.00        11\n",
      "          13       0.00      0.00      0.00         3\n",
      "          14       0.00      0.00      0.00         2\n",
      "\n",
      "    accuracy                           0.64      1844\n",
      "   macro avg       0.40      0.10      0.11      1844\n",
      "weighted avg       0.61      0.64      0.52      1844\n",
      "\n"
     ]
    },
    {
     "name": "stderr",
     "output_type": "stream",
     "text": [
      "/Users/kholann/opt/anaconda3/lib/python3.9/site-packages/sklearn/metrics/_classification.py:1318: UndefinedMetricWarning: Precision and F-score are ill-defined and being set to 0.0 in labels with no predicted samples. Use `zero_division` parameter to control this behavior.\n",
      "  _warn_prf(average, modifier, msg_start, len(result))\n",
      "/Users/kholann/opt/anaconda3/lib/python3.9/site-packages/sklearn/metrics/_classification.py:1318: UndefinedMetricWarning: Precision and F-score are ill-defined and being set to 0.0 in labels with no predicted samples. Use `zero_division` parameter to control this behavior.\n",
      "  _warn_prf(average, modifier, msg_start, len(result))\n",
      "/Users/kholann/opt/anaconda3/lib/python3.9/site-packages/sklearn/metrics/_classification.py:1318: UndefinedMetricWarning: Precision and F-score are ill-defined and being set to 0.0 in labels with no predicted samples. Use `zero_division` parameter to control this behavior.\n",
      "  _warn_prf(average, modifier, msg_start, len(result))\n"
     ]
    }
   ],
   "source": [
    "print(metrics.classification_report(y_test, predicted))"
   ]
  },
  {
   "cell_type": "code",
   "execution_count": 128,
   "id": "f6c58791",
   "metadata": {},
   "outputs": [
    {
     "data": {
      "image/png": "[encoded data removed]",
      "text/plain": [
       "<Figure size 640x480 with 2 Axes>"
      ]
     },
     "metadata": {},
     "output_type": "display_data"
    }
   ],
   "source": [
    "confusion_matrix = metrics.confusion_matrix(y_test, predicted)\n",
    "cm_display = metrics.ConfusionMatrixDisplay(confusion_matrix = confusion_matrix, display_labels = [\"0\", \"1\", \"2\", \"3\", \"4\",\"5\",\"6\",\"7\",\"8\",\"9\",\"10\",\"11\",\"12\",\"13\",\"14\"])\n",
    "\n",
    "cm_display.plot()\n",
    "plt.show()"
   ]
  },
  {
   "cell_type": "code",
   "execution_count": 129,
   "id": "4ceff71d",
   "metadata": {},
   "outputs": [
    {
     "name": "stdout",
     "output_type": "stream",
     "text": [
      "| Classifier                | Training Accuracy | Test Accuracy | F1_macro | F1_micro | F1_weighted |\n",
      "| ------------------------- | ----------------- | ------------- | -------- | -------- | ----------- |\n",
      "| VotingClassifier          |         0.9368221 |     0.6420824 | 0.1141110 | 0.6420824 |   0.5191975 |\n"
     ]
    }
   ],
   "source": [
    "print(\"| {:25} | {} | {} | {} | {} | {} |\".format(\"Classifier\", \"Training Accuracy\", \"Test Accuracy\", \"F1_macro\", \"F1_micro\", \"F1_weighted\"))\n",
    "print(\"| {} | {} | {} | {} | {} | {} |\".format(\"-\"*25, \"-\"*17, \"-\"*13, \"-\"*8, \"-\"*8, \"-\"*11))\n",
    "clf_name = eclf_hard.__class__.__name__\n",
    "train_acc, test_acc, f1_macro, f1_micro, f1_weighted  = scores(eclf_hard, x_train, x_test, y_train, y_test)\n",
    "print(\"| {:25} | {:17.7f} | {:13.7f} | {:8.7f} | {:8.7f} | {:11.7f} |\".format(clf_name, train_acc, test_acc, f1_macro, f1_micro, f1_weighted))"
   ]
  },
  {
   "cell_type": "code",
   "execution_count": 212,
   "id": "5dc79cd5",
   "metadata": {},
   "outputs": [],
   "source": [
    "#Preprocessed_texts_lemma_em"
   ]
  },
  {
   "cell_type": "code",
   "execution_count": 213,
   "id": "70e0b02c",
   "metadata": {},
   "outputs": [
    {
     "name": "stdout",
     "output_type": "stream",
     "text": [
      "              precision    recall  f1-score   support\n",
      "\n",
      "           0       0.64      0.99      0.78      1166\n",
      "           1       0.50      0.00      0.01       203\n",
      "           2       0.64      0.06      0.11       152\n",
      "           3       0.29      0.02      0.04       101\n",
      "           4       0.67      0.05      0.09        86\n",
      "           5       1.00      0.08      0.14        26\n",
      "           6       0.67      0.08      0.15        24\n",
      "           7       0.00      0.00      0.00        15\n",
      "           8       0.00      0.00      0.00        14\n",
      "           9       0.60      0.17      0.26        18\n",
      "          10       0.00      0.00      0.00         8\n",
      "          11       0.00      0.00      0.00        15\n",
      "          12       0.00      0.00      0.00        11\n",
      "          13       0.00      0.00      0.00         3\n",
      "          14       0.00      0.00      0.00         2\n",
      "\n",
      "    accuracy                           0.64      1844\n",
      "   macro avg       0.33      0.10      0.10      1844\n",
      "weighted avg       0.59      0.64      0.52      1844\n",
      "\n"
     ]
    },
    {
     "name": "stderr",
     "output_type": "stream",
     "text": [
      "/Users/kholann/opt/anaconda3/lib/python3.9/site-packages/sklearn/metrics/_classification.py:1318: UndefinedMetricWarning: Precision and F-score are ill-defined and being set to 0.0 in labels with no predicted samples. Use `zero_division` parameter to control this behavior.\n",
      "  _warn_prf(average, modifier, msg_start, len(result))\n",
      "/Users/kholann/opt/anaconda3/lib/python3.9/site-packages/sklearn/metrics/_classification.py:1318: UndefinedMetricWarning: Precision and F-score are ill-defined and being set to 0.0 in labels with no predicted samples. Use `zero_division` parameter to control this behavior.\n",
      "  _warn_prf(average, modifier, msg_start, len(result))\n",
      "/Users/kholann/opt/anaconda3/lib/python3.9/site-packages/sklearn/metrics/_classification.py:1318: UndefinedMetricWarning: Precision and F-score are ill-defined and being set to 0.0 in labels with no predicted samples. Use `zero_division` parameter to control this behavior.\n",
      "  _warn_prf(average, modifier, msg_start, len(result))\n"
     ]
    }
   ],
   "source": [
    "print(metrics.classification_report(y_test, predicted))"
   ]
  },
  {
   "cell_type": "code",
   "execution_count": 214,
   "id": "216ed315",
   "metadata": {},
   "outputs": [
    {
     "data": {
      "image/png": "[encoded data removed]",
      "text/plain": [
       "<Figure size 640x480 with 2 Axes>"
      ]
     },
     "metadata": {},
     "output_type": "display_data"
    }
   ],
   "source": [
    "confusion_matrix = metrics.confusion_matrix(y_test, predicted)\n",
    "cm_display = metrics.ConfusionMatrixDisplay(confusion_matrix = confusion_matrix, display_labels = [\"0\", \"1\", \"2\", \"3\", \"4\",\"5\",\"6\",\"7\",\"8\",\"9\",\"10\",\"11\",\"12\",\"13\",\"14\"])\n",
    "\n",
    "cm_display.plot()\n",
    "plt.show()"
   ]
  },
  {
   "cell_type": "code",
   "execution_count": 215,
   "id": "1977712a",
   "metadata": {},
   "outputs": [
    {
     "name": "stdout",
     "output_type": "stream",
     "text": [
      "| Classifier                | Training Accuracy | Test Accuracy | F1_macro | F1_micro | F1_weighted |\n",
      "| ------------------------- | ----------------- | ------------- | -------- | -------- | ----------- |\n",
      "| VotingClassifier          |         0.9059111 |     0.6404555 | 0.1049588 | 0.6404555 |   0.5160000 |\n"
     ]
    }
   ],
   "source": [
    "print(\"| {:25} | {} | {} | {} | {} | {} |\".format(\"Classifier\", \"Training Accuracy\", \"Test Accuracy\", \"F1_macro\", \"F1_micro\", \"F1_weighted\"))\n",
    "print(\"| {} | {} | {} | {} | {} | {} |\".format(\"-\"*25, \"-\"*17, \"-\"*13, \"-\"*8, \"-\"*8, \"-\"*11))\n",
    "clf_name = eclf_hard.__class__.__name__\n",
    "train_acc, test_acc, f1_macro, f1_micro, f1_weighted  = scores(eclf_hard, x_train, x_test, y_train, y_test)\n",
    "print(\"| {:25} | {:17.7f} | {:13.7f} | {:8.7f} | {:8.7f} | {:11.7f} |\".format(clf_name, train_acc, test_acc, f1_macro, f1_micro, f1_weighted))"
   ]
  },
  {
   "cell_type": "markdown",
   "id": "b03bfe3c",
   "metadata": {},
   "source": [
    "## Мягкое голосование"
   ]
  },
  {
   "cell_type": "code",
   "execution_count": 216,
   "id": "aa6def0c",
   "metadata": {},
   "outputs": [],
   "source": [
    "eclf_soft = VotingClassifier(estimators=[('lr', lr), ('svc', svc), ('rforest', rforest), ('dtree', dtree), ('nb', nb), ('gb', gb)], voting='soft')"
   ]
  },
  {
   "cell_type": "code",
   "execution_count": 217,
   "id": "9af938f9",
   "metadata": {},
   "outputs": [
    {
     "name": "stderr",
     "output_type": "stream",
     "text": [
      "/Users/kholann/opt/anaconda3/lib/python3.9/site-packages/sklearn/linear_model/_logistic.py:814: ConvergenceWarning: lbfgs failed to converge (status=1):\n",
      "STOP: TOTAL NO. of ITERATIONS REACHED LIMIT.\n",
      "\n",
      "Increase the number of iterations (max_iter) or scale the data as shown in:\n",
      "    https://scikit-learn.org/stable/modules/preprocessing.html\n",
      "Please also refer to the documentation for alternative solver options:\n",
      "    https://scikit-learn.org/stable/modules/linear_model.html#logistic-regression\n",
      "  n_iter_i = _check_optimize_result(\n"
     ]
    },
    {
     "data": {
      "text/plain": [
       "VotingClassifier(estimators=[('lr',\n",
       "                              LogisticRegression(max_iter=500,\n",
       "                                                 random_state=42)),\n",
       "                             ('svc', SVC(probability=True)),\n",
       "                             ('rforest',\n",
       "                              RandomForestClassifier(random_state=42)),\n",
       "                             ('dtree', DecisionTreeClassifier()),\n",
       "                             ('nb', GaussianNB()),\n",
       "                             ('gb',\n",
       "                              GradientBoostingClassifier(random_state=42))],\n",
       "                 voting='soft')"
      ]
     },
     "execution_count": 217,
     "metadata": {},
     "output_type": "execute_result"
    }
   ],
   "source": [
    "eclf_soft.fit(x_train, y_train)"
   ]
  },
  {
   "cell_type": "code",
   "execution_count": 218,
   "id": "1818a3ef",
   "metadata": {},
   "outputs": [],
   "source": [
    "predicted = eclf_soft.predict(x_test)"
   ]
  },
  {
   "cell_type": "code",
   "execution_count": 48,
   "id": "c8801f84",
   "metadata": {},
   "outputs": [],
   "source": [
    "#Preprocessed_texts"
   ]
  },
  {
   "cell_type": "code",
   "execution_count": 49,
   "id": "9cc8164f",
   "metadata": {},
   "outputs": [
    {
     "name": "stdout",
     "output_type": "stream",
     "text": [
      "              precision    recall  f1-score   support\n",
      "\n",
      "           0       0.65      0.96      0.78      1166\n",
      "           1       0.14      0.01      0.03       203\n",
      "           2       0.42      0.11      0.17       152\n",
      "           3       0.17      0.02      0.04       101\n",
      "           4       0.46      0.07      0.12        86\n",
      "           5       0.67      0.08      0.14        26\n",
      "           6       0.67      0.08      0.15        24\n",
      "           7       0.00      0.00      0.00        15\n",
      "           8       0.00      0.00      0.00        14\n",
      "           9       0.43      0.17      0.24        18\n",
      "          10       0.00      0.00      0.00         8\n",
      "          11       0.00      0.00      0.00        15\n",
      "          12       0.00      0.00      0.00        11\n",
      "          13       0.00      0.00      0.00         3\n",
      "          14       0.00      0.00      0.00         2\n",
      "\n",
      "    accuracy                           0.63      1844\n",
      "   macro avg       0.24      0.10      0.11      1844\n",
      "weighted avg       0.51      0.63      0.52      1844\n",
      "\n"
     ]
    },
    {
     "name": "stderr",
     "output_type": "stream",
     "text": [
      "/Users/kholann/opt/anaconda3/lib/python3.9/site-packages/sklearn/metrics/_classification.py:1318: UndefinedMetricWarning: Precision and F-score are ill-defined and being set to 0.0 in labels with no predicted samples. Use `zero_division` parameter to control this behavior.\n",
      "  _warn_prf(average, modifier, msg_start, len(result))\n",
      "/Users/kholann/opt/anaconda3/lib/python3.9/site-packages/sklearn/metrics/_classification.py:1318: UndefinedMetricWarning: Precision and F-score are ill-defined and being set to 0.0 in labels with no predicted samples. Use `zero_division` parameter to control this behavior.\n",
      "  _warn_prf(average, modifier, msg_start, len(result))\n",
      "/Users/kholann/opt/anaconda3/lib/python3.9/site-packages/sklearn/metrics/_classification.py:1318: UndefinedMetricWarning: Precision and F-score are ill-defined and being set to 0.0 in labels with no predicted samples. Use `zero_division` parameter to control this behavior.\n",
      "  _warn_prf(average, modifier, msg_start, len(result))\n"
     ]
    }
   ],
   "source": [
    "print(metrics.classification_report(y_test, predicted))"
   ]
  },
  {
   "cell_type": "code",
   "execution_count": 50,
   "id": "6c079300",
   "metadata": {},
   "outputs": [
    {
     "data": {
      "image/png": "[encoded data removed]",
      "text/plain": [
       "<Figure size 640x480 with 2 Axes>"
      ]
     },
     "metadata": {},
     "output_type": "display_data"
    }
   ],
   "source": [
    "confusion_matrix = metrics.confusion_matrix(y_test, predicted)\n",
    "cm_display = metrics.ConfusionMatrixDisplay(confusion_matrix = confusion_matrix, display_labels = [\"0\", \"1\", \"2\", \"3\", \"4\",\"5\",\"6\",\"7\",\"8\",\"9\",\"10\",\"11\",\"12\",\"13\",\"14\"])\n",
    "\n",
    "cm_display.plot()\n",
    "plt.show()"
   ]
  },
  {
   "cell_type": "code",
   "execution_count": 51,
   "id": "62c96a0e",
   "metadata": {},
   "outputs": [
    {
     "name": "stdout",
     "output_type": "stream",
     "text": [
      "| Classifier                | Training Accuracy | Test Accuracy | F1_macro | F1_micro | F1_weighted |\n",
      "| ------------------------- | ----------------- | ------------- | -------- | -------- | ----------- |\n",
      "| VotingClassifier          |         0.9372289 |     0.6285249 | 0.1101971 | 0.6285249 |   0.5207261 |\n"
     ]
    }
   ],
   "source": [
    "print(\"| {:25} | {} | {} | {} | {} | {} |\".format(\"Classifier\", \"Training Accuracy\", \"Test Accuracy\", \"F1_macro\", \"F1_micro\", \"F1_weighted\"))\n",
    "print(\"| {} | {} | {} | {} | {} | {} |\".format(\"-\"*25, \"-\"*17, \"-\"*13, \"-\"*8, \"-\"*8, \"-\"*11))\n",
    "clf_name = eclf_soft.__class__.__name__\n",
    "train_acc, test_acc, f1_macro, f1_micro, f1_weighted  = scores(eclf_soft, x_train, x_test, y_train, y_test)\n",
    "print(\"| {:25} | {:17.7f} | {:13.7f} | {:8.7f} | {:8.7f} | {:11.7f} |\".format(clf_name, train_acc, test_acc, f1_macro, f1_micro, f1_weighted))"
   ]
  },
  {
   "cell_type": "code",
   "execution_count": 133,
   "id": "1d5fa33c",
   "metadata": {},
   "outputs": [],
   "source": [
    "#Preprocessed_texts_no_punct"
   ]
  },
  {
   "cell_type": "code",
   "execution_count": 134,
   "id": "539474f0",
   "metadata": {},
   "outputs": [
    {
     "name": "stdout",
     "output_type": "stream",
     "text": [
      "              precision    recall  f1-score   support\n",
      "\n",
      "           0       0.65      0.98      0.78      1166\n",
      "           1       0.32      0.03      0.05       203\n",
      "           2       0.51      0.12      0.19       152\n",
      "           3       0.15      0.02      0.04       101\n",
      "           4       0.38      0.03      0.06        86\n",
      "           5       0.67      0.08      0.14        26\n",
      "           6       1.00      0.08      0.15        24\n",
      "           7       0.00      0.00      0.00        15\n",
      "           8       0.00      0.00      0.00        14\n",
      "           9       0.50      0.17      0.25        18\n",
      "          10       0.00      0.00      0.00         8\n",
      "          11       0.50      0.07      0.12        15\n",
      "          12       0.00      0.00      0.00        11\n",
      "          13       0.00      0.00      0.00         3\n",
      "          14       0.00      0.00      0.00         2\n",
      "\n",
      "    accuracy                           0.64      1844\n",
      "   macro avg       0.31      0.10      0.12      1844\n",
      "weighted avg       0.54      0.64      0.53      1844\n",
      "\n"
     ]
    },
    {
     "name": "stderr",
     "output_type": "stream",
     "text": [
      "/Users/kholann/opt/anaconda3/lib/python3.9/site-packages/sklearn/metrics/_classification.py:1318: UndefinedMetricWarning: Precision and F-score are ill-defined and being set to 0.0 in labels with no predicted samples. Use `zero_division` parameter to control this behavior.\n",
      "  _warn_prf(average, modifier, msg_start, len(result))\n",
      "/Users/kholann/opt/anaconda3/lib/python3.9/site-packages/sklearn/metrics/_classification.py:1318: UndefinedMetricWarning: Precision and F-score are ill-defined and being set to 0.0 in labels with no predicted samples. Use `zero_division` parameter to control this behavior.\n",
      "  _warn_prf(average, modifier, msg_start, len(result))\n",
      "/Users/kholann/opt/anaconda3/lib/python3.9/site-packages/sklearn/metrics/_classification.py:1318: UndefinedMetricWarning: Precision and F-score are ill-defined and being set to 0.0 in labels with no predicted samples. Use `zero_division` parameter to control this behavior.\n",
      "  _warn_prf(average, modifier, msg_start, len(result))\n"
     ]
    }
   ],
   "source": [
    "print(metrics.classification_report(y_test, predicted))"
   ]
  },
  {
   "cell_type": "code",
   "execution_count": 135,
   "id": "e7cd3beb",
   "metadata": {},
   "outputs": [
    {
     "data": {
      "image/png": "[encoded data removed]",
      "text/plain": [
       "<Figure size 640x480 with 2 Axes>"
      ]
     },
     "metadata": {},
     "output_type": "display_data"
    }
   ],
   "source": [
    "confusion_matrix = metrics.confusion_matrix(y_test, predicted)\n",
    "cm_display = metrics.ConfusionMatrixDisplay(confusion_matrix = confusion_matrix, display_labels = [\"0\", \"1\", \"2\", \"3\", \"4\",\"5\",\"6\",\"7\",\"8\",\"9\",\"10\",\"11\",\"12\",\"13\",\"14\"])\n",
    "\n",
    "cm_display.plot()\n",
    "plt.show()"
   ]
  },
  {
   "cell_type": "code",
   "execution_count": 136,
   "id": "e20bc558",
   "metadata": {},
   "outputs": [
    {
     "name": "stdout",
     "output_type": "stream",
     "text": [
      "| Classifier                | Training Accuracy | Test Accuracy | F1_macro | F1_micro | F1_weighted |\n",
      "| ------------------------- | ----------------- | ------------- | -------- | -------- | ----------- |\n",
      "| VotingClassifier          |         0.9597343 |     0.6366594 | 0.1189295 | 0.6366594 |   0.5266621 |\n"
     ]
    }
   ],
   "source": [
    "print(\"| {:25} | {} | {} | {} | {} | {} |\".format(\"Classifier\", \"Training Accuracy\", \"Test Accuracy\", \"F1_macro\", \"F1_micro\", \"F1_weighted\"))\n",
    "print(\"| {} | {} | {} | {} | {} | {} |\".format(\"-\"*25, \"-\"*17, \"-\"*13, \"-\"*8, \"-\"*8, \"-\"*11))\n",
    "clf_name = eclf_soft.__class__.__name__\n",
    "train_acc, test_acc, f1_macro, f1_micro, f1_weighted  = scores(eclf_soft, x_train, x_test, y_train, y_test)\n",
    "print(\"| {:25} | {:17.7f} | {:13.7f} | {:8.7f} | {:8.7f} | {:11.7f} |\".format(clf_name, train_acc, test_acc, f1_macro, f1_micro, f1_weighted))"
   ]
  },
  {
   "cell_type": "code",
   "execution_count": 219,
   "id": "78fa3d8d",
   "metadata": {},
   "outputs": [],
   "source": [
    "#Preprocessed_texts_lemma_em"
   ]
  },
  {
   "cell_type": "code",
   "execution_count": 220,
   "id": "f06662b8",
   "metadata": {},
   "outputs": [
    {
     "name": "stdout",
     "output_type": "stream",
     "text": [
      "              precision    recall  f1-score   support\n",
      "\n",
      "           0       0.65      0.96      0.77      1166\n",
      "           1       0.10      0.01      0.02       203\n",
      "           2       0.44      0.11      0.18       152\n",
      "           3       0.14      0.02      0.03       101\n",
      "           4       0.31      0.06      0.10        86\n",
      "           5       0.67      0.08      0.14        26\n",
      "           6       0.67      0.08      0.15        24\n",
      "           7       0.00      0.00      0.00        15\n",
      "           8       0.00      0.00      0.00        14\n",
      "           9       0.50      0.17      0.25        18\n",
      "          10       0.00      0.00      0.00         8\n",
      "          11       0.00      0.00      0.00        15\n",
      "          12       0.00      0.00      0.00        11\n",
      "          13       0.00      0.00      0.00         3\n",
      "          14       0.00      0.00      0.00         2\n",
      "\n",
      "    accuracy                           0.62      1844\n",
      "   macro avg       0.23      0.10      0.11      1844\n",
      "weighted avg       0.50      0.62      0.52      1844\n",
      "\n"
     ]
    },
    {
     "name": "stderr",
     "output_type": "stream",
     "text": [
      "/Users/kholann/opt/anaconda3/lib/python3.9/site-packages/sklearn/metrics/_classification.py:1318: UndefinedMetricWarning: Precision and F-score are ill-defined and being set to 0.0 in labels with no predicted samples. Use `zero_division` parameter to control this behavior.\n",
      "  _warn_prf(average, modifier, msg_start, len(result))\n",
      "/Users/kholann/opt/anaconda3/lib/python3.9/site-packages/sklearn/metrics/_classification.py:1318: UndefinedMetricWarning: Precision and F-score are ill-defined and being set to 0.0 in labels with no predicted samples. Use `zero_division` parameter to control this behavior.\n",
      "  _warn_prf(average, modifier, msg_start, len(result))\n",
      "/Users/kholann/opt/anaconda3/lib/python3.9/site-packages/sklearn/metrics/_classification.py:1318: UndefinedMetricWarning: Precision and F-score are ill-defined and being set to 0.0 in labels with no predicted samples. Use `zero_division` parameter to control this behavior.\n",
      "  _warn_prf(average, modifier, msg_start, len(result))\n"
     ]
    }
   ],
   "source": [
    "print(metrics.classification_report(y_test, predicted))"
   ]
  },
  {
   "cell_type": "code",
   "execution_count": 221,
   "id": "098f6ad8",
   "metadata": {},
   "outputs": [
    {
     "data": {
      "image/png": "[encoded data removed]",
      "text/plain": [
       "<Figure size 640x480 with 2 Axes>"
      ]
     },
     "metadata": {},
     "output_type": "display_data"
    }
   ],
   "source": [
    "confusion_matrix = metrics.confusion_matrix(y_test, predicted)\n",
    "cm_display = metrics.ConfusionMatrixDisplay(confusion_matrix = confusion_matrix, display_labels = [\"0\", \"1\", \"2\", \"3\", \"4\",\"5\",\"6\",\"7\",\"8\",\"9\",\"10\",\"11\",\"12\",\"13\",\"14\"])\n",
    "\n",
    "cm_display.plot()\n",
    "plt.show()"
   ]
  },
  {
   "cell_type": "code",
   "execution_count": 222,
   "id": "ef039cec",
   "metadata": {},
   "outputs": [
    {
     "name": "stdout",
     "output_type": "stream",
     "text": [
      "| Classifier                | Training Accuracy | Test Accuracy | F1_macro | F1_micro | F1_weighted |\n",
      "| ------------------------- | ----------------- | ------------- | -------- | -------- | ----------- |\n",
      "| VotingClassifier          |         0.9360087 |     0.6241866 | 0.1090944 | 0.6241866 |   0.5173165 |\n"
     ]
    }
   ],
   "source": [
    "print(\"| {:25} | {} | {} | {} | {} | {} |\".format(\"Classifier\", \"Training Accuracy\", \"Test Accuracy\", \"F1_macro\", \"F1_micro\", \"F1_weighted\"))\n",
    "print(\"| {} | {} | {} | {} | {} | {} |\".format(\"-\"*25, \"-\"*17, \"-\"*13, \"-\"*8, \"-\"*8, \"-\"*11))\n",
    "clf_name = eclf_soft.__class__.__name__\n",
    "train_acc, test_acc, f1_macro, f1_micro, f1_weighted  = scores(eclf_soft, x_train, x_test, y_train, y_test)\n",
    "print(\"| {:25} | {:17.7f} | {:13.7f} | {:8.7f} | {:8.7f} | {:11.7f} |\".format(clf_name, train_acc, test_acc, f1_macro, f1_micro, f1_weighted))"
   ]
  },
  {
   "cell_type": "markdown",
   "id": "1c36187b",
   "metadata": {},
   "source": [
    "## Обучаем модели машинного обучения"
   ]
  },
  {
   "cell_type": "code",
   "execution_count": 53,
   "id": "b6c6077d",
   "metadata": {},
   "outputs": [],
   "source": [
    "#Preprocessed_texts"
   ]
  },
  {
   "cell_type": "code",
   "execution_count": 54,
   "id": "56110bd8",
   "metadata": {},
   "outputs": [
    {
     "name": "stdout",
     "output_type": "stream",
     "text": [
      "| Classifier                | Training Accuracy | Test Accuracy | F1_macro | F1_micro | F1_weighted |\n",
      "| ------------------------- | ----------------- | ------------- | -------- | -------- | ----------- |\n"
     ]
    },
    {
     "name": "stderr",
     "output_type": "stream",
     "text": [
      "/Users/kholann/opt/anaconda3/lib/python3.9/site-packages/sklearn/linear_model/_logistic.py:814: ConvergenceWarning: lbfgs failed to converge (status=1):\n",
      "STOP: TOTAL NO. of ITERATIONS REACHED LIMIT.\n",
      "\n",
      "Increase the number of iterations (max_iter) or scale the data as shown in:\n",
      "    https://scikit-learn.org/stable/modules/preprocessing.html\n",
      "Please also refer to the documentation for alternative solver options:\n",
      "    https://scikit-learn.org/stable/modules/linear_model.html#logistic-regression\n",
      "  n_iter_i = _check_optimize_result(\n"
     ]
    },
    {
     "name": "stdout",
     "output_type": "stream",
     "text": [
      "| LogisticRegression        |         0.9025217 |     0.5276573 | 0.1130856 | 0.5276573 |   0.4950836 |\n",
      "| SVC                       |         0.7007863 |     0.6377440 | 0.0678464 | 0.6377440 |   0.5025198 |\n",
      "| RandomForestClassifier    |         0.9632592 |     0.6372017 | 0.1102073 | 0.6372017 |   0.5174832 |\n",
      "| DecisionTreeClassifier    |         0.9632592 |     0.4734273 | 0.1021337 | 0.4734273 |   0.4640743 |\n",
      "| GaussianNB                |         0.0389100 |     0.0330803 | 0.0115141 | 0.0330803 |   0.0434178 |\n",
      "| GradientBoostingClassifier |         0.7777928 |     0.5862256 | 0.0819257 | 0.5862256 |   0.4924734 |\n"
     ]
    }
   ],
   "source": [
    "# train and test them \n",
    "print(\"| {:25} | {} | {} | {} | {} | {} |\".format(\"Classifier\", \"Training Accuracy\", \"Test Accuracy\", \"F1_macro\", \"F1_micro\", \"F1_weighted\"))\n",
    "print(\"| {} | {} | {} | {} | {} | {} |\".format(\"-\"*25, \"-\"*17, \"-\"*13, \"-\"*8, \"-\"*8, \"-\"*11))\n",
    "for clf in clifs: \n",
    "    clf_name = clf.__class__.__name__\n",
    "    train_acc, test_acc, f1_macro, f1_micro, f1_weighted  = train_test(clf, x_train, x_test, y_train, y_test)\n",
    "    print(\"| {:25} | {:17.7f} | {:13.7f} | {:8.7f} | {:8.7f} | {:11.7f} |\".format(clf_name, train_acc, test_acc, f1_macro, f1_micro, f1_weighted))"
   ]
  },
  {
   "cell_type": "code",
   "execution_count": 138,
   "id": "17764493",
   "metadata": {},
   "outputs": [],
   "source": [
    "#Preprocessed_texts_no_punct"
   ]
  },
  {
   "cell_type": "code",
   "execution_count": 139,
   "id": "7021e052",
   "metadata": {},
   "outputs": [
    {
     "name": "stdout",
     "output_type": "stream",
     "text": [
      "| Classifier                | Training Accuracy | Test Accuracy | F1_macro | F1_micro | F1_weighted |\n",
      "| ------------------------- | ----------------- | ------------- | -------- | -------- | ----------- |\n",
      "| LogisticRegression        |         0.9295011 |     0.5271150 | 0.1228389 | 0.5271150 |   0.5046923 |\n",
      "| SVC                       |         0.7052603 |     0.6382863 | 0.0767339 | 0.6382863 |   0.5036190 |\n",
      "| RandomForestClassifier    |         0.9814262 |     0.6393709 | 0.1056661 | 0.6393709 |   0.5180271 |\n",
      "| DecisionTreeClassifier    |         0.9814262 |     0.4436009 | 0.1063360 | 0.4436009 |   0.4440960 |\n",
      "| GaussianNB                |         0.0123373 |     0.0103037 | 0.0104955 | 0.0103037 |   0.0105095 |\n",
      "| GradientBoostingClassifier |         0.7933839 |     0.5851410 | 0.0912319 | 0.5851410 |   0.4962020 |\n"
     ]
    }
   ],
   "source": [
    "print(\"| {:25} | {} | {} | {} | {} | {} |\".format(\"Classifier\", \"Training Accuracy\", \"Test Accuracy\", \"F1_macro\", \"F1_micro\", \"F1_weighted\"))\n",
    "print(\"| {} | {} | {} | {} | {} | {} |\".format(\"-\"*25, \"-\"*17, \"-\"*13, \"-\"*8, \"-\"*8, \"-\"*11))\n",
    "for clf in clifs: \n",
    "    clf_name = clf.__class__.__name__\n",
    "    train_acc, test_acc, f1_macro, f1_micro, f1_weighted  = train_test(clf, x_train, x_test, y_train, y_test)\n",
    "    print(\"| {:25} | {:17.7f} | {:13.7f} | {:8.7f} | {:8.7f} | {:11.7f} |\".format(clf_name, train_acc, test_acc, f1_macro, f1_micro, f1_weighted))"
   ]
  },
  {
   "cell_type": "code",
   "execution_count": 224,
   "id": "ff0e1e08",
   "metadata": {},
   "outputs": [],
   "source": [
    "#Preprocessed_texts_lemma"
   ]
  },
  {
   "cell_type": "code",
   "execution_count": 225,
   "id": "f81633c4",
   "metadata": {},
   "outputs": [
    {
     "name": "stdout",
     "output_type": "stream",
     "text": [
      "| Classifier                | Training Accuracy | Test Accuracy | F1_macro | F1_micro | F1_weighted |\n",
      "| ------------------------- | ----------------- | ------------- | -------- | -------- | ----------- |\n"
     ]
    },
    {
     "name": "stderr",
     "output_type": "stream",
     "text": [
      "/Users/kholann/opt/anaconda3/lib/python3.9/site-packages/sklearn/linear_model/_logistic.py:814: ConvergenceWarning: lbfgs failed to converge (status=1):\n",
      "STOP: TOTAL NO. of ITERATIONS REACHED LIMIT.\n",
      "\n",
      "Increase the number of iterations (max_iter) or scale the data as shown in:\n",
      "    https://scikit-learn.org/stable/modules/preprocessing.html\n",
      "Please also refer to the documentation for alternative solver options:\n",
      "    https://scikit-learn.org/stable/modules/linear_model.html#logistic-regression\n",
      "  n_iter_i = _check_optimize_result(\n"
     ]
    },
    {
     "name": "stdout",
     "output_type": "stream",
     "text": [
      "| LogisticRegression        |         0.8973698 |     0.5206074 | 0.1138981 | 0.5206074 |   0.4915423 |\n",
      "| SVC                       |         0.6990239 |     0.6366594 | 0.0659109 | 0.6366594 |   0.5003874 |\n",
      "| RandomForestClassifier    |         0.9616323 |     0.6366594 | 0.1114342 | 0.6366594 |   0.5198198 |\n",
      "| DecisionTreeClassifier    |         0.9616323 |     0.4620390 | 0.0988861 | 0.4620390 |   0.4618186 |\n",
      "| GaussianNB                |         0.0399946 |     0.0352495 | 0.0114393 | 0.0352495 |   0.0483441 |\n",
      "| GradientBoostingClassifier |         0.7802332 |     0.5900217 | 0.0735431 | 0.5900217 |   0.4919768 |\n"
     ]
    }
   ],
   "source": [
    "print(\"| {:25} | {} | {} | {} | {} | {} |\".format(\"Classifier\", \"Training Accuracy\", \"Test Accuracy\", \"F1_macro\", \"F1_micro\", \"F1_weighted\"))\n",
    "print(\"| {} | {} | {} | {} | {} | {} |\".format(\"-\"*25, \"-\"*17, \"-\"*13, \"-\"*8, \"-\"*8, \"-\"*11))\n",
    "for clf in clifs: \n",
    "    clf_name = clf.__class__.__name__\n",
    "    train_acc, test_acc, f1_macro, f1_micro, f1_weighted  = train_test(clf, x_train, x_test, y_train, y_test)\n",
    "    print(\"| {:25} | {:17.7f} | {:13.7f} | {:8.7f} | {:8.7f} | {:11.7f} |\".format(clf_name, train_acc, test_acc, f1_macro, f1_micro, f1_weighted))"
   ]
  },
  {
   "cell_type": "markdown",
   "id": "5eb649b8",
   "metadata": {},
   "source": [
    "## Оцениваем качество обучения на тестовом наборе данных"
   ]
  },
  {
   "cell_type": "markdown",
   "id": "d178cd07",
   "metadata": {},
   "source": [
    "Определяем долю правильных ответов (accuracy) на тестовом наборе данных"
   ]
  },
  {
   "cell_type": "code",
   "execution_count": 226,
   "id": "32ed490e",
   "metadata": {},
   "outputs": [],
   "source": [
    "#Preprocessed_texts_no_punct_lemma_em"
   ]
  },
  {
   "cell_type": "code",
   "execution_count": 230,
   "id": "6b1be342",
   "metadata": {},
   "outputs": [],
   "source": [
    "# max_len = 11 df_em_1_token_10 9220 записей c clean_text\n",
    "# 0.5558568329718004 на тексте как есть с пунктуацией и с эмодзи\n",
    "# 0.5374186550976139 на тексте без пунктуации и без эмодзи\n",
    "# 0.5482646420824295 лемматизированный текст с пунктуацией и с эмодзи"
   ]
  },
  {
   "cell_type": "code",
   "execution_count": 231,
   "id": "7c1549b0",
   "metadata": {},
   "outputs": [],
   "source": [
    "# df_em_1_token_10 9220 записей c clean_text\n",
    "# на тексте как есть с пунктуацией и с эмодзи\n",
    "\n",
    "# f1_score macro  = 0.12202621635120255\n",
    "# f1_score micro = 0.5558568329718004\n",
    "# f1_score weighted = 0.5221240288457648\n",
    "# f1_score average=None \n",
    "# array([0.72926448, 0.18362283, 0.21276596, 0.13664596, 0.15254237,\n",
    "#       0.04878049, 0.        , 0.        , 0.09090909, 0.27586207,\n",
    "#       0.        , 0.        , 0.        , 0.        , 0.        ])\n",
    "\n",
    "# на тексте без пунктуации и без эмодзи\n",
    "# f1_score macro  = 0.10644965939153658\n",
    "# f1_score micro = 0.5374186550976139\n",
    "# f1_score weighted = 0.5176721628807247\n",
    "# f1_score average = None \n",
    "# array([0.7152    , 0.12244898, 0.31012658, 0.15217391, 0.10526316,\n",
    " #      0.0625    , 0.        , 0.        , 0.        , 0.12903226,\n",
    " #      0.        , 0.        , 0.        , 0.        , 0.        ])\n",
    "\n",
    "# лемматизированный текст c пунктуацией и с эмодзи\n",
    "# f1_score macro  = 0.10655596088859548\n",
    "# f1_score micro = 0.5482646420824295\n",
    "# f1_score weighted = 0.5206993167971358\n",
    "# f1_score average = None \n",
    "# array([0.72459271, 0.14689266, 0.20074349, 0.08839779, 0.17021277,\n",
    " #      0.        , 0.        , 0.08      , 0.        , 0.1875    ,\n",
    "  #     0.        , 0.        , 0.        , 0.        , 0.        ])"
   ]
  },
  {
   "cell_type": "markdown",
   "id": "b5b5712e",
   "metadata": {},
   "source": [
    "## Применяем модель"
   ]
  },
  {
   "cell_type": "code",
   "execution_count": 232,
   "id": "cabaf60e",
   "metadata": {},
   "outputs": [],
   "source": [
    "#text = \"Хех и сразу музыка в голове\"\n",
    "#text = \"я даже неделю не могу продержаться 😭\"\n",
    "text = \"жизнь прекрасна!\""
   ]
  },
  {
   "cell_type": "markdown",
   "id": "e361e14b",
   "metadata": {},
   "source": [
    "Подготовка текста к обработке"
   ]
  },
  {
   "cell_type": "code",
   "execution_count": 233,
   "id": "c363245c",
   "metadata": {},
   "outputs": [],
   "source": [
    "preprocessed_text = preprocess_lemma_em(text)"
   ]
  },
  {
   "cell_type": "code",
   "execution_count": 234,
   "id": "9169d76f",
   "metadata": {},
   "outputs": [
    {
     "data": {
      "text/plain": [
       "['жизнь', 'прекрасна!']"
      ]
     },
     "execution_count": 234,
     "metadata": {},
     "output_type": "execute_result"
    }
   ],
   "source": [
    "preprocessed_text"
   ]
  },
  {
   "cell_type": "code",
   "execution_count": 235,
   "id": "69a97c41",
   "metadata": {},
   "outputs": [],
   "source": [
    "vectorized_text = vectorize_text(preprocessed_text, navec, max_len)"
   ]
  },
  {
   "cell_type": "code",
   "execution_count": 236,
   "id": "3f595a87",
   "metadata": {},
   "outputs": [
    {
     "data": {
      "text/plain": [
       "[array([-2.73285210e-02, -1.94620594e-01, -1.69510201e-01, -1.58291608e-01,\n",
       "         2.47969598e-01,  2.37294197e-01, -4.67231087e-02, -3.75020593e-01,\n",
       "        -3.06117833e-01,  8.46114848e-03, -1.93853632e-01, -3.08562636e-01,\n",
       "        -2.79389858e-01,  2.25109398e-01, -3.01646143e-01,  3.60722095e-01,\n",
       "        -4.42994386e-02,  2.28967205e-01,  2.35490263e-01, -2.85830677e-01,\n",
       "        -8.45961496e-02, -3.72325256e-02, -1.20135747e-01,  6.15459442e-01,\n",
       "         1.14343882e-01, -1.42356688e-02,  4.27563071e-01,  4.53989267e-01,\n",
       "         1.53825536e-01,  2.31566623e-01, -5.44217825e-01,  2.07250446e-01,\n",
       "         7.30184078e-01, -7.47062936e-02,  2.22465709e-01,  2.62596607e-01,\n",
       "         1.95609435e-01, -5.55571131e-02,  5.99178970e-01,  6.55301437e-02,\n",
       "        -1.41489888e-02,  1.39325052e-01,  3.17966014e-01, -5.35112381e-01,\n",
       "        -8.62428844e-02, -6.34264573e-02,  2.22086702e-02,  1.98050618e-01,\n",
       "         1.21000493e-02, -4.33144569e-01,  4.00262326e-01, -9.74982511e-03,\n",
       "        -5.61615050e-01,  6.93203151e-01,  3.22231166e-02, -1.55543149e-01,\n",
       "         8.82868692e-02,  6.03337958e-02, -8.97220299e-02,  3.70345503e-01,\n",
       "         2.11368911e-02, -5.21747947e-01, -3.03327739e-01,  1.92403868e-01,\n",
       "         1.76929280e-01, -7.27958739e-01, -4.81885403e-01,  1.44236892e-01,\n",
       "        -1.45181473e-02, -1.73296735e-01, -1.72962084e-01, -3.62691611e-01,\n",
       "         7.26629555e-01,  1.63641036e-01, -1.93721615e-02, -1.00228712e-02,\n",
       "         1.39471916e-02, -1.79204866e-01,  1.02743931e-01, -3.03340405e-01,\n",
       "        -9.07898247e-01,  2.37530783e-01,  4.82655801e-02,  3.80475745e-02,\n",
       "         1.47798702e-01,  1.27828587e-02, -1.88567892e-01, -6.69601932e-02,\n",
       "         2.82889038e-01,  1.23365946e-01,  2.82521248e-01, -2.30156735e-01,\n",
       "        -6.73061162e-02, -1.79652005e-01,  9.55729559e-02,  8.01731572e-02,\n",
       "        -4.35870409e-01, -5.13679504e-01, -4.26438481e-01, -4.25511688e-01,\n",
       "        -3.63009662e-04,  2.37681210e-01, -9.66088101e-02, -6.51256740e-02,\n",
       "         2.55632520e-01,  1.32872447e-01, -8.46650481e-01,  3.58956635e-01,\n",
       "        -4.05467898e-01,  3.15312971e-03, -7.44420337e-03,  1.68980151e-01,\n",
       "        -1.53903976e-01,  5.85532129e-01, -4.61506367e-01,  1.28670543e-01,\n",
       "        -3.20871651e-01, -2.75724560e-01,  4.40310687e-02, -1.24288566e-01,\n",
       "        -1.59888536e-01, -4.39331420e-02,  7.39529878e-02,  1.70662757e-02,\n",
       "        -5.49480282e-02, -1.11198917e-01, -3.19627114e-02, -2.17078820e-01,\n",
       "        -4.66416180e-01, -1.03601970e-01, -5.15332341e-01,  2.07804721e-02,\n",
       "        -6.77155107e-02,  1.21474646e-01, -2.01295435e-01, -4.80695702e-02,\n",
       "        -1.62414730e-01,  4.35125269e-02,  2.35497802e-01, -3.35454285e-01,\n",
       "         7.76794076e-01,  2.61869907e-01,  3.76155585e-01, -3.47824186e-01,\n",
       "        -2.70599604e-01,  1.57809705e-02,  6.21979117e-01,  2.52728671e-01,\n",
       "        -4.42876846e-01, -2.08471462e-01,  4.45282876e-01, -3.71539354e-01,\n",
       "         1.99173108e-01,  3.41295093e-01, -2.00942963e-01, -1.95576698e-01,\n",
       "         4.15319353e-01, -3.87291014e-01,  1.98772028e-01, -2.93808039e-02,\n",
       "        -9.32587624e-01,  1.92599922e-01,  1.54681891e-01,  4.36792314e-01,\n",
       "         1.14207327e-01, -1.11837819e-01, -2.84477919e-01, -2.76390761e-01,\n",
       "        -9.97721311e-03,  3.41006398e-01,  9.91321355e-02,  3.16335112e-01,\n",
       "         4.38416719e-01,  7.04344571e-01,  1.31565288e-01, -1.04957325e-02,\n",
       "        -6.77624717e-02, -7.94226348e-01, -2.93727845e-01,  1.88822523e-01,\n",
       "        -8.42231750e-01, -5.04217669e-02, -3.30582678e-01,  2.69350320e-01,\n",
       "        -5.51472664e-01, -1.91102564e-01, -8.18750679e-01, -2.81818151e-01,\n",
       "         4.79397662e-02,  3.84843469e-01, -2.20635891e-01, -1.77870631e-01,\n",
       "        -5.33036828e-01,  7.67790601e-02, -7.13078678e-02, -1.15378380e-01,\n",
       "         1.85887337e-01, -9.11988467e-02,  6.36006296e-01,  3.85344088e-01,\n",
       "         3.05533350e-01,  1.14887968e-01, -1.79450184e-01, -1.80919260e-01,\n",
       "         2.84590811e-01,  2.81440288e-01,  1.62452646e-02, -3.04930747e-01,\n",
       "        -5.74191034e-01, -4.19046164e-01, -2.20925555e-01, -3.33172530e-01,\n",
       "        -1.46698609e-01, -7.19979554e-02, -1.71303988e-01,  2.20974106e-02,\n",
       "         3.54455173e-01,  3.50645185e-01,  1.20492652e-01,  1.20681666e-01,\n",
       "         2.33395502e-01,  4.38303173e-01, -8.15970302e-02, -2.65453100e-01,\n",
       "         1.02079540e-01, -1.57348718e-03,  1.30748078e-01, -1.79361984e-01,\n",
       "        -3.40644449e-01,  2.85024345e-01,  4.84175354e-01, -2.62302727e-01,\n",
       "        -2.36795381e-01, -2.99717225e-02,  8.16887558e-01,  1.59387663e-01,\n",
       "        -2.70927668e-01, -3.30057256e-02,  2.54182726e-01,  5.05926132e-01,\n",
       "        -4.54889685e-02,  9.29094791e-01,  3.43143605e-02, -3.04717589e-02,\n",
       "        -1.22781940e-01,  2.14829713e-01, -3.53392423e-03,  9.01962742e-02,\n",
       "         7.33825341e-02, -7.28781700e-01,  4.21262503e-01, -4.31247950e-01,\n",
       "        -1.61735192e-01,  7.00742066e-01, -9.39807966e-02, -5.41088879e-02,\n",
       "         6.19800575e-02, -4.21910167e-01,  7.71719441e-02, -1.95329562e-01,\n",
       "        -3.93021107e-01,  3.38811219e-01,  2.05967389e-02, -4.71910425e-02,\n",
       "         1.73680633e-01,  2.12084889e-01,  5.21038830e-01, -5.93557283e-02,\n",
       "         2.39794984e-01,  1.75630003e-01, -3.45689625e-01,  7.02182174e-01,\n",
       "         1.39380038e-01,  6.97920978e-01, -3.33813205e-02, -9.74705592e-02,\n",
       "        -3.09805814e-02,  1.44692734e-01,  6.03984416e-01, -3.03136855e-01,\n",
       "        -4.66942906e-01, -2.33640045e-01, -3.39126706e-01, -2.60574341e-01,\n",
       "        -2.75168210e-01,  3.35090995e-01, -9.51458216e-02,  5.01324944e-02,\n",
       "         3.93488318e-01, -3.27759206e-01,  3.65870833e-01, -2.67297298e-01,\n",
       "         6.76457658e-02,  1.33237094e-01, -4.52173427e-02, -4.38383639e-01,\n",
       "        -2.40998909e-01, -3.15966308e-01,  6.72700822e-01,  7.95303822e-01],\n",
       "       dtype=float32),\n",
       " array([ 2.14312136e-01,  3.70287180e-01,  1.36796311e-01, -1.86535835e-01,\n",
       "        -4.91572991e-02, -1.88751370e-02, -1.32190725e-02,  3.57939489e-02,\n",
       "        -3.97918969e-02,  1.94128811e-01, -8.25866908e-02,  2.47690390e-04,\n",
       "         2.88263001e-02,  2.01173663e-01, -1.54272586e-01, -1.13935187e-01,\n",
       "        -4.74858470e-02, -7.92295299e-03,  6.50205165e-02, -3.78477909e-02,\n",
       "         6.24999329e-02,  2.49566153e-01,  1.03294946e-01, -2.11493388e-01,\n",
       "        -1.73085947e-02, -2.82477215e-02, -6.87575415e-02, -9.21097770e-02,\n",
       "         8.71437322e-03, -1.69095173e-01, -5.73454238e-02,  4.21022065e-02,\n",
       "        -5.24346411e-01, -1.58332035e-01,  5.83604947e-02, -6.78519439e-03,\n",
       "        -6.93208054e-02, -5.74708311e-03, -1.20353170e-01, -4.40001450e-02,\n",
       "         4.75032702e-02, -2.33378902e-01, -1.33015737e-01,  1.27385199e-01,\n",
       "        -7.16302916e-02,  1.28748834e-01,  1.13330811e-01,  1.26265138e-02,\n",
       "         5.89972734e-02,  2.43283421e-01, -8.16499963e-02,  2.72306442e-01,\n",
       "         1.67372063e-01, -1.33618921e-01,  1.89889565e-01, -9.01413932e-02,\n",
       "         1.14899948e-01, -5.96789792e-02,  6.26452938e-02, -1.41223237e-01,\n",
       "        -2.08740175e-01,  3.32493484e-01,  2.14649692e-01, -3.34672779e-02,\n",
       "         5.25368713e-02, -1.45456240e-01,  1.46174431e-01,  1.52270079e-01,\n",
       "        -9.52247530e-03,  2.50804238e-02,  2.03919202e-01, -4.77523766e-02,\n",
       "         6.55542389e-02, -4.80662771e-02, -2.27324516e-02,  1.13046184e-01,\n",
       "        -1.54620215e-01,  4.85879853e-02, -9.92703661e-02,  1.33642517e-02,\n",
       "         3.87403667e-01,  1.51388884e-01,  4.65942472e-02,  3.72258306e-01,\n",
       "         8.34996030e-02, -1.95314333e-01,  4.20905292e-01, -1.83610618e-02,\n",
       "         8.96160752e-02,  9.06159878e-02, -1.41039923e-01,  1.38926119e-01,\n",
       "         1.75671160e-01, -4.77052480e-02,  6.52849749e-02, -1.81734160e-01,\n",
       "         1.34497583e-01,  4.52925228e-02,  1.77893162e-01,  8.24629366e-02,\n",
       "        -2.26429254e-02, -7.81486835e-03,  1.04925431e-01,  1.10557005e-01,\n",
       "        -2.29530305e-01,  9.88782197e-02,  3.10462683e-01, -8.70207101e-02,\n",
       "        -1.03182040e-01,  2.13678405e-01, -2.50720121e-02,  1.29431337e-01,\n",
       "         1.54199198e-01, -2.19486684e-01,  3.71575169e-02, -7.83453137e-02,\n",
       "         7.56102279e-02, -1.48542151e-01, -1.30579412e-01, -1.72655612e-01,\n",
       "        -2.32030213e-01,  1.96986243e-01, -1.19844198e-01, -1.61239907e-01,\n",
       "        -1.23323025e-02,  1.08766764e-01,  1.77958250e-01,  1.16608568e-01,\n",
       "         5.23438416e-02,  8.04402903e-02,  1.20596744e-01,  2.01546252e-01,\n",
       "        -2.42847838e-02, -5.51940240e-02,  3.43268484e-01, -1.74818859e-01,\n",
       "        -1.89623818e-01,  1.73824951e-02, -5.79115637e-02,  7.34661222e-02,\n",
       "        -1.77343175e-01,  9.75643843e-02,  3.94618399e-02,  5.85069545e-02,\n",
       "         8.76323134e-02,  1.29697844e-01, -9.66188908e-02, -7.55561888e-02,\n",
       "         4.56631891e-02, -7.39202276e-02, -1.87734172e-01, -2.26111129e-01,\n",
       "        -8.17668959e-02, -1.41328156e-01, -4.58951257e-02, -6.45612031e-02,\n",
       "        -1.69128492e-01,  1.30283371e-01, -8.07456896e-02, -1.02156378e-01,\n",
       "         2.47294649e-01, -5.10989875e-02,  3.03961843e-01, -4.96661589e-02,\n",
       "         5.26514724e-02, -4.51278463e-02, -7.08152354e-02, -9.64756496e-03,\n",
       "         1.41175479e-01, -4.36366862e-03, -1.09772854e-01, -1.34531349e-01,\n",
       "        -5.43047376e-02, -2.91877270e-01, -4.83813137e-02, -1.34292915e-01,\n",
       "         9.67178047e-02,  1.76384658e-01, -3.54634225e-02,  1.23027198e-01,\n",
       "         1.27308547e-01,  7.43818954e-02, -7.57130086e-02, -1.14989795e-01,\n",
       "        -4.12835032e-02, -9.14284028e-03,  2.74244636e-01,  2.01127961e-01,\n",
       "         7.64898211e-02, -3.65237296e-01,  1.13204330e-01,  8.54145437e-02,\n",
       "        -1.00724556e-01,  1.60300419e-01,  1.62792996e-01, -2.01577187e-01,\n",
       "        -2.94318765e-01, -9.03087929e-02, -1.12690747e-01, -2.36844774e-02,\n",
       "        -4.28256869e-01, -1.17189415e-01,  2.29112849e-01, -8.28808025e-02,\n",
       "        -4.25634146e-01, -3.64379436e-01, -7.13650361e-02, -1.90144539e-01,\n",
       "         6.87066326e-03,  1.48484232e-02,  1.77946210e-01,  1.81121826e-01,\n",
       "        -2.69022007e-02, -9.54891741e-03,  2.89744269e-02, -2.42981911e-01,\n",
       "        -1.70941129e-01, -4.82342998e-03, -7.02783524e-04, -2.27740273e-01,\n",
       "        -1.72800973e-01, -1.27308769e-02,  2.30893269e-01,  5.35238646e-02,\n",
       "         2.12870557e-02, -2.04236358e-02,  1.89132676e-01, -3.94848846e-02,\n",
       "        -9.10040215e-02,  8.92355889e-02, -8.18222985e-02,  5.58757745e-02,\n",
       "        -1.68974504e-01,  8.49855766e-02, -1.11382507e-01, -2.90302545e-01,\n",
       "        -1.41914003e-02,  1.59132093e-01,  1.47715062e-01,  1.86919793e-02,\n",
       "         1.17414370e-02, -2.07834274e-01,  9.61286109e-03, -2.32022703e-02,\n",
       "        -2.77668417e-01, -1.88603811e-02,  8.91737118e-02, -1.35947511e-01,\n",
       "        -2.02856469e-03,  5.49693219e-02, -1.85341276e-02,  1.12926140e-01,\n",
       "         2.81556338e-01, -2.84257472e-01, -1.23987757e-01,  1.02725185e-01,\n",
       "        -8.62205848e-02,  6.02735057e-02, -1.84652172e-02,  1.20814472e-01,\n",
       "        -1.37859618e-03,  9.45790857e-02,  8.14568549e-02,  1.92121565e-02,\n",
       "        -8.94231070e-03, -2.14111477e-01, -3.16160232e-01, -1.86573546e-02,\n",
       "        -6.90883473e-02, -1.30010962e-01, -4.10868563e-02, -3.07481170e-01,\n",
       "         1.20066963e-01, -2.37131715e-01,  8.13767463e-02,  1.88772812e-01,\n",
       "        -6.05665632e-02, -1.24549434e-01, -2.61325985e-01,  1.30334273e-01,\n",
       "        -1.18466467e-01, -1.27582431e-01, -2.44454630e-02, -8.85202289e-02,\n",
       "         1.03244200e-01, -8.08538646e-02,  1.12906374e-01,  3.43279615e-02,\n",
       "        -8.71110782e-02, -1.14432700e-01, -1.20910279e-01,  8.83991271e-03,\n",
       "        -3.71200661e-03,  1.67150963e-02, -1.76827371e-01,  1.04882397e-01,\n",
       "         1.02952151e-02,  2.94985712e-01, -5.62091358e-02, -1.93675801e-01],\n",
       "       dtype=float32),\n",
       " array([0., 0., 0., 0., 0., 0., 0., 0., 0., 0., 0., 0., 0., 0., 0., 0., 0.,\n",
       "        0., 0., 0., 0., 0., 0., 0., 0., 0., 0., 0., 0., 0., 0., 0., 0., 0.,\n",
       "        0., 0., 0., 0., 0., 0., 0., 0., 0., 0., 0., 0., 0., 0., 0., 0., 0.,\n",
       "        0., 0., 0., 0., 0., 0., 0., 0., 0., 0., 0., 0., 0., 0., 0., 0., 0.,\n",
       "        0., 0., 0., 0., 0., 0., 0., 0., 0., 0., 0., 0., 0., 0., 0., 0., 0.,\n",
       "        0., 0., 0., 0., 0., 0., 0., 0., 0., 0., 0., 0., 0., 0., 0., 0., 0.,\n",
       "        0., 0., 0., 0., 0., 0., 0., 0., 0., 0., 0., 0., 0., 0., 0., 0., 0.,\n",
       "        0., 0., 0., 0., 0., 0., 0., 0., 0., 0., 0., 0., 0., 0., 0., 0., 0.,\n",
       "        0., 0., 0., 0., 0., 0., 0., 0., 0., 0., 0., 0., 0., 0., 0., 0., 0.,\n",
       "        0., 0., 0., 0., 0., 0., 0., 0., 0., 0., 0., 0., 0., 0., 0., 0., 0.,\n",
       "        0., 0., 0., 0., 0., 0., 0., 0., 0., 0., 0., 0., 0., 0., 0., 0., 0.,\n",
       "        0., 0., 0., 0., 0., 0., 0., 0., 0., 0., 0., 0., 0., 0., 0., 0., 0.,\n",
       "        0., 0., 0., 0., 0., 0., 0., 0., 0., 0., 0., 0., 0., 0., 0., 0., 0.,\n",
       "        0., 0., 0., 0., 0., 0., 0., 0., 0., 0., 0., 0., 0., 0., 0., 0., 0.,\n",
       "        0., 0., 0., 0., 0., 0., 0., 0., 0., 0., 0., 0., 0., 0., 0., 0., 0.,\n",
       "        0., 0., 0., 0., 0., 0., 0., 0., 0., 0., 0., 0., 0., 0., 0., 0., 0.,\n",
       "        0., 0., 0., 0., 0., 0., 0., 0., 0., 0., 0., 0., 0., 0., 0., 0., 0.,\n",
       "        0., 0., 0., 0., 0., 0., 0., 0., 0., 0., 0.], dtype=float32),\n",
       " array([0., 0., 0., 0., 0., 0., 0., 0., 0., 0., 0., 0., 0., 0., 0., 0., 0.,\n",
       "        0., 0., 0., 0., 0., 0., 0., 0., 0., 0., 0., 0., 0., 0., 0., 0., 0.,\n",
       "        0., 0., 0., 0., 0., 0., 0., 0., 0., 0., 0., 0., 0., 0., 0., 0., 0.,\n",
       "        0., 0., 0., 0., 0., 0., 0., 0., 0., 0., 0., 0., 0., 0., 0., 0., 0.,\n",
       "        0., 0., 0., 0., 0., 0., 0., 0., 0., 0., 0., 0., 0., 0., 0., 0., 0.,\n",
       "        0., 0., 0., 0., 0., 0., 0., 0., 0., 0., 0., 0., 0., 0., 0., 0., 0.,\n",
       "        0., 0., 0., 0., 0., 0., 0., 0., 0., 0., 0., 0., 0., 0., 0., 0., 0.,\n",
       "        0., 0., 0., 0., 0., 0., 0., 0., 0., 0., 0., 0., 0., 0., 0., 0., 0.,\n",
       "        0., 0., 0., 0., 0., 0., 0., 0., 0., 0., 0., 0., 0., 0., 0., 0., 0.,\n",
       "        0., 0., 0., 0., 0., 0., 0., 0., 0., 0., 0., 0., 0., 0., 0., 0., 0.,\n",
       "        0., 0., 0., 0., 0., 0., 0., 0., 0., 0., 0., 0., 0., 0., 0., 0., 0.,\n",
       "        0., 0., 0., 0., 0., 0., 0., 0., 0., 0., 0., 0., 0., 0., 0., 0., 0.,\n",
       "        0., 0., 0., 0., 0., 0., 0., 0., 0., 0., 0., 0., 0., 0., 0., 0., 0.,\n",
       "        0., 0., 0., 0., 0., 0., 0., 0., 0., 0., 0., 0., 0., 0., 0., 0., 0.,\n",
       "        0., 0., 0., 0., 0., 0., 0., 0., 0., 0., 0., 0., 0., 0., 0., 0., 0.,\n",
       "        0., 0., 0., 0., 0., 0., 0., 0., 0., 0., 0., 0., 0., 0., 0., 0., 0.,\n",
       "        0., 0., 0., 0., 0., 0., 0., 0., 0., 0., 0., 0., 0., 0., 0., 0., 0.,\n",
       "        0., 0., 0., 0., 0., 0., 0., 0., 0., 0., 0.], dtype=float32),\n",
       " array([0., 0., 0., 0., 0., 0., 0., 0., 0., 0., 0., 0., 0., 0., 0., 0., 0.,\n",
       "        0., 0., 0., 0., 0., 0., 0., 0., 0., 0., 0., 0., 0., 0., 0., 0., 0.,\n",
       "        0., 0., 0., 0., 0., 0., 0., 0., 0., 0., 0., 0., 0., 0., 0., 0., 0.,\n",
       "        0., 0., 0., 0., 0., 0., 0., 0., 0., 0., 0., 0., 0., 0., 0., 0., 0.,\n",
       "        0., 0., 0., 0., 0., 0., 0., 0., 0., 0., 0., 0., 0., 0., 0., 0., 0.,\n",
       "        0., 0., 0., 0., 0., 0., 0., 0., 0., 0., 0., 0., 0., 0., 0., 0., 0.,\n",
       "        0., 0., 0., 0., 0., 0., 0., 0., 0., 0., 0., 0., 0., 0., 0., 0., 0.,\n",
       "        0., 0., 0., 0., 0., 0., 0., 0., 0., 0., 0., 0., 0., 0., 0., 0., 0.,\n",
       "        0., 0., 0., 0., 0., 0., 0., 0., 0., 0., 0., 0., 0., 0., 0., 0., 0.,\n",
       "        0., 0., 0., 0., 0., 0., 0., 0., 0., 0., 0., 0., 0., 0., 0., 0., 0.,\n",
       "        0., 0., 0., 0., 0., 0., 0., 0., 0., 0., 0., 0., 0., 0., 0., 0., 0.,\n",
       "        0., 0., 0., 0., 0., 0., 0., 0., 0., 0., 0., 0., 0., 0., 0., 0., 0.,\n",
       "        0., 0., 0., 0., 0., 0., 0., 0., 0., 0., 0., 0., 0., 0., 0., 0., 0.,\n",
       "        0., 0., 0., 0., 0., 0., 0., 0., 0., 0., 0., 0., 0., 0., 0., 0., 0.,\n",
       "        0., 0., 0., 0., 0., 0., 0., 0., 0., 0., 0., 0., 0., 0., 0., 0., 0.,\n",
       "        0., 0., 0., 0., 0., 0., 0., 0., 0., 0., 0., 0., 0., 0., 0., 0., 0.,\n",
       "        0., 0., 0., 0., 0., 0., 0., 0., 0., 0., 0., 0., 0., 0., 0., 0., 0.,\n",
       "        0., 0., 0., 0., 0., 0., 0., 0., 0., 0., 0.], dtype=float32),\n",
       " array([0., 0., 0., 0., 0., 0., 0., 0., 0., 0., 0., 0., 0., 0., 0., 0., 0.,\n",
       "        0., 0., 0., 0., 0., 0., 0., 0., 0., 0., 0., 0., 0., 0., 0., 0., 0.,\n",
       "        0., 0., 0., 0., 0., 0., 0., 0., 0., 0., 0., 0., 0., 0., 0., 0., 0.,\n",
       "        0., 0., 0., 0., 0., 0., 0., 0., 0., 0., 0., 0., 0., 0., 0., 0., 0.,\n",
       "        0., 0., 0., 0., 0., 0., 0., 0., 0., 0., 0., 0., 0., 0., 0., 0., 0.,\n",
       "        0., 0., 0., 0., 0., 0., 0., 0., 0., 0., 0., 0., 0., 0., 0., 0., 0.,\n",
       "        0., 0., 0., 0., 0., 0., 0., 0., 0., 0., 0., 0., 0., 0., 0., 0., 0.,\n",
       "        0., 0., 0., 0., 0., 0., 0., 0., 0., 0., 0., 0., 0., 0., 0., 0., 0.,\n",
       "        0., 0., 0., 0., 0., 0., 0., 0., 0., 0., 0., 0., 0., 0., 0., 0., 0.,\n",
       "        0., 0., 0., 0., 0., 0., 0., 0., 0., 0., 0., 0., 0., 0., 0., 0., 0.,\n",
       "        0., 0., 0., 0., 0., 0., 0., 0., 0., 0., 0., 0., 0., 0., 0., 0., 0.,\n",
       "        0., 0., 0., 0., 0., 0., 0., 0., 0., 0., 0., 0., 0., 0., 0., 0., 0.,\n",
       "        0., 0., 0., 0., 0., 0., 0., 0., 0., 0., 0., 0., 0., 0., 0., 0., 0.,\n",
       "        0., 0., 0., 0., 0., 0., 0., 0., 0., 0., 0., 0., 0., 0., 0., 0., 0.,\n",
       "        0., 0., 0., 0., 0., 0., 0., 0., 0., 0., 0., 0., 0., 0., 0., 0., 0.,\n",
       "        0., 0., 0., 0., 0., 0., 0., 0., 0., 0., 0., 0., 0., 0., 0., 0., 0.,\n",
       "        0., 0., 0., 0., 0., 0., 0., 0., 0., 0., 0., 0., 0., 0., 0., 0., 0.,\n",
       "        0., 0., 0., 0., 0., 0., 0., 0., 0., 0., 0.], dtype=float32),\n",
       " array([0., 0., 0., 0., 0., 0., 0., 0., 0., 0., 0., 0., 0., 0., 0., 0., 0.,\n",
       "        0., 0., 0., 0., 0., 0., 0., 0., 0., 0., 0., 0., 0., 0., 0., 0., 0.,\n",
       "        0., 0., 0., 0., 0., 0., 0., 0., 0., 0., 0., 0., 0., 0., 0., 0., 0.,\n",
       "        0., 0., 0., 0., 0., 0., 0., 0., 0., 0., 0., 0., 0., 0., 0., 0., 0.,\n",
       "        0., 0., 0., 0., 0., 0., 0., 0., 0., 0., 0., 0., 0., 0., 0., 0., 0.,\n",
       "        0., 0., 0., 0., 0., 0., 0., 0., 0., 0., 0., 0., 0., 0., 0., 0., 0.,\n",
       "        0., 0., 0., 0., 0., 0., 0., 0., 0., 0., 0., 0., 0., 0., 0., 0., 0.,\n",
       "        0., 0., 0., 0., 0., 0., 0., 0., 0., 0., 0., 0., 0., 0., 0., 0., 0.,\n",
       "        0., 0., 0., 0., 0., 0., 0., 0., 0., 0., 0., 0., 0., 0., 0., 0., 0.,\n",
       "        0., 0., 0., 0., 0., 0., 0., 0., 0., 0., 0., 0., 0., 0., 0., 0., 0.,\n",
       "        0., 0., 0., 0., 0., 0., 0., 0., 0., 0., 0., 0., 0., 0., 0., 0., 0.,\n",
       "        0., 0., 0., 0., 0., 0., 0., 0., 0., 0., 0., 0., 0., 0., 0., 0., 0.,\n",
       "        0., 0., 0., 0., 0., 0., 0., 0., 0., 0., 0., 0., 0., 0., 0., 0., 0.,\n",
       "        0., 0., 0., 0., 0., 0., 0., 0., 0., 0., 0., 0., 0., 0., 0., 0., 0.,\n",
       "        0., 0., 0., 0., 0., 0., 0., 0., 0., 0., 0., 0., 0., 0., 0., 0., 0.,\n",
       "        0., 0., 0., 0., 0., 0., 0., 0., 0., 0., 0., 0., 0., 0., 0., 0., 0.,\n",
       "        0., 0., 0., 0., 0., 0., 0., 0., 0., 0., 0., 0., 0., 0., 0., 0., 0.,\n",
       "        0., 0., 0., 0., 0., 0., 0., 0., 0., 0., 0.], dtype=float32),\n",
       " array([0., 0., 0., 0., 0., 0., 0., 0., 0., 0., 0., 0., 0., 0., 0., 0., 0.,\n",
       "        0., 0., 0., 0., 0., 0., 0., 0., 0., 0., 0., 0., 0., 0., 0., 0., 0.,\n",
       "        0., 0., 0., 0., 0., 0., 0., 0., 0., 0., 0., 0., 0., 0., 0., 0., 0.,\n",
       "        0., 0., 0., 0., 0., 0., 0., 0., 0., 0., 0., 0., 0., 0., 0., 0., 0.,\n",
       "        0., 0., 0., 0., 0., 0., 0., 0., 0., 0., 0., 0., 0., 0., 0., 0., 0.,\n",
       "        0., 0., 0., 0., 0., 0., 0., 0., 0., 0., 0., 0., 0., 0., 0., 0., 0.,\n",
       "        0., 0., 0., 0., 0., 0., 0., 0., 0., 0., 0., 0., 0., 0., 0., 0., 0.,\n",
       "        0., 0., 0., 0., 0., 0., 0., 0., 0., 0., 0., 0., 0., 0., 0., 0., 0.,\n",
       "        0., 0., 0., 0., 0., 0., 0., 0., 0., 0., 0., 0., 0., 0., 0., 0., 0.,\n",
       "        0., 0., 0., 0., 0., 0., 0., 0., 0., 0., 0., 0., 0., 0., 0., 0., 0.,\n",
       "        0., 0., 0., 0., 0., 0., 0., 0., 0., 0., 0., 0., 0., 0., 0., 0., 0.,\n",
       "        0., 0., 0., 0., 0., 0., 0., 0., 0., 0., 0., 0., 0., 0., 0., 0., 0.,\n",
       "        0., 0., 0., 0., 0., 0., 0., 0., 0., 0., 0., 0., 0., 0., 0., 0., 0.,\n",
       "        0., 0., 0., 0., 0., 0., 0., 0., 0., 0., 0., 0., 0., 0., 0., 0., 0.,\n",
       "        0., 0., 0., 0., 0., 0., 0., 0., 0., 0., 0., 0., 0., 0., 0., 0., 0.,\n",
       "        0., 0., 0., 0., 0., 0., 0., 0., 0., 0., 0., 0., 0., 0., 0., 0., 0.,\n",
       "        0., 0., 0., 0., 0., 0., 0., 0., 0., 0., 0., 0., 0., 0., 0., 0., 0.,\n",
       "        0., 0., 0., 0., 0., 0., 0., 0., 0., 0., 0.], dtype=float32),\n",
       " array([0., 0., 0., 0., 0., 0., 0., 0., 0., 0., 0., 0., 0., 0., 0., 0., 0.,\n",
       "        0., 0., 0., 0., 0., 0., 0., 0., 0., 0., 0., 0., 0., 0., 0., 0., 0.,\n",
       "        0., 0., 0., 0., 0., 0., 0., 0., 0., 0., 0., 0., 0., 0., 0., 0., 0.,\n",
       "        0., 0., 0., 0., 0., 0., 0., 0., 0., 0., 0., 0., 0., 0., 0., 0., 0.,\n",
       "        0., 0., 0., 0., 0., 0., 0., 0., 0., 0., 0., 0., 0., 0., 0., 0., 0.,\n",
       "        0., 0., 0., 0., 0., 0., 0., 0., 0., 0., 0., 0., 0., 0., 0., 0., 0.,\n",
       "        0., 0., 0., 0., 0., 0., 0., 0., 0., 0., 0., 0., 0., 0., 0., 0., 0.,\n",
       "        0., 0., 0., 0., 0., 0., 0., 0., 0., 0., 0., 0., 0., 0., 0., 0., 0.,\n",
       "        0., 0., 0., 0., 0., 0., 0., 0., 0., 0., 0., 0., 0., 0., 0., 0., 0.,\n",
       "        0., 0., 0., 0., 0., 0., 0., 0., 0., 0., 0., 0., 0., 0., 0., 0., 0.,\n",
       "        0., 0., 0., 0., 0., 0., 0., 0., 0., 0., 0., 0., 0., 0., 0., 0., 0.,\n",
       "        0., 0., 0., 0., 0., 0., 0., 0., 0., 0., 0., 0., 0., 0., 0., 0., 0.,\n",
       "        0., 0., 0., 0., 0., 0., 0., 0., 0., 0., 0., 0., 0., 0., 0., 0., 0.,\n",
       "        0., 0., 0., 0., 0., 0., 0., 0., 0., 0., 0., 0., 0., 0., 0., 0., 0.,\n",
       "        0., 0., 0., 0., 0., 0., 0., 0., 0., 0., 0., 0., 0., 0., 0., 0., 0.,\n",
       "        0., 0., 0., 0., 0., 0., 0., 0., 0., 0., 0., 0., 0., 0., 0., 0., 0.,\n",
       "        0., 0., 0., 0., 0., 0., 0., 0., 0., 0., 0., 0., 0., 0., 0., 0., 0.,\n",
       "        0., 0., 0., 0., 0., 0., 0., 0., 0., 0., 0.], dtype=float32),\n",
       " array([0., 0., 0., 0., 0., 0., 0., 0., 0., 0., 0., 0., 0., 0., 0., 0., 0.,\n",
       "        0., 0., 0., 0., 0., 0., 0., 0., 0., 0., 0., 0., 0., 0., 0., 0., 0.,\n",
       "        0., 0., 0., 0., 0., 0., 0., 0., 0., 0., 0., 0., 0., 0., 0., 0., 0.,\n",
       "        0., 0., 0., 0., 0., 0., 0., 0., 0., 0., 0., 0., 0., 0., 0., 0., 0.,\n",
       "        0., 0., 0., 0., 0., 0., 0., 0., 0., 0., 0., 0., 0., 0., 0., 0., 0.,\n",
       "        0., 0., 0., 0., 0., 0., 0., 0., 0., 0., 0., 0., 0., 0., 0., 0., 0.,\n",
       "        0., 0., 0., 0., 0., 0., 0., 0., 0., 0., 0., 0., 0., 0., 0., 0., 0.,\n",
       "        0., 0., 0., 0., 0., 0., 0., 0., 0., 0., 0., 0., 0., 0., 0., 0., 0.,\n",
       "        0., 0., 0., 0., 0., 0., 0., 0., 0., 0., 0., 0., 0., 0., 0., 0., 0.,\n",
       "        0., 0., 0., 0., 0., 0., 0., 0., 0., 0., 0., 0., 0., 0., 0., 0., 0.,\n",
       "        0., 0., 0., 0., 0., 0., 0., 0., 0., 0., 0., 0., 0., 0., 0., 0., 0.,\n",
       "        0., 0., 0., 0., 0., 0., 0., 0., 0., 0., 0., 0., 0., 0., 0., 0., 0.,\n",
       "        0., 0., 0., 0., 0., 0., 0., 0., 0., 0., 0., 0., 0., 0., 0., 0., 0.,\n",
       "        0., 0., 0., 0., 0., 0., 0., 0., 0., 0., 0., 0., 0., 0., 0., 0., 0.,\n",
       "        0., 0., 0., 0., 0., 0., 0., 0., 0., 0., 0., 0., 0., 0., 0., 0., 0.,\n",
       "        0., 0., 0., 0., 0., 0., 0., 0., 0., 0., 0., 0., 0., 0., 0., 0., 0.,\n",
       "        0., 0., 0., 0., 0., 0., 0., 0., 0., 0., 0., 0., 0., 0., 0., 0., 0.,\n",
       "        0., 0., 0., 0., 0., 0., 0., 0., 0., 0., 0.], dtype=float32),\n",
       " array([0., 0., 0., 0., 0., 0., 0., 0., 0., 0., 0., 0., 0., 0., 0., 0., 0.,\n",
       "        0., 0., 0., 0., 0., 0., 0., 0., 0., 0., 0., 0., 0., 0., 0., 0., 0.,\n",
       "        0., 0., 0., 0., 0., 0., 0., 0., 0., 0., 0., 0., 0., 0., 0., 0., 0.,\n",
       "        0., 0., 0., 0., 0., 0., 0., 0., 0., 0., 0., 0., 0., 0., 0., 0., 0.,\n",
       "        0., 0., 0., 0., 0., 0., 0., 0., 0., 0., 0., 0., 0., 0., 0., 0., 0.,\n",
       "        0., 0., 0., 0., 0., 0., 0., 0., 0., 0., 0., 0., 0., 0., 0., 0., 0.,\n",
       "        0., 0., 0., 0., 0., 0., 0., 0., 0., 0., 0., 0., 0., 0., 0., 0., 0.,\n",
       "        0., 0., 0., 0., 0., 0., 0., 0., 0., 0., 0., 0., 0., 0., 0., 0., 0.,\n",
       "        0., 0., 0., 0., 0., 0., 0., 0., 0., 0., 0., 0., 0., 0., 0., 0., 0.,\n",
       "        0., 0., 0., 0., 0., 0., 0., 0., 0., 0., 0., 0., 0., 0., 0., 0., 0.,\n",
       "        0., 0., 0., 0., 0., 0., 0., 0., 0., 0., 0., 0., 0., 0., 0., 0., 0.,\n",
       "        0., 0., 0., 0., 0., 0., 0., 0., 0., 0., 0., 0., 0., 0., 0., 0., 0.,\n",
       "        0., 0., 0., 0., 0., 0., 0., 0., 0., 0., 0., 0., 0., 0., 0., 0., 0.,\n",
       "        0., 0., 0., 0., 0., 0., 0., 0., 0., 0., 0., 0., 0., 0., 0., 0., 0.,\n",
       "        0., 0., 0., 0., 0., 0., 0., 0., 0., 0., 0., 0., 0., 0., 0., 0., 0.,\n",
       "        0., 0., 0., 0., 0., 0., 0., 0., 0., 0., 0., 0., 0., 0., 0., 0., 0.,\n",
       "        0., 0., 0., 0., 0., 0., 0., 0., 0., 0., 0., 0., 0., 0., 0., 0., 0.,\n",
       "        0., 0., 0., 0., 0., 0., 0., 0., 0., 0., 0.], dtype=float32)]"
      ]
     },
     "execution_count": 236,
     "metadata": {},
     "output_type": "execute_result"
    }
   ],
   "source": [
    "vectorized_text"
   ]
  },
  {
   "cell_type": "code",
   "execution_count": 237,
   "id": "bf971131",
   "metadata": {},
   "outputs": [],
   "source": [
    "_vector = np.array(vectorized_text).reshape(1, vector_size * max_len)"
   ]
  },
  {
   "cell_type": "code",
   "execution_count": 238,
   "id": "69bd5dd8",
   "metadata": {},
   "outputs": [
    {
     "data": {
      "text/plain": [
       "(1, 3300)"
      ]
     },
     "execution_count": 238,
     "metadata": {},
     "output_type": "execute_result"
    }
   ],
   "source": [
    "_vector.shape"
   ]
  },
  {
   "cell_type": "markdown",
   "id": "46706fa5",
   "metadata": {},
   "source": [
    "Выполняем распознавание"
   ]
  },
  {
   "cell_type": "code",
   "execution_count": 239,
   "id": "1c0b9074",
   "metadata": {},
   "outputs": [],
   "source": [
    "# Мажоритарное голосование"
   ]
  },
  {
   "cell_type": "code",
   "execution_count": 240,
   "id": "eaa1cadb",
   "metadata": {},
   "outputs": [],
   "source": [
    "result = eclf_hard.predict(_vector)"
   ]
  },
  {
   "cell_type": "code",
   "execution_count": 241,
   "id": "2f5dd1e6",
   "metadata": {},
   "outputs": [
    {
     "data": {
      "text/plain": [
       "(array([0]), 'smile positive/negative')"
      ]
     },
     "execution_count": 241,
     "metadata": {},
     "output_type": "execute_result"
    }
   ],
   "source": [
    "result, emoji_dict[str(result[0])]"
   ]
  },
  {
   "cell_type": "code",
   "execution_count": 242,
   "id": "cfd44bc1",
   "metadata": {},
   "outputs": [],
   "source": [
    "# Мягкое голосование"
   ]
  },
  {
   "cell_type": "code",
   "execution_count": 243,
   "id": "92669623",
   "metadata": {},
   "outputs": [],
   "source": [
    "result = eclf_soft.predict(_vector)"
   ]
  },
  {
   "cell_type": "code",
   "execution_count": 244,
   "id": "cf9d5b39",
   "metadata": {},
   "outputs": [
    {
     "data": {
      "text/plain": [
       "(array([0]), 'smile positive/negative')"
      ]
     },
     "execution_count": 244,
     "metadata": {},
     "output_type": "execute_result"
    }
   ],
   "source": [
    "result, emoji_dict[str(result[0])]"
   ]
  },
  {
   "cell_type": "code",
   "execution_count": 245,
   "id": "5fc66237",
   "metadata": {},
   "outputs": [],
   "source": [
    "result_clf = []\n",
    "for clf in clifs:\n",
    "    result_clf.append(clf.predict(_vector))"
   ]
  },
  {
   "cell_type": "code",
   "execution_count": 246,
   "id": "4ed87036",
   "metadata": {},
   "outputs": [
    {
     "data": {
      "text/plain": [
       "[array([0]), array([0]), array([0]), array([1]), array([8]), array([0])]"
      ]
     },
     "execution_count": 246,
     "metadata": {},
     "output_type": "execute_result"
    }
   ],
   "source": [
    "result_clf"
   ]
  },
  {
   "cell_type": "code",
   "execution_count": 247,
   "id": "6d49ee51",
   "metadata": {},
   "outputs": [
    {
     "name": "stdout",
     "output_type": "stream",
     "text": [
      "0 smile positive/negative\n",
      "0 smile positive/negative\n",
      "0 smile positive/negative\n",
      "1 no_emotion neutral/skeptical\n",
      "8 disgust negative\n",
      "0 smile positive/negative\n"
     ]
    }
   ],
   "source": [
    "for i in range(0, len(result_clf)):\n",
    "    res = result_clf[i][0]\n",
    "    print(res, emoji_dict[str(res)])"
   ]
  },
  {
   "cell_type": "code",
   "execution_count": 248,
   "id": "c9ed30ff",
   "metadata": {},
   "outputs": [],
   "source": [
    "# Мажоритарное голосование"
   ]
  },
  {
   "cell_type": "code",
   "execution_count": 249,
   "id": "b7770d82",
   "metadata": {},
   "outputs": [
    {
     "ename": "AttributeError",
     "evalue": "predict_proba is not available when voting='hard'",
     "output_type": "error",
     "traceback": [
      "\u001b[0;31m---------------------------------------------------------------------------\u001b[0m",
      "\u001b[0;31mAttributeError\u001b[0m                            Traceback (most recent call last)",
      "\u001b[0;32m/var/folders/hm/7gxpj72d2cv2fg7n4jvg1tkm0000gn/T/ipykernel_26263/3245435367.py\u001b[0m in \u001b[0;36m<module>\u001b[0;34m\u001b[0m\n\u001b[0;32m----> 1\u001b[0;31m \u001b[0mresult\u001b[0m \u001b[0;34m=\u001b[0m \u001b[0meclf_hard\u001b[0m\u001b[0;34m.\u001b[0m\u001b[0mpredict_proba\u001b[0m\u001b[0;34m(\u001b[0m\u001b[0m_vector\u001b[0m\u001b[0;34m)\u001b[0m\u001b[0;34m\u001b[0m\u001b[0;34m\u001b[0m\u001b[0m\n\u001b[0m",
      "\u001b[0;32m~/opt/anaconda3/lib/python3.9/site-packages/sklearn/utils/metaestimators.py\u001b[0m in \u001b[0;36m__get__\u001b[0;34m(self, obj, owner)\u001b[0m\n\u001b[1;32m    107\u001b[0m             \u001b[0;31m# delegate only on instances, not the classes.\u001b[0m\u001b[0;34m\u001b[0m\u001b[0;34m\u001b[0m\u001b[0m\n\u001b[1;32m    108\u001b[0m             \u001b[0;31m# this is to allow access to the docstrings.\u001b[0m\u001b[0;34m\u001b[0m\u001b[0;34m\u001b[0m\u001b[0m\n\u001b[0;32m--> 109\u001b[0;31m             \u001b[0;32mif\u001b[0m \u001b[0;32mnot\u001b[0m \u001b[0mself\u001b[0m\u001b[0;34m.\u001b[0m\u001b[0mcheck\u001b[0m\u001b[0;34m(\u001b[0m\u001b[0mobj\u001b[0m\u001b[0;34m)\u001b[0m\u001b[0;34m:\u001b[0m\u001b[0;34m\u001b[0m\u001b[0;34m\u001b[0m\u001b[0m\n\u001b[0m\u001b[1;32m    110\u001b[0m                 \u001b[0;32mraise\u001b[0m \u001b[0mattr_err\u001b[0m\u001b[0;34m\u001b[0m\u001b[0;34m\u001b[0m\u001b[0m\n\u001b[1;32m    111\u001b[0m \u001b[0;34m\u001b[0m\u001b[0m\n",
      "\u001b[0;32m~/opt/anaconda3/lib/python3.9/site-packages/sklearn/ensemble/_voting.py\u001b[0m in \u001b[0;36m_check_voting\u001b[0;34m(self)\u001b[0m\n\u001b[1;32m    359\u001b[0m     \u001b[0;32mdef\u001b[0m \u001b[0m_check_voting\u001b[0m\u001b[0;34m(\u001b[0m\u001b[0mself\u001b[0m\u001b[0;34m)\u001b[0m\u001b[0;34m:\u001b[0m\u001b[0;34m\u001b[0m\u001b[0;34m\u001b[0m\u001b[0m\n\u001b[1;32m    360\u001b[0m         \u001b[0;32mif\u001b[0m \u001b[0mself\u001b[0m\u001b[0;34m.\u001b[0m\u001b[0mvoting\u001b[0m \u001b[0;34m==\u001b[0m \u001b[0;34m\"hard\"\u001b[0m\u001b[0;34m:\u001b[0m\u001b[0;34m\u001b[0m\u001b[0;34m\u001b[0m\u001b[0m\n\u001b[0;32m--> 361\u001b[0;31m             raise AttributeError(\n\u001b[0m\u001b[1;32m    362\u001b[0m                 \u001b[0;34mf\"predict_proba is not available when voting={repr(self.voting)}\"\u001b[0m\u001b[0;34m\u001b[0m\u001b[0;34m\u001b[0m\u001b[0m\n\u001b[1;32m    363\u001b[0m             )\n",
      "\u001b[0;31mAttributeError\u001b[0m: predict_proba is not available when voting='hard'"
     ]
    }
   ],
   "source": [
    "result = eclf_hard.predict_proba(_vector)"
   ]
  },
  {
   "cell_type": "code",
   "execution_count": 250,
   "id": "35cb68dd",
   "metadata": {},
   "outputs": [],
   "source": [
    "# Мягкое голосование"
   ]
  },
  {
   "cell_type": "code",
   "execution_count": 251,
   "id": "a95c0adb",
   "metadata": {},
   "outputs": [],
   "source": [
    "result = eclf_soft.predict_proba(_vector)"
   ]
  },
  {
   "cell_type": "code",
   "execution_count": 252,
   "id": "354f7b27",
   "metadata": {},
   "outputs": [
    {
     "data": {
      "text/plain": [
       "array([[5.24693681e-01, 1.90250682e-01, 4.70312827e-02, 2.70548082e-02,\n",
       "        1.73003487e-02, 4.40897951e-03, 7.44400812e-03, 1.56733859e-03,\n",
       "        1.70152847e-01, 5.22320617e-03, 1.88509604e-03, 2.07356758e-03,\n",
       "        4.21878896e-04, 3.83402507e-04, 1.08873685e-04]])"
      ]
     },
     "execution_count": 252,
     "metadata": {},
     "output_type": "execute_result"
    }
   ],
   "source": [
    "result"
   ]
  },
  {
   "cell_type": "code",
   "execution_count": 253,
   "id": "9728f40f",
   "metadata": {},
   "outputs": [
    {
     "name": "stdout",
     "output_type": "stream",
     "text": [
      "0: smile positive/negative 0.525\n",
      "1: no_emotion neutral/skeptical 0.19\n",
      "2: joy positive 0.047\n",
      "3: no_emotion positive/negative 0.027\n",
      "4: sadness negative 0.017\n",
      "5: fear negative 0.004\n",
      "6: shame negative 0.007\n",
      "7: anger negative 0.002\n",
      "8: disgust negative 0.17\n",
      "9: surprise positive/negative 0.005\n",
      "10: disgust neutral/skeptical 0.002\n",
      "11: surprise negative 0.002\n",
      "12: no_emotion negative 0.0\n",
      "13: sadness positive/negative 0.0\n",
      "14: fear positive/negative 0.0\n"
     ]
    }
   ],
   "source": [
    "i = 0\n",
    "while i < len(result[0]):\n",
    "    print(str(i) +\": \"+ emoji_dict[str(i)], round(result[0][i], 3))\n",
    "    i += 1"
   ]
  },
  {
   "cell_type": "code",
   "execution_count": 254,
   "id": "96dd94c9",
   "metadata": {},
   "outputs": [],
   "source": [
    "# LogisticRegression       \n",
    "# SVC                       \n",
    "# RandomForestClassifier    \n",
    "# DecisionTreeClassifier    \n",
    "# GaussianNB               \n",
    "# GradientBoostingClassifier"
   ]
  },
  {
   "cell_type": "code",
   "execution_count": 255,
   "id": "0adcc710",
   "metadata": {},
   "outputs": [
    {
     "name": "stdout",
     "output_type": "stream",
     "text": [
      "LogisticRegression:\n",
      "0: smile positive/negative 0.613\n",
      "1: no_emotion neutral/skeptical 0.274\n",
      "2: joy positive 0.088\n",
      "3: no_emotion positive/negative 0.004\n",
      "4: sadness negative 0.012\n",
      "5: fear negative 0.001\n",
      "6: shame negative 0.004\n",
      "7: anger negative 0.0\n",
      "8: disgust negative 0.001\n",
      "9: surprise positive/negative 0.003\n",
      "10: disgust neutral/skeptical 0.0\n",
      "11: surprise negative 0.0\n",
      "12: no_emotion negative 0.0\n",
      "13: sadness positive/negative 0.001\n",
      "14: fear positive/negative 0.0\n",
      "SVC:\n",
      "0: smile positive/negative 0.72\n",
      "1: no_emotion neutral/skeptical 0.135\n",
      "2: joy positive 0.035\n",
      "3: no_emotion positive/negative 0.033\n",
      "4: sadness negative 0.032\n",
      "5: fear negative 0.006\n",
      "6: shame negative 0.012\n",
      "7: anger negative 0.005\n",
      "8: disgust negative 0.007\n",
      "9: surprise positive/negative 0.005\n",
      "10: disgust neutral/skeptical 0.002\n",
      "11: surprise negative 0.002\n",
      "12: no_emotion negative 0.002\n",
      "13: sadness positive/negative 0.002\n",
      "14: fear positive/negative 0.001\n",
      "RandomForestClassifier:\n",
      "0: smile positive/negative 0.638\n",
      "1: no_emotion neutral/skeptical 0.123\n",
      "2: joy positive 0.068\n",
      "3: no_emotion positive/negative 0.067\n",
      "4: sadness negative 0.024\n",
      "5: fear negative 0.015\n",
      "6: shame negative 0.023\n",
      "7: anger negative 0.0\n",
      "8: disgust negative 0.01\n",
      "9: surprise positive/negative 0.02\n",
      "10: disgust neutral/skeptical 0.0\n",
      "11: surprise negative 0.01\n",
      "12: no_emotion negative 0.0\n",
      "13: sadness positive/negative 0.0\n",
      "14: fear positive/negative 0.0\n",
      "DecisionTreeClassifier:\n",
      "0: smile positive/negative 0.0\n",
      "1: no_emotion neutral/skeptical 1.0\n",
      "2: joy positive 0.0\n",
      "3: no_emotion positive/negative 0.0\n",
      "4: sadness negative 0.0\n",
      "5: fear negative 0.0\n",
      "6: shame negative 0.0\n",
      "7: anger negative 0.0\n",
      "8: disgust negative 0.0\n",
      "9: surprise positive/negative 0.0\n",
      "10: disgust neutral/skeptical 0.0\n",
      "11: surprise negative 0.0\n",
      "12: no_emotion negative 0.0\n",
      "13: sadness positive/negative 0.0\n",
      "14: fear positive/negative 0.0\n",
      "GaussianNB:\n",
      "0: smile positive/negative 0.0\n",
      "1: no_emotion neutral/skeptical 0.0\n",
      "2: joy positive 0.0\n",
      "3: no_emotion positive/negative 0.0\n",
      "4: sadness negative 0.0\n",
      "5: fear negative 0.0\n",
      "6: shame negative 0.0\n",
      "7: anger negative 0.0\n",
      "8: disgust negative 1.0\n",
      "9: surprise positive/negative 0.0\n",
      "10: disgust neutral/skeptical 0.0\n",
      "11: surprise negative 0.0\n",
      "12: no_emotion negative 0.0\n",
      "13: sadness positive/negative 0.0\n",
      "14: fear positive/negative 0.0\n",
      "GradientBoostingClassifier:\n",
      "0: smile positive/negative 0.678\n",
      "1: no_emotion neutral/skeptical 0.109\n",
      "2: joy positive 0.09\n",
      "3: no_emotion positive/negative 0.058\n",
      "4: sadness negative 0.036\n",
      "5: fear negative 0.005\n",
      "6: shame negative 0.006\n",
      "7: anger negative 0.004\n",
      "8: disgust negative 0.003\n",
      "9: surprise positive/negative 0.003\n",
      "10: disgust neutral/skeptical 0.009\n",
      "11: surprise negative 0.0\n",
      "12: no_emotion negative 0.0\n",
      "13: sadness positive/negative 0.0\n",
      "14: fear positive/negative 0.0\n"
     ]
    }
   ],
   "source": [
    "#result = []\n",
    "for clf in clifs:\n",
    "    try:\n",
    "        result = clf.predict_proba(_vector)\n",
    "        print(clf.__class__.__name__ + \":\")\n",
    "        i = 0\n",
    "        while i < len(result[0]):\n",
    "            print(str(i) +\": \"+ emoji_dict[str(i)], round(result[0][i], 3))\n",
    "            i += 1\n",
    "    except:\n",
    "        print(clf.__class__.__name__)\n",
    "        print(\"No predict_proba\")"
   ]
  },
  {
   "cell_type": "code",
   "execution_count": null,
   "id": "ebde20f4",
   "metadata": {},
   "outputs": [],
   "source": []
  }
 ],
 "metadata": {
  "kernelspec": {
   "display_name": "Python 3 (ipykernel)",
   "language": "python",
   "name": "python3"
  },
  "language_info": {
   "codemirror_mode": {
    "name": "ipython",
    "version": 3
   },
   "file_extension": ".py",
   "mimetype": "text/x-python",
   "name": "python",
   "nbconvert_exporter": "python",
   "pygments_lexer": "ipython3",
   "version": "3.9.13"
  }
 },
 "nbformat": 4,
 "nbformat_minor": 5
}
