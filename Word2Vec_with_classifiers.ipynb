{
 "cells": [
  {
   "cell_type": "markdown",
   "id": "634adb5f",
   "metadata": {},
   "source": [
    "С помощью векторных представлений слов"
   ]
  },
  {
   "cell_type": "markdown",
   "id": "675fcfd0",
   "metadata": {},
   "source": [
    "Используем векторные представления Word2Vec."
   ]
  },
  {
   "cell_type": "code",
   "execution_count": 188,
   "id": "2c7b8fc2",
   "metadata": {},
   "outputs": [],
   "source": [
    "import pandas as pd\n",
    "from sklearn.linear_model import LogisticRegression\n",
    "from sklearn.svm import SVC\n",
    "from sklearn.svm import LinearSVC\n",
    "from sklearn.ensemble import RandomForestClassifier\n",
    "from sklearn.tree import DecisionTreeClassifier\n",
    "from sklearn.model_selection import train_test_split\n",
    "from collections import Counter\n",
    "from sklearn.metrics import f1_score, accuracy_score\n",
    "import sklearn\n",
    "from sklearn.model_selection import cross_val_score\n",
    "from sklearn import metrics\n",
    "from sklearn.naive_bayes import GaussianNB\n",
    "from sklearn.ensemble import GradientBoostingClassifier"
   ]
  },
  {
   "cell_type": "code",
   "execution_count": 189,
   "id": "7e8de61f",
   "metadata": {},
   "outputs": [],
   "source": [
    "emoji_dict = {\"0\":\"smile positive/negative\", \"1\":\"no_emotion neutral/skeptical\", \"2\":\"joy positive\",\n",
    "              \"3\":\"no_emotion positive/negative\", \"4\":\"sadness negative\", \"5\":\"fear negative\",\n",
    "              \"6\":\"shame negative\",\"7\":\"anger negative\", \"8\":\"disgust negative\",\n",
    "              \"9\":\"surprise positive/negative\",\"10\":\"disgust neutral/skeptical\", \"11\":\"surprise negative\",\n",
    "              \"12\":\"no_emotion negative\",\"13\":\"sadness positive/negative\", \"14\":\"fear positive/negative\"}"
   ]
  },
  {
   "cell_type": "code",
   "execution_count": 190,
   "id": "04dfeb7e",
   "metadata": {},
   "outputs": [
    {
     "data": {
      "text/plain": [
       "'anger negative'"
      ]
     },
     "execution_count": 190,
     "metadata": {},
     "output_type": "execute_result"
    }
   ],
   "source": [
    "emoji_dict[\"7\"]"
   ]
  },
  {
   "cell_type": "markdown",
   "id": "efdf7958",
   "metadata": {},
   "source": [
    "## Загружаем и готовим набор данных"
   ]
  },
  {
   "cell_type": "code",
   "execution_count": 2,
   "id": "ad1d7eb5",
   "metadata": {},
   "outputs": [],
   "source": [
    "df_em_1_token_10 = pd.read_csv('df_em_1_token_10.csv', sep=\";\")"
   ]
  },
  {
   "cell_type": "code",
   "execution_count": 4,
   "id": "c2922192",
   "metadata": {},
   "outputs": [
    {
     "data": {
      "text/html": [
       "<div>\n",
       "<style scoped>\n",
       "    .dataframe tbody tr th:only-of-type {\n",
       "        vertical-align: middle;\n",
       "    }\n",
       "\n",
       "    .dataframe tbody tr th {\n",
       "        vertical-align: top;\n",
       "    }\n",
       "\n",
       "    .dataframe thead th {\n",
       "        text-align: right;\n",
       "    }\n",
       "</style>\n",
       "<table border=\"1\" class=\"dataframe\">\n",
       "  <thead>\n",
       "    <tr style=\"text-align: right;\">\n",
       "      <th></th>\n",
       "      <th>img_emoji</th>\n",
       "      <th>word_count</th>\n",
       "      <th>count_emoji</th>\n",
       "      <th>emotion</th>\n",
       "      <th>tonality</th>\n",
       "      <th>class</th>\n",
       "      <th>clean_text</th>\n",
       "    </tr>\n",
       "  </thead>\n",
       "  <tbody>\n",
       "    <tr>\n",
       "      <th>0</th>\n",
       "      <td>😂</td>\n",
       "      <td>5</td>\n",
       "      <td>1</td>\n",
       "      <td>smile</td>\n",
       "      <td>positive/negative</td>\n",
       "      <td>0</td>\n",
       "      <td>почему бы и нет 😂</td>\n",
       "    </tr>\n",
       "    <tr>\n",
       "      <th>1</th>\n",
       "      <td>😁</td>\n",
       "      <td>5</td>\n",
       "      <td>1</td>\n",
       "      <td>smile</td>\n",
       "      <td>positive/negative</td>\n",
       "      <td>0</td>\n",
       "      <td>как сесть на диету 😁</td>\n",
       "    </tr>\n",
       "    <tr>\n",
       "      <th>2</th>\n",
       "      <td>😁</td>\n",
       "      <td>6</td>\n",
       "      <td>1</td>\n",
       "      <td>smile</td>\n",
       "      <td>positive/negative</td>\n",
       "      <td>0</td>\n",
       "      <td>когда в душе ещё щенок 😁</td>\n",
       "    </tr>\n",
       "    <tr>\n",
       "      <th>3</th>\n",
       "      <td>😻</td>\n",
       "      <td>6</td>\n",
       "      <td>1</td>\n",
       "      <td>joy</td>\n",
       "      <td>positive</td>\n",
       "      <td>2</td>\n",
       "      <td>новые фотографии нюши просто огненные😻</td>\n",
       "    </tr>\n",
       "    <tr>\n",
       "      <th>4</th>\n",
       "      <td>😍</td>\n",
       "      <td>7</td>\n",
       "      <td>1</td>\n",
       "      <td>joy</td>\n",
       "      <td>positive</td>\n",
       "      <td>2</td>\n",
       "      <td>безумно красивая актриса - алина ланина 😍</td>\n",
       "    </tr>\n",
       "    <tr>\n",
       "      <th>...</th>\n",
       "      <td>...</td>\n",
       "      <td>...</td>\n",
       "      <td>...</td>\n",
       "      <td>...</td>\n",
       "      <td>...</td>\n",
       "      <td>...</td>\n",
       "      <td>...</td>\n",
       "    </tr>\n",
       "    <tr>\n",
       "      <th>9215</th>\n",
       "      <td>😄</td>\n",
       "      <td>5</td>\n",
       "      <td>1</td>\n",
       "      <td>smile</td>\n",
       "      <td>positive/negative</td>\n",
       "      <td>0</td>\n",
       "      <td>ряды эскортниц скоро пополнится 😄</td>\n",
       "    </tr>\n",
       "    <tr>\n",
       "      <th>9216</th>\n",
       "      <td>😂</td>\n",
       "      <td>7</td>\n",
       "      <td>1</td>\n",
       "      <td>smile</td>\n",
       "      <td>positive/negative</td>\n",
       "      <td>0</td>\n",
       "      <td>так он прав ты реально даун 😂</td>\n",
       "    </tr>\n",
       "    <tr>\n",
       "      <th>9217</th>\n",
       "      <td>🤔</td>\n",
       "      <td>7</td>\n",
       "      <td>1</td>\n",
       "      <td>no_emotion</td>\n",
       "      <td>neutral/skeptical</td>\n",
       "      <td>1</td>\n",
       "      <td>вы же не про меня?🤔</td>\n",
       "    </tr>\n",
       "    <tr>\n",
       "      <th>9218</th>\n",
       "      <td>🤔</td>\n",
       "      <td>9</td>\n",
       "      <td>1</td>\n",
       "      <td>no_emotion</td>\n",
       "      <td>neutral/skeptical</td>\n",
       "      <td>1</td>\n",
       "      <td>про кого пошутил то это не до комик🤔</td>\n",
       "    </tr>\n",
       "    <tr>\n",
       "      <th>9219</th>\n",
       "      <td>🤣</td>\n",
       "      <td>10</td>\n",
       "      <td>1</td>\n",
       "      <td>smile</td>\n",
       "      <td>positive/negative</td>\n",
       "      <td>0</td>\n",
       "      <td>тебе это лучше знать что во всём мире слушают 🤣</td>\n",
       "    </tr>\n",
       "  </tbody>\n",
       "</table>\n",
       "<p>9220 rows × 7 columns</p>\n",
       "</div>"
      ],
      "text/plain": [
       "     img_emoji  word_count  count_emoji     emotion           tonality  class  \\\n",
       "0            😂           5            1       smile  positive/negative      0   \n",
       "1            😁           5            1       smile  positive/negative      0   \n",
       "2            😁           6            1       smile  positive/negative      0   \n",
       "3            😻           6            1         joy           positive      2   \n",
       "4            😍           7            1         joy           positive      2   \n",
       "...        ...         ...          ...         ...                ...    ...   \n",
       "9215         😄           5            1       smile  positive/negative      0   \n",
       "9216         😂           7            1       smile  positive/negative      0   \n",
       "9217         🤔           7            1  no_emotion  neutral/skeptical      1   \n",
       "9218         🤔           9            1  no_emotion  neutral/skeptical      1   \n",
       "9219         🤣          10            1       smile  positive/negative      0   \n",
       "\n",
       "                                           clean_text  \n",
       "0                                   почему бы и нет 😂  \n",
       "1                                как сесть на диету 😁  \n",
       "2                            когда в душе ещё щенок 😁  \n",
       "3              новые фотографии нюши просто огненные😻  \n",
       "4           безумно красивая актриса - алина ланина 😍  \n",
       "...                                               ...  \n",
       "9215                ряды эскортниц скоро пополнится 😄  \n",
       "9216                    так он прав ты реально даун 😂  \n",
       "9217                              вы же не про меня?🤔  \n",
       "9218             про кого пошутил то это не до комик🤔  \n",
       "9219  тебе это лучше знать что во всём мире слушают 🤣  \n",
       "\n",
       "[9220 rows x 7 columns]"
      ]
     },
     "execution_count": 4,
     "metadata": {},
     "output_type": "execute_result"
    }
   ],
   "source": [
    "df_em_1_token_10"
   ]
  },
  {
   "cell_type": "code",
   "execution_count": 5,
   "id": "f2d860bd",
   "metadata": {},
   "outputs": [
    {
     "data": {
      "text/html": [
       "<div>\n",
       "<style scoped>\n",
       "    .dataframe tbody tr th:only-of-type {\n",
       "        vertical-align: middle;\n",
       "    }\n",
       "\n",
       "    .dataframe tbody tr th {\n",
       "        vertical-align: top;\n",
       "    }\n",
       "\n",
       "    .dataframe thead th {\n",
       "        text-align: right;\n",
       "    }\n",
       "</style>\n",
       "<table border=\"1\" class=\"dataframe\">\n",
       "  <thead>\n",
       "    <tr style=\"text-align: right;\">\n",
       "      <th></th>\n",
       "      <th>img_emoji</th>\n",
       "      <th>word_count</th>\n",
       "      <th>count_emoji</th>\n",
       "      <th>emotion</th>\n",
       "      <th>tonality</th>\n",
       "      <th>class</th>\n",
       "      <th>clean_text</th>\n",
       "    </tr>\n",
       "  </thead>\n",
       "  <tbody>\n",
       "    <tr>\n",
       "      <th>5203</th>\n",
       "      <td>😁</td>\n",
       "      <td>11</td>\n",
       "      <td>1</td>\n",
       "      <td>smile</td>\n",
       "      <td>positive/negative</td>\n",
       "      <td>0</td>\n",
       "      <td>я пользуюсь, но не смотрю.. смотрю мультики и ...</td>\n",
       "    </tr>\n",
       "    <tr>\n",
       "      <th>8441</th>\n",
       "      <td>🤔</td>\n",
       "      <td>11</td>\n",
       "      <td>1</td>\n",
       "      <td>no_emotion</td>\n",
       "      <td>neutral/skeptical</td>\n",
       "      <td>1</td>\n",
       "      <td>так бывает дружба между мужчиной и женщиной ил...</td>\n",
       "    </tr>\n",
       "    <tr>\n",
       "      <th>8084</th>\n",
       "      <td>🤣</td>\n",
       "      <td>11</td>\n",
       "      <td>1</td>\n",
       "      <td>smile</td>\n",
       "      <td>positive/negative</td>\n",
       "      <td>0</td>\n",
       "      <td>зачем вам девушка? вам и с голубем не плохо 🤣</td>\n",
       "    </tr>\n",
       "    <tr>\n",
       "      <th>8081</th>\n",
       "      <td>😁</td>\n",
       "      <td>11</td>\n",
       "      <td>1</td>\n",
       "      <td>smile</td>\n",
       "      <td>positive/negative</td>\n",
       "      <td>0</td>\n",
       "      <td>ну девок много а я у мамы один такой прекрасный 😁</td>\n",
       "    </tr>\n",
       "    <tr>\n",
       "      <th>5467</th>\n",
       "      <td>😁</td>\n",
       "      <td>11</td>\n",
       "      <td>1</td>\n",
       "      <td>smile</td>\n",
       "      <td>positive/negative</td>\n",
       "      <td>0</td>\n",
       "      <td>это когда резко приуныл а тут и страхов очка е...</td>\n",
       "    </tr>\n",
       "    <tr>\n",
       "      <th>...</th>\n",
       "      <td>...</td>\n",
       "      <td>...</td>\n",
       "      <td>...</td>\n",
       "      <td>...</td>\n",
       "      <td>...</td>\n",
       "      <td>...</td>\n",
       "      <td>...</td>\n",
       "    </tr>\n",
       "    <tr>\n",
       "      <th>7141</th>\n",
       "      <td>😃</td>\n",
       "      <td>2</td>\n",
       "      <td>1</td>\n",
       "      <td>smile</td>\n",
       "      <td>positive/negative</td>\n",
       "      <td>0</td>\n",
       "      <td>круто😃</td>\n",
       "    </tr>\n",
       "    <tr>\n",
       "      <th>5010</th>\n",
       "      <td>😉</td>\n",
       "      <td>2</td>\n",
       "      <td>1</td>\n",
       "      <td>smile</td>\n",
       "      <td>positive/negative</td>\n",
       "      <td>0</td>\n",
       "      <td>ага😉</td>\n",
       "    </tr>\n",
       "    <tr>\n",
       "      <th>8606</th>\n",
       "      <td>🙂</td>\n",
       "      <td>2</td>\n",
       "      <td>1</td>\n",
       "      <td>smile</td>\n",
       "      <td>positive/negative</td>\n",
       "      <td>0</td>\n",
       "      <td>батя🙂</td>\n",
       "    </tr>\n",
       "    <tr>\n",
       "      <th>7126</th>\n",
       "      <td>😂</td>\n",
       "      <td>2</td>\n",
       "      <td>1</td>\n",
       "      <td>smile</td>\n",
       "      <td>positive/negative</td>\n",
       "      <td>0</td>\n",
       "      <td>фотошоп😂</td>\n",
       "    </tr>\n",
       "    <tr>\n",
       "      <th>7669</th>\n",
       "      <td>😀</td>\n",
       "      <td>2</td>\n",
       "      <td>1</td>\n",
       "      <td>smile</td>\n",
       "      <td>positive/negative</td>\n",
       "      <td>0</td>\n",
       "      <td>вольно😀</td>\n",
       "    </tr>\n",
       "  </tbody>\n",
       "</table>\n",
       "<p>9220 rows × 7 columns</p>\n",
       "</div>"
      ],
      "text/plain": [
       "     img_emoji  word_count  count_emoji     emotion           tonality  class  \\\n",
       "5203         😁          11            1       smile  positive/negative      0   \n",
       "8441         🤔          11            1  no_emotion  neutral/skeptical      1   \n",
       "8084         🤣          11            1       smile  positive/negative      0   \n",
       "8081         😁          11            1       smile  positive/negative      0   \n",
       "5467         😁          11            1       smile  positive/negative      0   \n",
       "...        ...         ...          ...         ...                ...    ...   \n",
       "7141         😃           2            1       smile  positive/negative      0   \n",
       "5010         😉           2            1       smile  positive/negative      0   \n",
       "8606         🙂           2            1       smile  positive/negative      0   \n",
       "7126         😂           2            1       smile  positive/negative      0   \n",
       "7669         😀           2            1       smile  positive/negative      0   \n",
       "\n",
       "                                             clean_text  \n",
       "5203  я пользуюсь, но не смотрю.. смотрю мультики и ...  \n",
       "8441  так бывает дружба между мужчиной и женщиной ил...  \n",
       "8084      зачем вам девушка? вам и с голубем не плохо 🤣  \n",
       "8081  ну девок много а я у мамы один такой прекрасный 😁  \n",
       "5467  это когда резко приуныл а тут и страхов очка е...  \n",
       "...                                                 ...  \n",
       "7141                                             круто😃  \n",
       "5010                                               ага😉  \n",
       "8606                                              батя🙂  \n",
       "7126                                           фотошоп😂  \n",
       "7669                                            вольно😀  \n",
       "\n",
       "[9220 rows x 7 columns]"
      ]
     },
     "execution_count": 5,
     "metadata": {},
     "output_type": "execute_result"
    }
   ],
   "source": [
    "df_em_1_token_10.sort_values(by='word_count', ascending=False)"
   ]
  },
  {
   "cell_type": "code",
   "execution_count": 7,
   "id": "f2e8a151",
   "metadata": {},
   "outputs": [
    {
     "data": {
      "text/html": [
       "<div>\n",
       "<style scoped>\n",
       "    .dataframe tbody tr th:only-of-type {\n",
       "        vertical-align: middle;\n",
       "    }\n",
       "\n",
       "    .dataframe tbody tr th {\n",
       "        vertical-align: top;\n",
       "    }\n",
       "\n",
       "    .dataframe thead th {\n",
       "        text-align: right;\n",
       "    }\n",
       "</style>\n",
       "<table border=\"1\" class=\"dataframe\">\n",
       "  <thead>\n",
       "    <tr style=\"text-align: right;\">\n",
       "      <th></th>\n",
       "      <th>img_emoji</th>\n",
       "      <th>count_emoji</th>\n",
       "      <th>emotion</th>\n",
       "      <th>tonality</th>\n",
       "      <th>class</th>\n",
       "      <th>clean_text</th>\n",
       "    </tr>\n",
       "    <tr>\n",
       "      <th>word_count</th>\n",
       "      <th></th>\n",
       "      <th></th>\n",
       "      <th></th>\n",
       "      <th></th>\n",
       "      <th></th>\n",
       "      <th></th>\n",
       "    </tr>\n",
       "  </thead>\n",
       "  <tbody>\n",
       "    <tr>\n",
       "      <th>2</th>\n",
       "      <td>551</td>\n",
       "      <td>551</td>\n",
       "      <td>551</td>\n",
       "      <td>551</td>\n",
       "      <td>551</td>\n",
       "      <td>551</td>\n",
       "    </tr>\n",
       "    <tr>\n",
       "      <th>3</th>\n",
       "      <td>942</td>\n",
       "      <td>942</td>\n",
       "      <td>942</td>\n",
       "      <td>942</td>\n",
       "      <td>942</td>\n",
       "      <td>942</td>\n",
       "    </tr>\n",
       "    <tr>\n",
       "      <th>4</th>\n",
       "      <td>1076</td>\n",
       "      <td>1076</td>\n",
       "      <td>1076</td>\n",
       "      <td>1076</td>\n",
       "      <td>1076</td>\n",
       "      <td>1076</td>\n",
       "    </tr>\n",
       "    <tr>\n",
       "      <th>5</th>\n",
       "      <td>1127</td>\n",
       "      <td>1127</td>\n",
       "      <td>1127</td>\n",
       "      <td>1127</td>\n",
       "      <td>1127</td>\n",
       "      <td>1127</td>\n",
       "    </tr>\n",
       "    <tr>\n",
       "      <th>6</th>\n",
       "      <td>1216</td>\n",
       "      <td>1216</td>\n",
       "      <td>1216</td>\n",
       "      <td>1216</td>\n",
       "      <td>1216</td>\n",
       "      <td>1216</td>\n",
       "    </tr>\n",
       "    <tr>\n",
       "      <th>7</th>\n",
       "      <td>1089</td>\n",
       "      <td>1089</td>\n",
       "      <td>1089</td>\n",
       "      <td>1089</td>\n",
       "      <td>1089</td>\n",
       "      <td>1089</td>\n",
       "    </tr>\n",
       "    <tr>\n",
       "      <th>8</th>\n",
       "      <td>986</td>\n",
       "      <td>986</td>\n",
       "      <td>986</td>\n",
       "      <td>986</td>\n",
       "      <td>986</td>\n",
       "      <td>986</td>\n",
       "    </tr>\n",
       "    <tr>\n",
       "      <th>9</th>\n",
       "      <td>879</td>\n",
       "      <td>879</td>\n",
       "      <td>879</td>\n",
       "      <td>879</td>\n",
       "      <td>879</td>\n",
       "      <td>879</td>\n",
       "    </tr>\n",
       "    <tr>\n",
       "      <th>10</th>\n",
       "      <td>749</td>\n",
       "      <td>749</td>\n",
       "      <td>749</td>\n",
       "      <td>749</td>\n",
       "      <td>749</td>\n",
       "      <td>749</td>\n",
       "    </tr>\n",
       "    <tr>\n",
       "      <th>11</th>\n",
       "      <td>605</td>\n",
       "      <td>605</td>\n",
       "      <td>605</td>\n",
       "      <td>605</td>\n",
       "      <td>605</td>\n",
       "      <td>605</td>\n",
       "    </tr>\n",
       "  </tbody>\n",
       "</table>\n",
       "</div>"
      ],
      "text/plain": [
       "            img_emoji  count_emoji  emotion  tonality  class  clean_text\n",
       "word_count                                                              \n",
       "2                 551          551      551       551    551         551\n",
       "3                 942          942      942       942    942         942\n",
       "4                1076         1076     1076      1076   1076        1076\n",
       "5                1127         1127     1127      1127   1127        1127\n",
       "6                1216         1216     1216      1216   1216        1216\n",
       "7                1089         1089     1089      1089   1089        1089\n",
       "8                 986          986      986       986    986         986\n",
       "9                 879          879      879       879    879         879\n",
       "10                749          749      749       749    749         749\n",
       "11                605          605      605       605    605         605"
      ]
     },
     "execution_count": 7,
     "metadata": {},
     "output_type": "execute_result"
    }
   ],
   "source": [
    "df_em_1_token_10.groupby('word_count').count()"
   ]
  },
  {
   "cell_type": "code",
   "execution_count": 8,
   "id": "b98ed042",
   "metadata": {},
   "outputs": [],
   "source": [
    "#берём текст как есть с пунктуацией и с эмодзи\n",
    "def preprocess(text):\n",
    "    tokens = text.lower().split()\n",
    "    preprocessed_text = []\n",
    "    for token in tokens:\n",
    "        preprocessed_text.append(token)\n",
    "    return preprocessed_text"
   ]
  },
  {
   "cell_type": "code",
   "execution_count": 106,
   "id": "1e739618",
   "metadata": {},
   "outputs": [],
   "source": [
    "import re"
   ]
  },
  {
   "cell_type": "code",
   "execution_count": 107,
   "id": "2b5dbd95",
   "metadata": {},
   "outputs": [],
   "source": [
    "#без пунктуации и эмодзи\n",
    "def preprocess_no_punct(text):\n",
    "    no_punct_text = re.sub(r'[^\\w\\s]', ' ', text)\n",
    "    tokens = no_punct_text.lower().split()\n",
    "    preprocessed_text = []\n",
    "    for token in tokens:\n",
    "        preprocessed_text.append(token)\n",
    "    return preprocessed_text"
   ]
  },
  {
   "cell_type": "code",
   "execution_count": 195,
   "id": "e21c0eec",
   "metadata": {},
   "outputs": [],
   "source": [
    "import pymorphy2"
   ]
  },
  {
   "cell_type": "code",
   "execution_count": 196,
   "id": "74b7173a",
   "metadata": {},
   "outputs": [],
   "source": [
    "morph = pymorphy2.MorphAnalyzer()"
   ]
  },
  {
   "cell_type": "code",
   "execution_count": 197,
   "id": "119fcd59",
   "metadata": {},
   "outputs": [],
   "source": [
    "#леммы без пунктуации и эмодзи\n",
    "def preprocess_lemma(text):\n",
    "    no_punct_text = re.sub(r'[^\\w\\s]', ' ', text)\n",
    "    tokens = no_punct_text.lower().split()\n",
    "    preprocessed_text = []\n",
    "    for token in tokens:\n",
    "        lemma = morph.parse(token)[0].normal_form\n",
    "        preprocessed_text.append(lemma)\n",
    "    return preprocessed_text"
   ]
  },
  {
   "cell_type": "code",
   "execution_count": 198,
   "id": "dc99de3a",
   "metadata": {},
   "outputs": [],
   "source": [
    "#леммы c пунктуацией и эмодзи\n",
    "def preprocess_lemma_em(text):\n",
    "    tokens = text.lower().split()\n",
    "    preprocessed_text = []\n",
    "    for token in tokens:\n",
    "        lemma = morph.parse(token)[0].normal_form\n",
    "        preprocessed_text.append(lemma)\n",
    "    return preprocessed_text"
   ]
  },
  {
   "cell_type": "code",
   "execution_count": 108,
   "id": "a06d348c",
   "metadata": {},
   "outputs": [],
   "source": [
    "#df_em_1_token_10['Preprocessed_texts'] = df_em_1_token_10.apply(lambda row: preprocess(row['clean_text']), axis=1)"
   ]
  },
  {
   "cell_type": "code",
   "execution_count": 199,
   "id": "3a7cda7f",
   "metadata": {},
   "outputs": [],
   "source": [
    "#df_em_1_token_10['Preprocessed_texts_no_punct'] = df_em_1_token_10.apply(lambda row: preprocess_no_punct(row['clean_text']), axis=1)"
   ]
  },
  {
   "cell_type": "code",
   "execution_count": 200,
   "id": "87d3276a",
   "metadata": {},
   "outputs": [],
   "source": [
    "df_em_1_token_10['Preprocessed_texts_lemma'] = df_em_1_token_10.apply(lambda row: preprocess_lemma_em(row['clean_text']), axis=1)"
   ]
  },
  {
   "cell_type": "markdown",
   "id": "00ad095f",
   "metadata": {},
   "source": [
    "## Обучение Word2Vec"
   ]
  },
  {
   "cell_type": "code",
   "execution_count": 202,
   "id": "85f263df",
   "metadata": {},
   "outputs": [],
   "source": [
    "import gensim.models"
   ]
  },
  {
   "cell_type": "code",
   "execution_count": 11,
   "id": "7c14b667",
   "metadata": {},
   "outputs": [],
   "source": [
    "#max_len = 100\n",
    "max_len = 11\n",
    "vector_size = 300\n",
    "random_state = 42\n",
    "min_count=1\n",
    "window=6"
   ]
  },
  {
   "cell_type": "code",
   "execution_count": 204,
   "id": "80764e99",
   "metadata": {},
   "outputs": [],
   "source": [
    "model_w2v = gensim.models.Word2Vec(sentences=df_em_1_token_10['Preprocessed_texts_lemma'], \n",
    "                               min_count=min_count, window=window,   \n",
    "                               vector_size=vector_size)"
   ]
  },
  {
   "cell_type": "code",
   "execution_count": 205,
   "id": "d132c524",
   "metadata": {},
   "outputs": [
    {
     "data": {
      "text/plain": [
       "array([ 0.02535142,  0.1553747 ,  0.00968606,  0.04186791, -0.00652961,\n",
       "       -0.12673174,  0.17519505,  0.34709835, -0.01442898, -0.01423981,\n",
       "        0.01370811, -0.10515824, -0.02171152,  0.04533768, -0.0961304 ,\n",
       "       -0.1382911 ,  0.1447441 , -0.0146808 ,  0.04765222, -0.08074608,\n",
       "       -0.0768189 , -0.06778786,  0.168393  ,  0.01557644,  0.09241117,\n",
       "       -0.00737767, -0.15802087, -0.00910841, -0.13286199, -0.16504113,\n",
       "        0.04461129, -0.05818423,  0.0435673 , -0.0268141 , -0.07594834,\n",
       "        0.09736775,  0.07111402, -0.13819708, -0.02048261, -0.02027693,\n",
       "       -0.08554538, -0.02739865,  0.00631197, -0.12207931,  0.11319287,\n",
       "        0.19062173,  0.01707893,  0.09786728, -0.05756278,  0.15062961,\n",
       "        0.05809838,  0.06538974, -0.06156971,  0.04275304, -0.01671481,\n",
       "        0.15696505,  0.01537583,  0.02221011,  0.01437383,  0.01827412,\n",
       "       -0.12253622, -0.09065044, -0.07116699,  0.08132894, -0.07477158,\n",
       "        0.09928771,  0.05427288,  0.06921217, -0.11440931, -0.0396524 ,\n",
       "        0.0320171 ,  0.08698984,  0.17642912, -0.14208208,  0.04136705,\n",
       "        0.07178999, -0.08968624,  0.05570935, -0.04356276,  0.2034353 ,\n",
       "       -0.00635971, -0.20502727,  0.06638387,  0.3348853 ,  0.1027937 ,\n",
       "        0.00842916, -0.07461245,  0.01738692,  0.14900586,  0.03597632,\n",
       "        0.20139807, -0.00695749,  0.12207194, -0.01462336,  0.1134297 ,\n",
       "        0.19793332,  0.15053841, -0.07710133, -0.10267765,  0.14086026,\n",
       "       -0.00283354, -0.02005714,  0.09463426,  0.1227823 ,  0.06059536,\n",
       "       -0.15993513,  0.00394258,  0.03736829, -0.19757341, -0.01689381,\n",
       "       -0.13353023, -0.05318951,  0.03542911,  0.1566798 ,  0.07807377,\n",
       "        0.08936021,  0.02957972, -0.02447741,  0.2423601 , -0.21022214,\n",
       "        0.02649788,  0.10445394,  0.08518078,  0.02174618, -0.06886584,\n",
       "        0.10912771,  0.04810918, -0.17615092,  0.03114324,  0.08341057,\n",
       "        0.1223873 ,  0.22098269,  0.09173764, -0.18995227,  0.05116799,\n",
       "        0.08767316, -0.05723026, -0.11953733, -0.21752302, -0.2089865 ,\n",
       "        0.05829374, -0.18522158, -0.1000459 ,  0.0855013 ,  0.10301096,\n",
       "       -0.07387666, -0.1392559 , -0.04358595,  0.07118062, -0.05283659,\n",
       "        0.03720633, -0.28461474, -0.08445609, -0.07097992,  0.02919824,\n",
       "        0.11019802, -0.15239221, -0.05641524, -0.00041299,  0.22518893,\n",
       "       -0.00214454,  0.11259082, -0.22900306,  0.13029096, -0.08867263,\n",
       "        0.07290512,  0.02034727,  0.0555164 , -0.00670908,  0.24720865,\n",
       "       -0.1060981 ,  0.00202706,  0.11631069,  0.08755159, -0.00565546,\n",
       "       -0.01203894,  0.01284405, -0.18395926, -0.02087448, -0.00971104,\n",
       "       -0.06831297,  0.13933454, -0.17981203, -0.082215  , -0.09839746,\n",
       "        0.07753191,  0.2850342 ,  0.2742513 ,  0.07769701, -0.20848463,\n",
       "        0.05074485, -0.01668545, -0.23196457,  0.00420171,  0.07965408,\n",
       "       -0.11092677,  0.04483629, -0.15556654,  0.07009394, -0.03439565,\n",
       "       -0.10972566,  0.05399787,  0.00634995, -0.06248886, -0.06578165,\n",
       "       -0.03006126, -0.03474458,  0.04278104, -0.01106082, -0.04914919,\n",
       "        0.00586579, -0.13291718, -0.03077155, -0.05874556,  0.13860624,\n",
       "       -0.08482976, -0.1852315 , -0.3002083 , -0.21539211, -0.13746478,\n",
       "        0.12307796,  0.02102783, -0.07439354, -0.13170406, -0.12565263,\n",
       "       -0.05038787,  0.05754127, -0.04095839, -0.14038198,  0.05797804,\n",
       "        0.0571706 , -0.08690892, -0.08529663,  0.16169128, -0.14067648,\n",
       "        0.03010748, -0.0168444 ,  0.05196648,  0.00822088, -0.29238182,\n",
       "        0.09354769, -0.01563901, -0.09542402,  0.02881436,  0.06670845,\n",
       "       -0.17553042,  0.01310591, -0.01086713, -0.01937677,  0.07298636,\n",
       "        0.09134845,  0.08489206,  0.04490175, -0.09806636, -0.13724925,\n",
       "       -0.11388024,  0.18342242,  0.07959947, -0.26275536, -0.03941813,\n",
       "        0.08284406,  0.08371682,  0.15877604, -0.2766919 , -0.17730159,\n",
       "       -0.0118087 ,  0.09071921,  0.17695506, -0.12638807,  0.0563105 ,\n",
       "       -0.05032492, -0.05516544, -0.00348948, -0.05694126,  0.14433843,\n",
       "        0.05560744,  0.17755818,  0.02025146, -0.18421364, -0.01815806,\n",
       "        0.04664218, -0.02746915, -0.03813943,  0.0813066 , -0.06441762,\n",
       "       -0.03398951, -0.19539617,  0.1401855 ,  0.02289393,  0.16008464,\n",
       "        0.03161358,  0.25179064,  0.18544835,  0.09028612,  0.1866172 ,\n",
       "        0.21571308,  0.0293752 , -0.04695807,  0.1525166 , -0.09402476],\n",
       "      dtype=float32)"
      ]
     },
     "execution_count": 205,
     "metadata": {},
     "output_type": "execute_result"
    }
   ],
   "source": [
    "model_w2v.wv['хороший']"
   ]
  },
  {
   "cell_type": "code",
   "execution_count": 206,
   "id": "9753a8ae",
   "metadata": {},
   "outputs": [
    {
     "data": {
      "text/plain": [
       "[('в', 0.9998053312301636),\n",
       " ('не', 0.9997916221618652),\n",
       " ('на', 0.9997889995574951),\n",
       " ('из', 0.9997850656509399),\n",
       " ('и', 0.9997811913490295),\n",
       " ('для', 0.9997767210006714),\n",
       " ('с', 0.9997734427452087),\n",
       " ('что', 0.9997701048851013),\n",
       " ('по', 0.9997652173042297),\n",
       " ('как', 0.9997636675834656)]"
      ]
     },
     "execution_count": 206,
     "metadata": {},
     "output_type": "execute_result"
    }
   ],
   "source": [
    "model_w2v.wv.most_similar('хороший')"
   ]
  },
  {
   "cell_type": "code",
   "execution_count": 207,
   "id": "013e0064",
   "metadata": {},
   "outputs": [
    {
     "data": {
      "text/plain": [
       "[('фото', 0.9788702726364136),\n",
       " ('😳', 0.9788094162940979),\n",
       " ('чтобы', 0.9787051677703857),\n",
       " ('без', 0.9786741137504578),\n",
       " ('один', 0.9786697030067444),\n",
       " ('какой', 0.978641927242279),\n",
       " ('как', 0.9786359071731567),\n",
       " ('чем', 0.9786145687103271),\n",
       " ('уже', 0.9786067008972168),\n",
       " ('потом', 0.9786037802696228)]"
      ]
     },
     "execution_count": 207,
     "metadata": {},
     "output_type": "execute_result"
    }
   ],
   "source": [
    "model_w2v.wv.most_similar('радоваться')"
   ]
  },
  {
   "cell_type": "markdown",
   "id": "03311d53",
   "metadata": {},
   "source": [
    "Находим плотные векторные представления для всех слов в тексте"
   ]
  },
  {
   "cell_type": "code",
   "execution_count": 208,
   "id": "f4ff4dd8",
   "metadata": {},
   "outputs": [
    {
     "data": {
      "text/plain": [
       "['почему', 'бы', 'и', 'нет', '😂']"
      ]
     },
     "execution_count": 208,
     "metadata": {},
     "output_type": "execute_result"
    }
   ],
   "source": [
    "preprocessed_text = df_em_1_token_10['Preprocessed_texts_lemma'][0]\n",
    "preprocessed_text"
   ]
  },
  {
   "cell_type": "markdown",
   "id": "66b21953",
   "metadata": {},
   "source": [
    "## Векторизуем текст"
   ]
  },
  {
   "cell_type": "markdown",
   "id": "a7c35bf6",
   "metadata": {},
   "source": [
    "Функция для векторизации текста"
   ]
  },
  {
   "cell_type": "code",
   "execution_count": 209,
   "id": "36ba0619",
   "metadata": {},
   "outputs": [],
   "source": [
    "import numpy as np"
   ]
  },
  {
   "cell_type": "code",
   "execution_count": 210,
   "id": "d2b5212e",
   "metadata": {},
   "outputs": [
    {
     "data": {
      "text/plain": [
       "array([0., 0., 0., 0., 0., 0., 0., 0., 0., 0., 0., 0., 0., 0., 0., 0., 0.,\n",
       "       0., 0., 0., 0., 0., 0., 0., 0., 0., 0., 0., 0., 0., 0., 0., 0., 0.,\n",
       "       0., 0., 0., 0., 0., 0., 0., 0., 0., 0., 0., 0., 0., 0., 0., 0., 0.,\n",
       "       0., 0., 0., 0., 0., 0., 0., 0., 0., 0., 0., 0., 0., 0., 0., 0., 0.,\n",
       "       0., 0., 0., 0., 0., 0., 0., 0., 0., 0., 0., 0., 0., 0., 0., 0., 0.,\n",
       "       0., 0., 0., 0., 0., 0., 0., 0., 0., 0., 0., 0., 0., 0., 0., 0., 0.,\n",
       "       0., 0., 0., 0., 0., 0., 0., 0., 0., 0., 0., 0., 0., 0., 0., 0., 0.,\n",
       "       0., 0., 0., 0., 0., 0., 0., 0., 0., 0., 0., 0., 0., 0., 0., 0., 0.,\n",
       "       0., 0., 0., 0., 0., 0., 0., 0., 0., 0., 0., 0., 0., 0., 0., 0., 0.,\n",
       "       0., 0., 0., 0., 0., 0., 0., 0., 0., 0., 0., 0., 0., 0., 0., 0., 0.,\n",
       "       0., 0., 0., 0., 0., 0., 0., 0., 0., 0., 0., 0., 0., 0., 0., 0., 0.,\n",
       "       0., 0., 0., 0., 0., 0., 0., 0., 0., 0., 0., 0., 0., 0., 0., 0., 0.,\n",
       "       0., 0., 0., 0., 0., 0., 0., 0., 0., 0., 0., 0., 0., 0., 0., 0., 0.,\n",
       "       0., 0., 0., 0., 0., 0., 0., 0., 0., 0., 0., 0., 0., 0., 0., 0., 0.,\n",
       "       0., 0., 0., 0., 0., 0., 0., 0., 0., 0., 0., 0., 0., 0., 0., 0., 0.,\n",
       "       0., 0., 0., 0., 0., 0., 0., 0., 0., 0., 0., 0., 0., 0., 0., 0., 0.,\n",
       "       0., 0., 0., 0., 0., 0., 0., 0., 0., 0., 0., 0., 0., 0., 0., 0., 0.,\n",
       "       0., 0., 0., 0., 0., 0., 0., 0., 0., 0., 0.])"
      ]
     },
     "execution_count": 210,
     "metadata": {},
     "output_type": "execute_result"
    }
   ],
   "source": [
    "zero_vec = np.zeros(vector_size, dtype=float)\n",
    "zero_vec"
   ]
  },
  {
   "cell_type": "code",
   "execution_count": 211,
   "id": "05d363cb",
   "metadata": {},
   "outputs": [],
   "source": [
    "def vectorize_text(txt, model_w2v, max_len):\n",
    "    text_embeddings = []\n",
    "    for token in txt:\n",
    "        try:\n",
    "            embedding = model_w2v.wv[token]\n",
    "            text_embeddings.append(embedding)\n",
    "        except:\n",
    "            print(\"токена \" + token + \" нет в модели\")\n",
    "    # Дополняем или обрезаем текст для фиксированной длины max_len \n",
    "    l = len(text_embeddings)\n",
    "    if l > max_len:\n",
    "        text_embeddings = text_embeddings[:max_len]\n",
    "    else:\n",
    "        text_embeddings.extend([zero_vec] * (max_len - l)) \n",
    "    return text_embeddings"
   ]
  },
  {
   "cell_type": "markdown",
   "id": "f05674a9",
   "metadata": {},
   "source": [
    "Применяем функцию векторизации текста"
   ]
  },
  {
   "cell_type": "code",
   "execution_count": 123,
   "id": "fcf3a682",
   "metadata": {},
   "outputs": [],
   "source": [
    "#df_em_1_token_10['Embeddings'] = df_em_1_token_10.apply(lambda row: vectorize_text(row['Preprocessed_texts'], model_w2v, max_len), axis=1)"
   ]
  },
  {
   "cell_type": "code",
   "execution_count": 212,
   "id": "bfae7822",
   "metadata": {},
   "outputs": [],
   "source": [
    "#df_em_1_token_10['Embeddings'] = df_em_1_token_10.apply(lambda row: vectorize_text(row['Preprocessed_texts_no_punct'], model_w2v, max_len), axis=1)"
   ]
  },
  {
   "cell_type": "code",
   "execution_count": 213,
   "id": "7c9b6ce8",
   "metadata": {},
   "outputs": [],
   "source": [
    "df_em_1_token_10['Embeddings'] = df_em_1_token_10.apply(lambda row: vectorize_text(row['Preprocessed_texts_lemma'], model_w2v, max_len), axis=1)"
   ]
  },
  {
   "cell_type": "markdown",
   "id": "ddddc83f",
   "metadata": {},
   "source": [
    "## Готовим данные для обучения"
   ]
  },
  {
   "cell_type": "markdown",
   "id": "ae63e17a",
   "metadata": {},
   "source": [
    "### Выделяем данные для обучения и тестирования"
   ]
  },
  {
   "cell_type": "code",
   "execution_count": 12,
   "id": "433c2fd6",
   "metadata": {},
   "outputs": [],
   "source": [
    "train, test = train_test_split(df_em_1_token_10, test_size=0.2, random_state = random_state)"
   ]
  },
  {
   "cell_type": "code",
   "execution_count": 218,
   "id": "b04bfb4b",
   "metadata": {},
   "outputs": [
    {
     "data": {
      "text/plain": [
       "9220"
      ]
     },
     "execution_count": 218,
     "metadata": {},
     "output_type": "execute_result"
    }
   ],
   "source": [
    "len(train)+len(test)"
   ]
  },
  {
   "cell_type": "markdown",
   "id": "faed475c",
   "metadata": {},
   "source": [
    "### Разделяем метки классов и данные для обучения"
   ]
  },
  {
   "cell_type": "markdown",
   "id": "9650eed4",
   "metadata": {},
   "source": [
    "Данные для обучения"
   ]
  },
  {
   "cell_type": "code",
   "execution_count": 219,
   "id": "6231cd23",
   "metadata": {},
   "outputs": [],
   "source": [
    "import numpy as np"
   ]
  },
  {
   "cell_type": "code",
   "execution_count": 220,
   "id": "3871997b",
   "metadata": {},
   "outputs": [],
   "source": [
    "x_train = np.array(train['Embeddings'].tolist()).reshape(len(train), vector_size * max_len)\n",
    "y_train = train['class']"
   ]
  },
  {
   "cell_type": "code",
   "execution_count": 221,
   "id": "95810b78",
   "metadata": {},
   "outputs": [
    {
     "data": {
      "text/plain": [
       "(7376, 3300)"
      ]
     },
     "execution_count": 221,
     "metadata": {},
     "output_type": "execute_result"
    }
   ],
   "source": [
    "x_train.shape"
   ]
  },
  {
   "cell_type": "code",
   "execution_count": 222,
   "id": "8af9cc76",
   "metadata": {},
   "outputs": [
    {
     "data": {
      "text/plain": [
       "5559    0\n",
       "8376    0\n",
       "5562    0\n",
       "1491    0\n",
       "6375    1\n",
       "       ..\n",
       "5734    0\n",
       "5191    0\n",
       "5390    4\n",
       "860     9\n",
       "7270    0\n",
       "Name: class, Length: 7376, dtype: int64"
      ]
     },
     "execution_count": 222,
     "metadata": {},
     "output_type": "execute_result"
    }
   ],
   "source": [
    "y_train"
   ]
  },
  {
   "cell_type": "markdown",
   "id": "49d340af",
   "metadata": {},
   "source": [
    "Данные для тестирования"
   ]
  },
  {
   "cell_type": "code",
   "execution_count": 223,
   "id": "0f5fed5d",
   "metadata": {},
   "outputs": [],
   "source": [
    "x_test = np.array(test['Embeddings'].tolist()).reshape(len(test), vector_size * max_len)\n",
    "y_test = test['class']"
   ]
  },
  {
   "cell_type": "code",
   "execution_count": 224,
   "id": "4a647c3f",
   "metadata": {},
   "outputs": [
    {
     "data": {
      "text/plain": [
       "(1844, 3300)"
      ]
     },
     "execution_count": 224,
     "metadata": {},
     "output_type": "execute_result"
    }
   ],
   "source": [
    "x_test.shape"
   ]
  },
  {
   "cell_type": "code",
   "execution_count": 225,
   "id": "c1971e9c",
   "metadata": {},
   "outputs": [
    {
     "data": {
      "text/plain": [
       "7810    0\n",
       "1180    0\n",
       "5865    2\n",
       "623     0\n",
       "711     5\n",
       "       ..\n",
       "4401    0\n",
       "7481    0\n",
       "4467    4\n",
       "4539    0\n",
       "1323    2\n",
       "Name: class, Length: 1844, dtype: int64"
      ]
     },
     "execution_count": 225,
     "metadata": {},
     "output_type": "execute_result"
    }
   ],
   "source": [
    "y_test"
   ]
  },
  {
   "cell_type": "markdown",
   "id": "5e35c338",
   "metadata": {},
   "source": [
    "## Создаем модели машинного обучения"
   ]
  },
  {
   "cell_type": "code",
   "execution_count": 226,
   "id": "7547c8a0",
   "metadata": {},
   "outputs": [],
   "source": [
    "def train_test(clf, X_train, X_test, y_train, y_test):\n",
    "    clf.fit(X_train, y_train)\n",
    "    train_acc = accuracy_score(y_train, clf.predict(X_train))\n",
    "    test_acc = accuracy_score(y_test, clf.predict(X_test))\n",
    "    f1_macro = f1_score(y_test, clf.predict(X_test), average='macro')\n",
    "    f1_micro = f1_score(y_test, clf.predict(X_test), average='micro')\n",
    "    f1_weighted = f1_score(y_test, clf.predict(X_test), average='weighted')\n",
    "    return train_acc, test_acc, f1_macro, f1_micro, f1_weighted"
   ]
  },
  {
   "cell_type": "code",
   "execution_count": 227,
   "id": "32506c35",
   "metadata": {},
   "outputs": [],
   "source": [
    "lr = LogisticRegression(random_state=random_state, max_iter=500)\n",
    "svc = SVC(probability=True)\n",
    "rforest = RandomForestClassifier(random_state=random_state)\n",
    "dtree = DecisionTreeClassifier()\n",
    "nb = GaussianNB()\n",
    "gb = GradientBoostingClassifier(random_state=random_state)"
   ]
  },
  {
   "cell_type": "code",
   "execution_count": 228,
   "id": "b7140773",
   "metadata": {},
   "outputs": [],
   "source": [
    "clifs = [lr, svc, rforest, dtree, nb, gb]"
   ]
  },
  {
   "cell_type": "markdown",
   "id": "3868f443",
   "metadata": {},
   "source": [
    "# Ансамблевые методы"
   ]
  },
  {
   "cell_type": "markdown",
   "id": "ad0492ae",
   "metadata": {},
   "source": [
    "## Мажоритарное голосование"
   ]
  },
  {
   "cell_type": "code",
   "execution_count": 229,
   "id": "aff55bbf",
   "metadata": {},
   "outputs": [],
   "source": [
    "from sklearn.ensemble import VotingClassifier"
   ]
  },
  {
   "cell_type": "code",
   "execution_count": 230,
   "id": "cfecbba2",
   "metadata": {},
   "outputs": [],
   "source": [
    "eclf_hard = VotingClassifier(estimators=[('lr', lr), ('svc', svc), ('rforest', rforest), ('dtree', dtree), ('nb', nb), ('gb', gb)], voting='hard')"
   ]
  },
  {
   "cell_type": "code",
   "execution_count": 231,
   "id": "de04e98d",
   "metadata": {},
   "outputs": [
    {
     "data": {
      "text/plain": [
       "VotingClassifier(estimators=[('lr',\n",
       "                              LogisticRegression(max_iter=500,\n",
       "                                                 random_state=42)),\n",
       "                             ('svc', SVC(probability=True)),\n",
       "                             ('rforest',\n",
       "                              RandomForestClassifier(random_state=42)),\n",
       "                             ('dtree', DecisionTreeClassifier()),\n",
       "                             ('nb', GaussianNB()),\n",
       "                             ('gb',\n",
       "                              GradientBoostingClassifier(random_state=42))])"
      ]
     },
     "execution_count": 231,
     "metadata": {},
     "output_type": "execute_result"
    }
   ],
   "source": [
    "eclf_hard.fit(x_train, y_train)"
   ]
  },
  {
   "cell_type": "code",
   "execution_count": 232,
   "id": "9fc89989",
   "metadata": {},
   "outputs": [],
   "source": [
    "predicted = eclf_hard.predict(x_test)"
   ]
  },
  {
   "cell_type": "code",
   "execution_count": 44,
   "id": "1fef8ecb",
   "metadata": {},
   "outputs": [],
   "source": [
    "#Preprocessed_texts"
   ]
  },
  {
   "cell_type": "code",
   "execution_count": 45,
   "id": "ac48c67d",
   "metadata": {},
   "outputs": [
    {
     "name": "stdout",
     "output_type": "stream",
     "text": [
      "              precision    recall  f1-score   support\n",
      "\n",
      "           0       0.65      1.00      0.79      1166\n",
      "           1       1.00      0.11      0.20       203\n",
      "           2       1.00      0.09      0.16       152\n",
      "           3       1.00      0.07      0.13       101\n",
      "           4       0.67      0.02      0.04        86\n",
      "           5       0.00      0.00      0.00        26\n",
      "           6       1.00      0.08      0.15        24\n",
      "           7       0.00      0.00      0.00        15\n",
      "           8       0.00      0.00      0.00        14\n",
      "           9       1.00      0.17      0.29        18\n",
      "          10       0.00      0.00      0.00         8\n",
      "          11       0.00      0.00      0.00        15\n",
      "          12       0.00      0.00      0.00        11\n",
      "          13       0.00      0.00      0.00         3\n",
      "          14       0.00      0.00      0.00         2\n",
      "\n",
      "    accuracy                           0.66      1844\n",
      "   macro avg       0.42      0.10      0.12      1844\n",
      "weighted avg       0.71      0.66      0.55      1844\n",
      "\n"
     ]
    },
    {
     "name": "stderr",
     "output_type": "stream",
     "text": [
      "/Users/kholann/opt/anaconda3/lib/python3.9/site-packages/sklearn/metrics/_classification.py:1318: UndefinedMetricWarning: Precision and F-score are ill-defined and being set to 0.0 in labels with no predicted samples. Use `zero_division` parameter to control this behavior.\n",
      "  _warn_prf(average, modifier, msg_start, len(result))\n",
      "/Users/kholann/opt/anaconda3/lib/python3.9/site-packages/sklearn/metrics/_classification.py:1318: UndefinedMetricWarning: Precision and F-score are ill-defined and being set to 0.0 in labels with no predicted samples. Use `zero_division` parameter to control this behavior.\n",
      "  _warn_prf(average, modifier, msg_start, len(result))\n",
      "/Users/kholann/opt/anaconda3/lib/python3.9/site-packages/sklearn/metrics/_classification.py:1318: UndefinedMetricWarning: Precision and F-score are ill-defined and being set to 0.0 in labels with no predicted samples. Use `zero_division` parameter to control this behavior.\n",
      "  _warn_prf(average, modifier, msg_start, len(result))\n"
     ]
    }
   ],
   "source": [
    "print(metrics.classification_report(y_test, predicted))"
   ]
  },
  {
   "cell_type": "code",
   "execution_count": 46,
   "id": "ebf658f2",
   "metadata": {},
   "outputs": [],
   "source": [
    "import matplotlib.pyplot as plt"
   ]
  },
  {
   "cell_type": "code",
   "execution_count": 47,
   "id": "b85e8194",
   "metadata": {},
   "outputs": [
    {
     "data": {
      "image/png": "[encoded data removed]",
      "text/plain": [
       "<Figure size 640x480 with 2 Axes>"
      ]
     },
     "metadata": {},
     "output_type": "display_data"
    }
   ],
   "source": [
    "confusion_matrix = metrics.confusion_matrix(y_test, predicted)\n",
    "cm_display = metrics.ConfusionMatrixDisplay(confusion_matrix = confusion_matrix, display_labels = [\"0\", \"1\", \"2\", \"3\", \"4\",\"5\",\"6\",\"7\",\"8\",\"9\",\"10\",\"11\",\"12\",\"13\",\"14\"])\n",
    "\n",
    "cm_display.plot()\n",
    "plt.show()"
   ]
  },
  {
   "cell_type": "code",
   "execution_count": 48,
   "id": "62a01907",
   "metadata": {},
   "outputs": [],
   "source": [
    "def scores(clf, X_train, X_test, y_train, y_test):\n",
    "    train_acc = accuracy_score(y_train, clf.predict(X_train))\n",
    "    test_acc = accuracy_score(y_test, clf.predict(X_test))\n",
    "    f1_macro = f1_score(y_test, clf.predict(X_test), average='macro')\n",
    "    f1_micro = f1_score(y_test, clf.predict(X_test), average='micro')\n",
    "    f1_weighted = f1_score(y_test, clf.predict(X_test), average='weighted')\n",
    "    return train_acc, test_acc, f1_macro, f1_micro, f1_weighted"
   ]
  },
  {
   "cell_type": "code",
   "execution_count": 49,
   "id": "1e726ed1",
   "metadata": {},
   "outputs": [
    {
     "name": "stdout",
     "output_type": "stream",
     "text": [
      "| Classifier                | Training Accuracy | Test Accuracy | F1_macro | F1_micro | F1_weighted |\n",
      "| ------------------------- | ----------------- | ------------- | -------- | -------- | ----------- |\n",
      "| VotingClassifier          |         0.8120933 |     0.6594360 | 0.1175569 | 0.6594360 |   0.5477182 |\n"
     ]
    }
   ],
   "source": [
    "print(\"| {:25} | {} | {} | {} | {} | {} |\".format(\"Classifier\", \"Training Accuracy\", \"Test Accuracy\", \"F1_macro\", \"F1_micro\", \"F1_weighted\"))\n",
    "print(\"| {} | {} | {} | {} | {} | {} |\".format(\"-\"*25, \"-\"*17, \"-\"*13, \"-\"*8, \"-\"*8, \"-\"*11))\n",
    "clf_name = eclf_hard.__class__.__name__\n",
    "train_acc, test_acc, f1_macro, f1_micro, f1_weighted  = scores(eclf_hard, x_train, x_test, y_train, y_test)\n",
    "print(\"| {:25} | {:17.7f} | {:13.7f} | {:8.7f} | {:8.7f} | {:11.7f} |\".format(clf_name, train_acc, test_acc, f1_macro, f1_micro, f1_weighted))"
   ]
  },
  {
   "cell_type": "code",
   "execution_count": 144,
   "id": "2d98d7ef",
   "metadata": {},
   "outputs": [],
   "source": [
    "#Preprocessed_texts_no_punct"
   ]
  },
  {
   "cell_type": "code",
   "execution_count": 145,
   "id": "9249912f",
   "metadata": {},
   "outputs": [
    {
     "name": "stdout",
     "output_type": "stream",
     "text": [
      "              precision    recall  f1-score   support\n",
      "\n",
      "           0       0.64      1.00      0.78      1166\n",
      "           1       1.00      0.00      0.01       203\n",
      "           2       1.00      0.05      0.09       152\n",
      "           3       1.00      0.01      0.02       101\n",
      "           4       1.00      0.01      0.02        86\n",
      "           5       0.00      0.00      0.00        26\n",
      "           6       0.67      0.08      0.15        24\n",
      "           7       0.00      0.00      0.00        15\n",
      "           8       0.00      0.00      0.00        14\n",
      "           9       0.50      0.17      0.25        18\n",
      "          10       0.00      0.00      0.00         8\n",
      "          11       0.00      0.00      0.00        15\n",
      "          12       0.00      0.00      0.00        11\n",
      "          13       0.00      0.00      0.00         3\n",
      "          14       0.00      0.00      0.00         2\n",
      "\n",
      "    accuracy                           0.64      1844\n",
      "   macro avg       0.39      0.09      0.09      1844\n",
      "weighted avg       0.71      0.64      0.51      1844\n",
      "\n"
     ]
    },
    {
     "name": "stderr",
     "output_type": "stream",
     "text": [
      "/Users/kholann/opt/anaconda3/lib/python3.9/site-packages/sklearn/metrics/_classification.py:1318: UndefinedMetricWarning: Precision and F-score are ill-defined and being set to 0.0 in labels with no predicted samples. Use `zero_division` parameter to control this behavior.\n",
      "  _warn_prf(average, modifier, msg_start, len(result))\n",
      "/Users/kholann/opt/anaconda3/lib/python3.9/site-packages/sklearn/metrics/_classification.py:1318: UndefinedMetricWarning: Precision and F-score are ill-defined and being set to 0.0 in labels with no predicted samples. Use `zero_division` parameter to control this behavior.\n",
      "  _warn_prf(average, modifier, msg_start, len(result))\n",
      "/Users/kholann/opt/anaconda3/lib/python3.9/site-packages/sklearn/metrics/_classification.py:1318: UndefinedMetricWarning: Precision and F-score are ill-defined and being set to 0.0 in labels with no predicted samples. Use `zero_division` parameter to control this behavior.\n",
      "  _warn_prf(average, modifier, msg_start, len(result))\n"
     ]
    }
   ],
   "source": [
    "print(metrics.classification_report(y_test, predicted))"
   ]
  },
  {
   "cell_type": "code",
   "execution_count": 146,
   "id": "beb6b9d8",
   "metadata": {},
   "outputs": [
    {
     "data": {
      "image/png": "[encoded data removed]",
      "text/plain": [
       "<Figure size 640x480 with 2 Axes>"
      ]
     },
     "metadata": {},
     "output_type": "display_data"
    }
   ],
   "source": [
    "confusion_matrix = metrics.confusion_matrix(y_test, predicted)\n",
    "cm_display = metrics.ConfusionMatrixDisplay(confusion_matrix = confusion_matrix, display_labels = [\"0\", \"1\", \"2\", \"3\", \"4\",\"5\",\"6\",\"7\",\"8\",\"9\",\"10\",\"11\",\"12\",\"13\",\"14\"])\n",
    "\n",
    "cm_display.plot()\n",
    "plt.show()"
   ]
  },
  {
   "cell_type": "code",
   "execution_count": 147,
   "id": "5395a9b4",
   "metadata": {},
   "outputs": [
    {
     "name": "stdout",
     "output_type": "stream",
     "text": [
      "| Classifier                | Training Accuracy | Test Accuracy | F1_macro | F1_micro | F1_weighted |\n",
      "| ------------------------- | ----------------- | ------------- | -------- | -------- | ----------- |\n",
      "| VotingClassifier          |         0.7720987 |     0.6388286 | 0.0877510 | 0.6388286 |   0.5065866 |\n"
     ]
    }
   ],
   "source": [
    "print(\"| {:25} | {} | {} | {} | {} | {} |\".format(\"Classifier\", \"Training Accuracy\", \"Test Accuracy\", \"F1_macro\", \"F1_micro\", \"F1_weighted\"))\n",
    "print(\"| {} | {} | {} | {} | {} | {} |\".format(\"-\"*25, \"-\"*17, \"-\"*13, \"-\"*8, \"-\"*8, \"-\"*11))\n",
    "clf_name = eclf_hard.__class__.__name__\n",
    "train_acc, test_acc, f1_macro, f1_micro, f1_weighted  = scores(eclf_hard, x_train, x_test, y_train, y_test)\n",
    "print(\"| {:25} | {:17.7f} | {:13.7f} | {:8.7f} | {:8.7f} | {:11.7f} |\".format(clf_name, train_acc, test_acc, f1_macro, f1_micro, f1_weighted))"
   ]
  },
  {
   "cell_type": "code",
   "execution_count": 236,
   "id": "1237c61c",
   "metadata": {},
   "outputs": [],
   "source": [
    "#Preprocessed_texts_lemma_em"
   ]
  },
  {
   "cell_type": "code",
   "execution_count": 237,
   "id": "9f607705",
   "metadata": {},
   "outputs": [
    {
     "name": "stdout",
     "output_type": "stream",
     "text": [
      "              precision    recall  f1-score   support\n",
      "\n",
      "           0       0.65      1.00      0.79      1166\n",
      "           1       1.00      0.13      0.23       203\n",
      "           2       1.00      0.11      0.19       152\n",
      "           3       1.00      0.05      0.09       101\n",
      "           4       1.00      0.01      0.02        86\n",
      "           5       0.00      0.00      0.00        26\n",
      "           6       1.00      0.12      0.22        24\n",
      "           7       0.00      0.00      0.00        15\n",
      "           8       1.00      0.14      0.25        14\n",
      "           9       1.00      0.17      0.29        18\n",
      "          10       0.00      0.00      0.00         8\n",
      "          11       0.00      0.00      0.00        15\n",
      "          12       0.00      0.00      0.00        11\n",
      "          13       0.00      0.00      0.00         3\n",
      "          14       0.00      0.00      0.00         2\n",
      "\n",
      "    accuracy                           0.66      1844\n",
      "   macro avg       0.51      0.12      0.14      1844\n",
      "weighted avg       0.74      0.66      0.55      1844\n",
      "\n"
     ]
    },
    {
     "name": "stderr",
     "output_type": "stream",
     "text": [
      "/Users/kholann/opt/anaconda3/lib/python3.9/site-packages/sklearn/metrics/_classification.py:1318: UndefinedMetricWarning: Precision and F-score are ill-defined and being set to 0.0 in labels with no predicted samples. Use `zero_division` parameter to control this behavior.\n",
      "  _warn_prf(average, modifier, msg_start, len(result))\n",
      "/Users/kholann/opt/anaconda3/lib/python3.9/site-packages/sklearn/metrics/_classification.py:1318: UndefinedMetricWarning: Precision and F-score are ill-defined and being set to 0.0 in labels with no predicted samples. Use `zero_division` parameter to control this behavior.\n",
      "  _warn_prf(average, modifier, msg_start, len(result))\n",
      "/Users/kholann/opt/anaconda3/lib/python3.9/site-packages/sklearn/metrics/_classification.py:1318: UndefinedMetricWarning: Precision and F-score are ill-defined and being set to 0.0 in labels with no predicted samples. Use `zero_division` parameter to control this behavior.\n",
      "  _warn_prf(average, modifier, msg_start, len(result))\n"
     ]
    }
   ],
   "source": [
    "print(metrics.classification_report(y_test, predicted))"
   ]
  },
  {
   "cell_type": "code",
   "execution_count": 238,
   "id": "22b0371e",
   "metadata": {},
   "outputs": [
    {
     "data": {
      "image/png": "[encoded data removed]",
      "text/plain": [
       "<Figure size 640x480 with 2 Axes>"
      ]
     },
     "metadata": {},
     "output_type": "display_data"
    }
   ],
   "source": [
    "confusion_matrix = metrics.confusion_matrix(y_test, predicted)\n",
    "cm_display = metrics.ConfusionMatrixDisplay(confusion_matrix = confusion_matrix, display_labels = [\"0\", \"1\", \"2\", \"3\", \"4\",\"5\",\"6\",\"7\",\"8\",\"9\",\"10\",\"11\",\"12\",\"13\",\"14\"])\n",
    "\n",
    "cm_display.plot()\n",
    "plt.show()"
   ]
  },
  {
   "cell_type": "code",
   "execution_count": 239,
   "id": "0c0b83f7",
   "metadata": {},
   "outputs": [
    {
     "name": "stdout",
     "output_type": "stream",
     "text": [
      "| Classifier                | Training Accuracy | Test Accuracy | F1_macro | F1_micro | F1_weighted |\n",
      "| ------------------------- | ----------------- | ------------- | -------- | -------- | ----------- |\n",
      "| VotingClassifier          |         0.8168384 |     0.6632321 | 0.1393486 | 0.6632321 |   0.5547132 |\n"
     ]
    }
   ],
   "source": [
    "print(\"| {:25} | {} | {} | {} | {} | {} |\".format(\"Classifier\", \"Training Accuracy\", \"Test Accuracy\", \"F1_macro\", \"F1_micro\", \"F1_weighted\"))\n",
    "print(\"| {} | {} | {} | {} | {} | {} |\".format(\"-\"*25, \"-\"*17, \"-\"*13, \"-\"*8, \"-\"*8, \"-\"*11))\n",
    "clf_name = eclf_hard.__class__.__name__\n",
    "train_acc, test_acc, f1_macro, f1_micro, f1_weighted  = scores(eclf_hard, x_train, x_test, y_train, y_test)\n",
    "print(\"| {:25} | {:17.7f} | {:13.7f} | {:8.7f} | {:8.7f} | {:11.7f} |\".format(clf_name, train_acc, test_acc, f1_macro, f1_micro, f1_weighted))"
   ]
  },
  {
   "cell_type": "markdown",
   "id": "8ac4f919",
   "metadata": {},
   "source": [
    "## Мягкое голосование"
   ]
  },
  {
   "cell_type": "code",
   "execution_count": 240,
   "id": "3cd8945e",
   "metadata": {},
   "outputs": [],
   "source": [
    "eclf_soft = VotingClassifier(estimators=[('lr', lr), ('svc', svc), ('rforest', rforest), ('dtree', dtree), ('nb', nb), ('gb', gb)], voting='soft')"
   ]
  },
  {
   "cell_type": "code",
   "execution_count": 241,
   "id": "a5b94472",
   "metadata": {},
   "outputs": [
    {
     "data": {
      "text/plain": [
       "VotingClassifier(estimators=[('lr',\n",
       "                              LogisticRegression(max_iter=500,\n",
       "                                                 random_state=42)),\n",
       "                             ('svc', SVC(probability=True)),\n",
       "                             ('rforest',\n",
       "                              RandomForestClassifier(random_state=42)),\n",
       "                             ('dtree', DecisionTreeClassifier()),\n",
       "                             ('nb', GaussianNB()),\n",
       "                             ('gb',\n",
       "                              GradientBoostingClassifier(random_state=42))],\n",
       "                 voting='soft')"
      ]
     },
     "execution_count": 241,
     "metadata": {},
     "output_type": "execute_result"
    }
   ],
   "source": [
    "eclf_soft.fit(x_train, y_train)"
   ]
  },
  {
   "cell_type": "code",
   "execution_count": 242,
   "id": "e259c645",
   "metadata": {},
   "outputs": [],
   "source": [
    "predicted = eclf_soft.predict(x_test)"
   ]
  },
  {
   "cell_type": "code",
   "execution_count": 53,
   "id": "a1fb33a6",
   "metadata": {},
   "outputs": [],
   "source": [
    "#Preprocessed_texts"
   ]
  },
  {
   "cell_type": "code",
   "execution_count": 54,
   "id": "6fd51ca4",
   "metadata": {},
   "outputs": [
    {
     "name": "stdout",
     "output_type": "stream",
     "text": [
      "              precision    recall  f1-score   support\n",
      "\n",
      "           0       0.66      1.00      0.79      1166\n",
      "           1       1.00      0.18      0.31       203\n",
      "           2       1.00      0.14      0.24       152\n",
      "           3       1.00      0.07      0.13       101\n",
      "           4       0.75      0.03      0.07        86\n",
      "           5       0.00      0.00      0.00        26\n",
      "           6       1.00      0.08      0.15        24\n",
      "           7       0.00      0.00      0.00        15\n",
      "           8       0.00      0.00      0.00        14\n",
      "           9       1.00      0.17      0.29        18\n",
      "          10       0.00      0.00      0.00         8\n",
      "          11       0.00      0.00      0.00        15\n",
      "          12       0.00      0.00      0.00        11\n",
      "          13       0.00      0.00      0.00         3\n",
      "          14       0.00      0.00      0.00         2\n",
      "\n",
      "    accuracy                           0.67      1844\n",
      "   macro avg       0.43      0.11      0.13      1844\n",
      "weighted avg       0.72      0.67      0.57      1844\n",
      "\n"
     ]
    },
    {
     "name": "stderr",
     "output_type": "stream",
     "text": [
      "/Users/kholann/opt/anaconda3/lib/python3.9/site-packages/sklearn/metrics/_classification.py:1318: UndefinedMetricWarning: Precision and F-score are ill-defined and being set to 0.0 in labels with no predicted samples. Use `zero_division` parameter to control this behavior.\n",
      "  _warn_prf(average, modifier, msg_start, len(result))\n",
      "/Users/kholann/opt/anaconda3/lib/python3.9/site-packages/sklearn/metrics/_classification.py:1318: UndefinedMetricWarning: Precision and F-score are ill-defined and being set to 0.0 in labels with no predicted samples. Use `zero_division` parameter to control this behavior.\n",
      "  _warn_prf(average, modifier, msg_start, len(result))\n",
      "/Users/kholann/opt/anaconda3/lib/python3.9/site-packages/sklearn/metrics/_classification.py:1318: UndefinedMetricWarning: Precision and F-score are ill-defined and being set to 0.0 in labels with no predicted samples. Use `zero_division` parameter to control this behavior.\n",
      "  _warn_prf(average, modifier, msg_start, len(result))\n"
     ]
    }
   ],
   "source": [
    "print(metrics.classification_report(y_test, predicted))"
   ]
  },
  {
   "cell_type": "code",
   "execution_count": 55,
   "id": "3b8c5cf6",
   "metadata": {},
   "outputs": [
    {
     "data": {
      "image/png": "[encoded data removed]",
      "text/plain": [
       "<Figure size 640x480 with 2 Axes>"
      ]
     },
     "metadata": {},
     "output_type": "display_data"
    }
   ],
   "source": [
    "confusion_matrix = metrics.confusion_matrix(y_test, predicted)\n",
    "cm_display = metrics.ConfusionMatrixDisplay(confusion_matrix = confusion_matrix, display_labels = [\"0\", \"1\", \"2\", \"3\", \"4\",\"5\",\"6\",\"7\",\"8\",\"9\",\"10\",\"11\",\"12\",\"13\",\"14\"])\n",
    "\n",
    "cm_display.plot()\n",
    "plt.show()"
   ]
  },
  {
   "cell_type": "code",
   "execution_count": 56,
   "id": "96f13ffb",
   "metadata": {},
   "outputs": [
    {
     "name": "stdout",
     "output_type": "stream",
     "text": [
      "| Classifier                | Training Accuracy | Test Accuracy | F1_macro | F1_micro | F1_weighted |\n",
      "| ------------------------- | ----------------- | ------------- | -------- | -------- | ----------- |\n",
      "| VotingClassifier          |         0.9185195 |     0.6713666 | 0.1321096 | 0.6713666 |   0.5714483 |\n"
     ]
    }
   ],
   "source": [
    "print(\"| {:25} | {} | {} | {} | {} | {} |\".format(\"Classifier\", \"Training Accuracy\", \"Test Accuracy\", \"F1_macro\", \"F1_micro\", \"F1_weighted\"))\n",
    "print(\"| {} | {} | {} | {} | {} | {} |\".format(\"-\"*25, \"-\"*17, \"-\"*13, \"-\"*8, \"-\"*8, \"-\"*11))\n",
    "clf_name = eclf_soft.__class__.__name__\n",
    "train_acc, test_acc, f1_macro, f1_micro, f1_weighted  = scores(eclf_soft, x_train, x_test, y_train, y_test)\n",
    "print(\"| {:25} | {:17.7f} | {:13.7f} | {:8.7f} | {:8.7f} | {:11.7f} |\".format(clf_name, train_acc, test_acc, f1_macro, f1_micro, f1_weighted))"
   ]
  },
  {
   "cell_type": "code",
   "execution_count": 151,
   "id": "a30df196",
   "metadata": {},
   "outputs": [],
   "source": [
    "#Preprocessed_texts_no_punct"
   ]
  },
  {
   "cell_type": "code",
   "execution_count": 152,
   "id": "344151c0",
   "metadata": {},
   "outputs": [
    {
     "name": "stdout",
     "output_type": "stream",
     "text": [
      "              precision    recall  f1-score   support\n",
      "\n",
      "           0       0.64      0.99      0.78      1166\n",
      "           1       1.00      0.00      0.01       203\n",
      "           2       0.75      0.06      0.11       152\n",
      "           3       0.50      0.01      0.02       101\n",
      "           4       0.33      0.01      0.02        86\n",
      "           5       0.00      0.00      0.00        26\n",
      "           6       0.67      0.08      0.15        24\n",
      "           7       0.00      0.00      0.00        15\n",
      "           8       0.00      0.00      0.00        14\n",
      "           9       0.50      0.17      0.25        18\n",
      "          10       0.00      0.00      0.00         8\n",
      "          11       0.00      0.00      0.00        15\n",
      "          12       0.00      0.00      0.00        11\n",
      "          13       0.00      0.00      0.00         3\n",
      "          14       0.00      0.00      0.00         2\n",
      "\n",
      "    accuracy                           0.64      1844\n",
      "   macro avg       0.29      0.09      0.09      1844\n",
      "weighted avg       0.63      0.64      0.51      1844\n",
      "\n"
     ]
    },
    {
     "name": "stderr",
     "output_type": "stream",
     "text": [
      "/Users/kholann/opt/anaconda3/lib/python3.9/site-packages/sklearn/metrics/_classification.py:1318: UndefinedMetricWarning: Precision and F-score are ill-defined and being set to 0.0 in labels with no predicted samples. Use `zero_division` parameter to control this behavior.\n",
      "  _warn_prf(average, modifier, msg_start, len(result))\n",
      "/Users/kholann/opt/anaconda3/lib/python3.9/site-packages/sklearn/metrics/_classification.py:1318: UndefinedMetricWarning: Precision and F-score are ill-defined and being set to 0.0 in labels with no predicted samples. Use `zero_division` parameter to control this behavior.\n",
      "  _warn_prf(average, modifier, msg_start, len(result))\n",
      "/Users/kholann/opt/anaconda3/lib/python3.9/site-packages/sklearn/metrics/_classification.py:1318: UndefinedMetricWarning: Precision and F-score are ill-defined and being set to 0.0 in labels with no predicted samples. Use `zero_division` parameter to control this behavior.\n",
      "  _warn_prf(average, modifier, msg_start, len(result))\n"
     ]
    }
   ],
   "source": [
    "print(metrics.classification_report(y_test, predicted))"
   ]
  },
  {
   "cell_type": "code",
   "execution_count": 153,
   "id": "ad43727f",
   "metadata": {},
   "outputs": [
    {
     "data": {
      "image/png": "[encoded data removed]",
      "text/plain": [
       "<Figure size 640x480 with 2 Axes>"
      ]
     },
     "metadata": {},
     "output_type": "display_data"
    }
   ],
   "source": [
    "confusion_matrix = metrics.confusion_matrix(y_test, predicted)\n",
    "cm_display = metrics.ConfusionMatrixDisplay(confusion_matrix = confusion_matrix, display_labels = [\"0\", \"1\", \"2\", \"3\", \"4\",\"5\",\"6\",\"7\",\"8\",\"9\",\"10\",\"11\",\"12\",\"13\",\"14\"])\n",
    "\n",
    "cm_display.plot()\n",
    "plt.show()"
   ]
  },
  {
   "cell_type": "code",
   "execution_count": 154,
   "id": "4cff7c09",
   "metadata": {},
   "outputs": [
    {
     "name": "stdout",
     "output_type": "stream",
     "text": [
      "| Classifier                | Training Accuracy | Test Accuracy | F1_macro | F1_micro | F1_weighted |\n",
      "| ------------------------- | ----------------- | ------------- | -------- | -------- | ----------- |\n",
      "| VotingClassifier          |         0.8565618 |     0.6372017 | 0.0891360 | 0.6372017 |   0.5081995 |\n"
     ]
    }
   ],
   "source": [
    "print(\"| {:25} | {} | {} | {} | {} | {} |\".format(\"Classifier\", \"Training Accuracy\", \"Test Accuracy\", \"F1_macro\", \"F1_micro\", \"F1_weighted\"))\n",
    "print(\"| {} | {} | {} | {} | {} | {} |\".format(\"-\"*25, \"-\"*17, \"-\"*13, \"-\"*8, \"-\"*8, \"-\"*11))\n",
    "clf_name = eclf_soft.__class__.__name__\n",
    "train_acc, test_acc, f1_macro, f1_micro, f1_weighted  = scores(eclf_soft, x_train, x_test, y_train, y_test)\n",
    "print(\"| {:25} | {:17.7f} | {:13.7f} | {:8.7f} | {:8.7f} | {:11.7f} |\".format(clf_name, train_acc, test_acc, f1_macro, f1_micro, f1_weighted))"
   ]
  },
  {
   "cell_type": "code",
   "execution_count": 243,
   "id": "17180188",
   "metadata": {},
   "outputs": [],
   "source": [
    "#Preprocessed_texts_lemma_em"
   ]
  },
  {
   "cell_type": "code",
   "execution_count": 244,
   "id": "5facc98f",
   "metadata": {},
   "outputs": [
    {
     "name": "stdout",
     "output_type": "stream",
     "text": [
      "              precision    recall  f1-score   support\n",
      "\n",
      "           0       0.67      1.00      0.80      1166\n",
      "           1       1.00      0.21      0.34       203\n",
      "           2       1.00      0.21      0.35       152\n",
      "           3       1.00      0.10      0.18       101\n",
      "           4       0.80      0.05      0.09        86\n",
      "           5       0.00      0.00      0.00        26\n",
      "           6       1.00      0.12      0.22        24\n",
      "           7       0.50      0.07      0.12        15\n",
      "           8       1.00      0.14      0.25        14\n",
      "           9       1.00      0.22      0.36        18\n",
      "          10       0.00      0.00      0.00         8\n",
      "          11       0.00      0.00      0.00        15\n",
      "          12       0.00      0.00      0.00        11\n",
      "          13       0.00      0.00      0.00         3\n",
      "          14       0.00      0.00      0.00         2\n",
      "\n",
      "    accuracy                           0.68      1844\n",
      "   macro avg       0.53      0.14      0.18      1844\n",
      "weighted avg       0.74      0.68      0.60      1844\n",
      "\n"
     ]
    },
    {
     "name": "stderr",
     "output_type": "stream",
     "text": [
      "/Users/kholann/opt/anaconda3/lib/python3.9/site-packages/sklearn/metrics/_classification.py:1318: UndefinedMetricWarning: Precision and F-score are ill-defined and being set to 0.0 in labels with no predicted samples. Use `zero_division` parameter to control this behavior.\n",
      "  _warn_prf(average, modifier, msg_start, len(result))\n",
      "/Users/kholann/opt/anaconda3/lib/python3.9/site-packages/sklearn/metrics/_classification.py:1318: UndefinedMetricWarning: Precision and F-score are ill-defined and being set to 0.0 in labels with no predicted samples. Use `zero_division` parameter to control this behavior.\n",
      "  _warn_prf(average, modifier, msg_start, len(result))\n",
      "/Users/kholann/opt/anaconda3/lib/python3.9/site-packages/sklearn/metrics/_classification.py:1318: UndefinedMetricWarning: Precision and F-score are ill-defined and being set to 0.0 in labels with no predicted samples. Use `zero_division` parameter to control this behavior.\n",
      "  _warn_prf(average, modifier, msg_start, len(result))\n"
     ]
    }
   ],
   "source": [
    "print(metrics.classification_report(y_test, predicted))"
   ]
  },
  {
   "cell_type": "code",
   "execution_count": 245,
   "id": "c77c44df",
   "metadata": {},
   "outputs": [
    {
     "data": {
      "image/png": "[encoded data removed]",
      "text/plain": [
       "<Figure size 640x480 with 2 Axes>"
      ]
     },
     "metadata": {},
     "output_type": "display_data"
    }
   ],
   "source": [
    "confusion_matrix = metrics.confusion_matrix(y_test, predicted)\n",
    "cm_display = metrics.ConfusionMatrixDisplay(confusion_matrix = confusion_matrix, display_labels = [\"0\", \"1\", \"2\", \"3\", \"4\",\"5\",\"6\",\"7\",\"8\",\"9\",\"10\",\"11\",\"12\",\"13\",\"14\"])\n",
    "\n",
    "cm_display.plot()\n",
    "plt.show()"
   ]
  },
  {
   "cell_type": "code",
   "execution_count": 246,
   "id": "7087098e",
   "metadata": {},
   "outputs": [
    {
     "name": "stdout",
     "output_type": "stream",
     "text": [
      "| Classifier                | Training Accuracy | Test Accuracy | F1_macro | F1_micro | F1_weighted |\n",
      "| ------------------------- | ----------------- | ------------- | -------- | -------- | ----------- |\n",
      "| VotingClassifier          |         0.9149946 |     0.6849241 | 0.1808829 | 0.6849241 |   0.5961464 |\n"
     ]
    }
   ],
   "source": [
    "print(\"| {:25} | {} | {} | {} | {} | {} |\".format(\"Classifier\", \"Training Accuracy\", \"Test Accuracy\", \"F1_macro\", \"F1_micro\", \"F1_weighted\"))\n",
    "print(\"| {} | {} | {} | {} | {} | {} |\".format(\"-\"*25, \"-\"*17, \"-\"*13, \"-\"*8, \"-\"*8, \"-\"*11))\n",
    "clf_name = eclf_soft.__class__.__name__\n",
    "train_acc, test_acc, f1_macro, f1_micro, f1_weighted  = scores(eclf_soft, x_train, x_test, y_train, y_test)\n",
    "print(\"| {:25} | {:17.7f} | {:13.7f} | {:8.7f} | {:8.7f} | {:11.7f} |\".format(clf_name, train_acc, test_acc, f1_macro, f1_micro, f1_weighted))"
   ]
  },
  {
   "cell_type": "markdown",
   "id": "096cb487",
   "metadata": {},
   "source": [
    "## Обучаем модели машинного обучения"
   ]
  },
  {
   "cell_type": "code",
   "execution_count": 58,
   "id": "acdc8aab",
   "metadata": {},
   "outputs": [],
   "source": [
    "#Preprocessed_texts"
   ]
  },
  {
   "cell_type": "code",
   "execution_count": 59,
   "id": "fde96cb5",
   "metadata": {},
   "outputs": [
    {
     "name": "stdout",
     "output_type": "stream",
     "text": [
      "| Classifier                | Training Accuracy | Test Accuracy | F1_macro | F1_micro | F1_weighted |\n",
      "| ------------------------- | ----------------- | ------------- | -------- | -------- | ----------- |\n",
      "| LogisticRegression        |         0.6491323 |     0.6323210 | 0.0516501 | 0.6323210 |   0.4898913 |\n",
      "| SVC                       |         0.6491323 |     0.6323210 | 0.0516501 | 0.6323210 |   0.4898913 |\n",
      "| RandomForestClassifier    |         1.0000000 |     0.7017354 | 0.2363892 | 0.7017354 |   0.6252998 |\n",
      "| DecisionTreeClassifier    |         1.0000000 |     0.5428416 | 0.1522052 | 0.5428416 |   0.5453834 |\n",
      "| GaussianNB                |         0.0390456 |     0.0439262 | 0.0162614 | 0.0439262 |   0.0759571 |\n",
      "| GradientBoostingClassifier |         0.8233460 |     0.6344902 | 0.1554569 | 0.6344902 |   0.5724077 |\n"
     ]
    }
   ],
   "source": [
    "# train and test them \n",
    "print(\"| {:25} | {} | {} | {} | {} | {} |\".format(\"Classifier\", \"Training Accuracy\", \"Test Accuracy\", \"F1_macro\", \"F1_micro\", \"F1_weighted\"))\n",
    "print(\"| {} | {} | {} | {} | {} | {} |\".format(\"-\"*25, \"-\"*17, \"-\"*13, \"-\"*8, \"-\"*8, \"-\"*11))\n",
    "for clf in clifs: \n",
    "    clf_name = clf.__class__.__name__\n",
    "    train_acc, test_acc, f1_macro, f1_micro, f1_weighted  = train_test(clf, x_train, x_test, y_train, y_test)\n",
    "    print(\"| {:25} | {:17.7f} | {:13.7f} | {:8.7f} | {:8.7f} | {:11.7f} |\".format(clf_name, train_acc, test_acc, f1_macro, f1_micro, f1_weighted))"
   ]
  },
  {
   "cell_type": "code",
   "execution_count": 156,
   "id": "9e8e6aca",
   "metadata": {},
   "outputs": [],
   "source": [
    "#Preprocessed_texts_no_punct"
   ]
  },
  {
   "cell_type": "code",
   "execution_count": 157,
   "id": "1e8767e4",
   "metadata": {},
   "outputs": [
    {
     "name": "stdout",
     "output_type": "stream",
     "text": [
      "| Classifier                | Training Accuracy | Test Accuracy | F1_macro | F1_micro | F1_weighted |\n",
      "| ------------------------- | ----------------- | ------------- | -------- | -------- | ----------- |\n",
      "| LogisticRegression        |         0.6491323 |     0.6323210 | 0.0516501 | 0.6323210 |   0.4898913 |\n",
      "| SVC                       |         0.6491323 |     0.6323210 | 0.0516501 | 0.6323210 |   0.4898913 |\n",
      "| RandomForestClassifier    |         0.9890184 |     0.6409978 | 0.0971264 | 0.6409978 |   0.5173865 |\n",
      "| DecisionTreeClassifier    |         0.9890184 |     0.4587852 | 0.0983083 | 0.4587852 |   0.4548319 |\n",
      "| GaussianNB                |         0.0043384 |     0.0027115 | 0.0025161 | 0.0027115 |   0.0011717 |\n",
      "| GradientBoostingClassifier |         0.7716920 |     0.5889371 | 0.0857907 | 0.5889371 |   0.4909355 |\n"
     ]
    }
   ],
   "source": [
    "print(\"| {:25} | {} | {} | {} | {} | {} |\".format(\"Classifier\", \"Training Accuracy\", \"Test Accuracy\", \"F1_macro\", \"F1_micro\", \"F1_weighted\"))\n",
    "print(\"| {} | {} | {} | {} | {} | {} |\".format(\"-\"*25, \"-\"*17, \"-\"*13, \"-\"*8, \"-\"*8, \"-\"*11))\n",
    "for clf in clifs: \n",
    "    clf_name = clf.__class__.__name__\n",
    "    train_acc, test_acc, f1_macro, f1_micro, f1_weighted  = train_test(clf, x_train, x_test, y_train, y_test)\n",
    "    print(\"| {:25} | {:17.7f} | {:13.7f} | {:8.7f} | {:8.7f} | {:11.7f} |\".format(clf_name, train_acc, test_acc, f1_macro, f1_micro, f1_weighted))"
   ]
  },
  {
   "cell_type": "code",
   "execution_count": 248,
   "id": "d865f25e",
   "metadata": {},
   "outputs": [],
   "source": [
    "#Preprocessed_texts_lemma"
   ]
  },
  {
   "cell_type": "code",
   "execution_count": 249,
   "id": "64e2fe91",
   "metadata": {},
   "outputs": [
    {
     "name": "stdout",
     "output_type": "stream",
     "text": [
      "| Classifier                | Training Accuracy | Test Accuracy | F1_macro | F1_micro | F1_weighted |\n",
      "| ------------------------- | ----------------- | ------------- | -------- | -------- | ----------- |\n",
      "| LogisticRegression        |         0.6491323 |     0.6323210 | 0.0516501 | 0.6323210 |   0.4898913 |\n",
      "| SVC                       |         0.6491323 |     0.6323210 | 0.0516501 | 0.6323210 |   0.4898913 |\n",
      "| RandomForestClassifier    |         1.0000000 |     0.7114967 | 0.2584813 | 0.7114967 |   0.6419404 |\n",
      "| DecisionTreeClassifier    |         1.0000000 |     0.5547722 | 0.1890566 | 0.5547722 |   0.5578872 |\n",
      "| GaussianNB                |         0.0300976 |     0.0379610 | 0.0140221 | 0.0379610 |   0.0655967 |\n",
      "| GradientBoostingClassifier |         0.8268709 |     0.6355748 | 0.1876753 | 0.6355748 |   0.5697070 |\n"
     ]
    }
   ],
   "source": [
    "print(\"| {:25} | {} | {} | {} | {} | {} |\".format(\"Classifier\", \"Training Accuracy\", \"Test Accuracy\", \"F1_macro\", \"F1_micro\", \"F1_weighted\"))\n",
    "print(\"| {} | {} | {} | {} | {} | {} |\".format(\"-\"*25, \"-\"*17, \"-\"*13, \"-\"*8, \"-\"*8, \"-\"*11))\n",
    "for clf in clifs: \n",
    "    clf_name = clf.__class__.__name__\n",
    "    train_acc, test_acc, f1_macro, f1_micro, f1_weighted  = train_test(clf, x_train, x_test, y_train, y_test)\n",
    "    print(\"| {:25} | {:17.7f} | {:13.7f} | {:8.7f} | {:8.7f} | {:11.7f} |\".format(clf_name, train_acc, test_acc, f1_macro, f1_micro, f1_weighted))"
   ]
  },
  {
   "cell_type": "markdown",
   "id": "f3caaa01",
   "metadata": {},
   "source": [
    "## Оцениваем качество обучения на тестовом наборе данных"
   ]
  },
  {
   "cell_type": "markdown",
   "id": "6e736d9f",
   "metadata": {},
   "source": [
    "Определяем долю правильных ответов (accuracy) на тестовом наборе данных"
   ]
  },
  {
   "cell_type": "code",
   "execution_count": 250,
   "id": "1848bb25",
   "metadata": {},
   "outputs": [],
   "source": [
    "#Preprocessed_texts_lemma_em"
   ]
  },
  {
   "cell_type": "code",
   "execution_count": 254,
   "id": "ec91a808",
   "metadata": {},
   "outputs": [],
   "source": [
    "# max_len = 11 df_em_1_token_10 9220 записей c clean_text\n",
    "# min_count=1\n",
    "# window = 6\n",
    "# 0.6637744034707158 на тексте как есть с пунктуацией и с эмодзи\n",
    "# 0.6339479392624728 на тексте без пунктуации и без эмодзи\n",
    "# 0.6540130151843818 лемматизированный текст с пунктуацией и с эмодзи"
   ]
  },
  {
   "cell_type": "code",
   "execution_count": 255,
   "id": "b34c1d4b",
   "metadata": {},
   "outputs": [],
   "source": [
    "# df_em_1_token_10 9220 записей c clean_text\n",
    "# на тексте как есть с пунктуацией и с эмодзи\n",
    "\n",
    "# f1_score macro  = 0.05699385360402309\n",
    "# f1_score micro = 0.6637744034707158\n",
    "# f1_score weighted = 0.5296348564851083\n",
    "# f1_score average=None \n",
    "# array([0.79791395, 0.        , 0.        , 0.        , 0.        ,\n",
    " #      0.        , 0.        , 0.        , 0.        , 0.        ,\n",
    "  #     0.        , 0.        , 0.        , 0.        ])\n",
    "\n",
    "# на тексте без пунктуации и без эмодзи\n",
    "# f1_score macro  = 0.055426485230667115\n",
    "# f1_score micro = 0.6339479392624728\n",
    "# f1_score weighted = 0.4919250852956063\n",
    "# f1_score average = None \n",
    "# array([0.77597079, 0.        , 0.        , 0.        , 0.        ,\n",
    " #      0.        , 0.        , 0.        , 0.        , 0.        ,\n",
    "  #     0.        , 0.        , 0.        , 0.        ])\n",
    "\n",
    "# лемматизированный текст c пунктуацией и с эмодзи\n",
    "# f1_score macro  = 0.05272131147540984\n",
    "# f1_score micro = 0.6540130151843818\n",
    "# f1_score weighted = 0.5172063582376161\n",
    "# f1_score average = None \n",
    "# array([0.79081967, 0.        , 0.        , 0.        , 0.        ,\n",
    " #      0.        , 0.        , 0.        , 0.        , 0.        ,\n",
    "  #     0.        , 0.        , 0.        , 0.        , 0.        ])"
   ]
  },
  {
   "cell_type": "markdown",
   "id": "f63c00f2",
   "metadata": {},
   "source": [
    "## Применяем модель"
   ]
  },
  {
   "cell_type": "code",
   "execution_count": 256,
   "id": "6fec40a6",
   "metadata": {},
   "outputs": [],
   "source": [
    "#text = \"Хех и сразу музыка в голове\"\n",
    "#text = \"я даже неделю не могу продержаться 😭\"\n",
    "text = \"жизнь прекрасна !\""
   ]
  },
  {
   "cell_type": "markdown",
   "id": "f01bccd3",
   "metadata": {},
   "source": [
    "Подготовка текста к обработке"
   ]
  },
  {
   "cell_type": "code",
   "execution_count": 257,
   "id": "4ca2fdcb",
   "metadata": {},
   "outputs": [],
   "source": [
    "#preprocessed_text = preprocess(text)\n",
    "#preprocessed_text = preprocess_no_punct(text)\n",
    "preprocessed_text = preprocess_lemma_em(text)"
   ]
  },
  {
   "cell_type": "code",
   "execution_count": 258,
   "id": "d7fa8c30",
   "metadata": {},
   "outputs": [
    {
     "data": {
      "text/plain": [
       "['жизнь', 'прекрасный', '!']"
      ]
     },
     "execution_count": 258,
     "metadata": {},
     "output_type": "execute_result"
    }
   ],
   "source": [
    "preprocessed_text"
   ]
  },
  {
   "cell_type": "code",
   "execution_count": 259,
   "id": "0c0fb63d",
   "metadata": {},
   "outputs": [],
   "source": [
    "vectorized_text = vectorize_text(preprocessed_text, model_w2v, max_len)"
   ]
  },
  {
   "cell_type": "code",
   "execution_count": 260,
   "id": "aaf44ddd",
   "metadata": {},
   "outputs": [
    {
     "data": {
      "text/plain": [
       "[array([ 1.14547210e-02,  6.91533238e-02,  2.78973277e-03,  2.21528579e-02,\n",
       "        -3.78175802e-03, -5.76328523e-02,  7.33373091e-02,  1.48671225e-01,\n",
       "        -5.16939582e-03, -5.82108693e-03,  4.85827355e-03, -4.44633551e-02,\n",
       "        -1.13316635e-02,  2.11288091e-02, -4.06053811e-02, -6.06872886e-02,\n",
       "         6.50048479e-02, -7.43905874e-03,  1.91181917e-02, -3.22612375e-02,\n",
       "        -3.16866487e-02, -2.85133999e-02,  7.74785727e-02,  8.69547576e-03,\n",
       "         4.21142727e-02, -2.52081337e-03, -6.57079220e-02, -4.24540311e-04,\n",
       "        -5.63480482e-02, -7.30928779e-02,  1.87424254e-02, -2.70033795e-02,\n",
       "         2.22851224e-02, -1.12881977e-02, -3.45857032e-02,  4.28995639e-02,\n",
       "         3.35660614e-02, -6.05557971e-02, -8.82228557e-03, -7.30996858e-03,\n",
       "        -3.78674269e-02, -1.18532963e-02,  1.13532669e-03, -5.31191677e-02,\n",
       "         4.76716124e-02,  7.94570446e-02,  7.24665215e-03,  4.08094265e-02,\n",
       "        -2.57066023e-02,  6.61643147e-02,  2.68008448e-02,  2.60595232e-02,\n",
       "        -2.89757252e-02,  2.16247849e-02, -2.99057947e-03,  6.71996474e-02,\n",
       "         7.92590622e-03,  1.04899807e-02,  6.12632139e-03,  9.65500902e-03,\n",
       "        -5.60386144e-02, -4.24755737e-02, -2.79876348e-02,  3.21486033e-02,\n",
       "        -2.98827589e-02,  4.58481945e-02,  2.67708674e-02,  3.02044973e-02,\n",
       "        -5.11395074e-02, -1.31996721e-02,  1.52734108e-02,  3.70389782e-02,\n",
       "         7.37855583e-02, -6.15133420e-02,  1.70039739e-02,  3.22275721e-02,\n",
       "        -3.77606004e-02,  2.21271291e-02, -2.01719049e-02,  8.91141370e-02,\n",
       "        -4.76676552e-03, -8.84315670e-02,  2.82933712e-02,  1.40485689e-01,\n",
       "         4.50950451e-02,  4.05397173e-03, -3.01052127e-02,  7.99598917e-03,\n",
       "         6.69573173e-02,  1.84978675e-02,  8.84904861e-02, -7.73757324e-03,\n",
       "         5.35541773e-02, -5.11017395e-03,  5.24486974e-02,  8.34693089e-02,\n",
       "         6.68500885e-02, -3.63130271e-02, -4.71161157e-02,  6.45015836e-02,\n",
       "        -7.56715832e-04, -6.33471459e-03,  3.87465321e-02,  5.47173247e-02,\n",
       "         2.36618593e-02, -6.91867173e-02,  3.80403217e-04,  1.43981241e-02,\n",
       "        -8.17211494e-02, -5.83945261e-03, -5.72318025e-02, -2.05995645e-02,\n",
       "         1.74317956e-02,  6.93168119e-02,  3.25400904e-02,  3.57412845e-02,\n",
       "         1.19904755e-02, -1.15970094e-02,  1.06434673e-01, -9.28923488e-02,\n",
       "         1.21964207e-02,  4.54225428e-02,  3.51435281e-02,  7.02400459e-03,\n",
       "        -2.85804532e-02,  4.62650843e-02,  2.20514219e-02, -7.71704465e-02,\n",
       "         1.00343749e-02,  3.39867137e-02,  5.29154539e-02,  9.56565216e-02,\n",
       "         3.82125229e-02, -7.84404725e-02,  2.14120429e-02,  3.45590673e-02,\n",
       "        -2.25938167e-02, -5.35082743e-02, -9.41450447e-02, -9.15944278e-02,\n",
       "         2.76127663e-02, -7.86430910e-02, -4.50607799e-02,  3.58693339e-02,\n",
       "         4.13994007e-02, -3.05810180e-02, -5.88592030e-02, -1.55989509e-02,\n",
       "         3.19604054e-02, -2.37157866e-02,  1.60288531e-02, -1.23008467e-01,\n",
       "        -3.74969169e-02, -3.22299302e-02,  1.07462769e-02,  4.96170670e-02,\n",
       "        -6.86445311e-02, -2.33724080e-02,  7.08552616e-05,  9.80213583e-02,\n",
       "         4.75689274e-04,  5.15296571e-02, -9.89704654e-02,  5.21954298e-02,\n",
       "        -3.86164524e-02,  2.88945809e-02,  8.11619777e-03,  2.06122547e-02,\n",
       "        -2.05120491e-03,  1.04518689e-01, -4.68847938e-02, -7.53966626e-04,\n",
       "         5.01542874e-02,  3.42911854e-02, -9.28864873e-04, -8.06009769e-03,\n",
       "         6.65075984e-03, -8.13480094e-02, -1.02880346e-02, -5.57553908e-03,\n",
       "        -2.88392361e-02,  5.85814454e-02, -7.80623630e-02, -3.17573100e-02,\n",
       "        -3.95855121e-02,  3.67282145e-02,  1.24032952e-01,  1.14780866e-01,\n",
       "         3.29097062e-02, -8.82053003e-02,  2.01769155e-02, -7.81275798e-03,\n",
       "        -1.02449499e-01, -2.43956849e-04,  3.17627601e-02, -4.81269099e-02,\n",
       "         1.84280537e-02, -6.95395023e-02,  3.36925499e-02, -1.72430053e-02,\n",
       "        -4.78677228e-02,  2.30838750e-02,  3.96525068e-03, -2.50689331e-02,\n",
       "        -3.08962371e-02, -1.53957624e-02, -1.60892848e-02,  2.11510323e-02,\n",
       "        -4.19895910e-03, -2.19875406e-02, -1.27916993e-03, -6.09630868e-02,\n",
       "        -1.45918904e-02, -2.89250016e-02,  6.06516078e-02, -3.88563238e-02,\n",
       "        -8.23363066e-02, -1.31338730e-01, -9.19170603e-02, -5.84482178e-02,\n",
       "         5.60759790e-02,  9.94969252e-03, -3.49089094e-02, -5.70619665e-02,\n",
       "        -5.28429337e-02, -2.04024352e-02,  2.39772778e-02, -2.03198753e-02,\n",
       "        -6.40356615e-02,  2.60611624e-02,  2.58303098e-02, -3.69544141e-02,\n",
       "        -3.46876681e-02,  6.89932704e-02, -6.24032952e-02,  1.34759676e-02,\n",
       "        -1.05972793e-02,  2.37519816e-02,  3.59261711e-03, -1.28615499e-01,\n",
       "         4.06738892e-02, -9.13936365e-03, -4.24520411e-02,  9.14215576e-03,\n",
       "         3.14546078e-02, -7.47652054e-02,  1.02909643e-03, -3.66842700e-03,\n",
       "        -9.15734097e-03,  3.60017754e-02,  4.24955338e-02,  4.15510237e-02,\n",
       "         1.70485731e-02, -4.17299718e-02, -6.03311174e-02, -4.90090773e-02,\n",
       "         8.24818015e-02,  3.59699726e-02, -1.10759705e-01, -2.13735942e-02,\n",
       "         3.69678736e-02,  3.47549915e-02,  6.44416139e-02, -1.19263127e-01,\n",
       "        -7.91955814e-02, -6.98445644e-03,  3.71887907e-02,  7.82248229e-02,\n",
       "        -5.04924729e-02,  2.64896583e-02, -1.99405868e-02, -2.30905078e-02,\n",
       "         2.74061062e-03, -2.32096594e-02,  6.30768389e-02,  2.73818094e-02,\n",
       "         7.71389976e-02,  4.53649182e-03, -7.75839239e-02, -4.16172761e-03,\n",
       "         2.36720461e-02, -1.10377539e-02, -1.41153932e-02,  3.32617015e-02,\n",
       "        -2.67194472e-02, -1.56538673e-02, -8.44200030e-02,  5.94341904e-02,\n",
       "         7.03489129e-03,  7.03824684e-02,  1.48682659e-02,  1.06501319e-01,\n",
       "         7.95387626e-02,  3.59089710e-02,  7.86161795e-02,  9.33242887e-02,\n",
       "         8.03242158e-03, -2.46995483e-02,  6.90907463e-02, -3.85924764e-02],\n",
       "       dtype=float32),\n",
       " array([ 0.00120134,  0.03035887,  0.00352501,  0.01140125,  0.0005237 ,\n",
       "        -0.0264991 ,  0.03299757,  0.06358238, -0.0051505 ,  0.00019082,\n",
       "        -0.00052173, -0.02008346, -0.00633945,  0.01146193, -0.01962849,\n",
       "        -0.02636741,  0.02893952, -0.00242247,  0.00839114, -0.01292692,\n",
       "        -0.01741933, -0.01270187,  0.03564039,  0.00397187,  0.01685881,\n",
       "         0.00090001, -0.03209445, -0.00277783, -0.02381778, -0.02846786,\n",
       "         0.00975288, -0.00867392,  0.00735975, -0.0073125 , -0.01513665,\n",
       "         0.02148381,  0.01105374, -0.02267806, -0.00117848, -0.00293944,\n",
       "        -0.01408805, -0.0039908 ,  0.00215714, -0.02236767,  0.02153975,\n",
       "         0.03473241,  0.00042938,  0.01565126, -0.01004112,  0.0286167 ,\n",
       "         0.01240578,  0.01145529, -0.01043494,  0.0091876 , -0.0049357 ,\n",
       "         0.02625384,  0.00130223,  0.00505867,  0.00203587,  0.00292296,\n",
       "        -0.02036821, -0.016245  , -0.01169602,  0.01660216, -0.01233893,\n",
       "         0.02167009,  0.00837316,  0.00977987, -0.02336259, -0.00670211,\n",
       "         0.00652637,  0.01636587,  0.03193874, -0.02529257,  0.00767743,\n",
       "         0.01067048, -0.01726837,  0.01293537, -0.00887171,  0.03675203,\n",
       "        -0.00455868, -0.04110595,  0.01129472,  0.05978701,  0.02031751,\n",
       "        -0.00133456, -0.01254779,  0.00011686,  0.02743557,  0.00573753,\n",
       "         0.04058998,  0.0012358 ,  0.021281  , -0.00410938,  0.02329213,\n",
       "         0.03433995,  0.02661909, -0.01522295, -0.0168428 ,  0.02727854,\n",
       "        -0.00097814, -0.00280126,  0.01441481,  0.02538407,  0.01248849,\n",
       "        -0.02674703, -0.00199225,  0.00945258, -0.03761043, -0.00284011,\n",
       "        -0.02744658, -0.01059473,  0.01021394,  0.02646962,  0.01602799,\n",
       "         0.01474662,  0.00707441, -0.00409781,  0.04712678, -0.03796848,\n",
       "         0.0046221 ,  0.01652991,  0.01425558,  0.00150845, -0.01452944,\n",
       "         0.01903892,  0.00617862, -0.0367354 ,  0.00284901,  0.012929  ,\n",
       "         0.02273666,  0.04186168,  0.01407299, -0.03776037,  0.00850251,\n",
       "         0.01332389, -0.00946526, -0.02190773, -0.0424271 , -0.04135298,\n",
       "         0.01450419, -0.03279109, -0.01565049,  0.01646255,  0.02200886,\n",
       "        -0.01470912, -0.02904964, -0.00515463,  0.0099208 , -0.00861301,\n",
       "         0.00629564, -0.0500278 , -0.01254385, -0.01165294,  0.00497311,\n",
       "         0.02329227, -0.03214972, -0.01375354, -0.0020284 ,  0.04299764,\n",
       "        -0.00278676,  0.02052055, -0.04192391,  0.02164111, -0.01503572,\n",
       "         0.01250426,  0.00089909,  0.00768919, -0.00297052,  0.04614566,\n",
       "        -0.0218445 ,  0.00287443,  0.01862401,  0.01912215, -0.0024899 ,\n",
       "        -0.00155684,  0.00472125, -0.0352532 , -0.00675226, -0.00447237,\n",
       "        -0.01509952,  0.02449476, -0.03361761, -0.01290716, -0.01700967,\n",
       "         0.013292  ,  0.05527524,  0.05084039,  0.01145512, -0.03940852,\n",
       "         0.01284407, -0.00121686, -0.04471941, -0.00063978,  0.01587272,\n",
       "        -0.01861193,  0.00815496, -0.02973869,  0.01567558, -0.010094  ,\n",
       "        -0.017528  ,  0.00778014,  0.00063184, -0.01066111, -0.00858325,\n",
       "        -0.00228938, -0.0083402 ,  0.00648731, -0.00341476, -0.00671321,\n",
       "         0.00283771, -0.02480089, -0.00357752, -0.00821959,  0.02444147,\n",
       "        -0.01816165, -0.03218295, -0.05375452, -0.04043449, -0.02366508,\n",
       "         0.01995633,  0.00531988, -0.012611  , -0.02215364, -0.02552215,\n",
       "        -0.01048697,  0.01092545, -0.0073327 , -0.02460912,  0.01136793,\n",
       "         0.00817425, -0.01852563, -0.01823678,  0.03176512, -0.02370251,\n",
       "         0.00409223, -0.00602124,  0.01184767,  0.00317857, -0.05369416,\n",
       "         0.01893795, -0.0055689 , -0.0169137 ,  0.00670188,  0.01240745,\n",
       "        -0.02935823, -0.00020563, -0.00089866, -0.0061758 ,  0.01681477,\n",
       "         0.01906896,  0.01803252,  0.0109958 , -0.01956263, -0.02449844,\n",
       "        -0.0233598 ,  0.03184161,  0.01739637, -0.05124515, -0.00617216,\n",
       "         0.01386874,  0.01234537,  0.02592991, -0.0517396 , -0.03168813,\n",
       "         0.00077867,  0.01857646,  0.03193632, -0.02025212,  0.01350733,\n",
       "        -0.00981534, -0.00808268,  0.00140433, -0.0103845 ,  0.02825479,\n",
       "         0.01101861,  0.03317133,  0.00336064, -0.03254663, -0.00563059,\n",
       "         0.01118172, -0.0016757 , -0.00756727,  0.0157454 , -0.01271533,\n",
       "        -0.00663166, -0.03627129,  0.02616048,  0.00522047,  0.03354583,\n",
       "         0.00317127,  0.04404292,  0.03243175,  0.01914497,  0.03320308,\n",
       "         0.04015958,  0.00815025, -0.01266319,  0.03091726, -0.02038443],\n",
       "       dtype=float32),\n",
       " array([ 3.93078662e-03,  1.08889602e-02,  1.82049489e-03,  6.16950681e-03,\n",
       "        -3.34568135e-03, -9.76763666e-03,  1.26252295e-02,  2.74175722e-02,\n",
       "         1.37708860e-03,  1.07092806e-03,  2.87597562e-04, -8.49996507e-03,\n",
       "        -4.07207152e-03,  5.89677971e-03, -4.23078472e-03, -1.22330664e-02,\n",
       "         7.32357241e-03, -3.47191561e-03,  6.83325669e-03, -6.16127811e-03,\n",
       "        -2.84623052e-03, -7.61002349e-03,  1.07223000e-02,  4.22269618e-03,\n",
       "         5.91331162e-03,  1.12541660e-03, -1.33706387e-02, -3.22166504e-03,\n",
       "        -7.45339319e-03, -1.02480007e-02,  6.56042621e-03, -1.35500974e-03,\n",
       "         2.24782457e-03, -3.93017894e-03, -2.48341146e-03,  7.72135193e-03,\n",
       "         6.51935907e-03, -1.09115448e-02, -1.55795226e-03, -9.35258693e-04,\n",
       "        -5.25918789e-03, -1.07245345e-03, -2.65161484e-03, -1.11250486e-02,\n",
       "         7.68058887e-03,  1.62216760e-02,  2.62698415e-03,  4.51151421e-03,\n",
       "        -5.11224708e-03,  1.16428491e-02,  5.18714311e-03,  4.99960501e-03,\n",
       "        -2.78437533e-03,  1.08218065e-03,  9.76555981e-04,  1.19759608e-02,\n",
       "         3.20194336e-03,  3.75411473e-03, -3.37225414e-04,  7.19528296e-04,\n",
       "        -6.61998149e-03, -3.91055830e-03, -4.09617322e-03,  7.72333425e-03,\n",
       "        -3.40374326e-03,  6.56225532e-03,  8.53414298e-04,  5.10414084e-03,\n",
       "        -8.81573651e-03, -1.41443324e-03,  1.78135687e-03,  7.98164308e-03,\n",
       "         1.61530245e-02, -1.15514724e-02,  8.40488006e-04,  2.71578482e-03,\n",
       "        -8.27943441e-03,  2.57833791e-03, -6.17562095e-03,  1.40048685e-02,\n",
       "        -9.87474807e-04, -1.51951509e-02,  7.28865294e-03,  2.33288109e-02,\n",
       "         8.15091562e-03,  2.20482750e-03, -3.92150600e-03,  3.20987427e-03,\n",
       "         1.34308366e-02,  5.35315694e-03,  1.35600101e-02,  1.22810493e-03,\n",
       "         8.47623870e-03, -1.34521120e-04,  9.19453427e-03,  1.47148157e-02,\n",
       "         1.35243377e-02, -4.84780082e-03, -6.98930398e-03,  1.22978585e-02,\n",
       "        -4.87248006e-04, -4.59525222e-03,  8.71774461e-03,  1.10020582e-02,\n",
       "         4.25987365e-03, -1.15788737e-02,  2.28606304e-03, -1.01593760e-05,\n",
       "        -1.20370816e-02, -1.07406313e-03, -1.32053643e-02, -2.88420124e-03,\n",
       "         4.84320428e-03,  1.32490555e-02,  6.90462114e-03,  7.36513454e-03,\n",
       "        -9.02149914e-05,  1.12017151e-03,  1.77283119e-02, -1.70496460e-02,\n",
       "        -2.67684547e-04,  7.32045062e-03,  3.40026454e-03,  2.81742751e-03,\n",
       "        -7.69164972e-03,  5.72265545e-03,  2.42572365e-04, -1.48655884e-02,\n",
       "         5.38959680e-03,  3.32278851e-03,  6.48175366e-03,  1.36050479e-02,\n",
       "         9.40841995e-03, -1.10986400e-02,  2.30806042e-03,  9.51438304e-03,\n",
       "        -1.76005135e-03, -5.73031139e-03, -1.85749121e-02, -1.43982936e-02,\n",
       "         1.66338077e-03, -1.38807297e-02, -9.21127852e-03,  7.79493898e-03,\n",
       "         7.35726720e-03, -3.43797752e-03, -9.32877418e-03, -1.46006874e-03,\n",
       "         2.44104397e-03, -4.40227706e-03,  2.94028199e-03, -2.25663111e-02,\n",
       "        -6.01602113e-03, -2.08145822e-03,  5.11426292e-03,  4.77918237e-03,\n",
       "        -8.97703040e-03, -1.72934367e-03,  1.06139923e-03,  1.90850161e-02,\n",
       "         2.29622913e-03,  7.46821985e-03, -1.63948890e-02,  8.80072266e-03,\n",
       "        -9.39957984e-03,  3.43872048e-03,  1.32723816e-03,  3.46507248e-03,\n",
       "         2.80963094e-03,  1.56490710e-02, -7.33499229e-03,  2.60818866e-03,\n",
       "         7.38570327e-03,  7.72393914e-03, -2.23857467e-03, -4.20051534e-03,\n",
       "         4.05750470e-03, -1.45769864e-02, -3.63516132e-03, -2.95058195e-03,\n",
       "        -6.55224593e-03,  1.17973406e-02, -1.34444311e-02, -8.64067581e-03,\n",
       "        -9.50468332e-03,  4.22431761e-03,  2.07522474e-02,  1.79701522e-02,\n",
       "         8.35744012e-03, -1.81515217e-02,  2.72701844e-03, -1.18624128e-03,\n",
       "        -1.63478013e-02, -1.92209100e-03,  4.47370484e-03, -9.87078808e-03,\n",
       "        -1.19493401e-04, -1.06280576e-02,  4.28605499e-03, -1.61686260e-03,\n",
       "        -7.00515788e-03,  1.05256017e-03,  1.48684357e-03, -3.15347733e-03,\n",
       "        -3.97279765e-03, -3.79199721e-03, -1.69384363e-03,  3.25376424e-03,\n",
       "        -2.50135339e-03, -2.63075065e-03, -2.08342960e-03, -9.58432071e-03,\n",
       "        -4.95578209e-03, -2.63030431e-03,  9.34379641e-03, -4.47481172e-03,\n",
       "        -1.31090740e-02, -2.22131927e-02, -1.69170853e-02, -9.04123858e-03,\n",
       "         1.00948680e-02, -4.92625462e-04, -5.29147126e-03, -1.08508831e-02,\n",
       "        -9.89641529e-03, -6.56804070e-04,  1.65485125e-03, -4.65502404e-03,\n",
       "        -1.08389491e-02,  3.49751138e-03,  1.75821607e-03, -7.22798984e-03,\n",
       "        -4.38687811e-03,  1.13375718e-02, -1.28842900e-02, -4.27927240e-04,\n",
       "        -7.06631690e-04,  5.70322853e-03,  1.66557578e-03, -2.46980786e-02,\n",
       "         6.53490936e-03, -3.48235277e-04, -5.65417390e-03,  3.53737525e-03,\n",
       "         6.48581609e-03, -1.43734924e-02, -2.17104540e-03,  9.16058314e-04,\n",
       "         1.45366226e-04,  6.21830439e-03,  5.34326164e-03,  7.55525194e-03,\n",
       "         3.16397427e-03, -6.22949935e-03, -1.26096038e-02, -1.07936785e-02,\n",
       "         1.61596760e-02,  6.94394112e-03, -1.74987298e-02, -3.41776409e-03,\n",
       "         7.70542352e-03,  3.47727118e-03,  9.61282756e-03, -2.31102090e-02,\n",
       "        -1.61461476e-02,  3.46149638e-04,  7.77293090e-03,  1.36131356e-02,\n",
       "        -1.21330293e-02,  5.27387485e-03, -6.37012906e-03, -7.44780898e-03,\n",
       "         2.50472967e-03, -3.04837711e-03,  9.54825897e-03,  5.92817320e-03,\n",
       "         1.42167071e-02,  4.31339536e-03, -1.35459928e-02, -8.97120626e-04,\n",
       "         6.61101053e-03, -3.30908829e-03, -4.84016584e-03,  5.24079893e-03,\n",
       "        -6.27817679e-03, -3.29465535e-03, -1.15272133e-02,  1.11080911e-02,\n",
       "        -9.54145682e-04,  9.51215252e-03,  1.78326247e-03,  1.55783435e-02,\n",
       "         1.05037512e-02,  4.55089984e-03,  1.22788427e-02,  1.93734150e-02,\n",
       "         1.07663067e-03, -5.42270718e-04,  1.10200681e-02, -8.57820734e-03],\n",
       "       dtype=float32),\n",
       " array([0., 0., 0., 0., 0., 0., 0., 0., 0., 0., 0., 0., 0., 0., 0., 0., 0.,\n",
       "        0., 0., 0., 0., 0., 0., 0., 0., 0., 0., 0., 0., 0., 0., 0., 0., 0.,\n",
       "        0., 0., 0., 0., 0., 0., 0., 0., 0., 0., 0., 0., 0., 0., 0., 0., 0.,\n",
       "        0., 0., 0., 0., 0., 0., 0., 0., 0., 0., 0., 0., 0., 0., 0., 0., 0.,\n",
       "        0., 0., 0., 0., 0., 0., 0., 0., 0., 0., 0., 0., 0., 0., 0., 0., 0.,\n",
       "        0., 0., 0., 0., 0., 0., 0., 0., 0., 0., 0., 0., 0., 0., 0., 0., 0.,\n",
       "        0., 0., 0., 0., 0., 0., 0., 0., 0., 0., 0., 0., 0., 0., 0., 0., 0.,\n",
       "        0., 0., 0., 0., 0., 0., 0., 0., 0., 0., 0., 0., 0., 0., 0., 0., 0.,\n",
       "        0., 0., 0., 0., 0., 0., 0., 0., 0., 0., 0., 0., 0., 0., 0., 0., 0.,\n",
       "        0., 0., 0., 0., 0., 0., 0., 0., 0., 0., 0., 0., 0., 0., 0., 0., 0.,\n",
       "        0., 0., 0., 0., 0., 0., 0., 0., 0., 0., 0., 0., 0., 0., 0., 0., 0.,\n",
       "        0., 0., 0., 0., 0., 0., 0., 0., 0., 0., 0., 0., 0., 0., 0., 0., 0.,\n",
       "        0., 0., 0., 0., 0., 0., 0., 0., 0., 0., 0., 0., 0., 0., 0., 0., 0.,\n",
       "        0., 0., 0., 0., 0., 0., 0., 0., 0., 0., 0., 0., 0., 0., 0., 0., 0.,\n",
       "        0., 0., 0., 0., 0., 0., 0., 0., 0., 0., 0., 0., 0., 0., 0., 0., 0.,\n",
       "        0., 0., 0., 0., 0., 0., 0., 0., 0., 0., 0., 0., 0., 0., 0., 0., 0.,\n",
       "        0., 0., 0., 0., 0., 0., 0., 0., 0., 0., 0., 0., 0., 0., 0., 0., 0.,\n",
       "        0., 0., 0., 0., 0., 0., 0., 0., 0., 0., 0.]),\n",
       " array([0., 0., 0., 0., 0., 0., 0., 0., 0., 0., 0., 0., 0., 0., 0., 0., 0.,\n",
       "        0., 0., 0., 0., 0., 0., 0., 0., 0., 0., 0., 0., 0., 0., 0., 0., 0.,\n",
       "        0., 0., 0., 0., 0., 0., 0., 0., 0., 0., 0., 0., 0., 0., 0., 0., 0.,\n",
       "        0., 0., 0., 0., 0., 0., 0., 0., 0., 0., 0., 0., 0., 0., 0., 0., 0.,\n",
       "        0., 0., 0., 0., 0., 0., 0., 0., 0., 0., 0., 0., 0., 0., 0., 0., 0.,\n",
       "        0., 0., 0., 0., 0., 0., 0., 0., 0., 0., 0., 0., 0., 0., 0., 0., 0.,\n",
       "        0., 0., 0., 0., 0., 0., 0., 0., 0., 0., 0., 0., 0., 0., 0., 0., 0.,\n",
       "        0., 0., 0., 0., 0., 0., 0., 0., 0., 0., 0., 0., 0., 0., 0., 0., 0.,\n",
       "        0., 0., 0., 0., 0., 0., 0., 0., 0., 0., 0., 0., 0., 0., 0., 0., 0.,\n",
       "        0., 0., 0., 0., 0., 0., 0., 0., 0., 0., 0., 0., 0., 0., 0., 0., 0.,\n",
       "        0., 0., 0., 0., 0., 0., 0., 0., 0., 0., 0., 0., 0., 0., 0., 0., 0.,\n",
       "        0., 0., 0., 0., 0., 0., 0., 0., 0., 0., 0., 0., 0., 0., 0., 0., 0.,\n",
       "        0., 0., 0., 0., 0., 0., 0., 0., 0., 0., 0., 0., 0., 0., 0., 0., 0.,\n",
       "        0., 0., 0., 0., 0., 0., 0., 0., 0., 0., 0., 0., 0., 0., 0., 0., 0.,\n",
       "        0., 0., 0., 0., 0., 0., 0., 0., 0., 0., 0., 0., 0., 0., 0., 0., 0.,\n",
       "        0., 0., 0., 0., 0., 0., 0., 0., 0., 0., 0., 0., 0., 0., 0., 0., 0.,\n",
       "        0., 0., 0., 0., 0., 0., 0., 0., 0., 0., 0., 0., 0., 0., 0., 0., 0.,\n",
       "        0., 0., 0., 0., 0., 0., 0., 0., 0., 0., 0.]),\n",
       " array([0., 0., 0., 0., 0., 0., 0., 0., 0., 0., 0., 0., 0., 0., 0., 0., 0.,\n",
       "        0., 0., 0., 0., 0., 0., 0., 0., 0., 0., 0., 0., 0., 0., 0., 0., 0.,\n",
       "        0., 0., 0., 0., 0., 0., 0., 0., 0., 0., 0., 0., 0., 0., 0., 0., 0.,\n",
       "        0., 0., 0., 0., 0., 0., 0., 0., 0., 0., 0., 0., 0., 0., 0., 0., 0.,\n",
       "        0., 0., 0., 0., 0., 0., 0., 0., 0., 0., 0., 0., 0., 0., 0., 0., 0.,\n",
       "        0., 0., 0., 0., 0., 0., 0., 0., 0., 0., 0., 0., 0., 0., 0., 0., 0.,\n",
       "        0., 0., 0., 0., 0., 0., 0., 0., 0., 0., 0., 0., 0., 0., 0., 0., 0.,\n",
       "        0., 0., 0., 0., 0., 0., 0., 0., 0., 0., 0., 0., 0., 0., 0., 0., 0.,\n",
       "        0., 0., 0., 0., 0., 0., 0., 0., 0., 0., 0., 0., 0., 0., 0., 0., 0.,\n",
       "        0., 0., 0., 0., 0., 0., 0., 0., 0., 0., 0., 0., 0., 0., 0., 0., 0.,\n",
       "        0., 0., 0., 0., 0., 0., 0., 0., 0., 0., 0., 0., 0., 0., 0., 0., 0.,\n",
       "        0., 0., 0., 0., 0., 0., 0., 0., 0., 0., 0., 0., 0., 0., 0., 0., 0.,\n",
       "        0., 0., 0., 0., 0., 0., 0., 0., 0., 0., 0., 0., 0., 0., 0., 0., 0.,\n",
       "        0., 0., 0., 0., 0., 0., 0., 0., 0., 0., 0., 0., 0., 0., 0., 0., 0.,\n",
       "        0., 0., 0., 0., 0., 0., 0., 0., 0., 0., 0., 0., 0., 0., 0., 0., 0.,\n",
       "        0., 0., 0., 0., 0., 0., 0., 0., 0., 0., 0., 0., 0., 0., 0., 0., 0.,\n",
       "        0., 0., 0., 0., 0., 0., 0., 0., 0., 0., 0., 0., 0., 0., 0., 0., 0.,\n",
       "        0., 0., 0., 0., 0., 0., 0., 0., 0., 0., 0.]),\n",
       " array([0., 0., 0., 0., 0., 0., 0., 0., 0., 0., 0., 0., 0., 0., 0., 0., 0.,\n",
       "        0., 0., 0., 0., 0., 0., 0., 0., 0., 0., 0., 0., 0., 0., 0., 0., 0.,\n",
       "        0., 0., 0., 0., 0., 0., 0., 0., 0., 0., 0., 0., 0., 0., 0., 0., 0.,\n",
       "        0., 0., 0., 0., 0., 0., 0., 0., 0., 0., 0., 0., 0., 0., 0., 0., 0.,\n",
       "        0., 0., 0., 0., 0., 0., 0., 0., 0., 0., 0., 0., 0., 0., 0., 0., 0.,\n",
       "        0., 0., 0., 0., 0., 0., 0., 0., 0., 0., 0., 0., 0., 0., 0., 0., 0.,\n",
       "        0., 0., 0., 0., 0., 0., 0., 0., 0., 0., 0., 0., 0., 0., 0., 0., 0.,\n",
       "        0., 0., 0., 0., 0., 0., 0., 0., 0., 0., 0., 0., 0., 0., 0., 0., 0.,\n",
       "        0., 0., 0., 0., 0., 0., 0., 0., 0., 0., 0., 0., 0., 0., 0., 0., 0.,\n",
       "        0., 0., 0., 0., 0., 0., 0., 0., 0., 0., 0., 0., 0., 0., 0., 0., 0.,\n",
       "        0., 0., 0., 0., 0., 0., 0., 0., 0., 0., 0., 0., 0., 0., 0., 0., 0.,\n",
       "        0., 0., 0., 0., 0., 0., 0., 0., 0., 0., 0., 0., 0., 0., 0., 0., 0.,\n",
       "        0., 0., 0., 0., 0., 0., 0., 0., 0., 0., 0., 0., 0., 0., 0., 0., 0.,\n",
       "        0., 0., 0., 0., 0., 0., 0., 0., 0., 0., 0., 0., 0., 0., 0., 0., 0.,\n",
       "        0., 0., 0., 0., 0., 0., 0., 0., 0., 0., 0., 0., 0., 0., 0., 0., 0.,\n",
       "        0., 0., 0., 0., 0., 0., 0., 0., 0., 0., 0., 0., 0., 0., 0., 0., 0.,\n",
       "        0., 0., 0., 0., 0., 0., 0., 0., 0., 0., 0., 0., 0., 0., 0., 0., 0.,\n",
       "        0., 0., 0., 0., 0., 0., 0., 0., 0., 0., 0.]),\n",
       " array([0., 0., 0., 0., 0., 0., 0., 0., 0., 0., 0., 0., 0., 0., 0., 0., 0.,\n",
       "        0., 0., 0., 0., 0., 0., 0., 0., 0., 0., 0., 0., 0., 0., 0., 0., 0.,\n",
       "        0., 0., 0., 0., 0., 0., 0., 0., 0., 0., 0., 0., 0., 0., 0., 0., 0.,\n",
       "        0., 0., 0., 0., 0., 0., 0., 0., 0., 0., 0., 0., 0., 0., 0., 0., 0.,\n",
       "        0., 0., 0., 0., 0., 0., 0., 0., 0., 0., 0., 0., 0., 0., 0., 0., 0.,\n",
       "        0., 0., 0., 0., 0., 0., 0., 0., 0., 0., 0., 0., 0., 0., 0., 0., 0.,\n",
       "        0., 0., 0., 0., 0., 0., 0., 0., 0., 0., 0., 0., 0., 0., 0., 0., 0.,\n",
       "        0., 0., 0., 0., 0., 0., 0., 0., 0., 0., 0., 0., 0., 0., 0., 0., 0.,\n",
       "        0., 0., 0., 0., 0., 0., 0., 0., 0., 0., 0., 0., 0., 0., 0., 0., 0.,\n",
       "        0., 0., 0., 0., 0., 0., 0., 0., 0., 0., 0., 0., 0., 0., 0., 0., 0.,\n",
       "        0., 0., 0., 0., 0., 0., 0., 0., 0., 0., 0., 0., 0., 0., 0., 0., 0.,\n",
       "        0., 0., 0., 0., 0., 0., 0., 0., 0., 0., 0., 0., 0., 0., 0., 0., 0.,\n",
       "        0., 0., 0., 0., 0., 0., 0., 0., 0., 0., 0., 0., 0., 0., 0., 0., 0.,\n",
       "        0., 0., 0., 0., 0., 0., 0., 0., 0., 0., 0., 0., 0., 0., 0., 0., 0.,\n",
       "        0., 0., 0., 0., 0., 0., 0., 0., 0., 0., 0., 0., 0., 0., 0., 0., 0.,\n",
       "        0., 0., 0., 0., 0., 0., 0., 0., 0., 0., 0., 0., 0., 0., 0., 0., 0.,\n",
       "        0., 0., 0., 0., 0., 0., 0., 0., 0., 0., 0., 0., 0., 0., 0., 0., 0.,\n",
       "        0., 0., 0., 0., 0., 0., 0., 0., 0., 0., 0.]),\n",
       " array([0., 0., 0., 0., 0., 0., 0., 0., 0., 0., 0., 0., 0., 0., 0., 0., 0.,\n",
       "        0., 0., 0., 0., 0., 0., 0., 0., 0., 0., 0., 0., 0., 0., 0., 0., 0.,\n",
       "        0., 0., 0., 0., 0., 0., 0., 0., 0., 0., 0., 0., 0., 0., 0., 0., 0.,\n",
       "        0., 0., 0., 0., 0., 0., 0., 0., 0., 0., 0., 0., 0., 0., 0., 0., 0.,\n",
       "        0., 0., 0., 0., 0., 0., 0., 0., 0., 0., 0., 0., 0., 0., 0., 0., 0.,\n",
       "        0., 0., 0., 0., 0., 0., 0., 0., 0., 0., 0., 0., 0., 0., 0., 0., 0.,\n",
       "        0., 0., 0., 0., 0., 0., 0., 0., 0., 0., 0., 0., 0., 0., 0., 0., 0.,\n",
       "        0., 0., 0., 0., 0., 0., 0., 0., 0., 0., 0., 0., 0., 0., 0., 0., 0.,\n",
       "        0., 0., 0., 0., 0., 0., 0., 0., 0., 0., 0., 0., 0., 0., 0., 0., 0.,\n",
       "        0., 0., 0., 0., 0., 0., 0., 0., 0., 0., 0., 0., 0., 0., 0., 0., 0.,\n",
       "        0., 0., 0., 0., 0., 0., 0., 0., 0., 0., 0., 0., 0., 0., 0., 0., 0.,\n",
       "        0., 0., 0., 0., 0., 0., 0., 0., 0., 0., 0., 0., 0., 0., 0., 0., 0.,\n",
       "        0., 0., 0., 0., 0., 0., 0., 0., 0., 0., 0., 0., 0., 0., 0., 0., 0.,\n",
       "        0., 0., 0., 0., 0., 0., 0., 0., 0., 0., 0., 0., 0., 0., 0., 0., 0.,\n",
       "        0., 0., 0., 0., 0., 0., 0., 0., 0., 0., 0., 0., 0., 0., 0., 0., 0.,\n",
       "        0., 0., 0., 0., 0., 0., 0., 0., 0., 0., 0., 0., 0., 0., 0., 0., 0.,\n",
       "        0., 0., 0., 0., 0., 0., 0., 0., 0., 0., 0., 0., 0., 0., 0., 0., 0.,\n",
       "        0., 0., 0., 0., 0., 0., 0., 0., 0., 0., 0.]),\n",
       " array([0., 0., 0., 0., 0., 0., 0., 0., 0., 0., 0., 0., 0., 0., 0., 0., 0.,\n",
       "        0., 0., 0., 0., 0., 0., 0., 0., 0., 0., 0., 0., 0., 0., 0., 0., 0.,\n",
       "        0., 0., 0., 0., 0., 0., 0., 0., 0., 0., 0., 0., 0., 0., 0., 0., 0.,\n",
       "        0., 0., 0., 0., 0., 0., 0., 0., 0., 0., 0., 0., 0., 0., 0., 0., 0.,\n",
       "        0., 0., 0., 0., 0., 0., 0., 0., 0., 0., 0., 0., 0., 0., 0., 0., 0.,\n",
       "        0., 0., 0., 0., 0., 0., 0., 0., 0., 0., 0., 0., 0., 0., 0., 0., 0.,\n",
       "        0., 0., 0., 0., 0., 0., 0., 0., 0., 0., 0., 0., 0., 0., 0., 0., 0.,\n",
       "        0., 0., 0., 0., 0., 0., 0., 0., 0., 0., 0., 0., 0., 0., 0., 0., 0.,\n",
       "        0., 0., 0., 0., 0., 0., 0., 0., 0., 0., 0., 0., 0., 0., 0., 0., 0.,\n",
       "        0., 0., 0., 0., 0., 0., 0., 0., 0., 0., 0., 0., 0., 0., 0., 0., 0.,\n",
       "        0., 0., 0., 0., 0., 0., 0., 0., 0., 0., 0., 0., 0., 0., 0., 0., 0.,\n",
       "        0., 0., 0., 0., 0., 0., 0., 0., 0., 0., 0., 0., 0., 0., 0., 0., 0.,\n",
       "        0., 0., 0., 0., 0., 0., 0., 0., 0., 0., 0., 0., 0., 0., 0., 0., 0.,\n",
       "        0., 0., 0., 0., 0., 0., 0., 0., 0., 0., 0., 0., 0., 0., 0., 0., 0.,\n",
       "        0., 0., 0., 0., 0., 0., 0., 0., 0., 0., 0., 0., 0., 0., 0., 0., 0.,\n",
       "        0., 0., 0., 0., 0., 0., 0., 0., 0., 0., 0., 0., 0., 0., 0., 0., 0.,\n",
       "        0., 0., 0., 0., 0., 0., 0., 0., 0., 0., 0., 0., 0., 0., 0., 0., 0.,\n",
       "        0., 0., 0., 0., 0., 0., 0., 0., 0., 0., 0.]),\n",
       " array([0., 0., 0., 0., 0., 0., 0., 0., 0., 0., 0., 0., 0., 0., 0., 0., 0.,\n",
       "        0., 0., 0., 0., 0., 0., 0., 0., 0., 0., 0., 0., 0., 0., 0., 0., 0.,\n",
       "        0., 0., 0., 0., 0., 0., 0., 0., 0., 0., 0., 0., 0., 0., 0., 0., 0.,\n",
       "        0., 0., 0., 0., 0., 0., 0., 0., 0., 0., 0., 0., 0., 0., 0., 0., 0.,\n",
       "        0., 0., 0., 0., 0., 0., 0., 0., 0., 0., 0., 0., 0., 0., 0., 0., 0.,\n",
       "        0., 0., 0., 0., 0., 0., 0., 0., 0., 0., 0., 0., 0., 0., 0., 0., 0.,\n",
       "        0., 0., 0., 0., 0., 0., 0., 0., 0., 0., 0., 0., 0., 0., 0., 0., 0.,\n",
       "        0., 0., 0., 0., 0., 0., 0., 0., 0., 0., 0., 0., 0., 0., 0., 0., 0.,\n",
       "        0., 0., 0., 0., 0., 0., 0., 0., 0., 0., 0., 0., 0., 0., 0., 0., 0.,\n",
       "        0., 0., 0., 0., 0., 0., 0., 0., 0., 0., 0., 0., 0., 0., 0., 0., 0.,\n",
       "        0., 0., 0., 0., 0., 0., 0., 0., 0., 0., 0., 0., 0., 0., 0., 0., 0.,\n",
       "        0., 0., 0., 0., 0., 0., 0., 0., 0., 0., 0., 0., 0., 0., 0., 0., 0.,\n",
       "        0., 0., 0., 0., 0., 0., 0., 0., 0., 0., 0., 0., 0., 0., 0., 0., 0.,\n",
       "        0., 0., 0., 0., 0., 0., 0., 0., 0., 0., 0., 0., 0., 0., 0., 0., 0.,\n",
       "        0., 0., 0., 0., 0., 0., 0., 0., 0., 0., 0., 0., 0., 0., 0., 0., 0.,\n",
       "        0., 0., 0., 0., 0., 0., 0., 0., 0., 0., 0., 0., 0., 0., 0., 0., 0.,\n",
       "        0., 0., 0., 0., 0., 0., 0., 0., 0., 0., 0., 0., 0., 0., 0., 0., 0.,\n",
       "        0., 0., 0., 0., 0., 0., 0., 0., 0., 0., 0.])]"
      ]
     },
     "execution_count": 260,
     "metadata": {},
     "output_type": "execute_result"
    }
   ],
   "source": [
    "vectorized_text"
   ]
  },
  {
   "cell_type": "code",
   "execution_count": 261,
   "id": "08e01646",
   "metadata": {},
   "outputs": [],
   "source": [
    "_vector = np.array(vectorized_text).reshape(1, vector_size * max_len)"
   ]
  },
  {
   "cell_type": "code",
   "execution_count": 262,
   "id": "b93c8b7a",
   "metadata": {},
   "outputs": [
    {
     "data": {
      "text/plain": [
       "(1, 3300)"
      ]
     },
     "execution_count": 262,
     "metadata": {},
     "output_type": "execute_result"
    }
   ],
   "source": [
    "_vector.shape"
   ]
  },
  {
   "cell_type": "markdown",
   "id": "2b47417f",
   "metadata": {},
   "source": [
    "Выполняем распознавание"
   ]
  },
  {
   "cell_type": "code",
   "execution_count": 263,
   "id": "60d9503b",
   "metadata": {},
   "outputs": [],
   "source": [
    "# Мажоритарное голосование"
   ]
  },
  {
   "cell_type": "code",
   "execution_count": 264,
   "id": "b28c440d",
   "metadata": {},
   "outputs": [],
   "source": [
    "result = eclf_hard.predict(_vector)"
   ]
  },
  {
   "cell_type": "code",
   "execution_count": 265,
   "id": "30008f64",
   "metadata": {},
   "outputs": [
    {
     "data": {
      "text/plain": [
       "(array([0]), 'smile positive/negative')"
      ]
     },
     "execution_count": 265,
     "metadata": {},
     "output_type": "execute_result"
    }
   ],
   "source": [
    "result, emoji_dict[str(result[0])]"
   ]
  },
  {
   "cell_type": "code",
   "execution_count": 266,
   "id": "68a50bc9",
   "metadata": {},
   "outputs": [],
   "source": [
    "# Мягкое голосование"
   ]
  },
  {
   "cell_type": "code",
   "execution_count": 267,
   "id": "6888598c",
   "metadata": {},
   "outputs": [],
   "source": [
    "result = eclf_soft.predict(_vector)"
   ]
  },
  {
   "cell_type": "code",
   "execution_count": 268,
   "id": "dd7eb170",
   "metadata": {},
   "outputs": [
    {
     "data": {
      "text/plain": [
       "(array([0]), 'smile positive/negative')"
      ]
     },
     "execution_count": 268,
     "metadata": {},
     "output_type": "execute_result"
    }
   ],
   "source": [
    "result, emoji_dict[str(result[0])]"
   ]
  },
  {
   "cell_type": "code",
   "execution_count": 269,
   "id": "e92b4e42",
   "metadata": {},
   "outputs": [],
   "source": [
    "result_clf = []\n",
    "for clf in clifs:\n",
    "    result_clf.append(clf.predict(_vector))"
   ]
  },
  {
   "cell_type": "code",
   "execution_count": 270,
   "id": "dfac24b9",
   "metadata": {},
   "outputs": [
    {
     "data": {
      "text/plain": [
       "[array([0]), array([0]), array([3]), array([0]), array([14]), array([0])]"
      ]
     },
     "execution_count": 270,
     "metadata": {},
     "output_type": "execute_result"
    }
   ],
   "source": [
    "result_clf"
   ]
  },
  {
   "cell_type": "code",
   "execution_count": 271,
   "id": "54505fa6",
   "metadata": {},
   "outputs": [
    {
     "name": "stdout",
     "output_type": "stream",
     "text": [
      "0 smile positive/negative\n",
      "0 smile positive/negative\n",
      "3 no_emotion positive/negative\n",
      "0 smile positive/negative\n",
      "14 fear positive/negative\n",
      "0 smile positive/negative\n"
     ]
    }
   ],
   "source": [
    "for i in range(0, len(result_clf)):\n",
    "    res = result_clf[i][0]\n",
    "    print(res, emoji_dict[str(res)])"
   ]
  },
  {
   "cell_type": "code",
   "execution_count": 272,
   "id": "0673c3ff",
   "metadata": {},
   "outputs": [],
   "source": [
    "# Мажоритарное голосование"
   ]
  },
  {
   "cell_type": "code",
   "execution_count": 273,
   "id": "bf4a6c57",
   "metadata": {},
   "outputs": [
    {
     "ename": "AttributeError",
     "evalue": "predict_proba is not available when voting='hard'",
     "output_type": "error",
     "traceback": [
      "\u001b[0;31m---------------------------------------------------------------------------\u001b[0m",
      "\u001b[0;31mAttributeError\u001b[0m                            Traceback (most recent call last)",
      "\u001b[0;32m/var/folders/hm/7gxpj72d2cv2fg7n4jvg1tkm0000gn/T/ipykernel_26426/3245435367.py\u001b[0m in \u001b[0;36m<module>\u001b[0;34m\u001b[0m\n\u001b[0;32m----> 1\u001b[0;31m \u001b[0mresult\u001b[0m \u001b[0;34m=\u001b[0m \u001b[0meclf_hard\u001b[0m\u001b[0;34m.\u001b[0m\u001b[0mpredict_proba\u001b[0m\u001b[0;34m(\u001b[0m\u001b[0m_vector\u001b[0m\u001b[0;34m)\u001b[0m\u001b[0;34m\u001b[0m\u001b[0;34m\u001b[0m\u001b[0m\n\u001b[0m",
      "\u001b[0;32m~/opt/anaconda3/lib/python3.9/site-packages/sklearn/utils/metaestimators.py\u001b[0m in \u001b[0;36m__get__\u001b[0;34m(self, obj, owner)\u001b[0m\n\u001b[1;32m    107\u001b[0m             \u001b[0;31m# delegate only on instances, not the classes.\u001b[0m\u001b[0;34m\u001b[0m\u001b[0;34m\u001b[0m\u001b[0m\n\u001b[1;32m    108\u001b[0m             \u001b[0;31m# this is to allow access to the docstrings.\u001b[0m\u001b[0;34m\u001b[0m\u001b[0;34m\u001b[0m\u001b[0m\n\u001b[0;32m--> 109\u001b[0;31m             \u001b[0;32mif\u001b[0m \u001b[0;32mnot\u001b[0m \u001b[0mself\u001b[0m\u001b[0;34m.\u001b[0m\u001b[0mcheck\u001b[0m\u001b[0;34m(\u001b[0m\u001b[0mobj\u001b[0m\u001b[0;34m)\u001b[0m\u001b[0;34m:\u001b[0m\u001b[0;34m\u001b[0m\u001b[0;34m\u001b[0m\u001b[0m\n\u001b[0m\u001b[1;32m    110\u001b[0m                 \u001b[0;32mraise\u001b[0m \u001b[0mattr_err\u001b[0m\u001b[0;34m\u001b[0m\u001b[0;34m\u001b[0m\u001b[0m\n\u001b[1;32m    111\u001b[0m \u001b[0;34m\u001b[0m\u001b[0m\n",
      "\u001b[0;32m~/opt/anaconda3/lib/python3.9/site-packages/sklearn/ensemble/_voting.py\u001b[0m in \u001b[0;36m_check_voting\u001b[0;34m(self)\u001b[0m\n\u001b[1;32m    359\u001b[0m     \u001b[0;32mdef\u001b[0m \u001b[0m_check_voting\u001b[0m\u001b[0;34m(\u001b[0m\u001b[0mself\u001b[0m\u001b[0;34m)\u001b[0m\u001b[0;34m:\u001b[0m\u001b[0;34m\u001b[0m\u001b[0;34m\u001b[0m\u001b[0m\n\u001b[1;32m    360\u001b[0m         \u001b[0;32mif\u001b[0m \u001b[0mself\u001b[0m\u001b[0;34m.\u001b[0m\u001b[0mvoting\u001b[0m \u001b[0;34m==\u001b[0m \u001b[0;34m\"hard\"\u001b[0m\u001b[0;34m:\u001b[0m\u001b[0;34m\u001b[0m\u001b[0;34m\u001b[0m\u001b[0m\n\u001b[0;32m--> 361\u001b[0;31m             raise AttributeError(\n\u001b[0m\u001b[1;32m    362\u001b[0m                 \u001b[0;34mf\"predict_proba is not available when voting={repr(self.voting)}\"\u001b[0m\u001b[0;34m\u001b[0m\u001b[0;34m\u001b[0m\u001b[0m\n\u001b[1;32m    363\u001b[0m             )\n",
      "\u001b[0;31mAttributeError\u001b[0m: predict_proba is not available when voting='hard'"
     ]
    }
   ],
   "source": [
    "result = eclf_hard.predict_proba(_vector)"
   ]
  },
  {
   "cell_type": "code",
   "execution_count": 274,
   "id": "a96262d2",
   "metadata": {},
   "outputs": [],
   "source": [
    "# Мягкое голосование"
   ]
  },
  {
   "cell_type": "code",
   "execution_count": 275,
   "id": "ff3db047",
   "metadata": {},
   "outputs": [],
   "source": [
    "result = eclf_soft.predict_proba(_vector)"
   ]
  },
  {
   "cell_type": "code",
   "execution_count": 276,
   "id": "d5257871",
   "metadata": {},
   "outputs": [
    {
     "data": {
      "text/plain": [
       "array([[0.5039445 , 0.06895142, 0.06455023, 0.10596165, 0.02971395,\n",
       "        0.01348336, 0.01166662, 0.0060524 , 0.01438176, 0.00631854,\n",
       "        0.00127804, 0.00319695, 0.00111252, 0.00075471, 0.16863334]])"
      ]
     },
     "execution_count": 276,
     "metadata": {},
     "output_type": "execute_result"
    }
   ],
   "source": [
    "result"
   ]
  },
  {
   "cell_type": "code",
   "execution_count": 277,
   "id": "4c2ec300",
   "metadata": {},
   "outputs": [
    {
     "name": "stdout",
     "output_type": "stream",
     "text": [
      "0: smile positive/negative 0.504\n",
      "1: no_emotion neutral/skeptical 0.069\n",
      "2: joy positive 0.065\n",
      "3: no_emotion positive/negative 0.106\n",
      "4: sadness negative 0.03\n",
      "5: fear negative 0.013\n",
      "6: shame negative 0.012\n",
      "7: anger negative 0.006\n",
      "8: disgust negative 0.014\n",
      "9: surprise positive/negative 0.006\n",
      "10: disgust neutral/skeptical 0.001\n",
      "11: surprise negative 0.003\n",
      "12: no_emotion negative 0.001\n",
      "13: sadness positive/negative 0.001\n",
      "14: fear positive/negative 0.169\n"
     ]
    }
   ],
   "source": [
    "i = 0\n",
    "while i < len(result[0]):\n",
    "    print(str(i) +\": \"+ emoji_dict[str(i)], round(result[0][i], 3))\n",
    "    i += 1"
   ]
  },
  {
   "cell_type": "code",
   "execution_count": 278,
   "id": "f91877a8",
   "metadata": {},
   "outputs": [],
   "source": [
    "# LogisticRegression       \n",
    "# SVC                       \n",
    "# RandomForestClassifier    \n",
    "# DecisionTreeClassifier    \n",
    "# GaussianNB               \n",
    "# GradientBoostingClassifier"
   ]
  },
  {
   "cell_type": "code",
   "execution_count": 279,
   "id": "664fb923",
   "metadata": {},
   "outputs": [
    {
     "name": "stdout",
     "output_type": "stream",
     "text": [
      "LogisticRegression:\n",
      "0: smile positive/negative 0.59\n",
      "1: no_emotion neutral/skeptical 0.105\n",
      "2: joy positive 0.097\n",
      "3: no_emotion positive/negative 0.075\n",
      "4: sadness negative 0.044\n",
      "5: fear negative 0.014\n",
      "6: shame negative 0.013\n",
      "7: anger negative 0.014\n",
      "8: disgust negative 0.014\n",
      "9: surprise positive/negative 0.02\n",
      "10: disgust neutral/skeptical 0.004\n",
      "11: surprise negative 0.004\n",
      "12: no_emotion negative 0.004\n",
      "13: sadness positive/negative 0.002\n",
      "14: fear positive/negative 0.001\n",
      "SVC:\n",
      "0: smile positive/negative 0.638\n",
      "1: no_emotion neutral/skeptical 0.111\n",
      "2: joy positive 0.079\n",
      "3: no_emotion positive/negative 0.055\n",
      "4: sadness negative 0.039\n",
      "5: fear negative 0.013\n",
      "6: shame negative 0.013\n",
      "7: anger negative 0.011\n",
      "8: disgust negative 0.011\n",
      "9: surprise positive/negative 0.014\n",
      "10: disgust neutral/skeptical 0.004\n",
      "11: surprise negative 0.004\n",
      "12: no_emotion negative 0.003\n",
      "13: sadness positive/negative 0.002\n",
      "14: fear positive/negative 0.001\n",
      "RandomForestClassifier:\n",
      "0: smile positive/negative 0.18\n",
      "1: no_emotion neutral/skeptical 0.09\n",
      "2: joy positive 0.1\n",
      "3: no_emotion positive/negative 0.41\n",
      "4: sadness negative 0.04\n",
      "5: fear negative 0.05\n",
      "6: shame negative 0.04\n",
      "7: anger negative 0.01\n",
      "8: disgust negative 0.06\n",
      "9: surprise positive/negative 0.0\n",
      "10: disgust neutral/skeptical 0.0\n",
      "11: surprise negative 0.01\n",
      "12: no_emotion negative 0.0\n",
      "13: sadness positive/negative 0.0\n",
      "14: fear positive/negative 0.01\n",
      "DecisionTreeClassifier:\n",
      "0: smile positive/negative 1.0\n",
      "1: no_emotion neutral/skeptical 0.0\n",
      "2: joy positive 0.0\n",
      "3: no_emotion positive/negative 0.0\n",
      "4: sadness negative 0.0\n",
      "5: fear negative 0.0\n",
      "6: shame negative 0.0\n",
      "7: anger negative 0.0\n",
      "8: disgust negative 0.0\n",
      "9: surprise positive/negative 0.0\n",
      "10: disgust neutral/skeptical 0.0\n",
      "11: surprise negative 0.0\n",
      "12: no_emotion negative 0.0\n",
      "13: sadness positive/negative 0.0\n",
      "14: fear positive/negative 0.0\n",
      "GaussianNB:\n",
      "0: smile positive/negative 0.0\n",
      "1: no_emotion neutral/skeptical 0.0\n",
      "2: joy positive 0.0\n",
      "3: no_emotion positive/negative 0.0\n",
      "4: sadness negative 0.0\n",
      "5: fear negative 0.0\n",
      "6: shame negative 0.0\n",
      "7: anger negative 0.0\n",
      "8: disgust negative 0.0\n",
      "9: surprise positive/negative 0.0\n",
      "10: disgust neutral/skeptical 0.0\n",
      "11: surprise negative 0.0\n",
      "12: no_emotion negative 0.0\n",
      "13: sadness positive/negative 0.0\n",
      "14: fear positive/negative 1.0\n",
      "GradientBoostingClassifier:\n",
      "0: smile positive/negative 0.617\n",
      "1: no_emotion neutral/skeptical 0.107\n",
      "2: joy positive 0.111\n",
      "3: no_emotion positive/negative 0.095\n",
      "4: sadness negative 0.055\n",
      "5: fear negative 0.003\n",
      "6: shame negative 0.004\n",
      "7: anger negative 0.001\n",
      "8: disgust negative 0.001\n",
      "9: surprise positive/negative 0.004\n",
      "10: disgust neutral/skeptical 0.0\n",
      "11: surprise negative 0.001\n",
      "12: no_emotion negative 0.0\n",
      "13: sadness positive/negative 0.0\n",
      "14: fear positive/negative 0.0\n"
     ]
    }
   ],
   "source": [
    "#result = []\n",
    "for clf in clifs:\n",
    "    try:\n",
    "        result = clf.predict_proba(_vector)\n",
    "        print(clf.__class__.__name__ + \":\")\n",
    "        i = 0\n",
    "        while i < len(result[0]):\n",
    "            print(str(i) +\": \"+ emoji_dict[str(i)], round(result[0][i], 3))\n",
    "            i += 1\n",
    "    except:\n",
    "        print(clf.__class__.__name__)\n",
    "        print(\"No predict_proba\")"
   ]
  },
  {
   "cell_type": "code",
   "execution_count": null,
   "id": "e5175b50",
   "metadata": {},
   "outputs": [],
   "source": []
  }
 ],
 "metadata": {
  "kernelspec": {
   "display_name": "Python 3 (ipykernel)",
   "language": "python",
   "name": "python3"
  },
  "language_info": {
   "codemirror_mode": {
    "name": "ipython",
    "version": 3
   },
   "file_extension": ".py",
   "mimetype": "text/x-python",
   "name": "python",
   "nbconvert_exporter": "python",
   "pygments_lexer": "ipython3",
   "version": "3.9.13"
  }
 },
 "nbformat": 4,
 "nbformat_minor": 5
}
